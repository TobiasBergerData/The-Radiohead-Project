{
 "cells": [
  {
   "cell_type": "markdown",
   "id": "ac9e5dda",
   "metadata": {},
   "source": [
    "# The Radiohead Project - What can we learn about their discography?\n",
    "\n",
    "I recently discovered this interesting data set (https://www.kaggle.com/datasets/lavagod/radiohead/versions/1?resource=download), containing all studio album songs of one of my favorite bands of all time - Radiohead.\n",
    "\n",
    "\n",
    "If you are interested in how this data was gathered, check this blog article: https://www.thompsonanalytics.com/blog/fitter-happier/\n",
    "\n",
    "\n",
    "In this notebook I want to see, if I can come to similar results using Python.\n",
    "\n",
    "\n",
    "And now, let's have some fun with it and learn something new about this band, shall we?!"
   ]
  },
  {
   "cell_type": "markdown",
   "id": "e3f3a7be",
   "metadata": {},
   "source": [
    "# Data Preperation"
   ]
  },
  {
   "cell_type": "code",
   "execution_count": 129,
   "id": "223033ea",
   "metadata": {},
   "outputs": [],
   "source": [
    "#Loading some libraries first\n",
    "\n",
    "# Data\n",
    "\n",
    "import numpy as np\n",
    "import pandas as pd \n",
    "\n",
    "#Plots\n",
    "\n",
    "import plotly.express as px \n",
    "import matplotlib.pyplot as plt\n"
   ]
  },
  {
   "cell_type": "code",
   "execution_count": 130,
   "id": "08cbb559",
   "metadata": {},
   "outputs": [],
   "source": [
    "#Loading the data\n",
    "\n",
    "url = 'https://raw.githubusercontent.com/TobiasBergerData/The-Radiohead-Project/main/radiohead_with_sentiment.csv'\n",
    "#url = 'https://raw.githubusercontent.com/TobiasBergerData/The-Radiohead-Project/main/radiohead_with_sentiment_spacy.csv'\n",
    "#url = 'https://raw.githubusercontent.com/TobiasBergerData/The-Radiohead-Project/main/radiohead_with_sentiment_gensim.csv'\n",
    "#url = 'https://raw.githubusercontent.com/TobiasBergerData/The-Radiohead-Project/main/radiohead_with_sentiment_scikitlearn.csv'\n",
    "\n",
    "df_radiohead = pd.read_csv( url,\n",
    "                        sep=',',\n",
    "                        index_col=False,\n",
    "                        skipinitialspace=True,\n",
    "                        encoding='cp1252',\n",
    "                        )"
   ]
  },
  {
   "cell_type": "code",
   "execution_count": 131,
   "id": "c5e6cb76",
   "metadata": {},
   "outputs": [
    {
     "name": "stdout",
     "output_type": "stream",
     "text": [
      "<class 'pandas.core.frame.DataFrame'>\n",
      "RangeIndex: 101 entries, 0 to 100\n",
      "Data columns (total 22 columns):\n",
      " #   Column                Non-Null Count  Dtype  \n",
      "---  ------                --------------  -----  \n",
      " 0   Artist                101 non-null    object \n",
      " 1   Album                 101 non-null    object \n",
      " 2   Track                 101 non-null    object \n",
      " 3   TrackNumber_On_Album  101 non-null    int64  \n",
      " 4   Duration_ms           101 non-null    int64  \n",
      " 5   ReleaseYear           101 non-null    int64  \n",
      " 6   Valence               101 non-null    float64\n",
      " 7   Energy                101 non-null    float64\n",
      " 8   Danceability          101 non-null    float64\n",
      " 9   Acousticness          101 non-null    float64\n",
      " 10  Instrumentalness      101 non-null    float64\n",
      " 11  Speechiness           101 non-null    float64\n",
      " 12  Liveness              101 non-null    float64\n",
      " 13  Tempo                 101 non-null    float64\n",
      " 14  Key                   101 non-null    int64  \n",
      " 15  Mode                  101 non-null    int64  \n",
      " 16  TimeSignature         101 non-null    int64  \n",
      " 17  Lyrics                98 non-null     object \n",
      " 18  Total_Words           101 non-null    float64\n",
      " 19  Sad_Words             101 non-null    float64\n",
      " 20  Pct_Sad_Words         101 non-null    float64\n",
      " 21  Lyrical_Density       101 non-null    float64\n",
      "dtypes: float64(12), int64(6), object(4)\n",
      "memory usage: 17.5+ KB\n"
     ]
    }
   ],
   "source": [
    "#Checking the data\n",
    "\n",
    "df_radiohead.info()"
   ]
  },
  {
   "cell_type": "markdown",
   "id": "0dd80f07",
   "metadata": {},
   "source": [
    "We see that there are 3 NaNs in the lyrics column. To check the validity of this dataset, we should examine, which tracks these are:"
   ]
  },
  {
   "cell_type": "code",
   "execution_count": 132,
   "id": "10c3e11a",
   "metadata": {},
   "outputs": [
    {
     "data": {
      "text/html": [
       "<div>\n",
       "<style scoped>\n",
       "    .dataframe tbody tr th:only-of-type {\n",
       "        vertical-align: middle;\n",
       "    }\n",
       "\n",
       "    .dataframe tbody tr th {\n",
       "        vertical-align: top;\n",
       "    }\n",
       "\n",
       "    .dataframe thead th {\n",
       "        text-align: right;\n",
       "    }\n",
       "</style>\n",
       "<table border=\"1\" class=\"dataframe\">\n",
       "  <thead>\n",
       "    <tr style=\"text-align: right;\">\n",
       "      <th></th>\n",
       "      <th>Artist</th>\n",
       "      <th>Album</th>\n",
       "      <th>Track</th>\n",
       "      <th>TrackNumber_On_Album</th>\n",
       "      <th>Duration_ms</th>\n",
       "      <th>ReleaseYear</th>\n",
       "      <th>Valence</th>\n",
       "      <th>Energy</th>\n",
       "      <th>Danceability</th>\n",
       "      <th>Acousticness</th>\n",
       "      <th>...</th>\n",
       "      <th>Liveness</th>\n",
       "      <th>Tempo</th>\n",
       "      <th>Key</th>\n",
       "      <th>Mode</th>\n",
       "      <th>TimeSignature</th>\n",
       "      <th>Lyrics</th>\n",
       "      <th>Total_Words</th>\n",
       "      <th>Sad_Words</th>\n",
       "      <th>Pct_Sad_Words</th>\n",
       "      <th>Lyrical_Density</th>\n",
       "    </tr>\n",
       "  </thead>\n",
       "  <tbody>\n",
       "    <tr>\n",
       "      <th>40</th>\n",
       "      <td>Radiohead</td>\n",
       "      <td>Kid A</td>\n",
       "      <td>Treefingers</td>\n",
       "      <td>5</td>\n",
       "      <td>222600</td>\n",
       "      <td>2000</td>\n",
       "      <td>0.0577</td>\n",
       "      <td>0.146</td>\n",
       "      <td>0.165</td>\n",
       "      <td>0.827</td>\n",
       "      <td>...</td>\n",
       "      <td>0.1090</td>\n",
       "      <td>134.508</td>\n",
       "      <td>6</td>\n",
       "      <td>1</td>\n",
       "      <td>3</td>\n",
       "      <td>NaN</td>\n",
       "      <td>0.0</td>\n",
       "      <td>0.0</td>\n",
       "      <td>0.0</td>\n",
       "      <td>0.0</td>\n",
       "    </tr>\n",
       "    <tr>\n",
       "      <th>46</th>\n",
       "      <td>Radiohead</td>\n",
       "      <td>Kid A</td>\n",
       "      <td>Untitled</td>\n",
       "      <td>11</td>\n",
       "      <td>52694</td>\n",
       "      <td>2000</td>\n",
       "      <td>0.0769</td>\n",
       "      <td>0.225</td>\n",
       "      <td>0.369</td>\n",
       "      <td>0.992</td>\n",
       "      <td>...</td>\n",
       "      <td>0.1060</td>\n",
       "      <td>64.655</td>\n",
       "      <td>7</td>\n",
       "      <td>1</td>\n",
       "      <td>3</td>\n",
       "      <td>NaN</td>\n",
       "      <td>0.0</td>\n",
       "      <td>0.0</td>\n",
       "      <td>0.0</td>\n",
       "      <td>0.0</td>\n",
       "    </tr>\n",
       "    <tr>\n",
       "      <th>55</th>\n",
       "      <td>Radiohead</td>\n",
       "      <td>Amnesiac</td>\n",
       "      <td>Hunting Bears</td>\n",
       "      <td>9</td>\n",
       "      <td>121200</td>\n",
       "      <td>2001</td>\n",
       "      <td>0.0736</td>\n",
       "      <td>0.264</td>\n",
       "      <td>0.295</td>\n",
       "      <td>0.853</td>\n",
       "      <td>...</td>\n",
       "      <td>0.0962</td>\n",
       "      <td>143.191</td>\n",
       "      <td>7</td>\n",
       "      <td>1</td>\n",
       "      <td>3</td>\n",
       "      <td>NaN</td>\n",
       "      <td>0.0</td>\n",
       "      <td>0.0</td>\n",
       "      <td>0.0</td>\n",
       "      <td>0.0</td>\n",
       "    </tr>\n",
       "  </tbody>\n",
       "</table>\n",
       "<p>3 rows × 22 columns</p>\n",
       "</div>"
      ],
      "text/plain": [
       "       Artist     Album          Track  TrackNumber_On_Album  Duration_ms   \n",
       "40  Radiohead     Kid A    Treefingers                     5       222600  \\\n",
       "46  Radiohead     Kid A       Untitled                    11        52694   \n",
       "55  Radiohead  Amnesiac  Hunting Bears                     9       121200   \n",
       "\n",
       "    ReleaseYear  Valence  Energy  Danceability  Acousticness  ...  Liveness   \n",
       "40         2000   0.0577   0.146         0.165         0.827  ...    0.1090  \\\n",
       "46         2000   0.0769   0.225         0.369         0.992  ...    0.1060   \n",
       "55         2001   0.0736   0.264         0.295         0.853  ...    0.0962   \n",
       "\n",
       "      Tempo  Key  Mode  TimeSignature  Lyrics  Total_Words Sad_Words   \n",
       "40  134.508    6     1              3     NaN          0.0       0.0  \\\n",
       "46   64.655    7     1              3     NaN          0.0       0.0   \n",
       "55  143.191    7     1              3     NaN          0.0       0.0   \n",
       "\n",
       "    Pct_Sad_Words  Lyrical_Density  \n",
       "40            0.0              0.0  \n",
       "46            0.0              0.0  \n",
       "55            0.0              0.0  \n",
       "\n",
       "[3 rows x 22 columns]"
      ]
     },
     "execution_count": 132,
     "metadata": {},
     "output_type": "execute_result"
    }
   ],
   "source": [
    "#Checking for NaNs\n",
    "df_radiohead.loc[df_radiohead.loc[:,'Lyrics'].isna()]"
   ]
  },
  {
   "cell_type": "markdown",
   "id": "97c92edb",
   "metadata": {},
   "source": [
    "We see, that only true instrumental songs come up, which is fine. They do indeed not have any words but must be left in as part of the albums recorded. The dataset is correct. It will be interesting to see how these songs with interlude character will influence scores and stats.\n",
    "\n",
    "Nerdy side note: \n",
    "\n",
    "*Technically \"Untitled\" wasn't even its own song in the initial release of Kid A, but a hidden track that is part of Motion Picture Soundtrack. Spotify did split it up, when putting it up on the platform. However, we will treat it as its own song in this analysis.*"
   ]
  },
  {
   "cell_type": "code",
   "execution_count": 133,
   "id": "fe524d63",
   "metadata": {},
   "outputs": [
    {
     "data": {
      "text/html": [
       "<div>\n",
       "<style scoped>\n",
       "    .dataframe tbody tr th:only-of-type {\n",
       "        vertical-align: middle;\n",
       "    }\n",
       "\n",
       "    .dataframe tbody tr th {\n",
       "        vertical-align: top;\n",
       "    }\n",
       "\n",
       "    .dataframe thead th {\n",
       "        text-align: right;\n",
       "    }\n",
       "</style>\n",
       "<table border=\"1\" class=\"dataframe\">\n",
       "  <thead>\n",
       "    <tr style=\"text-align: right;\">\n",
       "      <th></th>\n",
       "      <th>TrackNumber_On_Album</th>\n",
       "      <th>Duration_ms</th>\n",
       "      <th>ReleaseYear</th>\n",
       "      <th>Valence</th>\n",
       "      <th>Energy</th>\n",
       "      <th>Danceability</th>\n",
       "      <th>Acousticness</th>\n",
       "      <th>Instrumentalness</th>\n",
       "      <th>Speechiness</th>\n",
       "      <th>Liveness</th>\n",
       "      <th>Tempo</th>\n",
       "      <th>Key</th>\n",
       "      <th>Mode</th>\n",
       "      <th>TimeSignature</th>\n",
       "      <th>Total_Words</th>\n",
       "      <th>Sad_Words</th>\n",
       "      <th>Pct_Sad_Words</th>\n",
       "      <th>Lyrical_Density</th>\n",
       "    </tr>\n",
       "  </thead>\n",
       "  <tbody>\n",
       "    <tr>\n",
       "      <th>count</th>\n",
       "      <td>101.000000</td>\n",
       "      <td>101.000000</td>\n",
       "      <td>101.000000</td>\n",
       "      <td>101.000000</td>\n",
       "      <td>101.000000</td>\n",
       "      <td>101.00000</td>\n",
       "      <td>101.000000</td>\n",
       "      <td>101.000000</td>\n",
       "      <td>101.000000</td>\n",
       "      <td>101.000000</td>\n",
       "      <td>101.000000</td>\n",
       "      <td>101.000000</td>\n",
       "      <td>101.000000</td>\n",
       "      <td>101.000000</td>\n",
       "      <td>101.000000</td>\n",
       "      <td>101.000000</td>\n",
       "      <td>101.000000</td>\n",
       "      <td>101.000000</td>\n",
       "    </tr>\n",
       "    <tr>\n",
       "      <th>mean</th>\n",
       "      <td>6.217822</td>\n",
       "      <td>252550.584158</td>\n",
       "      <td>2002.049505</td>\n",
       "      <td>0.317191</td>\n",
       "      <td>0.558554</td>\n",
       "      <td>0.39700</td>\n",
       "      <td>0.346389</td>\n",
       "      <td>0.392118</td>\n",
       "      <td>0.050522</td>\n",
       "      <td>0.157369</td>\n",
       "      <td>118.171634</td>\n",
       "      <td>5.336634</td>\n",
       "      <td>0.584158</td>\n",
       "      <td>3.851485</td>\n",
       "      <td>69.455446</td>\n",
       "      <td>4.019802</td>\n",
       "      <td>0.051459</td>\n",
       "      <td>0.285989</td>\n",
       "    </tr>\n",
       "    <tr>\n",
       "      <th>std</th>\n",
       "      <td>3.416442</td>\n",
       "      <td>60278.963655</td>\n",
       "      <td>7.058861</td>\n",
       "      <td>0.219619</td>\n",
       "      <td>0.231679</td>\n",
       "      <td>0.15709</td>\n",
       "      <td>0.353678</td>\n",
       "      <td>0.330421</td>\n",
       "      <td>0.046542</td>\n",
       "      <td>0.102232</td>\n",
       "      <td>31.409519</td>\n",
       "      <td>3.441736</td>\n",
       "      <td>0.495325</td>\n",
       "      <td>0.497718</td>\n",
       "      <td>34.500007</td>\n",
       "      <td>5.718357</td>\n",
       "      <td>0.061087</td>\n",
       "      <td>0.174365</td>\n",
       "    </tr>\n",
       "    <tr>\n",
       "      <th>min</th>\n",
       "      <td>1.000000</td>\n",
       "      <td>52694.000000</td>\n",
       "      <td>1993.000000</td>\n",
       "      <td>0.037800</td>\n",
       "      <td>0.110000</td>\n",
       "      <td>0.10500</td>\n",
       "      <td>0.000020</td>\n",
       "      <td>0.000004</td>\n",
       "      <td>0.025400</td>\n",
       "      <td>0.054500</td>\n",
       "      <td>58.996000</td>\n",
       "      <td>0.000000</td>\n",
       "      <td>0.000000</td>\n",
       "      <td>1.000000</td>\n",
       "      <td>0.000000</td>\n",
       "      <td>0.000000</td>\n",
       "      <td>0.000000</td>\n",
       "      <td>0.000000</td>\n",
       "    </tr>\n",
       "    <tr>\n",
       "      <th>25%</th>\n",
       "      <td>3.000000</td>\n",
       "      <td>217800.000000</td>\n",
       "      <td>1997.000000</td>\n",
       "      <td>0.135000</td>\n",
       "      <td>0.383000</td>\n",
       "      <td>0.27100</td>\n",
       "      <td>0.019300</td>\n",
       "      <td>0.054000</td>\n",
       "      <td>0.031800</td>\n",
       "      <td>0.097400</td>\n",
       "      <td>91.915000</td>\n",
       "      <td>2.000000</td>\n",
       "      <td>0.000000</td>\n",
       "      <td>4.000000</td>\n",
       "      <td>47.000000</td>\n",
       "      <td>0.000000</td>\n",
       "      <td>0.000000</td>\n",
       "      <td>0.178805</td>\n",
       "    </tr>\n",
       "    <tr>\n",
       "      <th>50%</th>\n",
       "      <td>6.000000</td>\n",
       "      <td>257480.000000</td>\n",
       "      <td>2001.000000</td>\n",
       "      <td>0.273000</td>\n",
       "      <td>0.587000</td>\n",
       "      <td>0.36600</td>\n",
       "      <td>0.178000</td>\n",
       "      <td>0.338000</td>\n",
       "      <td>0.035800</td>\n",
       "      <td>0.111000</td>\n",
       "      <td>114.436000</td>\n",
       "      <td>5.000000</td>\n",
       "      <td>1.000000</td>\n",
       "      <td>4.000000</td>\n",
       "      <td>64.000000</td>\n",
       "      <td>2.000000</td>\n",
       "      <td>0.033333</td>\n",
       "      <td>0.261872</td>\n",
       "    </tr>\n",
       "    <tr>\n",
       "      <th>75%</th>\n",
       "      <td>9.000000</td>\n",
       "      <td>290213.000000</td>\n",
       "      <td>2007.000000</td>\n",
       "      <td>0.480000</td>\n",
       "      <td>0.735000</td>\n",
       "      <td>0.51500</td>\n",
       "      <td>0.712000</td>\n",
       "      <td>0.725000</td>\n",
       "      <td>0.051900</td>\n",
       "      <td>0.180000</td>\n",
       "      <td>139.149000</td>\n",
       "      <td>7.000000</td>\n",
       "      <td>1.000000</td>\n",
       "      <td>4.000000</td>\n",
       "      <td>89.000000</td>\n",
       "      <td>6.000000</td>\n",
       "      <td>0.069767</td>\n",
       "      <td>0.354884</td>\n",
       "    </tr>\n",
       "    <tr>\n",
       "      <th>max</th>\n",
       "      <td>14.000000</td>\n",
       "      <td>387213.000000</td>\n",
       "      <td>2016.000000</td>\n",
       "      <td>0.844000</td>\n",
       "      <td>0.976000</td>\n",
       "      <td>0.72100</td>\n",
       "      <td>0.992000</td>\n",
       "      <td>0.941000</td>\n",
       "      <td>0.343000</td>\n",
       "      <td>0.619000</td>\n",
       "      <td>200.127000</td>\n",
       "      <td>11.000000</td>\n",
       "      <td>1.000000</td>\n",
       "      <td>5.000000</td>\n",
       "      <td>181.000000</td>\n",
       "      <td>40.000000</td>\n",
       "      <td>0.350877</td>\n",
       "      <td>1.261367</td>\n",
       "    </tr>\n",
       "  </tbody>\n",
       "</table>\n",
       "</div>"
      ],
      "text/plain": [
       "       TrackNumber_On_Album    Duration_ms  ReleaseYear     Valence   \n",
       "count            101.000000     101.000000   101.000000  101.000000  \\\n",
       "mean               6.217822  252550.584158  2002.049505    0.317191   \n",
       "std                3.416442   60278.963655     7.058861    0.219619   \n",
       "min                1.000000   52694.000000  1993.000000    0.037800   \n",
       "25%                3.000000  217800.000000  1997.000000    0.135000   \n",
       "50%                6.000000  257480.000000  2001.000000    0.273000   \n",
       "75%                9.000000  290213.000000  2007.000000    0.480000   \n",
       "max               14.000000  387213.000000  2016.000000    0.844000   \n",
       "\n",
       "           Energy  Danceability  Acousticness  Instrumentalness  Speechiness   \n",
       "count  101.000000     101.00000    101.000000        101.000000   101.000000  \\\n",
       "mean     0.558554       0.39700      0.346389          0.392118     0.050522   \n",
       "std      0.231679       0.15709      0.353678          0.330421     0.046542   \n",
       "min      0.110000       0.10500      0.000020          0.000004     0.025400   \n",
       "25%      0.383000       0.27100      0.019300          0.054000     0.031800   \n",
       "50%      0.587000       0.36600      0.178000          0.338000     0.035800   \n",
       "75%      0.735000       0.51500      0.712000          0.725000     0.051900   \n",
       "max      0.976000       0.72100      0.992000          0.941000     0.343000   \n",
       "\n",
       "         Liveness       Tempo         Key        Mode  TimeSignature   \n",
       "count  101.000000  101.000000  101.000000  101.000000     101.000000  \\\n",
       "mean     0.157369  118.171634    5.336634    0.584158       3.851485   \n",
       "std      0.102232   31.409519    3.441736    0.495325       0.497718   \n",
       "min      0.054500   58.996000    0.000000    0.000000       1.000000   \n",
       "25%      0.097400   91.915000    2.000000    0.000000       4.000000   \n",
       "50%      0.111000  114.436000    5.000000    1.000000       4.000000   \n",
       "75%      0.180000  139.149000    7.000000    1.000000       4.000000   \n",
       "max      0.619000  200.127000   11.000000    1.000000       5.000000   \n",
       "\n",
       "       Total_Words   Sad_Words  Pct_Sad_Words  Lyrical_Density  \n",
       "count   101.000000  101.000000     101.000000       101.000000  \n",
       "mean     69.455446    4.019802       0.051459         0.285989  \n",
       "std      34.500007    5.718357       0.061087         0.174365  \n",
       "min       0.000000    0.000000       0.000000         0.000000  \n",
       "25%      47.000000    0.000000       0.000000         0.178805  \n",
       "50%      64.000000    2.000000       0.033333         0.261872  \n",
       "75%      89.000000    6.000000       0.069767         0.354884  \n",
       "max     181.000000   40.000000       0.350877         1.261367  "
      ]
     },
     "execution_count": 133,
     "metadata": {},
     "output_type": "execute_result"
    }
   ],
   "source": [
    "#Get an overview over the general variables and their distributions\n",
    "\n",
    "df_radiohead.describe()"
   ]
  },
  {
   "cell_type": "code",
   "execution_count": 134,
   "id": "9205425a",
   "metadata": {},
   "outputs": [],
   "source": [
    "#Converting the duration of the songs to minutes\n",
    "\n",
    "df_radiohead['Duration_mins'] = df_radiohead['Duration_ms'] / 60000"
   ]
  },
  {
   "cell_type": "markdown",
   "id": "92bc88d1",
   "metadata": {},
   "source": [
    "# EDA"
   ]
  },
  {
   "cell_type": "markdown",
   "id": "f26d343d",
   "metadata": {},
   "source": [
    "## Albums overview\n",
    "\n",
    "We can start with the basics. Up to this point Radiohead has released 9 studio albums. Let's check them out and see how the band has progressed over time."
   ]
  },
  {
   "cell_type": "markdown",
   "id": "616ea9ec",
   "metadata": {},
   "source": [
    "### Hard fact #1 - Number of Tracks\n",
    "\n"
   ]
  },
  {
   "cell_type": "code",
   "execution_count": 135,
   "id": "b8cf4679",
   "metadata": {},
   "outputs": [
    {
     "data": {
      "application/vnd.plotly.v1+json": {
       "config": {
        "plotlyServerURL": "https://plot.ly"
       },
       "data": [
        {
         "alignmentgroup": "True",
         "hovertemplate": "<b>%{hovertext}</b><br><br>Album Name=%{x}<br>Number of Tracks=%{y}<extra></extra>",
         "hovertext": [
          "You",
          "Creep",
          "How Do You?",
          "Stop Whispering",
          "Thinking About You",
          "Anyone Can Play Guitar",
          "Ripcord",
          "Vegetable",
          "Prove Yourself",
          "I Can't",
          "Lurgee",
          "Blow Out"
         ],
         "legendgroup": "Pablo Honey",
         "marker": {
          "color": "#636efa",
          "pattern": {
           "shape": ""
          }
         },
         "name": "Pablo Honey",
         "offsetgroup": "Pablo Honey",
         "orientation": "v",
         "showlegend": true,
         "textposition": "auto",
         "type": "bar",
         "x": [
          "Pablo Honey",
          "Pablo Honey",
          "Pablo Honey",
          "Pablo Honey",
          "Pablo Honey",
          "Pablo Honey",
          "Pablo Honey",
          "Pablo Honey",
          "Pablo Honey",
          "Pablo Honey",
          "Pablo Honey",
          "Pablo Honey"
         ],
         "xaxis": "x",
         "y": [
          1,
          1,
          1,
          1,
          1,
          1,
          1,
          1,
          1,
          1,
          1,
          1
         ],
         "yaxis": "y"
        },
        {
         "alignmentgroup": "True",
         "hovertemplate": "<b>%{hovertext}</b><br><br>Album Name=%{x}<br>Number of Tracks=%{y}<extra></extra>",
         "hovertext": [
          "Planet Telex",
          "The Bends",
          "High and Dry",
          "Fake Plastic Trees",
          "Bones",
          "(Nice Dream)",
          "Just",
          "My Iron Lung",
          "Bullet Proof ... I Wish I Was",
          "Black Star",
          "Sulk",
          "Street Spirit (Fade Out)"
         ],
         "legendgroup": "The Bends",
         "marker": {
          "color": "#EF553B",
          "pattern": {
           "shape": ""
          }
         },
         "name": "The Bends",
         "offsetgroup": "The Bends",
         "orientation": "v",
         "showlegend": true,
         "textposition": "auto",
         "type": "bar",
         "x": [
          "The Bends",
          "The Bends",
          "The Bends",
          "The Bends",
          "The Bends",
          "The Bends",
          "The Bends",
          "The Bends",
          "The Bends",
          "The Bends",
          "The Bends",
          "The Bends"
         ],
         "xaxis": "x",
         "y": [
          1,
          1,
          1,
          1,
          1,
          1,
          1,
          1,
          1,
          1,
          1,
          1
         ],
         "yaxis": "y"
        },
        {
         "alignmentgroup": "True",
         "hovertemplate": "<b>%{hovertext}</b><br><br>Album Name=%{x}<br>Number of Tracks=%{y}<extra></extra>",
         "hovertext": [
          "Airbag",
          "Paranoid Android",
          "Subterranean Homesick Alien",
          "Exit Music (For A Film)",
          "Let Down",
          "Karma Police",
          "Fitter Happier",
          "Electioneering",
          "Climbing Up the Walls",
          "No Surprises",
          "Lucky",
          "The Tourist"
         ],
         "legendgroup": "OK Computer",
         "marker": {
          "color": "#00cc96",
          "pattern": {
           "shape": ""
          }
         },
         "name": "OK Computer",
         "offsetgroup": "OK Computer",
         "orientation": "v",
         "showlegend": true,
         "textposition": "auto",
         "type": "bar",
         "x": [
          "OK Computer",
          "OK Computer",
          "OK Computer",
          "OK Computer",
          "OK Computer",
          "OK Computer",
          "OK Computer",
          "OK Computer",
          "OK Computer",
          "OK Computer",
          "OK Computer",
          "OK Computer"
         ],
         "xaxis": "x",
         "y": [
          1,
          1,
          1,
          1,
          1,
          1,
          1,
          1,
          1,
          1,
          1,
          1
         ],
         "yaxis": "y"
        },
        {
         "alignmentgroup": "True",
         "hovertemplate": "<b>%{hovertext}</b><br><br>Album Name=%{x}<br>Number of Tracks=%{y}<extra></extra>",
         "hovertext": [
          "Everything In Its Right Place",
          "Kid A",
          "The National Anthem",
          "How to Disappear Completely",
          "Treefingers",
          "Optimistic",
          "In Limbo",
          "Idioteque",
          "Morning Bell",
          "Motion Picture Soundtrack",
          "Untitled"
         ],
         "legendgroup": "Kid A",
         "marker": {
          "color": "#ab63fa",
          "pattern": {
           "shape": ""
          }
         },
         "name": "Kid A",
         "offsetgroup": "Kid A",
         "orientation": "v",
         "showlegend": true,
         "textposition": "auto",
         "type": "bar",
         "x": [
          "Kid A",
          "Kid A",
          "Kid A",
          "Kid A",
          "Kid A",
          "Kid A",
          "Kid A",
          "Kid A",
          "Kid A",
          "Kid A",
          "Kid A"
         ],
         "xaxis": "x",
         "y": [
          1,
          1,
          1,
          1,
          1,
          1,
          1,
          1,
          1,
          1,
          1
         ],
         "yaxis": "y"
        },
        {
         "alignmentgroup": "True",
         "hovertemplate": "<b>%{hovertext}</b><br><br>Album Name=%{x}<br>Number of Tracks=%{y}<extra></extra>",
         "hovertext": [
          "Packt Like Sardines In a Crushd Tin Box",
          "Pyramid Song",
          "Pulk/Pull Revolving Doors",
          "You And Whose Army?",
          "I Might Be Wrong",
          "Knives Out",
          "Morning Bell/Amnesiac",
          "Dollars and Cents",
          "Hunting Bears",
          "Like Spinning Plates",
          "Life In a Glasshouse"
         ],
         "legendgroup": "Amnesiac",
         "marker": {
          "color": "#FFA15A",
          "pattern": {
           "shape": ""
          }
         },
         "name": "Amnesiac",
         "offsetgroup": "Amnesiac",
         "orientation": "v",
         "showlegend": true,
         "textposition": "auto",
         "type": "bar",
         "x": [
          "Amnesiac",
          "Amnesiac",
          "Amnesiac",
          "Amnesiac",
          "Amnesiac",
          "Amnesiac",
          "Amnesiac",
          "Amnesiac",
          "Amnesiac",
          "Amnesiac",
          "Amnesiac"
         ],
         "xaxis": "x",
         "y": [
          1,
          1,
          1,
          1,
          1,
          1,
          1,
          1,
          1,
          1,
          1
         ],
         "yaxis": "y"
        },
        {
         "alignmentgroup": "True",
         "hovertemplate": "<b>%{hovertext}</b><br><br>Album Name=%{x}<br>Number of Tracks=%{y}<extra></extra>",
         "hovertext": [
          "2 + 2 = 5",
          "Sit Down. Stand Up",
          "Sail To The Moon",
          "Backdrifts",
          "Go To Sleep",
          "Where I End and You Begin",
          "We Suck Young Blood",
          "The Gloaming",
          "There, There",
          "I Will",
          "A Punch Up at a Wedding",
          "Myxomatosis",
          "Scatterbrain",
          "A Wolf At the Door"
         ],
         "legendgroup": "Hail To the Thief",
         "marker": {
          "color": "#19d3f3",
          "pattern": {
           "shape": ""
          }
         },
         "name": "Hail To the Thief",
         "offsetgroup": "Hail To the Thief",
         "orientation": "v",
         "showlegend": true,
         "textposition": "auto",
         "type": "bar",
         "x": [
          "Hail To the Thief",
          "Hail To the Thief",
          "Hail To the Thief",
          "Hail To the Thief",
          "Hail To the Thief",
          "Hail To the Thief",
          "Hail To the Thief",
          "Hail To the Thief",
          "Hail To the Thief",
          "Hail To the Thief",
          "Hail To the Thief",
          "Hail To the Thief",
          "Hail To the Thief",
          "Hail To the Thief"
         ],
         "xaxis": "x",
         "y": [
          1,
          1,
          1,
          1,
          1,
          1,
          1,
          1,
          1,
          1,
          1,
          1,
          1,
          1
         ],
         "yaxis": "y"
        },
        {
         "alignmentgroup": "True",
         "hovertemplate": "<b>%{hovertext}</b><br><br>Album Name=%{x}<br>Number of Tracks=%{y}<extra></extra>",
         "hovertext": [
          "15 Step",
          "Bodysnatchers",
          "Nude",
          "Weird Fishes/ Arpeggi",
          "All I Need",
          "Faust Arp",
          "Reckoner",
          "House Of Cards",
          "Jigsaw Falling Into Place",
          "Videotape"
         ],
         "legendgroup": "In Rainbows",
         "marker": {
          "color": "#FF6692",
          "pattern": {
           "shape": ""
          }
         },
         "name": "In Rainbows",
         "offsetgroup": "In Rainbows",
         "orientation": "v",
         "showlegend": true,
         "textposition": "auto",
         "type": "bar",
         "x": [
          "In Rainbows",
          "In Rainbows",
          "In Rainbows",
          "In Rainbows",
          "In Rainbows",
          "In Rainbows",
          "In Rainbows",
          "In Rainbows",
          "In Rainbows",
          "In Rainbows"
         ],
         "xaxis": "x",
         "y": [
          1,
          1,
          1,
          1,
          1,
          1,
          1,
          1,
          1,
          1
         ],
         "yaxis": "y"
        },
        {
         "alignmentgroup": "True",
         "hovertemplate": "<b>%{hovertext}</b><br><br>Album Name=%{x}<br>Number of Tracks=%{y}<extra></extra>",
         "hovertext": [
          "Bloom",
          "Morning Mr Magpie",
          "Little By Little",
          "Feral",
          "Lotus Flower",
          "Codex",
          "Give Up The Ghost",
          "Separator"
         ],
         "legendgroup": "The King Of Limbs",
         "marker": {
          "color": "#B6E880",
          "pattern": {
           "shape": ""
          }
         },
         "name": "The King Of Limbs",
         "offsetgroup": "The King Of Limbs",
         "orientation": "v",
         "showlegend": true,
         "textposition": "auto",
         "type": "bar",
         "x": [
          "The King Of Limbs",
          "The King Of Limbs",
          "The King Of Limbs",
          "The King Of Limbs",
          "The King Of Limbs",
          "The King Of Limbs",
          "The King Of Limbs",
          "The King Of Limbs"
         ],
         "xaxis": "x",
         "y": [
          1,
          1,
          1,
          1,
          1,
          1,
          1,
          1
         ],
         "yaxis": "y"
        },
        {
         "alignmentgroup": "True",
         "hovertemplate": "<b>%{hovertext}</b><br><br>Album Name=%{x}<br>Number of Tracks=%{y}<extra></extra>",
         "hovertext": [
          "Burn the Witch",
          "Daydreaming",
          "Decks Dark",
          "Desert Island Disk",
          "Ful Stop",
          "Glass Eyes",
          "Identikit",
          "The Numbers",
          "Present Tense",
          "Tinker Tailor Soldier Sailor Rich Man Poor Man Beggar Man Thief",
          "True Love Waits"
         ],
         "legendgroup": "A Moon Shaped Pool",
         "marker": {
          "color": "#FF97FF",
          "pattern": {
           "shape": ""
          }
         },
         "name": "A Moon Shaped Pool",
         "offsetgroup": "A Moon Shaped Pool",
         "orientation": "v",
         "showlegend": true,
         "textposition": "auto",
         "type": "bar",
         "x": [
          "A Moon Shaped Pool",
          "A Moon Shaped Pool",
          "A Moon Shaped Pool",
          "A Moon Shaped Pool",
          "A Moon Shaped Pool",
          "A Moon Shaped Pool",
          "A Moon Shaped Pool",
          "A Moon Shaped Pool",
          "A Moon Shaped Pool",
          "A Moon Shaped Pool",
          "A Moon Shaped Pool"
         ],
         "xaxis": "x",
         "y": [
          1,
          1,
          1,
          1,
          1,
          1,
          1,
          1,
          1,
          1,
          1
         ],
         "yaxis": "y"
        }
       ],
       "layout": {
        "barmode": "relative",
        "legend": {
         "title": {
          "text": "Album Name"
         },
         "tracegroupgap": 0
        },
        "template": {
         "data": {
          "bar": [
           {
            "error_x": {
             "color": "#f2f5fa"
            },
            "error_y": {
             "color": "#f2f5fa"
            },
            "marker": {
             "line": {
              "color": "rgb(17,17,17)",
              "width": 0.5
             },
             "pattern": {
              "fillmode": "overlay",
              "size": 10,
              "solidity": 0.2
             }
            },
            "type": "bar"
           }
          ],
          "barpolar": [
           {
            "marker": {
             "line": {
              "color": "rgb(17,17,17)",
              "width": 0.5
             },
             "pattern": {
              "fillmode": "overlay",
              "size": 10,
              "solidity": 0.2
             }
            },
            "type": "barpolar"
           }
          ],
          "carpet": [
           {
            "aaxis": {
             "endlinecolor": "#A2B1C6",
             "gridcolor": "#506784",
             "linecolor": "#506784",
             "minorgridcolor": "#506784",
             "startlinecolor": "#A2B1C6"
            },
            "baxis": {
             "endlinecolor": "#A2B1C6",
             "gridcolor": "#506784",
             "linecolor": "#506784",
             "minorgridcolor": "#506784",
             "startlinecolor": "#A2B1C6"
            },
            "type": "carpet"
           }
          ],
          "choropleth": [
           {
            "colorbar": {
             "outlinewidth": 0,
             "ticks": ""
            },
            "type": "choropleth"
           }
          ],
          "contour": [
           {
            "colorbar": {
             "outlinewidth": 0,
             "ticks": ""
            },
            "colorscale": [
             [
              0,
              "#0d0887"
             ],
             [
              0.1111111111111111,
              "#46039f"
             ],
             [
              0.2222222222222222,
              "#7201a8"
             ],
             [
              0.3333333333333333,
              "#9c179e"
             ],
             [
              0.4444444444444444,
              "#bd3786"
             ],
             [
              0.5555555555555556,
              "#d8576b"
             ],
             [
              0.6666666666666666,
              "#ed7953"
             ],
             [
              0.7777777777777778,
              "#fb9f3a"
             ],
             [
              0.8888888888888888,
              "#fdca26"
             ],
             [
              1,
              "#f0f921"
             ]
            ],
            "type": "contour"
           }
          ],
          "contourcarpet": [
           {
            "colorbar": {
             "outlinewidth": 0,
             "ticks": ""
            },
            "type": "contourcarpet"
           }
          ],
          "heatmap": [
           {
            "colorbar": {
             "outlinewidth": 0,
             "ticks": ""
            },
            "colorscale": [
             [
              0,
              "#0d0887"
             ],
             [
              0.1111111111111111,
              "#46039f"
             ],
             [
              0.2222222222222222,
              "#7201a8"
             ],
             [
              0.3333333333333333,
              "#9c179e"
             ],
             [
              0.4444444444444444,
              "#bd3786"
             ],
             [
              0.5555555555555556,
              "#d8576b"
             ],
             [
              0.6666666666666666,
              "#ed7953"
             ],
             [
              0.7777777777777778,
              "#fb9f3a"
             ],
             [
              0.8888888888888888,
              "#fdca26"
             ],
             [
              1,
              "#f0f921"
             ]
            ],
            "type": "heatmap"
           }
          ],
          "heatmapgl": [
           {
            "colorbar": {
             "outlinewidth": 0,
             "ticks": ""
            },
            "colorscale": [
             [
              0,
              "#0d0887"
             ],
             [
              0.1111111111111111,
              "#46039f"
             ],
             [
              0.2222222222222222,
              "#7201a8"
             ],
             [
              0.3333333333333333,
              "#9c179e"
             ],
             [
              0.4444444444444444,
              "#bd3786"
             ],
             [
              0.5555555555555556,
              "#d8576b"
             ],
             [
              0.6666666666666666,
              "#ed7953"
             ],
             [
              0.7777777777777778,
              "#fb9f3a"
             ],
             [
              0.8888888888888888,
              "#fdca26"
             ],
             [
              1,
              "#f0f921"
             ]
            ],
            "type": "heatmapgl"
           }
          ],
          "histogram": [
           {
            "marker": {
             "pattern": {
              "fillmode": "overlay",
              "size": 10,
              "solidity": 0.2
             }
            },
            "type": "histogram"
           }
          ],
          "histogram2d": [
           {
            "colorbar": {
             "outlinewidth": 0,
             "ticks": ""
            },
            "colorscale": [
             [
              0,
              "#0d0887"
             ],
             [
              0.1111111111111111,
              "#46039f"
             ],
             [
              0.2222222222222222,
              "#7201a8"
             ],
             [
              0.3333333333333333,
              "#9c179e"
             ],
             [
              0.4444444444444444,
              "#bd3786"
             ],
             [
              0.5555555555555556,
              "#d8576b"
             ],
             [
              0.6666666666666666,
              "#ed7953"
             ],
             [
              0.7777777777777778,
              "#fb9f3a"
             ],
             [
              0.8888888888888888,
              "#fdca26"
             ],
             [
              1,
              "#f0f921"
             ]
            ],
            "type": "histogram2d"
           }
          ],
          "histogram2dcontour": [
           {
            "colorbar": {
             "outlinewidth": 0,
             "ticks": ""
            },
            "colorscale": [
             [
              0,
              "#0d0887"
             ],
             [
              0.1111111111111111,
              "#46039f"
             ],
             [
              0.2222222222222222,
              "#7201a8"
             ],
             [
              0.3333333333333333,
              "#9c179e"
             ],
             [
              0.4444444444444444,
              "#bd3786"
             ],
             [
              0.5555555555555556,
              "#d8576b"
             ],
             [
              0.6666666666666666,
              "#ed7953"
             ],
             [
              0.7777777777777778,
              "#fb9f3a"
             ],
             [
              0.8888888888888888,
              "#fdca26"
             ],
             [
              1,
              "#f0f921"
             ]
            ],
            "type": "histogram2dcontour"
           }
          ],
          "mesh3d": [
           {
            "colorbar": {
             "outlinewidth": 0,
             "ticks": ""
            },
            "type": "mesh3d"
           }
          ],
          "parcoords": [
           {
            "line": {
             "colorbar": {
              "outlinewidth": 0,
              "ticks": ""
             }
            },
            "type": "parcoords"
           }
          ],
          "pie": [
           {
            "automargin": true,
            "type": "pie"
           }
          ],
          "scatter": [
           {
            "marker": {
             "line": {
              "color": "#283442"
             }
            },
            "type": "scatter"
           }
          ],
          "scatter3d": [
           {
            "line": {
             "colorbar": {
              "outlinewidth": 0,
              "ticks": ""
             }
            },
            "marker": {
             "colorbar": {
              "outlinewidth": 0,
              "ticks": ""
             }
            },
            "type": "scatter3d"
           }
          ],
          "scattercarpet": [
           {
            "marker": {
             "colorbar": {
              "outlinewidth": 0,
              "ticks": ""
             }
            },
            "type": "scattercarpet"
           }
          ],
          "scattergeo": [
           {
            "marker": {
             "colorbar": {
              "outlinewidth": 0,
              "ticks": ""
             }
            },
            "type": "scattergeo"
           }
          ],
          "scattergl": [
           {
            "marker": {
             "line": {
              "color": "#283442"
             }
            },
            "type": "scattergl"
           }
          ],
          "scattermapbox": [
           {
            "marker": {
             "colorbar": {
              "outlinewidth": 0,
              "ticks": ""
             }
            },
            "type": "scattermapbox"
           }
          ],
          "scatterpolar": [
           {
            "marker": {
             "colorbar": {
              "outlinewidth": 0,
              "ticks": ""
             }
            },
            "type": "scatterpolar"
           }
          ],
          "scatterpolargl": [
           {
            "marker": {
             "colorbar": {
              "outlinewidth": 0,
              "ticks": ""
             }
            },
            "type": "scatterpolargl"
           }
          ],
          "scatterternary": [
           {
            "marker": {
             "colorbar": {
              "outlinewidth": 0,
              "ticks": ""
             }
            },
            "type": "scatterternary"
           }
          ],
          "surface": [
           {
            "colorbar": {
             "outlinewidth": 0,
             "ticks": ""
            },
            "colorscale": [
             [
              0,
              "#0d0887"
             ],
             [
              0.1111111111111111,
              "#46039f"
             ],
             [
              0.2222222222222222,
              "#7201a8"
             ],
             [
              0.3333333333333333,
              "#9c179e"
             ],
             [
              0.4444444444444444,
              "#bd3786"
             ],
             [
              0.5555555555555556,
              "#d8576b"
             ],
             [
              0.6666666666666666,
              "#ed7953"
             ],
             [
              0.7777777777777778,
              "#fb9f3a"
             ],
             [
              0.8888888888888888,
              "#fdca26"
             ],
             [
              1,
              "#f0f921"
             ]
            ],
            "type": "surface"
           }
          ],
          "table": [
           {
            "cells": {
             "fill": {
              "color": "#506784"
             },
             "line": {
              "color": "rgb(17,17,17)"
             }
            },
            "header": {
             "fill": {
              "color": "#2a3f5f"
             },
             "line": {
              "color": "rgb(17,17,17)"
             }
            },
            "type": "table"
           }
          ]
         },
         "layout": {
          "annotationdefaults": {
           "arrowcolor": "#f2f5fa",
           "arrowhead": 0,
           "arrowwidth": 1
          },
          "autotypenumbers": "strict",
          "coloraxis": {
           "colorbar": {
            "outlinewidth": 0,
            "ticks": ""
           }
          },
          "colorscale": {
           "diverging": [
            [
             0,
             "#8e0152"
            ],
            [
             0.1,
             "#c51b7d"
            ],
            [
             0.2,
             "#de77ae"
            ],
            [
             0.3,
             "#f1b6da"
            ],
            [
             0.4,
             "#fde0ef"
            ],
            [
             0.5,
             "#f7f7f7"
            ],
            [
             0.6,
             "#e6f5d0"
            ],
            [
             0.7,
             "#b8e186"
            ],
            [
             0.8,
             "#7fbc41"
            ],
            [
             0.9,
             "#4d9221"
            ],
            [
             1,
             "#276419"
            ]
           ],
           "sequential": [
            [
             0,
             "#0d0887"
            ],
            [
             0.1111111111111111,
             "#46039f"
            ],
            [
             0.2222222222222222,
             "#7201a8"
            ],
            [
             0.3333333333333333,
             "#9c179e"
            ],
            [
             0.4444444444444444,
             "#bd3786"
            ],
            [
             0.5555555555555556,
             "#d8576b"
            ],
            [
             0.6666666666666666,
             "#ed7953"
            ],
            [
             0.7777777777777778,
             "#fb9f3a"
            ],
            [
             0.8888888888888888,
             "#fdca26"
            ],
            [
             1,
             "#f0f921"
            ]
           ],
           "sequentialminus": [
            [
             0,
             "#0d0887"
            ],
            [
             0.1111111111111111,
             "#46039f"
            ],
            [
             0.2222222222222222,
             "#7201a8"
            ],
            [
             0.3333333333333333,
             "#9c179e"
            ],
            [
             0.4444444444444444,
             "#bd3786"
            ],
            [
             0.5555555555555556,
             "#d8576b"
            ],
            [
             0.6666666666666666,
             "#ed7953"
            ],
            [
             0.7777777777777778,
             "#fb9f3a"
            ],
            [
             0.8888888888888888,
             "#fdca26"
            ],
            [
             1,
             "#f0f921"
            ]
           ]
          },
          "colorway": [
           "#636efa",
           "#EF553B",
           "#00cc96",
           "#ab63fa",
           "#FFA15A",
           "#19d3f3",
           "#FF6692",
           "#B6E880",
           "#FF97FF",
           "#FECB52"
          ],
          "font": {
           "color": "#f2f5fa"
          },
          "geo": {
           "bgcolor": "rgb(17,17,17)",
           "lakecolor": "rgb(17,17,17)",
           "landcolor": "rgb(17,17,17)",
           "showlakes": true,
           "showland": true,
           "subunitcolor": "#506784"
          },
          "hoverlabel": {
           "align": "left"
          },
          "hovermode": "closest",
          "mapbox": {
           "style": "dark"
          },
          "paper_bgcolor": "rgb(17,17,17)",
          "plot_bgcolor": "rgb(17,17,17)",
          "polar": {
           "angularaxis": {
            "gridcolor": "#506784",
            "linecolor": "#506784",
            "ticks": ""
           },
           "bgcolor": "rgb(17,17,17)",
           "radialaxis": {
            "gridcolor": "#506784",
            "linecolor": "#506784",
            "ticks": ""
           }
          },
          "scene": {
           "xaxis": {
            "backgroundcolor": "rgb(17,17,17)",
            "gridcolor": "#506784",
            "gridwidth": 2,
            "linecolor": "#506784",
            "showbackground": true,
            "ticks": "",
            "zerolinecolor": "#C8D4E3"
           },
           "yaxis": {
            "backgroundcolor": "rgb(17,17,17)",
            "gridcolor": "#506784",
            "gridwidth": 2,
            "linecolor": "#506784",
            "showbackground": true,
            "ticks": "",
            "zerolinecolor": "#C8D4E3"
           },
           "zaxis": {
            "backgroundcolor": "rgb(17,17,17)",
            "gridcolor": "#506784",
            "gridwidth": 2,
            "linecolor": "#506784",
            "showbackground": true,
            "ticks": "",
            "zerolinecolor": "#C8D4E3"
           }
          },
          "shapedefaults": {
           "line": {
            "color": "#f2f5fa"
           }
          },
          "sliderdefaults": {
           "bgcolor": "#C8D4E3",
           "bordercolor": "rgb(17,17,17)",
           "borderwidth": 1,
           "tickwidth": 0
          },
          "ternary": {
           "aaxis": {
            "gridcolor": "#506784",
            "linecolor": "#506784",
            "ticks": ""
           },
           "baxis": {
            "gridcolor": "#506784",
            "linecolor": "#506784",
            "ticks": ""
           },
           "bgcolor": "rgb(17,17,17)",
           "caxis": {
            "gridcolor": "#506784",
            "linecolor": "#506784",
            "ticks": ""
           }
          },
          "title": {
           "x": 0.05
          },
          "updatemenudefaults": {
           "bgcolor": "#506784",
           "borderwidth": 0
          },
          "xaxis": {
           "automargin": true,
           "gridcolor": "#283442",
           "linecolor": "#506784",
           "ticks": "",
           "title": {
            "standoff": 15
           },
           "zerolinecolor": "#283442",
           "zerolinewidth": 2
          },
          "yaxis": {
           "automargin": true,
           "gridcolor": "#283442",
           "linecolor": "#506784",
           "ticks": "",
           "title": {
            "standoff": 15
           },
           "zerolinecolor": "#283442",
           "zerolinewidth": 2
          }
         }
        },
        "title": {
         "text": "<b>Radiohead Albums by Number of Tracks</b> <br>It seems like albums have been getting shorter, simply going by number of songs."
        },
        "xaxis": {
         "anchor": "y",
         "categoryarray": [
          "Pablo Honey",
          "The Bends",
          "OK Computer",
          "Kid A",
          "Amnesiac",
          "Hail To the Thief",
          "In Rainbows",
          "The King Of Limbs",
          "A Moon Shaped Pool"
         ],
         "categoryorder": "array",
         "domain": [
          0,
          1
         ],
         "title": {
          "text": "Album Name"
         }
        },
        "yaxis": {
         "anchor": "x",
         "domain": [
          0,
          1
         ],
         "title": {
          "text": "Number of Tracks"
         }
        }
       }
      }
     },
     "metadata": {},
     "output_type": "display_data"
    }
   ],
   "source": [
    "#Plot Number of Tracks\n",
    "fig = px.bar(df_radiohead, x = 'Album', color = 'Album', hover_name= 'Track',\n",
    "            labels={'Album':'Album Name', 'Duration_mins': 'Duration in Minutes', 'Track':'Track Name', 'count':'Number of Tracks'},\n",
    "            title= '<b>Radiohead Albums by Number of Tracks</b> <br>It seems like albums have been getting shorter, simply going by number of songs.',\n",
    "            template='plotly_dark')\n",
    "\n",
    "fig.show()"
   ]
  },
  {
   "cell_type": "markdown",
   "id": "a08d87a4",
   "metadata": {},
   "source": [
    "While they started out with a fairly consistent output of 12 tracks per album, their work tended to feature less tracks in the later years with the exeption of 'Hail To the Thief'. "
   ]
  },
  {
   "cell_type": "markdown",
   "id": "00316f14",
   "metadata": {},
   "source": [
    "### Hard fact #2 - Duration of the Albums\n",
    "\n",
    "But do their later albums really offer less music overall?"
   ]
  },
  {
   "cell_type": "code",
   "execution_count": 136,
   "id": "3d4f2508",
   "metadata": {},
   "outputs": [
    {
     "data": {
      "application/vnd.plotly.v1+json": {
       "config": {
        "plotlyServerURL": "https://plot.ly"
       },
       "data": [
        {
         "alignmentgroup": "True",
         "hovertemplate": "<b>%{hovertext}</b><br><br>Album Name=%{x}<br>Duration in Minutes=%{y}<extra></extra>",
         "hovertext": [
          "You",
          "Creep",
          "How Do You?",
          "Stop Whispering",
          "Thinking About You",
          "Anyone Can Play Guitar",
          "Ripcord",
          "Vegetable",
          "Prove Yourself",
          "I Can't",
          "Lurgee",
          "Blow Out"
         ],
         "legendgroup": "Pablo Honey",
         "marker": {
          "color": "#636efa",
          "pattern": {
           "shape": ""
          }
         },
         "name": "Pablo Honey",
         "offsetgroup": "Pablo Honey",
         "orientation": "v",
         "showlegend": true,
         "textposition": "auto",
         "type": "bar",
         "x": [
          "Pablo Honey",
          "Pablo Honey",
          "Pablo Honey",
          "Pablo Honey",
          "Pablo Honey",
          "Pablo Honey",
          "Pablo Honey",
          "Pablo Honey",
          "Pablo Honey",
          "Pablo Honey",
          "Pablo Honey",
          "Pablo Honey"
         ],
         "xaxis": "x",
         "y": [
          3.4777666666666667,
          3.977333333333333,
          2.2028833333333333,
          5.4271,
          2.6922166666666665,
          3.63,
          3.1622166666666667,
          3.2111,
          2.4228833333333335,
          4.218216666666667,
          3.1311,
          4.7011
         ],
         "yaxis": "y"
        },
        {
         "alignmentgroup": "True",
         "hovertemplate": "<b>%{hovertext}</b><br><br>Album Name=%{x}<br>Duration in Minutes=%{y}<extra></extra>",
         "hovertext": [
          "Planet Telex",
          "The Bends",
          "High and Dry",
          "Fake Plastic Trees",
          "Bones",
          "(Nice Dream)",
          "Just",
          "My Iron Lung",
          "Bullet Proof ... I Wish I Was",
          "Black Star",
          "Sulk",
          "Street Spirit (Fade Out)"
         ],
         "legendgroup": "The Bends",
         "marker": {
          "color": "#EF553B",
          "pattern": {
           "shape": ""
          }
         },
         "name": "The Bends",
         "offsetgroup": "The Bends",
         "orientation": "v",
         "showlegend": true,
         "textposition": "auto",
         "type": "bar",
         "x": [
          "The Bends",
          "The Bends",
          "The Bends",
          "The Bends",
          "The Bends",
          "The Bends",
          "The Bends",
          "The Bends",
          "The Bends",
          "The Bends",
          "The Bends",
          "The Bends"
         ],
         "xaxis": "x",
         "y": [
          4.32,
          4.1033333333333335,
          4.291333333333333,
          4.8451,
          3.15,
          3.8871,
          3.9133333333333336,
          4.6071,
          3.4788833333333335,
          4.117333333333334,
          3.716,
          4.230883333333334
         ],
         "yaxis": "y"
        },
        {
         "alignmentgroup": "True",
         "hovertemplate": "<b>%{hovertext}</b><br><br>Album Name=%{x}<br>Duration in Minutes=%{y}<extra></extra>",
         "hovertext": [
          "Airbag",
          "Paranoid Android",
          "Subterranean Homesick Alien",
          "Exit Music (For A Film)",
          "Let Down",
          "Karma Police",
          "Fitter Happier",
          "Electioneering",
          "Climbing Up the Walls",
          "No Surprises",
          "Lucky",
          "The Tourist"
         ],
         "legendgroup": "OK Computer",
         "marker": {
          "color": "#00cc96",
          "pattern": {
           "shape": ""
          }
         },
         "name": "OK Computer",
         "offsetgroup": "OK Computer",
         "orientation": "v",
         "showlegend": true,
         "textposition": "auto",
         "type": "bar",
         "x": [
          "OK Computer",
          "OK Computer",
          "OK Computer",
          "OK Computer",
          "OK Computer",
          "OK Computer",
          "OK Computer",
          "OK Computer",
          "OK Computer",
          "OK Computer",
          "OK Computer",
          "OK Computer"
         ],
         "xaxis": "x",
         "y": [
          4.798,
          6.45355,
          4.46155,
          4.4531,
          4.992666666666667,
          4.4011,
          1.95555,
          3.8437666666666668,
          4.753333333333333,
          3.8186666666666667,
          4.31355,
          5.442216666666667
         ],
         "yaxis": "y"
        },
        {
         "alignmentgroup": "True",
         "hovertemplate": "<b>%{hovertext}</b><br><br>Album Name=%{x}<br>Duration in Minutes=%{y}<extra></extra>",
         "hovertext": [
          "Everything In Its Right Place",
          "Kid A",
          "The National Anthem",
          "How to Disappear Completely",
          "Treefingers",
          "Optimistic",
          "In Limbo",
          "Idioteque",
          "Morning Bell",
          "Motion Picture Soundtrack",
          "Untitled"
         ],
         "legendgroup": "Kid A",
         "marker": {
          "color": "#ab63fa",
          "pattern": {
           "shape": ""
          }
         },
         "name": "Kid A",
         "offsetgroup": "Kid A",
         "orientation": "v",
         "showlegend": true,
         "textposition": "auto",
         "type": "bar",
         "x": [
          "Kid A",
          "Kid A",
          "Kid A",
          "Kid A",
          "Kid A",
          "Kid A",
          "Kid A",
          "Kid A",
          "Kid A",
          "Kid A",
          "Kid A"
         ],
         "xaxis": "x",
         "y": [
          4.190433333333333,
          4.741766666666667,
          5.86155,
          5.938883333333333,
          3.71,
          5.266216666666667,
          3.5166666666666666,
          5.15155,
          4.596666666666667,
          3.3413666666666666,
          0.8782333333333333
         ],
         "yaxis": "y"
        },
        {
         "alignmentgroup": "True",
         "hovertemplate": "<b>%{hovertext}</b><br><br>Album Name=%{x}<br>Duration in Minutes=%{y}<extra></extra>",
         "hovertext": [
          "Packt Like Sardines In a Crushd Tin Box",
          "Pyramid Song",
          "Pulk/Pull Revolving Doors",
          "You And Whose Army?",
          "I Might Be Wrong",
          "Knives Out",
          "Morning Bell/Amnesiac",
          "Dollars and Cents",
          "Hunting Bears",
          "Like Spinning Plates",
          "Life In a Glasshouse"
         ],
         "legendgroup": "Amnesiac",
         "marker": {
          "color": "#FFA15A",
          "pattern": {
           "shape": ""
          }
         },
         "name": "Amnesiac",
         "offsetgroup": "Amnesiac",
         "orientation": "v",
         "showlegend": true,
         "textposition": "auto",
         "type": "bar",
         "x": [
          "Amnesiac",
          "Amnesiac",
          "Amnesiac",
          "Amnesiac",
          "Amnesiac",
          "Amnesiac",
          "Amnesiac",
          "Amnesiac",
          "Amnesiac",
          "Amnesiac",
          "Amnesiac"
         ],
         "xaxis": "x",
         "y": [
          4.00555,
          4.812216666666667,
          4.1211,
          3.183333333333333,
          4.896216666666667,
          4.247766666666666,
          3.2377666666666665,
          4.862216666666667,
          2.02,
          3.9577666666666667,
          4.61155
         ],
         "yaxis": "y"
        },
        {
         "alignmentgroup": "True",
         "hovertemplate": "<b>%{hovertext}</b><br><br>Album Name=%{x}<br>Duration in Minutes=%{y}<extra></extra>",
         "hovertext": [
          "2 + 2 = 5",
          "Sit Down. Stand Up",
          "Sail To The Moon",
          "Backdrifts",
          "Go To Sleep",
          "Where I End and You Begin",
          "We Suck Young Blood",
          "The Gloaming",
          "There, There",
          "I Will",
          "A Punch Up at a Wedding",
          "Myxomatosis",
          "Scatterbrain",
          "A Wolf At the Door"
         ],
         "legendgroup": "Hail To the Thief",
         "marker": {
          "color": "#19d3f3",
          "pattern": {
           "shape": ""
          }
         },
         "name": "Hail To the Thief",
         "offsetgroup": "Hail To the Thief",
         "orientation": "v",
         "showlegend": true,
         "textposition": "auto",
         "type": "bar",
         "x": [
          "Hail To the Thief",
          "Hail To the Thief",
          "Hail To the Thief",
          "Hail To the Thief",
          "Hail To the Thief",
          "Hail To the Thief",
          "Hail To the Thief",
          "Hail To the Thief",
          "Hail To the Thief",
          "Hail To the Thief",
          "Hail To the Thief",
          "Hail To the Thief",
          "Hail To the Thief",
          "Hail To the Thief"
         ],
         "xaxis": "x",
         "y": [
          3.3226666666666667,
          4.332883333333333,
          4.306,
          5.376666666666667,
          3.358433333333333,
          4.488216666666666,
          4.9451,
          3.5337666666666667,
          5.3933333333333335,
          1.9911,
          4.95555,
          3.87555,
          3.3617666666666666,
          3.35555
         ],
         "yaxis": "y"
        },
        {
         "alignmentgroup": "True",
         "hovertemplate": "<b>%{hovertext}</b><br><br>Album Name=%{x}<br>Duration in Minutes=%{y}<extra></extra>",
         "hovertext": [
          "15 Step",
          "Bodysnatchers",
          "Nude",
          "Weird Fishes/ Arpeggi",
          "All I Need",
          "Faust Arp",
          "Reckoner",
          "House Of Cards",
          "Jigsaw Falling Into Place",
          "Videotape"
         ],
         "legendgroup": "In Rainbows",
         "marker": {
          "color": "#FF6692",
          "pattern": {
           "shape": ""
          }
         },
         "name": "In Rainbows",
         "offsetgroup": "In Rainbows",
         "orientation": "v",
         "showlegend": true,
         "textposition": "auto",
         "type": "bar",
         "x": [
          "In Rainbows",
          "In Rainbows",
          "In Rainbows",
          "In Rainbows",
          "In Rainbows",
          "In Rainbows",
          "In Rainbows",
          "In Rainbows",
          "In Rainbows",
          "In Rainbows"
         ],
         "xaxis": "x",
         "y": [
          3.9548833333333335,
          4.038216666666667,
          4.256433333333334,
          5.3031,
          3.8124333333333333,
          2.1613166666666666,
          4.836883333333334,
          5.47155,
          4.148216666666666,
          4.660566666666667
         ],
         "yaxis": "y"
        },
        {
         "alignmentgroup": "True",
         "hovertemplate": "<b>%{hovertext}</b><br><br>Album Name=%{x}<br>Duration in Minutes=%{y}<extra></extra>",
         "hovertext": [
          "Bloom",
          "Morning Mr Magpie",
          "Little By Little",
          "Feral",
          "Lotus Flower",
          "Codex",
          "Give Up The Ghost",
          "Separator"
         ],
         "legendgroup": "The King Of Limbs",
         "marker": {
          "color": "#B6E880",
          "pattern": {
           "shape": ""
          }
         },
         "name": "The King Of Limbs",
         "offsetgroup": "The King Of Limbs",
         "orientation": "v",
         "showlegend": true,
         "textposition": "auto",
         "type": "bar",
         "x": [
          "The King Of Limbs",
          "The King Of Limbs",
          "The King Of Limbs",
          "The King Of Limbs",
          "The King Of Limbs",
          "The King Of Limbs",
          "The King Of Limbs",
          "The King Of Limbs"
         ],
         "xaxis": "x",
         "y": [
          5.22785,
          4.67865,
          4.452566666666667,
          3.2123666666666666,
          5.00365,
          4.784433333333333,
          4.83445,
          5.3208166666666665
         ],
         "yaxis": "y"
        },
        {
         "alignmentgroup": "True",
         "hovertemplate": "<b>%{hovertext}</b><br><br>Album Name=%{x}<br>Duration in Minutes=%{y}<extra></extra>",
         "hovertext": [
          "Burn the Witch",
          "Daydreaming",
          "Decks Dark",
          "Desert Island Disk",
          "Ful Stop",
          "Glass Eyes",
          "Identikit",
          "The Numbers",
          "Present Tense",
          "Tinker Tailor Soldier Sailor Rich Man Poor Man Beggar Man Thief",
          "True Love Waits"
         ],
         "legendgroup": "A Moon Shaped Pool",
         "marker": {
          "color": "#FF97FF",
          "pattern": {
           "shape": ""
          }
         },
         "name": "A Moon Shaped Pool",
         "offsetgroup": "A Moon Shaped Pool",
         "orientation": "v",
         "showlegend": true,
         "textposition": "auto",
         "type": "bar",
         "x": [
          "A Moon Shaped Pool",
          "A Moon Shaped Pool",
          "A Moon Shaped Pool",
          "A Moon Shaped Pool",
          "A Moon Shaped Pool",
          "A Moon Shaped Pool",
          "A Moon Shaped Pool",
          "A Moon Shaped Pool",
          "A Moon Shaped Pool",
          "A Moon Shaped Pool",
          "A Moon Shaped Pool"
         ],
         "xaxis": "x",
         "y": [
          3.676816666666667,
          6.4073,
          4.683516666666667,
          3.7449666666666666,
          6.122466666666667,
          2.88225,
          4.44405,
          5.764766666666667,
          5.109683333333333,
          5.061466666666667,
          4.724383333333333
         ],
         "yaxis": "y"
        }
       ],
       "layout": {
        "barmode": "relative",
        "legend": {
         "title": {
          "text": "Album Name"
         },
         "tracegroupgap": 0
        },
        "template": {
         "data": {
          "bar": [
           {
            "error_x": {
             "color": "#f2f5fa"
            },
            "error_y": {
             "color": "#f2f5fa"
            },
            "marker": {
             "line": {
              "color": "rgb(17,17,17)",
              "width": 0.5
             },
             "pattern": {
              "fillmode": "overlay",
              "size": 10,
              "solidity": 0.2
             }
            },
            "type": "bar"
           }
          ],
          "barpolar": [
           {
            "marker": {
             "line": {
              "color": "rgb(17,17,17)",
              "width": 0.5
             },
             "pattern": {
              "fillmode": "overlay",
              "size": 10,
              "solidity": 0.2
             }
            },
            "type": "barpolar"
           }
          ],
          "carpet": [
           {
            "aaxis": {
             "endlinecolor": "#A2B1C6",
             "gridcolor": "#506784",
             "linecolor": "#506784",
             "minorgridcolor": "#506784",
             "startlinecolor": "#A2B1C6"
            },
            "baxis": {
             "endlinecolor": "#A2B1C6",
             "gridcolor": "#506784",
             "linecolor": "#506784",
             "minorgridcolor": "#506784",
             "startlinecolor": "#A2B1C6"
            },
            "type": "carpet"
           }
          ],
          "choropleth": [
           {
            "colorbar": {
             "outlinewidth": 0,
             "ticks": ""
            },
            "type": "choropleth"
           }
          ],
          "contour": [
           {
            "colorbar": {
             "outlinewidth": 0,
             "ticks": ""
            },
            "colorscale": [
             [
              0,
              "#0d0887"
             ],
             [
              0.1111111111111111,
              "#46039f"
             ],
             [
              0.2222222222222222,
              "#7201a8"
             ],
             [
              0.3333333333333333,
              "#9c179e"
             ],
             [
              0.4444444444444444,
              "#bd3786"
             ],
             [
              0.5555555555555556,
              "#d8576b"
             ],
             [
              0.6666666666666666,
              "#ed7953"
             ],
             [
              0.7777777777777778,
              "#fb9f3a"
             ],
             [
              0.8888888888888888,
              "#fdca26"
             ],
             [
              1,
              "#f0f921"
             ]
            ],
            "type": "contour"
           }
          ],
          "contourcarpet": [
           {
            "colorbar": {
             "outlinewidth": 0,
             "ticks": ""
            },
            "type": "contourcarpet"
           }
          ],
          "heatmap": [
           {
            "colorbar": {
             "outlinewidth": 0,
             "ticks": ""
            },
            "colorscale": [
             [
              0,
              "#0d0887"
             ],
             [
              0.1111111111111111,
              "#46039f"
             ],
             [
              0.2222222222222222,
              "#7201a8"
             ],
             [
              0.3333333333333333,
              "#9c179e"
             ],
             [
              0.4444444444444444,
              "#bd3786"
             ],
             [
              0.5555555555555556,
              "#d8576b"
             ],
             [
              0.6666666666666666,
              "#ed7953"
             ],
             [
              0.7777777777777778,
              "#fb9f3a"
             ],
             [
              0.8888888888888888,
              "#fdca26"
             ],
             [
              1,
              "#f0f921"
             ]
            ],
            "type": "heatmap"
           }
          ],
          "heatmapgl": [
           {
            "colorbar": {
             "outlinewidth": 0,
             "ticks": ""
            },
            "colorscale": [
             [
              0,
              "#0d0887"
             ],
             [
              0.1111111111111111,
              "#46039f"
             ],
             [
              0.2222222222222222,
              "#7201a8"
             ],
             [
              0.3333333333333333,
              "#9c179e"
             ],
             [
              0.4444444444444444,
              "#bd3786"
             ],
             [
              0.5555555555555556,
              "#d8576b"
             ],
             [
              0.6666666666666666,
              "#ed7953"
             ],
             [
              0.7777777777777778,
              "#fb9f3a"
             ],
             [
              0.8888888888888888,
              "#fdca26"
             ],
             [
              1,
              "#f0f921"
             ]
            ],
            "type": "heatmapgl"
           }
          ],
          "histogram": [
           {
            "marker": {
             "pattern": {
              "fillmode": "overlay",
              "size": 10,
              "solidity": 0.2
             }
            },
            "type": "histogram"
           }
          ],
          "histogram2d": [
           {
            "colorbar": {
             "outlinewidth": 0,
             "ticks": ""
            },
            "colorscale": [
             [
              0,
              "#0d0887"
             ],
             [
              0.1111111111111111,
              "#46039f"
             ],
             [
              0.2222222222222222,
              "#7201a8"
             ],
             [
              0.3333333333333333,
              "#9c179e"
             ],
             [
              0.4444444444444444,
              "#bd3786"
             ],
             [
              0.5555555555555556,
              "#d8576b"
             ],
             [
              0.6666666666666666,
              "#ed7953"
             ],
             [
              0.7777777777777778,
              "#fb9f3a"
             ],
             [
              0.8888888888888888,
              "#fdca26"
             ],
             [
              1,
              "#f0f921"
             ]
            ],
            "type": "histogram2d"
           }
          ],
          "histogram2dcontour": [
           {
            "colorbar": {
             "outlinewidth": 0,
             "ticks": ""
            },
            "colorscale": [
             [
              0,
              "#0d0887"
             ],
             [
              0.1111111111111111,
              "#46039f"
             ],
             [
              0.2222222222222222,
              "#7201a8"
             ],
             [
              0.3333333333333333,
              "#9c179e"
             ],
             [
              0.4444444444444444,
              "#bd3786"
             ],
             [
              0.5555555555555556,
              "#d8576b"
             ],
             [
              0.6666666666666666,
              "#ed7953"
             ],
             [
              0.7777777777777778,
              "#fb9f3a"
             ],
             [
              0.8888888888888888,
              "#fdca26"
             ],
             [
              1,
              "#f0f921"
             ]
            ],
            "type": "histogram2dcontour"
           }
          ],
          "mesh3d": [
           {
            "colorbar": {
             "outlinewidth": 0,
             "ticks": ""
            },
            "type": "mesh3d"
           }
          ],
          "parcoords": [
           {
            "line": {
             "colorbar": {
              "outlinewidth": 0,
              "ticks": ""
             }
            },
            "type": "parcoords"
           }
          ],
          "pie": [
           {
            "automargin": true,
            "type": "pie"
           }
          ],
          "scatter": [
           {
            "marker": {
             "line": {
              "color": "#283442"
             }
            },
            "type": "scatter"
           }
          ],
          "scatter3d": [
           {
            "line": {
             "colorbar": {
              "outlinewidth": 0,
              "ticks": ""
             }
            },
            "marker": {
             "colorbar": {
              "outlinewidth": 0,
              "ticks": ""
             }
            },
            "type": "scatter3d"
           }
          ],
          "scattercarpet": [
           {
            "marker": {
             "colorbar": {
              "outlinewidth": 0,
              "ticks": ""
             }
            },
            "type": "scattercarpet"
           }
          ],
          "scattergeo": [
           {
            "marker": {
             "colorbar": {
              "outlinewidth": 0,
              "ticks": ""
             }
            },
            "type": "scattergeo"
           }
          ],
          "scattergl": [
           {
            "marker": {
             "line": {
              "color": "#283442"
             }
            },
            "type": "scattergl"
           }
          ],
          "scattermapbox": [
           {
            "marker": {
             "colorbar": {
              "outlinewidth": 0,
              "ticks": ""
             }
            },
            "type": "scattermapbox"
           }
          ],
          "scatterpolar": [
           {
            "marker": {
             "colorbar": {
              "outlinewidth": 0,
              "ticks": ""
             }
            },
            "type": "scatterpolar"
           }
          ],
          "scatterpolargl": [
           {
            "marker": {
             "colorbar": {
              "outlinewidth": 0,
              "ticks": ""
             }
            },
            "type": "scatterpolargl"
           }
          ],
          "scatterternary": [
           {
            "marker": {
             "colorbar": {
              "outlinewidth": 0,
              "ticks": ""
             }
            },
            "type": "scatterternary"
           }
          ],
          "surface": [
           {
            "colorbar": {
             "outlinewidth": 0,
             "ticks": ""
            },
            "colorscale": [
             [
              0,
              "#0d0887"
             ],
             [
              0.1111111111111111,
              "#46039f"
             ],
             [
              0.2222222222222222,
              "#7201a8"
             ],
             [
              0.3333333333333333,
              "#9c179e"
             ],
             [
              0.4444444444444444,
              "#bd3786"
             ],
             [
              0.5555555555555556,
              "#d8576b"
             ],
             [
              0.6666666666666666,
              "#ed7953"
             ],
             [
              0.7777777777777778,
              "#fb9f3a"
             ],
             [
              0.8888888888888888,
              "#fdca26"
             ],
             [
              1,
              "#f0f921"
             ]
            ],
            "type": "surface"
           }
          ],
          "table": [
           {
            "cells": {
             "fill": {
              "color": "#506784"
             },
             "line": {
              "color": "rgb(17,17,17)"
             }
            },
            "header": {
             "fill": {
              "color": "#2a3f5f"
             },
             "line": {
              "color": "rgb(17,17,17)"
             }
            },
            "type": "table"
           }
          ]
         },
         "layout": {
          "annotationdefaults": {
           "arrowcolor": "#f2f5fa",
           "arrowhead": 0,
           "arrowwidth": 1
          },
          "autotypenumbers": "strict",
          "coloraxis": {
           "colorbar": {
            "outlinewidth": 0,
            "ticks": ""
           }
          },
          "colorscale": {
           "diverging": [
            [
             0,
             "#8e0152"
            ],
            [
             0.1,
             "#c51b7d"
            ],
            [
             0.2,
             "#de77ae"
            ],
            [
             0.3,
             "#f1b6da"
            ],
            [
             0.4,
             "#fde0ef"
            ],
            [
             0.5,
             "#f7f7f7"
            ],
            [
             0.6,
             "#e6f5d0"
            ],
            [
             0.7,
             "#b8e186"
            ],
            [
             0.8,
             "#7fbc41"
            ],
            [
             0.9,
             "#4d9221"
            ],
            [
             1,
             "#276419"
            ]
           ],
           "sequential": [
            [
             0,
             "#0d0887"
            ],
            [
             0.1111111111111111,
             "#46039f"
            ],
            [
             0.2222222222222222,
             "#7201a8"
            ],
            [
             0.3333333333333333,
             "#9c179e"
            ],
            [
             0.4444444444444444,
             "#bd3786"
            ],
            [
             0.5555555555555556,
             "#d8576b"
            ],
            [
             0.6666666666666666,
             "#ed7953"
            ],
            [
             0.7777777777777778,
             "#fb9f3a"
            ],
            [
             0.8888888888888888,
             "#fdca26"
            ],
            [
             1,
             "#f0f921"
            ]
           ],
           "sequentialminus": [
            [
             0,
             "#0d0887"
            ],
            [
             0.1111111111111111,
             "#46039f"
            ],
            [
             0.2222222222222222,
             "#7201a8"
            ],
            [
             0.3333333333333333,
             "#9c179e"
            ],
            [
             0.4444444444444444,
             "#bd3786"
            ],
            [
             0.5555555555555556,
             "#d8576b"
            ],
            [
             0.6666666666666666,
             "#ed7953"
            ],
            [
             0.7777777777777778,
             "#fb9f3a"
            ],
            [
             0.8888888888888888,
             "#fdca26"
            ],
            [
             1,
             "#f0f921"
            ]
           ]
          },
          "colorway": [
           "#636efa",
           "#EF553B",
           "#00cc96",
           "#ab63fa",
           "#FFA15A",
           "#19d3f3",
           "#FF6692",
           "#B6E880",
           "#FF97FF",
           "#FECB52"
          ],
          "font": {
           "color": "#f2f5fa"
          },
          "geo": {
           "bgcolor": "rgb(17,17,17)",
           "lakecolor": "rgb(17,17,17)",
           "landcolor": "rgb(17,17,17)",
           "showlakes": true,
           "showland": true,
           "subunitcolor": "#506784"
          },
          "hoverlabel": {
           "align": "left"
          },
          "hovermode": "closest",
          "mapbox": {
           "style": "dark"
          },
          "paper_bgcolor": "rgb(17,17,17)",
          "plot_bgcolor": "rgb(17,17,17)",
          "polar": {
           "angularaxis": {
            "gridcolor": "#506784",
            "linecolor": "#506784",
            "ticks": ""
           },
           "bgcolor": "rgb(17,17,17)",
           "radialaxis": {
            "gridcolor": "#506784",
            "linecolor": "#506784",
            "ticks": ""
           }
          },
          "scene": {
           "xaxis": {
            "backgroundcolor": "rgb(17,17,17)",
            "gridcolor": "#506784",
            "gridwidth": 2,
            "linecolor": "#506784",
            "showbackground": true,
            "ticks": "",
            "zerolinecolor": "#C8D4E3"
           },
           "yaxis": {
            "backgroundcolor": "rgb(17,17,17)",
            "gridcolor": "#506784",
            "gridwidth": 2,
            "linecolor": "#506784",
            "showbackground": true,
            "ticks": "",
            "zerolinecolor": "#C8D4E3"
           },
           "zaxis": {
            "backgroundcolor": "rgb(17,17,17)",
            "gridcolor": "#506784",
            "gridwidth": 2,
            "linecolor": "#506784",
            "showbackground": true,
            "ticks": "",
            "zerolinecolor": "#C8D4E3"
           }
          },
          "shapedefaults": {
           "line": {
            "color": "#f2f5fa"
           }
          },
          "sliderdefaults": {
           "bgcolor": "#C8D4E3",
           "bordercolor": "rgb(17,17,17)",
           "borderwidth": 1,
           "tickwidth": 0
          },
          "ternary": {
           "aaxis": {
            "gridcolor": "#506784",
            "linecolor": "#506784",
            "ticks": ""
           },
           "baxis": {
            "gridcolor": "#506784",
            "linecolor": "#506784",
            "ticks": ""
           },
           "bgcolor": "rgb(17,17,17)",
           "caxis": {
            "gridcolor": "#506784",
            "linecolor": "#506784",
            "ticks": ""
           }
          },
          "title": {
           "x": 0.05
          },
          "updatemenudefaults": {
           "bgcolor": "#506784",
           "borderwidth": 0
          },
          "xaxis": {
           "automargin": true,
           "gridcolor": "#283442",
           "linecolor": "#506784",
           "ticks": "",
           "title": {
            "standoff": 15
           },
           "zerolinecolor": "#283442",
           "zerolinewidth": 2
          },
          "yaxis": {
           "automargin": true,
           "gridcolor": "#283442",
           "linecolor": "#506784",
           "ticks": "",
           "title": {
            "standoff": 15
           },
           "zerolinecolor": "#283442",
           "zerolinewidth": 2
          }
         }
        },
        "title": {
         "text": "<b>Radiohead Albums by Duration of Tracks</b> <br>Going by actual track duration the picture looks a little different."
        },
        "xaxis": {
         "anchor": "y",
         "categoryarray": [
          "Pablo Honey",
          "The Bends",
          "OK Computer",
          "Kid A",
          "Amnesiac",
          "Hail To the Thief",
          "In Rainbows",
          "The King Of Limbs",
          "A Moon Shaped Pool"
         ],
         "categoryorder": "array",
         "domain": [
          0,
          1
         ],
         "title": {
          "text": "Album Name"
         }
        },
        "yaxis": {
         "anchor": "x",
         "domain": [
          0,
          1
         ],
         "title": {
          "text": "Duration in Minutes"
         }
        }
       }
      }
     },
     "metadata": {},
     "output_type": "display_data"
    }
   ],
   "source": [
    "#Plot Duration of Albums\n",
    "fig = px.bar(df_radiohead, x = 'Album',y= 'Duration_mins', color = 'Album', hover_name= 'Track',\n",
    "            labels={'Album':'Album Name', 'Duration_mins': 'Duration in Minutes', 'Track':'Track Name', 'count':'Number of Tracks'},\n",
    "            title= '<b>Radiohead Albums by Duration of Tracks</b> <br>Going by actual track duration the picture looks a little different.',\n",
    "            template='plotly_dark')\n",
    "\n",
    "fig.show()"
   ]
  },
  {
   "cell_type": "markdown",
   "id": "4abdd734",
   "metadata": {},
   "source": [
    "Bringing track duration into the mix 'Hail To the Thief' stays #1. All simply due to the sheer number of tracks. But 'OK Computer' and 'A Moon Shaped Pool' are now revealed as LPs with much music to offer."
   ]
  },
  {
   "cell_type": "markdown",
   "id": "276b8b0e",
   "metadata": {},
   "source": [
    "### Hard fact #3 - Temporal Profiles of the Albums\n",
    "\n",
    "Radiohead always treated their album sequencing with great care to create a holistic experiencing for the listener. Can we find some patterns in the data to learn a little more about their preferences?\n",
    "\n"
   ]
  },
  {
   "cell_type": "code",
   "execution_count": 137,
   "id": "997890e9",
   "metadata": {},
   "outputs": [
    {
     "data": {
      "application/vnd.plotly.v1+json": {
       "config": {
        "plotlyServerURL": "https://plot.ly"
       },
       "data": [
        {
         "alignmentgroup": "True",
         "hovertemplate": "<b>%{hovertext}</b><br><br>Album Name=Pablo Honey<br>index=%{x}<br>Duration in Minutes=%{y}<extra></extra>",
         "hovertext": [
          "You",
          "Creep",
          "How Do You?",
          "Stop Whispering",
          "Thinking About You",
          "Anyone Can Play Guitar",
          "Ripcord",
          "Vegetable",
          "Prove Yourself",
          "I Can't",
          "Lurgee",
          "Blow Out"
         ],
         "legendgroup": "Pablo Honey",
         "marker": {
          "color": "#636efa",
          "pattern": {
           "shape": ""
          }
         },
         "name": "Pablo Honey",
         "offsetgroup": "Pablo Honey",
         "orientation": "v",
         "showlegend": true,
         "textposition": "auto",
         "type": "bar",
         "x": [
          0,
          1,
          2,
          3,
          4,
          5,
          6,
          7,
          8,
          9,
          10,
          11
         ],
         "xaxis": "x7",
         "y": [
          3.4777666666666667,
          3.977333333333333,
          2.2028833333333333,
          5.4271,
          2.6922166666666665,
          3.63,
          3.1622166666666667,
          3.2111,
          2.4228833333333335,
          4.218216666666667,
          3.1311,
          4.7011
         ],
         "yaxis": "y7"
        },
        {
         "alignmentgroup": "True",
         "hovertemplate": "<b>%{hovertext}</b><br><br>Album Name=The Bends<br>index=%{x}<br>Duration in Minutes=%{y}<extra></extra>",
         "hovertext": [
          "Planet Telex",
          "The Bends",
          "High and Dry",
          "Fake Plastic Trees",
          "Bones",
          "(Nice Dream)",
          "Just",
          "My Iron Lung",
          "Bullet Proof ... I Wish I Was",
          "Black Star",
          "Sulk",
          "Street Spirit (Fade Out)"
         ],
         "legendgroup": "The Bends",
         "marker": {
          "color": "#EF553B",
          "pattern": {
           "shape": ""
          }
         },
         "name": "The Bends",
         "offsetgroup": "The Bends",
         "orientation": "v",
         "showlegend": true,
         "textposition": "auto",
         "type": "bar",
         "x": [
          12,
          13,
          14,
          15,
          16,
          17,
          18,
          19,
          20,
          21,
          22,
          23
         ],
         "xaxis": "x8",
         "y": [
          4.32,
          4.1033333333333335,
          4.291333333333333,
          4.8451,
          3.15,
          3.8871,
          3.9133333333333336,
          4.6071,
          3.4788833333333335,
          4.117333333333334,
          3.716,
          4.230883333333334
         ],
         "yaxis": "y8"
        },
        {
         "alignmentgroup": "True",
         "hovertemplate": "<b>%{hovertext}</b><br><br>Album Name=OK Computer<br>index=%{x}<br>Duration in Minutes=%{y}<extra></extra>",
         "hovertext": [
          "Airbag",
          "Paranoid Android",
          "Subterranean Homesick Alien",
          "Exit Music (For A Film)",
          "Let Down",
          "Karma Police",
          "Fitter Happier",
          "Electioneering",
          "Climbing Up the Walls",
          "No Surprises",
          "Lucky",
          "The Tourist"
         ],
         "legendgroup": "OK Computer",
         "marker": {
          "color": "#00cc96",
          "pattern": {
           "shape": ""
          }
         },
         "name": "OK Computer",
         "offsetgroup": "OK Computer",
         "orientation": "v",
         "showlegend": true,
         "textposition": "auto",
         "type": "bar",
         "x": [
          24,
          25,
          26,
          27,
          28,
          29,
          30,
          31,
          32,
          33,
          34,
          35
         ],
         "xaxis": "x9",
         "y": [
          4.798,
          6.45355,
          4.46155,
          4.4531,
          4.992666666666667,
          4.4011,
          1.95555,
          3.8437666666666668,
          4.753333333333333,
          3.8186666666666667,
          4.31355,
          5.442216666666667
         ],
         "yaxis": "y9"
        },
        {
         "alignmentgroup": "True",
         "hovertemplate": "<b>%{hovertext}</b><br><br>Album Name=Kid A<br>index=%{x}<br>Duration in Minutes=%{y}<extra></extra>",
         "hovertext": [
          "Everything In Its Right Place",
          "Kid A",
          "The National Anthem",
          "How to Disappear Completely",
          "Treefingers",
          "Optimistic",
          "In Limbo",
          "Idioteque",
          "Morning Bell",
          "Motion Picture Soundtrack",
          "Untitled"
         ],
         "legendgroup": "Kid A",
         "marker": {
          "color": "#ab63fa",
          "pattern": {
           "shape": ""
          }
         },
         "name": "Kid A",
         "offsetgroup": "Kid A",
         "orientation": "v",
         "showlegend": true,
         "textposition": "auto",
         "type": "bar",
         "x": [
          36,
          37,
          38,
          39,
          40,
          41,
          42,
          43,
          44,
          45,
          46
         ],
         "xaxis": "x4",
         "y": [
          4.190433333333333,
          4.741766666666667,
          5.86155,
          5.938883333333333,
          3.71,
          5.266216666666667,
          3.5166666666666666,
          5.15155,
          4.596666666666667,
          3.3413666666666666,
          0.8782333333333333
         ],
         "yaxis": "y4"
        },
        {
         "alignmentgroup": "True",
         "hovertemplate": "<b>%{hovertext}</b><br><br>Album Name=Amnesiac<br>index=%{x}<br>Duration in Minutes=%{y}<extra></extra>",
         "hovertext": [
          "Packt Like Sardines In a Crushd Tin Box",
          "Pyramid Song",
          "Pulk/Pull Revolving Doors",
          "You And Whose Army?",
          "I Might Be Wrong",
          "Knives Out",
          "Morning Bell/Amnesiac",
          "Dollars and Cents",
          "Hunting Bears",
          "Like Spinning Plates",
          "Life In a Glasshouse"
         ],
         "legendgroup": "Amnesiac",
         "marker": {
          "color": "#FFA15A",
          "pattern": {
           "shape": ""
          }
         },
         "name": "Amnesiac",
         "offsetgroup": "Amnesiac",
         "orientation": "v",
         "showlegend": true,
         "textposition": "auto",
         "type": "bar",
         "x": [
          47,
          48,
          49,
          50,
          51,
          52,
          53,
          54,
          55,
          56,
          57
         ],
         "xaxis": "x5",
         "y": [
          4.00555,
          4.812216666666667,
          4.1211,
          3.183333333333333,
          4.896216666666667,
          4.247766666666666,
          3.2377666666666665,
          4.862216666666667,
          2.02,
          3.9577666666666667,
          4.61155
         ],
         "yaxis": "y5"
        },
        {
         "alignmentgroup": "True",
         "hovertemplate": "<b>%{hovertext}</b><br><br>Album Name=Hail To the Thief<br>index=%{x}<br>Duration in Minutes=%{y}<extra></extra>",
         "hovertext": [
          "2 + 2 = 5",
          "Sit Down. Stand Up",
          "Sail To The Moon",
          "Backdrifts",
          "Go To Sleep",
          "Where I End and You Begin",
          "We Suck Young Blood",
          "The Gloaming",
          "There, There",
          "I Will",
          "A Punch Up at a Wedding",
          "Myxomatosis",
          "Scatterbrain",
          "A Wolf At the Door"
         ],
         "legendgroup": "Hail To the Thief",
         "marker": {
          "color": "#19d3f3",
          "pattern": {
           "shape": ""
          }
         },
         "name": "Hail To the Thief",
         "offsetgroup": "Hail To the Thief",
         "orientation": "v",
         "showlegend": true,
         "textposition": "auto",
         "type": "bar",
         "x": [
          58,
          59,
          60,
          61,
          62,
          63,
          64,
          65,
          66,
          67,
          68,
          69,
          70,
          71
         ],
         "xaxis": "x6",
         "y": [
          3.3226666666666667,
          4.332883333333333,
          4.306,
          5.376666666666667,
          3.358433333333333,
          4.488216666666666,
          4.9451,
          3.5337666666666667,
          5.3933333333333335,
          1.9911,
          4.95555,
          3.87555,
          3.3617666666666666,
          3.35555
         ],
         "yaxis": "y6"
        },
        {
         "alignmentgroup": "True",
         "hovertemplate": "<b>%{hovertext}</b><br><br>Album Name=In Rainbows<br>index=%{x}<br>Duration in Minutes=%{y}<extra></extra>",
         "hovertext": [
          "15 Step",
          "Bodysnatchers",
          "Nude",
          "Weird Fishes/ Arpeggi",
          "All I Need",
          "Faust Arp",
          "Reckoner",
          "House Of Cards",
          "Jigsaw Falling Into Place",
          "Videotape"
         ],
         "legendgroup": "In Rainbows",
         "marker": {
          "color": "#FF6692",
          "pattern": {
           "shape": ""
          }
         },
         "name": "In Rainbows",
         "offsetgroup": "In Rainbows",
         "orientation": "v",
         "showlegend": true,
         "textposition": "auto",
         "type": "bar",
         "x": [
          72,
          73,
          74,
          75,
          76,
          77,
          78,
          79,
          80,
          81
         ],
         "xaxis": "x",
         "y": [
          3.9548833333333335,
          4.038216666666667,
          4.256433333333334,
          5.3031,
          3.8124333333333333,
          2.1613166666666666,
          4.836883333333334,
          5.47155,
          4.148216666666666,
          4.660566666666667
         ],
         "yaxis": "y"
        },
        {
         "alignmentgroup": "True",
         "hovertemplate": "<b>%{hovertext}</b><br><br>Album Name=The King Of Limbs<br>index=%{x}<br>Duration in Minutes=%{y}<extra></extra>",
         "hovertext": [
          "Bloom",
          "Morning Mr Magpie",
          "Little By Little",
          "Feral",
          "Lotus Flower",
          "Codex",
          "Give Up The Ghost",
          "Separator"
         ],
         "legendgroup": "The King Of Limbs",
         "marker": {
          "color": "#B6E880",
          "pattern": {
           "shape": ""
          }
         },
         "name": "The King Of Limbs",
         "offsetgroup": "The King Of Limbs",
         "orientation": "v",
         "showlegend": true,
         "textposition": "auto",
         "type": "bar",
         "x": [
          82,
          83,
          84,
          85,
          86,
          87,
          88,
          89
         ],
         "xaxis": "x2",
         "y": [
          5.22785,
          4.67865,
          4.452566666666667,
          3.2123666666666666,
          5.00365,
          4.784433333333333,
          4.83445,
          5.3208166666666665
         ],
         "yaxis": "y2"
        },
        {
         "alignmentgroup": "True",
         "hovertemplate": "<b>%{hovertext}</b><br><br>Album Name=A Moon Shaped Pool<br>index=%{x}<br>Duration in Minutes=%{y}<extra></extra>",
         "hovertext": [
          "Burn the Witch",
          "Daydreaming",
          "Decks Dark",
          "Desert Island Disk",
          "Ful Stop",
          "Glass Eyes",
          "Identikit",
          "The Numbers",
          "Present Tense",
          "Tinker Tailor Soldier Sailor Rich Man Poor Man Beggar Man Thief",
          "True Love Waits"
         ],
         "legendgroup": "A Moon Shaped Pool",
         "marker": {
          "color": "#FF97FF",
          "pattern": {
           "shape": ""
          }
         },
         "name": "A Moon Shaped Pool",
         "offsetgroup": "A Moon Shaped Pool",
         "orientation": "v",
         "showlegend": true,
         "textposition": "auto",
         "type": "bar",
         "x": [
          90,
          91,
          92,
          93,
          94,
          95,
          96,
          97,
          98,
          99,
          100
         ],
         "xaxis": "x3",
         "y": [
          3.676816666666667,
          6.4073,
          4.683516666666667,
          3.7449666666666666,
          6.122466666666667,
          2.88225,
          4.44405,
          5.764766666666667,
          5.109683333333333,
          5.061466666666667,
          4.724383333333333
         ],
         "yaxis": "y3"
        }
       ],
       "layout": {
        "annotations": [
         {
          "font": {},
          "showarrow": false,
          "text": "Album Name=In Rainbows",
          "x": 0.15999999999999998,
          "xanchor": "center",
          "xref": "paper",
          "y": 0.2866666666666666,
          "yanchor": "bottom",
          "yref": "paper"
         },
         {
          "font": {},
          "showarrow": false,
          "text": "Album Name=The King Of Limbs",
          "x": 0.49999999999999994,
          "xanchor": "center",
          "xref": "paper",
          "y": 0.2866666666666666,
          "yanchor": "bottom",
          "yref": "paper"
         },
         {
          "font": {},
          "showarrow": false,
          "text": "Album Name=A Moon Shaped Pool",
          "x": 0.8399999999999999,
          "xanchor": "center",
          "xref": "paper",
          "y": 0.2866666666666666,
          "yanchor": "bottom",
          "yref": "paper"
         },
         {
          "font": {},
          "showarrow": false,
          "text": "Album Name=Kid A",
          "x": 0.15999999999999998,
          "xanchor": "center",
          "xref": "paper",
          "y": 0.6433333333333333,
          "yanchor": "bottom",
          "yref": "paper"
         },
         {
          "font": {},
          "showarrow": false,
          "text": "Album Name=Amnesiac",
          "x": 0.49999999999999994,
          "xanchor": "center",
          "xref": "paper",
          "y": 0.6433333333333333,
          "yanchor": "bottom",
          "yref": "paper"
         },
         {
          "font": {},
          "showarrow": false,
          "text": "Album Name=Hail To the Thief",
          "x": 0.8399999999999999,
          "xanchor": "center",
          "xref": "paper",
          "y": 0.6433333333333333,
          "yanchor": "bottom",
          "yref": "paper"
         },
         {
          "font": {},
          "showarrow": false,
          "text": "Album Name=Pablo Honey",
          "x": 0.15999999999999998,
          "xanchor": "center",
          "xref": "paper",
          "y": 0.9999999999999999,
          "yanchor": "bottom",
          "yref": "paper"
         },
         {
          "font": {},
          "showarrow": false,
          "text": "Album Name=The Bends",
          "x": 0.49999999999999994,
          "xanchor": "center",
          "xref": "paper",
          "y": 0.9999999999999999,
          "yanchor": "bottom",
          "yref": "paper"
         },
         {
          "font": {},
          "showarrow": false,
          "text": "Album Name=OK Computer",
          "x": 0.8399999999999999,
          "xanchor": "center",
          "xref": "paper",
          "y": 0.9999999999999999,
          "yanchor": "bottom",
          "yref": "paper"
         }
        ],
        "barmode": "relative",
        "height": 600,
        "legend": {
         "title": {
          "text": "Album Name"
         },
         "tracegroupgap": 0
        },
        "template": {
         "data": {
          "bar": [
           {
            "error_x": {
             "color": "#f2f5fa"
            },
            "error_y": {
             "color": "#f2f5fa"
            },
            "marker": {
             "line": {
              "color": "rgb(17,17,17)",
              "width": 0.5
             },
             "pattern": {
              "fillmode": "overlay",
              "size": 10,
              "solidity": 0.2
             }
            },
            "type": "bar"
           }
          ],
          "barpolar": [
           {
            "marker": {
             "line": {
              "color": "rgb(17,17,17)",
              "width": 0.5
             },
             "pattern": {
              "fillmode": "overlay",
              "size": 10,
              "solidity": 0.2
             }
            },
            "type": "barpolar"
           }
          ],
          "carpet": [
           {
            "aaxis": {
             "endlinecolor": "#A2B1C6",
             "gridcolor": "#506784",
             "linecolor": "#506784",
             "minorgridcolor": "#506784",
             "startlinecolor": "#A2B1C6"
            },
            "baxis": {
             "endlinecolor": "#A2B1C6",
             "gridcolor": "#506784",
             "linecolor": "#506784",
             "minorgridcolor": "#506784",
             "startlinecolor": "#A2B1C6"
            },
            "type": "carpet"
           }
          ],
          "choropleth": [
           {
            "colorbar": {
             "outlinewidth": 0,
             "ticks": ""
            },
            "type": "choropleth"
           }
          ],
          "contour": [
           {
            "colorbar": {
             "outlinewidth": 0,
             "ticks": ""
            },
            "colorscale": [
             [
              0,
              "#0d0887"
             ],
             [
              0.1111111111111111,
              "#46039f"
             ],
             [
              0.2222222222222222,
              "#7201a8"
             ],
             [
              0.3333333333333333,
              "#9c179e"
             ],
             [
              0.4444444444444444,
              "#bd3786"
             ],
             [
              0.5555555555555556,
              "#d8576b"
             ],
             [
              0.6666666666666666,
              "#ed7953"
             ],
             [
              0.7777777777777778,
              "#fb9f3a"
             ],
             [
              0.8888888888888888,
              "#fdca26"
             ],
             [
              1,
              "#f0f921"
             ]
            ],
            "type": "contour"
           }
          ],
          "contourcarpet": [
           {
            "colorbar": {
             "outlinewidth": 0,
             "ticks": ""
            },
            "type": "contourcarpet"
           }
          ],
          "heatmap": [
           {
            "colorbar": {
             "outlinewidth": 0,
             "ticks": ""
            },
            "colorscale": [
             [
              0,
              "#0d0887"
             ],
             [
              0.1111111111111111,
              "#46039f"
             ],
             [
              0.2222222222222222,
              "#7201a8"
             ],
             [
              0.3333333333333333,
              "#9c179e"
             ],
             [
              0.4444444444444444,
              "#bd3786"
             ],
             [
              0.5555555555555556,
              "#d8576b"
             ],
             [
              0.6666666666666666,
              "#ed7953"
             ],
             [
              0.7777777777777778,
              "#fb9f3a"
             ],
             [
              0.8888888888888888,
              "#fdca26"
             ],
             [
              1,
              "#f0f921"
             ]
            ],
            "type": "heatmap"
           }
          ],
          "heatmapgl": [
           {
            "colorbar": {
             "outlinewidth": 0,
             "ticks": ""
            },
            "colorscale": [
             [
              0,
              "#0d0887"
             ],
             [
              0.1111111111111111,
              "#46039f"
             ],
             [
              0.2222222222222222,
              "#7201a8"
             ],
             [
              0.3333333333333333,
              "#9c179e"
             ],
             [
              0.4444444444444444,
              "#bd3786"
             ],
             [
              0.5555555555555556,
              "#d8576b"
             ],
             [
              0.6666666666666666,
              "#ed7953"
             ],
             [
              0.7777777777777778,
              "#fb9f3a"
             ],
             [
              0.8888888888888888,
              "#fdca26"
             ],
             [
              1,
              "#f0f921"
             ]
            ],
            "type": "heatmapgl"
           }
          ],
          "histogram": [
           {
            "marker": {
             "pattern": {
              "fillmode": "overlay",
              "size": 10,
              "solidity": 0.2
             }
            },
            "type": "histogram"
           }
          ],
          "histogram2d": [
           {
            "colorbar": {
             "outlinewidth": 0,
             "ticks": ""
            },
            "colorscale": [
             [
              0,
              "#0d0887"
             ],
             [
              0.1111111111111111,
              "#46039f"
             ],
             [
              0.2222222222222222,
              "#7201a8"
             ],
             [
              0.3333333333333333,
              "#9c179e"
             ],
             [
              0.4444444444444444,
              "#bd3786"
             ],
             [
              0.5555555555555556,
              "#d8576b"
             ],
             [
              0.6666666666666666,
              "#ed7953"
             ],
             [
              0.7777777777777778,
              "#fb9f3a"
             ],
             [
              0.8888888888888888,
              "#fdca26"
             ],
             [
              1,
              "#f0f921"
             ]
            ],
            "type": "histogram2d"
           }
          ],
          "histogram2dcontour": [
           {
            "colorbar": {
             "outlinewidth": 0,
             "ticks": ""
            },
            "colorscale": [
             [
              0,
              "#0d0887"
             ],
             [
              0.1111111111111111,
              "#46039f"
             ],
             [
              0.2222222222222222,
              "#7201a8"
             ],
             [
              0.3333333333333333,
              "#9c179e"
             ],
             [
              0.4444444444444444,
              "#bd3786"
             ],
             [
              0.5555555555555556,
              "#d8576b"
             ],
             [
              0.6666666666666666,
              "#ed7953"
             ],
             [
              0.7777777777777778,
              "#fb9f3a"
             ],
             [
              0.8888888888888888,
              "#fdca26"
             ],
             [
              1,
              "#f0f921"
             ]
            ],
            "type": "histogram2dcontour"
           }
          ],
          "mesh3d": [
           {
            "colorbar": {
             "outlinewidth": 0,
             "ticks": ""
            },
            "type": "mesh3d"
           }
          ],
          "parcoords": [
           {
            "line": {
             "colorbar": {
              "outlinewidth": 0,
              "ticks": ""
             }
            },
            "type": "parcoords"
           }
          ],
          "pie": [
           {
            "automargin": true,
            "type": "pie"
           }
          ],
          "scatter": [
           {
            "marker": {
             "line": {
              "color": "#283442"
             }
            },
            "type": "scatter"
           }
          ],
          "scatter3d": [
           {
            "line": {
             "colorbar": {
              "outlinewidth": 0,
              "ticks": ""
             }
            },
            "marker": {
             "colorbar": {
              "outlinewidth": 0,
              "ticks": ""
             }
            },
            "type": "scatter3d"
           }
          ],
          "scattercarpet": [
           {
            "marker": {
             "colorbar": {
              "outlinewidth": 0,
              "ticks": ""
             }
            },
            "type": "scattercarpet"
           }
          ],
          "scattergeo": [
           {
            "marker": {
             "colorbar": {
              "outlinewidth": 0,
              "ticks": ""
             }
            },
            "type": "scattergeo"
           }
          ],
          "scattergl": [
           {
            "marker": {
             "line": {
              "color": "#283442"
             }
            },
            "type": "scattergl"
           }
          ],
          "scattermapbox": [
           {
            "marker": {
             "colorbar": {
              "outlinewidth": 0,
              "ticks": ""
             }
            },
            "type": "scattermapbox"
           }
          ],
          "scatterpolar": [
           {
            "marker": {
             "colorbar": {
              "outlinewidth": 0,
              "ticks": ""
             }
            },
            "type": "scatterpolar"
           }
          ],
          "scatterpolargl": [
           {
            "marker": {
             "colorbar": {
              "outlinewidth": 0,
              "ticks": ""
             }
            },
            "type": "scatterpolargl"
           }
          ],
          "scatterternary": [
           {
            "marker": {
             "colorbar": {
              "outlinewidth": 0,
              "ticks": ""
             }
            },
            "type": "scatterternary"
           }
          ],
          "surface": [
           {
            "colorbar": {
             "outlinewidth": 0,
             "ticks": ""
            },
            "colorscale": [
             [
              0,
              "#0d0887"
             ],
             [
              0.1111111111111111,
              "#46039f"
             ],
             [
              0.2222222222222222,
              "#7201a8"
             ],
             [
              0.3333333333333333,
              "#9c179e"
             ],
             [
              0.4444444444444444,
              "#bd3786"
             ],
             [
              0.5555555555555556,
              "#d8576b"
             ],
             [
              0.6666666666666666,
              "#ed7953"
             ],
             [
              0.7777777777777778,
              "#fb9f3a"
             ],
             [
              0.8888888888888888,
              "#fdca26"
             ],
             [
              1,
              "#f0f921"
             ]
            ],
            "type": "surface"
           }
          ],
          "table": [
           {
            "cells": {
             "fill": {
              "color": "#506784"
             },
             "line": {
              "color": "rgb(17,17,17)"
             }
            },
            "header": {
             "fill": {
              "color": "#2a3f5f"
             },
             "line": {
              "color": "rgb(17,17,17)"
             }
            },
            "type": "table"
           }
          ]
         },
         "layout": {
          "annotationdefaults": {
           "arrowcolor": "#f2f5fa",
           "arrowhead": 0,
           "arrowwidth": 1
          },
          "autotypenumbers": "strict",
          "coloraxis": {
           "colorbar": {
            "outlinewidth": 0,
            "ticks": ""
           }
          },
          "colorscale": {
           "diverging": [
            [
             0,
             "#8e0152"
            ],
            [
             0.1,
             "#c51b7d"
            ],
            [
             0.2,
             "#de77ae"
            ],
            [
             0.3,
             "#f1b6da"
            ],
            [
             0.4,
             "#fde0ef"
            ],
            [
             0.5,
             "#f7f7f7"
            ],
            [
             0.6,
             "#e6f5d0"
            ],
            [
             0.7,
             "#b8e186"
            ],
            [
             0.8,
             "#7fbc41"
            ],
            [
             0.9,
             "#4d9221"
            ],
            [
             1,
             "#276419"
            ]
           ],
           "sequential": [
            [
             0,
             "#0d0887"
            ],
            [
             0.1111111111111111,
             "#46039f"
            ],
            [
             0.2222222222222222,
             "#7201a8"
            ],
            [
             0.3333333333333333,
             "#9c179e"
            ],
            [
             0.4444444444444444,
             "#bd3786"
            ],
            [
             0.5555555555555556,
             "#d8576b"
            ],
            [
             0.6666666666666666,
             "#ed7953"
            ],
            [
             0.7777777777777778,
             "#fb9f3a"
            ],
            [
             0.8888888888888888,
             "#fdca26"
            ],
            [
             1,
             "#f0f921"
            ]
           ],
           "sequentialminus": [
            [
             0,
             "#0d0887"
            ],
            [
             0.1111111111111111,
             "#46039f"
            ],
            [
             0.2222222222222222,
             "#7201a8"
            ],
            [
             0.3333333333333333,
             "#9c179e"
            ],
            [
             0.4444444444444444,
             "#bd3786"
            ],
            [
             0.5555555555555556,
             "#d8576b"
            ],
            [
             0.6666666666666666,
             "#ed7953"
            ],
            [
             0.7777777777777778,
             "#fb9f3a"
            ],
            [
             0.8888888888888888,
             "#fdca26"
            ],
            [
             1,
             "#f0f921"
            ]
           ]
          },
          "colorway": [
           "#636efa",
           "#EF553B",
           "#00cc96",
           "#ab63fa",
           "#FFA15A",
           "#19d3f3",
           "#FF6692",
           "#B6E880",
           "#FF97FF",
           "#FECB52"
          ],
          "font": {
           "color": "#f2f5fa"
          },
          "geo": {
           "bgcolor": "rgb(17,17,17)",
           "lakecolor": "rgb(17,17,17)",
           "landcolor": "rgb(17,17,17)",
           "showlakes": true,
           "showland": true,
           "subunitcolor": "#506784"
          },
          "hoverlabel": {
           "align": "left"
          },
          "hovermode": "closest",
          "mapbox": {
           "style": "dark"
          },
          "paper_bgcolor": "rgb(17,17,17)",
          "plot_bgcolor": "rgb(17,17,17)",
          "polar": {
           "angularaxis": {
            "gridcolor": "#506784",
            "linecolor": "#506784",
            "ticks": ""
           },
           "bgcolor": "rgb(17,17,17)",
           "radialaxis": {
            "gridcolor": "#506784",
            "linecolor": "#506784",
            "ticks": ""
           }
          },
          "scene": {
           "xaxis": {
            "backgroundcolor": "rgb(17,17,17)",
            "gridcolor": "#506784",
            "gridwidth": 2,
            "linecolor": "#506784",
            "showbackground": true,
            "ticks": "",
            "zerolinecolor": "#C8D4E3"
           },
           "yaxis": {
            "backgroundcolor": "rgb(17,17,17)",
            "gridcolor": "#506784",
            "gridwidth": 2,
            "linecolor": "#506784",
            "showbackground": true,
            "ticks": "",
            "zerolinecolor": "#C8D4E3"
           },
           "zaxis": {
            "backgroundcolor": "rgb(17,17,17)",
            "gridcolor": "#506784",
            "gridwidth": 2,
            "linecolor": "#506784",
            "showbackground": true,
            "ticks": "",
            "zerolinecolor": "#C8D4E3"
           }
          },
          "shapedefaults": {
           "line": {
            "color": "#f2f5fa"
           }
          },
          "sliderdefaults": {
           "bgcolor": "#C8D4E3",
           "bordercolor": "rgb(17,17,17)",
           "borderwidth": 1,
           "tickwidth": 0
          },
          "ternary": {
           "aaxis": {
            "gridcolor": "#506784",
            "linecolor": "#506784",
            "ticks": ""
           },
           "baxis": {
            "gridcolor": "#506784",
            "linecolor": "#506784",
            "ticks": ""
           },
           "bgcolor": "rgb(17,17,17)",
           "caxis": {
            "gridcolor": "#506784",
            "linecolor": "#506784",
            "ticks": ""
           }
          },
          "title": {
           "x": 0.05
          },
          "updatemenudefaults": {
           "bgcolor": "#506784",
           "borderwidth": 0
          },
          "xaxis": {
           "automargin": true,
           "gridcolor": "#283442",
           "linecolor": "#506784",
           "ticks": "",
           "title": {
            "standoff": 15
           },
           "zerolinecolor": "#283442",
           "zerolinewidth": 2
          },
          "yaxis": {
           "automargin": true,
           "gridcolor": "#283442",
           "linecolor": "#506784",
           "ticks": "",
           "title": {
            "standoff": 15
           },
           "zerolinecolor": "#283442",
           "zerolinewidth": 2
          }
         }
        },
        "title": {
         "text": "<b>The Temporal Profile of Every Radiohead Album</b> <br>How about those valleys in the profiles?"
        },
        "width": 2000,
        "xaxis": {
         "anchor": "y",
         "domain": [
          0,
          0.31999999999999995
         ],
         "title": {
          "text": "index"
         }
        },
        "xaxis2": {
         "anchor": "y2",
         "domain": [
          0.33999999999999997,
          0.6599999999999999
         ],
         "matches": "x",
         "title": {
          "text": "index"
         }
        },
        "xaxis3": {
         "anchor": "y3",
         "domain": [
          0.6799999999999999,
          0.9999999999999999
         ],
         "matches": "x",
         "title": {
          "text": "index"
         }
        },
        "xaxis4": {
         "anchor": "y4",
         "domain": [
          0,
          0.31999999999999995
         ],
         "matches": "x",
         "showticklabels": false
        },
        "xaxis5": {
         "anchor": "y5",
         "domain": [
          0.33999999999999997,
          0.6599999999999999
         ],
         "matches": "x",
         "showticklabels": false
        },
        "xaxis6": {
         "anchor": "y6",
         "domain": [
          0.6799999999999999,
          0.9999999999999999
         ],
         "matches": "x",
         "showticklabels": false
        },
        "xaxis7": {
         "anchor": "y7",
         "domain": [
          0,
          0.31999999999999995
         ],
         "matches": "x",
         "showticklabels": false
        },
        "xaxis8": {
         "anchor": "y8",
         "domain": [
          0.33999999999999997,
          0.6599999999999999
         ],
         "matches": "x",
         "showticklabels": false
        },
        "xaxis9": {
         "anchor": "y9",
         "domain": [
          0.6799999999999999,
          0.9999999999999999
         ],
         "matches": "x",
         "showticklabels": false
        },
        "yaxis": {
         "anchor": "x",
         "domain": [
          0,
          0.2866666666666666
         ],
         "title": {
          "text": "Duration in Minutes"
         }
        },
        "yaxis2": {
         "anchor": "x2",
         "domain": [
          0,
          0.2866666666666666
         ],
         "matches": "y",
         "showticklabels": false
        },
        "yaxis3": {
         "anchor": "x3",
         "domain": [
          0,
          0.2866666666666666
         ],
         "matches": "y",
         "showticklabels": false
        },
        "yaxis4": {
         "anchor": "x4",
         "domain": [
          0.35666666666666663,
          0.6433333333333333
         ],
         "matches": "y",
         "title": {
          "text": "Duration in Minutes"
         }
        },
        "yaxis5": {
         "anchor": "x5",
         "domain": [
          0.35666666666666663,
          0.6433333333333333
         ],
         "matches": "y",
         "showticklabels": false
        },
        "yaxis6": {
         "anchor": "x6",
         "domain": [
          0.35666666666666663,
          0.6433333333333333
         ],
         "matches": "y",
         "showticklabels": false
        },
        "yaxis7": {
         "anchor": "x7",
         "domain": [
          0.7133333333333333,
          0.9999999999999999
         ],
         "matches": "y",
         "title": {
          "text": "Duration in Minutes"
         }
        },
        "yaxis8": {
         "anchor": "x8",
         "domain": [
          0.7133333333333333,
          0.9999999999999999
         ],
         "matches": "y",
         "showticklabels": false
        },
        "yaxis9": {
         "anchor": "x9",
         "domain": [
          0.7133333333333333,
          0.9999999999999999
         ],
         "matches": "y",
         "showticklabels": false
        }
       }
      }
     },
     "metadata": {},
     "output_type": "display_data"
    }
   ],
   "source": [
    "#Plot Temporal Profiles\n",
    "fig = px.bar(df_radiohead, y= 'Duration_mins', color = 'Album', hover_name= 'Track',\n",
    "            labels={'Album':'Album Name', 'Duration_mins': 'Duration in Minutes', 'Track':'Track Name'},\n",
    "            title= '<b>The Temporal Profile of Every Radiohead Album</b> <br>How about those valleys in the profiles?',\n",
    "            template='plotly_dark', facet_col= 'Album', facet_col_wrap=3, height=600, width=2000,)\n",
    "\n",
    "\n",
    "fig.show()"
   ]
  },
  {
   "cell_type": "markdown",
   "id": "94893c65",
   "metadata": {},
   "source": [
    "Looking at these profiles we can see that the band loves to put in a tempo change song more often than not. In 6 out of 9 records Radiohead inserted sub-three-minute tracks at the halfway to two-third mark to alter the mood of the musical flow. It is an interesting stylistic choice."
   ]
  },
  {
   "cell_type": "markdown",
   "id": "54c4a614",
   "metadata": {},
   "source": [
    "### Hard facts #4 - Number of words\n",
    "\n",
    "Lead songwriter Thom Yorke produces often haunting, but beautiful lyrics. By looking at the number of words in the individual tracks we can see, if the amount the band actually had to say did change over time:"
   ]
  },
  {
   "cell_type": "code",
   "execution_count": 138,
   "id": "5bdc0401",
   "metadata": {},
   "outputs": [
    {
     "data": {
      "application/vnd.plotly.v1+json": {
       "config": {
        "plotlyServerURL": "https://plot.ly"
       },
       "data": [
        {
         "alignmentgroup": "True",
         "hovertemplate": "<b>%{hovertext}</b><br><br>Album Name=%{x}<br>Number of Words=%{y}<extra></extra>",
         "hovertext": [
          "You",
          "Creep",
          "How Do You?",
          "Stop Whispering",
          "Thinking About You",
          "Anyone Can Play Guitar",
          "Ripcord",
          "Vegetable",
          "Prove Yourself",
          "I Can't",
          "Lurgee",
          "Blow Out"
         ],
         "legendgroup": "Pablo Honey",
         "marker": {
          "color": "#636efa",
          "pattern": {
           "shape": ""
          }
         },
         "name": "Pablo Honey",
         "offsetgroup": "Pablo Honey",
         "orientation": "v",
         "showlegend": true,
         "textposition": "auto",
         "type": "bar",
         "x": [
          "Pablo Honey",
          "Pablo Honey",
          "Pablo Honey",
          "Pablo Honey",
          "Pablo Honey",
          "Pablo Honey",
          "Pablo Honey",
          "Pablo Honey",
          "Pablo Honey",
          "Pablo Honey",
          "Pablo Honey",
          "Pablo Honey"
         ],
         "xaxis": "x",
         "y": [
          33,
          85,
          38,
          82,
          81,
          75,
          52,
          73,
          65,
          92,
          51,
          45
         ],
         "yaxis": "y"
        },
        {
         "alignmentgroup": "True",
         "hovertemplate": "<b>%{hovertext}</b><br><br>Album Name=%{x}<br>Number of Words=%{y}<extra></extra>",
         "hovertext": [
          "Planet Telex",
          "The Bends",
          "High and Dry",
          "Fake Plastic Trees",
          "Bones",
          "(Nice Dream)",
          "Just",
          "My Iron Lung",
          "Bullet Proof ... I Wish I Was",
          "Black Star",
          "Sulk",
          "Street Spirit (Fade Out)"
         ],
         "legendgroup": "The Bends",
         "marker": {
          "color": "#EF553B",
          "pattern": {
           "shape": ""
          }
         },
         "name": "The Bends",
         "offsetgroup": "The Bends",
         "orientation": "v",
         "showlegend": true,
         "textposition": "auto",
         "type": "bar",
         "x": [
          "The Bends",
          "The Bends",
          "The Bends",
          "The Bends",
          "The Bends",
          "The Bends",
          "The Bends",
          "The Bends",
          "The Bends",
          "The Bends",
          "The Bends",
          "The Bends"
         ],
         "xaxis": "x",
         "y": [
          47,
          123,
          121,
          71,
          59,
          74,
          60,
          110,
          37,
          86,
          80,
          78
         ],
         "yaxis": "y"
        },
        {
         "alignmentgroup": "True",
         "hovertemplate": "<b>%{hovertext}</b><br><br>Album Name=%{x}<br>Number of Words=%{y}<extra></extra>",
         "hovertext": [
          "Airbag",
          "Paranoid Android",
          "Subterranean Homesick Alien",
          "Exit Music (For A Film)",
          "Let Down",
          "Karma Police",
          "Fitter Happier",
          "Electioneering",
          "Climbing Up the Walls",
          "No Surprises",
          "Lucky",
          "The Tourist"
         ],
         "legendgroup": "OK Computer",
         "marker": {
          "color": "#00cc96",
          "pattern": {
           "shape": ""
          }
         },
         "name": "OK Computer",
         "offsetgroup": "OK Computer",
         "orientation": "v",
         "showlegend": true,
         "textposition": "auto",
         "type": "bar",
         "x": [
          "OK Computer",
          "OK Computer",
          "OK Computer",
          "OK Computer",
          "OK Computer",
          "OK Computer",
          "OK Computer",
          "OK Computer",
          "OK Computer",
          "OK Computer",
          "OK Computer",
          "OK Computer"
         ],
         "xaxis": "x",
         "y": [
          45,
          105,
          95,
          56,
          95,
          57,
          148,
          47,
          74,
          60,
          51,
          49
         ],
         "yaxis": "y"
        },
        {
         "alignmentgroup": "True",
         "hovertemplate": "<b>%{hovertext}</b><br><br>Album Name=%{x}<br>Number of Words=%{y}<extra></extra>",
         "hovertext": [
          "Everything In Its Right Place",
          "Kid A",
          "The National Anthem",
          "How to Disappear Completely",
          "Treefingers",
          "Optimistic",
          "In Limbo",
          "Idioteque",
          "Morning Bell",
          "Motion Picture Soundtrack",
          "Untitled"
         ],
         "legendgroup": "Kid A",
         "marker": {
          "color": "#ab63fa",
          "pattern": {
           "shape": ""
          }
         },
         "name": "Kid A",
         "offsetgroup": "Kid A",
         "orientation": "v",
         "showlegend": true,
         "textposition": "auto",
         "type": "bar",
         "x": [
          "Kid A",
          "Kid A",
          "Kid A",
          "Kid A",
          "Kid A",
          "Kid A",
          "Kid A",
          "Kid A",
          "Kid A",
          "Kid A",
          "Kid A"
         ],
         "xaxis": "x",
         "y": [
          65,
          46,
          19,
          47,
          0,
          104,
          102,
          154,
          82,
          48,
          0
         ],
         "yaxis": "y"
        },
        {
         "alignmentgroup": "True",
         "hovertemplate": "<b>%{hovertext}</b><br><br>Album Name=%{x}<br>Number of Words=%{y}<extra></extra>",
         "hovertext": [
          "Packt Like Sardines In a Crushd Tin Box",
          "Pyramid Song",
          "Pulk/Pull Revolving Doors",
          "You And Whose Army?",
          "I Might Be Wrong",
          "Knives Out",
          "Morning Bell/Amnesiac",
          "Dollars and Cents",
          "Hunting Bears",
          "Like Spinning Plates",
          "Life In a Glasshouse"
         ],
         "legendgroup": "Amnesiac",
         "marker": {
          "color": "#FFA15A",
          "pattern": {
           "shape": ""
          }
         },
         "name": "Amnesiac",
         "offsetgroup": "Amnesiac",
         "orientation": "v",
         "showlegend": true,
         "textposition": "auto",
         "type": "bar",
         "x": [
          "Amnesiac",
          "Amnesiac",
          "Amnesiac",
          "Amnesiac",
          "Amnesiac",
          "Amnesiac",
          "Amnesiac",
          "Amnesiac",
          "Amnesiac",
          "Amnesiac",
          "Amnesiac"
         ],
         "xaxis": "x",
         "y": [
          99,
          59,
          28,
          47,
          50,
          57,
          56,
          120,
          0,
          27,
          83
         ],
         "yaxis": "y"
        },
        {
         "alignmentgroup": "True",
         "hovertemplate": "<b>%{hovertext}</b><br><br>Album Name=%{x}<br>Number of Words=%{y}<extra></extra>",
         "hovertext": [
          "2 + 2 = 5",
          "Sit Down. Stand Up",
          "Sail To The Moon",
          "Backdrifts",
          "Go To Sleep",
          "Where I End and You Begin",
          "We Suck Young Blood",
          "The Gloaming",
          "There, There",
          "I Will",
          "A Punch Up at a Wedding",
          "Myxomatosis",
          "Scatterbrain",
          "A Wolf At the Door"
         ],
         "legendgroup": "Hail To the Thief",
         "marker": {
          "color": "#19d3f3",
          "pattern": {
           "shape": ""
          }
         },
         "name": "Hail To the Thief",
         "offsetgroup": "Hail To the Thief",
         "orientation": "v",
         "showlegend": true,
         "textposition": "auto",
         "type": "bar",
         "x": [
          "Hail To the Thief",
          "Hail To the Thief",
          "Hail To the Thief",
          "Hail To the Thief",
          "Hail To the Thief",
          "Hail To the Thief",
          "Hail To the Thief",
          "Hail To the Thief",
          "Hail To the Thief",
          "Hail To the Thief",
          "Hail To the Thief",
          "Hail To the Thief",
          "Hail To the Thief",
          "Hail To the Thief"
         ],
         "xaxis": "x",
         "y": [
          114,
          77,
          28,
          71,
          57,
          101,
          43,
          72,
          74,
          34,
          50,
          99,
          45,
          181
         ],
         "yaxis": "y"
        },
        {
         "alignmentgroup": "True",
         "hovertemplate": "<b>%{hovertext}</b><br><br>Album Name=%{x}<br>Number of Words=%{y}<extra></extra>",
         "hovertext": [
          "15 Step",
          "Bodysnatchers",
          "Nude",
          "Weird Fishes/ Arpeggi",
          "All I Need",
          "Faust Arp",
          "Reckoner",
          "House Of Cards",
          "Jigsaw Falling Into Place",
          "Videotape"
         ],
         "legendgroup": "In Rainbows",
         "marker": {
          "color": "#FF6692",
          "pattern": {
           "shape": ""
          }
         },
         "name": "In Rainbows",
         "offsetgroup": "In Rainbows",
         "orientation": "v",
         "showlegend": true,
         "textposition": "auto",
         "type": "bar",
         "x": [
          "In Rainbows",
          "In Rainbows",
          "In Rainbows",
          "In Rainbows",
          "In Rainbows",
          "In Rainbows",
          "In Rainbows",
          "In Rainbows",
          "In Rainbows",
          "In Rainbows"
         ],
         "xaxis": "x",
         "y": [
          73,
          81,
          37,
          59,
          50,
          89,
          33,
          59,
          111,
          50
         ],
         "yaxis": "y"
        },
        {
         "alignmentgroup": "True",
         "hovertemplate": "<b>%{hovertext}</b><br><br>Album Name=%{x}<br>Number of Words=%{y}<extra></extra>",
         "hovertext": [
          "Bloom",
          "Morning Mr Magpie",
          "Little By Little",
          "Feral",
          "Lotus Flower",
          "Codex",
          "Give Up The Ghost",
          "Separator"
         ],
         "legendgroup": "The King Of Limbs",
         "marker": {
          "color": "#B6E880",
          "pattern": {
           "shape": ""
          }
         },
         "name": "The King Of Limbs",
         "offsetgroup": "The King Of Limbs",
         "orientation": "v",
         "showlegend": true,
         "textposition": "auto",
         "type": "bar",
         "x": [
          "The King Of Limbs",
          "The King Of Limbs",
          "The King Of Limbs",
          "The King Of Limbs",
          "The King Of Limbs",
          "The King Of Limbs",
          "The King Of Limbs",
          "The King Of Limbs"
         ],
         "xaxis": "x",
         "y": [
          34,
          41,
          81,
          12,
          115,
          29,
          114,
          117
         ],
         "yaxis": "y"
        },
        {
         "alignmentgroup": "True",
         "hovertemplate": "<b>%{hovertext}</b><br><br>Album Name=%{x}<br>Number of Words=%{y}<extra></extra>",
         "hovertext": [
          "Burn the Witch",
          "Daydreaming",
          "Decks Dark",
          "Desert Island Disk",
          "Ful Stop",
          "Glass Eyes",
          "Identikit",
          "The Numbers",
          "Present Tense",
          "Tinker Tailor Soldier Sailor Rich Man Poor Man Beggar Man Thief",
          "True Love Waits"
         ],
         "legendgroup": "A Moon Shaped Pool",
         "marker": {
          "color": "#FF97FF",
          "pattern": {
           "shape": ""
          }
         },
         "name": "A Moon Shaped Pool",
         "offsetgroup": "A Moon Shaped Pool",
         "orientation": "v",
         "showlegend": true,
         "textposition": "auto",
         "type": "bar",
         "x": [
          "A Moon Shaped Pool",
          "A Moon Shaped Pool",
          "A Moon Shaped Pool",
          "A Moon Shaped Pool",
          "A Moon Shaped Pool",
          "A Moon Shaped Pool",
          "A Moon Shaped Pool",
          "A Moon Shaped Pool",
          "A Moon Shaped Pool",
          "A Moon Shaped Pool",
          "A Moon Shaped Pool"
         ],
         "xaxis": "x",
         "y": [
          51,
          90,
          97,
          76,
          119,
          64,
          176,
          73,
          63,
          39,
          43
         ],
         "yaxis": "y"
        }
       ],
       "layout": {
        "barmode": "relative",
        "legend": {
         "title": {
          "text": "Album Name"
         },
         "tracegroupgap": 0
        },
        "template": {
         "data": {
          "bar": [
           {
            "error_x": {
             "color": "#f2f5fa"
            },
            "error_y": {
             "color": "#f2f5fa"
            },
            "marker": {
             "line": {
              "color": "rgb(17,17,17)",
              "width": 0.5
             },
             "pattern": {
              "fillmode": "overlay",
              "size": 10,
              "solidity": 0.2
             }
            },
            "type": "bar"
           }
          ],
          "barpolar": [
           {
            "marker": {
             "line": {
              "color": "rgb(17,17,17)",
              "width": 0.5
             },
             "pattern": {
              "fillmode": "overlay",
              "size": 10,
              "solidity": 0.2
             }
            },
            "type": "barpolar"
           }
          ],
          "carpet": [
           {
            "aaxis": {
             "endlinecolor": "#A2B1C6",
             "gridcolor": "#506784",
             "linecolor": "#506784",
             "minorgridcolor": "#506784",
             "startlinecolor": "#A2B1C6"
            },
            "baxis": {
             "endlinecolor": "#A2B1C6",
             "gridcolor": "#506784",
             "linecolor": "#506784",
             "minorgridcolor": "#506784",
             "startlinecolor": "#A2B1C6"
            },
            "type": "carpet"
           }
          ],
          "choropleth": [
           {
            "colorbar": {
             "outlinewidth": 0,
             "ticks": ""
            },
            "type": "choropleth"
           }
          ],
          "contour": [
           {
            "colorbar": {
             "outlinewidth": 0,
             "ticks": ""
            },
            "colorscale": [
             [
              0,
              "#0d0887"
             ],
             [
              0.1111111111111111,
              "#46039f"
             ],
             [
              0.2222222222222222,
              "#7201a8"
             ],
             [
              0.3333333333333333,
              "#9c179e"
             ],
             [
              0.4444444444444444,
              "#bd3786"
             ],
             [
              0.5555555555555556,
              "#d8576b"
             ],
             [
              0.6666666666666666,
              "#ed7953"
             ],
             [
              0.7777777777777778,
              "#fb9f3a"
             ],
             [
              0.8888888888888888,
              "#fdca26"
             ],
             [
              1,
              "#f0f921"
             ]
            ],
            "type": "contour"
           }
          ],
          "contourcarpet": [
           {
            "colorbar": {
             "outlinewidth": 0,
             "ticks": ""
            },
            "type": "contourcarpet"
           }
          ],
          "heatmap": [
           {
            "colorbar": {
             "outlinewidth": 0,
             "ticks": ""
            },
            "colorscale": [
             [
              0,
              "#0d0887"
             ],
             [
              0.1111111111111111,
              "#46039f"
             ],
             [
              0.2222222222222222,
              "#7201a8"
             ],
             [
              0.3333333333333333,
              "#9c179e"
             ],
             [
              0.4444444444444444,
              "#bd3786"
             ],
             [
              0.5555555555555556,
              "#d8576b"
             ],
             [
              0.6666666666666666,
              "#ed7953"
             ],
             [
              0.7777777777777778,
              "#fb9f3a"
             ],
             [
              0.8888888888888888,
              "#fdca26"
             ],
             [
              1,
              "#f0f921"
             ]
            ],
            "type": "heatmap"
           }
          ],
          "heatmapgl": [
           {
            "colorbar": {
             "outlinewidth": 0,
             "ticks": ""
            },
            "colorscale": [
             [
              0,
              "#0d0887"
             ],
             [
              0.1111111111111111,
              "#46039f"
             ],
             [
              0.2222222222222222,
              "#7201a8"
             ],
             [
              0.3333333333333333,
              "#9c179e"
             ],
             [
              0.4444444444444444,
              "#bd3786"
             ],
             [
              0.5555555555555556,
              "#d8576b"
             ],
             [
              0.6666666666666666,
              "#ed7953"
             ],
             [
              0.7777777777777778,
              "#fb9f3a"
             ],
             [
              0.8888888888888888,
              "#fdca26"
             ],
             [
              1,
              "#f0f921"
             ]
            ],
            "type": "heatmapgl"
           }
          ],
          "histogram": [
           {
            "marker": {
             "pattern": {
              "fillmode": "overlay",
              "size": 10,
              "solidity": 0.2
             }
            },
            "type": "histogram"
           }
          ],
          "histogram2d": [
           {
            "colorbar": {
             "outlinewidth": 0,
             "ticks": ""
            },
            "colorscale": [
             [
              0,
              "#0d0887"
             ],
             [
              0.1111111111111111,
              "#46039f"
             ],
             [
              0.2222222222222222,
              "#7201a8"
             ],
             [
              0.3333333333333333,
              "#9c179e"
             ],
             [
              0.4444444444444444,
              "#bd3786"
             ],
             [
              0.5555555555555556,
              "#d8576b"
             ],
             [
              0.6666666666666666,
              "#ed7953"
             ],
             [
              0.7777777777777778,
              "#fb9f3a"
             ],
             [
              0.8888888888888888,
              "#fdca26"
             ],
             [
              1,
              "#f0f921"
             ]
            ],
            "type": "histogram2d"
           }
          ],
          "histogram2dcontour": [
           {
            "colorbar": {
             "outlinewidth": 0,
             "ticks": ""
            },
            "colorscale": [
             [
              0,
              "#0d0887"
             ],
             [
              0.1111111111111111,
              "#46039f"
             ],
             [
              0.2222222222222222,
              "#7201a8"
             ],
             [
              0.3333333333333333,
              "#9c179e"
             ],
             [
              0.4444444444444444,
              "#bd3786"
             ],
             [
              0.5555555555555556,
              "#d8576b"
             ],
             [
              0.6666666666666666,
              "#ed7953"
             ],
             [
              0.7777777777777778,
              "#fb9f3a"
             ],
             [
              0.8888888888888888,
              "#fdca26"
             ],
             [
              1,
              "#f0f921"
             ]
            ],
            "type": "histogram2dcontour"
           }
          ],
          "mesh3d": [
           {
            "colorbar": {
             "outlinewidth": 0,
             "ticks": ""
            },
            "type": "mesh3d"
           }
          ],
          "parcoords": [
           {
            "line": {
             "colorbar": {
              "outlinewidth": 0,
              "ticks": ""
             }
            },
            "type": "parcoords"
           }
          ],
          "pie": [
           {
            "automargin": true,
            "type": "pie"
           }
          ],
          "scatter": [
           {
            "marker": {
             "line": {
              "color": "#283442"
             }
            },
            "type": "scatter"
           }
          ],
          "scatter3d": [
           {
            "line": {
             "colorbar": {
              "outlinewidth": 0,
              "ticks": ""
             }
            },
            "marker": {
             "colorbar": {
              "outlinewidth": 0,
              "ticks": ""
             }
            },
            "type": "scatter3d"
           }
          ],
          "scattercarpet": [
           {
            "marker": {
             "colorbar": {
              "outlinewidth": 0,
              "ticks": ""
             }
            },
            "type": "scattercarpet"
           }
          ],
          "scattergeo": [
           {
            "marker": {
             "colorbar": {
              "outlinewidth": 0,
              "ticks": ""
             }
            },
            "type": "scattergeo"
           }
          ],
          "scattergl": [
           {
            "marker": {
             "line": {
              "color": "#283442"
             }
            },
            "type": "scattergl"
           }
          ],
          "scattermapbox": [
           {
            "marker": {
             "colorbar": {
              "outlinewidth": 0,
              "ticks": ""
             }
            },
            "type": "scattermapbox"
           }
          ],
          "scatterpolar": [
           {
            "marker": {
             "colorbar": {
              "outlinewidth": 0,
              "ticks": ""
             }
            },
            "type": "scatterpolar"
           }
          ],
          "scatterpolargl": [
           {
            "marker": {
             "colorbar": {
              "outlinewidth": 0,
              "ticks": ""
             }
            },
            "type": "scatterpolargl"
           }
          ],
          "scatterternary": [
           {
            "marker": {
             "colorbar": {
              "outlinewidth": 0,
              "ticks": ""
             }
            },
            "type": "scatterternary"
           }
          ],
          "surface": [
           {
            "colorbar": {
             "outlinewidth": 0,
             "ticks": ""
            },
            "colorscale": [
             [
              0,
              "#0d0887"
             ],
             [
              0.1111111111111111,
              "#46039f"
             ],
             [
              0.2222222222222222,
              "#7201a8"
             ],
             [
              0.3333333333333333,
              "#9c179e"
             ],
             [
              0.4444444444444444,
              "#bd3786"
             ],
             [
              0.5555555555555556,
              "#d8576b"
             ],
             [
              0.6666666666666666,
              "#ed7953"
             ],
             [
              0.7777777777777778,
              "#fb9f3a"
             ],
             [
              0.8888888888888888,
              "#fdca26"
             ],
             [
              1,
              "#f0f921"
             ]
            ],
            "type": "surface"
           }
          ],
          "table": [
           {
            "cells": {
             "fill": {
              "color": "#506784"
             },
             "line": {
              "color": "rgb(17,17,17)"
             }
            },
            "header": {
             "fill": {
              "color": "#2a3f5f"
             },
             "line": {
              "color": "rgb(17,17,17)"
             }
            },
            "type": "table"
           }
          ]
         },
         "layout": {
          "annotationdefaults": {
           "arrowcolor": "#f2f5fa",
           "arrowhead": 0,
           "arrowwidth": 1
          },
          "autotypenumbers": "strict",
          "coloraxis": {
           "colorbar": {
            "outlinewidth": 0,
            "ticks": ""
           }
          },
          "colorscale": {
           "diverging": [
            [
             0,
             "#8e0152"
            ],
            [
             0.1,
             "#c51b7d"
            ],
            [
             0.2,
             "#de77ae"
            ],
            [
             0.3,
             "#f1b6da"
            ],
            [
             0.4,
             "#fde0ef"
            ],
            [
             0.5,
             "#f7f7f7"
            ],
            [
             0.6,
             "#e6f5d0"
            ],
            [
             0.7,
             "#b8e186"
            ],
            [
             0.8,
             "#7fbc41"
            ],
            [
             0.9,
             "#4d9221"
            ],
            [
             1,
             "#276419"
            ]
           ],
           "sequential": [
            [
             0,
             "#0d0887"
            ],
            [
             0.1111111111111111,
             "#46039f"
            ],
            [
             0.2222222222222222,
             "#7201a8"
            ],
            [
             0.3333333333333333,
             "#9c179e"
            ],
            [
             0.4444444444444444,
             "#bd3786"
            ],
            [
             0.5555555555555556,
             "#d8576b"
            ],
            [
             0.6666666666666666,
             "#ed7953"
            ],
            [
             0.7777777777777778,
             "#fb9f3a"
            ],
            [
             0.8888888888888888,
             "#fdca26"
            ],
            [
             1,
             "#f0f921"
            ]
           ],
           "sequentialminus": [
            [
             0,
             "#0d0887"
            ],
            [
             0.1111111111111111,
             "#46039f"
            ],
            [
             0.2222222222222222,
             "#7201a8"
            ],
            [
             0.3333333333333333,
             "#9c179e"
            ],
            [
             0.4444444444444444,
             "#bd3786"
            ],
            [
             0.5555555555555556,
             "#d8576b"
            ],
            [
             0.6666666666666666,
             "#ed7953"
            ],
            [
             0.7777777777777778,
             "#fb9f3a"
            ],
            [
             0.8888888888888888,
             "#fdca26"
            ],
            [
             1,
             "#f0f921"
            ]
           ]
          },
          "colorway": [
           "#636efa",
           "#EF553B",
           "#00cc96",
           "#ab63fa",
           "#FFA15A",
           "#19d3f3",
           "#FF6692",
           "#B6E880",
           "#FF97FF",
           "#FECB52"
          ],
          "font": {
           "color": "#f2f5fa"
          },
          "geo": {
           "bgcolor": "rgb(17,17,17)",
           "lakecolor": "rgb(17,17,17)",
           "landcolor": "rgb(17,17,17)",
           "showlakes": true,
           "showland": true,
           "subunitcolor": "#506784"
          },
          "hoverlabel": {
           "align": "left"
          },
          "hovermode": "closest",
          "mapbox": {
           "style": "dark"
          },
          "paper_bgcolor": "rgb(17,17,17)",
          "plot_bgcolor": "rgb(17,17,17)",
          "polar": {
           "angularaxis": {
            "gridcolor": "#506784",
            "linecolor": "#506784",
            "ticks": ""
           },
           "bgcolor": "rgb(17,17,17)",
           "radialaxis": {
            "gridcolor": "#506784",
            "linecolor": "#506784",
            "ticks": ""
           }
          },
          "scene": {
           "xaxis": {
            "backgroundcolor": "rgb(17,17,17)",
            "gridcolor": "#506784",
            "gridwidth": 2,
            "linecolor": "#506784",
            "showbackground": true,
            "ticks": "",
            "zerolinecolor": "#C8D4E3"
           },
           "yaxis": {
            "backgroundcolor": "rgb(17,17,17)",
            "gridcolor": "#506784",
            "gridwidth": 2,
            "linecolor": "#506784",
            "showbackground": true,
            "ticks": "",
            "zerolinecolor": "#C8D4E3"
           },
           "zaxis": {
            "backgroundcolor": "rgb(17,17,17)",
            "gridcolor": "#506784",
            "gridwidth": 2,
            "linecolor": "#506784",
            "showbackground": true,
            "ticks": "",
            "zerolinecolor": "#C8D4E3"
           }
          },
          "shapedefaults": {
           "line": {
            "color": "#f2f5fa"
           }
          },
          "sliderdefaults": {
           "bgcolor": "#C8D4E3",
           "bordercolor": "rgb(17,17,17)",
           "borderwidth": 1,
           "tickwidth": 0
          },
          "ternary": {
           "aaxis": {
            "gridcolor": "#506784",
            "linecolor": "#506784",
            "ticks": ""
           },
           "baxis": {
            "gridcolor": "#506784",
            "linecolor": "#506784",
            "ticks": ""
           },
           "bgcolor": "rgb(17,17,17)",
           "caxis": {
            "gridcolor": "#506784",
            "linecolor": "#506784",
            "ticks": ""
           }
          },
          "title": {
           "x": 0.05
          },
          "updatemenudefaults": {
           "bgcolor": "#506784",
           "borderwidth": 0
          },
          "xaxis": {
           "automargin": true,
           "gridcolor": "#283442",
           "linecolor": "#506784",
           "ticks": "",
           "title": {
            "standoff": 15
           },
           "zerolinecolor": "#283442",
           "zerolinewidth": 2
          },
          "yaxis": {
           "automargin": true,
           "gridcolor": "#283442",
           "linecolor": "#506784",
           "ticks": "",
           "title": {
            "standoff": 15
           },
           "zerolinecolor": "#283442",
           "zerolinewidth": 2
          }
         }
        },
        "title": {
         "text": "<b>Radiohead Albums by Number of Words</b> <br>The amount of lyrics over time has been fairly inconsistent."
        },
        "xaxis": {
         "anchor": "y",
         "categoryarray": [
          "Pablo Honey",
          "The Bends",
          "OK Computer",
          "Kid A",
          "Amnesiac",
          "Hail To the Thief",
          "In Rainbows",
          "The King Of Limbs",
          "A Moon Shaped Pool"
         ],
         "categoryorder": "array",
         "domain": [
          0,
          1
         ],
         "title": {
          "text": "Album Name"
         }
        },
        "yaxis": {
         "anchor": "x",
         "domain": [
          0,
          1
         ],
         "title": {
          "text": "Number of Words"
         }
        }
       }
      }
     },
     "metadata": {},
     "output_type": "display_data"
    }
   ],
   "source": [
    "#Plot Number of Words\n",
    "fig = px.bar(df_radiohead, x = 'Album',y= 'Total_Words', color = 'Album', hover_name= 'Track',\n",
    "            labels={'Album':'Album Name', 'Duration_mins': 'Duration in Minutes', 'Track':'Track Name', 'count':'Number of Tracks', 'Total_Words':'Number of Words'},\n",
    "            title= '<b>Radiohead Albums by Number of Words</b> <br>The amount of lyrics over time has been fairly inconsistent.',\n",
    "            template='plotly_dark')\n",
    "\n",
    "\n",
    "fig.show()"
   ]
  },
  {
   "cell_type": "markdown",
   "id": "6d627ab8",
   "metadata": {},
   "source": [
    "It is interesting to see that their more electronic and less rock-heavy albums 'Kid A' and 'Amnesiac' offer the least amount of lyrics. Next to these,  their shortest work, in terms of track number and duration album - 'The King of Limbs' -, also offers the least amount of lyrics. 'Hail To the Thief', regarded as their most political work, seems to have the most to say. \n",
    "\n",
    "Nerdy Sidenote:\n",
    "\n",
    "*Spotting the iconic 'OK Computer' track 'Fitter Happier' (featuring a robot voice as a narrator) is rather easy looking at this plot.*"
   ]
  },
  {
   "cell_type": "markdown",
   "id": "70c1a247",
   "metadata": {},
   "source": [
    "### Soft facts #1 - Album Valence\n",
    "\n",
    "Valence is a metric Spotify has come up with. In their documentation they define this variable in the following way:\n",
    "\n",
    "*A measure from 0.0 to 1.0 describing the musical positiveness conveyed by a track. Tracks with high valence sound more positive (e.g. happy, cheerful, euphoric), while tracks with low valence sound more negative (e.g. sad, depressed, angry).*\n",
    "\n",
    "Hence, the metric scores the music itself in terms of sentiment. By determining the combined mean valence for the albums, we can compare them in musical positiveness (or rather negativeness in the case of Radiohead?)."
   ]
  },
  {
   "cell_type": "code",
   "execution_count": 139,
   "id": "891cd161",
   "metadata": {},
   "outputs": [
    {
     "data": {
      "text/html": [
       "<div>\n",
       "<style scoped>\n",
       "    .dataframe tbody tr th:only-of-type {\n",
       "        vertical-align: middle;\n",
       "    }\n",
       "\n",
       "    .dataframe tbody tr th {\n",
       "        vertical-align: top;\n",
       "    }\n",
       "\n",
       "    .dataframe thead th {\n",
       "        text-align: right;\n",
       "    }\n",
       "</style>\n",
       "<table border=\"1\" class=\"dataframe\">\n",
       "  <thead>\n",
       "    <tr style=\"text-align: right;\">\n",
       "      <th></th>\n",
       "      <th>Album</th>\n",
       "      <th>ReleaseYear</th>\n",
       "      <th>mean_valence</th>\n",
       "      <th>total_sad_words</th>\n",
       "      <th>total_words</th>\n",
       "      <th>pct_sad_album</th>\n",
       "    </tr>\n",
       "  </thead>\n",
       "  <tbody>\n",
       "    <tr>\n",
       "      <th>6</th>\n",
       "      <td>Pablo Honey</td>\n",
       "      <td>1993</td>\n",
       "      <td>0.322000</td>\n",
       "      <td>30.0</td>\n",
       "      <td>772.0</td>\n",
       "      <td>3.886010</td>\n",
       "    </tr>\n",
       "    <tr>\n",
       "      <th>7</th>\n",
       "      <td>The Bends</td>\n",
       "      <td>1995</td>\n",
       "      <td>0.338800</td>\n",
       "      <td>62.0</td>\n",
       "      <td>946.0</td>\n",
       "      <td>6.553911</td>\n",
       "    </tr>\n",
       "    <tr>\n",
       "      <th>5</th>\n",
       "      <td>OK Computer</td>\n",
       "      <td>1997</td>\n",
       "      <td>0.291733</td>\n",
       "      <td>56.0</td>\n",
       "      <td>882.0</td>\n",
       "      <td>6.349206</td>\n",
       "    </tr>\n",
       "    <tr>\n",
       "      <th>4</th>\n",
       "      <td>Kid A</td>\n",
       "      <td>2000</td>\n",
       "      <td>0.270564</td>\n",
       "      <td>15.0</td>\n",
       "      <td>667.0</td>\n",
       "      <td>2.248876</td>\n",
       "    </tr>\n",
       "    <tr>\n",
       "      <th>1</th>\n",
       "      <td>Amnesiac</td>\n",
       "      <td>2001</td>\n",
       "      <td>0.207945</td>\n",
       "      <td>43.0</td>\n",
       "      <td>626.0</td>\n",
       "      <td>6.869010</td>\n",
       "    </tr>\n",
       "    <tr>\n",
       "      <th>2</th>\n",
       "      <td>Hail To the Thief</td>\n",
       "      <td>2003</td>\n",
       "      <td>0.399529</td>\n",
       "      <td>52.0</td>\n",
       "      <td>1046.0</td>\n",
       "      <td>4.971319</td>\n",
       "    </tr>\n",
       "    <tr>\n",
       "      <th>3</th>\n",
       "      <td>In Rainbows</td>\n",
       "      <td>2007</td>\n",
       "      <td>0.396730</td>\n",
       "      <td>27.0</td>\n",
       "      <td>642.0</td>\n",
       "      <td>4.205607</td>\n",
       "    </tr>\n",
       "    <tr>\n",
       "      <th>8</th>\n",
       "      <td>The King Of Limbs</td>\n",
       "      <td>2011</td>\n",
       "      <td>0.443550</td>\n",
       "      <td>68.0</td>\n",
       "      <td>543.0</td>\n",
       "      <td>12.523020</td>\n",
       "    </tr>\n",
       "    <tr>\n",
       "      <th>0</th>\n",
       "      <td>A Moon Shaped Pool</td>\n",
       "      <td>2016</td>\n",
       "      <td>0.203018</td>\n",
       "      <td>53.0</td>\n",
       "      <td>891.0</td>\n",
       "      <td>5.948373</td>\n",
       "    </tr>\n",
       "  </tbody>\n",
       "</table>\n",
       "</div>"
      ],
      "text/plain": [
       "                Album  ReleaseYear  mean_valence  total_sad_words   \n",
       "6         Pablo Honey         1993      0.322000             30.0  \\\n",
       "7           The Bends         1995      0.338800             62.0   \n",
       "5         OK Computer         1997      0.291733             56.0   \n",
       "4               Kid A         2000      0.270564             15.0   \n",
       "1            Amnesiac         2001      0.207945             43.0   \n",
       "2   Hail To the Thief         2003      0.399529             52.0   \n",
       "3         In Rainbows         2007      0.396730             27.0   \n",
       "8   The King Of Limbs         2011      0.443550             68.0   \n",
       "0  A Moon Shaped Pool         2016      0.203018             53.0   \n",
       "\n",
       "   total_words  pct_sad_album  \n",
       "6        772.0       3.886010  \n",
       "7        946.0       6.553911  \n",
       "5        882.0       6.349206  \n",
       "4        667.0       2.248876  \n",
       "1        626.0       6.869010  \n",
       "2       1046.0       4.971319  \n",
       "3        642.0       4.205607  \n",
       "8        543.0      12.523020  \n",
       "0        891.0       5.948373  "
      ]
     },
     "execution_count": 139,
     "metadata": {},
     "output_type": "execute_result"
    }
   ],
   "source": [
    "#Data Aggregation\n",
    "df_radiohead_soft_facts = df_radiohead.groupby(['Album', 'ReleaseYear'], observed= True, as_index= False).agg(mean_valence = ('Valence', 'mean'), total_sad_words = ('Sad_Words', 'sum'), total_words = ('Total_Words', 'sum'))\n",
    "df_radiohead_soft_facts['pct_sad_album'] = df_radiohead_soft_facts['total_sad_words'] / df_radiohead_soft_facts['total_words'] * 100\n",
    "df_radiohead_soft_facts = df_radiohead_soft_facts.sort_values('ReleaseYear')\n",
    "df_radiohead_soft_facts\n"
   ]
  },
  {
   "cell_type": "code",
   "execution_count": 140,
   "id": "19736885",
   "metadata": {},
   "outputs": [
    {
     "data": {
      "application/vnd.plotly.v1+json": {
       "config": {
        "plotlyServerURL": "https://plot.ly"
       },
       "data": [
        {
         "alignmentgroup": "True",
         "hovertemplate": "Album Name=%{x}<br>Mean Valence=%{y}<extra></extra>",
         "legendgroup": "Pablo Honey",
         "marker": {
          "color": "#636efa",
          "pattern": {
           "shape": ""
          }
         },
         "name": "Pablo Honey",
         "offsetgroup": "Pablo Honey",
         "orientation": "v",
         "showlegend": true,
         "textposition": "auto",
         "type": "bar",
         "x": [
          "Pablo Honey"
         ],
         "xaxis": "x",
         "y": [
          0.322
         ],
         "yaxis": "y"
        },
        {
         "alignmentgroup": "True",
         "hovertemplate": "Album Name=%{x}<br>Mean Valence=%{y}<extra></extra>",
         "legendgroup": "The Bends",
         "marker": {
          "color": "#EF553B",
          "pattern": {
           "shape": ""
          }
         },
         "name": "The Bends",
         "offsetgroup": "The Bends",
         "orientation": "v",
         "showlegend": true,
         "textposition": "auto",
         "type": "bar",
         "x": [
          "The Bends"
         ],
         "xaxis": "x",
         "y": [
          0.3388
         ],
         "yaxis": "y"
        },
        {
         "alignmentgroup": "True",
         "hovertemplate": "Album Name=%{x}<br>Mean Valence=%{y}<extra></extra>",
         "legendgroup": "OK Computer",
         "marker": {
          "color": "#00cc96",
          "pattern": {
           "shape": ""
          }
         },
         "name": "OK Computer",
         "offsetgroup": "OK Computer",
         "orientation": "v",
         "showlegend": true,
         "textposition": "auto",
         "type": "bar",
         "x": [
          "OK Computer"
         ],
         "xaxis": "x",
         "y": [
          0.29173333333333334
         ],
         "yaxis": "y"
        },
        {
         "alignmentgroup": "True",
         "hovertemplate": "Album Name=%{x}<br>Mean Valence=%{y}<extra></extra>",
         "legendgroup": "Kid A",
         "marker": {
          "color": "#ab63fa",
          "pattern": {
           "shape": ""
          }
         },
         "name": "Kid A",
         "offsetgroup": "Kid A",
         "orientation": "v",
         "showlegend": true,
         "textposition": "auto",
         "type": "bar",
         "x": [
          "Kid A"
         ],
         "xaxis": "x",
         "y": [
          0.27056363636363634
         ],
         "yaxis": "y"
        },
        {
         "alignmentgroup": "True",
         "hovertemplate": "Album Name=%{x}<br>Mean Valence=%{y}<extra></extra>",
         "legendgroup": "Amnesiac",
         "marker": {
          "color": "#FFA15A",
          "pattern": {
           "shape": ""
          }
         },
         "name": "Amnesiac",
         "offsetgroup": "Amnesiac",
         "orientation": "v",
         "showlegend": true,
         "textposition": "auto",
         "type": "bar",
         "x": [
          "Amnesiac"
         ],
         "xaxis": "x",
         "y": [
          0.20794545454545454
         ],
         "yaxis": "y"
        },
        {
         "alignmentgroup": "True",
         "hovertemplate": "Album Name=%{x}<br>Mean Valence=%{y}<extra></extra>",
         "legendgroup": "Hail To the Thief",
         "marker": {
          "color": "#19d3f3",
          "pattern": {
           "shape": ""
          }
         },
         "name": "Hail To the Thief",
         "offsetgroup": "Hail To the Thief",
         "orientation": "v",
         "showlegend": true,
         "textposition": "auto",
         "type": "bar",
         "x": [
          "Hail To the Thief"
         ],
         "xaxis": "x",
         "y": [
          0.3995285714285714
         ],
         "yaxis": "y"
        },
        {
         "alignmentgroup": "True",
         "hovertemplate": "Album Name=%{x}<br>Mean Valence=%{y}<extra></extra>",
         "legendgroup": "In Rainbows",
         "marker": {
          "color": "#FF6692",
          "pattern": {
           "shape": ""
          }
         },
         "name": "In Rainbows",
         "offsetgroup": "In Rainbows",
         "orientation": "v",
         "showlegend": true,
         "textposition": "auto",
         "type": "bar",
         "x": [
          "In Rainbows"
         ],
         "xaxis": "x",
         "y": [
          0.39673
         ],
         "yaxis": "y"
        },
        {
         "alignmentgroup": "True",
         "hovertemplate": "Album Name=%{x}<br>Mean Valence=%{y}<extra></extra>",
         "legendgroup": "The King Of Limbs",
         "marker": {
          "color": "#B6E880",
          "pattern": {
           "shape": ""
          }
         },
         "name": "The King Of Limbs",
         "offsetgroup": "The King Of Limbs",
         "orientation": "v",
         "showlegend": true,
         "textposition": "auto",
         "type": "bar",
         "x": [
          "The King Of Limbs"
         ],
         "xaxis": "x",
         "y": [
          0.44355
         ],
         "yaxis": "y"
        },
        {
         "alignmentgroup": "True",
         "hovertemplate": "Album Name=%{x}<br>Mean Valence=%{y}<extra></extra>",
         "legendgroup": "A Moon Shaped Pool",
         "marker": {
          "color": "#FF97FF",
          "pattern": {
           "shape": ""
          }
         },
         "name": "A Moon Shaped Pool",
         "offsetgroup": "A Moon Shaped Pool",
         "orientation": "v",
         "showlegend": true,
         "textposition": "auto",
         "type": "bar",
         "x": [
          "A Moon Shaped Pool"
         ],
         "xaxis": "x",
         "y": [
          0.20301818181818182
         ],
         "yaxis": "y"
        }
       ],
       "layout": {
        "annotations": [
         {
          "bgcolor": "white",
          "bordercolor": "White",
          "font": {
           "color": "Black"
          },
          "showarrow": false,
          "text": "Looks like this was their happy period!",
          "x": 6,
          "y": 0.5
         }
        ],
        "barmode": "relative",
        "legend": {
         "title": {
          "text": "Album Name"
         },
         "tracegroupgap": 0
        },
        "template": {
         "data": {
          "bar": [
           {
            "error_x": {
             "color": "#f2f5fa"
            },
            "error_y": {
             "color": "#f2f5fa"
            },
            "marker": {
             "line": {
              "color": "rgb(17,17,17)",
              "width": 0.5
             },
             "pattern": {
              "fillmode": "overlay",
              "size": 10,
              "solidity": 0.2
             }
            },
            "type": "bar"
           }
          ],
          "barpolar": [
           {
            "marker": {
             "line": {
              "color": "rgb(17,17,17)",
              "width": 0.5
             },
             "pattern": {
              "fillmode": "overlay",
              "size": 10,
              "solidity": 0.2
             }
            },
            "type": "barpolar"
           }
          ],
          "carpet": [
           {
            "aaxis": {
             "endlinecolor": "#A2B1C6",
             "gridcolor": "#506784",
             "linecolor": "#506784",
             "minorgridcolor": "#506784",
             "startlinecolor": "#A2B1C6"
            },
            "baxis": {
             "endlinecolor": "#A2B1C6",
             "gridcolor": "#506784",
             "linecolor": "#506784",
             "minorgridcolor": "#506784",
             "startlinecolor": "#A2B1C6"
            },
            "type": "carpet"
           }
          ],
          "choropleth": [
           {
            "colorbar": {
             "outlinewidth": 0,
             "ticks": ""
            },
            "type": "choropleth"
           }
          ],
          "contour": [
           {
            "colorbar": {
             "outlinewidth": 0,
             "ticks": ""
            },
            "colorscale": [
             [
              0,
              "#0d0887"
             ],
             [
              0.1111111111111111,
              "#46039f"
             ],
             [
              0.2222222222222222,
              "#7201a8"
             ],
             [
              0.3333333333333333,
              "#9c179e"
             ],
             [
              0.4444444444444444,
              "#bd3786"
             ],
             [
              0.5555555555555556,
              "#d8576b"
             ],
             [
              0.6666666666666666,
              "#ed7953"
             ],
             [
              0.7777777777777778,
              "#fb9f3a"
             ],
             [
              0.8888888888888888,
              "#fdca26"
             ],
             [
              1,
              "#f0f921"
             ]
            ],
            "type": "contour"
           }
          ],
          "contourcarpet": [
           {
            "colorbar": {
             "outlinewidth": 0,
             "ticks": ""
            },
            "type": "contourcarpet"
           }
          ],
          "heatmap": [
           {
            "colorbar": {
             "outlinewidth": 0,
             "ticks": ""
            },
            "colorscale": [
             [
              0,
              "#0d0887"
             ],
             [
              0.1111111111111111,
              "#46039f"
             ],
             [
              0.2222222222222222,
              "#7201a8"
             ],
             [
              0.3333333333333333,
              "#9c179e"
             ],
             [
              0.4444444444444444,
              "#bd3786"
             ],
             [
              0.5555555555555556,
              "#d8576b"
             ],
             [
              0.6666666666666666,
              "#ed7953"
             ],
             [
              0.7777777777777778,
              "#fb9f3a"
             ],
             [
              0.8888888888888888,
              "#fdca26"
             ],
             [
              1,
              "#f0f921"
             ]
            ],
            "type": "heatmap"
           }
          ],
          "heatmapgl": [
           {
            "colorbar": {
             "outlinewidth": 0,
             "ticks": ""
            },
            "colorscale": [
             [
              0,
              "#0d0887"
             ],
             [
              0.1111111111111111,
              "#46039f"
             ],
             [
              0.2222222222222222,
              "#7201a8"
             ],
             [
              0.3333333333333333,
              "#9c179e"
             ],
             [
              0.4444444444444444,
              "#bd3786"
             ],
             [
              0.5555555555555556,
              "#d8576b"
             ],
             [
              0.6666666666666666,
              "#ed7953"
             ],
             [
              0.7777777777777778,
              "#fb9f3a"
             ],
             [
              0.8888888888888888,
              "#fdca26"
             ],
             [
              1,
              "#f0f921"
             ]
            ],
            "type": "heatmapgl"
           }
          ],
          "histogram": [
           {
            "marker": {
             "pattern": {
              "fillmode": "overlay",
              "size": 10,
              "solidity": 0.2
             }
            },
            "type": "histogram"
           }
          ],
          "histogram2d": [
           {
            "colorbar": {
             "outlinewidth": 0,
             "ticks": ""
            },
            "colorscale": [
             [
              0,
              "#0d0887"
             ],
             [
              0.1111111111111111,
              "#46039f"
             ],
             [
              0.2222222222222222,
              "#7201a8"
             ],
             [
              0.3333333333333333,
              "#9c179e"
             ],
             [
              0.4444444444444444,
              "#bd3786"
             ],
             [
              0.5555555555555556,
              "#d8576b"
             ],
             [
              0.6666666666666666,
              "#ed7953"
             ],
             [
              0.7777777777777778,
              "#fb9f3a"
             ],
             [
              0.8888888888888888,
              "#fdca26"
             ],
             [
              1,
              "#f0f921"
             ]
            ],
            "type": "histogram2d"
           }
          ],
          "histogram2dcontour": [
           {
            "colorbar": {
             "outlinewidth": 0,
             "ticks": ""
            },
            "colorscale": [
             [
              0,
              "#0d0887"
             ],
             [
              0.1111111111111111,
              "#46039f"
             ],
             [
              0.2222222222222222,
              "#7201a8"
             ],
             [
              0.3333333333333333,
              "#9c179e"
             ],
             [
              0.4444444444444444,
              "#bd3786"
             ],
             [
              0.5555555555555556,
              "#d8576b"
             ],
             [
              0.6666666666666666,
              "#ed7953"
             ],
             [
              0.7777777777777778,
              "#fb9f3a"
             ],
             [
              0.8888888888888888,
              "#fdca26"
             ],
             [
              1,
              "#f0f921"
             ]
            ],
            "type": "histogram2dcontour"
           }
          ],
          "mesh3d": [
           {
            "colorbar": {
             "outlinewidth": 0,
             "ticks": ""
            },
            "type": "mesh3d"
           }
          ],
          "parcoords": [
           {
            "line": {
             "colorbar": {
              "outlinewidth": 0,
              "ticks": ""
             }
            },
            "type": "parcoords"
           }
          ],
          "pie": [
           {
            "automargin": true,
            "type": "pie"
           }
          ],
          "scatter": [
           {
            "marker": {
             "line": {
              "color": "#283442"
             }
            },
            "type": "scatter"
           }
          ],
          "scatter3d": [
           {
            "line": {
             "colorbar": {
              "outlinewidth": 0,
              "ticks": ""
             }
            },
            "marker": {
             "colorbar": {
              "outlinewidth": 0,
              "ticks": ""
             }
            },
            "type": "scatter3d"
           }
          ],
          "scattercarpet": [
           {
            "marker": {
             "colorbar": {
              "outlinewidth": 0,
              "ticks": ""
             }
            },
            "type": "scattercarpet"
           }
          ],
          "scattergeo": [
           {
            "marker": {
             "colorbar": {
              "outlinewidth": 0,
              "ticks": ""
             }
            },
            "type": "scattergeo"
           }
          ],
          "scattergl": [
           {
            "marker": {
             "line": {
              "color": "#283442"
             }
            },
            "type": "scattergl"
           }
          ],
          "scattermapbox": [
           {
            "marker": {
             "colorbar": {
              "outlinewidth": 0,
              "ticks": ""
             }
            },
            "type": "scattermapbox"
           }
          ],
          "scatterpolar": [
           {
            "marker": {
             "colorbar": {
              "outlinewidth": 0,
              "ticks": ""
             }
            },
            "type": "scatterpolar"
           }
          ],
          "scatterpolargl": [
           {
            "marker": {
             "colorbar": {
              "outlinewidth": 0,
              "ticks": ""
             }
            },
            "type": "scatterpolargl"
           }
          ],
          "scatterternary": [
           {
            "marker": {
             "colorbar": {
              "outlinewidth": 0,
              "ticks": ""
             }
            },
            "type": "scatterternary"
           }
          ],
          "surface": [
           {
            "colorbar": {
             "outlinewidth": 0,
             "ticks": ""
            },
            "colorscale": [
             [
              0,
              "#0d0887"
             ],
             [
              0.1111111111111111,
              "#46039f"
             ],
             [
              0.2222222222222222,
              "#7201a8"
             ],
             [
              0.3333333333333333,
              "#9c179e"
             ],
             [
              0.4444444444444444,
              "#bd3786"
             ],
             [
              0.5555555555555556,
              "#d8576b"
             ],
             [
              0.6666666666666666,
              "#ed7953"
             ],
             [
              0.7777777777777778,
              "#fb9f3a"
             ],
             [
              0.8888888888888888,
              "#fdca26"
             ],
             [
              1,
              "#f0f921"
             ]
            ],
            "type": "surface"
           }
          ],
          "table": [
           {
            "cells": {
             "fill": {
              "color": "#506784"
             },
             "line": {
              "color": "rgb(17,17,17)"
             }
            },
            "header": {
             "fill": {
              "color": "#2a3f5f"
             },
             "line": {
              "color": "rgb(17,17,17)"
             }
            },
            "type": "table"
           }
          ]
         },
         "layout": {
          "annotationdefaults": {
           "arrowcolor": "#f2f5fa",
           "arrowhead": 0,
           "arrowwidth": 1
          },
          "autotypenumbers": "strict",
          "coloraxis": {
           "colorbar": {
            "outlinewidth": 0,
            "ticks": ""
           }
          },
          "colorscale": {
           "diverging": [
            [
             0,
             "#8e0152"
            ],
            [
             0.1,
             "#c51b7d"
            ],
            [
             0.2,
             "#de77ae"
            ],
            [
             0.3,
             "#f1b6da"
            ],
            [
             0.4,
             "#fde0ef"
            ],
            [
             0.5,
             "#f7f7f7"
            ],
            [
             0.6,
             "#e6f5d0"
            ],
            [
             0.7,
             "#b8e186"
            ],
            [
             0.8,
             "#7fbc41"
            ],
            [
             0.9,
             "#4d9221"
            ],
            [
             1,
             "#276419"
            ]
           ],
           "sequential": [
            [
             0,
             "#0d0887"
            ],
            [
             0.1111111111111111,
             "#46039f"
            ],
            [
             0.2222222222222222,
             "#7201a8"
            ],
            [
             0.3333333333333333,
             "#9c179e"
            ],
            [
             0.4444444444444444,
             "#bd3786"
            ],
            [
             0.5555555555555556,
             "#d8576b"
            ],
            [
             0.6666666666666666,
             "#ed7953"
            ],
            [
             0.7777777777777778,
             "#fb9f3a"
            ],
            [
             0.8888888888888888,
             "#fdca26"
            ],
            [
             1,
             "#f0f921"
            ]
           ],
           "sequentialminus": [
            [
             0,
             "#0d0887"
            ],
            [
             0.1111111111111111,
             "#46039f"
            ],
            [
             0.2222222222222222,
             "#7201a8"
            ],
            [
             0.3333333333333333,
             "#9c179e"
            ],
            [
             0.4444444444444444,
             "#bd3786"
            ],
            [
             0.5555555555555556,
             "#d8576b"
            ],
            [
             0.6666666666666666,
             "#ed7953"
            ],
            [
             0.7777777777777778,
             "#fb9f3a"
            ],
            [
             0.8888888888888888,
             "#fdca26"
            ],
            [
             1,
             "#f0f921"
            ]
           ]
          },
          "colorway": [
           "#636efa",
           "#EF553B",
           "#00cc96",
           "#ab63fa",
           "#FFA15A",
           "#19d3f3",
           "#FF6692",
           "#B6E880",
           "#FF97FF",
           "#FECB52"
          ],
          "font": {
           "color": "#f2f5fa"
          },
          "geo": {
           "bgcolor": "rgb(17,17,17)",
           "lakecolor": "rgb(17,17,17)",
           "landcolor": "rgb(17,17,17)",
           "showlakes": true,
           "showland": true,
           "subunitcolor": "#506784"
          },
          "hoverlabel": {
           "align": "left"
          },
          "hovermode": "closest",
          "mapbox": {
           "style": "dark"
          },
          "paper_bgcolor": "rgb(17,17,17)",
          "plot_bgcolor": "rgb(17,17,17)",
          "polar": {
           "angularaxis": {
            "gridcolor": "#506784",
            "linecolor": "#506784",
            "ticks": ""
           },
           "bgcolor": "rgb(17,17,17)",
           "radialaxis": {
            "gridcolor": "#506784",
            "linecolor": "#506784",
            "ticks": ""
           }
          },
          "scene": {
           "xaxis": {
            "backgroundcolor": "rgb(17,17,17)",
            "gridcolor": "#506784",
            "gridwidth": 2,
            "linecolor": "#506784",
            "showbackground": true,
            "ticks": "",
            "zerolinecolor": "#C8D4E3"
           },
           "yaxis": {
            "backgroundcolor": "rgb(17,17,17)",
            "gridcolor": "#506784",
            "gridwidth": 2,
            "linecolor": "#506784",
            "showbackground": true,
            "ticks": "",
            "zerolinecolor": "#C8D4E3"
           },
           "zaxis": {
            "backgroundcolor": "rgb(17,17,17)",
            "gridcolor": "#506784",
            "gridwidth": 2,
            "linecolor": "#506784",
            "showbackground": true,
            "ticks": "",
            "zerolinecolor": "#C8D4E3"
           }
          },
          "shapedefaults": {
           "line": {
            "color": "#f2f5fa"
           }
          },
          "sliderdefaults": {
           "bgcolor": "#C8D4E3",
           "bordercolor": "rgb(17,17,17)",
           "borderwidth": 1,
           "tickwidth": 0
          },
          "ternary": {
           "aaxis": {
            "gridcolor": "#506784",
            "linecolor": "#506784",
            "ticks": ""
           },
           "baxis": {
            "gridcolor": "#506784",
            "linecolor": "#506784",
            "ticks": ""
           },
           "bgcolor": "rgb(17,17,17)",
           "caxis": {
            "gridcolor": "#506784",
            "linecolor": "#506784",
            "ticks": ""
           }
          },
          "title": {
           "x": 0.05
          },
          "updatemenudefaults": {
           "bgcolor": "#506784",
           "borderwidth": 0
          },
          "xaxis": {
           "automargin": true,
           "gridcolor": "#283442",
           "linecolor": "#506784",
           "ticks": "",
           "title": {
            "standoff": 15
           },
           "zerolinecolor": "#283442",
           "zerolinewidth": 2
          },
          "yaxis": {
           "automargin": true,
           "gridcolor": "#283442",
           "linecolor": "#506784",
           "ticks": "",
           "title": {
            "standoff": 15
           },
           "zerolinecolor": "#283442",
           "zerolinewidth": 2
          }
         }
        },
        "title": {
         "text": "<b>Radiohead Albums by Musical Positiveness (Valence)</b> <br>In their album run from 2003 to 2011 Radiohead put forward greater musical positiveness than usual."
        },
        "xaxis": {
         "anchor": "y",
         "categoryarray": [
          "Pablo Honey",
          "The Bends",
          "OK Computer",
          "Kid A",
          "Amnesiac",
          "Hail To the Thief",
          "In Rainbows",
          "The King Of Limbs",
          "A Moon Shaped Pool"
         ],
         "categoryorder": "array",
         "domain": [
          0,
          1
         ],
         "title": {
          "text": "Album Name"
         }
        },
        "yaxis": {
         "anchor": "x",
         "domain": [
          0,
          1
         ],
         "title": {
          "text": "Mean Valence"
         }
        }
       }
      }
     },
     "metadata": {},
     "output_type": "display_data"
    }
   ],
   "source": [
    "#Plot Valence\n",
    "fig = px.bar(df_radiohead_soft_facts, x = 'Album',y= 'mean_valence', color = 'Album',\n",
    "            labels={'Album':'Album Name', 'mean_valence':'Mean Valence'},\n",
    "            title= '<b>Radiohead Albums by Musical Positiveness (Valence)</b> <br>In their album run from 2003 to 2011 Radiohead put forward greater musical positiveness than usual.',\n",
    "            template='plotly_dark')\n",
    "\n",
    "#Add little annotation\n",
    "fig.add_annotation(x=6, y=0.5,\n",
    "            text=\"Looks like this was their happy period!\",\n",
    "            showarrow=False,\n",
    "            bordercolor='White',\n",
    "            font_color = 'Black',\n",
    "            bgcolor='white')\n",
    "\n",
    "fig.show()"
   ]
  },
  {
   "cell_type": "markdown",
   "id": "c61e4de3",
   "metadata": {},
   "source": [
    "We can see why Radiohead is not known for their particularly cheerful music. None of their albums come even close to a valence score of 0.5. Meaning that all of their albums must be categorized as rather negative in their musical sentiment. However, their album run from 'Hail To the Thief' to 'The King Of Limbs' via 'In Rainbows' sticks out. In terms of musical positiveness this could be considered as their 'cheerful period'. 'A Moon Shaped Pool' scoring the lowest here, also makes sense. The production of the record was heavily colored by the Thom Yorke's separation from his partner, Rachel Owen, of almost 25 years."
   ]
  },
  {
   "cell_type": "markdown",
   "id": "59aa917e",
   "metadata": {},
   "source": [
    "### Soft fact #2 - Album Sad Lyrics in Relative Terms\n",
    "\n",
    "The data set also includes a dimension showing what percentage of lyrics in a particular song can be considered as sad. So after the tonal analysis of the albums, we can also check if the words that go with it mirror the musical arrangement of the LPs."
   ]
  },
  {
   "cell_type": "code",
   "execution_count": 141,
   "id": "4d08f24c",
   "metadata": {},
   "outputs": [
    {
     "data": {
      "application/vnd.plotly.v1+json": {
       "config": {
        "plotlyServerURL": "https://plot.ly"
       },
       "data": [
        {
         "alignmentgroup": "True",
         "hovertemplate": "Album Name=%{x}<br>Percentage of Sad Lyrics=%{y}<extra></extra>",
         "legendgroup": "Pablo Honey",
         "marker": {
          "color": "#636efa",
          "pattern": {
           "shape": ""
          }
         },
         "name": "Pablo Honey",
         "offsetgroup": "Pablo Honey",
         "orientation": "v",
         "showlegend": true,
         "textposition": "auto",
         "type": "bar",
         "x": [
          "Pablo Honey"
         ],
         "xaxis": "x",
         "y": [
          3.8860103626943006
         ],
         "yaxis": "y"
        },
        {
         "alignmentgroup": "True",
         "hovertemplate": "Album Name=%{x}<br>Percentage of Sad Lyrics=%{y}<extra></extra>",
         "legendgroup": "The Bends",
         "marker": {
          "color": "#EF553B",
          "pattern": {
           "shape": ""
          }
         },
         "name": "The Bends",
         "offsetgroup": "The Bends",
         "orientation": "v",
         "showlegend": true,
         "textposition": "auto",
         "type": "bar",
         "x": [
          "The Bends"
         ],
         "xaxis": "x",
         "y": [
          6.553911205073996
         ],
         "yaxis": "y"
        },
        {
         "alignmentgroup": "True",
         "hovertemplate": "Album Name=%{x}<br>Percentage of Sad Lyrics=%{y}<extra></extra>",
         "legendgroup": "OK Computer",
         "marker": {
          "color": "#00cc96",
          "pattern": {
           "shape": ""
          }
         },
         "name": "OK Computer",
         "offsetgroup": "OK Computer",
         "orientation": "v",
         "showlegend": true,
         "textposition": "auto",
         "type": "bar",
         "x": [
          "OK Computer"
         ],
         "xaxis": "x",
         "y": [
          6.349206349206349
         ],
         "yaxis": "y"
        },
        {
         "alignmentgroup": "True",
         "hovertemplate": "Album Name=%{x}<br>Percentage of Sad Lyrics=%{y}<extra></extra>",
         "legendgroup": "Kid A",
         "marker": {
          "color": "#ab63fa",
          "pattern": {
           "shape": ""
          }
         },
         "name": "Kid A",
         "offsetgroup": "Kid A",
         "orientation": "v",
         "showlegend": true,
         "textposition": "auto",
         "type": "bar",
         "x": [
          "Kid A"
         ],
         "xaxis": "x",
         "y": [
          2.2488755622188905
         ],
         "yaxis": "y"
        },
        {
         "alignmentgroup": "True",
         "hovertemplate": "Album Name=%{x}<br>Percentage of Sad Lyrics=%{y}<extra></extra>",
         "legendgroup": "Amnesiac",
         "marker": {
          "color": "#FFA15A",
          "pattern": {
           "shape": ""
          }
         },
         "name": "Amnesiac",
         "offsetgroup": "Amnesiac",
         "orientation": "v",
         "showlegend": true,
         "textposition": "auto",
         "type": "bar",
         "x": [
          "Amnesiac"
         ],
         "xaxis": "x",
         "y": [
          6.869009584664537
         ],
         "yaxis": "y"
        },
        {
         "alignmentgroup": "True",
         "hovertemplate": "Album Name=%{x}<br>Percentage of Sad Lyrics=%{y}<extra></extra>",
         "legendgroup": "Hail To the Thief",
         "marker": {
          "color": "#19d3f3",
          "pattern": {
           "shape": ""
          }
         },
         "name": "Hail To the Thief",
         "offsetgroup": "Hail To the Thief",
         "orientation": "v",
         "showlegend": true,
         "textposition": "auto",
         "type": "bar",
         "x": [
          "Hail To the Thief"
         ],
         "xaxis": "x",
         "y": [
          4.97131931166348
         ],
         "yaxis": "y"
        },
        {
         "alignmentgroup": "True",
         "hovertemplate": "Album Name=%{x}<br>Percentage of Sad Lyrics=%{y}<extra></extra>",
         "legendgroup": "In Rainbows",
         "marker": {
          "color": "#FF6692",
          "pattern": {
           "shape": ""
          }
         },
         "name": "In Rainbows",
         "offsetgroup": "In Rainbows",
         "orientation": "v",
         "showlegend": true,
         "textposition": "auto",
         "type": "bar",
         "x": [
          "In Rainbows"
         ],
         "xaxis": "x",
         "y": [
          4.205607476635514
         ],
         "yaxis": "y"
        },
        {
         "alignmentgroup": "True",
         "hovertemplate": "Album Name=%{x}<br>Percentage of Sad Lyrics=%{y}<extra></extra>",
         "legendgroup": "The King Of Limbs",
         "marker": {
          "color": "#B6E880",
          "pattern": {
           "shape": ""
          }
         },
         "name": "The King Of Limbs",
         "offsetgroup": "The King Of Limbs",
         "orientation": "v",
         "showlegend": true,
         "textposition": "auto",
         "type": "bar",
         "x": [
          "The King Of Limbs"
         ],
         "xaxis": "x",
         "y": [
          12.52302025782689
         ],
         "yaxis": "y"
        },
        {
         "alignmentgroup": "True",
         "hovertemplate": "Album Name=%{x}<br>Percentage of Sad Lyrics=%{y}<extra></extra>",
         "legendgroup": "A Moon Shaped Pool",
         "marker": {
          "color": "#FF97FF",
          "pattern": {
           "shape": ""
          }
         },
         "name": "A Moon Shaped Pool",
         "offsetgroup": "A Moon Shaped Pool",
         "orientation": "v",
         "showlegend": true,
         "textposition": "auto",
         "type": "bar",
         "x": [
          "A Moon Shaped Pool"
         ],
         "xaxis": "x",
         "y": [
          5.948372615039282
         ],
         "yaxis": "y"
        }
       ],
       "layout": {
        "barmode": "relative",
        "legend": {
         "title": {
          "text": "Album Name"
         },
         "tracegroupgap": 0
        },
        "template": {
         "data": {
          "bar": [
           {
            "error_x": {
             "color": "#f2f5fa"
            },
            "error_y": {
             "color": "#f2f5fa"
            },
            "marker": {
             "line": {
              "color": "rgb(17,17,17)",
              "width": 0.5
             },
             "pattern": {
              "fillmode": "overlay",
              "size": 10,
              "solidity": 0.2
             }
            },
            "type": "bar"
           }
          ],
          "barpolar": [
           {
            "marker": {
             "line": {
              "color": "rgb(17,17,17)",
              "width": 0.5
             },
             "pattern": {
              "fillmode": "overlay",
              "size": 10,
              "solidity": 0.2
             }
            },
            "type": "barpolar"
           }
          ],
          "carpet": [
           {
            "aaxis": {
             "endlinecolor": "#A2B1C6",
             "gridcolor": "#506784",
             "linecolor": "#506784",
             "minorgridcolor": "#506784",
             "startlinecolor": "#A2B1C6"
            },
            "baxis": {
             "endlinecolor": "#A2B1C6",
             "gridcolor": "#506784",
             "linecolor": "#506784",
             "minorgridcolor": "#506784",
             "startlinecolor": "#A2B1C6"
            },
            "type": "carpet"
           }
          ],
          "choropleth": [
           {
            "colorbar": {
             "outlinewidth": 0,
             "ticks": ""
            },
            "type": "choropleth"
           }
          ],
          "contour": [
           {
            "colorbar": {
             "outlinewidth": 0,
             "ticks": ""
            },
            "colorscale": [
             [
              0,
              "#0d0887"
             ],
             [
              0.1111111111111111,
              "#46039f"
             ],
             [
              0.2222222222222222,
              "#7201a8"
             ],
             [
              0.3333333333333333,
              "#9c179e"
             ],
             [
              0.4444444444444444,
              "#bd3786"
             ],
             [
              0.5555555555555556,
              "#d8576b"
             ],
             [
              0.6666666666666666,
              "#ed7953"
             ],
             [
              0.7777777777777778,
              "#fb9f3a"
             ],
             [
              0.8888888888888888,
              "#fdca26"
             ],
             [
              1,
              "#f0f921"
             ]
            ],
            "type": "contour"
           }
          ],
          "contourcarpet": [
           {
            "colorbar": {
             "outlinewidth": 0,
             "ticks": ""
            },
            "type": "contourcarpet"
           }
          ],
          "heatmap": [
           {
            "colorbar": {
             "outlinewidth": 0,
             "ticks": ""
            },
            "colorscale": [
             [
              0,
              "#0d0887"
             ],
             [
              0.1111111111111111,
              "#46039f"
             ],
             [
              0.2222222222222222,
              "#7201a8"
             ],
             [
              0.3333333333333333,
              "#9c179e"
             ],
             [
              0.4444444444444444,
              "#bd3786"
             ],
             [
              0.5555555555555556,
              "#d8576b"
             ],
             [
              0.6666666666666666,
              "#ed7953"
             ],
             [
              0.7777777777777778,
              "#fb9f3a"
             ],
             [
              0.8888888888888888,
              "#fdca26"
             ],
             [
              1,
              "#f0f921"
             ]
            ],
            "type": "heatmap"
           }
          ],
          "heatmapgl": [
           {
            "colorbar": {
             "outlinewidth": 0,
             "ticks": ""
            },
            "colorscale": [
             [
              0,
              "#0d0887"
             ],
             [
              0.1111111111111111,
              "#46039f"
             ],
             [
              0.2222222222222222,
              "#7201a8"
             ],
             [
              0.3333333333333333,
              "#9c179e"
             ],
             [
              0.4444444444444444,
              "#bd3786"
             ],
             [
              0.5555555555555556,
              "#d8576b"
             ],
             [
              0.6666666666666666,
              "#ed7953"
             ],
             [
              0.7777777777777778,
              "#fb9f3a"
             ],
             [
              0.8888888888888888,
              "#fdca26"
             ],
             [
              1,
              "#f0f921"
             ]
            ],
            "type": "heatmapgl"
           }
          ],
          "histogram": [
           {
            "marker": {
             "pattern": {
              "fillmode": "overlay",
              "size": 10,
              "solidity": 0.2
             }
            },
            "type": "histogram"
           }
          ],
          "histogram2d": [
           {
            "colorbar": {
             "outlinewidth": 0,
             "ticks": ""
            },
            "colorscale": [
             [
              0,
              "#0d0887"
             ],
             [
              0.1111111111111111,
              "#46039f"
             ],
             [
              0.2222222222222222,
              "#7201a8"
             ],
             [
              0.3333333333333333,
              "#9c179e"
             ],
             [
              0.4444444444444444,
              "#bd3786"
             ],
             [
              0.5555555555555556,
              "#d8576b"
             ],
             [
              0.6666666666666666,
              "#ed7953"
             ],
             [
              0.7777777777777778,
              "#fb9f3a"
             ],
             [
              0.8888888888888888,
              "#fdca26"
             ],
             [
              1,
              "#f0f921"
             ]
            ],
            "type": "histogram2d"
           }
          ],
          "histogram2dcontour": [
           {
            "colorbar": {
             "outlinewidth": 0,
             "ticks": ""
            },
            "colorscale": [
             [
              0,
              "#0d0887"
             ],
             [
              0.1111111111111111,
              "#46039f"
             ],
             [
              0.2222222222222222,
              "#7201a8"
             ],
             [
              0.3333333333333333,
              "#9c179e"
             ],
             [
              0.4444444444444444,
              "#bd3786"
             ],
             [
              0.5555555555555556,
              "#d8576b"
             ],
             [
              0.6666666666666666,
              "#ed7953"
             ],
             [
              0.7777777777777778,
              "#fb9f3a"
             ],
             [
              0.8888888888888888,
              "#fdca26"
             ],
             [
              1,
              "#f0f921"
             ]
            ],
            "type": "histogram2dcontour"
           }
          ],
          "mesh3d": [
           {
            "colorbar": {
             "outlinewidth": 0,
             "ticks": ""
            },
            "type": "mesh3d"
           }
          ],
          "parcoords": [
           {
            "line": {
             "colorbar": {
              "outlinewidth": 0,
              "ticks": ""
             }
            },
            "type": "parcoords"
           }
          ],
          "pie": [
           {
            "automargin": true,
            "type": "pie"
           }
          ],
          "scatter": [
           {
            "marker": {
             "line": {
              "color": "#283442"
             }
            },
            "type": "scatter"
           }
          ],
          "scatter3d": [
           {
            "line": {
             "colorbar": {
              "outlinewidth": 0,
              "ticks": ""
             }
            },
            "marker": {
             "colorbar": {
              "outlinewidth": 0,
              "ticks": ""
             }
            },
            "type": "scatter3d"
           }
          ],
          "scattercarpet": [
           {
            "marker": {
             "colorbar": {
              "outlinewidth": 0,
              "ticks": ""
             }
            },
            "type": "scattercarpet"
           }
          ],
          "scattergeo": [
           {
            "marker": {
             "colorbar": {
              "outlinewidth": 0,
              "ticks": ""
             }
            },
            "type": "scattergeo"
           }
          ],
          "scattergl": [
           {
            "marker": {
             "line": {
              "color": "#283442"
             }
            },
            "type": "scattergl"
           }
          ],
          "scattermapbox": [
           {
            "marker": {
             "colorbar": {
              "outlinewidth": 0,
              "ticks": ""
             }
            },
            "type": "scattermapbox"
           }
          ],
          "scatterpolar": [
           {
            "marker": {
             "colorbar": {
              "outlinewidth": 0,
              "ticks": ""
             }
            },
            "type": "scatterpolar"
           }
          ],
          "scatterpolargl": [
           {
            "marker": {
             "colorbar": {
              "outlinewidth": 0,
              "ticks": ""
             }
            },
            "type": "scatterpolargl"
           }
          ],
          "scatterternary": [
           {
            "marker": {
             "colorbar": {
              "outlinewidth": 0,
              "ticks": ""
             }
            },
            "type": "scatterternary"
           }
          ],
          "surface": [
           {
            "colorbar": {
             "outlinewidth": 0,
             "ticks": ""
            },
            "colorscale": [
             [
              0,
              "#0d0887"
             ],
             [
              0.1111111111111111,
              "#46039f"
             ],
             [
              0.2222222222222222,
              "#7201a8"
             ],
             [
              0.3333333333333333,
              "#9c179e"
             ],
             [
              0.4444444444444444,
              "#bd3786"
             ],
             [
              0.5555555555555556,
              "#d8576b"
             ],
             [
              0.6666666666666666,
              "#ed7953"
             ],
             [
              0.7777777777777778,
              "#fb9f3a"
             ],
             [
              0.8888888888888888,
              "#fdca26"
             ],
             [
              1,
              "#f0f921"
             ]
            ],
            "type": "surface"
           }
          ],
          "table": [
           {
            "cells": {
             "fill": {
              "color": "#506784"
             },
             "line": {
              "color": "rgb(17,17,17)"
             }
            },
            "header": {
             "fill": {
              "color": "#2a3f5f"
             },
             "line": {
              "color": "rgb(17,17,17)"
             }
            },
            "type": "table"
           }
          ]
         },
         "layout": {
          "annotationdefaults": {
           "arrowcolor": "#f2f5fa",
           "arrowhead": 0,
           "arrowwidth": 1
          },
          "autotypenumbers": "strict",
          "coloraxis": {
           "colorbar": {
            "outlinewidth": 0,
            "ticks": ""
           }
          },
          "colorscale": {
           "diverging": [
            [
             0,
             "#8e0152"
            ],
            [
             0.1,
             "#c51b7d"
            ],
            [
             0.2,
             "#de77ae"
            ],
            [
             0.3,
             "#f1b6da"
            ],
            [
             0.4,
             "#fde0ef"
            ],
            [
             0.5,
             "#f7f7f7"
            ],
            [
             0.6,
             "#e6f5d0"
            ],
            [
             0.7,
             "#b8e186"
            ],
            [
             0.8,
             "#7fbc41"
            ],
            [
             0.9,
             "#4d9221"
            ],
            [
             1,
             "#276419"
            ]
           ],
           "sequential": [
            [
             0,
             "#0d0887"
            ],
            [
             0.1111111111111111,
             "#46039f"
            ],
            [
             0.2222222222222222,
             "#7201a8"
            ],
            [
             0.3333333333333333,
             "#9c179e"
            ],
            [
             0.4444444444444444,
             "#bd3786"
            ],
            [
             0.5555555555555556,
             "#d8576b"
            ],
            [
             0.6666666666666666,
             "#ed7953"
            ],
            [
             0.7777777777777778,
             "#fb9f3a"
            ],
            [
             0.8888888888888888,
             "#fdca26"
            ],
            [
             1,
             "#f0f921"
            ]
           ],
           "sequentialminus": [
            [
             0,
             "#0d0887"
            ],
            [
             0.1111111111111111,
             "#46039f"
            ],
            [
             0.2222222222222222,
             "#7201a8"
            ],
            [
             0.3333333333333333,
             "#9c179e"
            ],
            [
             0.4444444444444444,
             "#bd3786"
            ],
            [
             0.5555555555555556,
             "#d8576b"
            ],
            [
             0.6666666666666666,
             "#ed7953"
            ],
            [
             0.7777777777777778,
             "#fb9f3a"
            ],
            [
             0.8888888888888888,
             "#fdca26"
            ],
            [
             1,
             "#f0f921"
            ]
           ]
          },
          "colorway": [
           "#636efa",
           "#EF553B",
           "#00cc96",
           "#ab63fa",
           "#FFA15A",
           "#19d3f3",
           "#FF6692",
           "#B6E880",
           "#FF97FF",
           "#FECB52"
          ],
          "font": {
           "color": "#f2f5fa"
          },
          "geo": {
           "bgcolor": "rgb(17,17,17)",
           "lakecolor": "rgb(17,17,17)",
           "landcolor": "rgb(17,17,17)",
           "showlakes": true,
           "showland": true,
           "subunitcolor": "#506784"
          },
          "hoverlabel": {
           "align": "left"
          },
          "hovermode": "closest",
          "mapbox": {
           "style": "dark"
          },
          "paper_bgcolor": "rgb(17,17,17)",
          "plot_bgcolor": "rgb(17,17,17)",
          "polar": {
           "angularaxis": {
            "gridcolor": "#506784",
            "linecolor": "#506784",
            "ticks": ""
           },
           "bgcolor": "rgb(17,17,17)",
           "radialaxis": {
            "gridcolor": "#506784",
            "linecolor": "#506784",
            "ticks": ""
           }
          },
          "scene": {
           "xaxis": {
            "backgroundcolor": "rgb(17,17,17)",
            "gridcolor": "#506784",
            "gridwidth": 2,
            "linecolor": "#506784",
            "showbackground": true,
            "ticks": "",
            "zerolinecolor": "#C8D4E3"
           },
           "yaxis": {
            "backgroundcolor": "rgb(17,17,17)",
            "gridcolor": "#506784",
            "gridwidth": 2,
            "linecolor": "#506784",
            "showbackground": true,
            "ticks": "",
            "zerolinecolor": "#C8D4E3"
           },
           "zaxis": {
            "backgroundcolor": "rgb(17,17,17)",
            "gridcolor": "#506784",
            "gridwidth": 2,
            "linecolor": "#506784",
            "showbackground": true,
            "ticks": "",
            "zerolinecolor": "#C8D4E3"
           }
          },
          "shapedefaults": {
           "line": {
            "color": "#f2f5fa"
           }
          },
          "sliderdefaults": {
           "bgcolor": "#C8D4E3",
           "bordercolor": "rgb(17,17,17)",
           "borderwidth": 1,
           "tickwidth": 0
          },
          "ternary": {
           "aaxis": {
            "gridcolor": "#506784",
            "linecolor": "#506784",
            "ticks": ""
           },
           "baxis": {
            "gridcolor": "#506784",
            "linecolor": "#506784",
            "ticks": ""
           },
           "bgcolor": "rgb(17,17,17)",
           "caxis": {
            "gridcolor": "#506784",
            "linecolor": "#506784",
            "ticks": ""
           }
          },
          "title": {
           "x": 0.05
          },
          "updatemenudefaults": {
           "bgcolor": "#506784",
           "borderwidth": 0
          },
          "xaxis": {
           "automargin": true,
           "gridcolor": "#283442",
           "linecolor": "#506784",
           "ticks": "",
           "title": {
            "standoff": 15
           },
           "zerolinecolor": "#283442",
           "zerolinewidth": 2
          },
          "yaxis": {
           "automargin": true,
           "gridcolor": "#283442",
           "linecolor": "#506784",
           "ticks": "",
           "title": {
            "standoff": 15
           },
           "zerolinecolor": "#283442",
           "zerolinewidth": 2
          }
         }
        },
        "title": {
         "text": "<b>Radiohead Albums by Percentage of Sad Lyrics</b> <br> \"The King Of Limbs\" contains by far the highest percentage of sad words."
        },
        "xaxis": {
         "anchor": "y",
         "categoryarray": [
          "Pablo Honey",
          "The Bends",
          "OK Computer",
          "Kid A",
          "Amnesiac",
          "Hail To the Thief",
          "In Rainbows",
          "The King Of Limbs",
          "A Moon Shaped Pool"
         ],
         "categoryorder": "array",
         "domain": [
          0,
          1
         ],
         "title": {
          "text": "Album Name"
         }
        },
        "yaxis": {
         "anchor": "x",
         "domain": [
          0,
          1
         ],
         "title": {
          "text": "Percentage of Sad Lyrics"
         }
        }
       }
      }
     },
     "metadata": {},
     "output_type": "display_data"
    }
   ],
   "source": [
    "#Plot Relative Sadness\n",
    "fig = px.bar(df_radiohead_soft_facts, x = 'Album',y= 'pct_sad_album', color = 'Album',\n",
    "            labels={'Album':'Album Name', 'pct_sad_album':'Percentage of Sad Lyrics'},\n",
    "            title= '<b>Radiohead Albums by Percentage of Sad Lyrics</b> <br> \"The King Of Limbs\" contains by far the highest percentage of sad words.',\n",
    "            template='plotly_dark')\n",
    "\n",
    "\n",
    "fig.show()"
   ]
  },
  {
   "cell_type": "markdown",
   "id": "5c9736d2",
   "metadata": {},
   "source": [
    "This is an interesting result. 'The King of Limbs' provides the most cheerful musical approach, but offers the most sad words in its lyrics at the same time. Kind of balancing out in terms of tonal approach. 'A Moon Shaped Pool' and 'Amnesiac' however seem to stay true to themselves. They both combine rather negative musical tone with sad lyrics. The opposite seems to be happening in 'In Rainbows'. There a more cheerful musical tone it matched with a only a small percentage of depressing lyrics. Might be the reason, why many fans find this album the most approachable."
   ]
  },
  {
   "cell_type": "markdown",
   "id": "c3570237",
   "metadata": {},
   "source": [
    "### Soft fact #3 - Album Sad Lyrics in Absolute Terms\n",
    "\n",
    "\n",
    "And yet, we need to keep in mind here that this is only a relative approach. We can also look at this from an absolute angle and ask the question, which album posted the most total sad words in their lyrics."
   ]
  },
  {
   "cell_type": "code",
   "execution_count": 142,
   "id": "dd4df904",
   "metadata": {},
   "outputs": [
    {
     "data": {
      "text/html": [
       "<div>\n",
       "<style scoped>\n",
       "    .dataframe tbody tr th:only-of-type {\n",
       "        vertical-align: middle;\n",
       "    }\n",
       "\n",
       "    .dataframe tbody tr th {\n",
       "        vertical-align: top;\n",
       "    }\n",
       "\n",
       "    .dataframe thead th {\n",
       "        text-align: right;\n",
       "    }\n",
       "</style>\n",
       "<table border=\"1\" class=\"dataframe\">\n",
       "  <thead>\n",
       "    <tr style=\"text-align: right;\">\n",
       "      <th></th>\n",
       "      <th>Artist</th>\n",
       "      <th>Album</th>\n",
       "      <th>Track</th>\n",
       "      <th>TrackNumber_On_Album</th>\n",
       "      <th>Duration_ms</th>\n",
       "      <th>ReleaseYear</th>\n",
       "      <th>Valence</th>\n",
       "      <th>Energy</th>\n",
       "      <th>Danceability</th>\n",
       "      <th>Acousticness</th>\n",
       "      <th>...</th>\n",
       "      <th>Tempo</th>\n",
       "      <th>Key</th>\n",
       "      <th>Mode</th>\n",
       "      <th>TimeSignature</th>\n",
       "      <th>Lyrics</th>\n",
       "      <th>Total_Words</th>\n",
       "      <th>Sad_Words</th>\n",
       "      <th>Pct_Sad_Words</th>\n",
       "      <th>Lyrical_Density</th>\n",
       "      <th>Duration_mins</th>\n",
       "    </tr>\n",
       "  </thead>\n",
       "  <tbody>\n",
       "    <tr>\n",
       "      <th>0</th>\n",
       "      <td>Radiohead</td>\n",
       "      <td>Pablo Honey</td>\n",
       "      <td>You</td>\n",
       "      <td>1</td>\n",
       "      <td>208666</td>\n",
       "      <td>1993</td>\n",
       "      <td>0.2980</td>\n",
       "      <td>0.707</td>\n",
       "      <td>0.222</td>\n",
       "      <td>0.000945</td>\n",
       "      <td>...</td>\n",
       "      <td>112.663</td>\n",
       "      <td>9</td>\n",
       "      <td>1</td>\n",
       "      <td>3</td>\n",
       "      <td>you are the sun and moon and stars are you and...</td>\n",
       "      <td>33.0</td>\n",
       "      <td>0.0</td>\n",
       "      <td>0.000000</td>\n",
       "      <td>0.158147</td>\n",
       "      <td>3.477767</td>\n",
       "    </tr>\n",
       "    <tr>\n",
       "      <th>1</th>\n",
       "      <td>Radiohead</td>\n",
       "      <td>Pablo Honey</td>\n",
       "      <td>Creep</td>\n",
       "      <td>2</td>\n",
       "      <td>238640</td>\n",
       "      <td>1993</td>\n",
       "      <td>0.1040</td>\n",
       "      <td>0.430</td>\n",
       "      <td>0.515</td>\n",
       "      <td>0.009700</td>\n",
       "      <td>...</td>\n",
       "      <td>91.844</td>\n",
       "      <td>7</td>\n",
       "      <td>1</td>\n",
       "      <td>4</td>\n",
       "      <td>when you were here before couldnt look you in ...</td>\n",
       "      <td>85.0</td>\n",
       "      <td>5.0</td>\n",
       "      <td>0.058824</td>\n",
       "      <td>0.356185</td>\n",
       "      <td>3.977333</td>\n",
       "    </tr>\n",
       "    <tr>\n",
       "      <th>2</th>\n",
       "      <td>Radiohead</td>\n",
       "      <td>Pablo Honey</td>\n",
       "      <td>How Do You?</td>\n",
       "      <td>3</td>\n",
       "      <td>132173</td>\n",
       "      <td>1993</td>\n",
       "      <td>0.2380</td>\n",
       "      <td>0.964</td>\n",
       "      <td>0.185</td>\n",
       "      <td>0.000659</td>\n",
       "      <td>...</td>\n",
       "      <td>147.351</td>\n",
       "      <td>9</td>\n",
       "      <td>1</td>\n",
       "      <td>4</td>\n",
       "      <td>hes bitter and twisted he knows what he wants ...</td>\n",
       "      <td>38.0</td>\n",
       "      <td>2.0</td>\n",
       "      <td>0.052632</td>\n",
       "      <td>0.287502</td>\n",
       "      <td>2.202883</td>\n",
       "    </tr>\n",
       "    <tr>\n",
       "      <th>3</th>\n",
       "      <td>Radiohead</td>\n",
       "      <td>Pablo Honey</td>\n",
       "      <td>Stop Whispering</td>\n",
       "      <td>4</td>\n",
       "      <td>325626</td>\n",
       "      <td>1993</td>\n",
       "      <td>0.2980</td>\n",
       "      <td>0.696</td>\n",
       "      <td>0.212</td>\n",
       "      <td>0.000849</td>\n",
       "      <td>...</td>\n",
       "      <td>122.350</td>\n",
       "      <td>2</td>\n",
       "      <td>1</td>\n",
       "      <td>4</td>\n",
       "      <td>and the wise man said i dont want to hear your...</td>\n",
       "      <td>82.0</td>\n",
       "      <td>2.0</td>\n",
       "      <td>0.024390</td>\n",
       "      <td>0.251823</td>\n",
       "      <td>5.427100</td>\n",
       "    </tr>\n",
       "    <tr>\n",
       "      <th>4</th>\n",
       "      <td>Radiohead</td>\n",
       "      <td>Pablo Honey</td>\n",
       "      <td>Thinking About You</td>\n",
       "      <td>5</td>\n",
       "      <td>161533</td>\n",
       "      <td>1993</td>\n",
       "      <td>0.4200</td>\n",
       "      <td>0.370</td>\n",
       "      <td>0.365</td>\n",
       "      <td>0.705000</td>\n",
       "      <td>...</td>\n",
       "      <td>103.442</td>\n",
       "      <td>7</td>\n",
       "      <td>1</td>\n",
       "      <td>4</td>\n",
       "      <td>been thinking about you your records are here ...</td>\n",
       "      <td>81.0</td>\n",
       "      <td>0.0</td>\n",
       "      <td>0.000000</td>\n",
       "      <td>0.501446</td>\n",
       "      <td>2.692217</td>\n",
       "    </tr>\n",
       "    <tr>\n",
       "      <th>...</th>\n",
       "      <td>...</td>\n",
       "      <td>...</td>\n",
       "      <td>...</td>\n",
       "      <td>...</td>\n",
       "      <td>...</td>\n",
       "      <td>...</td>\n",
       "      <td>...</td>\n",
       "      <td>...</td>\n",
       "      <td>...</td>\n",
       "      <td>...</td>\n",
       "      <td>...</td>\n",
       "      <td>...</td>\n",
       "      <td>...</td>\n",
       "      <td>...</td>\n",
       "      <td>...</td>\n",
       "      <td>...</td>\n",
       "      <td>...</td>\n",
       "      <td>...</td>\n",
       "      <td>...</td>\n",
       "      <td>...</td>\n",
       "      <td>...</td>\n",
       "    </tr>\n",
       "    <tr>\n",
       "      <th>96</th>\n",
       "      <td>Radiohead</td>\n",
       "      <td>A Moon Shaped Pool</td>\n",
       "      <td>Identikit</td>\n",
       "      <td>7</td>\n",
       "      <td>266643</td>\n",
       "      <td>2016</td>\n",
       "      <td>0.3500</td>\n",
       "      <td>0.459</td>\n",
       "      <td>0.692</td>\n",
       "      <td>0.063200</td>\n",
       "      <td>...</td>\n",
       "      <td>150.695</td>\n",
       "      <td>11</td>\n",
       "      <td>0</td>\n",
       "      <td>4</td>\n",
       "      <td>a moon shaped pool dancing clothes wont let me...</td>\n",
       "      <td>176.0</td>\n",
       "      <td>18.0</td>\n",
       "      <td>0.102273</td>\n",
       "      <td>0.660059</td>\n",
       "      <td>4.444050</td>\n",
       "    </tr>\n",
       "    <tr>\n",
       "      <th>97</th>\n",
       "      <td>Radiohead</td>\n",
       "      <td>A Moon Shaped Pool</td>\n",
       "      <td>The Numbers</td>\n",
       "      <td>8</td>\n",
       "      <td>345886</td>\n",
       "      <td>2016</td>\n",
       "      <td>0.0551</td>\n",
       "      <td>0.372</td>\n",
       "      <td>0.282</td>\n",
       "      <td>0.651000</td>\n",
       "      <td>...</td>\n",
       "      <td>105.271</td>\n",
       "      <td>5</td>\n",
       "      <td>1</td>\n",
       "      <td>3</td>\n",
       "      <td>it holds us like a phantom it touches  like a ...</td>\n",
       "      <td>73.0</td>\n",
       "      <td>2.0</td>\n",
       "      <td>0.027397</td>\n",
       "      <td>0.211052</td>\n",
       "      <td>5.764767</td>\n",
       "    </tr>\n",
       "    <tr>\n",
       "      <th>98</th>\n",
       "      <td>Radiohead</td>\n",
       "      <td>A Moon Shaped Pool</td>\n",
       "      <td>Present Tense</td>\n",
       "      <td>9</td>\n",
       "      <td>306581</td>\n",
       "      <td>2016</td>\n",
       "      <td>0.3360</td>\n",
       "      <td>0.407</td>\n",
       "      <td>0.462</td>\n",
       "      <td>0.912000</td>\n",
       "      <td>...</td>\n",
       "      <td>91.915</td>\n",
       "      <td>1</td>\n",
       "      <td>0</td>\n",
       "      <td>4</td>\n",
       "      <td>this dance this dance is like a weapon is like...</td>\n",
       "      <td>63.0</td>\n",
       "      <td>8.0</td>\n",
       "      <td>0.126984</td>\n",
       "      <td>0.205492</td>\n",
       "      <td>5.109683</td>\n",
       "    </tr>\n",
       "    <tr>\n",
       "      <th>99</th>\n",
       "      <td>Radiohead</td>\n",
       "      <td>A Moon Shaped Pool</td>\n",
       "      <td>Tinker Tailor Soldier Sailor Rich Man Poor Man...</td>\n",
       "      <td>10</td>\n",
       "      <td>303688</td>\n",
       "      <td>2016</td>\n",
       "      <td>0.0508</td>\n",
       "      <td>0.436</td>\n",
       "      <td>0.355</td>\n",
       "      <td>0.730000</td>\n",
       "      <td>...</td>\n",
       "      <td>90.388</td>\n",
       "      <td>11</td>\n",
       "      <td>1</td>\n",
       "      <td>4</td>\n",
       "      <td>all the holes at once are comin alive set free...</td>\n",
       "      <td>39.0</td>\n",
       "      <td>3.0</td>\n",
       "      <td>0.076923</td>\n",
       "      <td>0.128421</td>\n",
       "      <td>5.061467</td>\n",
       "    </tr>\n",
       "    <tr>\n",
       "      <th>100</th>\n",
       "      <td>Radiohead</td>\n",
       "      <td>A Moon Shaped Pool</td>\n",
       "      <td>True Love Waits</td>\n",
       "      <td>11</td>\n",
       "      <td>283463</td>\n",
       "      <td>2016</td>\n",
       "      <td>0.0381</td>\n",
       "      <td>0.132</td>\n",
       "      <td>0.401</td>\n",
       "      <td>0.938000</td>\n",
       "      <td>...</td>\n",
       "      <td>136.142</td>\n",
       "      <td>0</td>\n",
       "      <td>1</td>\n",
       "      <td>4</td>\n",
       "      <td>ill drown my beliefs to have your babies ill d...</td>\n",
       "      <td>43.0</td>\n",
       "      <td>12.0</td>\n",
       "      <td>0.279070</td>\n",
       "      <td>0.151695</td>\n",
       "      <td>4.724383</td>\n",
       "    </tr>\n",
       "  </tbody>\n",
       "</table>\n",
       "<p>101 rows × 23 columns</p>\n",
       "</div>"
      ],
      "text/plain": [
       "        Artist               Album   \n",
       "0    Radiohead         Pablo Honey  \\\n",
       "1    Radiohead         Pablo Honey   \n",
       "2    Radiohead         Pablo Honey   \n",
       "3    Radiohead         Pablo Honey   \n",
       "4    Radiohead         Pablo Honey   \n",
       "..         ...                 ...   \n",
       "96   Radiohead  A Moon Shaped Pool   \n",
       "97   Radiohead  A Moon Shaped Pool   \n",
       "98   Radiohead  A Moon Shaped Pool   \n",
       "99   Radiohead  A Moon Shaped Pool   \n",
       "100  Radiohead  A Moon Shaped Pool   \n",
       "\n",
       "                                                 Track  TrackNumber_On_Album   \n",
       "0                                                  You                     1  \\\n",
       "1                                                Creep                     2   \n",
       "2                                          How Do You?                     3   \n",
       "3                                      Stop Whispering                     4   \n",
       "4                                   Thinking About You                     5   \n",
       "..                                                 ...                   ...   \n",
       "96                                           Identikit                     7   \n",
       "97                                         The Numbers                     8   \n",
       "98                                       Present Tense                     9   \n",
       "99   Tinker Tailor Soldier Sailor Rich Man Poor Man...                    10   \n",
       "100                                    True Love Waits                    11   \n",
       "\n",
       "     Duration_ms  ReleaseYear  Valence  Energy  Danceability  Acousticness   \n",
       "0         208666         1993   0.2980   0.707         0.222      0.000945  \\\n",
       "1         238640         1993   0.1040   0.430         0.515      0.009700   \n",
       "2         132173         1993   0.2380   0.964         0.185      0.000659   \n",
       "3         325626         1993   0.2980   0.696         0.212      0.000849   \n",
       "4         161533         1993   0.4200   0.370         0.365      0.705000   \n",
       "..           ...          ...      ...     ...           ...           ...   \n",
       "96        266643         2016   0.3500   0.459         0.692      0.063200   \n",
       "97        345886         2016   0.0551   0.372         0.282      0.651000   \n",
       "98        306581         2016   0.3360   0.407         0.462      0.912000   \n",
       "99        303688         2016   0.0508   0.436         0.355      0.730000   \n",
       "100       283463         2016   0.0381   0.132         0.401      0.938000   \n",
       "\n",
       "     ...    Tempo  Key  Mode  TimeSignature   \n",
       "0    ...  112.663    9     1              3  \\\n",
       "1    ...   91.844    7     1              4   \n",
       "2    ...  147.351    9     1              4   \n",
       "3    ...  122.350    2     1              4   \n",
       "4    ...  103.442    7     1              4   \n",
       "..   ...      ...  ...   ...            ...   \n",
       "96   ...  150.695   11     0              4   \n",
       "97   ...  105.271    5     1              3   \n",
       "98   ...   91.915    1     0              4   \n",
       "99   ...   90.388   11     1              4   \n",
       "100  ...  136.142    0     1              4   \n",
       "\n",
       "                                                Lyrics  Total_Words   \n",
       "0    you are the sun and moon and stars are you and...         33.0  \\\n",
       "1    when you were here before couldnt look you in ...         85.0   \n",
       "2    hes bitter and twisted he knows what he wants ...         38.0   \n",
       "3    and the wise man said i dont want to hear your...         82.0   \n",
       "4    been thinking about you your records are here ...         81.0   \n",
       "..                                                 ...          ...   \n",
       "96   a moon shaped pool dancing clothes wont let me...        176.0   \n",
       "97   it holds us like a phantom it touches  like a ...         73.0   \n",
       "98   this dance this dance is like a weapon is like...         63.0   \n",
       "99   all the holes at once are comin alive set free...         39.0   \n",
       "100  ill drown my beliefs to have your babies ill d...         43.0   \n",
       "\n",
       "     Sad_Words Pct_Sad_Words  Lyrical_Density  Duration_mins  \n",
       "0          0.0      0.000000         0.158147       3.477767  \n",
       "1          5.0      0.058824         0.356185       3.977333  \n",
       "2          2.0      0.052632         0.287502       2.202883  \n",
       "3          2.0      0.024390         0.251823       5.427100  \n",
       "4          0.0      0.000000         0.501446       2.692217  \n",
       "..         ...           ...              ...            ...  \n",
       "96        18.0      0.102273         0.660059       4.444050  \n",
       "97         2.0      0.027397         0.211052       5.764767  \n",
       "98         8.0      0.126984         0.205492       5.109683  \n",
       "99         3.0      0.076923         0.128421       5.061467  \n",
       "100       12.0      0.279070         0.151695       4.724383  \n",
       "\n",
       "[101 rows x 23 columns]"
      ]
     },
     "execution_count": 142,
     "metadata": {},
     "output_type": "execute_result"
    }
   ],
   "source": [
    "df_radiohead"
   ]
  },
  {
   "cell_type": "code",
   "execution_count": 143,
   "id": "7a97cbc6",
   "metadata": {},
   "outputs": [
    {
     "data": {
      "application/vnd.plotly.v1+json": {
       "config": {
        "plotlyServerURL": "https://plot.ly"
       },
       "data": [
        {
         "alignmentgroup": "True",
         "hovertemplate": "Album Name=%{x}<br>Total Amount of Sad Words=%{y}<extra></extra>",
         "legendgroup": "Pablo Honey",
         "marker": {
          "color": "#636efa",
          "pattern": {
           "shape": ""
          }
         },
         "name": "Pablo Honey",
         "offsetgroup": "Pablo Honey",
         "orientation": "v",
         "showlegend": true,
         "textposition": "auto",
         "type": "bar",
         "x": [
          "Pablo Honey"
         ],
         "xaxis": "x",
         "y": [
          30
         ],
         "yaxis": "y"
        },
        {
         "alignmentgroup": "True",
         "hovertemplate": "Album Name=%{x}<br>Total Amount of Sad Words=%{y}<extra></extra>",
         "legendgroup": "The Bends",
         "marker": {
          "color": "#EF553B",
          "pattern": {
           "shape": ""
          }
         },
         "name": "The Bends",
         "offsetgroup": "The Bends",
         "orientation": "v",
         "showlegend": true,
         "textposition": "auto",
         "type": "bar",
         "x": [
          "The Bends"
         ],
         "xaxis": "x",
         "y": [
          62
         ],
         "yaxis": "y"
        },
        {
         "alignmentgroup": "True",
         "hovertemplate": "Album Name=%{x}<br>Total Amount of Sad Words=%{y}<extra></extra>",
         "legendgroup": "OK Computer",
         "marker": {
          "color": "#00cc96",
          "pattern": {
           "shape": ""
          }
         },
         "name": "OK Computer",
         "offsetgroup": "OK Computer",
         "orientation": "v",
         "showlegend": true,
         "textposition": "auto",
         "type": "bar",
         "x": [
          "OK Computer"
         ],
         "xaxis": "x",
         "y": [
          56
         ],
         "yaxis": "y"
        },
        {
         "alignmentgroup": "True",
         "hovertemplate": "Album Name=%{x}<br>Total Amount of Sad Words=%{y}<extra></extra>",
         "legendgroup": "Kid A",
         "marker": {
          "color": "#ab63fa",
          "pattern": {
           "shape": ""
          }
         },
         "name": "Kid A",
         "offsetgroup": "Kid A",
         "orientation": "v",
         "showlegend": true,
         "textposition": "auto",
         "type": "bar",
         "x": [
          "Kid A"
         ],
         "xaxis": "x",
         "y": [
          15
         ],
         "yaxis": "y"
        },
        {
         "alignmentgroup": "True",
         "hovertemplate": "Album Name=%{x}<br>Total Amount of Sad Words=%{y}<extra></extra>",
         "legendgroup": "Amnesiac",
         "marker": {
          "color": "#FFA15A",
          "pattern": {
           "shape": ""
          }
         },
         "name": "Amnesiac",
         "offsetgroup": "Amnesiac",
         "orientation": "v",
         "showlegend": true,
         "textposition": "auto",
         "type": "bar",
         "x": [
          "Amnesiac"
         ],
         "xaxis": "x",
         "y": [
          43
         ],
         "yaxis": "y"
        },
        {
         "alignmentgroup": "True",
         "hovertemplate": "Album Name=%{x}<br>Total Amount of Sad Words=%{y}<extra></extra>",
         "legendgroup": "Hail To the Thief",
         "marker": {
          "color": "#19d3f3",
          "pattern": {
           "shape": ""
          }
         },
         "name": "Hail To the Thief",
         "offsetgroup": "Hail To the Thief",
         "orientation": "v",
         "showlegend": true,
         "textposition": "auto",
         "type": "bar",
         "x": [
          "Hail To the Thief"
         ],
         "xaxis": "x",
         "y": [
          52
         ],
         "yaxis": "y"
        },
        {
         "alignmentgroup": "True",
         "hovertemplate": "Album Name=%{x}<br>Total Amount of Sad Words=%{y}<extra></extra>",
         "legendgroup": "In Rainbows",
         "marker": {
          "color": "#FF6692",
          "pattern": {
           "shape": ""
          }
         },
         "name": "In Rainbows",
         "offsetgroup": "In Rainbows",
         "orientation": "v",
         "showlegend": true,
         "textposition": "auto",
         "type": "bar",
         "x": [
          "In Rainbows"
         ],
         "xaxis": "x",
         "y": [
          27
         ],
         "yaxis": "y"
        },
        {
         "alignmentgroup": "True",
         "hovertemplate": "Album Name=%{x}<br>Total Amount of Sad Words=%{y}<extra></extra>",
         "legendgroup": "The King Of Limbs",
         "marker": {
          "color": "#B6E880",
          "pattern": {
           "shape": ""
          }
         },
         "name": "The King Of Limbs",
         "offsetgroup": "The King Of Limbs",
         "orientation": "v",
         "showlegend": true,
         "textposition": "auto",
         "type": "bar",
         "x": [
          "The King Of Limbs"
         ],
         "xaxis": "x",
         "y": [
          68
         ],
         "yaxis": "y"
        },
        {
         "alignmentgroup": "True",
         "hovertemplate": "Album Name=%{x}<br>Total Amount of Sad Words=%{y}<extra></extra>",
         "legendgroup": "A Moon Shaped Pool",
         "marker": {
          "color": "#FF97FF",
          "pattern": {
           "shape": ""
          }
         },
         "name": "A Moon Shaped Pool",
         "offsetgroup": "A Moon Shaped Pool",
         "orientation": "v",
         "showlegend": true,
         "textposition": "auto",
         "type": "bar",
         "x": [
          "A Moon Shaped Pool"
         ],
         "xaxis": "x",
         "y": [
          53
         ],
         "yaxis": "y"
        }
       ],
       "layout": {
        "barmode": "relative",
        "legend": {
         "title": {
          "text": "Album Name"
         },
         "tracegroupgap": 0
        },
        "template": {
         "data": {
          "bar": [
           {
            "error_x": {
             "color": "#f2f5fa"
            },
            "error_y": {
             "color": "#f2f5fa"
            },
            "marker": {
             "line": {
              "color": "rgb(17,17,17)",
              "width": 0.5
             },
             "pattern": {
              "fillmode": "overlay",
              "size": 10,
              "solidity": 0.2
             }
            },
            "type": "bar"
           }
          ],
          "barpolar": [
           {
            "marker": {
             "line": {
              "color": "rgb(17,17,17)",
              "width": 0.5
             },
             "pattern": {
              "fillmode": "overlay",
              "size": 10,
              "solidity": 0.2
             }
            },
            "type": "barpolar"
           }
          ],
          "carpet": [
           {
            "aaxis": {
             "endlinecolor": "#A2B1C6",
             "gridcolor": "#506784",
             "linecolor": "#506784",
             "minorgridcolor": "#506784",
             "startlinecolor": "#A2B1C6"
            },
            "baxis": {
             "endlinecolor": "#A2B1C6",
             "gridcolor": "#506784",
             "linecolor": "#506784",
             "minorgridcolor": "#506784",
             "startlinecolor": "#A2B1C6"
            },
            "type": "carpet"
           }
          ],
          "choropleth": [
           {
            "colorbar": {
             "outlinewidth": 0,
             "ticks": ""
            },
            "type": "choropleth"
           }
          ],
          "contour": [
           {
            "colorbar": {
             "outlinewidth": 0,
             "ticks": ""
            },
            "colorscale": [
             [
              0,
              "#0d0887"
             ],
             [
              0.1111111111111111,
              "#46039f"
             ],
             [
              0.2222222222222222,
              "#7201a8"
             ],
             [
              0.3333333333333333,
              "#9c179e"
             ],
             [
              0.4444444444444444,
              "#bd3786"
             ],
             [
              0.5555555555555556,
              "#d8576b"
             ],
             [
              0.6666666666666666,
              "#ed7953"
             ],
             [
              0.7777777777777778,
              "#fb9f3a"
             ],
             [
              0.8888888888888888,
              "#fdca26"
             ],
             [
              1,
              "#f0f921"
             ]
            ],
            "type": "contour"
           }
          ],
          "contourcarpet": [
           {
            "colorbar": {
             "outlinewidth": 0,
             "ticks": ""
            },
            "type": "contourcarpet"
           }
          ],
          "heatmap": [
           {
            "colorbar": {
             "outlinewidth": 0,
             "ticks": ""
            },
            "colorscale": [
             [
              0,
              "#0d0887"
             ],
             [
              0.1111111111111111,
              "#46039f"
             ],
             [
              0.2222222222222222,
              "#7201a8"
             ],
             [
              0.3333333333333333,
              "#9c179e"
             ],
             [
              0.4444444444444444,
              "#bd3786"
             ],
             [
              0.5555555555555556,
              "#d8576b"
             ],
             [
              0.6666666666666666,
              "#ed7953"
             ],
             [
              0.7777777777777778,
              "#fb9f3a"
             ],
             [
              0.8888888888888888,
              "#fdca26"
             ],
             [
              1,
              "#f0f921"
             ]
            ],
            "type": "heatmap"
           }
          ],
          "heatmapgl": [
           {
            "colorbar": {
             "outlinewidth": 0,
             "ticks": ""
            },
            "colorscale": [
             [
              0,
              "#0d0887"
             ],
             [
              0.1111111111111111,
              "#46039f"
             ],
             [
              0.2222222222222222,
              "#7201a8"
             ],
             [
              0.3333333333333333,
              "#9c179e"
             ],
             [
              0.4444444444444444,
              "#bd3786"
             ],
             [
              0.5555555555555556,
              "#d8576b"
             ],
             [
              0.6666666666666666,
              "#ed7953"
             ],
             [
              0.7777777777777778,
              "#fb9f3a"
             ],
             [
              0.8888888888888888,
              "#fdca26"
             ],
             [
              1,
              "#f0f921"
             ]
            ],
            "type": "heatmapgl"
           }
          ],
          "histogram": [
           {
            "marker": {
             "pattern": {
              "fillmode": "overlay",
              "size": 10,
              "solidity": 0.2
             }
            },
            "type": "histogram"
           }
          ],
          "histogram2d": [
           {
            "colorbar": {
             "outlinewidth": 0,
             "ticks": ""
            },
            "colorscale": [
             [
              0,
              "#0d0887"
             ],
             [
              0.1111111111111111,
              "#46039f"
             ],
             [
              0.2222222222222222,
              "#7201a8"
             ],
             [
              0.3333333333333333,
              "#9c179e"
             ],
             [
              0.4444444444444444,
              "#bd3786"
             ],
             [
              0.5555555555555556,
              "#d8576b"
             ],
             [
              0.6666666666666666,
              "#ed7953"
             ],
             [
              0.7777777777777778,
              "#fb9f3a"
             ],
             [
              0.8888888888888888,
              "#fdca26"
             ],
             [
              1,
              "#f0f921"
             ]
            ],
            "type": "histogram2d"
           }
          ],
          "histogram2dcontour": [
           {
            "colorbar": {
             "outlinewidth": 0,
             "ticks": ""
            },
            "colorscale": [
             [
              0,
              "#0d0887"
             ],
             [
              0.1111111111111111,
              "#46039f"
             ],
             [
              0.2222222222222222,
              "#7201a8"
             ],
             [
              0.3333333333333333,
              "#9c179e"
             ],
             [
              0.4444444444444444,
              "#bd3786"
             ],
             [
              0.5555555555555556,
              "#d8576b"
             ],
             [
              0.6666666666666666,
              "#ed7953"
             ],
             [
              0.7777777777777778,
              "#fb9f3a"
             ],
             [
              0.8888888888888888,
              "#fdca26"
             ],
             [
              1,
              "#f0f921"
             ]
            ],
            "type": "histogram2dcontour"
           }
          ],
          "mesh3d": [
           {
            "colorbar": {
             "outlinewidth": 0,
             "ticks": ""
            },
            "type": "mesh3d"
           }
          ],
          "parcoords": [
           {
            "line": {
             "colorbar": {
              "outlinewidth": 0,
              "ticks": ""
             }
            },
            "type": "parcoords"
           }
          ],
          "pie": [
           {
            "automargin": true,
            "type": "pie"
           }
          ],
          "scatter": [
           {
            "marker": {
             "line": {
              "color": "#283442"
             }
            },
            "type": "scatter"
           }
          ],
          "scatter3d": [
           {
            "line": {
             "colorbar": {
              "outlinewidth": 0,
              "ticks": ""
             }
            },
            "marker": {
             "colorbar": {
              "outlinewidth": 0,
              "ticks": ""
             }
            },
            "type": "scatter3d"
           }
          ],
          "scattercarpet": [
           {
            "marker": {
             "colorbar": {
              "outlinewidth": 0,
              "ticks": ""
             }
            },
            "type": "scattercarpet"
           }
          ],
          "scattergeo": [
           {
            "marker": {
             "colorbar": {
              "outlinewidth": 0,
              "ticks": ""
             }
            },
            "type": "scattergeo"
           }
          ],
          "scattergl": [
           {
            "marker": {
             "line": {
              "color": "#283442"
             }
            },
            "type": "scattergl"
           }
          ],
          "scattermapbox": [
           {
            "marker": {
             "colorbar": {
              "outlinewidth": 0,
              "ticks": ""
             }
            },
            "type": "scattermapbox"
           }
          ],
          "scatterpolar": [
           {
            "marker": {
             "colorbar": {
              "outlinewidth": 0,
              "ticks": ""
             }
            },
            "type": "scatterpolar"
           }
          ],
          "scatterpolargl": [
           {
            "marker": {
             "colorbar": {
              "outlinewidth": 0,
              "ticks": ""
             }
            },
            "type": "scatterpolargl"
           }
          ],
          "scatterternary": [
           {
            "marker": {
             "colorbar": {
              "outlinewidth": 0,
              "ticks": ""
             }
            },
            "type": "scatterternary"
           }
          ],
          "surface": [
           {
            "colorbar": {
             "outlinewidth": 0,
             "ticks": ""
            },
            "colorscale": [
             [
              0,
              "#0d0887"
             ],
             [
              0.1111111111111111,
              "#46039f"
             ],
             [
              0.2222222222222222,
              "#7201a8"
             ],
             [
              0.3333333333333333,
              "#9c179e"
             ],
             [
              0.4444444444444444,
              "#bd3786"
             ],
             [
              0.5555555555555556,
              "#d8576b"
             ],
             [
              0.6666666666666666,
              "#ed7953"
             ],
             [
              0.7777777777777778,
              "#fb9f3a"
             ],
             [
              0.8888888888888888,
              "#fdca26"
             ],
             [
              1,
              "#f0f921"
             ]
            ],
            "type": "surface"
           }
          ],
          "table": [
           {
            "cells": {
             "fill": {
              "color": "#506784"
             },
             "line": {
              "color": "rgb(17,17,17)"
             }
            },
            "header": {
             "fill": {
              "color": "#2a3f5f"
             },
             "line": {
              "color": "rgb(17,17,17)"
             }
            },
            "type": "table"
           }
          ]
         },
         "layout": {
          "annotationdefaults": {
           "arrowcolor": "#f2f5fa",
           "arrowhead": 0,
           "arrowwidth": 1
          },
          "autotypenumbers": "strict",
          "coloraxis": {
           "colorbar": {
            "outlinewidth": 0,
            "ticks": ""
           }
          },
          "colorscale": {
           "diverging": [
            [
             0,
             "#8e0152"
            ],
            [
             0.1,
             "#c51b7d"
            ],
            [
             0.2,
             "#de77ae"
            ],
            [
             0.3,
             "#f1b6da"
            ],
            [
             0.4,
             "#fde0ef"
            ],
            [
             0.5,
             "#f7f7f7"
            ],
            [
             0.6,
             "#e6f5d0"
            ],
            [
             0.7,
             "#b8e186"
            ],
            [
             0.8,
             "#7fbc41"
            ],
            [
             0.9,
             "#4d9221"
            ],
            [
             1,
             "#276419"
            ]
           ],
           "sequential": [
            [
             0,
             "#0d0887"
            ],
            [
             0.1111111111111111,
             "#46039f"
            ],
            [
             0.2222222222222222,
             "#7201a8"
            ],
            [
             0.3333333333333333,
             "#9c179e"
            ],
            [
             0.4444444444444444,
             "#bd3786"
            ],
            [
             0.5555555555555556,
             "#d8576b"
            ],
            [
             0.6666666666666666,
             "#ed7953"
            ],
            [
             0.7777777777777778,
             "#fb9f3a"
            ],
            [
             0.8888888888888888,
             "#fdca26"
            ],
            [
             1,
             "#f0f921"
            ]
           ],
           "sequentialminus": [
            [
             0,
             "#0d0887"
            ],
            [
             0.1111111111111111,
             "#46039f"
            ],
            [
             0.2222222222222222,
             "#7201a8"
            ],
            [
             0.3333333333333333,
             "#9c179e"
            ],
            [
             0.4444444444444444,
             "#bd3786"
            ],
            [
             0.5555555555555556,
             "#d8576b"
            ],
            [
             0.6666666666666666,
             "#ed7953"
            ],
            [
             0.7777777777777778,
             "#fb9f3a"
            ],
            [
             0.8888888888888888,
             "#fdca26"
            ],
            [
             1,
             "#f0f921"
            ]
           ]
          },
          "colorway": [
           "#636efa",
           "#EF553B",
           "#00cc96",
           "#ab63fa",
           "#FFA15A",
           "#19d3f3",
           "#FF6692",
           "#B6E880",
           "#FF97FF",
           "#FECB52"
          ],
          "font": {
           "color": "#f2f5fa"
          },
          "geo": {
           "bgcolor": "rgb(17,17,17)",
           "lakecolor": "rgb(17,17,17)",
           "landcolor": "rgb(17,17,17)",
           "showlakes": true,
           "showland": true,
           "subunitcolor": "#506784"
          },
          "hoverlabel": {
           "align": "left"
          },
          "hovermode": "closest",
          "mapbox": {
           "style": "dark"
          },
          "paper_bgcolor": "rgb(17,17,17)",
          "plot_bgcolor": "rgb(17,17,17)",
          "polar": {
           "angularaxis": {
            "gridcolor": "#506784",
            "linecolor": "#506784",
            "ticks": ""
           },
           "bgcolor": "rgb(17,17,17)",
           "radialaxis": {
            "gridcolor": "#506784",
            "linecolor": "#506784",
            "ticks": ""
           }
          },
          "scene": {
           "xaxis": {
            "backgroundcolor": "rgb(17,17,17)",
            "gridcolor": "#506784",
            "gridwidth": 2,
            "linecolor": "#506784",
            "showbackground": true,
            "ticks": "",
            "zerolinecolor": "#C8D4E3"
           },
           "yaxis": {
            "backgroundcolor": "rgb(17,17,17)",
            "gridcolor": "#506784",
            "gridwidth": 2,
            "linecolor": "#506784",
            "showbackground": true,
            "ticks": "",
            "zerolinecolor": "#C8D4E3"
           },
           "zaxis": {
            "backgroundcolor": "rgb(17,17,17)",
            "gridcolor": "#506784",
            "gridwidth": 2,
            "linecolor": "#506784",
            "showbackground": true,
            "ticks": "",
            "zerolinecolor": "#C8D4E3"
           }
          },
          "shapedefaults": {
           "line": {
            "color": "#f2f5fa"
           }
          },
          "sliderdefaults": {
           "bgcolor": "#C8D4E3",
           "bordercolor": "rgb(17,17,17)",
           "borderwidth": 1,
           "tickwidth": 0
          },
          "ternary": {
           "aaxis": {
            "gridcolor": "#506784",
            "linecolor": "#506784",
            "ticks": ""
           },
           "baxis": {
            "gridcolor": "#506784",
            "linecolor": "#506784",
            "ticks": ""
           },
           "bgcolor": "rgb(17,17,17)",
           "caxis": {
            "gridcolor": "#506784",
            "linecolor": "#506784",
            "ticks": ""
           }
          },
          "title": {
           "x": 0.05
          },
          "updatemenudefaults": {
           "bgcolor": "#506784",
           "borderwidth": 0
          },
          "xaxis": {
           "automargin": true,
           "gridcolor": "#283442",
           "linecolor": "#506784",
           "ticks": "",
           "title": {
            "standoff": 15
           },
           "zerolinecolor": "#283442",
           "zerolinewidth": 2
          },
          "yaxis": {
           "automargin": true,
           "gridcolor": "#283442",
           "linecolor": "#506784",
           "ticks": "",
           "title": {
            "standoff": 15
           },
           "zerolinecolor": "#283442",
           "zerolinewidth": 2
          }
         }
        },
        "title": {
         "text": "<b>Radiohead Albums by Total Amount of Sad Lyrics</b> <br> \"The King Of Limbs\" is still on top, but \"The Bends\" jumps to #2."
        },
        "xaxis": {
         "anchor": "y",
         "categoryarray": [
          "Pablo Honey",
          "The Bends",
          "OK Computer",
          "Kid A",
          "Amnesiac",
          "Hail To the Thief",
          "In Rainbows",
          "The King Of Limbs",
          "A Moon Shaped Pool"
         ],
         "categoryorder": "array",
         "domain": [
          0,
          1
         ],
         "title": {
          "text": "Album Name"
         }
        },
        "yaxis": {
         "anchor": "x",
         "domain": [
          0,
          1
         ],
         "title": {
          "text": "Total Amount of Sad Words"
         }
        }
       }
      }
     },
     "metadata": {},
     "output_type": "display_data"
    }
   ],
   "source": [
    "#Plot Absolute Sadness\n",
    "fig = px.bar(df_radiohead_soft_facts, x = 'Album',y= 'total_sad_words', color = 'Album',\n",
    "            labels={'Album':'Album Name', 'total_sad_words':'Total Amount of Sad Words'},\n",
    "            title= '<b>Radiohead Albums by Total Amount of Sad Lyrics</b> <br> \"The King Of Limbs\" is still on top, but \"The Bends\" jumps to #2.',\n",
    "            template='plotly_dark')\n",
    "\n",
    "fig.show()"
   ]
  },
  {
   "cell_type": "markdown",
   "id": "5dee1942",
   "metadata": {},
   "source": [
    "'The King Of Limbs' slides a bit, since it is Radiohead's shortest album with the least amount of words sung. 'The Bends' and 'OK Computer' both stay on top of the list here. 'A Moon Shaped Pool' also holds its own.  14 track 'monster release' 'Hail To the Thief' jumps 'Amnesiac' and enters the top 5, which makes a lot of sense. A larger amount of songs and lyrics simply offers more opportunities to use sad words."
   ]
  },
  {
   "cell_type": "markdown",
   "id": "599f1907",
   "metadata": {},
   "source": [
    "## Analysis: Can we possibly combine these soft approaches to quantify the most melancholy record?\n",
    "\n",
    "### The Triangulation of Sadness\n",
    "\n",
    "As we have seen, to determine the sadness or negativeness of a track we can look at it from a musical and lyrical perspective. And there it makes sense to differentiate between relative and absolute apporaches. But what if we want to combine the three concepts of valence, percentage of sad words and lyrical density?\n",
    "\n",
    "We can try to do this graphically and put all songs in a ternary plot:\n"
   ]
  },
  {
   "cell_type": "code",
   "execution_count": 144,
   "id": "56d5e9ec",
   "metadata": {},
   "outputs": [
    {
     "data": {
      "application/vnd.plotly.v1+json": {
       "config": {
        "plotlyServerURL": "https://plot.ly"
       },
       "data": [
        {
         "a": [
          0,
          0.0588235294117647,
          0.0526315789473684,
          0.024390243902439,
          0,
          0.0933333333333333,
          0.0384615384615384,
          0.0273972602739726,
          0.0461538461538461,
          0.0434782608695652,
          0,
          0.0666666666666666
         ],
         "b": [
          0.1581474701197128,
          0.3561850486087831,
          0.2875019860334561,
          0.2518226431550306,
          0.5014455250629902,
          0.3443526170798898,
          0.2740693500867008,
          0.3788940446160713,
          0.4471256698286476,
          0.3635027440506059,
          0.2714700903835713,
          0.1595371296079641
         ],
         "c": [
          0.298,
          0.104,
          0.238,
          0.298,
          0.42,
          0.555,
          0.256,
          0.419,
          0.319,
          0.273,
          0.409,
          0.275
         ],
         "hovertemplate": "<b>%{hovertext}</b><br><br>Album Name=Pablo Honey<br>Percentage of Sad Words=%{a}<br>Lyrical Density=%{b}<br>Valence=%{c}<extra></extra>",
         "hovertext": [
          "You",
          "Creep",
          "How Do You?",
          "Stop Whispering",
          "Thinking About You",
          "Anyone Can Play Guitar",
          "Ripcord",
          "Vegetable",
          "Prove Yourself",
          "I Can't",
          "Lurgee",
          "Blow Out"
         ],
         "legendgroup": "Pablo Honey",
         "marker": {
          "color": "#636efa",
          "symbol": "circle"
         },
         "mode": "markers",
         "name": "Pablo Honey",
         "showlegend": true,
         "subplot": "ternary",
         "type": "scatterternary"
        },
        {
         "a": [
          0.1276595744680851,
          0.048780487804878,
          0.1652892561983471,
          0.0422535211267605,
          0.0338983050847457,
          0,
          0.1,
          0.0454545454545454,
          0.054054054054054,
          0.1046511627906976,
          0.0125,
          0.0256410256410256
         ],
         "b": [
          0.1813271604938271,
          0.4995938261575954,
          0.4699394127699238,
          0.244233005166732,
          0.3121693121693121,
          0.317288809995455,
          0.2555366269165247,
          0.3979365182725214,
          0.1772599445224282,
          0.3481217616580311,
          0.3588087549336204,
          0.3072644404438789
         ],
         "c": [
          0.258,
          0.312,
          0.35,
          0.135,
          0.419,
          0.375,
          0.359,
          0.672,
          0.0776,
          0.306,
          0.671,
          0.131
         ],
         "hovertemplate": "<b>%{hovertext}</b><br><br>Album Name=The Bends<br>Percentage of Sad Words=%{a}<br>Lyrical Density=%{b}<br>Valence=%{c}<extra></extra>",
         "hovertext": [
          "Planet Telex",
          "The Bends",
          "High and Dry",
          "Fake Plastic Trees",
          "Bones",
          "(Nice Dream)",
          "Just",
          "My Iron Lung",
          "Bullet Proof ... I Wish I Was",
          "Black Star",
          "Sulk",
          "Street Spirit (Fade Out)"
         ],
         "legendgroup": "The Bends",
         "marker": {
          "color": "#EF553B",
          "symbol": "circle"
         },
         "mode": "markers",
         "name": "The Bends",
         "showlegend": true,
         "subplot": "ternary",
         "type": "scatterternary"
        },
        {
         "a": [
          0,
          0,
          0.0210526315789473,
          0.1785714285714285,
          0.1263157894736842,
          0.1578947368421052,
          0.0608108108108108,
          0.0425531914893617,
          0.081081081081081,
          0.05,
          0.0392156862745098,
          0.0204081632653061
         ],
         "b": [
          0.1563151313047102,
          0.2711685816333646,
          0.3548841396674548,
          0.2095918199306849,
          0.3171317932968353,
          0.215855127127309,
          1.2613672197932382,
          0.2037931542844258,
          0.2594670406732118,
          0.2618715083798882,
          0.1970534710389354,
          0.1500614026759929
         ],
         "c": [
          0.648,
          0.207,
          0.337,
          0.195,
          0.143,
          0.324,
          0.744,
          0.329,
          0.221,
          0.118,
          0.195,
          0.0398
         ],
         "hovertemplate": "<b>%{hovertext}</b><br><br>Album Name=OK Computer<br>Percentage of Sad Words=%{a}<br>Lyrical Density=%{b}<br>Valence=%{c}<extra></extra>",
         "hovertext": [
          "Airbag",
          "Paranoid Android",
          "Subterranean Homesick Alien",
          "Exit Music (For A Film)",
          "Let Down",
          "Karma Police",
          "Fitter Happier",
          "Electioneering",
          "Climbing Up the Walls",
          "No Surprises",
          "Lucky",
          "The Tourist"
         ],
         "legendgroup": "OK Computer",
         "marker": {
          "color": "#00cc96",
          "symbol": "circle"
         },
         "mode": "markers",
         "name": "OK Computer",
         "showlegend": true,
         "subplot": "ternary",
         "type": "scatterternary"
        },
        {
         "a": [
          0,
          0.0217391304347826,
          0,
          0.0212765957446808,
          0,
          0.0192307692307692,
          0.0294117647058823,
          0.0194805194805194,
          0.0121951219512195,
          0.0833333333333333,
          0
         ],
         "b": [
          0.2585253712822062,
          0.1616837606236775,
          0.0540243905906571,
          0.1318990943864307,
          0,
          0.3291420469470492,
          0.4834123222748815,
          0.4982319237252219,
          0.2973168963016678,
          0.2394229905926716,
          0
         ],
         "c": [
          0.0629,
          0.159,
          0.388,
          0.19,
          0.0577,
          0.573,
          0.509,
          0.525,
          0.392,
          0.0427,
          0.0769
         ],
         "hovertemplate": "<b>%{hovertext}</b><br><br>Album Name=Kid A<br>Percentage of Sad Words=%{a}<br>Lyrical Density=%{b}<br>Valence=%{c}<extra></extra>",
         "hovertext": [
          "Everything In Its Right Place",
          "Kid A",
          "The National Anthem",
          "How to Disappear Completely",
          "Treefingers",
          "Optimistic",
          "In Limbo",
          "Idioteque",
          "Morning Bell",
          "Motion Picture Soundtrack",
          "Untitled"
         ],
         "legendgroup": "Kid A",
         "marker": {
          "color": "#ab63fa",
          "symbol": "circle"
         },
         "mode": "markers",
         "name": "Kid A",
         "showlegend": true,
         "subplot": "ternary",
         "type": "scatterternary"
        },
        {
         "a": [
          0.2323232323232323,
          0.0677966101694915,
          0,
          0.0212765957446808,
          0,
          0,
          0,
          0.1,
          0,
          0,
          0.036144578313253
         ],
         "b": [
          0.4119284492766287,
          0.2043410347968538,
          0.1132383748675515,
          0.2460732984293193,
          0.1701994397034445,
          0.2236469360369763,
          0.2882645444905439,
          0.4113350220921185,
          0,
          0.1137004876487581,
          0.2999714485006849
         ],
         "c": [
          0.65,
          0.0679,
          0.141,
          0.131,
          0.505,
          0.184,
          0.182,
          0.0883,
          0.0736,
          0.218,
          0.0466
         ],
         "hovertemplate": "<b>%{hovertext}</b><br><br>Album Name=Amnesiac<br>Percentage of Sad Words=%{a}<br>Lyrical Density=%{b}<br>Valence=%{c}<extra></extra>",
         "hovertext": [
          "Packt Like Sardines In a Crushd Tin Box",
          "Pyramid Song",
          "Pulk/Pull Revolving Doors",
          "You And Whose Army?",
          "I Might Be Wrong",
          "Knives Out",
          "Morning Bell/Amnesiac",
          "Dollars and Cents",
          "Hunting Bears",
          "Like Spinning Plates",
          "Life In a Glasshouse"
         ],
         "legendgroup": "Amnesiac",
         "marker": {
          "color": "#FFA15A",
          "symbol": "circle"
         },
         "mode": "markers",
         "name": "Amnesiac",
         "showlegend": true,
         "subplot": "ternary",
         "type": "scatterternary"
        },
        {
         "a": [
          0.0614035087719298,
          0.0259740259740259,
          0,
          0.1690140845070422,
          0,
          0.0198019801980198,
          0.0697674418604651,
          0.0555555555555555,
          0.0945945945945946,
          0.0294117647058823,
          0.1,
          0.0202020202020202,
          0.0222222222222222,
          0.0331491712707182
         ],
         "b": [
          0.5718298555377207,
          0.2961846037857777,
          0.1083759095835268,
          0.2200867947923124,
          0.2828699889829583,
          0.3750561655891538,
          0.1449246055017424,
          0.3395809947836586,
          0.2286773794808405,
          0.2845998024542547,
          0.1681616234995779,
          0.425746023145102,
          0.2230969827372512,
          0.899008110940581
         ],
         "c": [
          0.386,
          0.522,
          0.0536,
          0.725,
          0.66,
          0.48,
          0.0378,
          0.115,
          0.716,
          0.167,
          0.562,
          0.571,
          0.234,
          0.364
         ],
         "hovertemplate": "<b>%{hovertext}</b><br><br>Album Name=Hail To the Thief<br>Percentage of Sad Words=%{a}<br>Lyrical Density=%{b}<br>Valence=%{c}<extra></extra>",
         "hovertext": [
          "2 + 2 = 5",
          "Sit Down. Stand Up",
          "Sail To The Moon",
          "Backdrifts",
          "Go To Sleep",
          "Where I End and You Begin",
          "We Suck Young Blood",
          "The Gloaming",
          "There, There",
          "I Will",
          "A Punch Up at a Wedding",
          "Myxomatosis",
          "Scatterbrain",
          "A Wolf At the Door"
         ],
         "legendgroup": "Hail To the Thief",
         "marker": {
          "color": "#19d3f3",
          "symbol": "circle"
         },
         "mode": "markers",
         "name": "Hail To the Thief",
         "showlegend": true,
         "subplot": "ternary",
         "type": "scatterternary"
        },
        {
         "a": [
          0,
          0.0123456790123456,
          0.054054054054054,
          0.1186440677966101,
          0,
          0.0112359550561797,
          0,
          0.1186440677966101,
          0.063063063063063,
          0.04
         ],
         "b": [
          0.30763655059357,
          0.3343059849025766,
          0.1448787325851847,
          0.1854261343993764,
          0.2185830571900711,
          0.6863100424895319,
          0.113709585718076,
          0.1797175084451998,
          0.4459747763094985,
          0.1788051524492729
         ],
         "c": [
          0.844,
          0.733,
          0.167,
          0.199,
          0.0997,
          0.225,
          0.214,
          0.628,
          0.807,
          0.0506
         ],
         "hovertemplate": "<b>%{hovertext}</b><br><br>Album Name=In Rainbows<br>Percentage of Sad Words=%{a}<br>Lyrical Density=%{b}<br>Valence=%{c}<extra></extra>",
         "hovertext": [
          "15 Step",
          "Bodysnatchers",
          "Nude",
          "Weird Fishes/ Arpeggi",
          "All I Need",
          "Faust Arp",
          "Reckoner",
          "House Of Cards",
          "Jigsaw Falling Into Place",
          "Videotape"
         ],
         "legendgroup": "In Rainbows",
         "marker": {
          "color": "#FF6692",
          "symbol": "circle"
         },
         "mode": "markers",
         "name": "In Rainbows",
         "showlegend": true,
         "subplot": "ternary",
         "type": "scatterternary"
        },
        {
         "a": [
          0.0294117647058823,
          0,
          0.0987654320987654,
          0,
          0.1130434782608695,
          0.0344827586206896,
          0.3508771929824561,
          0.0427350427350427
         ],
         "b": [
          0.1083938266527667,
          0.1460535268364449,
          0.3031959094754336,
          0.0622593933859771,
          0.3830537041293189,
          0.1010220646123191,
          0.3930126488018285,
          0.3664850947066396
         ],
         "c": [
          0.341,
          0.402,
          0.603,
          0.729,
          0.62,
          0.0654,
          0.157,
          0.631
         ],
         "hovertemplate": "<b>%{hovertext}</b><br><br>Album Name=The King Of Limbs<br>Percentage of Sad Words=%{a}<br>Lyrical Density=%{b}<br>Valence=%{c}<extra></extra>",
         "hovertext": [
          "Bloom",
          "Morning Mr Magpie",
          "Little By Little",
          "Feral",
          "Lotus Flower",
          "Codex",
          "Give Up The Ghost",
          "Separator"
         ],
         "legendgroup": "The King Of Limbs",
         "marker": {
          "color": "#B6E880",
          "symbol": "circle"
         },
         "mode": "markers",
         "name": "The King Of Limbs",
         "showlegend": true,
         "subplot": "ternary",
         "type": "scatterternary"
        },
        {
         "a": [
          0.0784313725490196,
          0.0333333333333333,
          0.0309278350515463,
          0,
          0,
          0,
          0.1022727272727272,
          0.0273972602739726,
          0.1269841269841269,
          0.0769230769230769,
          0.2790697674418604
         ],
         "b": [
          0.2311782384218232,
          0.2341079705960389,
          0.3451822170662358,
          0.3382317599622604,
          0.3239435086076417,
          0.3700812443981843,
          0.6600585801989927,
          0.2110521963884054,
          0.2054921864042455,
          0.1284212744658992,
          0.1516952829822587
         ],
         "c": [
          0.62,
          0.113,
          0.271,
          0.158,
          0.178,
          0.0632,
          0.35,
          0.0551,
          0.336,
          0.0508,
          0.0381
         ],
         "hovertemplate": "<b>%{hovertext}</b><br><br>Album Name=A Moon Shaped Pool<br>Percentage of Sad Words=%{a}<br>Lyrical Density=%{b}<br>Valence=%{c}<extra></extra>",
         "hovertext": [
          "Burn the Witch",
          "Daydreaming",
          "Decks Dark",
          "Desert Island Disk",
          "Ful Stop",
          "Glass Eyes",
          "Identikit",
          "The Numbers",
          "Present Tense",
          "Tinker Tailor Soldier Sailor Rich Man Poor Man Beggar Man Thief",
          "True Love Waits"
         ],
         "legendgroup": "A Moon Shaped Pool",
         "marker": {
          "color": "#FF97FF",
          "symbol": "circle"
         },
         "mode": "markers",
         "name": "A Moon Shaped Pool",
         "showlegend": true,
         "subplot": "ternary",
         "type": "scatterternary"
        }
       ],
       "layout": {
        "annotations": [
         {
          "arrowhead": 1,
          "bgcolor": "white",
          "bordercolor": "White",
          "font": {
           "color": "Black"
          },
          "showarrow": true,
          "text": "'True Love Waits' - their saddest song?",
          "x": 0.415,
          "y": 0.61
         }
        ],
        "height": 600,
        "legend": {
         "title": {
          "text": "Album Name"
         },
         "tracegroupgap": 0
        },
        "template": {
         "data": {
          "bar": [
           {
            "error_x": {
             "color": "#f2f5fa"
            },
            "error_y": {
             "color": "#f2f5fa"
            },
            "marker": {
             "line": {
              "color": "rgb(17,17,17)",
              "width": 0.5
             },
             "pattern": {
              "fillmode": "overlay",
              "size": 10,
              "solidity": 0.2
             }
            },
            "type": "bar"
           }
          ],
          "barpolar": [
           {
            "marker": {
             "line": {
              "color": "rgb(17,17,17)",
              "width": 0.5
             },
             "pattern": {
              "fillmode": "overlay",
              "size": 10,
              "solidity": 0.2
             }
            },
            "type": "barpolar"
           }
          ],
          "carpet": [
           {
            "aaxis": {
             "endlinecolor": "#A2B1C6",
             "gridcolor": "#506784",
             "linecolor": "#506784",
             "minorgridcolor": "#506784",
             "startlinecolor": "#A2B1C6"
            },
            "baxis": {
             "endlinecolor": "#A2B1C6",
             "gridcolor": "#506784",
             "linecolor": "#506784",
             "minorgridcolor": "#506784",
             "startlinecolor": "#A2B1C6"
            },
            "type": "carpet"
           }
          ],
          "choropleth": [
           {
            "colorbar": {
             "outlinewidth": 0,
             "ticks": ""
            },
            "type": "choropleth"
           }
          ],
          "contour": [
           {
            "colorbar": {
             "outlinewidth": 0,
             "ticks": ""
            },
            "colorscale": [
             [
              0,
              "#0d0887"
             ],
             [
              0.1111111111111111,
              "#46039f"
             ],
             [
              0.2222222222222222,
              "#7201a8"
             ],
             [
              0.3333333333333333,
              "#9c179e"
             ],
             [
              0.4444444444444444,
              "#bd3786"
             ],
             [
              0.5555555555555556,
              "#d8576b"
             ],
             [
              0.6666666666666666,
              "#ed7953"
             ],
             [
              0.7777777777777778,
              "#fb9f3a"
             ],
             [
              0.8888888888888888,
              "#fdca26"
             ],
             [
              1,
              "#f0f921"
             ]
            ],
            "type": "contour"
           }
          ],
          "contourcarpet": [
           {
            "colorbar": {
             "outlinewidth": 0,
             "ticks": ""
            },
            "type": "contourcarpet"
           }
          ],
          "heatmap": [
           {
            "colorbar": {
             "outlinewidth": 0,
             "ticks": ""
            },
            "colorscale": [
             [
              0,
              "#0d0887"
             ],
             [
              0.1111111111111111,
              "#46039f"
             ],
             [
              0.2222222222222222,
              "#7201a8"
             ],
             [
              0.3333333333333333,
              "#9c179e"
             ],
             [
              0.4444444444444444,
              "#bd3786"
             ],
             [
              0.5555555555555556,
              "#d8576b"
             ],
             [
              0.6666666666666666,
              "#ed7953"
             ],
             [
              0.7777777777777778,
              "#fb9f3a"
             ],
             [
              0.8888888888888888,
              "#fdca26"
             ],
             [
              1,
              "#f0f921"
             ]
            ],
            "type": "heatmap"
           }
          ],
          "heatmapgl": [
           {
            "colorbar": {
             "outlinewidth": 0,
             "ticks": ""
            },
            "colorscale": [
             [
              0,
              "#0d0887"
             ],
             [
              0.1111111111111111,
              "#46039f"
             ],
             [
              0.2222222222222222,
              "#7201a8"
             ],
             [
              0.3333333333333333,
              "#9c179e"
             ],
             [
              0.4444444444444444,
              "#bd3786"
             ],
             [
              0.5555555555555556,
              "#d8576b"
             ],
             [
              0.6666666666666666,
              "#ed7953"
             ],
             [
              0.7777777777777778,
              "#fb9f3a"
             ],
             [
              0.8888888888888888,
              "#fdca26"
             ],
             [
              1,
              "#f0f921"
             ]
            ],
            "type": "heatmapgl"
           }
          ],
          "histogram": [
           {
            "marker": {
             "pattern": {
              "fillmode": "overlay",
              "size": 10,
              "solidity": 0.2
             }
            },
            "type": "histogram"
           }
          ],
          "histogram2d": [
           {
            "colorbar": {
             "outlinewidth": 0,
             "ticks": ""
            },
            "colorscale": [
             [
              0,
              "#0d0887"
             ],
             [
              0.1111111111111111,
              "#46039f"
             ],
             [
              0.2222222222222222,
              "#7201a8"
             ],
             [
              0.3333333333333333,
              "#9c179e"
             ],
             [
              0.4444444444444444,
              "#bd3786"
             ],
             [
              0.5555555555555556,
              "#d8576b"
             ],
             [
              0.6666666666666666,
              "#ed7953"
             ],
             [
              0.7777777777777778,
              "#fb9f3a"
             ],
             [
              0.8888888888888888,
              "#fdca26"
             ],
             [
              1,
              "#f0f921"
             ]
            ],
            "type": "histogram2d"
           }
          ],
          "histogram2dcontour": [
           {
            "colorbar": {
             "outlinewidth": 0,
             "ticks": ""
            },
            "colorscale": [
             [
              0,
              "#0d0887"
             ],
             [
              0.1111111111111111,
              "#46039f"
             ],
             [
              0.2222222222222222,
              "#7201a8"
             ],
             [
              0.3333333333333333,
              "#9c179e"
             ],
             [
              0.4444444444444444,
              "#bd3786"
             ],
             [
              0.5555555555555556,
              "#d8576b"
             ],
             [
              0.6666666666666666,
              "#ed7953"
             ],
             [
              0.7777777777777778,
              "#fb9f3a"
             ],
             [
              0.8888888888888888,
              "#fdca26"
             ],
             [
              1,
              "#f0f921"
             ]
            ],
            "type": "histogram2dcontour"
           }
          ],
          "mesh3d": [
           {
            "colorbar": {
             "outlinewidth": 0,
             "ticks": ""
            },
            "type": "mesh3d"
           }
          ],
          "parcoords": [
           {
            "line": {
             "colorbar": {
              "outlinewidth": 0,
              "ticks": ""
             }
            },
            "type": "parcoords"
           }
          ],
          "pie": [
           {
            "automargin": true,
            "type": "pie"
           }
          ],
          "scatter": [
           {
            "marker": {
             "line": {
              "color": "#283442"
             }
            },
            "type": "scatter"
           }
          ],
          "scatter3d": [
           {
            "line": {
             "colorbar": {
              "outlinewidth": 0,
              "ticks": ""
             }
            },
            "marker": {
             "colorbar": {
              "outlinewidth": 0,
              "ticks": ""
             }
            },
            "type": "scatter3d"
           }
          ],
          "scattercarpet": [
           {
            "marker": {
             "colorbar": {
              "outlinewidth": 0,
              "ticks": ""
             }
            },
            "type": "scattercarpet"
           }
          ],
          "scattergeo": [
           {
            "marker": {
             "colorbar": {
              "outlinewidth": 0,
              "ticks": ""
             }
            },
            "type": "scattergeo"
           }
          ],
          "scattergl": [
           {
            "marker": {
             "line": {
              "color": "#283442"
             }
            },
            "type": "scattergl"
           }
          ],
          "scattermapbox": [
           {
            "marker": {
             "colorbar": {
              "outlinewidth": 0,
              "ticks": ""
             }
            },
            "type": "scattermapbox"
           }
          ],
          "scatterpolar": [
           {
            "marker": {
             "colorbar": {
              "outlinewidth": 0,
              "ticks": ""
             }
            },
            "type": "scatterpolar"
           }
          ],
          "scatterpolargl": [
           {
            "marker": {
             "colorbar": {
              "outlinewidth": 0,
              "ticks": ""
             }
            },
            "type": "scatterpolargl"
           }
          ],
          "scatterternary": [
           {
            "marker": {
             "colorbar": {
              "outlinewidth": 0,
              "ticks": ""
             }
            },
            "type": "scatterternary"
           }
          ],
          "surface": [
           {
            "colorbar": {
             "outlinewidth": 0,
             "ticks": ""
            },
            "colorscale": [
             [
              0,
              "#0d0887"
             ],
             [
              0.1111111111111111,
              "#46039f"
             ],
             [
              0.2222222222222222,
              "#7201a8"
             ],
             [
              0.3333333333333333,
              "#9c179e"
             ],
             [
              0.4444444444444444,
              "#bd3786"
             ],
             [
              0.5555555555555556,
              "#d8576b"
             ],
             [
              0.6666666666666666,
              "#ed7953"
             ],
             [
              0.7777777777777778,
              "#fb9f3a"
             ],
             [
              0.8888888888888888,
              "#fdca26"
             ],
             [
              1,
              "#f0f921"
             ]
            ],
            "type": "surface"
           }
          ],
          "table": [
           {
            "cells": {
             "fill": {
              "color": "#506784"
             },
             "line": {
              "color": "rgb(17,17,17)"
             }
            },
            "header": {
             "fill": {
              "color": "#2a3f5f"
             },
             "line": {
              "color": "rgb(17,17,17)"
             }
            },
            "type": "table"
           }
          ]
         },
         "layout": {
          "annotationdefaults": {
           "arrowcolor": "#f2f5fa",
           "arrowhead": 0,
           "arrowwidth": 1
          },
          "autotypenumbers": "strict",
          "coloraxis": {
           "colorbar": {
            "outlinewidth": 0,
            "ticks": ""
           }
          },
          "colorscale": {
           "diverging": [
            [
             0,
             "#8e0152"
            ],
            [
             0.1,
             "#c51b7d"
            ],
            [
             0.2,
             "#de77ae"
            ],
            [
             0.3,
             "#f1b6da"
            ],
            [
             0.4,
             "#fde0ef"
            ],
            [
             0.5,
             "#f7f7f7"
            ],
            [
             0.6,
             "#e6f5d0"
            ],
            [
             0.7,
             "#b8e186"
            ],
            [
             0.8,
             "#7fbc41"
            ],
            [
             0.9,
             "#4d9221"
            ],
            [
             1,
             "#276419"
            ]
           ],
           "sequential": [
            [
             0,
             "#0d0887"
            ],
            [
             0.1111111111111111,
             "#46039f"
            ],
            [
             0.2222222222222222,
             "#7201a8"
            ],
            [
             0.3333333333333333,
             "#9c179e"
            ],
            [
             0.4444444444444444,
             "#bd3786"
            ],
            [
             0.5555555555555556,
             "#d8576b"
            ],
            [
             0.6666666666666666,
             "#ed7953"
            ],
            [
             0.7777777777777778,
             "#fb9f3a"
            ],
            [
             0.8888888888888888,
             "#fdca26"
            ],
            [
             1,
             "#f0f921"
            ]
           ],
           "sequentialminus": [
            [
             0,
             "#0d0887"
            ],
            [
             0.1111111111111111,
             "#46039f"
            ],
            [
             0.2222222222222222,
             "#7201a8"
            ],
            [
             0.3333333333333333,
             "#9c179e"
            ],
            [
             0.4444444444444444,
             "#bd3786"
            ],
            [
             0.5555555555555556,
             "#d8576b"
            ],
            [
             0.6666666666666666,
             "#ed7953"
            ],
            [
             0.7777777777777778,
             "#fb9f3a"
            ],
            [
             0.8888888888888888,
             "#fdca26"
            ],
            [
             1,
             "#f0f921"
            ]
           ]
          },
          "colorway": [
           "#636efa",
           "#EF553B",
           "#00cc96",
           "#ab63fa",
           "#FFA15A",
           "#19d3f3",
           "#FF6692",
           "#B6E880",
           "#FF97FF",
           "#FECB52"
          ],
          "font": {
           "color": "#f2f5fa"
          },
          "geo": {
           "bgcolor": "rgb(17,17,17)",
           "lakecolor": "rgb(17,17,17)",
           "landcolor": "rgb(17,17,17)",
           "showlakes": true,
           "showland": true,
           "subunitcolor": "#506784"
          },
          "hoverlabel": {
           "align": "left"
          },
          "hovermode": "closest",
          "mapbox": {
           "style": "dark"
          },
          "paper_bgcolor": "rgb(17,17,17)",
          "plot_bgcolor": "rgb(17,17,17)",
          "polar": {
           "angularaxis": {
            "gridcolor": "#506784",
            "linecolor": "#506784",
            "ticks": ""
           },
           "bgcolor": "rgb(17,17,17)",
           "radialaxis": {
            "gridcolor": "#506784",
            "linecolor": "#506784",
            "ticks": ""
           }
          },
          "scene": {
           "xaxis": {
            "backgroundcolor": "rgb(17,17,17)",
            "gridcolor": "#506784",
            "gridwidth": 2,
            "linecolor": "#506784",
            "showbackground": true,
            "ticks": "",
            "zerolinecolor": "#C8D4E3"
           },
           "yaxis": {
            "backgroundcolor": "rgb(17,17,17)",
            "gridcolor": "#506784",
            "gridwidth": 2,
            "linecolor": "#506784",
            "showbackground": true,
            "ticks": "",
            "zerolinecolor": "#C8D4E3"
           },
           "zaxis": {
            "backgroundcolor": "rgb(17,17,17)",
            "gridcolor": "#506784",
            "gridwidth": 2,
            "linecolor": "#506784",
            "showbackground": true,
            "ticks": "",
            "zerolinecolor": "#C8D4E3"
           }
          },
          "shapedefaults": {
           "line": {
            "color": "#f2f5fa"
           }
          },
          "sliderdefaults": {
           "bgcolor": "#C8D4E3",
           "bordercolor": "rgb(17,17,17)",
           "borderwidth": 1,
           "tickwidth": 0
          },
          "ternary": {
           "aaxis": {
            "gridcolor": "#506784",
            "linecolor": "#506784",
            "ticks": ""
           },
           "baxis": {
            "gridcolor": "#506784",
            "linecolor": "#506784",
            "ticks": ""
           },
           "bgcolor": "rgb(17,17,17)",
           "caxis": {
            "gridcolor": "#506784",
            "linecolor": "#506784",
            "ticks": ""
           }
          },
          "title": {
           "x": 0.05
          },
          "updatemenudefaults": {
           "bgcolor": "#506784",
           "borderwidth": 0
          },
          "xaxis": {
           "automargin": true,
           "gridcolor": "#283442",
           "linecolor": "#506784",
           "ticks": "",
           "title": {
            "standoff": 15
           },
           "zerolinecolor": "#283442",
           "zerolinewidth": 2
          },
          "yaxis": {
           "automargin": true,
           "gridcolor": "#283442",
           "linecolor": "#506784",
           "ticks": "",
           "title": {
            "standoff": 15
           },
           "zerolinecolor": "#283442",
           "zerolinewidth": 2
          }
         }
        },
        "ternary": {
         "aaxis": {
          "title": {
           "text": "Percentage of Sad Words"
          }
         },
         "baxis": {
          "title": {
           "text": "Lyrical Density"
          }
         },
         "caxis": {
          "title": {
           "text": "Valence"
          }
         },
         "domain": {
          "x": [
           0,
           1
          ],
          "y": [
           0,
           1
          ]
         }
        },
        "title": {
         "text": "<b>Radiohead Songs - A Triangulation of Sadness</b>"
        },
        "width": 1000
       }
      }
     },
     "metadata": {},
     "output_type": "display_data"
    }
   ],
   "source": [
    "#Plot Ternary Plot\n",
    "fig = px.scatter_ternary(df_radiohead, a = 'Pct_Sad_Words', b = 'Lyrical_Density', c = 'Valence', color = 'Album', \n",
    "            labels={'Album':'Album Name', 'Pct_Sad_Words':'Percentage of Sad Words', 'valence':'Valence', 'Lyrical_Density':'Lyrical Density'},\n",
    "            title= '<b>Radiohead Songs - A Triangulation of Sadness</b>',\n",
    "            template='plotly_dark', hover_name= 'Track', height=600, width=1000)\n",
    "\n",
    "\n",
    "\n",
    "#Add Little Annotation\n",
    "fig.add_annotation(x=0.415, y=0.61,\n",
    "            text=\"'True Love Waits' - their saddest song?\",\n",
    "            showarrow=True,\n",
    "            arrowhead=1,\n",
    "            bordercolor='White',\n",
    "            font_color = 'Black',\n",
    "            bgcolor='white')\n",
    "\n",
    "\n",
    "fig.show()"
   ]
  },
  {
   "cell_type": "markdown",
   "id": "e5e47e53",
   "metadata": {},
   "source": [
    "Looking at this plot we can see:\n",
    "\n",
    "* There are quite a few happy songs in the lower right corner. They have high musical postivity and contain little to no sad words.\n",
    "\n",
    "* The bulk of Radiohead's songs can be found in a zone, where less than 20% of the lyrics are sad, with varying degrees of general lyrical density and musical valence. Their carried sadness can depend on the eye of the beholder. \n",
    "\n",
    "* (Remember: *Taking this 20% threshold here, is kind of special. We are basically saying here, that a song is not sad if less than every fifth word sung has a negative sentiment. For more upbeat artists this infliction point might be much lower, triggering the sad label much earlier.*)\n",
    "\n",
    "* All songs floating towards the upper left can be considered Radiohead's sad tracks. Their musical tone is rather depressing or angry. Same goes for the lyrics that contain more and more bitter, melancholy or sorrowful bits. \n",
    "\n",
    "* Checking this graph we have clear contenders for happiest ('Hunting Bears', 'Feral') and saddest songs ('True Love Waits', 'Give Up The Ghost', 'Motion Picture Soundtrack').\n"
   ]
  },
  {
   "cell_type": "markdown",
   "id": "4743e84d",
   "metadata": {},
   "source": [
    "### The Gloom Index\n",
    "\n",
    "Data scientist Charlie Thompson came up with an interesting way to translate this graphical apporach into a number. He came up with the gloom index incorporating musical and lyrical tone while also taking lyrical density into account.\n",
    "\n",
    "As a formula he used this:\n",
    "\n",
    "Gloom Index = (1 - ((1 - Valence) + (Percentage of sad words * (1 + Lyrical Density))))/2\n",
    "\n",
    "He later then rescaled the metric to fit within 1 and 100. This spin makes comparing the entire Radiohead catalogue even easier. The saddest song has a score of 1 and the least sad track a rating of 100. Every other song places itself in between these two extremes.\n",
    "\n",
    "A quick look at the general distribution of the entirety of tracks helps us to see, if this metric does a good job in evaluating our sample:"
   ]
  },
  {
   "cell_type": "code",
   "execution_count": 145,
   "id": "9a5666e0",
   "metadata": {},
   "outputs": [
    {
     "data": {
      "text/html": [
       "<div>\n",
       "<style scoped>\n",
       "    .dataframe tbody tr th:only-of-type {\n",
       "        vertical-align: middle;\n",
       "    }\n",
       "\n",
       "    .dataframe tbody tr th {\n",
       "        vertical-align: top;\n",
       "    }\n",
       "\n",
       "    .dataframe thead th {\n",
       "        text-align: right;\n",
       "    }\n",
       "</style>\n",
       "<table border=\"1\" class=\"dataframe\">\n",
       "  <thead>\n",
       "    <tr style=\"text-align: right;\">\n",
       "      <th></th>\n",
       "      <th>Artist</th>\n",
       "      <th>Album</th>\n",
       "      <th>Track</th>\n",
       "      <th>TrackNumber_On_Album</th>\n",
       "      <th>Duration_ms</th>\n",
       "      <th>ReleaseYear</th>\n",
       "      <th>Valence</th>\n",
       "      <th>Energy</th>\n",
       "      <th>Danceability</th>\n",
       "      <th>Acousticness</th>\n",
       "      <th>...</th>\n",
       "      <th>Key</th>\n",
       "      <th>Mode</th>\n",
       "      <th>TimeSignature</th>\n",
       "      <th>Lyrics</th>\n",
       "      <th>Total_Words</th>\n",
       "      <th>Sad_Words</th>\n",
       "      <th>Pct_Sad_Words</th>\n",
       "      <th>Lyrical_Density</th>\n",
       "      <th>Duration_mins</th>\n",
       "      <th>Gloom_Index</th>\n",
       "    </tr>\n",
       "  </thead>\n",
       "  <tbody>\n",
       "    <tr>\n",
       "      <th>88</th>\n",
       "      <td>Radiohead</td>\n",
       "      <td>The King Of Limbs</td>\n",
       "      <td>Give Up The Ghost</td>\n",
       "      <td>7</td>\n",
       "      <td>290067</td>\n",
       "      <td>2011</td>\n",
       "      <td>0.1570</td>\n",
       "      <td>0.262</td>\n",
       "      <td>0.305</td>\n",
       "      <td>0.88600</td>\n",
       "      <td>...</td>\n",
       "      <td>7</td>\n",
       "      <td>1</td>\n",
       "      <td>4</td>\n",
       "      <td>dont hurt me dont hurt me dont hurt me dont hu...</td>\n",
       "      <td>114.0</td>\n",
       "      <td>40.0</td>\n",
       "      <td>0.350877</td>\n",
       "      <td>0.393013</td>\n",
       "      <td>4.834450</td>\n",
       "      <td>1.00</td>\n",
       "    </tr>\n",
       "    <tr>\n",
       "      <th>100</th>\n",
       "      <td>Radiohead</td>\n",
       "      <td>A Moon Shaped Pool</td>\n",
       "      <td>True Love Waits</td>\n",
       "      <td>11</td>\n",
       "      <td>283463</td>\n",
       "      <td>2016</td>\n",
       "      <td>0.0381</td>\n",
       "      <td>0.132</td>\n",
       "      <td>0.401</td>\n",
       "      <td>0.93800</td>\n",
       "      <td>...</td>\n",
       "      <td>0</td>\n",
       "      <td>1</td>\n",
       "      <td>4</td>\n",
       "      <td>ill drown my beliefs to have your babies ill d...</td>\n",
       "      <td>43.0</td>\n",
       "      <td>12.0</td>\n",
       "      <td>0.279070</td>\n",
       "      <td>0.151695</td>\n",
       "      <td>4.724383</td>\n",
       "      <td>5.08</td>\n",
       "    </tr>\n",
       "    <tr>\n",
       "      <th>45</th>\n",
       "      <td>Radiohead</td>\n",
       "      <td>Kid A</td>\n",
       "      <td>Motion Picture Soundtrack</td>\n",
       "      <td>10</td>\n",
       "      <td>200482</td>\n",
       "      <td>2000</td>\n",
       "      <td>0.0427</td>\n",
       "      <td>0.130</td>\n",
       "      <td>0.112</td>\n",
       "      <td>0.92100</td>\n",
       "      <td>...</td>\n",
       "      <td>7</td>\n",
       "      <td>1</td>\n",
       "      <td>4</td>\n",
       "      <td>red wine and sleeping pills help me get back t...</td>\n",
       "      <td>48.0</td>\n",
       "      <td>4.0</td>\n",
       "      <td>0.083333</td>\n",
       "      <td>0.239423</td>\n",
       "      <td>3.341367</td>\n",
       "      <td>23.83</td>\n",
       "    </tr>\n",
       "    <tr>\n",
       "      <th>54</th>\n",
       "      <td>Radiohead</td>\n",
       "      <td>Amnesiac</td>\n",
       "      <td>Dollars and Cents</td>\n",
       "      <td>8</td>\n",
       "      <td>291733</td>\n",
       "      <td>2001</td>\n",
       "      <td>0.0883</td>\n",
       "      <td>0.565</td>\n",
       "      <td>0.327</td>\n",
       "      <td>0.39500</td>\n",
       "      <td>...</td>\n",
       "      <td>7</td>\n",
       "      <td>1</td>\n",
       "      <td>4</td>\n",
       "      <td>there are better things to talk about be const...</td>\n",
       "      <td>120.0</td>\n",
       "      <td>12.0</td>\n",
       "      <td>0.100000</td>\n",
       "      <td>0.411335</td>\n",
       "      <td>4.862217</td>\n",
       "      <td>24.49</td>\n",
       "    </tr>\n",
       "    <tr>\n",
       "      <th>64</th>\n",
       "      <td>Radiohead</td>\n",
       "      <td>Hail To the Thief</td>\n",
       "      <td>We Suck Young Blood</td>\n",
       "      <td>7</td>\n",
       "      <td>296706</td>\n",
       "      <td>2003</td>\n",
       "      <td>0.0378</td>\n",
       "      <td>0.239</td>\n",
       "      <td>0.164</td>\n",
       "      <td>0.87800</td>\n",
       "      <td>...</td>\n",
       "      <td>3</td>\n",
       "      <td>0</td>\n",
       "      <td>4</td>\n",
       "      <td>are you hungry are you sick are you begging fo...</td>\n",
       "      <td>43.0</td>\n",
       "      <td>3.0</td>\n",
       "      <td>0.069767</td>\n",
       "      <td>0.144925</td>\n",
       "      <td>4.945100</td>\n",
       "      <td>25.39</td>\n",
       "    </tr>\n",
       "    <tr>\n",
       "      <th>...</th>\n",
       "      <td>...</td>\n",
       "      <td>...</td>\n",
       "      <td>...</td>\n",
       "      <td>...</td>\n",
       "      <td>...</td>\n",
       "      <td>...</td>\n",
       "      <td>...</td>\n",
       "      <td>...</td>\n",
       "      <td>...</td>\n",
       "      <td>...</td>\n",
       "      <td>...</td>\n",
       "      <td>...</td>\n",
       "      <td>...</td>\n",
       "      <td>...</td>\n",
       "      <td>...</td>\n",
       "      <td>...</td>\n",
       "      <td>...</td>\n",
       "      <td>...</td>\n",
       "      <td>...</td>\n",
       "      <td>...</td>\n",
       "      <td>...</td>\n",
       "    </tr>\n",
       "    <tr>\n",
       "      <th>62</th>\n",
       "      <td>Radiohead</td>\n",
       "      <td>Hail To the Thief</td>\n",
       "      <td>Go To Sleep</td>\n",
       "      <td>5</td>\n",
       "      <td>201506</td>\n",
       "      <td>2003</td>\n",
       "      <td>0.6600</td>\n",
       "      <td>0.860</td>\n",
       "      <td>0.288</td>\n",
       "      <td>0.10300</td>\n",
       "      <td>...</td>\n",
       "      <td>2</td>\n",
       "      <td>0</td>\n",
       "      <td>4</td>\n",
       "      <td>something for the rag and bone man over my dea...</td>\n",
       "      <td>57.0</td>\n",
       "      <td>0.0</td>\n",
       "      <td>0.000000</td>\n",
       "      <td>0.282870</td>\n",
       "      <td>3.358433</td>\n",
       "      <td>84.51</td>\n",
       "    </tr>\n",
       "    <tr>\n",
       "      <th>80</th>\n",
       "      <td>Radiohead</td>\n",
       "      <td>In Rainbows</td>\n",
       "      <td>Jigsaw Falling Into Place</td>\n",
       "      <td>9</td>\n",
       "      <td>248893</td>\n",
       "      <td>2007</td>\n",
       "      <td>0.8070</td>\n",
       "      <td>0.832</td>\n",
       "      <td>0.462</td>\n",
       "      <td>0.10800</td>\n",
       "      <td>...</td>\n",
       "      <td>11</td>\n",
       "      <td>0</td>\n",
       "      <td>4</td>\n",
       "      <td>just as you take my hand just as you write my ...</td>\n",
       "      <td>111.0</td>\n",
       "      <td>7.0</td>\n",
       "      <td>0.063063</td>\n",
       "      <td>0.445975</td>\n",
       "      <td>4.148217</td>\n",
       "      <td>89.21</td>\n",
       "    </tr>\n",
       "    <tr>\n",
       "      <th>73</th>\n",
       "      <td>Radiohead</td>\n",
       "      <td>In Rainbows</td>\n",
       "      <td>Bodysnatchers</td>\n",
       "      <td>2</td>\n",
       "      <td>242293</td>\n",
       "      <td>2007</td>\n",
       "      <td>0.7330</td>\n",
       "      <td>0.976</td>\n",
       "      <td>0.342</td>\n",
       "      <td>0.00443</td>\n",
       "      <td>...</td>\n",
       "      <td>2</td>\n",
       "      <td>1</td>\n",
       "      <td>4</td>\n",
       "      <td>i do not understand what it is ive done wrong ...</td>\n",
       "      <td>81.0</td>\n",
       "      <td>1.0</td>\n",
       "      <td>0.012346</td>\n",
       "      <td>0.334306</td>\n",
       "      <td>4.038217</td>\n",
       "      <td>89.27</td>\n",
       "    </tr>\n",
       "    <tr>\n",
       "      <th>85</th>\n",
       "      <td>Radiohead</td>\n",
       "      <td>The King Of Limbs</td>\n",
       "      <td>Feral</td>\n",
       "      <td>4</td>\n",
       "      <td>192742</td>\n",
       "      <td>2011</td>\n",
       "      <td>0.7290</td>\n",
       "      <td>0.777</td>\n",
       "      <td>0.490</td>\n",
       "      <td>0.00101</td>\n",
       "      <td>...</td>\n",
       "      <td>7</td>\n",
       "      <td>1</td>\n",
       "      <td>4</td>\n",
       "      <td>youre not youre not mine im not yours its all ...</td>\n",
       "      <td>12.0</td>\n",
       "      <td>0.0</td>\n",
       "      <td>0.000000</td>\n",
       "      <td>0.062259</td>\n",
       "      <td>3.212367</td>\n",
       "      <td>90.32</td>\n",
       "    </tr>\n",
       "    <tr>\n",
       "      <th>72</th>\n",
       "      <td>Radiohead</td>\n",
       "      <td>In Rainbows</td>\n",
       "      <td>15 Step</td>\n",
       "      <td>1</td>\n",
       "      <td>237293</td>\n",
       "      <td>2007</td>\n",
       "      <td>0.8440</td>\n",
       "      <td>0.854</td>\n",
       "      <td>0.598</td>\n",
       "      <td>0.04770</td>\n",
       "      <td>...</td>\n",
       "      <td>1</td>\n",
       "      <td>1</td>\n",
       "      <td>4</td>\n",
       "      <td>how come i end up where i started how come i e...</td>\n",
       "      <td>73.0</td>\n",
       "      <td>0.0</td>\n",
       "      <td>0.000000</td>\n",
       "      <td>0.307637</td>\n",
       "      <td>3.954883</td>\n",
       "      <td>100.00</td>\n",
       "    </tr>\n",
       "  </tbody>\n",
       "</table>\n",
       "<p>101 rows × 24 columns</p>\n",
       "</div>"
      ],
      "text/plain": [
       "        Artist               Album                      Track   \n",
       "88   Radiohead   The King Of Limbs          Give Up The Ghost  \\\n",
       "100  Radiohead  A Moon Shaped Pool            True Love Waits   \n",
       "45   Radiohead               Kid A  Motion Picture Soundtrack   \n",
       "54   Radiohead            Amnesiac          Dollars and Cents   \n",
       "64   Radiohead   Hail To the Thief        We Suck Young Blood   \n",
       "..         ...                 ...                        ...   \n",
       "62   Radiohead   Hail To the Thief                Go To Sleep   \n",
       "80   Radiohead         In Rainbows  Jigsaw Falling Into Place   \n",
       "73   Radiohead         In Rainbows              Bodysnatchers   \n",
       "85   Radiohead   The King Of Limbs                      Feral   \n",
       "72   Radiohead         In Rainbows                    15 Step   \n",
       "\n",
       "     TrackNumber_On_Album  Duration_ms  ReleaseYear  Valence  Energy   \n",
       "88                      7       290067         2011   0.1570   0.262  \\\n",
       "100                    11       283463         2016   0.0381   0.132   \n",
       "45                     10       200482         2000   0.0427   0.130   \n",
       "54                      8       291733         2001   0.0883   0.565   \n",
       "64                      7       296706         2003   0.0378   0.239   \n",
       "..                    ...          ...          ...      ...     ...   \n",
       "62                      5       201506         2003   0.6600   0.860   \n",
       "80                      9       248893         2007   0.8070   0.832   \n",
       "73                      2       242293         2007   0.7330   0.976   \n",
       "85                      4       192742         2011   0.7290   0.777   \n",
       "72                      1       237293         2007   0.8440   0.854   \n",
       "\n",
       "     Danceability  Acousticness  ...  Key  Mode  TimeSignature   \n",
       "88          0.305       0.88600  ...    7     1              4  \\\n",
       "100         0.401       0.93800  ...    0     1              4   \n",
       "45          0.112       0.92100  ...    7     1              4   \n",
       "54          0.327       0.39500  ...    7     1              4   \n",
       "64          0.164       0.87800  ...    3     0              4   \n",
       "..            ...           ...  ...  ...   ...            ...   \n",
       "62          0.288       0.10300  ...    2     0              4   \n",
       "80          0.462       0.10800  ...   11     0              4   \n",
       "73          0.342       0.00443  ...    2     1              4   \n",
       "85          0.490       0.00101  ...    7     1              4   \n",
       "72          0.598       0.04770  ...    1     1              4   \n",
       "\n",
       "                                                Lyrics  Total_Words   \n",
       "88   dont hurt me dont hurt me dont hurt me dont hu...        114.0  \\\n",
       "100  ill drown my beliefs to have your babies ill d...         43.0   \n",
       "45   red wine and sleeping pills help me get back t...         48.0   \n",
       "54   there are better things to talk about be const...        120.0   \n",
       "64   are you hungry are you sick are you begging fo...         43.0   \n",
       "..                                                 ...          ...   \n",
       "62   something for the rag and bone man over my dea...         57.0   \n",
       "80   just as you take my hand just as you write my ...        111.0   \n",
       "73   i do not understand what it is ive done wrong ...         81.0   \n",
       "85   youre not youre not mine im not yours its all ...         12.0   \n",
       "72   how come i end up where i started how come i e...         73.0   \n",
       "\n",
       "     Sad_Words  Pct_Sad_Words Lyrical_Density  Duration_mins  Gloom_Index  \n",
       "88        40.0       0.350877        0.393013       4.834450         1.00  \n",
       "100       12.0       0.279070        0.151695       4.724383         5.08  \n",
       "45         4.0       0.083333        0.239423       3.341367        23.83  \n",
       "54        12.0       0.100000        0.411335       4.862217        24.49  \n",
       "64         3.0       0.069767        0.144925       4.945100        25.39  \n",
       "..         ...            ...             ...            ...          ...  \n",
       "62         0.0       0.000000        0.282870       3.358433        84.51  \n",
       "80         7.0       0.063063        0.445975       4.148217        89.21  \n",
       "73         1.0       0.012346        0.334306       4.038217        89.27  \n",
       "85         0.0       0.000000        0.062259       3.212367        90.32  \n",
       "72         0.0       0.000000        0.307637       3.954883       100.00  \n",
       "\n",
       "[101 rows x 24 columns]"
      ]
     },
     "execution_count": 145,
     "metadata": {},
     "output_type": "execute_result"
    }
   ],
   "source": [
    "# Rescaling Function\n",
    "def rescale_metric(original_value, min_value, max_value, new_min=1, new_max=100):\n",
    "    scaled_value = ((original_value - min_value) / (max_value - min_value)) * (new_max - new_min) + new_min\n",
    "    return scaled_value\n",
    "\n",
    "# Creating Gloom Index With Rescaling\n",
    "df_radiohead['Gloom_Index'] = (1 - ((1 - df_radiohead['Valence']) + (df_radiohead['Pct_Sad_Words'] * (1 + df_radiohead['Lyrical_Density'])))) / 2\n",
    "df_radiohead['Gloom_Index'] = df_radiohead['Gloom_Index'].apply(lambda x: round(rescale_metric(x, df_radiohead['Gloom_Index'].min(), df_radiohead['Gloom_Index'].max()), 2))\n",
    "df_radiohead_gloom_index = df_radiohead.sort_values('Gloom_Index')\n",
    "df_radiohead_gloom_index\n"
   ]
  },
  {
   "cell_type": "code",
   "execution_count": 146,
   "id": "9ad08915",
   "metadata": {},
   "outputs": [
    {
     "data": {
      "application/vnd.plotly.v1+json": {
       "config": {
        "plotlyServerURL": "https://plot.ly"
       },
       "data": [
        {
         "alignmentgroup": "True",
         "box": {
          "visible": true
         },
         "hovertemplate": "<b>%{hovertext}</b><br><br>Gloom Index=%{y}<extra></extra>",
         "hovertext": [
          "Give Up The Ghost",
          "True Love Waits",
          "Motion Picture Soundtrack",
          "Dollars and Cents",
          "We Suck Young Blood",
          "Tinker Tailor Soldier Sailor Rich Man Poor Man Beggar Man Thief",
          "Let Down",
          "Exit Music (For A Film)",
          "Pyramid Song",
          "Life In a Glasshouse",
          "Videotape",
          "Bullet Proof ... I Wish I Was",
          "The Tourist",
          "The Numbers",
          "Creep",
          "Codex",
          "The Gloaming",
          "Sail To The Moon",
          "No Surprises",
          "Treefingers",
          "Weird Fishes/ Arpeggi",
          "Everything In Its Right Place",
          "Glass Eyes",
          "Daydreaming",
          "Hunting Bears",
          "Untitled",
          "Fake Plastic Trees",
          "Street Spirit (Fade Out)",
          "All I Need",
          "You And Whose Army?",
          "Nude",
          "High and Dry",
          "Planet Telex",
          "Climbing Up the Walls",
          "I Will",
          "Karma Police",
          "Kid A",
          "Pulk/Pull Revolving Doors",
          "Lucky",
          "Desert Island Disk",
          "Black Star",
          "How to Disappear Completely",
          "How Do You?",
          "Ful Stop",
          "Identikit",
          "Morning Bell/Amnesiac",
          "Present Tense",
          "Knives Out",
          "Blow Out",
          "Faust Arp",
          "Scatterbrain",
          "Paranoid Android",
          "Ripcord",
          "I Can't",
          "Reckoner",
          "Like Spinning Plates",
          "Decks Dark",
          "Just",
          "The Bends",
          "Prove Yourself",
          "Stop Whispering",
          "Electioneering",
          "2 + 2 = 5",
          "You",
          "A Wolf At the Door",
          "Bloom",
          "Subterranean Homesick Alien",
          "Packt Like Sardines In a Crushd Tin Box",
          "Bones",
          "(Nice Dream)",
          "Morning Bell",
          "Vegetable",
          "The National Anthem",
          "Morning Mr Magpie",
          "Lurgee",
          "Thinking About You",
          "Anyone Can Play Guitar",
          "A Punch Up at a Wedding",
          "Where I End and You Begin",
          "Lotus Flower",
          "In Limbo",
          "Little By Little",
          "House Of Cards",
          "Sit Down. Stand Up",
          "Idioteque",
          "I Might Be Wrong",
          "Backdrifts",
          "Burn the Witch",
          "Myxomatosis",
          "Optimistic",
          "Separator",
          "There, There",
          "Fitter Happier",
          "My Iron Lung",
          "Airbag",
          "Sulk",
          "Go To Sleep",
          "Jigsaw Falling Into Place",
          "Bodysnatchers",
          "Feral",
          "15 Step"
         ],
         "legendgroup": "",
         "marker": {
          "color": "#636efa"
         },
         "name": "",
         "offsetgroup": "",
         "orientation": "v",
         "points": "all",
         "scalegroup": "True",
         "showlegend": false,
         "type": "violin",
         "x0": " ",
         "xaxis": "x",
         "y": [
          1,
          5.08,
          23.83,
          24.49,
          25.39,
          25.9,
          26.97,
          27.17,
          27.78,
          28.9,
          29.23,
          30.11,
          30.31,
          30.78,
          30.98,
          31.25,
          32.35,
          33.45,
          33.56,
          33.79,
          33.85,
          34.23,
          34.26,
          34.99,
          35.13,
          35.41,
          35.88,
          37.14,
          37.33,
          37.73,
          37.79,
          37.95,
          37.96,
          38.95,
          39.82,
          40.05,
          40.2,
          40.81,
          41.4,
          42.24,
          42.82,
          42.91,
          43.27,
          43.92,
          44.11,
          44.26,
          44.34,
          44.43,
          45.58,
          46.29,
          46.35,
          46.36,
          46.36,
          46.93,
          46.95,
          47.29,
          48.25,
          48.59,
          49.05,
          50.17,
          51.46,
          52.32,
          53.31,
          54.03,
          54.28,
          54.9,
          54.91,
          56.05,
          60.47,
          60.51,
          60.61,
          61.03,
          61.6,
          62.78,
          63.37,
          64.3,
          65.1,
          66.42,
          67.06,
          67.98,
          68.12,
          68.87,
          70.03,
          70.05,
          70.68,
          71.46,
          72.62,
          73.01,
          74.59,
          75.03,
          77.15,
          79.44,
          80,
          80.17,
          83.5,
          84,
          84.51,
          89.21,
          89.27,
          90.32,
          100
         ],
         "y0": " ",
         "yaxis": "y"
        }
       ],
       "layout": {
        "height": 500,
        "legend": {
         "tracegroupgap": 0
        },
        "template": {
         "data": {
          "bar": [
           {
            "error_x": {
             "color": "#f2f5fa"
            },
            "error_y": {
             "color": "#f2f5fa"
            },
            "marker": {
             "line": {
              "color": "rgb(17,17,17)",
              "width": 0.5
             },
             "pattern": {
              "fillmode": "overlay",
              "size": 10,
              "solidity": 0.2
             }
            },
            "type": "bar"
           }
          ],
          "barpolar": [
           {
            "marker": {
             "line": {
              "color": "rgb(17,17,17)",
              "width": 0.5
             },
             "pattern": {
              "fillmode": "overlay",
              "size": 10,
              "solidity": 0.2
             }
            },
            "type": "barpolar"
           }
          ],
          "carpet": [
           {
            "aaxis": {
             "endlinecolor": "#A2B1C6",
             "gridcolor": "#506784",
             "linecolor": "#506784",
             "minorgridcolor": "#506784",
             "startlinecolor": "#A2B1C6"
            },
            "baxis": {
             "endlinecolor": "#A2B1C6",
             "gridcolor": "#506784",
             "linecolor": "#506784",
             "minorgridcolor": "#506784",
             "startlinecolor": "#A2B1C6"
            },
            "type": "carpet"
           }
          ],
          "choropleth": [
           {
            "colorbar": {
             "outlinewidth": 0,
             "ticks": ""
            },
            "type": "choropleth"
           }
          ],
          "contour": [
           {
            "colorbar": {
             "outlinewidth": 0,
             "ticks": ""
            },
            "colorscale": [
             [
              0,
              "#0d0887"
             ],
             [
              0.1111111111111111,
              "#46039f"
             ],
             [
              0.2222222222222222,
              "#7201a8"
             ],
             [
              0.3333333333333333,
              "#9c179e"
             ],
             [
              0.4444444444444444,
              "#bd3786"
             ],
             [
              0.5555555555555556,
              "#d8576b"
             ],
             [
              0.6666666666666666,
              "#ed7953"
             ],
             [
              0.7777777777777778,
              "#fb9f3a"
             ],
             [
              0.8888888888888888,
              "#fdca26"
             ],
             [
              1,
              "#f0f921"
             ]
            ],
            "type": "contour"
           }
          ],
          "contourcarpet": [
           {
            "colorbar": {
             "outlinewidth": 0,
             "ticks": ""
            },
            "type": "contourcarpet"
           }
          ],
          "heatmap": [
           {
            "colorbar": {
             "outlinewidth": 0,
             "ticks": ""
            },
            "colorscale": [
             [
              0,
              "#0d0887"
             ],
             [
              0.1111111111111111,
              "#46039f"
             ],
             [
              0.2222222222222222,
              "#7201a8"
             ],
             [
              0.3333333333333333,
              "#9c179e"
             ],
             [
              0.4444444444444444,
              "#bd3786"
             ],
             [
              0.5555555555555556,
              "#d8576b"
             ],
             [
              0.6666666666666666,
              "#ed7953"
             ],
             [
              0.7777777777777778,
              "#fb9f3a"
             ],
             [
              0.8888888888888888,
              "#fdca26"
             ],
             [
              1,
              "#f0f921"
             ]
            ],
            "type": "heatmap"
           }
          ],
          "heatmapgl": [
           {
            "colorbar": {
             "outlinewidth": 0,
             "ticks": ""
            },
            "colorscale": [
             [
              0,
              "#0d0887"
             ],
             [
              0.1111111111111111,
              "#46039f"
             ],
             [
              0.2222222222222222,
              "#7201a8"
             ],
             [
              0.3333333333333333,
              "#9c179e"
             ],
             [
              0.4444444444444444,
              "#bd3786"
             ],
             [
              0.5555555555555556,
              "#d8576b"
             ],
             [
              0.6666666666666666,
              "#ed7953"
             ],
             [
              0.7777777777777778,
              "#fb9f3a"
             ],
             [
              0.8888888888888888,
              "#fdca26"
             ],
             [
              1,
              "#f0f921"
             ]
            ],
            "type": "heatmapgl"
           }
          ],
          "histogram": [
           {
            "marker": {
             "pattern": {
              "fillmode": "overlay",
              "size": 10,
              "solidity": 0.2
             }
            },
            "type": "histogram"
           }
          ],
          "histogram2d": [
           {
            "colorbar": {
             "outlinewidth": 0,
             "ticks": ""
            },
            "colorscale": [
             [
              0,
              "#0d0887"
             ],
             [
              0.1111111111111111,
              "#46039f"
             ],
             [
              0.2222222222222222,
              "#7201a8"
             ],
             [
              0.3333333333333333,
              "#9c179e"
             ],
             [
              0.4444444444444444,
              "#bd3786"
             ],
             [
              0.5555555555555556,
              "#d8576b"
             ],
             [
              0.6666666666666666,
              "#ed7953"
             ],
             [
              0.7777777777777778,
              "#fb9f3a"
             ],
             [
              0.8888888888888888,
              "#fdca26"
             ],
             [
              1,
              "#f0f921"
             ]
            ],
            "type": "histogram2d"
           }
          ],
          "histogram2dcontour": [
           {
            "colorbar": {
             "outlinewidth": 0,
             "ticks": ""
            },
            "colorscale": [
             [
              0,
              "#0d0887"
             ],
             [
              0.1111111111111111,
              "#46039f"
             ],
             [
              0.2222222222222222,
              "#7201a8"
             ],
             [
              0.3333333333333333,
              "#9c179e"
             ],
             [
              0.4444444444444444,
              "#bd3786"
             ],
             [
              0.5555555555555556,
              "#d8576b"
             ],
             [
              0.6666666666666666,
              "#ed7953"
             ],
             [
              0.7777777777777778,
              "#fb9f3a"
             ],
             [
              0.8888888888888888,
              "#fdca26"
             ],
             [
              1,
              "#f0f921"
             ]
            ],
            "type": "histogram2dcontour"
           }
          ],
          "mesh3d": [
           {
            "colorbar": {
             "outlinewidth": 0,
             "ticks": ""
            },
            "type": "mesh3d"
           }
          ],
          "parcoords": [
           {
            "line": {
             "colorbar": {
              "outlinewidth": 0,
              "ticks": ""
             }
            },
            "type": "parcoords"
           }
          ],
          "pie": [
           {
            "automargin": true,
            "type": "pie"
           }
          ],
          "scatter": [
           {
            "marker": {
             "line": {
              "color": "#283442"
             }
            },
            "type": "scatter"
           }
          ],
          "scatter3d": [
           {
            "line": {
             "colorbar": {
              "outlinewidth": 0,
              "ticks": ""
             }
            },
            "marker": {
             "colorbar": {
              "outlinewidth": 0,
              "ticks": ""
             }
            },
            "type": "scatter3d"
           }
          ],
          "scattercarpet": [
           {
            "marker": {
             "colorbar": {
              "outlinewidth": 0,
              "ticks": ""
             }
            },
            "type": "scattercarpet"
           }
          ],
          "scattergeo": [
           {
            "marker": {
             "colorbar": {
              "outlinewidth": 0,
              "ticks": ""
             }
            },
            "type": "scattergeo"
           }
          ],
          "scattergl": [
           {
            "marker": {
             "line": {
              "color": "#283442"
             }
            },
            "type": "scattergl"
           }
          ],
          "scattermapbox": [
           {
            "marker": {
             "colorbar": {
              "outlinewidth": 0,
              "ticks": ""
             }
            },
            "type": "scattermapbox"
           }
          ],
          "scatterpolar": [
           {
            "marker": {
             "colorbar": {
              "outlinewidth": 0,
              "ticks": ""
             }
            },
            "type": "scatterpolar"
           }
          ],
          "scatterpolargl": [
           {
            "marker": {
             "colorbar": {
              "outlinewidth": 0,
              "ticks": ""
             }
            },
            "type": "scatterpolargl"
           }
          ],
          "scatterternary": [
           {
            "marker": {
             "colorbar": {
              "outlinewidth": 0,
              "ticks": ""
             }
            },
            "type": "scatterternary"
           }
          ],
          "surface": [
           {
            "colorbar": {
             "outlinewidth": 0,
             "ticks": ""
            },
            "colorscale": [
             [
              0,
              "#0d0887"
             ],
             [
              0.1111111111111111,
              "#46039f"
             ],
             [
              0.2222222222222222,
              "#7201a8"
             ],
             [
              0.3333333333333333,
              "#9c179e"
             ],
             [
              0.4444444444444444,
              "#bd3786"
             ],
             [
              0.5555555555555556,
              "#d8576b"
             ],
             [
              0.6666666666666666,
              "#ed7953"
             ],
             [
              0.7777777777777778,
              "#fb9f3a"
             ],
             [
              0.8888888888888888,
              "#fdca26"
             ],
             [
              1,
              "#f0f921"
             ]
            ],
            "type": "surface"
           }
          ],
          "table": [
           {
            "cells": {
             "fill": {
              "color": "#506784"
             },
             "line": {
              "color": "rgb(17,17,17)"
             }
            },
            "header": {
             "fill": {
              "color": "#2a3f5f"
             },
             "line": {
              "color": "rgb(17,17,17)"
             }
            },
            "type": "table"
           }
          ]
         },
         "layout": {
          "annotationdefaults": {
           "arrowcolor": "#f2f5fa",
           "arrowhead": 0,
           "arrowwidth": 1
          },
          "autotypenumbers": "strict",
          "coloraxis": {
           "colorbar": {
            "outlinewidth": 0,
            "ticks": ""
           }
          },
          "colorscale": {
           "diverging": [
            [
             0,
             "#8e0152"
            ],
            [
             0.1,
             "#c51b7d"
            ],
            [
             0.2,
             "#de77ae"
            ],
            [
             0.3,
             "#f1b6da"
            ],
            [
             0.4,
             "#fde0ef"
            ],
            [
             0.5,
             "#f7f7f7"
            ],
            [
             0.6,
             "#e6f5d0"
            ],
            [
             0.7,
             "#b8e186"
            ],
            [
             0.8,
             "#7fbc41"
            ],
            [
             0.9,
             "#4d9221"
            ],
            [
             1,
             "#276419"
            ]
           ],
           "sequential": [
            [
             0,
             "#0d0887"
            ],
            [
             0.1111111111111111,
             "#46039f"
            ],
            [
             0.2222222222222222,
             "#7201a8"
            ],
            [
             0.3333333333333333,
             "#9c179e"
            ],
            [
             0.4444444444444444,
             "#bd3786"
            ],
            [
             0.5555555555555556,
             "#d8576b"
            ],
            [
             0.6666666666666666,
             "#ed7953"
            ],
            [
             0.7777777777777778,
             "#fb9f3a"
            ],
            [
             0.8888888888888888,
             "#fdca26"
            ],
            [
             1,
             "#f0f921"
            ]
           ],
           "sequentialminus": [
            [
             0,
             "#0d0887"
            ],
            [
             0.1111111111111111,
             "#46039f"
            ],
            [
             0.2222222222222222,
             "#7201a8"
            ],
            [
             0.3333333333333333,
             "#9c179e"
            ],
            [
             0.4444444444444444,
             "#bd3786"
            ],
            [
             0.5555555555555556,
             "#d8576b"
            ],
            [
             0.6666666666666666,
             "#ed7953"
            ],
            [
             0.7777777777777778,
             "#fb9f3a"
            ],
            [
             0.8888888888888888,
             "#fdca26"
            ],
            [
             1,
             "#f0f921"
            ]
           ]
          },
          "colorway": [
           "#636efa",
           "#EF553B",
           "#00cc96",
           "#ab63fa",
           "#FFA15A",
           "#19d3f3",
           "#FF6692",
           "#B6E880",
           "#FF97FF",
           "#FECB52"
          ],
          "font": {
           "color": "#f2f5fa"
          },
          "geo": {
           "bgcolor": "rgb(17,17,17)",
           "lakecolor": "rgb(17,17,17)",
           "landcolor": "rgb(17,17,17)",
           "showlakes": true,
           "showland": true,
           "subunitcolor": "#506784"
          },
          "hoverlabel": {
           "align": "left"
          },
          "hovermode": "closest",
          "mapbox": {
           "style": "dark"
          },
          "paper_bgcolor": "rgb(17,17,17)",
          "plot_bgcolor": "rgb(17,17,17)",
          "polar": {
           "angularaxis": {
            "gridcolor": "#506784",
            "linecolor": "#506784",
            "ticks": ""
           },
           "bgcolor": "rgb(17,17,17)",
           "radialaxis": {
            "gridcolor": "#506784",
            "linecolor": "#506784",
            "ticks": ""
           }
          },
          "scene": {
           "xaxis": {
            "backgroundcolor": "rgb(17,17,17)",
            "gridcolor": "#506784",
            "gridwidth": 2,
            "linecolor": "#506784",
            "showbackground": true,
            "ticks": "",
            "zerolinecolor": "#C8D4E3"
           },
           "yaxis": {
            "backgroundcolor": "rgb(17,17,17)",
            "gridcolor": "#506784",
            "gridwidth": 2,
            "linecolor": "#506784",
            "showbackground": true,
            "ticks": "",
            "zerolinecolor": "#C8D4E3"
           },
           "zaxis": {
            "backgroundcolor": "rgb(17,17,17)",
            "gridcolor": "#506784",
            "gridwidth": 2,
            "linecolor": "#506784",
            "showbackground": true,
            "ticks": "",
            "zerolinecolor": "#C8D4E3"
           }
          },
          "shapedefaults": {
           "line": {
            "color": "#f2f5fa"
           }
          },
          "sliderdefaults": {
           "bgcolor": "#C8D4E3",
           "bordercolor": "rgb(17,17,17)",
           "borderwidth": 1,
           "tickwidth": 0
          },
          "ternary": {
           "aaxis": {
            "gridcolor": "#506784",
            "linecolor": "#506784",
            "ticks": ""
           },
           "baxis": {
            "gridcolor": "#506784",
            "linecolor": "#506784",
            "ticks": ""
           },
           "bgcolor": "rgb(17,17,17)",
           "caxis": {
            "gridcolor": "#506784",
            "linecolor": "#506784",
            "ticks": ""
           }
          },
          "title": {
           "x": 0.05
          },
          "updatemenudefaults": {
           "bgcolor": "#506784",
           "borderwidth": 0
          },
          "xaxis": {
           "automargin": true,
           "gridcolor": "#283442",
           "linecolor": "#506784",
           "ticks": "",
           "title": {
            "standoff": 15
           },
           "zerolinecolor": "#283442",
           "zerolinewidth": 2
          },
          "yaxis": {
           "automargin": true,
           "gridcolor": "#283442",
           "linecolor": "#506784",
           "ticks": "",
           "title": {
            "standoff": 15
           },
           "zerolinecolor": "#283442",
           "zerolinewidth": 2
          }
         }
        },
        "title": {
         "text": "Distribution of the Gloom Index"
        },
        "violinmode": "group",
        "width": 1000,
        "xaxis": {
         "anchor": "y",
         "domain": [
          0,
          1
         ]
        },
        "yaxis": {
         "anchor": "x",
         "domain": [
          0,
          1
         ],
         "title": {
          "text": "Gloom Index"
         }
        }
       }
      }
     },
     "metadata": {},
     "output_type": "display_data"
    }
   ],
   "source": [
    "#Plot Gloom Index\n",
    "fig = px.violin(df_radiohead_gloom_index, y = 'Gloom_Index', hover_name= 'Track',\n",
    "            labels={'Gloom_Index': 'Gloom Index'}, box = True, points= 'all', title = 'Distribution of the Gloom Index', template='plotly_dark', height = 500, width = 1000)\n",
    "\n",
    "fig.show()"
   ]
  },
  {
   "cell_type": "markdown",
   "id": "68530d3a",
   "metadata": {},
   "source": [
    "We can see that even only compared among each other the distribution of the band's songs is not even. The majority of their repertoire is on the less cheerful side. Which checks out with the general feel of their music. For further reference it is important to remember that their median song scores a 46.35."
   ]
  },
  {
   "cell_type": "markdown",
   "id": "931b39cd",
   "metadata": {},
   "source": [
    "## So, what album is the gloomiest?"
   ]
  },
  {
   "cell_type": "markdown",
   "id": "85b26bb1",
   "metadata": {},
   "source": [
    "By averaging out the gloom scores by LP we can find the saddest album of the band:"
   ]
  },
  {
   "cell_type": "code",
   "execution_count": 147,
   "id": "4b00bd10",
   "metadata": {},
   "outputs": [
    {
     "data": {
      "text/html": [
       "<div>\n",
       "<style scoped>\n",
       "    .dataframe tbody tr th:only-of-type {\n",
       "        vertical-align: middle;\n",
       "    }\n",
       "\n",
       "    .dataframe tbody tr th {\n",
       "        vertical-align: top;\n",
       "    }\n",
       "\n",
       "    .dataframe thead th {\n",
       "        text-align: right;\n",
       "    }\n",
       "</style>\n",
       "<table border=\"1\" class=\"dataframe\">\n",
       "  <thead>\n",
       "    <tr style=\"text-align: right;\">\n",
       "      <th></th>\n",
       "      <th>Artist</th>\n",
       "      <th>Album</th>\n",
       "      <th>Track</th>\n",
       "      <th>TrackNumber_On_Album</th>\n",
       "      <th>Duration_ms</th>\n",
       "      <th>ReleaseYear</th>\n",
       "      <th>Valence</th>\n",
       "      <th>Energy</th>\n",
       "      <th>Danceability</th>\n",
       "      <th>Acousticness</th>\n",
       "      <th>...</th>\n",
       "      <th>Mode</th>\n",
       "      <th>TimeSignature</th>\n",
       "      <th>Lyrics</th>\n",
       "      <th>Total_Words</th>\n",
       "      <th>Sad_Words</th>\n",
       "      <th>Pct_Sad_Words</th>\n",
       "      <th>Lyrical_Density</th>\n",
       "      <th>Duration_mins</th>\n",
       "      <th>Gloom_Index</th>\n",
       "      <th>Gloom_Mean</th>\n",
       "    </tr>\n",
       "  </thead>\n",
       "  <tbody>\n",
       "    <tr>\n",
       "      <th>0</th>\n",
       "      <td>Radiohead</td>\n",
       "      <td>Pablo Honey</td>\n",
       "      <td>You</td>\n",
       "      <td>1</td>\n",
       "      <td>208666</td>\n",
       "      <td>1993</td>\n",
       "      <td>0.2980</td>\n",
       "      <td>0.707</td>\n",
       "      <td>0.222</td>\n",
       "      <td>0.000945</td>\n",
       "      <td>...</td>\n",
       "      <td>1</td>\n",
       "      <td>3</td>\n",
       "      <td>you are the sun and moon and stars are you and...</td>\n",
       "      <td>33.0</td>\n",
       "      <td>0.0</td>\n",
       "      <td>0.000000</td>\n",
       "      <td>0.158147</td>\n",
       "      <td>3.477767</td>\n",
       "      <td>54.03</td>\n",
       "      <td>51.881667</td>\n",
       "    </tr>\n",
       "    <tr>\n",
       "      <th>1</th>\n",
       "      <td>Radiohead</td>\n",
       "      <td>Pablo Honey</td>\n",
       "      <td>Creep</td>\n",
       "      <td>2</td>\n",
       "      <td>238640</td>\n",
       "      <td>1993</td>\n",
       "      <td>0.1040</td>\n",
       "      <td>0.430</td>\n",
       "      <td>0.515</td>\n",
       "      <td>0.009700</td>\n",
       "      <td>...</td>\n",
       "      <td>1</td>\n",
       "      <td>4</td>\n",
       "      <td>when you were here before couldnt look you in ...</td>\n",
       "      <td>85.0</td>\n",
       "      <td>5.0</td>\n",
       "      <td>0.058824</td>\n",
       "      <td>0.356185</td>\n",
       "      <td>3.977333</td>\n",
       "      <td>30.98</td>\n",
       "      <td>51.881667</td>\n",
       "    </tr>\n",
       "    <tr>\n",
       "      <th>2</th>\n",
       "      <td>Radiohead</td>\n",
       "      <td>Pablo Honey</td>\n",
       "      <td>How Do You?</td>\n",
       "      <td>3</td>\n",
       "      <td>132173</td>\n",
       "      <td>1993</td>\n",
       "      <td>0.2380</td>\n",
       "      <td>0.964</td>\n",
       "      <td>0.185</td>\n",
       "      <td>0.000659</td>\n",
       "      <td>...</td>\n",
       "      <td>1</td>\n",
       "      <td>4</td>\n",
       "      <td>hes bitter and twisted he knows what he wants ...</td>\n",
       "      <td>38.0</td>\n",
       "      <td>2.0</td>\n",
       "      <td>0.052632</td>\n",
       "      <td>0.287502</td>\n",
       "      <td>2.202883</td>\n",
       "      <td>43.27</td>\n",
       "      <td>51.881667</td>\n",
       "    </tr>\n",
       "    <tr>\n",
       "      <th>3</th>\n",
       "      <td>Radiohead</td>\n",
       "      <td>Pablo Honey</td>\n",
       "      <td>Stop Whispering</td>\n",
       "      <td>4</td>\n",
       "      <td>325626</td>\n",
       "      <td>1993</td>\n",
       "      <td>0.2980</td>\n",
       "      <td>0.696</td>\n",
       "      <td>0.212</td>\n",
       "      <td>0.000849</td>\n",
       "      <td>...</td>\n",
       "      <td>1</td>\n",
       "      <td>4</td>\n",
       "      <td>and the wise man said i dont want to hear your...</td>\n",
       "      <td>82.0</td>\n",
       "      <td>2.0</td>\n",
       "      <td>0.024390</td>\n",
       "      <td>0.251823</td>\n",
       "      <td>5.427100</td>\n",
       "      <td>51.46</td>\n",
       "      <td>51.881667</td>\n",
       "    </tr>\n",
       "    <tr>\n",
       "      <th>4</th>\n",
       "      <td>Radiohead</td>\n",
       "      <td>Pablo Honey</td>\n",
       "      <td>Thinking About You</td>\n",
       "      <td>5</td>\n",
       "      <td>161533</td>\n",
       "      <td>1993</td>\n",
       "      <td>0.4200</td>\n",
       "      <td>0.370</td>\n",
       "      <td>0.365</td>\n",
       "      <td>0.705000</td>\n",
       "      <td>...</td>\n",
       "      <td>1</td>\n",
       "      <td>4</td>\n",
       "      <td>been thinking about you your records are here ...</td>\n",
       "      <td>81.0</td>\n",
       "      <td>0.0</td>\n",
       "      <td>0.000000</td>\n",
       "      <td>0.501446</td>\n",
       "      <td>2.692217</td>\n",
       "      <td>64.30</td>\n",
       "      <td>51.881667</td>\n",
       "    </tr>\n",
       "    <tr>\n",
       "      <th>...</th>\n",
       "      <td>...</td>\n",
       "      <td>...</td>\n",
       "      <td>...</td>\n",
       "      <td>...</td>\n",
       "      <td>...</td>\n",
       "      <td>...</td>\n",
       "      <td>...</td>\n",
       "      <td>...</td>\n",
       "      <td>...</td>\n",
       "      <td>...</td>\n",
       "      <td>...</td>\n",
       "      <td>...</td>\n",
       "      <td>...</td>\n",
       "      <td>...</td>\n",
       "      <td>...</td>\n",
       "      <td>...</td>\n",
       "      <td>...</td>\n",
       "      <td>...</td>\n",
       "      <td>...</td>\n",
       "      <td>...</td>\n",
       "      <td>...</td>\n",
       "    </tr>\n",
       "    <tr>\n",
       "      <th>96</th>\n",
       "      <td>Radiohead</td>\n",
       "      <td>A Moon Shaped Pool</td>\n",
       "      <td>Identikit</td>\n",
       "      <td>7</td>\n",
       "      <td>266643</td>\n",
       "      <td>2016</td>\n",
       "      <td>0.3500</td>\n",
       "      <td>0.459</td>\n",
       "      <td>0.692</td>\n",
       "      <td>0.063200</td>\n",
       "      <td>...</td>\n",
       "      <td>0</td>\n",
       "      <td>4</td>\n",
       "      <td>a moon shaped pool dancing clothes wont let me...</td>\n",
       "      <td>176.0</td>\n",
       "      <td>18.0</td>\n",
       "      <td>0.102273</td>\n",
       "      <td>0.660059</td>\n",
       "      <td>4.444050</td>\n",
       "      <td>44.11</td>\n",
       "      <td>38.807273</td>\n",
       "    </tr>\n",
       "    <tr>\n",
       "      <th>97</th>\n",
       "      <td>Radiohead</td>\n",
       "      <td>A Moon Shaped Pool</td>\n",
       "      <td>The Numbers</td>\n",
       "      <td>8</td>\n",
       "      <td>345886</td>\n",
       "      <td>2016</td>\n",
       "      <td>0.0551</td>\n",
       "      <td>0.372</td>\n",
       "      <td>0.282</td>\n",
       "      <td>0.651000</td>\n",
       "      <td>...</td>\n",
       "      <td>1</td>\n",
       "      <td>3</td>\n",
       "      <td>it holds us like a phantom it touches  like a ...</td>\n",
       "      <td>73.0</td>\n",
       "      <td>2.0</td>\n",
       "      <td>0.027397</td>\n",
       "      <td>0.211052</td>\n",
       "      <td>5.764767</td>\n",
       "      <td>30.78</td>\n",
       "      <td>38.807273</td>\n",
       "    </tr>\n",
       "    <tr>\n",
       "      <th>98</th>\n",
       "      <td>Radiohead</td>\n",
       "      <td>A Moon Shaped Pool</td>\n",
       "      <td>Present Tense</td>\n",
       "      <td>9</td>\n",
       "      <td>306581</td>\n",
       "      <td>2016</td>\n",
       "      <td>0.3360</td>\n",
       "      <td>0.407</td>\n",
       "      <td>0.462</td>\n",
       "      <td>0.912000</td>\n",
       "      <td>...</td>\n",
       "      <td>0</td>\n",
       "      <td>4</td>\n",
       "      <td>this dance this dance is like a weapon is like...</td>\n",
       "      <td>63.0</td>\n",
       "      <td>8.0</td>\n",
       "      <td>0.126984</td>\n",
       "      <td>0.205492</td>\n",
       "      <td>5.109683</td>\n",
       "      <td>44.34</td>\n",
       "      <td>38.807273</td>\n",
       "    </tr>\n",
       "    <tr>\n",
       "      <th>99</th>\n",
       "      <td>Radiohead</td>\n",
       "      <td>A Moon Shaped Pool</td>\n",
       "      <td>Tinker Tailor Soldier Sailor Rich Man Poor Man...</td>\n",
       "      <td>10</td>\n",
       "      <td>303688</td>\n",
       "      <td>2016</td>\n",
       "      <td>0.0508</td>\n",
       "      <td>0.436</td>\n",
       "      <td>0.355</td>\n",
       "      <td>0.730000</td>\n",
       "      <td>...</td>\n",
       "      <td>1</td>\n",
       "      <td>4</td>\n",
       "      <td>all the holes at once are comin alive set free...</td>\n",
       "      <td>39.0</td>\n",
       "      <td>3.0</td>\n",
       "      <td>0.076923</td>\n",
       "      <td>0.128421</td>\n",
       "      <td>5.061467</td>\n",
       "      <td>25.90</td>\n",
       "      <td>38.807273</td>\n",
       "    </tr>\n",
       "    <tr>\n",
       "      <th>100</th>\n",
       "      <td>Radiohead</td>\n",
       "      <td>A Moon Shaped Pool</td>\n",
       "      <td>True Love Waits</td>\n",
       "      <td>11</td>\n",
       "      <td>283463</td>\n",
       "      <td>2016</td>\n",
       "      <td>0.0381</td>\n",
       "      <td>0.132</td>\n",
       "      <td>0.401</td>\n",
       "      <td>0.938000</td>\n",
       "      <td>...</td>\n",
       "      <td>1</td>\n",
       "      <td>4</td>\n",
       "      <td>ill drown my beliefs to have your babies ill d...</td>\n",
       "      <td>43.0</td>\n",
       "      <td>12.0</td>\n",
       "      <td>0.279070</td>\n",
       "      <td>0.151695</td>\n",
       "      <td>4.724383</td>\n",
       "      <td>5.08</td>\n",
       "      <td>38.807273</td>\n",
       "    </tr>\n",
       "  </tbody>\n",
       "</table>\n",
       "<p>101 rows × 25 columns</p>\n",
       "</div>"
      ],
      "text/plain": [
       "        Artist               Album   \n",
       "0    Radiohead         Pablo Honey  \\\n",
       "1    Radiohead         Pablo Honey   \n",
       "2    Radiohead         Pablo Honey   \n",
       "3    Radiohead         Pablo Honey   \n",
       "4    Radiohead         Pablo Honey   \n",
       "..         ...                 ...   \n",
       "96   Radiohead  A Moon Shaped Pool   \n",
       "97   Radiohead  A Moon Shaped Pool   \n",
       "98   Radiohead  A Moon Shaped Pool   \n",
       "99   Radiohead  A Moon Shaped Pool   \n",
       "100  Radiohead  A Moon Shaped Pool   \n",
       "\n",
       "                                                 Track  TrackNumber_On_Album   \n",
       "0                                                  You                     1  \\\n",
       "1                                                Creep                     2   \n",
       "2                                          How Do You?                     3   \n",
       "3                                      Stop Whispering                     4   \n",
       "4                                   Thinking About You                     5   \n",
       "..                                                 ...                   ...   \n",
       "96                                           Identikit                     7   \n",
       "97                                         The Numbers                     8   \n",
       "98                                       Present Tense                     9   \n",
       "99   Tinker Tailor Soldier Sailor Rich Man Poor Man...                    10   \n",
       "100                                    True Love Waits                    11   \n",
       "\n",
       "     Duration_ms  ReleaseYear  Valence  Energy  Danceability  Acousticness   \n",
       "0         208666         1993   0.2980   0.707         0.222      0.000945  \\\n",
       "1         238640         1993   0.1040   0.430         0.515      0.009700   \n",
       "2         132173         1993   0.2380   0.964         0.185      0.000659   \n",
       "3         325626         1993   0.2980   0.696         0.212      0.000849   \n",
       "4         161533         1993   0.4200   0.370         0.365      0.705000   \n",
       "..           ...          ...      ...     ...           ...           ...   \n",
       "96        266643         2016   0.3500   0.459         0.692      0.063200   \n",
       "97        345886         2016   0.0551   0.372         0.282      0.651000   \n",
       "98        306581         2016   0.3360   0.407         0.462      0.912000   \n",
       "99        303688         2016   0.0508   0.436         0.355      0.730000   \n",
       "100       283463         2016   0.0381   0.132         0.401      0.938000   \n",
       "\n",
       "     ...  Mode  TimeSignature   \n",
       "0    ...     1              3  \\\n",
       "1    ...     1              4   \n",
       "2    ...     1              4   \n",
       "3    ...     1              4   \n",
       "4    ...     1              4   \n",
       "..   ...   ...            ...   \n",
       "96   ...     0              4   \n",
       "97   ...     1              3   \n",
       "98   ...     0              4   \n",
       "99   ...     1              4   \n",
       "100  ...     1              4   \n",
       "\n",
       "                                                Lyrics  Total_Words   \n",
       "0    you are the sun and moon and stars are you and...         33.0  \\\n",
       "1    when you were here before couldnt look you in ...         85.0   \n",
       "2    hes bitter and twisted he knows what he wants ...         38.0   \n",
       "3    and the wise man said i dont want to hear your...         82.0   \n",
       "4    been thinking about you your records are here ...         81.0   \n",
       "..                                                 ...          ...   \n",
       "96   a moon shaped pool dancing clothes wont let me...        176.0   \n",
       "97   it holds us like a phantom it touches  like a ...         73.0   \n",
       "98   this dance this dance is like a weapon is like...         63.0   \n",
       "99   all the holes at once are comin alive set free...         39.0   \n",
       "100  ill drown my beliefs to have your babies ill d...         43.0   \n",
       "\n",
       "     Sad_Words  Pct_Sad_Words  Lyrical_Density Duration_mins  Gloom_Index   \n",
       "0          0.0       0.000000         0.158147      3.477767        54.03  \\\n",
       "1          5.0       0.058824         0.356185      3.977333        30.98   \n",
       "2          2.0       0.052632         0.287502      2.202883        43.27   \n",
       "3          2.0       0.024390         0.251823      5.427100        51.46   \n",
       "4          0.0       0.000000         0.501446      2.692217        64.30   \n",
       "..         ...            ...              ...           ...          ...   \n",
       "96        18.0       0.102273         0.660059      4.444050        44.11   \n",
       "97         2.0       0.027397         0.211052      5.764767        30.78   \n",
       "98         8.0       0.126984         0.205492      5.109683        44.34   \n",
       "99         3.0       0.076923         0.128421      5.061467        25.90   \n",
       "100       12.0       0.279070         0.151695      4.724383         5.08   \n",
       "\n",
       "     Gloom_Mean  \n",
       "0     51.881667  \n",
       "1     51.881667  \n",
       "2     51.881667  \n",
       "3     51.881667  \n",
       "4     51.881667  \n",
       "..          ...  \n",
       "96    38.807273  \n",
       "97    38.807273  \n",
       "98    38.807273  \n",
       "99    38.807273  \n",
       "100   38.807273  \n",
       "\n",
       "[101 rows x 25 columns]"
      ]
     },
     "execution_count": 147,
     "metadata": {},
     "output_type": "execute_result"
    }
   ],
   "source": [
    "#Data Grouping\n",
    "df_radiohead_gloom_index = df_radiohead.groupby(['Album']).agg(Gloom_Mean = ('Gloom_Index', 'mean'))\n",
    "df_radiohead_combined =  pd.merge(df_radiohead, df_radiohead_gloom_index, on='Album')\n",
    "df_radiohead_combined"
   ]
  },
  {
   "cell_type": "code",
   "execution_count": 153,
   "id": "aafbf5d4",
   "metadata": {},
   "outputs": [
    {
     "data": {
      "application/vnd.plotly.v1+json": {
       "config": {
        "plotlyServerURL": "https://plot.ly"
       },
       "data": [
        {
         "hovertemplate": "<b>%{hovertext}</b><br><br>Album Name=%{x}<br>Gloom Index=%{y}<extra></extra>",
         "hovertext": [
          "You",
          "Creep",
          "How Do You?",
          "Stop Whispering",
          "Thinking About You",
          "Anyone Can Play Guitar",
          "Ripcord",
          "Vegetable",
          "Prove Yourself",
          "I Can't",
          "Lurgee",
          "Blow Out"
         ],
         "legendgroup": "Pablo Honey",
         "marker": {
          "color": "#636efa",
          "symbol": "circle"
         },
         "mode": "markers",
         "name": "Pablo Honey",
         "orientation": "v",
         "showlegend": true,
         "textposition": "bottom right",
         "type": "scatter",
         "x": [
          "Pablo Honey",
          "Pablo Honey",
          "Pablo Honey",
          "Pablo Honey",
          "Pablo Honey",
          "Pablo Honey",
          "Pablo Honey",
          "Pablo Honey",
          "Pablo Honey",
          "Pablo Honey",
          "Pablo Honey",
          "Pablo Honey"
         ],
         "xaxis": "x",
         "y": [
          54.03,
          30.98,
          43.27,
          51.46,
          64.3,
          65.1,
          46.36,
          61.03,
          50.17,
          46.93,
          63.37,
          45.58
         ],
         "yaxis": "y"
        },
        {
         "hovertemplate": "<b>%{hovertext}</b><br><br>Album Name=%{x}<br>Gloom Index=%{y}<extra></extra>",
         "hovertext": [
          "Planet Telex",
          "The Bends",
          "High and Dry",
          "Fake Plastic Trees",
          "Bones",
          "(Nice Dream)",
          "Just",
          "My Iron Lung",
          "Bullet Proof ... I Wish I Was",
          "Black Star",
          "Sulk",
          "Street Spirit (Fade Out)"
         ],
         "legendgroup": "The Bends",
         "marker": {
          "color": "#EF553B",
          "symbol": "circle"
         },
         "mode": "markers",
         "name": "The Bends",
         "orientation": "v",
         "showlegend": true,
         "textposition": "bottom right",
         "type": "scatter",
         "x": [
          "The Bends",
          "The Bends",
          "The Bends",
          "The Bends",
          "The Bends",
          "The Bends",
          "The Bends",
          "The Bends",
          "The Bends",
          "The Bends",
          "The Bends",
          "The Bends"
         ],
         "xaxis": "x",
         "y": [
          37.96,
          49.05,
          37.95,
          35.88,
          60.47,
          60.51,
          48.59,
          80.17,
          30.11,
          42.82,
          84,
          37.14
         ],
         "yaxis": "y"
        },
        {
         "hovertemplate": "<b>%{hovertext}</b><br><br>Album Name=%{x}<br>Gloom Index=%{y}<extra></extra>",
         "hovertext": [
          "Airbag",
          "Paranoid Android",
          "Subterranean Homesick Alien",
          "Exit Music (For A Film)",
          "Let Down",
          "Karma Police",
          "Fitter Happier",
          "Electioneering",
          "Climbing Up the Walls",
          "No Surprises",
          "Lucky",
          "The Tourist"
         ],
         "legendgroup": "OK Computer",
         "marker": {
          "color": "#00cc96",
          "symbol": "circle"
         },
         "mode": "markers",
         "name": "OK Computer",
         "orientation": "v",
         "showlegend": true,
         "textposition": "bottom right",
         "type": "scatter",
         "x": [
          "OK Computer",
          "OK Computer",
          "OK Computer",
          "OK Computer",
          "OK Computer",
          "OK Computer",
          "OK Computer",
          "OK Computer",
          "OK Computer",
          "OK Computer",
          "OK Computer",
          "OK Computer"
         ],
         "xaxis": "x",
         "y": [
          83.5,
          46.36,
          54.91,
          27.17,
          26.97,
          40.05,
          80,
          52.32,
          38.95,
          33.56,
          41.4,
          30.31
         ],
         "yaxis": "y"
        },
        {
         "hovertemplate": "<b>%{hovertext}</b><br><br>Album Name=%{x}<br>Gloom Index=%{y}<extra></extra>",
         "hovertext": [
          "Everything In Its Right Place",
          "Kid A",
          "The National Anthem",
          "How to Disappear Completely",
          "Treefingers",
          "Optimistic",
          "In Limbo",
          "Idioteque",
          "Morning Bell",
          "Motion Picture Soundtrack",
          "Untitled"
         ],
         "legendgroup": "Kid A",
         "marker": {
          "color": "#ab63fa",
          "symbol": "circle"
         },
         "mode": "markers",
         "name": "Kid A",
         "orientation": "v",
         "showlegend": true,
         "textposition": "bottom right",
         "type": "scatter",
         "x": [
          "Kid A",
          "Kid A",
          "Kid A",
          "Kid A",
          "Kid A",
          "Kid A",
          "Kid A",
          "Kid A",
          "Kid A",
          "Kid A",
          "Kid A"
         ],
         "xaxis": "x",
         "y": [
          34.23,
          40.2,
          61.6,
          42.91,
          33.79,
          75.03,
          68.12,
          70.68,
          60.61,
          23.83,
          35.41
         ],
         "yaxis": "y"
        },
        {
         "hovertemplate": "<b>%{hovertext}</b><br><br>Album Name=%{x}<br>Gloom Index=%{y}<extra></extra>",
         "hovertext": [
          "Packt Like Sardines In a Crushd Tin Box",
          "Pyramid Song",
          "Pulk/Pull Revolving Doors",
          "You And Whose Army?",
          "I Might Be Wrong",
          "Knives Out",
          "Morning Bell/Amnesiac",
          "Dollars and Cents",
          "Hunting Bears",
          "Like Spinning Plates",
          "Life In a Glasshouse"
         ],
         "legendgroup": "Amnesiac",
         "marker": {
          "color": "#FFA15A",
          "symbol": "circle"
         },
         "mode": "markers",
         "name": "Amnesiac",
         "orientation": "v",
         "showlegend": true,
         "textposition": "bottom right",
         "type": "scatter",
         "x": [
          "Amnesiac",
          "Amnesiac",
          "Amnesiac",
          "Amnesiac",
          "Amnesiac",
          "Amnesiac",
          "Amnesiac",
          "Amnesiac",
          "Amnesiac",
          "Amnesiac",
          "Amnesiac"
         ],
         "xaxis": "x",
         "y": [
          56.05,
          27.78,
          40.81,
          37.73,
          71.46,
          44.43,
          44.26,
          24.49,
          35.13,
          47.29,
          28.9
         ],
         "yaxis": "y"
        },
        {
         "hovertemplate": "<b>%{hovertext}</b><br><br>Album Name=%{x}<br>Gloom Index=%{y}<extra></extra>",
         "hovertext": [
          "2 + 2 = 5",
          "Sit Down. Stand Up",
          "Sail To The Moon",
          "Backdrifts",
          "Go To Sleep",
          "Where I End and You Begin",
          "We Suck Young Blood",
          "The Gloaming",
          "There, There",
          "I Will",
          "A Punch Up at a Wedding",
          "Myxomatosis",
          "Scatterbrain",
          "A Wolf At the Door"
         ],
         "legendgroup": "Hail To the Thief",
         "marker": {
          "color": "#19d3f3",
          "symbol": "circle"
         },
         "mode": "markers",
         "name": "Hail To the Thief",
         "orientation": "v",
         "showlegend": true,
         "textposition": "bottom right",
         "type": "scatter",
         "x": [
          "Hail To the Thief",
          "Hail To the Thief",
          "Hail To the Thief",
          "Hail To the Thief",
          "Hail To the Thief",
          "Hail To the Thief",
          "Hail To the Thief",
          "Hail To the Thief",
          "Hail To the Thief",
          "Hail To the Thief",
          "Hail To the Thief",
          "Hail To the Thief",
          "Hail To the Thief",
          "Hail To the Thief"
         ],
         "xaxis": "x",
         "y": [
          53.31,
          70.05,
          33.45,
          72.62,
          84.51,
          67.06,
          25.39,
          32.35,
          79.44,
          39.82,
          66.42,
          74.59,
          46.35,
          54.28
         ],
         "yaxis": "y"
        },
        {
         "hovertemplate": "<b>%{hovertext}</b><br><br>Album Name=%{x}<br>Gloom Index=%{y}<extra></extra>",
         "hovertext": [
          "15 Step",
          "Bodysnatchers",
          "Nude",
          "Weird Fishes/ Arpeggi",
          "All I Need",
          "Faust Arp",
          "Reckoner",
          "House Of Cards",
          "Jigsaw Falling Into Place",
          "Videotape"
         ],
         "legendgroup": "In Rainbows",
         "marker": {
          "color": "#FF6692",
          "symbol": "circle"
         },
         "mode": "markers",
         "name": "In Rainbows",
         "orientation": "v",
         "showlegend": true,
         "textposition": "bottom right",
         "type": "scatter",
         "x": [
          "In Rainbows",
          "In Rainbows",
          "In Rainbows",
          "In Rainbows",
          "In Rainbows",
          "In Rainbows",
          "In Rainbows",
          "In Rainbows",
          "In Rainbows",
          "In Rainbows"
         ],
         "xaxis": "x",
         "y": [
          100,
          89.27,
          37.79,
          33.85,
          37.33,
          46.29,
          46.95,
          70.03,
          89.21,
          29.23
         ],
         "yaxis": "y"
        },
        {
         "hovertemplate": "<b>%{hovertext}</b><br><br>Album Name=%{x}<br>Gloom Index=%{y}<extra></extra>",
         "hovertext": [
          "Bloom",
          "Morning Mr Magpie",
          "Little By Little",
          "Feral",
          "Lotus Flower",
          "Codex",
          "Give Up The Ghost",
          "Separator"
         ],
         "legendgroup": "The King Of Limbs",
         "marker": {
          "color": "#B6E880",
          "symbol": "circle"
         },
         "mode": "markers",
         "name": "The King Of Limbs",
         "orientation": "v",
         "showlegend": true,
         "textposition": "bottom right",
         "type": "scatter",
         "x": [
          "The King Of Limbs",
          "The King Of Limbs",
          "The King Of Limbs",
          "The King Of Limbs",
          "The King Of Limbs",
          "The King Of Limbs",
          "The King Of Limbs",
          "The King Of Limbs"
         ],
         "xaxis": "x",
         "y": [
          54.9,
          62.78,
          68.87,
          90.32,
          67.98,
          31.25,
          1,
          77.15
         ],
         "yaxis": "y"
        },
        {
         "hovertemplate": "<b>%{hovertext}</b><br><br>Album Name=%{x}<br>Gloom Index=%{y}<extra></extra>",
         "hovertext": [
          "Burn the Witch",
          "Daydreaming",
          "Decks Dark",
          "Desert Island Disk",
          "Ful Stop",
          "Glass Eyes",
          "Identikit",
          "The Numbers",
          "Present Tense",
          "Tinker Tailor Soldier Sailor Rich Man Poor Man Beggar Man Thief",
          "True Love Waits"
         ],
         "legendgroup": "A Moon Shaped Pool",
         "marker": {
          "color": "#FF97FF",
          "symbol": "circle"
         },
         "mode": "markers",
         "name": "A Moon Shaped Pool",
         "orientation": "v",
         "showlegend": true,
         "textposition": "bottom right",
         "type": "scatter",
         "x": [
          "A Moon Shaped Pool",
          "A Moon Shaped Pool",
          "A Moon Shaped Pool",
          "A Moon Shaped Pool",
          "A Moon Shaped Pool",
          "A Moon Shaped Pool",
          "A Moon Shaped Pool",
          "A Moon Shaped Pool",
          "A Moon Shaped Pool",
          "A Moon Shaped Pool",
          "A Moon Shaped Pool"
         ],
         "xaxis": "x",
         "y": [
          73.01,
          34.99,
          48.25,
          42.24,
          43.92,
          34.26,
          44.11,
          30.78,
          44.34,
          25.9,
          5.08
         ],
         "yaxis": "y"
        },
        {
         "mode": "markers+lines",
         "showlegend": false,
         "text": "Gloom_Mean",
         "textposition": "bottom right",
         "type": "scatter",
         "x": [
          "Pablo Honey",
          "Pablo Honey",
          "Pablo Honey",
          "Pablo Honey",
          "Pablo Honey",
          "Pablo Honey",
          "Pablo Honey",
          "Pablo Honey",
          "Pablo Honey",
          "Pablo Honey",
          "Pablo Honey",
          "Pablo Honey",
          "The Bends",
          "The Bends",
          "The Bends",
          "The Bends",
          "The Bends",
          "The Bends",
          "The Bends",
          "The Bends",
          "The Bends",
          "The Bends",
          "The Bends",
          "The Bends",
          "OK Computer",
          "OK Computer",
          "OK Computer",
          "OK Computer",
          "OK Computer",
          "OK Computer",
          "OK Computer",
          "OK Computer",
          "OK Computer",
          "OK Computer",
          "OK Computer",
          "OK Computer",
          "Kid A",
          "Kid A",
          "Kid A",
          "Kid A",
          "Kid A",
          "Kid A",
          "Kid A",
          "Kid A",
          "Kid A",
          "Kid A",
          "Kid A",
          "Amnesiac",
          "Amnesiac",
          "Amnesiac",
          "Amnesiac",
          "Amnesiac",
          "Amnesiac",
          "Amnesiac",
          "Amnesiac",
          "Amnesiac",
          "Amnesiac",
          "Amnesiac",
          "Hail To the Thief",
          "Hail To the Thief",
          "Hail To the Thief",
          "Hail To the Thief",
          "Hail To the Thief",
          "Hail To the Thief",
          "Hail To the Thief",
          "Hail To the Thief",
          "Hail To the Thief",
          "Hail To the Thief",
          "Hail To the Thief",
          "Hail To the Thief",
          "Hail To the Thief",
          "Hail To the Thief",
          "In Rainbows",
          "In Rainbows",
          "In Rainbows",
          "In Rainbows",
          "In Rainbows",
          "In Rainbows",
          "In Rainbows",
          "In Rainbows",
          "In Rainbows",
          "In Rainbows",
          "The King Of Limbs",
          "The King Of Limbs",
          "The King Of Limbs",
          "The King Of Limbs",
          "The King Of Limbs",
          "The King Of Limbs",
          "The King Of Limbs",
          "The King Of Limbs",
          "A Moon Shaped Pool",
          "A Moon Shaped Pool",
          "A Moon Shaped Pool",
          "A Moon Shaped Pool",
          "A Moon Shaped Pool",
          "A Moon Shaped Pool",
          "A Moon Shaped Pool",
          "A Moon Shaped Pool",
          "A Moon Shaped Pool",
          "A Moon Shaped Pool",
          "A Moon Shaped Pool"
         ],
         "y": [
          51.88166666666666,
          51.88166666666666,
          51.88166666666666,
          51.88166666666666,
          51.88166666666666,
          51.88166666666666,
          51.88166666666666,
          51.88166666666666,
          51.88166666666666,
          51.88166666666666,
          51.88166666666666,
          51.88166666666666,
          50.387499999999996,
          50.387499999999996,
          50.387499999999996,
          50.387499999999996,
          50.387499999999996,
          50.387499999999996,
          50.387499999999996,
          50.387499999999996,
          50.387499999999996,
          50.387499999999996,
          50.387499999999996,
          50.387499999999996,
          46.291666666666664,
          46.291666666666664,
          46.291666666666664,
          46.291666666666664,
          46.291666666666664,
          46.291666666666664,
          46.291666666666664,
          46.291666666666664,
          46.291666666666664,
          46.291666666666664,
          46.291666666666664,
          46.291666666666664,
          49.67363636363636,
          49.67363636363636,
          49.67363636363636,
          49.67363636363636,
          49.67363636363636,
          49.67363636363636,
          49.67363636363636,
          49.67363636363636,
          49.67363636363636,
          49.67363636363636,
          49.67363636363636,
          41.666363636363634,
          41.666363636363634,
          41.666363636363634,
          41.666363636363634,
          41.666363636363634,
          41.666363636363634,
          41.666363636363634,
          41.666363636363634,
          41.666363636363634,
          41.666363636363634,
          41.666363636363634,
          57.11714285714286,
          57.11714285714286,
          57.11714285714286,
          57.11714285714286,
          57.11714285714286,
          57.11714285714286,
          57.11714285714286,
          57.11714285714286,
          57.11714285714286,
          57.11714285714286,
          57.11714285714286,
          57.11714285714286,
          57.11714285714286,
          57.11714285714286,
          57.99499999999999,
          57.99499999999999,
          57.99499999999999,
          57.99499999999999,
          57.99499999999999,
          57.99499999999999,
          57.99499999999999,
          57.99499999999999,
          57.99499999999999,
          57.99499999999999,
          56.78125,
          56.78125,
          56.78125,
          56.78125,
          56.78125,
          56.78125,
          56.78125,
          56.78125,
          38.807272727272725,
          38.807272727272725,
          38.807272727272725,
          38.807272727272725,
          38.807272727272725,
          38.807272727272725,
          38.807272727272725,
          38.807272727272725,
          38.807272727272725,
          38.807272727272725,
          38.807272727272725
         ]
        }
       ],
       "layout": {
        "legend": {
         "title": {
          "text": "Album Name"
         },
         "tracegroupgap": 0
        },
        "template": {
         "data": {
          "bar": [
           {
            "error_x": {
             "color": "#f2f5fa"
            },
            "error_y": {
             "color": "#f2f5fa"
            },
            "marker": {
             "line": {
              "color": "rgb(17,17,17)",
              "width": 0.5
             },
             "pattern": {
              "fillmode": "overlay",
              "size": 10,
              "solidity": 0.2
             }
            },
            "type": "bar"
           }
          ],
          "barpolar": [
           {
            "marker": {
             "line": {
              "color": "rgb(17,17,17)",
              "width": 0.5
             },
             "pattern": {
              "fillmode": "overlay",
              "size": 10,
              "solidity": 0.2
             }
            },
            "type": "barpolar"
           }
          ],
          "carpet": [
           {
            "aaxis": {
             "endlinecolor": "#A2B1C6",
             "gridcolor": "#506784",
             "linecolor": "#506784",
             "minorgridcolor": "#506784",
             "startlinecolor": "#A2B1C6"
            },
            "baxis": {
             "endlinecolor": "#A2B1C6",
             "gridcolor": "#506784",
             "linecolor": "#506784",
             "minorgridcolor": "#506784",
             "startlinecolor": "#A2B1C6"
            },
            "type": "carpet"
           }
          ],
          "choropleth": [
           {
            "colorbar": {
             "outlinewidth": 0,
             "ticks": ""
            },
            "type": "choropleth"
           }
          ],
          "contour": [
           {
            "colorbar": {
             "outlinewidth": 0,
             "ticks": ""
            },
            "colorscale": [
             [
              0,
              "#0d0887"
             ],
             [
              0.1111111111111111,
              "#46039f"
             ],
             [
              0.2222222222222222,
              "#7201a8"
             ],
             [
              0.3333333333333333,
              "#9c179e"
             ],
             [
              0.4444444444444444,
              "#bd3786"
             ],
             [
              0.5555555555555556,
              "#d8576b"
             ],
             [
              0.6666666666666666,
              "#ed7953"
             ],
             [
              0.7777777777777778,
              "#fb9f3a"
             ],
             [
              0.8888888888888888,
              "#fdca26"
             ],
             [
              1,
              "#f0f921"
             ]
            ],
            "type": "contour"
           }
          ],
          "contourcarpet": [
           {
            "colorbar": {
             "outlinewidth": 0,
             "ticks": ""
            },
            "type": "contourcarpet"
           }
          ],
          "heatmap": [
           {
            "colorbar": {
             "outlinewidth": 0,
             "ticks": ""
            },
            "colorscale": [
             [
              0,
              "#0d0887"
             ],
             [
              0.1111111111111111,
              "#46039f"
             ],
             [
              0.2222222222222222,
              "#7201a8"
             ],
             [
              0.3333333333333333,
              "#9c179e"
             ],
             [
              0.4444444444444444,
              "#bd3786"
             ],
             [
              0.5555555555555556,
              "#d8576b"
             ],
             [
              0.6666666666666666,
              "#ed7953"
             ],
             [
              0.7777777777777778,
              "#fb9f3a"
             ],
             [
              0.8888888888888888,
              "#fdca26"
             ],
             [
              1,
              "#f0f921"
             ]
            ],
            "type": "heatmap"
           }
          ],
          "heatmapgl": [
           {
            "colorbar": {
             "outlinewidth": 0,
             "ticks": ""
            },
            "colorscale": [
             [
              0,
              "#0d0887"
             ],
             [
              0.1111111111111111,
              "#46039f"
             ],
             [
              0.2222222222222222,
              "#7201a8"
             ],
             [
              0.3333333333333333,
              "#9c179e"
             ],
             [
              0.4444444444444444,
              "#bd3786"
             ],
             [
              0.5555555555555556,
              "#d8576b"
             ],
             [
              0.6666666666666666,
              "#ed7953"
             ],
             [
              0.7777777777777778,
              "#fb9f3a"
             ],
             [
              0.8888888888888888,
              "#fdca26"
             ],
             [
              1,
              "#f0f921"
             ]
            ],
            "type": "heatmapgl"
           }
          ],
          "histogram": [
           {
            "marker": {
             "pattern": {
              "fillmode": "overlay",
              "size": 10,
              "solidity": 0.2
             }
            },
            "type": "histogram"
           }
          ],
          "histogram2d": [
           {
            "colorbar": {
             "outlinewidth": 0,
             "ticks": ""
            },
            "colorscale": [
             [
              0,
              "#0d0887"
             ],
             [
              0.1111111111111111,
              "#46039f"
             ],
             [
              0.2222222222222222,
              "#7201a8"
             ],
             [
              0.3333333333333333,
              "#9c179e"
             ],
             [
              0.4444444444444444,
              "#bd3786"
             ],
             [
              0.5555555555555556,
              "#d8576b"
             ],
             [
              0.6666666666666666,
              "#ed7953"
             ],
             [
              0.7777777777777778,
              "#fb9f3a"
             ],
             [
              0.8888888888888888,
              "#fdca26"
             ],
             [
              1,
              "#f0f921"
             ]
            ],
            "type": "histogram2d"
           }
          ],
          "histogram2dcontour": [
           {
            "colorbar": {
             "outlinewidth": 0,
             "ticks": ""
            },
            "colorscale": [
             [
              0,
              "#0d0887"
             ],
             [
              0.1111111111111111,
              "#46039f"
             ],
             [
              0.2222222222222222,
              "#7201a8"
             ],
             [
              0.3333333333333333,
              "#9c179e"
             ],
             [
              0.4444444444444444,
              "#bd3786"
             ],
             [
              0.5555555555555556,
              "#d8576b"
             ],
             [
              0.6666666666666666,
              "#ed7953"
             ],
             [
              0.7777777777777778,
              "#fb9f3a"
             ],
             [
              0.8888888888888888,
              "#fdca26"
             ],
             [
              1,
              "#f0f921"
             ]
            ],
            "type": "histogram2dcontour"
           }
          ],
          "mesh3d": [
           {
            "colorbar": {
             "outlinewidth": 0,
             "ticks": ""
            },
            "type": "mesh3d"
           }
          ],
          "parcoords": [
           {
            "line": {
             "colorbar": {
              "outlinewidth": 0,
              "ticks": ""
             }
            },
            "type": "parcoords"
           }
          ],
          "pie": [
           {
            "automargin": true,
            "type": "pie"
           }
          ],
          "scatter": [
           {
            "marker": {
             "line": {
              "color": "#283442"
             }
            },
            "type": "scatter"
           }
          ],
          "scatter3d": [
           {
            "line": {
             "colorbar": {
              "outlinewidth": 0,
              "ticks": ""
             }
            },
            "marker": {
             "colorbar": {
              "outlinewidth": 0,
              "ticks": ""
             }
            },
            "type": "scatter3d"
           }
          ],
          "scattercarpet": [
           {
            "marker": {
             "colorbar": {
              "outlinewidth": 0,
              "ticks": ""
             }
            },
            "type": "scattercarpet"
           }
          ],
          "scattergeo": [
           {
            "marker": {
             "colorbar": {
              "outlinewidth": 0,
              "ticks": ""
             }
            },
            "type": "scattergeo"
           }
          ],
          "scattergl": [
           {
            "marker": {
             "line": {
              "color": "#283442"
             }
            },
            "type": "scattergl"
           }
          ],
          "scattermapbox": [
           {
            "marker": {
             "colorbar": {
              "outlinewidth": 0,
              "ticks": ""
             }
            },
            "type": "scattermapbox"
           }
          ],
          "scatterpolar": [
           {
            "marker": {
             "colorbar": {
              "outlinewidth": 0,
              "ticks": ""
             }
            },
            "type": "scatterpolar"
           }
          ],
          "scatterpolargl": [
           {
            "marker": {
             "colorbar": {
              "outlinewidth": 0,
              "ticks": ""
             }
            },
            "type": "scatterpolargl"
           }
          ],
          "scatterternary": [
           {
            "marker": {
             "colorbar": {
              "outlinewidth": 0,
              "ticks": ""
             }
            },
            "type": "scatterternary"
           }
          ],
          "surface": [
           {
            "colorbar": {
             "outlinewidth": 0,
             "ticks": ""
            },
            "colorscale": [
             [
              0,
              "#0d0887"
             ],
             [
              0.1111111111111111,
              "#46039f"
             ],
             [
              0.2222222222222222,
              "#7201a8"
             ],
             [
              0.3333333333333333,
              "#9c179e"
             ],
             [
              0.4444444444444444,
              "#bd3786"
             ],
             [
              0.5555555555555556,
              "#d8576b"
             ],
             [
              0.6666666666666666,
              "#ed7953"
             ],
             [
              0.7777777777777778,
              "#fb9f3a"
             ],
             [
              0.8888888888888888,
              "#fdca26"
             ],
             [
              1,
              "#f0f921"
             ]
            ],
            "type": "surface"
           }
          ],
          "table": [
           {
            "cells": {
             "fill": {
              "color": "#506784"
             },
             "line": {
              "color": "rgb(17,17,17)"
             }
            },
            "header": {
             "fill": {
              "color": "#2a3f5f"
             },
             "line": {
              "color": "rgb(17,17,17)"
             }
            },
            "type": "table"
           }
          ]
         },
         "layout": {
          "annotationdefaults": {
           "arrowcolor": "#f2f5fa",
           "arrowhead": 0,
           "arrowwidth": 1
          },
          "autotypenumbers": "strict",
          "coloraxis": {
           "colorbar": {
            "outlinewidth": 0,
            "ticks": ""
           }
          },
          "colorscale": {
           "diverging": [
            [
             0,
             "#8e0152"
            ],
            [
             0.1,
             "#c51b7d"
            ],
            [
             0.2,
             "#de77ae"
            ],
            [
             0.3,
             "#f1b6da"
            ],
            [
             0.4,
             "#fde0ef"
            ],
            [
             0.5,
             "#f7f7f7"
            ],
            [
             0.6,
             "#e6f5d0"
            ],
            [
             0.7,
             "#b8e186"
            ],
            [
             0.8,
             "#7fbc41"
            ],
            [
             0.9,
             "#4d9221"
            ],
            [
             1,
             "#276419"
            ]
           ],
           "sequential": [
            [
             0,
             "#0d0887"
            ],
            [
             0.1111111111111111,
             "#46039f"
            ],
            [
             0.2222222222222222,
             "#7201a8"
            ],
            [
             0.3333333333333333,
             "#9c179e"
            ],
            [
             0.4444444444444444,
             "#bd3786"
            ],
            [
             0.5555555555555556,
             "#d8576b"
            ],
            [
             0.6666666666666666,
             "#ed7953"
            ],
            [
             0.7777777777777778,
             "#fb9f3a"
            ],
            [
             0.8888888888888888,
             "#fdca26"
            ],
            [
             1,
             "#f0f921"
            ]
           ],
           "sequentialminus": [
            [
             0,
             "#0d0887"
            ],
            [
             0.1111111111111111,
             "#46039f"
            ],
            [
             0.2222222222222222,
             "#7201a8"
            ],
            [
             0.3333333333333333,
             "#9c179e"
            ],
            [
             0.4444444444444444,
             "#bd3786"
            ],
            [
             0.5555555555555556,
             "#d8576b"
            ],
            [
             0.6666666666666666,
             "#ed7953"
            ],
            [
             0.7777777777777778,
             "#fb9f3a"
            ],
            [
             0.8888888888888888,
             "#fdca26"
            ],
            [
             1,
             "#f0f921"
            ]
           ]
          },
          "colorway": [
           "#636efa",
           "#EF553B",
           "#00cc96",
           "#ab63fa",
           "#FFA15A",
           "#19d3f3",
           "#FF6692",
           "#B6E880",
           "#FF97FF",
           "#FECB52"
          ],
          "font": {
           "color": "#f2f5fa"
          },
          "geo": {
           "bgcolor": "rgb(17,17,17)",
           "lakecolor": "rgb(17,17,17)",
           "landcolor": "rgb(17,17,17)",
           "showlakes": true,
           "showland": true,
           "subunitcolor": "#506784"
          },
          "hoverlabel": {
           "align": "left"
          },
          "hovermode": "closest",
          "mapbox": {
           "style": "dark"
          },
          "paper_bgcolor": "rgb(17,17,17)",
          "plot_bgcolor": "rgb(17,17,17)",
          "polar": {
           "angularaxis": {
            "gridcolor": "#506784",
            "linecolor": "#506784",
            "ticks": ""
           },
           "bgcolor": "rgb(17,17,17)",
           "radialaxis": {
            "gridcolor": "#506784",
            "linecolor": "#506784",
            "ticks": ""
           }
          },
          "scene": {
           "xaxis": {
            "backgroundcolor": "rgb(17,17,17)",
            "gridcolor": "#506784",
            "gridwidth": 2,
            "linecolor": "#506784",
            "showbackground": true,
            "ticks": "",
            "zerolinecolor": "#C8D4E3"
           },
           "yaxis": {
            "backgroundcolor": "rgb(17,17,17)",
            "gridcolor": "#506784",
            "gridwidth": 2,
            "linecolor": "#506784",
            "showbackground": true,
            "ticks": "",
            "zerolinecolor": "#C8D4E3"
           },
           "zaxis": {
            "backgroundcolor": "rgb(17,17,17)",
            "gridcolor": "#506784",
            "gridwidth": 2,
            "linecolor": "#506784",
            "showbackground": true,
            "ticks": "",
            "zerolinecolor": "#C8D4E3"
           }
          },
          "shapedefaults": {
           "line": {
            "color": "#f2f5fa"
           }
          },
          "sliderdefaults": {
           "bgcolor": "#C8D4E3",
           "bordercolor": "rgb(17,17,17)",
           "borderwidth": 1,
           "tickwidth": 0
          },
          "ternary": {
           "aaxis": {
            "gridcolor": "#506784",
            "linecolor": "#506784",
            "ticks": ""
           },
           "baxis": {
            "gridcolor": "#506784",
            "linecolor": "#506784",
            "ticks": ""
           },
           "bgcolor": "rgb(17,17,17)",
           "caxis": {
            "gridcolor": "#506784",
            "linecolor": "#506784",
            "ticks": ""
           }
          },
          "title": {
           "x": 0.05
          },
          "updatemenudefaults": {
           "bgcolor": "#506784",
           "borderwidth": 0
          },
          "xaxis": {
           "automargin": true,
           "gridcolor": "#283442",
           "linecolor": "#506784",
           "ticks": "",
           "title": {
            "standoff": 15
           },
           "zerolinecolor": "#283442",
           "zerolinewidth": 2
          },
          "yaxis": {
           "automargin": true,
           "gridcolor": "#283442",
           "linecolor": "#506784",
           "ticks": "",
           "title": {
            "standoff": 15
           },
           "zerolinecolor": "#283442",
           "zerolinewidth": 2
          }
         }
        },
        "title": {
         "text": "<b>Radiohead Albums by Gloom Index</b> <br>And we have a winner: \"A Moon Shaped Pool\" is their saddest album."
        },
        "width": 1500,
        "xaxis": {
         "anchor": "y",
         "categoryarray": [
          "Pablo Honey",
          "The Bends",
          "OK Computer",
          "Kid A",
          "Amnesiac",
          "Hail To the Thief",
          "In Rainbows",
          "The King Of Limbs",
          "A Moon Shaped Pool"
         ],
         "categoryorder": "array",
         "domain": [
          0,
          1
         ],
         "title": {
          "text": "Album Name"
         }
        },
        "yaxis": {
         "anchor": "x",
         "domain": [
          0,
          1
         ],
         "title": {
          "text": "Gloom Index"
         }
        }
       }
      }
     },
     "metadata": {},
     "output_type": "display_data"
    }
   ],
   "source": [
    "#Plot Saddest Album\n",
    "fig = px.scatter(df_radiohead_combined, x = 'Album',y= 'Gloom_Index', color = 'Album',\n",
    "            labels={'Album':'Album Name', 'Gloom_Index':'Gloom Index'},\n",
    "            title= '<b>Radiohead Albums by Gloom Index</b> <br>And we have a winner: \"A Moon Shaped Pool\" is their saddest album.',\n",
    "            template='plotly_dark', hover_name= 'Track', width= 1500)\n",
    "\n",
    "#Add Line For Means\n",
    "fig.add_scatter(x= df_radiohead_combined['Album'], y= df_radiohead_combined['Gloom_Mean'], mode='markers, lines', showlegend= False, text='Gloom_Mean')\n",
    "fig.update_traces(textposition=\"bottom right\")\n",
    "\n",
    "fig.show()"
   ]
  },
  {
   "cell_type": "markdown",
   "id": "3b6cb28b",
   "metadata": {},
   "source": [
    "'A Moon Shaped Pool' (38.8) has the lowest mean gloom value, meaning it is comes in as the saddest Radiohead album. 'Amnesiac' (41.6) ranks second, edging out 'OK Computer' (46.3). Interestingly the run of 'Hail To the Thief', 'In Rainbows' and 'The King Of Limbs' again comes up as the band's happy period, posting the highest mean gloom values. The five most positive songs of Radiohead can be found on these three records. Once more we can find evidence why 'In Rainbows' might be their most approachable album. The numbers mark it as their most positive LP to date."
   ]
  },
  {
   "cell_type": "markdown",
   "id": "dcf60205",
   "metadata": {},
   "source": [
    "## Checking for some correlations\n",
    "\n",
    "We are now officially in the random statistical experimentation part, you should not take too seriously here. I will check for some correlations. Nonetheless, let's plot some stuff for fun:\n",
    "\n",
    "### Does a longer duration make it more likely for a song to be gloomy?\n",
    "\n",
    "One could assume that more extensive tracks might be sadder, so why not check:"
   ]
  },
  {
   "cell_type": "code",
   "execution_count": 149,
   "id": "135365cc",
   "metadata": {},
   "outputs": [
    {
     "data": {
      "application/vnd.plotly.v1+json": {
       "config": {
        "plotlyServerURL": "https://plot.ly"
       },
       "data": [
        {
         "hovertemplate": "<b>%{hovertext}</b><br><br>Duration of the Tracks=%{x}<br>Gloom Index=%{y}<extra></extra>",
         "hovertext": [
          "You",
          "Creep",
          "How Do You?",
          "Stop Whispering",
          "Thinking About You",
          "Anyone Can Play Guitar",
          "Ripcord",
          "Vegetable",
          "Prove Yourself",
          "I Can't",
          "Lurgee",
          "Blow Out",
          "Planet Telex",
          "The Bends",
          "High and Dry",
          "Fake Plastic Trees",
          "Bones",
          "(Nice Dream)",
          "Just",
          "My Iron Lung",
          "Bullet Proof ... I Wish I Was",
          "Black Star",
          "Sulk",
          "Street Spirit (Fade Out)",
          "Airbag",
          "Paranoid Android",
          "Subterranean Homesick Alien",
          "Exit Music (For A Film)",
          "Let Down",
          "Karma Police",
          "Fitter Happier",
          "Electioneering",
          "Climbing Up the Walls",
          "No Surprises",
          "Lucky",
          "The Tourist",
          "Everything In Its Right Place",
          "Kid A",
          "The National Anthem",
          "How to Disappear Completely",
          "Treefingers",
          "Optimistic",
          "In Limbo",
          "Idioteque",
          "Morning Bell",
          "Motion Picture Soundtrack",
          "Untitled",
          "Packt Like Sardines In a Crushd Tin Box",
          "Pyramid Song",
          "Pulk/Pull Revolving Doors",
          "You And Whose Army?",
          "I Might Be Wrong",
          "Knives Out",
          "Morning Bell/Amnesiac",
          "Dollars and Cents",
          "Hunting Bears",
          "Like Spinning Plates",
          "Life In a Glasshouse",
          "2 + 2 = 5",
          "Sit Down. Stand Up",
          "Sail To The Moon",
          "Backdrifts",
          "Go To Sleep",
          "Where I End and You Begin",
          "We Suck Young Blood",
          "The Gloaming",
          "There, There",
          "I Will",
          "A Punch Up at a Wedding",
          "Myxomatosis",
          "Scatterbrain",
          "A Wolf At the Door",
          "15 Step",
          "Bodysnatchers",
          "Nude",
          "Weird Fishes/ Arpeggi",
          "All I Need",
          "Faust Arp",
          "Reckoner",
          "House Of Cards",
          "Jigsaw Falling Into Place",
          "Videotape",
          "Bloom",
          "Morning Mr Magpie",
          "Little By Little",
          "Feral",
          "Lotus Flower",
          "Codex",
          "Give Up The Ghost",
          "Separator",
          "Burn the Witch",
          "Daydreaming",
          "Decks Dark",
          "Desert Island Disk",
          "Ful Stop",
          "Glass Eyes",
          "Identikit",
          "The Numbers",
          "Present Tense",
          "Tinker Tailor Soldier Sailor Rich Man Poor Man Beggar Man Thief",
          "True Love Waits"
         ],
         "legendgroup": "",
         "marker": {
          "color": "#636efa",
          "symbol": "circle"
         },
         "mode": "markers",
         "name": "",
         "orientation": "v",
         "showlegend": false,
         "type": "scatter",
         "x": [
          3.4777666666666667,
          3.977333333333333,
          2.2028833333333333,
          5.4271,
          2.6922166666666665,
          3.63,
          3.1622166666666667,
          3.2111,
          2.4228833333333335,
          4.218216666666667,
          3.1311,
          4.7011,
          4.32,
          4.1033333333333335,
          4.291333333333333,
          4.8451,
          3.15,
          3.8871,
          3.9133333333333336,
          4.6071,
          3.4788833333333335,
          4.117333333333334,
          3.716,
          4.230883333333334,
          4.798,
          6.45355,
          4.46155,
          4.4531,
          4.992666666666667,
          4.4011,
          1.95555,
          3.8437666666666668,
          4.753333333333333,
          3.8186666666666667,
          4.31355,
          5.442216666666667,
          4.190433333333333,
          4.741766666666667,
          5.86155,
          5.938883333333333,
          3.71,
          5.266216666666667,
          3.5166666666666666,
          5.15155,
          4.596666666666667,
          3.3413666666666666,
          0.8782333333333333,
          4.00555,
          4.812216666666667,
          4.1211,
          3.183333333333333,
          4.896216666666667,
          4.247766666666666,
          3.2377666666666665,
          4.862216666666667,
          2.02,
          3.9577666666666667,
          4.61155,
          3.3226666666666667,
          4.332883333333333,
          4.306,
          5.376666666666667,
          3.358433333333333,
          4.488216666666666,
          4.9451,
          3.5337666666666667,
          5.3933333333333335,
          1.9911,
          4.95555,
          3.87555,
          3.3617666666666666,
          3.35555,
          3.9548833333333335,
          4.038216666666667,
          4.256433333333334,
          5.3031,
          3.8124333333333333,
          2.1613166666666666,
          4.836883333333334,
          5.47155,
          4.148216666666666,
          4.660566666666667,
          5.22785,
          4.67865,
          4.452566666666667,
          3.2123666666666666,
          5.00365,
          4.784433333333333,
          4.83445,
          5.3208166666666665,
          3.676816666666667,
          6.4073,
          4.683516666666667,
          3.7449666666666666,
          6.122466666666667,
          2.88225,
          4.44405,
          5.764766666666667,
          5.109683333333333,
          5.061466666666667,
          4.724383333333333
         ],
         "xaxis": "x",
         "y": [
          54.03,
          30.98,
          43.27,
          51.46,
          64.3,
          65.1,
          46.36,
          61.03,
          50.17,
          46.93,
          63.37,
          45.58,
          37.96,
          49.05,
          37.95,
          35.88,
          60.47,
          60.51,
          48.59,
          80.17,
          30.11,
          42.82,
          84,
          37.14,
          83.5,
          46.36,
          54.91,
          27.17,
          26.97,
          40.05,
          80,
          52.32,
          38.95,
          33.56,
          41.4,
          30.31,
          34.23,
          40.2,
          61.6,
          42.91,
          33.79,
          75.03,
          68.12,
          70.68,
          60.61,
          23.83,
          35.41,
          56.05,
          27.78,
          40.81,
          37.73,
          71.46,
          44.43,
          44.26,
          24.49,
          35.13,
          47.29,
          28.9,
          53.31,
          70.05,
          33.45,
          72.62,
          84.51,
          67.06,
          25.39,
          32.35,
          79.44,
          39.82,
          66.42,
          74.59,
          46.35,
          54.28,
          100,
          89.27,
          37.79,
          33.85,
          37.33,
          46.29,
          46.95,
          70.03,
          89.21,
          29.23,
          54.9,
          62.78,
          68.87,
          90.32,
          67.98,
          31.25,
          1,
          77.15,
          73.01,
          34.99,
          48.25,
          42.24,
          43.92,
          34.26,
          44.11,
          30.78,
          44.34,
          25.9,
          5.08
         ],
         "yaxis": "y"
        },
        {
         "hovertemplate": "<b>OLS trendline</b><br>Gloom_Index = -1.05844 * Duration_mins + 54.4373<br>R<sup>2</sup>=0.003051<br><br>Duration of the Tracks=%{x}<br>Gloom Index=%{y} <b>(trend)</b><extra></extra>",
         "legendgroup": "",
         "marker": {
          "color": "#636efa",
          "symbol": "circle"
         },
         "mode": "lines",
         "name": "",
         "showlegend": false,
         "type": "scatter",
         "x": [
          0.8782333333333333,
          1.95555,
          1.9911,
          2.02,
          2.1613166666666666,
          2.2028833333333333,
          2.4228833333333335,
          2.6922166666666665,
          2.88225,
          3.1311,
          3.15,
          3.1622166666666667,
          3.183333333333333,
          3.2111,
          3.2123666666666666,
          3.2377666666666665,
          3.3226666666666667,
          3.3413666666666666,
          3.35555,
          3.358433333333333,
          3.3617666666666666,
          3.4777666666666667,
          3.4788833333333335,
          3.5166666666666666,
          3.5337666666666667,
          3.63,
          3.676816666666667,
          3.71,
          3.716,
          3.7449666666666666,
          3.8124333333333333,
          3.8186666666666667,
          3.8437666666666668,
          3.87555,
          3.8871,
          3.9133333333333336,
          3.9548833333333335,
          3.9577666666666667,
          3.977333333333333,
          4.00555,
          4.038216666666667,
          4.1033333333333335,
          4.117333333333334,
          4.1211,
          4.148216666666666,
          4.190433333333333,
          4.218216666666667,
          4.230883333333334,
          4.247766666666666,
          4.256433333333334,
          4.291333333333333,
          4.306,
          4.31355,
          4.32,
          4.332883333333333,
          4.4011,
          4.44405,
          4.452566666666667,
          4.4531,
          4.46155,
          4.488216666666666,
          4.596666666666667,
          4.6071,
          4.61155,
          4.660566666666667,
          4.67865,
          4.683516666666667,
          4.7011,
          4.724383333333333,
          4.741766666666667,
          4.753333333333333,
          4.784433333333333,
          4.798,
          4.812216666666667,
          4.83445,
          4.836883333333334,
          4.8451,
          4.862216666666667,
          4.896216666666667,
          4.9451,
          4.95555,
          4.992666666666667,
          5.00365,
          5.061466666666667,
          5.109683333333333,
          5.15155,
          5.22785,
          5.266216666666667,
          5.3031,
          5.3208166666666665,
          5.376666666666667,
          5.3933333333333335,
          5.4271,
          5.442216666666667,
          5.47155,
          5.764766666666667,
          5.86155,
          5.938883333333333,
          6.122466666666667,
          6.4073,
          6.45355
         ],
         "xaxis": "x",
         "y": [
          53.507692597234175,
          52.36741430802261,
          52.329786659220986,
          52.29919765639772,
          52.14962201917832,
          52.10562607163437,
          51.872768610696035,
          51.58769462821396,
          51.38655517597011,
          51.12316163435873,
          51.103157061578116,
          51.09022641620935,
          51.06787562810261,
          51.038486194017516,
          51.03714549954545,
          51.010261047237115,
          50.92039923617501,
          50.90060635199525,
          50.88559410205142,
          50.88254225805579,
          50.87901411470824,
          50.756234726213485,
          50.755052798192054,
          50.71506129334757,
          50.69696191797463,
          50.595104419530855,
          50.545551646214506,
          50.51042897918964,
          50.50407832116405,
          50.47341875547384,
          50.40200913411942,
          50.395411506059496,
          50.36884458665244,
          50.33520373983355,
          50.322978723134284,
          50.295212234989066,
          50.25123392816185,
          50.24818208416622,
          50.227471882716095,
          50.19760614927908,
          50.163030344473086,
          50.09410806417869,
          50.079289862118976,
          50.07530306013625,
          50.046601614003926,
          50.0019176785072,
          49.972510603705366,
          49.959103658984674,
          49.94123361292933,
          49.9320604402257,
          49.895120779376846,
          49.879596948647624,
          49.87160570396542,
          49.86477874658791,
          49.851142472549625,
          49.77893901894201,
          49.733478891908824,
          49.72446448565583,
          49.72389998272022,
          49.714956139334184,
          49.68673099255378,
          49.57194284874122,
          49.56089976006339,
          49.55618968869441,
          49.50430834076868,
          49.48516816310822,
          49.4800170738208,
          49.46140611766247,
          49.43676203637983,
          49.418362768822355,
          49.40612011140635,
          49.37320253397371,
          49.35884299054918,
          49.34379545917187,
          49.32026274304371,
          49.3176871984,
          49.308990325048285,
          49.290873308958616,
          49.254886246813605,
          49.20314602462177,
          49.19208529522721,
          49.15279941905223,
          49.141174186722054,
          49.07997854035879,
          49.02894394683647,
          48.98463046639124,
          48.90387126516581,
          48.863262335235504,
          48.82422342909486,
          48.80547134720263,
          48.74635730541442,
          48.72871658867667,
          48.69297649656598,
          48.67697636648484,
          48.64592870502639,
          48.33557557545912,
          48.233135933362995,
          48.151283007699824,
          47.95697051283348,
          47.655490663785294,
          47.60653767483804
         ],
         "yaxis": "y"
        }
       ],
       "layout": {
        "legend": {
         "tracegroupgap": 0
        },
        "template": {
         "data": {
          "bar": [
           {
            "error_x": {
             "color": "#f2f5fa"
            },
            "error_y": {
             "color": "#f2f5fa"
            },
            "marker": {
             "line": {
              "color": "rgb(17,17,17)",
              "width": 0.5
             },
             "pattern": {
              "fillmode": "overlay",
              "size": 10,
              "solidity": 0.2
             }
            },
            "type": "bar"
           }
          ],
          "barpolar": [
           {
            "marker": {
             "line": {
              "color": "rgb(17,17,17)",
              "width": 0.5
             },
             "pattern": {
              "fillmode": "overlay",
              "size": 10,
              "solidity": 0.2
             }
            },
            "type": "barpolar"
           }
          ],
          "carpet": [
           {
            "aaxis": {
             "endlinecolor": "#A2B1C6",
             "gridcolor": "#506784",
             "linecolor": "#506784",
             "minorgridcolor": "#506784",
             "startlinecolor": "#A2B1C6"
            },
            "baxis": {
             "endlinecolor": "#A2B1C6",
             "gridcolor": "#506784",
             "linecolor": "#506784",
             "minorgridcolor": "#506784",
             "startlinecolor": "#A2B1C6"
            },
            "type": "carpet"
           }
          ],
          "choropleth": [
           {
            "colorbar": {
             "outlinewidth": 0,
             "ticks": ""
            },
            "type": "choropleth"
           }
          ],
          "contour": [
           {
            "colorbar": {
             "outlinewidth": 0,
             "ticks": ""
            },
            "colorscale": [
             [
              0,
              "#0d0887"
             ],
             [
              0.1111111111111111,
              "#46039f"
             ],
             [
              0.2222222222222222,
              "#7201a8"
             ],
             [
              0.3333333333333333,
              "#9c179e"
             ],
             [
              0.4444444444444444,
              "#bd3786"
             ],
             [
              0.5555555555555556,
              "#d8576b"
             ],
             [
              0.6666666666666666,
              "#ed7953"
             ],
             [
              0.7777777777777778,
              "#fb9f3a"
             ],
             [
              0.8888888888888888,
              "#fdca26"
             ],
             [
              1,
              "#f0f921"
             ]
            ],
            "type": "contour"
           }
          ],
          "contourcarpet": [
           {
            "colorbar": {
             "outlinewidth": 0,
             "ticks": ""
            },
            "type": "contourcarpet"
           }
          ],
          "heatmap": [
           {
            "colorbar": {
             "outlinewidth": 0,
             "ticks": ""
            },
            "colorscale": [
             [
              0,
              "#0d0887"
             ],
             [
              0.1111111111111111,
              "#46039f"
             ],
             [
              0.2222222222222222,
              "#7201a8"
             ],
             [
              0.3333333333333333,
              "#9c179e"
             ],
             [
              0.4444444444444444,
              "#bd3786"
             ],
             [
              0.5555555555555556,
              "#d8576b"
             ],
             [
              0.6666666666666666,
              "#ed7953"
             ],
             [
              0.7777777777777778,
              "#fb9f3a"
             ],
             [
              0.8888888888888888,
              "#fdca26"
             ],
             [
              1,
              "#f0f921"
             ]
            ],
            "type": "heatmap"
           }
          ],
          "heatmapgl": [
           {
            "colorbar": {
             "outlinewidth": 0,
             "ticks": ""
            },
            "colorscale": [
             [
              0,
              "#0d0887"
             ],
             [
              0.1111111111111111,
              "#46039f"
             ],
             [
              0.2222222222222222,
              "#7201a8"
             ],
             [
              0.3333333333333333,
              "#9c179e"
             ],
             [
              0.4444444444444444,
              "#bd3786"
             ],
             [
              0.5555555555555556,
              "#d8576b"
             ],
             [
              0.6666666666666666,
              "#ed7953"
             ],
             [
              0.7777777777777778,
              "#fb9f3a"
             ],
             [
              0.8888888888888888,
              "#fdca26"
             ],
             [
              1,
              "#f0f921"
             ]
            ],
            "type": "heatmapgl"
           }
          ],
          "histogram": [
           {
            "marker": {
             "pattern": {
              "fillmode": "overlay",
              "size": 10,
              "solidity": 0.2
             }
            },
            "type": "histogram"
           }
          ],
          "histogram2d": [
           {
            "colorbar": {
             "outlinewidth": 0,
             "ticks": ""
            },
            "colorscale": [
             [
              0,
              "#0d0887"
             ],
             [
              0.1111111111111111,
              "#46039f"
             ],
             [
              0.2222222222222222,
              "#7201a8"
             ],
             [
              0.3333333333333333,
              "#9c179e"
             ],
             [
              0.4444444444444444,
              "#bd3786"
             ],
             [
              0.5555555555555556,
              "#d8576b"
             ],
             [
              0.6666666666666666,
              "#ed7953"
             ],
             [
              0.7777777777777778,
              "#fb9f3a"
             ],
             [
              0.8888888888888888,
              "#fdca26"
             ],
             [
              1,
              "#f0f921"
             ]
            ],
            "type": "histogram2d"
           }
          ],
          "histogram2dcontour": [
           {
            "colorbar": {
             "outlinewidth": 0,
             "ticks": ""
            },
            "colorscale": [
             [
              0,
              "#0d0887"
             ],
             [
              0.1111111111111111,
              "#46039f"
             ],
             [
              0.2222222222222222,
              "#7201a8"
             ],
             [
              0.3333333333333333,
              "#9c179e"
             ],
             [
              0.4444444444444444,
              "#bd3786"
             ],
             [
              0.5555555555555556,
              "#d8576b"
             ],
             [
              0.6666666666666666,
              "#ed7953"
             ],
             [
              0.7777777777777778,
              "#fb9f3a"
             ],
             [
              0.8888888888888888,
              "#fdca26"
             ],
             [
              1,
              "#f0f921"
             ]
            ],
            "type": "histogram2dcontour"
           }
          ],
          "mesh3d": [
           {
            "colorbar": {
             "outlinewidth": 0,
             "ticks": ""
            },
            "type": "mesh3d"
           }
          ],
          "parcoords": [
           {
            "line": {
             "colorbar": {
              "outlinewidth": 0,
              "ticks": ""
             }
            },
            "type": "parcoords"
           }
          ],
          "pie": [
           {
            "automargin": true,
            "type": "pie"
           }
          ],
          "scatter": [
           {
            "marker": {
             "line": {
              "color": "#283442"
             }
            },
            "type": "scatter"
           }
          ],
          "scatter3d": [
           {
            "line": {
             "colorbar": {
              "outlinewidth": 0,
              "ticks": ""
             }
            },
            "marker": {
             "colorbar": {
              "outlinewidth": 0,
              "ticks": ""
             }
            },
            "type": "scatter3d"
           }
          ],
          "scattercarpet": [
           {
            "marker": {
             "colorbar": {
              "outlinewidth": 0,
              "ticks": ""
             }
            },
            "type": "scattercarpet"
           }
          ],
          "scattergeo": [
           {
            "marker": {
             "colorbar": {
              "outlinewidth": 0,
              "ticks": ""
             }
            },
            "type": "scattergeo"
           }
          ],
          "scattergl": [
           {
            "marker": {
             "line": {
              "color": "#283442"
             }
            },
            "type": "scattergl"
           }
          ],
          "scattermapbox": [
           {
            "marker": {
             "colorbar": {
              "outlinewidth": 0,
              "ticks": ""
             }
            },
            "type": "scattermapbox"
           }
          ],
          "scatterpolar": [
           {
            "marker": {
             "colorbar": {
              "outlinewidth": 0,
              "ticks": ""
             }
            },
            "type": "scatterpolar"
           }
          ],
          "scatterpolargl": [
           {
            "marker": {
             "colorbar": {
              "outlinewidth": 0,
              "ticks": ""
             }
            },
            "type": "scatterpolargl"
           }
          ],
          "scatterternary": [
           {
            "marker": {
             "colorbar": {
              "outlinewidth": 0,
              "ticks": ""
             }
            },
            "type": "scatterternary"
           }
          ],
          "surface": [
           {
            "colorbar": {
             "outlinewidth": 0,
             "ticks": ""
            },
            "colorscale": [
             [
              0,
              "#0d0887"
             ],
             [
              0.1111111111111111,
              "#46039f"
             ],
             [
              0.2222222222222222,
              "#7201a8"
             ],
             [
              0.3333333333333333,
              "#9c179e"
             ],
             [
              0.4444444444444444,
              "#bd3786"
             ],
             [
              0.5555555555555556,
              "#d8576b"
             ],
             [
              0.6666666666666666,
              "#ed7953"
             ],
             [
              0.7777777777777778,
              "#fb9f3a"
             ],
             [
              0.8888888888888888,
              "#fdca26"
             ],
             [
              1,
              "#f0f921"
             ]
            ],
            "type": "surface"
           }
          ],
          "table": [
           {
            "cells": {
             "fill": {
              "color": "#506784"
             },
             "line": {
              "color": "rgb(17,17,17)"
             }
            },
            "header": {
             "fill": {
              "color": "#2a3f5f"
             },
             "line": {
              "color": "rgb(17,17,17)"
             }
            },
            "type": "table"
           }
          ]
         },
         "layout": {
          "annotationdefaults": {
           "arrowcolor": "#f2f5fa",
           "arrowhead": 0,
           "arrowwidth": 1
          },
          "autotypenumbers": "strict",
          "coloraxis": {
           "colorbar": {
            "outlinewidth": 0,
            "ticks": ""
           }
          },
          "colorscale": {
           "diverging": [
            [
             0,
             "#8e0152"
            ],
            [
             0.1,
             "#c51b7d"
            ],
            [
             0.2,
             "#de77ae"
            ],
            [
             0.3,
             "#f1b6da"
            ],
            [
             0.4,
             "#fde0ef"
            ],
            [
             0.5,
             "#f7f7f7"
            ],
            [
             0.6,
             "#e6f5d0"
            ],
            [
             0.7,
             "#b8e186"
            ],
            [
             0.8,
             "#7fbc41"
            ],
            [
             0.9,
             "#4d9221"
            ],
            [
             1,
             "#276419"
            ]
           ],
           "sequential": [
            [
             0,
             "#0d0887"
            ],
            [
             0.1111111111111111,
             "#46039f"
            ],
            [
             0.2222222222222222,
             "#7201a8"
            ],
            [
             0.3333333333333333,
             "#9c179e"
            ],
            [
             0.4444444444444444,
             "#bd3786"
            ],
            [
             0.5555555555555556,
             "#d8576b"
            ],
            [
             0.6666666666666666,
             "#ed7953"
            ],
            [
             0.7777777777777778,
             "#fb9f3a"
            ],
            [
             0.8888888888888888,
             "#fdca26"
            ],
            [
             1,
             "#f0f921"
            ]
           ],
           "sequentialminus": [
            [
             0,
             "#0d0887"
            ],
            [
             0.1111111111111111,
             "#46039f"
            ],
            [
             0.2222222222222222,
             "#7201a8"
            ],
            [
             0.3333333333333333,
             "#9c179e"
            ],
            [
             0.4444444444444444,
             "#bd3786"
            ],
            [
             0.5555555555555556,
             "#d8576b"
            ],
            [
             0.6666666666666666,
             "#ed7953"
            ],
            [
             0.7777777777777778,
             "#fb9f3a"
            ],
            [
             0.8888888888888888,
             "#fdca26"
            ],
            [
             1,
             "#f0f921"
            ]
           ]
          },
          "colorway": [
           "#636efa",
           "#EF553B",
           "#00cc96",
           "#ab63fa",
           "#FFA15A",
           "#19d3f3",
           "#FF6692",
           "#B6E880",
           "#FF97FF",
           "#FECB52"
          ],
          "font": {
           "color": "#f2f5fa"
          },
          "geo": {
           "bgcolor": "rgb(17,17,17)",
           "lakecolor": "rgb(17,17,17)",
           "landcolor": "rgb(17,17,17)",
           "showlakes": true,
           "showland": true,
           "subunitcolor": "#506784"
          },
          "hoverlabel": {
           "align": "left"
          },
          "hovermode": "closest",
          "mapbox": {
           "style": "dark"
          },
          "paper_bgcolor": "rgb(17,17,17)",
          "plot_bgcolor": "rgb(17,17,17)",
          "polar": {
           "angularaxis": {
            "gridcolor": "#506784",
            "linecolor": "#506784",
            "ticks": ""
           },
           "bgcolor": "rgb(17,17,17)",
           "radialaxis": {
            "gridcolor": "#506784",
            "linecolor": "#506784",
            "ticks": ""
           }
          },
          "scene": {
           "xaxis": {
            "backgroundcolor": "rgb(17,17,17)",
            "gridcolor": "#506784",
            "gridwidth": 2,
            "linecolor": "#506784",
            "showbackground": true,
            "ticks": "",
            "zerolinecolor": "#C8D4E3"
           },
           "yaxis": {
            "backgroundcolor": "rgb(17,17,17)",
            "gridcolor": "#506784",
            "gridwidth": 2,
            "linecolor": "#506784",
            "showbackground": true,
            "ticks": "",
            "zerolinecolor": "#C8D4E3"
           },
           "zaxis": {
            "backgroundcolor": "rgb(17,17,17)",
            "gridcolor": "#506784",
            "gridwidth": 2,
            "linecolor": "#506784",
            "showbackground": true,
            "ticks": "",
            "zerolinecolor": "#C8D4E3"
           }
          },
          "shapedefaults": {
           "line": {
            "color": "#f2f5fa"
           }
          },
          "sliderdefaults": {
           "bgcolor": "#C8D4E3",
           "bordercolor": "rgb(17,17,17)",
           "borderwidth": 1,
           "tickwidth": 0
          },
          "ternary": {
           "aaxis": {
            "gridcolor": "#506784",
            "linecolor": "#506784",
            "ticks": ""
           },
           "baxis": {
            "gridcolor": "#506784",
            "linecolor": "#506784",
            "ticks": ""
           },
           "bgcolor": "rgb(17,17,17)",
           "caxis": {
            "gridcolor": "#506784",
            "linecolor": "#506784",
            "ticks": ""
           }
          },
          "title": {
           "x": 0.05
          },
          "updatemenudefaults": {
           "bgcolor": "#506784",
           "borderwidth": 0
          },
          "xaxis": {
           "automargin": true,
           "gridcolor": "#283442",
           "linecolor": "#506784",
           "ticks": "",
           "title": {
            "standoff": 15
           },
           "zerolinecolor": "#283442",
           "zerolinewidth": 2
          },
          "yaxis": {
           "automargin": true,
           "gridcolor": "#283442",
           "linecolor": "#506784",
           "ticks": "",
           "title": {
            "standoff": 15
           },
           "zerolinecolor": "#283442",
           "zerolinewidth": 2
          }
         }
        },
        "title": {
         "text": "<b>Radiohead Tracks - Duration vs. Gloom</b><br>Longer songs might me a little sadder than shorter ones. Yet, the effect is marginal."
        },
        "xaxis": {
         "anchor": "y",
         "domain": [
          0,
          1
         ],
         "title": {
          "text": "Duration of the Tracks"
         }
        },
        "yaxis": {
         "anchor": "x",
         "domain": [
          0,
          1
         ],
         "title": {
          "text": "Gloom Index"
         }
        }
       }
      }
     },
     "metadata": {},
     "output_type": "display_data"
    }
   ],
   "source": [
    "#Plot Duration vs Gloom\n",
    "fig = px.scatter(df_radiohead_combined, x = 'Duration_mins',y= 'Gloom_Index',\n",
    "            labels={'Duration_mins':'Duration of the Tracks', 'Gloom_Index':'Gloom Index'},\n",
    "            title= '<b>Radiohead Tracks - Duration vs. Gloom</b><br>Longer songs might me a little sadder than shorter ones. Yet, the effect is marginal.',\n",
    "            template='plotly_dark', hover_name= 'Track', trendline= 'ols')\n",
    "\n",
    "fig.show()"
   ]
  },
  {
   "cell_type": "markdown",
   "id": "c525e77a",
   "metadata": {},
   "source": [
    "Maybe there is a slight effect. But this is to marginal to call it anyting. Which makes a lot of sense, if you think about it. Even a few chords or notes can build a sad song. The saddest story could consist of one sentence, if it only leaves enough room for projection. So as expected, there seems to be no correlation between duration and the gloom index ranking. Especially keeping in mind, that their entire catalogue is tilted towards the gloomy side in general."
   ]
  },
  {
   "cell_type": "markdown",
   "id": "a61ad289",
   "metadata": {},
   "source": [
    "### Do more lyrics make it more likely for a song to be gloomy?\n",
    "\n",
    "One could assume that more words sung might make a song sadder. Let's have a quick look:"
   ]
  },
  {
   "cell_type": "code",
   "execution_count": 150,
   "id": "2b7f1e22",
   "metadata": {},
   "outputs": [
    {
     "data": {
      "application/vnd.plotly.v1+json": {
       "config": {
        "plotlyServerURL": "https://plot.ly"
       },
       "data": [
        {
         "hovertemplate": "<b>%{hovertext}</b><br><br>Number of Words in Track=%{x}<br>Gloom Index=%{y}<extra></extra>",
         "hovertext": [
          "You",
          "Creep",
          "How Do You?",
          "Stop Whispering",
          "Thinking About You",
          "Anyone Can Play Guitar",
          "Ripcord",
          "Vegetable",
          "Prove Yourself",
          "I Can't",
          "Lurgee",
          "Blow Out",
          "Planet Telex",
          "The Bends",
          "High and Dry",
          "Fake Plastic Trees",
          "Bones",
          "(Nice Dream)",
          "Just",
          "My Iron Lung",
          "Bullet Proof ... I Wish I Was",
          "Black Star",
          "Sulk",
          "Street Spirit (Fade Out)",
          "Airbag",
          "Paranoid Android",
          "Subterranean Homesick Alien",
          "Exit Music (For A Film)",
          "Let Down",
          "Karma Police",
          "Fitter Happier",
          "Electioneering",
          "Climbing Up the Walls",
          "No Surprises",
          "Lucky",
          "The Tourist",
          "Everything In Its Right Place",
          "Kid A",
          "The National Anthem",
          "How to Disappear Completely",
          "Treefingers",
          "Optimistic",
          "In Limbo",
          "Idioteque",
          "Morning Bell",
          "Motion Picture Soundtrack",
          "Untitled",
          "Packt Like Sardines In a Crushd Tin Box",
          "Pyramid Song",
          "Pulk/Pull Revolving Doors",
          "You And Whose Army?",
          "I Might Be Wrong",
          "Knives Out",
          "Morning Bell/Amnesiac",
          "Dollars and Cents",
          "Hunting Bears",
          "Like Spinning Plates",
          "Life In a Glasshouse",
          "2 + 2 = 5",
          "Sit Down. Stand Up",
          "Sail To The Moon",
          "Backdrifts",
          "Go To Sleep",
          "Where I End and You Begin",
          "We Suck Young Blood",
          "The Gloaming",
          "There, There",
          "I Will",
          "A Punch Up at a Wedding",
          "Myxomatosis",
          "Scatterbrain",
          "A Wolf At the Door",
          "15 Step",
          "Bodysnatchers",
          "Nude",
          "Weird Fishes/ Arpeggi",
          "All I Need",
          "Faust Arp",
          "Reckoner",
          "House Of Cards",
          "Jigsaw Falling Into Place",
          "Videotape",
          "Bloom",
          "Morning Mr Magpie",
          "Little By Little",
          "Feral",
          "Lotus Flower",
          "Codex",
          "Give Up The Ghost",
          "Separator",
          "Burn the Witch",
          "Daydreaming",
          "Decks Dark",
          "Desert Island Disk",
          "Ful Stop",
          "Glass Eyes",
          "Identikit",
          "The Numbers",
          "Present Tense",
          "Tinker Tailor Soldier Sailor Rich Man Poor Man Beggar Man Thief",
          "True Love Waits"
         ],
         "legendgroup": "",
         "marker": {
          "color": "#636efa",
          "symbol": "circle"
         },
         "mode": "markers",
         "name": "",
         "orientation": "v",
         "showlegend": false,
         "type": "scatter",
         "x": [
          33,
          85,
          38,
          82,
          81,
          75,
          52,
          73,
          65,
          92,
          51,
          45,
          47,
          123,
          121,
          71,
          59,
          74,
          60,
          110,
          37,
          86,
          80,
          78,
          45,
          105,
          95,
          56,
          95,
          57,
          148,
          47,
          74,
          60,
          51,
          49,
          65,
          46,
          19,
          47,
          0,
          104,
          102,
          154,
          82,
          48,
          0,
          99,
          59,
          28,
          47,
          50,
          57,
          56,
          120,
          0,
          27,
          83,
          114,
          77,
          28,
          71,
          57,
          101,
          43,
          72,
          74,
          34,
          50,
          99,
          45,
          181,
          73,
          81,
          37,
          59,
          50,
          89,
          33,
          59,
          111,
          50,
          34,
          41,
          81,
          12,
          115,
          29,
          114,
          117,
          51,
          90,
          97,
          76,
          119,
          64,
          176,
          73,
          63,
          39,
          43
         ],
         "xaxis": "x",
         "y": [
          54.03,
          30.98,
          43.27,
          51.46,
          64.3,
          65.1,
          46.36,
          61.03,
          50.17,
          46.93,
          63.37,
          45.58,
          37.96,
          49.05,
          37.95,
          35.88,
          60.47,
          60.51,
          48.59,
          80.17,
          30.11,
          42.82,
          84,
          37.14,
          83.5,
          46.36,
          54.91,
          27.17,
          26.97,
          40.05,
          80,
          52.32,
          38.95,
          33.56,
          41.4,
          30.31,
          34.23,
          40.2,
          61.6,
          42.91,
          33.79,
          75.03,
          68.12,
          70.68,
          60.61,
          23.83,
          35.41,
          56.05,
          27.78,
          40.81,
          37.73,
          71.46,
          44.43,
          44.26,
          24.49,
          35.13,
          47.29,
          28.9,
          53.31,
          70.05,
          33.45,
          72.62,
          84.51,
          67.06,
          25.39,
          32.35,
          79.44,
          39.82,
          66.42,
          74.59,
          46.35,
          54.28,
          100,
          89.27,
          37.79,
          33.85,
          37.33,
          46.29,
          46.95,
          70.03,
          89.21,
          29.23,
          54.9,
          62.78,
          68.87,
          90.32,
          67.98,
          31.25,
          1,
          77.15,
          73.01,
          34.99,
          48.25,
          42.24,
          43.92,
          34.26,
          44.11,
          30.78,
          44.34,
          25.9,
          5.08
         ],
         "yaxis": "y"
        },
        {
         "hovertemplate": "<b>OLS trendline</b><br>Gloom_Index = 0.121823 * Total_Words + 41.5208<br>R<sup>2</sup>=0.047664<br><br>Number of Words in Track=%{x}<br>Gloom Index=%{y} <b>(trend)</b><extra></extra>",
         "legendgroup": "",
         "marker": {
          "color": "#636efa",
          "symbol": "circle"
         },
         "mode": "lines",
         "name": "",
         "showlegend": false,
         "type": "scatter",
         "x": [
          0,
          0,
          0,
          12,
          19,
          27,
          28,
          28,
          29,
          33,
          33,
          34,
          34,
          37,
          37,
          38,
          39,
          41,
          43,
          43,
          45,
          45,
          45,
          46,
          47,
          47,
          47,
          47,
          48,
          49,
          50,
          50,
          50,
          50,
          51,
          51,
          51,
          52,
          56,
          56,
          57,
          57,
          57,
          59,
          59,
          59,
          59,
          60,
          60,
          63,
          64,
          65,
          65,
          71,
          71,
          72,
          73,
          73,
          73,
          74,
          74,
          74,
          75,
          76,
          77,
          78,
          80,
          81,
          81,
          81,
          82,
          82,
          83,
          85,
          86,
          89,
          90,
          92,
          95,
          95,
          97,
          99,
          99,
          101,
          102,
          104,
          105,
          110,
          111,
          114,
          114,
          115,
          117,
          119,
          120,
          121,
          123,
          148,
          154,
          176,
          181
         ],
         "xaxis": "x",
         "y": [
          41.5207876035746,
          41.5207876035746,
          41.5207876035746,
          42.9826672079178,
          43.835430310451336,
          44.810016713346805,
          44.93184001370874,
          44.93184001370874,
          45.053663314070675,
          45.54095651551841,
          45.54095651551841,
          45.66277981588034,
          45.66277981588034,
          46.028249716966144,
          46.028249716966144,
          46.150073017328076,
          46.27189631769001,
          46.51554291841388,
          46.75918951913774,
          46.75918951913774,
          47.00283611986161,
          47.00283611986161,
          47.00283611986161,
          47.124659420223544,
          47.246482720585476,
          47.246482720585476,
          47.246482720585476,
          47.246482720585476,
          47.368306020947415,
          47.49012932130935,
          47.61195262167128,
          47.61195262167128,
          47.61195262167128,
          47.61195262167128,
          47.73377592203322,
          47.73377592203322,
          47.73377592203322,
          47.85559922239515,
          48.34289242384288,
          48.34289242384288,
          48.464715724204815,
          48.464715724204815,
          48.464715724204815,
          48.708362324928686,
          48.708362324928686,
          48.708362324928686,
          48.708362324928686,
          48.83018562529062,
          48.83018562529062,
          49.19565552637642,
          49.31747882673835,
          49.439302127100284,
          49.439302127100284,
          50.17024192927189,
          50.17024192927189,
          50.29206522963382,
          50.41388852999575,
          50.41388852999575,
          50.41388852999575,
          50.535711830357684,
          50.535711830357684,
          50.535711830357684,
          50.65753513071962,
          50.779358431081555,
          50.90118173144349,
          51.023005031805425,
          51.26665163252929,
          51.38847493289122,
          51.38847493289122,
          51.38847493289122,
          51.51029823325315,
          51.51029823325315,
          51.63212153361509,
          51.875768134338955,
          51.997591434700894,
          52.363061335786696,
          52.48488463614863,
          52.72853123687249,
          53.094001137958294,
          53.094001137958294,
          53.337647738682165,
          53.58129433940603,
          53.58129433940603,
          53.8249409401299,
          53.94676424049183,
          54.190410841215694,
          54.31223414157763,
          54.9213506433873,
          55.04317394374923,
          55.408643844835034,
          55.408643844835034,
          55.530467145196965,
          55.774113745920836,
          56.01776034664471,
          56.13958364700664,
          56.26140694736857,
          56.505053548092434,
          59.55063605714078,
          60.28157585931238,
          62.961688467274925,
          63.57080496908459
         ],
         "yaxis": "y"
        }
       ],
       "layout": {
        "legend": {
         "tracegroupgap": 0
        },
        "template": {
         "data": {
          "bar": [
           {
            "error_x": {
             "color": "#f2f5fa"
            },
            "error_y": {
             "color": "#f2f5fa"
            },
            "marker": {
             "line": {
              "color": "rgb(17,17,17)",
              "width": 0.5
             },
             "pattern": {
              "fillmode": "overlay",
              "size": 10,
              "solidity": 0.2
             }
            },
            "type": "bar"
           }
          ],
          "barpolar": [
           {
            "marker": {
             "line": {
              "color": "rgb(17,17,17)",
              "width": 0.5
             },
             "pattern": {
              "fillmode": "overlay",
              "size": 10,
              "solidity": 0.2
             }
            },
            "type": "barpolar"
           }
          ],
          "carpet": [
           {
            "aaxis": {
             "endlinecolor": "#A2B1C6",
             "gridcolor": "#506784",
             "linecolor": "#506784",
             "minorgridcolor": "#506784",
             "startlinecolor": "#A2B1C6"
            },
            "baxis": {
             "endlinecolor": "#A2B1C6",
             "gridcolor": "#506784",
             "linecolor": "#506784",
             "minorgridcolor": "#506784",
             "startlinecolor": "#A2B1C6"
            },
            "type": "carpet"
           }
          ],
          "choropleth": [
           {
            "colorbar": {
             "outlinewidth": 0,
             "ticks": ""
            },
            "type": "choropleth"
           }
          ],
          "contour": [
           {
            "colorbar": {
             "outlinewidth": 0,
             "ticks": ""
            },
            "colorscale": [
             [
              0,
              "#0d0887"
             ],
             [
              0.1111111111111111,
              "#46039f"
             ],
             [
              0.2222222222222222,
              "#7201a8"
             ],
             [
              0.3333333333333333,
              "#9c179e"
             ],
             [
              0.4444444444444444,
              "#bd3786"
             ],
             [
              0.5555555555555556,
              "#d8576b"
             ],
             [
              0.6666666666666666,
              "#ed7953"
             ],
             [
              0.7777777777777778,
              "#fb9f3a"
             ],
             [
              0.8888888888888888,
              "#fdca26"
             ],
             [
              1,
              "#f0f921"
             ]
            ],
            "type": "contour"
           }
          ],
          "contourcarpet": [
           {
            "colorbar": {
             "outlinewidth": 0,
             "ticks": ""
            },
            "type": "contourcarpet"
           }
          ],
          "heatmap": [
           {
            "colorbar": {
             "outlinewidth": 0,
             "ticks": ""
            },
            "colorscale": [
             [
              0,
              "#0d0887"
             ],
             [
              0.1111111111111111,
              "#46039f"
             ],
             [
              0.2222222222222222,
              "#7201a8"
             ],
             [
              0.3333333333333333,
              "#9c179e"
             ],
             [
              0.4444444444444444,
              "#bd3786"
             ],
             [
              0.5555555555555556,
              "#d8576b"
             ],
             [
              0.6666666666666666,
              "#ed7953"
             ],
             [
              0.7777777777777778,
              "#fb9f3a"
             ],
             [
              0.8888888888888888,
              "#fdca26"
             ],
             [
              1,
              "#f0f921"
             ]
            ],
            "type": "heatmap"
           }
          ],
          "heatmapgl": [
           {
            "colorbar": {
             "outlinewidth": 0,
             "ticks": ""
            },
            "colorscale": [
             [
              0,
              "#0d0887"
             ],
             [
              0.1111111111111111,
              "#46039f"
             ],
             [
              0.2222222222222222,
              "#7201a8"
             ],
             [
              0.3333333333333333,
              "#9c179e"
             ],
             [
              0.4444444444444444,
              "#bd3786"
             ],
             [
              0.5555555555555556,
              "#d8576b"
             ],
             [
              0.6666666666666666,
              "#ed7953"
             ],
             [
              0.7777777777777778,
              "#fb9f3a"
             ],
             [
              0.8888888888888888,
              "#fdca26"
             ],
             [
              1,
              "#f0f921"
             ]
            ],
            "type": "heatmapgl"
           }
          ],
          "histogram": [
           {
            "marker": {
             "pattern": {
              "fillmode": "overlay",
              "size": 10,
              "solidity": 0.2
             }
            },
            "type": "histogram"
           }
          ],
          "histogram2d": [
           {
            "colorbar": {
             "outlinewidth": 0,
             "ticks": ""
            },
            "colorscale": [
             [
              0,
              "#0d0887"
             ],
             [
              0.1111111111111111,
              "#46039f"
             ],
             [
              0.2222222222222222,
              "#7201a8"
             ],
             [
              0.3333333333333333,
              "#9c179e"
             ],
             [
              0.4444444444444444,
              "#bd3786"
             ],
             [
              0.5555555555555556,
              "#d8576b"
             ],
             [
              0.6666666666666666,
              "#ed7953"
             ],
             [
              0.7777777777777778,
              "#fb9f3a"
             ],
             [
              0.8888888888888888,
              "#fdca26"
             ],
             [
              1,
              "#f0f921"
             ]
            ],
            "type": "histogram2d"
           }
          ],
          "histogram2dcontour": [
           {
            "colorbar": {
             "outlinewidth": 0,
             "ticks": ""
            },
            "colorscale": [
             [
              0,
              "#0d0887"
             ],
             [
              0.1111111111111111,
              "#46039f"
             ],
             [
              0.2222222222222222,
              "#7201a8"
             ],
             [
              0.3333333333333333,
              "#9c179e"
             ],
             [
              0.4444444444444444,
              "#bd3786"
             ],
             [
              0.5555555555555556,
              "#d8576b"
             ],
             [
              0.6666666666666666,
              "#ed7953"
             ],
             [
              0.7777777777777778,
              "#fb9f3a"
             ],
             [
              0.8888888888888888,
              "#fdca26"
             ],
             [
              1,
              "#f0f921"
             ]
            ],
            "type": "histogram2dcontour"
           }
          ],
          "mesh3d": [
           {
            "colorbar": {
             "outlinewidth": 0,
             "ticks": ""
            },
            "type": "mesh3d"
           }
          ],
          "parcoords": [
           {
            "line": {
             "colorbar": {
              "outlinewidth": 0,
              "ticks": ""
             }
            },
            "type": "parcoords"
           }
          ],
          "pie": [
           {
            "automargin": true,
            "type": "pie"
           }
          ],
          "scatter": [
           {
            "marker": {
             "line": {
              "color": "#283442"
             }
            },
            "type": "scatter"
           }
          ],
          "scatter3d": [
           {
            "line": {
             "colorbar": {
              "outlinewidth": 0,
              "ticks": ""
             }
            },
            "marker": {
             "colorbar": {
              "outlinewidth": 0,
              "ticks": ""
             }
            },
            "type": "scatter3d"
           }
          ],
          "scattercarpet": [
           {
            "marker": {
             "colorbar": {
              "outlinewidth": 0,
              "ticks": ""
             }
            },
            "type": "scattercarpet"
           }
          ],
          "scattergeo": [
           {
            "marker": {
             "colorbar": {
              "outlinewidth": 0,
              "ticks": ""
             }
            },
            "type": "scattergeo"
           }
          ],
          "scattergl": [
           {
            "marker": {
             "line": {
              "color": "#283442"
             }
            },
            "type": "scattergl"
           }
          ],
          "scattermapbox": [
           {
            "marker": {
             "colorbar": {
              "outlinewidth": 0,
              "ticks": ""
             }
            },
            "type": "scattermapbox"
           }
          ],
          "scatterpolar": [
           {
            "marker": {
             "colorbar": {
              "outlinewidth": 0,
              "ticks": ""
             }
            },
            "type": "scatterpolar"
           }
          ],
          "scatterpolargl": [
           {
            "marker": {
             "colorbar": {
              "outlinewidth": 0,
              "ticks": ""
             }
            },
            "type": "scatterpolargl"
           }
          ],
          "scatterternary": [
           {
            "marker": {
             "colorbar": {
              "outlinewidth": 0,
              "ticks": ""
             }
            },
            "type": "scatterternary"
           }
          ],
          "surface": [
           {
            "colorbar": {
             "outlinewidth": 0,
             "ticks": ""
            },
            "colorscale": [
             [
              0,
              "#0d0887"
             ],
             [
              0.1111111111111111,
              "#46039f"
             ],
             [
              0.2222222222222222,
              "#7201a8"
             ],
             [
              0.3333333333333333,
              "#9c179e"
             ],
             [
              0.4444444444444444,
              "#bd3786"
             ],
             [
              0.5555555555555556,
              "#d8576b"
             ],
             [
              0.6666666666666666,
              "#ed7953"
             ],
             [
              0.7777777777777778,
              "#fb9f3a"
             ],
             [
              0.8888888888888888,
              "#fdca26"
             ],
             [
              1,
              "#f0f921"
             ]
            ],
            "type": "surface"
           }
          ],
          "table": [
           {
            "cells": {
             "fill": {
              "color": "#506784"
             },
             "line": {
              "color": "rgb(17,17,17)"
             }
            },
            "header": {
             "fill": {
              "color": "#2a3f5f"
             },
             "line": {
              "color": "rgb(17,17,17)"
             }
            },
            "type": "table"
           }
          ]
         },
         "layout": {
          "annotationdefaults": {
           "arrowcolor": "#f2f5fa",
           "arrowhead": 0,
           "arrowwidth": 1
          },
          "autotypenumbers": "strict",
          "coloraxis": {
           "colorbar": {
            "outlinewidth": 0,
            "ticks": ""
           }
          },
          "colorscale": {
           "diverging": [
            [
             0,
             "#8e0152"
            ],
            [
             0.1,
             "#c51b7d"
            ],
            [
             0.2,
             "#de77ae"
            ],
            [
             0.3,
             "#f1b6da"
            ],
            [
             0.4,
             "#fde0ef"
            ],
            [
             0.5,
             "#f7f7f7"
            ],
            [
             0.6,
             "#e6f5d0"
            ],
            [
             0.7,
             "#b8e186"
            ],
            [
             0.8,
             "#7fbc41"
            ],
            [
             0.9,
             "#4d9221"
            ],
            [
             1,
             "#276419"
            ]
           ],
           "sequential": [
            [
             0,
             "#0d0887"
            ],
            [
             0.1111111111111111,
             "#46039f"
            ],
            [
             0.2222222222222222,
             "#7201a8"
            ],
            [
             0.3333333333333333,
             "#9c179e"
            ],
            [
             0.4444444444444444,
             "#bd3786"
            ],
            [
             0.5555555555555556,
             "#d8576b"
            ],
            [
             0.6666666666666666,
             "#ed7953"
            ],
            [
             0.7777777777777778,
             "#fb9f3a"
            ],
            [
             0.8888888888888888,
             "#fdca26"
            ],
            [
             1,
             "#f0f921"
            ]
           ],
           "sequentialminus": [
            [
             0,
             "#0d0887"
            ],
            [
             0.1111111111111111,
             "#46039f"
            ],
            [
             0.2222222222222222,
             "#7201a8"
            ],
            [
             0.3333333333333333,
             "#9c179e"
            ],
            [
             0.4444444444444444,
             "#bd3786"
            ],
            [
             0.5555555555555556,
             "#d8576b"
            ],
            [
             0.6666666666666666,
             "#ed7953"
            ],
            [
             0.7777777777777778,
             "#fb9f3a"
            ],
            [
             0.8888888888888888,
             "#fdca26"
            ],
            [
             1,
             "#f0f921"
            ]
           ]
          },
          "colorway": [
           "#636efa",
           "#EF553B",
           "#00cc96",
           "#ab63fa",
           "#FFA15A",
           "#19d3f3",
           "#FF6692",
           "#B6E880",
           "#FF97FF",
           "#FECB52"
          ],
          "font": {
           "color": "#f2f5fa"
          },
          "geo": {
           "bgcolor": "rgb(17,17,17)",
           "lakecolor": "rgb(17,17,17)",
           "landcolor": "rgb(17,17,17)",
           "showlakes": true,
           "showland": true,
           "subunitcolor": "#506784"
          },
          "hoverlabel": {
           "align": "left"
          },
          "hovermode": "closest",
          "mapbox": {
           "style": "dark"
          },
          "paper_bgcolor": "rgb(17,17,17)",
          "plot_bgcolor": "rgb(17,17,17)",
          "polar": {
           "angularaxis": {
            "gridcolor": "#506784",
            "linecolor": "#506784",
            "ticks": ""
           },
           "bgcolor": "rgb(17,17,17)",
           "radialaxis": {
            "gridcolor": "#506784",
            "linecolor": "#506784",
            "ticks": ""
           }
          },
          "scene": {
           "xaxis": {
            "backgroundcolor": "rgb(17,17,17)",
            "gridcolor": "#506784",
            "gridwidth": 2,
            "linecolor": "#506784",
            "showbackground": true,
            "ticks": "",
            "zerolinecolor": "#C8D4E3"
           },
           "yaxis": {
            "backgroundcolor": "rgb(17,17,17)",
            "gridcolor": "#506784",
            "gridwidth": 2,
            "linecolor": "#506784",
            "showbackground": true,
            "ticks": "",
            "zerolinecolor": "#C8D4E3"
           },
           "zaxis": {
            "backgroundcolor": "rgb(17,17,17)",
            "gridcolor": "#506784",
            "gridwidth": 2,
            "linecolor": "#506784",
            "showbackground": true,
            "ticks": "",
            "zerolinecolor": "#C8D4E3"
           }
          },
          "shapedefaults": {
           "line": {
            "color": "#f2f5fa"
           }
          },
          "sliderdefaults": {
           "bgcolor": "#C8D4E3",
           "bordercolor": "rgb(17,17,17)",
           "borderwidth": 1,
           "tickwidth": 0
          },
          "ternary": {
           "aaxis": {
            "gridcolor": "#506784",
            "linecolor": "#506784",
            "ticks": ""
           },
           "baxis": {
            "gridcolor": "#506784",
            "linecolor": "#506784",
            "ticks": ""
           },
           "bgcolor": "rgb(17,17,17)",
           "caxis": {
            "gridcolor": "#506784",
            "linecolor": "#506784",
            "ticks": ""
           }
          },
          "title": {
           "x": 0.05
          },
          "updatemenudefaults": {
           "bgcolor": "#506784",
           "borderwidth": 0
          },
          "xaxis": {
           "automargin": true,
           "gridcolor": "#283442",
           "linecolor": "#506784",
           "ticks": "",
           "title": {
            "standoff": 15
           },
           "zerolinecolor": "#283442",
           "zerolinewidth": 2
          },
          "yaxis": {
           "automargin": true,
           "gridcolor": "#283442",
           "linecolor": "#506784",
           "ticks": "",
           "title": {
            "standoff": 15
           },
           "zerolinecolor": "#283442",
           "zerolinewidth": 2
          }
         }
        },
        "title": {
         "text": "<b>Radiohead Tracks - Number of Words vs. Gloom</b><br>The bands does not need many words to create a sad song exerience."
        },
        "xaxis": {
         "anchor": "y",
         "domain": [
          0,
          1
         ],
         "title": {
          "text": "Number of Words in Track"
         }
        },
        "yaxis": {
         "anchor": "x",
         "domain": [
          0,
          1
         ],
         "title": {
          "text": "Gloom Index"
         }
        }
       }
      }
     },
     "metadata": {},
     "output_type": "display_data"
    }
   ],
   "source": [
    "#Plot Number of Words vs Gloom\n",
    "fig = px.scatter(df_radiohead_combined, x = 'Total_Words',y= 'Gloom_Index',\n",
    "            labels={'Total_Words':'Number of Words in Track', 'Gloom_Index':'Gloom Index'},\n",
    "            title= '<b>Radiohead Tracks - Number of Words vs. Gloom</b><br>The bands does not need many words to create a sad song exerience.',\n",
    "            template='plotly_dark', hover_name= 'Track', trendline= 'ols')\n",
    "\n",
    "fig.show()"
   ]
  },
  {
   "cell_type": "markdown",
   "id": "b53305a8",
   "metadata": {},
   "source": [
    "Interesting tendency here - the more lyrics we find in a Radiohead song the more likely it gets that it is one of the happier ones. Again, the effect does not look like something I would much stock in. However, it shows that that Thom Yorke is an expert in painting sad images even with the smallest amount of words."
   ]
  },
  {
   "cell_type": "markdown",
   "id": "7921587a",
   "metadata": {},
   "source": [
    "## Let's translate this work into playlists\n",
    "\n",
    "With this lengthy look at the band's discography, we can try to translate our findings into playlists that could offer you numbers-based song suggestions depending on your mood.\n",
    "\n",
    "If you are looking for gut-wrenching time full of heartache, sorrow and despair, the data would suggest these ten songs:\n",
    "\n",
    "\n"
   ]
  },
  {
   "cell_type": "code",
   "execution_count": 156,
   "id": "dfb4084e",
   "metadata": {},
   "outputs": [
    {
     "data": {
      "text/html": [
       "<div>\n",
       "<style scoped>\n",
       "    .dataframe tbody tr th:only-of-type {\n",
       "        vertical-align: middle;\n",
       "    }\n",
       "\n",
       "    .dataframe tbody tr th {\n",
       "        vertical-align: top;\n",
       "    }\n",
       "\n",
       "    .dataframe thead th {\n",
       "        text-align: right;\n",
       "    }\n",
       "</style>\n",
       "<table border=\"1\" class=\"dataframe\">\n",
       "  <thead>\n",
       "    <tr style=\"text-align: right;\">\n",
       "      <th></th>\n",
       "      <th>Artist</th>\n",
       "      <th>Album</th>\n",
       "      <th>Track</th>\n",
       "      <th>TrackNumber_On_Album</th>\n",
       "      <th>Duration_ms</th>\n",
       "      <th>ReleaseYear</th>\n",
       "      <th>Valence</th>\n",
       "      <th>Energy</th>\n",
       "      <th>Danceability</th>\n",
       "      <th>Acousticness</th>\n",
       "      <th>...</th>\n",
       "      <th>Key</th>\n",
       "      <th>Mode</th>\n",
       "      <th>TimeSignature</th>\n",
       "      <th>Lyrics</th>\n",
       "      <th>Total_Words</th>\n",
       "      <th>Sad_Words</th>\n",
       "      <th>Pct_Sad_Words</th>\n",
       "      <th>Lyrical_Density</th>\n",
       "      <th>Duration_mins</th>\n",
       "      <th>Gloom_Index</th>\n",
       "    </tr>\n",
       "  </thead>\n",
       "  <tbody>\n",
       "    <tr>\n",
       "      <th>88</th>\n",
       "      <td>Radiohead</td>\n",
       "      <td>The King Of Limbs</td>\n",
       "      <td>Give Up The Ghost</td>\n",
       "      <td>7</td>\n",
       "      <td>290067</td>\n",
       "      <td>2011</td>\n",
       "      <td>0.1570</td>\n",
       "      <td>0.262</td>\n",
       "      <td>0.305</td>\n",
       "      <td>0.886000</td>\n",
       "      <td>...</td>\n",
       "      <td>7</td>\n",
       "      <td>1</td>\n",
       "      <td>4</td>\n",
       "      <td>dont hurt me dont hurt me dont hurt me dont hu...</td>\n",
       "      <td>114.0</td>\n",
       "      <td>40.0</td>\n",
       "      <td>0.350877</td>\n",
       "      <td>0.393013</td>\n",
       "      <td>4.834450</td>\n",
       "      <td>1.00</td>\n",
       "    </tr>\n",
       "    <tr>\n",
       "      <th>100</th>\n",
       "      <td>Radiohead</td>\n",
       "      <td>A Moon Shaped Pool</td>\n",
       "      <td>True Love Waits</td>\n",
       "      <td>11</td>\n",
       "      <td>283463</td>\n",
       "      <td>2016</td>\n",
       "      <td>0.0381</td>\n",
       "      <td>0.132</td>\n",
       "      <td>0.401</td>\n",
       "      <td>0.938000</td>\n",
       "      <td>...</td>\n",
       "      <td>0</td>\n",
       "      <td>1</td>\n",
       "      <td>4</td>\n",
       "      <td>ill drown my beliefs to have your babies ill d...</td>\n",
       "      <td>43.0</td>\n",
       "      <td>12.0</td>\n",
       "      <td>0.279070</td>\n",
       "      <td>0.151695</td>\n",
       "      <td>4.724383</td>\n",
       "      <td>5.08</td>\n",
       "    </tr>\n",
       "    <tr>\n",
       "      <th>45</th>\n",
       "      <td>Radiohead</td>\n",
       "      <td>Kid A</td>\n",
       "      <td>Motion Picture Soundtrack</td>\n",
       "      <td>10</td>\n",
       "      <td>200482</td>\n",
       "      <td>2000</td>\n",
       "      <td>0.0427</td>\n",
       "      <td>0.130</td>\n",
       "      <td>0.112</td>\n",
       "      <td>0.921000</td>\n",
       "      <td>...</td>\n",
       "      <td>7</td>\n",
       "      <td>1</td>\n",
       "      <td>4</td>\n",
       "      <td>red wine and sleeping pills help me get back t...</td>\n",
       "      <td>48.0</td>\n",
       "      <td>4.0</td>\n",
       "      <td>0.083333</td>\n",
       "      <td>0.239423</td>\n",
       "      <td>3.341367</td>\n",
       "      <td>23.83</td>\n",
       "    </tr>\n",
       "    <tr>\n",
       "      <th>54</th>\n",
       "      <td>Radiohead</td>\n",
       "      <td>Amnesiac</td>\n",
       "      <td>Dollars and Cents</td>\n",
       "      <td>8</td>\n",
       "      <td>291733</td>\n",
       "      <td>2001</td>\n",
       "      <td>0.0883</td>\n",
       "      <td>0.565</td>\n",
       "      <td>0.327</td>\n",
       "      <td>0.395000</td>\n",
       "      <td>...</td>\n",
       "      <td>7</td>\n",
       "      <td>1</td>\n",
       "      <td>4</td>\n",
       "      <td>there are better things to talk about be const...</td>\n",
       "      <td>120.0</td>\n",
       "      <td>12.0</td>\n",
       "      <td>0.100000</td>\n",
       "      <td>0.411335</td>\n",
       "      <td>4.862217</td>\n",
       "      <td>24.49</td>\n",
       "    </tr>\n",
       "    <tr>\n",
       "      <th>64</th>\n",
       "      <td>Radiohead</td>\n",
       "      <td>Hail To the Thief</td>\n",
       "      <td>We Suck Young Blood</td>\n",
       "      <td>7</td>\n",
       "      <td>296706</td>\n",
       "      <td>2003</td>\n",
       "      <td>0.0378</td>\n",
       "      <td>0.239</td>\n",
       "      <td>0.164</td>\n",
       "      <td>0.878000</td>\n",
       "      <td>...</td>\n",
       "      <td>3</td>\n",
       "      <td>0</td>\n",
       "      <td>4</td>\n",
       "      <td>are you hungry are you sick are you begging fo...</td>\n",
       "      <td>43.0</td>\n",
       "      <td>3.0</td>\n",
       "      <td>0.069767</td>\n",
       "      <td>0.144925</td>\n",
       "      <td>4.945100</td>\n",
       "      <td>25.39</td>\n",
       "    </tr>\n",
       "    <tr>\n",
       "      <th>99</th>\n",
       "      <td>Radiohead</td>\n",
       "      <td>A Moon Shaped Pool</td>\n",
       "      <td>Tinker Tailor Soldier Sailor Rich Man Poor Man...</td>\n",
       "      <td>10</td>\n",
       "      <td>303688</td>\n",
       "      <td>2016</td>\n",
       "      <td>0.0508</td>\n",
       "      <td>0.436</td>\n",
       "      <td>0.355</td>\n",
       "      <td>0.730000</td>\n",
       "      <td>...</td>\n",
       "      <td>11</td>\n",
       "      <td>1</td>\n",
       "      <td>4</td>\n",
       "      <td>all the holes at once are comin alive set free...</td>\n",
       "      <td>39.0</td>\n",
       "      <td>3.0</td>\n",
       "      <td>0.076923</td>\n",
       "      <td>0.128421</td>\n",
       "      <td>5.061467</td>\n",
       "      <td>25.90</td>\n",
       "    </tr>\n",
       "    <tr>\n",
       "      <th>28</th>\n",
       "      <td>Radiohead</td>\n",
       "      <td>OK Computer</td>\n",
       "      <td>Let Down</td>\n",
       "      <td>5</td>\n",
       "      <td>299560</td>\n",
       "      <td>1997</td>\n",
       "      <td>0.1430</td>\n",
       "      <td>0.676</td>\n",
       "      <td>0.351</td>\n",
       "      <td>0.000121</td>\n",
       "      <td>...</td>\n",
       "      <td>9</td>\n",
       "      <td>1</td>\n",
       "      <td>4</td>\n",
       "      <td>transport motorways and tramlines starting and...</td>\n",
       "      <td>95.0</td>\n",
       "      <td>12.0</td>\n",
       "      <td>0.126316</td>\n",
       "      <td>0.317132</td>\n",
       "      <td>4.992667</td>\n",
       "      <td>26.97</td>\n",
       "    </tr>\n",
       "    <tr>\n",
       "      <th>27</th>\n",
       "      <td>Radiohead</td>\n",
       "      <td>OK Computer</td>\n",
       "      <td>Exit Music (For A Film)</td>\n",
       "      <td>4</td>\n",
       "      <td>267186</td>\n",
       "      <td>1997</td>\n",
       "      <td>0.1950</td>\n",
       "      <td>0.276</td>\n",
       "      <td>0.293</td>\n",
       "      <td>0.224000</td>\n",
       "      <td>...</td>\n",
       "      <td>4</td>\n",
       "      <td>0</td>\n",
       "      <td>4</td>\n",
       "      <td>wake from your sleep the drying of your tears ...</td>\n",
       "      <td>56.0</td>\n",
       "      <td>10.0</td>\n",
       "      <td>0.178571</td>\n",
       "      <td>0.209592</td>\n",
       "      <td>4.453100</td>\n",
       "      <td>27.17</td>\n",
       "    </tr>\n",
       "    <tr>\n",
       "      <th>48</th>\n",
       "      <td>Radiohead</td>\n",
       "      <td>Amnesiac</td>\n",
       "      <td>Pyramid Song</td>\n",
       "      <td>2</td>\n",
       "      <td>288733</td>\n",
       "      <td>2001</td>\n",
       "      <td>0.0679</td>\n",
       "      <td>0.336</td>\n",
       "      <td>0.120</td>\n",
       "      <td>0.786000</td>\n",
       "      <td>...</td>\n",
       "      <td>11</td>\n",
       "      <td>0</td>\n",
       "      <td>4</td>\n",
       "      <td>i jumped in the river and what did i see black...</td>\n",
       "      <td>59.0</td>\n",
       "      <td>4.0</td>\n",
       "      <td>0.067797</td>\n",
       "      <td>0.204341</td>\n",
       "      <td>4.812217</td>\n",
       "      <td>27.78</td>\n",
       "    </tr>\n",
       "    <tr>\n",
       "      <th>57</th>\n",
       "      <td>Radiohead</td>\n",
       "      <td>Amnesiac</td>\n",
       "      <td>Life In a Glasshouse</td>\n",
       "      <td>11</td>\n",
       "      <td>276693</td>\n",
       "      <td>2001</td>\n",
       "      <td>0.0466</td>\n",
       "      <td>0.397</td>\n",
       "      <td>0.252</td>\n",
       "      <td>0.728000</td>\n",
       "      <td>...</td>\n",
       "      <td>7</td>\n",
       "      <td>0</td>\n",
       "      <td>4</td>\n",
       "      <td>once again im in trouble with my only friend s...</td>\n",
       "      <td>83.0</td>\n",
       "      <td>3.0</td>\n",
       "      <td>0.036145</td>\n",
       "      <td>0.299971</td>\n",
       "      <td>4.611550</td>\n",
       "      <td>28.90</td>\n",
       "    </tr>\n",
       "  </tbody>\n",
       "</table>\n",
       "<p>10 rows × 24 columns</p>\n",
       "</div>"
      ],
      "text/plain": [
       "        Artist               Album   \n",
       "88   Radiohead   The King Of Limbs  \\\n",
       "100  Radiohead  A Moon Shaped Pool   \n",
       "45   Radiohead               Kid A   \n",
       "54   Radiohead            Amnesiac   \n",
       "64   Radiohead   Hail To the Thief   \n",
       "99   Radiohead  A Moon Shaped Pool   \n",
       "28   Radiohead         OK Computer   \n",
       "27   Radiohead         OK Computer   \n",
       "48   Radiohead            Amnesiac   \n",
       "57   Radiohead            Amnesiac   \n",
       "\n",
       "                                                 Track  TrackNumber_On_Album   \n",
       "88                                   Give Up The Ghost                     7  \\\n",
       "100                                    True Love Waits                    11   \n",
       "45                           Motion Picture Soundtrack                    10   \n",
       "54                                   Dollars and Cents                     8   \n",
       "64                                 We Suck Young Blood                     7   \n",
       "99   Tinker Tailor Soldier Sailor Rich Man Poor Man...                    10   \n",
       "28                                            Let Down                     5   \n",
       "27                             Exit Music (For A Film)                     4   \n",
       "48                                        Pyramid Song                     2   \n",
       "57                                Life In a Glasshouse                    11   \n",
       "\n",
       "     Duration_ms  ReleaseYear  Valence  Energy  Danceability  Acousticness   \n",
       "88        290067         2011   0.1570   0.262         0.305      0.886000  \\\n",
       "100       283463         2016   0.0381   0.132         0.401      0.938000   \n",
       "45        200482         2000   0.0427   0.130         0.112      0.921000   \n",
       "54        291733         2001   0.0883   0.565         0.327      0.395000   \n",
       "64        296706         2003   0.0378   0.239         0.164      0.878000   \n",
       "99        303688         2016   0.0508   0.436         0.355      0.730000   \n",
       "28        299560         1997   0.1430   0.676         0.351      0.000121   \n",
       "27        267186         1997   0.1950   0.276         0.293      0.224000   \n",
       "48        288733         2001   0.0679   0.336         0.120      0.786000   \n",
       "57        276693         2001   0.0466   0.397         0.252      0.728000   \n",
       "\n",
       "     ...  Key  Mode  TimeSignature   \n",
       "88   ...    7     1              4  \\\n",
       "100  ...    0     1              4   \n",
       "45   ...    7     1              4   \n",
       "54   ...    7     1              4   \n",
       "64   ...    3     0              4   \n",
       "99   ...   11     1              4   \n",
       "28   ...    9     1              4   \n",
       "27   ...    4     0              4   \n",
       "48   ...   11     0              4   \n",
       "57   ...    7     0              4   \n",
       "\n",
       "                                                Lyrics  Total_Words   \n",
       "88   dont hurt me dont hurt me dont hurt me dont hu...        114.0  \\\n",
       "100  ill drown my beliefs to have your babies ill d...         43.0   \n",
       "45   red wine and sleeping pills help me get back t...         48.0   \n",
       "54   there are better things to talk about be const...        120.0   \n",
       "64   are you hungry are you sick are you begging fo...         43.0   \n",
       "99   all the holes at once are comin alive set free...         39.0   \n",
       "28   transport motorways and tramlines starting and...         95.0   \n",
       "27   wake from your sleep the drying of your tears ...         56.0   \n",
       "48   i jumped in the river and what did i see black...         59.0   \n",
       "57   once again im in trouble with my only friend s...         83.0   \n",
       "\n",
       "     Sad_Words  Pct_Sad_Words Lyrical_Density  Duration_mins  Gloom_Index  \n",
       "88        40.0       0.350877        0.393013       4.834450         1.00  \n",
       "100       12.0       0.279070        0.151695       4.724383         5.08  \n",
       "45         4.0       0.083333        0.239423       3.341367        23.83  \n",
       "54        12.0       0.100000        0.411335       4.862217        24.49  \n",
       "64         3.0       0.069767        0.144925       4.945100        25.39  \n",
       "99         3.0       0.076923        0.128421       5.061467        25.90  \n",
       "28        12.0       0.126316        0.317132       4.992667        26.97  \n",
       "27        10.0       0.178571        0.209592       4.453100        27.17  \n",
       "48         4.0       0.067797        0.204341       4.812217        27.78  \n",
       "57         3.0       0.036145        0.299971       4.611550        28.90  \n",
       "\n",
       "[10 rows x 24 columns]"
      ]
     },
     "execution_count": 156,
     "metadata": {},
     "output_type": "execute_result"
    }
   ],
   "source": [
    "df_radiohead.sort_values('Gloom_Index').head(10)\n"
   ]
  },
  {
   "cell_type": "code",
   "execution_count": 151,
   "id": "ab3bbfc9",
   "metadata": {},
   "outputs": [
    {
     "data": {
      "application/vnd.plotly.v1+json": {
       "config": {
        "plotlyServerURL": "https://plot.ly"
       },
       "data": [
        {
         "hovertemplate": "<b>%{hovertext}</b><br><br>Gloom Index=%{x}<br>Track Name=%{y}<extra></extra>",
         "hovertext": [
          "Life In a Glasshouse",
          "Pyramid Song",
          "Exit Music (For A Film)",
          "Let Down",
          "Tinker Tailor Soldier Sailor Rich Man Poor Man Beggar Man Thief",
          "We Suck Young Blood",
          "Dollars and Cents",
          "Motion Picture Soundtrack",
          "True Love Waits",
          "Give Up The Ghost"
         ],
         "legendgroup": "",
         "marker": {
          "color": "#636efa",
          "symbol": "circle"
         },
         "mode": "markers",
         "name": "",
         "orientation": "h",
         "showlegend": false,
         "type": "scatter",
         "x": [
          28.9,
          27.78,
          27.17,
          26.97,
          25.9,
          25.39,
          24.49,
          23.83,
          5.08,
          1
         ],
         "xaxis": "x",
         "y": [
          "Life In a Glasshouse",
          "Pyramid Song",
          "Exit Music (For A Film)",
          "Let Down",
          "Tinker Tailor Soldier Sailor Rich Man Poor Man Beggar Man Thief",
          "We Suck Young Blood",
          "Dollars and Cents",
          "Motion Picture Soundtrack",
          "True Love Waits",
          "Give Up The Ghost"
         ],
         "yaxis": "y"
        }
       ],
       "layout": {
        "legend": {
         "tracegroupgap": 0
        },
        "template": {
         "data": {
          "bar": [
           {
            "error_x": {
             "color": "#f2f5fa"
            },
            "error_y": {
             "color": "#f2f5fa"
            },
            "marker": {
             "line": {
              "color": "rgb(17,17,17)",
              "width": 0.5
             },
             "pattern": {
              "fillmode": "overlay",
              "size": 10,
              "solidity": 0.2
             }
            },
            "type": "bar"
           }
          ],
          "barpolar": [
           {
            "marker": {
             "line": {
              "color": "rgb(17,17,17)",
              "width": 0.5
             },
             "pattern": {
              "fillmode": "overlay",
              "size": 10,
              "solidity": 0.2
             }
            },
            "type": "barpolar"
           }
          ],
          "carpet": [
           {
            "aaxis": {
             "endlinecolor": "#A2B1C6",
             "gridcolor": "#506784",
             "linecolor": "#506784",
             "minorgridcolor": "#506784",
             "startlinecolor": "#A2B1C6"
            },
            "baxis": {
             "endlinecolor": "#A2B1C6",
             "gridcolor": "#506784",
             "linecolor": "#506784",
             "minorgridcolor": "#506784",
             "startlinecolor": "#A2B1C6"
            },
            "type": "carpet"
           }
          ],
          "choropleth": [
           {
            "colorbar": {
             "outlinewidth": 0,
             "ticks": ""
            },
            "type": "choropleth"
           }
          ],
          "contour": [
           {
            "colorbar": {
             "outlinewidth": 0,
             "ticks": ""
            },
            "colorscale": [
             [
              0,
              "#0d0887"
             ],
             [
              0.1111111111111111,
              "#46039f"
             ],
             [
              0.2222222222222222,
              "#7201a8"
             ],
             [
              0.3333333333333333,
              "#9c179e"
             ],
             [
              0.4444444444444444,
              "#bd3786"
             ],
             [
              0.5555555555555556,
              "#d8576b"
             ],
             [
              0.6666666666666666,
              "#ed7953"
             ],
             [
              0.7777777777777778,
              "#fb9f3a"
             ],
             [
              0.8888888888888888,
              "#fdca26"
             ],
             [
              1,
              "#f0f921"
             ]
            ],
            "type": "contour"
           }
          ],
          "contourcarpet": [
           {
            "colorbar": {
             "outlinewidth": 0,
             "ticks": ""
            },
            "type": "contourcarpet"
           }
          ],
          "heatmap": [
           {
            "colorbar": {
             "outlinewidth": 0,
             "ticks": ""
            },
            "colorscale": [
             [
              0,
              "#0d0887"
             ],
             [
              0.1111111111111111,
              "#46039f"
             ],
             [
              0.2222222222222222,
              "#7201a8"
             ],
             [
              0.3333333333333333,
              "#9c179e"
             ],
             [
              0.4444444444444444,
              "#bd3786"
             ],
             [
              0.5555555555555556,
              "#d8576b"
             ],
             [
              0.6666666666666666,
              "#ed7953"
             ],
             [
              0.7777777777777778,
              "#fb9f3a"
             ],
             [
              0.8888888888888888,
              "#fdca26"
             ],
             [
              1,
              "#f0f921"
             ]
            ],
            "type": "heatmap"
           }
          ],
          "heatmapgl": [
           {
            "colorbar": {
             "outlinewidth": 0,
             "ticks": ""
            },
            "colorscale": [
             [
              0,
              "#0d0887"
             ],
             [
              0.1111111111111111,
              "#46039f"
             ],
             [
              0.2222222222222222,
              "#7201a8"
             ],
             [
              0.3333333333333333,
              "#9c179e"
             ],
             [
              0.4444444444444444,
              "#bd3786"
             ],
             [
              0.5555555555555556,
              "#d8576b"
             ],
             [
              0.6666666666666666,
              "#ed7953"
             ],
             [
              0.7777777777777778,
              "#fb9f3a"
             ],
             [
              0.8888888888888888,
              "#fdca26"
             ],
             [
              1,
              "#f0f921"
             ]
            ],
            "type": "heatmapgl"
           }
          ],
          "histogram": [
           {
            "marker": {
             "pattern": {
              "fillmode": "overlay",
              "size": 10,
              "solidity": 0.2
             }
            },
            "type": "histogram"
           }
          ],
          "histogram2d": [
           {
            "colorbar": {
             "outlinewidth": 0,
             "ticks": ""
            },
            "colorscale": [
             [
              0,
              "#0d0887"
             ],
             [
              0.1111111111111111,
              "#46039f"
             ],
             [
              0.2222222222222222,
              "#7201a8"
             ],
             [
              0.3333333333333333,
              "#9c179e"
             ],
             [
              0.4444444444444444,
              "#bd3786"
             ],
             [
              0.5555555555555556,
              "#d8576b"
             ],
             [
              0.6666666666666666,
              "#ed7953"
             ],
             [
              0.7777777777777778,
              "#fb9f3a"
             ],
             [
              0.8888888888888888,
              "#fdca26"
             ],
             [
              1,
              "#f0f921"
             ]
            ],
            "type": "histogram2d"
           }
          ],
          "histogram2dcontour": [
           {
            "colorbar": {
             "outlinewidth": 0,
             "ticks": ""
            },
            "colorscale": [
             [
              0,
              "#0d0887"
             ],
             [
              0.1111111111111111,
              "#46039f"
             ],
             [
              0.2222222222222222,
              "#7201a8"
             ],
             [
              0.3333333333333333,
              "#9c179e"
             ],
             [
              0.4444444444444444,
              "#bd3786"
             ],
             [
              0.5555555555555556,
              "#d8576b"
             ],
             [
              0.6666666666666666,
              "#ed7953"
             ],
             [
              0.7777777777777778,
              "#fb9f3a"
             ],
             [
              0.8888888888888888,
              "#fdca26"
             ],
             [
              1,
              "#f0f921"
             ]
            ],
            "type": "histogram2dcontour"
           }
          ],
          "mesh3d": [
           {
            "colorbar": {
             "outlinewidth": 0,
             "ticks": ""
            },
            "type": "mesh3d"
           }
          ],
          "parcoords": [
           {
            "line": {
             "colorbar": {
              "outlinewidth": 0,
              "ticks": ""
             }
            },
            "type": "parcoords"
           }
          ],
          "pie": [
           {
            "automargin": true,
            "type": "pie"
           }
          ],
          "scatter": [
           {
            "marker": {
             "line": {
              "color": "#283442"
             }
            },
            "type": "scatter"
           }
          ],
          "scatter3d": [
           {
            "line": {
             "colorbar": {
              "outlinewidth": 0,
              "ticks": ""
             }
            },
            "marker": {
             "colorbar": {
              "outlinewidth": 0,
              "ticks": ""
             }
            },
            "type": "scatter3d"
           }
          ],
          "scattercarpet": [
           {
            "marker": {
             "colorbar": {
              "outlinewidth": 0,
              "ticks": ""
             }
            },
            "type": "scattercarpet"
           }
          ],
          "scattergeo": [
           {
            "marker": {
             "colorbar": {
              "outlinewidth": 0,
              "ticks": ""
             }
            },
            "type": "scattergeo"
           }
          ],
          "scattergl": [
           {
            "marker": {
             "line": {
              "color": "#283442"
             }
            },
            "type": "scattergl"
           }
          ],
          "scattermapbox": [
           {
            "marker": {
             "colorbar": {
              "outlinewidth": 0,
              "ticks": ""
             }
            },
            "type": "scattermapbox"
           }
          ],
          "scatterpolar": [
           {
            "marker": {
             "colorbar": {
              "outlinewidth": 0,
              "ticks": ""
             }
            },
            "type": "scatterpolar"
           }
          ],
          "scatterpolargl": [
           {
            "marker": {
             "colorbar": {
              "outlinewidth": 0,
              "ticks": ""
             }
            },
            "type": "scatterpolargl"
           }
          ],
          "scatterternary": [
           {
            "marker": {
             "colorbar": {
              "outlinewidth": 0,
              "ticks": ""
             }
            },
            "type": "scatterternary"
           }
          ],
          "surface": [
           {
            "colorbar": {
             "outlinewidth": 0,
             "ticks": ""
            },
            "colorscale": [
             [
              0,
              "#0d0887"
             ],
             [
              0.1111111111111111,
              "#46039f"
             ],
             [
              0.2222222222222222,
              "#7201a8"
             ],
             [
              0.3333333333333333,
              "#9c179e"
             ],
             [
              0.4444444444444444,
              "#bd3786"
             ],
             [
              0.5555555555555556,
              "#d8576b"
             ],
             [
              0.6666666666666666,
              "#ed7953"
             ],
             [
              0.7777777777777778,
              "#fb9f3a"
             ],
             [
              0.8888888888888888,
              "#fdca26"
             ],
             [
              1,
              "#f0f921"
             ]
            ],
            "type": "surface"
           }
          ],
          "table": [
           {
            "cells": {
             "fill": {
              "color": "#506784"
             },
             "line": {
              "color": "rgb(17,17,17)"
             }
            },
            "header": {
             "fill": {
              "color": "#2a3f5f"
             },
             "line": {
              "color": "rgb(17,17,17)"
             }
            },
            "type": "table"
           }
          ]
         },
         "layout": {
          "annotationdefaults": {
           "arrowcolor": "#f2f5fa",
           "arrowhead": 0,
           "arrowwidth": 1
          },
          "autotypenumbers": "strict",
          "coloraxis": {
           "colorbar": {
            "outlinewidth": 0,
            "ticks": ""
           }
          },
          "colorscale": {
           "diverging": [
            [
             0,
             "#8e0152"
            ],
            [
             0.1,
             "#c51b7d"
            ],
            [
             0.2,
             "#de77ae"
            ],
            [
             0.3,
             "#f1b6da"
            ],
            [
             0.4,
             "#fde0ef"
            ],
            [
             0.5,
             "#f7f7f7"
            ],
            [
             0.6,
             "#e6f5d0"
            ],
            [
             0.7,
             "#b8e186"
            ],
            [
             0.8,
             "#7fbc41"
            ],
            [
             0.9,
             "#4d9221"
            ],
            [
             1,
             "#276419"
            ]
           ],
           "sequential": [
            [
             0,
             "#0d0887"
            ],
            [
             0.1111111111111111,
             "#46039f"
            ],
            [
             0.2222222222222222,
             "#7201a8"
            ],
            [
             0.3333333333333333,
             "#9c179e"
            ],
            [
             0.4444444444444444,
             "#bd3786"
            ],
            [
             0.5555555555555556,
             "#d8576b"
            ],
            [
             0.6666666666666666,
             "#ed7953"
            ],
            [
             0.7777777777777778,
             "#fb9f3a"
            ],
            [
             0.8888888888888888,
             "#fdca26"
            ],
            [
             1,
             "#f0f921"
            ]
           ],
           "sequentialminus": [
            [
             0,
             "#0d0887"
            ],
            [
             0.1111111111111111,
             "#46039f"
            ],
            [
             0.2222222222222222,
             "#7201a8"
            ],
            [
             0.3333333333333333,
             "#9c179e"
            ],
            [
             0.4444444444444444,
             "#bd3786"
            ],
            [
             0.5555555555555556,
             "#d8576b"
            ],
            [
             0.6666666666666666,
             "#ed7953"
            ],
            [
             0.7777777777777778,
             "#fb9f3a"
            ],
            [
             0.8888888888888888,
             "#fdca26"
            ],
            [
             1,
             "#f0f921"
            ]
           ]
          },
          "colorway": [
           "#636efa",
           "#EF553B",
           "#00cc96",
           "#ab63fa",
           "#FFA15A",
           "#19d3f3",
           "#FF6692",
           "#B6E880",
           "#FF97FF",
           "#FECB52"
          ],
          "font": {
           "color": "#f2f5fa"
          },
          "geo": {
           "bgcolor": "rgb(17,17,17)",
           "lakecolor": "rgb(17,17,17)",
           "landcolor": "rgb(17,17,17)",
           "showlakes": true,
           "showland": true,
           "subunitcolor": "#506784"
          },
          "hoverlabel": {
           "align": "left"
          },
          "hovermode": "closest",
          "mapbox": {
           "style": "dark"
          },
          "paper_bgcolor": "rgb(17,17,17)",
          "plot_bgcolor": "rgb(17,17,17)",
          "polar": {
           "angularaxis": {
            "gridcolor": "#506784",
            "linecolor": "#506784",
            "ticks": ""
           },
           "bgcolor": "rgb(17,17,17)",
           "radialaxis": {
            "gridcolor": "#506784",
            "linecolor": "#506784",
            "ticks": ""
           }
          },
          "scene": {
           "xaxis": {
            "backgroundcolor": "rgb(17,17,17)",
            "gridcolor": "#506784",
            "gridwidth": 2,
            "linecolor": "#506784",
            "showbackground": true,
            "ticks": "",
            "zerolinecolor": "#C8D4E3"
           },
           "yaxis": {
            "backgroundcolor": "rgb(17,17,17)",
            "gridcolor": "#506784",
            "gridwidth": 2,
            "linecolor": "#506784",
            "showbackground": true,
            "ticks": "",
            "zerolinecolor": "#C8D4E3"
           },
           "zaxis": {
            "backgroundcolor": "rgb(17,17,17)",
            "gridcolor": "#506784",
            "gridwidth": 2,
            "linecolor": "#506784",
            "showbackground": true,
            "ticks": "",
            "zerolinecolor": "#C8D4E3"
           }
          },
          "shapedefaults": {
           "line": {
            "color": "#f2f5fa"
           }
          },
          "sliderdefaults": {
           "bgcolor": "#C8D4E3",
           "bordercolor": "rgb(17,17,17)",
           "borderwidth": 1,
           "tickwidth": 0
          },
          "ternary": {
           "aaxis": {
            "gridcolor": "#506784",
            "linecolor": "#506784",
            "ticks": ""
           },
           "baxis": {
            "gridcolor": "#506784",
            "linecolor": "#506784",
            "ticks": ""
           },
           "bgcolor": "rgb(17,17,17)",
           "caxis": {
            "gridcolor": "#506784",
            "linecolor": "#506784",
            "ticks": ""
           }
          },
          "title": {
           "x": 0.05
          },
          "updatemenudefaults": {
           "bgcolor": "#506784",
           "borderwidth": 0
          },
          "xaxis": {
           "automargin": true,
           "gridcolor": "#283442",
           "linecolor": "#506784",
           "ticks": "",
           "title": {
            "standoff": 15
           },
           "zerolinecolor": "#283442",
           "zerolinewidth": 2
          },
          "yaxis": {
           "automargin": true,
           "gridcolor": "#283442",
           "linecolor": "#506784",
           "ticks": "",
           "title": {
            "standoff": 15
           },
           "zerolinecolor": "#283442",
           "zerolinewidth": 2
          }
         }
        },
        "title": {
         "text": "<b>The Ultimate Radiohead Playlist</b><br>The Numbers-Based Sadness Edition"
        },
        "width": 1000,
        "xaxis": {
         "anchor": "y",
         "domain": [
          0,
          1
         ],
         "title": {
          "text": "Gloom Index"
         }
        },
        "yaxis": {
         "anchor": "x",
         "domain": [
          0,
          1
         ],
         "title": {
          "text": "Track Name"
         }
        }
       }
      }
     },
     "metadata": {},
     "output_type": "display_data"
    }
   ],
   "source": [
    "#Data Prep\n",
    "df_radiohead_sad_playlist = df_radiohead.sort_values('Gloom_Index').head(10)\n",
    "df_radiohead_sad_playlist = df_radiohead_sad_playlist.sort_values('Gloom_Index', ascending=False)\n",
    "\n",
    "#Plot Sad Plalist\n",
    "fig = px.scatter(df_radiohead_sad_playlist, x= 'Gloom_Index', y = 'Track',\n",
    "            labels={'Track':'Track Name', 'Gloom_Index':'Gloom Index'},\n",
    "            title= '<b>The Ultimate Radiohead Playlist</b><br>The Numbers-Based Sadness Edition',\n",
    "            template='plotly_dark', hover_name= 'Track', width= 1000)\n",
    "\n",
    "fig.show()"
   ]
  },
  {
   "cell_type": "markdown",
   "id": "d0f7cc27",
   "metadata": {},
   "source": []
  },
  {
   "cell_type": "markdown",
   "id": "627b1481",
   "metadata": {},
   "source": [
    "If you are looking for more positivity and also danceability, then the data points you this way. According to the numbers, these are the least sad songs of the band:\n",
    "\n"
   ]
  },
  {
   "cell_type": "code",
   "execution_count": 152,
   "id": "390c5461",
   "metadata": {},
   "outputs": [
    {
     "data": {
      "application/vnd.plotly.v1+json": {
       "config": {
        "plotlyServerURL": "https://plot.ly"
       },
       "data": [
        {
         "hovertemplate": "<b>%{hovertext}</b><br><br>Gloom Index=%{x}<br>Track Name=%{y}<extra></extra>",
         "hovertext": [
          "There, There",
          "Fitter Happier",
          "My Iron Lung",
          "Airbag",
          "Sulk",
          "Go To Sleep",
          "Jigsaw Falling Into Place",
          "Bodysnatchers",
          "Feral",
          "15 Step"
         ],
         "legendgroup": "",
         "marker": {
          "color": "yellow",
          "symbol": "circle"
         },
         "mode": "markers",
         "name": "",
         "orientation": "h",
         "showlegend": false,
         "type": "scatter",
         "x": [
          79.44,
          80,
          80.17,
          83.5,
          84,
          84.51,
          89.21,
          89.27,
          90.32,
          100
         ],
         "xaxis": "x",
         "y": [
          "There, There",
          "Fitter Happier",
          "My Iron Lung",
          "Airbag",
          "Sulk",
          "Go To Sleep",
          "Jigsaw Falling Into Place",
          "Bodysnatchers",
          "Feral",
          "15 Step"
         ],
         "yaxis": "y"
        }
       ],
       "layout": {
        "legend": {
         "tracegroupgap": 0
        },
        "template": {
         "data": {
          "bar": [
           {
            "error_x": {
             "color": "#f2f5fa"
            },
            "error_y": {
             "color": "#f2f5fa"
            },
            "marker": {
             "line": {
              "color": "rgb(17,17,17)",
              "width": 0.5
             },
             "pattern": {
              "fillmode": "overlay",
              "size": 10,
              "solidity": 0.2
             }
            },
            "type": "bar"
           }
          ],
          "barpolar": [
           {
            "marker": {
             "line": {
              "color": "rgb(17,17,17)",
              "width": 0.5
             },
             "pattern": {
              "fillmode": "overlay",
              "size": 10,
              "solidity": 0.2
             }
            },
            "type": "barpolar"
           }
          ],
          "carpet": [
           {
            "aaxis": {
             "endlinecolor": "#A2B1C6",
             "gridcolor": "#506784",
             "linecolor": "#506784",
             "minorgridcolor": "#506784",
             "startlinecolor": "#A2B1C6"
            },
            "baxis": {
             "endlinecolor": "#A2B1C6",
             "gridcolor": "#506784",
             "linecolor": "#506784",
             "minorgridcolor": "#506784",
             "startlinecolor": "#A2B1C6"
            },
            "type": "carpet"
           }
          ],
          "choropleth": [
           {
            "colorbar": {
             "outlinewidth": 0,
             "ticks": ""
            },
            "type": "choropleth"
           }
          ],
          "contour": [
           {
            "colorbar": {
             "outlinewidth": 0,
             "ticks": ""
            },
            "colorscale": [
             [
              0,
              "#0d0887"
             ],
             [
              0.1111111111111111,
              "#46039f"
             ],
             [
              0.2222222222222222,
              "#7201a8"
             ],
             [
              0.3333333333333333,
              "#9c179e"
             ],
             [
              0.4444444444444444,
              "#bd3786"
             ],
             [
              0.5555555555555556,
              "#d8576b"
             ],
             [
              0.6666666666666666,
              "#ed7953"
             ],
             [
              0.7777777777777778,
              "#fb9f3a"
             ],
             [
              0.8888888888888888,
              "#fdca26"
             ],
             [
              1,
              "#f0f921"
             ]
            ],
            "type": "contour"
           }
          ],
          "contourcarpet": [
           {
            "colorbar": {
             "outlinewidth": 0,
             "ticks": ""
            },
            "type": "contourcarpet"
           }
          ],
          "heatmap": [
           {
            "colorbar": {
             "outlinewidth": 0,
             "ticks": ""
            },
            "colorscale": [
             [
              0,
              "#0d0887"
             ],
             [
              0.1111111111111111,
              "#46039f"
             ],
             [
              0.2222222222222222,
              "#7201a8"
             ],
             [
              0.3333333333333333,
              "#9c179e"
             ],
             [
              0.4444444444444444,
              "#bd3786"
             ],
             [
              0.5555555555555556,
              "#d8576b"
             ],
             [
              0.6666666666666666,
              "#ed7953"
             ],
             [
              0.7777777777777778,
              "#fb9f3a"
             ],
             [
              0.8888888888888888,
              "#fdca26"
             ],
             [
              1,
              "#f0f921"
             ]
            ],
            "type": "heatmap"
           }
          ],
          "heatmapgl": [
           {
            "colorbar": {
             "outlinewidth": 0,
             "ticks": ""
            },
            "colorscale": [
             [
              0,
              "#0d0887"
             ],
             [
              0.1111111111111111,
              "#46039f"
             ],
             [
              0.2222222222222222,
              "#7201a8"
             ],
             [
              0.3333333333333333,
              "#9c179e"
             ],
             [
              0.4444444444444444,
              "#bd3786"
             ],
             [
              0.5555555555555556,
              "#d8576b"
             ],
             [
              0.6666666666666666,
              "#ed7953"
             ],
             [
              0.7777777777777778,
              "#fb9f3a"
             ],
             [
              0.8888888888888888,
              "#fdca26"
             ],
             [
              1,
              "#f0f921"
             ]
            ],
            "type": "heatmapgl"
           }
          ],
          "histogram": [
           {
            "marker": {
             "pattern": {
              "fillmode": "overlay",
              "size": 10,
              "solidity": 0.2
             }
            },
            "type": "histogram"
           }
          ],
          "histogram2d": [
           {
            "colorbar": {
             "outlinewidth": 0,
             "ticks": ""
            },
            "colorscale": [
             [
              0,
              "#0d0887"
             ],
             [
              0.1111111111111111,
              "#46039f"
             ],
             [
              0.2222222222222222,
              "#7201a8"
             ],
             [
              0.3333333333333333,
              "#9c179e"
             ],
             [
              0.4444444444444444,
              "#bd3786"
             ],
             [
              0.5555555555555556,
              "#d8576b"
             ],
             [
              0.6666666666666666,
              "#ed7953"
             ],
             [
              0.7777777777777778,
              "#fb9f3a"
             ],
             [
              0.8888888888888888,
              "#fdca26"
             ],
             [
              1,
              "#f0f921"
             ]
            ],
            "type": "histogram2d"
           }
          ],
          "histogram2dcontour": [
           {
            "colorbar": {
             "outlinewidth": 0,
             "ticks": ""
            },
            "colorscale": [
             [
              0,
              "#0d0887"
             ],
             [
              0.1111111111111111,
              "#46039f"
             ],
             [
              0.2222222222222222,
              "#7201a8"
             ],
             [
              0.3333333333333333,
              "#9c179e"
             ],
             [
              0.4444444444444444,
              "#bd3786"
             ],
             [
              0.5555555555555556,
              "#d8576b"
             ],
             [
              0.6666666666666666,
              "#ed7953"
             ],
             [
              0.7777777777777778,
              "#fb9f3a"
             ],
             [
              0.8888888888888888,
              "#fdca26"
             ],
             [
              1,
              "#f0f921"
             ]
            ],
            "type": "histogram2dcontour"
           }
          ],
          "mesh3d": [
           {
            "colorbar": {
             "outlinewidth": 0,
             "ticks": ""
            },
            "type": "mesh3d"
           }
          ],
          "parcoords": [
           {
            "line": {
             "colorbar": {
              "outlinewidth": 0,
              "ticks": ""
             }
            },
            "type": "parcoords"
           }
          ],
          "pie": [
           {
            "automargin": true,
            "type": "pie"
           }
          ],
          "scatter": [
           {
            "marker": {
             "line": {
              "color": "#283442"
             }
            },
            "type": "scatter"
           }
          ],
          "scatter3d": [
           {
            "line": {
             "colorbar": {
              "outlinewidth": 0,
              "ticks": ""
             }
            },
            "marker": {
             "colorbar": {
              "outlinewidth": 0,
              "ticks": ""
             }
            },
            "type": "scatter3d"
           }
          ],
          "scattercarpet": [
           {
            "marker": {
             "colorbar": {
              "outlinewidth": 0,
              "ticks": ""
             }
            },
            "type": "scattercarpet"
           }
          ],
          "scattergeo": [
           {
            "marker": {
             "colorbar": {
              "outlinewidth": 0,
              "ticks": ""
             }
            },
            "type": "scattergeo"
           }
          ],
          "scattergl": [
           {
            "marker": {
             "line": {
              "color": "#283442"
             }
            },
            "type": "scattergl"
           }
          ],
          "scattermapbox": [
           {
            "marker": {
             "colorbar": {
              "outlinewidth": 0,
              "ticks": ""
             }
            },
            "type": "scattermapbox"
           }
          ],
          "scatterpolar": [
           {
            "marker": {
             "colorbar": {
              "outlinewidth": 0,
              "ticks": ""
             }
            },
            "type": "scatterpolar"
           }
          ],
          "scatterpolargl": [
           {
            "marker": {
             "colorbar": {
              "outlinewidth": 0,
              "ticks": ""
             }
            },
            "type": "scatterpolargl"
           }
          ],
          "scatterternary": [
           {
            "marker": {
             "colorbar": {
              "outlinewidth": 0,
              "ticks": ""
             }
            },
            "type": "scatterternary"
           }
          ],
          "surface": [
           {
            "colorbar": {
             "outlinewidth": 0,
             "ticks": ""
            },
            "colorscale": [
             [
              0,
              "#0d0887"
             ],
             [
              0.1111111111111111,
              "#46039f"
             ],
             [
              0.2222222222222222,
              "#7201a8"
             ],
             [
              0.3333333333333333,
              "#9c179e"
             ],
             [
              0.4444444444444444,
              "#bd3786"
             ],
             [
              0.5555555555555556,
              "#d8576b"
             ],
             [
              0.6666666666666666,
              "#ed7953"
             ],
             [
              0.7777777777777778,
              "#fb9f3a"
             ],
             [
              0.8888888888888888,
              "#fdca26"
             ],
             [
              1,
              "#f0f921"
             ]
            ],
            "type": "surface"
           }
          ],
          "table": [
           {
            "cells": {
             "fill": {
              "color": "#506784"
             },
             "line": {
              "color": "rgb(17,17,17)"
             }
            },
            "header": {
             "fill": {
              "color": "#2a3f5f"
             },
             "line": {
              "color": "rgb(17,17,17)"
             }
            },
            "type": "table"
           }
          ]
         },
         "layout": {
          "annotationdefaults": {
           "arrowcolor": "#f2f5fa",
           "arrowhead": 0,
           "arrowwidth": 1
          },
          "autotypenumbers": "strict",
          "coloraxis": {
           "colorbar": {
            "outlinewidth": 0,
            "ticks": ""
           }
          },
          "colorscale": {
           "diverging": [
            [
             0,
             "#8e0152"
            ],
            [
             0.1,
             "#c51b7d"
            ],
            [
             0.2,
             "#de77ae"
            ],
            [
             0.3,
             "#f1b6da"
            ],
            [
             0.4,
             "#fde0ef"
            ],
            [
             0.5,
             "#f7f7f7"
            ],
            [
             0.6,
             "#e6f5d0"
            ],
            [
             0.7,
             "#b8e186"
            ],
            [
             0.8,
             "#7fbc41"
            ],
            [
             0.9,
             "#4d9221"
            ],
            [
             1,
             "#276419"
            ]
           ],
           "sequential": [
            [
             0,
             "#0d0887"
            ],
            [
             0.1111111111111111,
             "#46039f"
            ],
            [
             0.2222222222222222,
             "#7201a8"
            ],
            [
             0.3333333333333333,
             "#9c179e"
            ],
            [
             0.4444444444444444,
             "#bd3786"
            ],
            [
             0.5555555555555556,
             "#d8576b"
            ],
            [
             0.6666666666666666,
             "#ed7953"
            ],
            [
             0.7777777777777778,
             "#fb9f3a"
            ],
            [
             0.8888888888888888,
             "#fdca26"
            ],
            [
             1,
             "#f0f921"
            ]
           ],
           "sequentialminus": [
            [
             0,
             "#0d0887"
            ],
            [
             0.1111111111111111,
             "#46039f"
            ],
            [
             0.2222222222222222,
             "#7201a8"
            ],
            [
             0.3333333333333333,
             "#9c179e"
            ],
            [
             0.4444444444444444,
             "#bd3786"
            ],
            [
             0.5555555555555556,
             "#d8576b"
            ],
            [
             0.6666666666666666,
             "#ed7953"
            ],
            [
             0.7777777777777778,
             "#fb9f3a"
            ],
            [
             0.8888888888888888,
             "#fdca26"
            ],
            [
             1,
             "#f0f921"
            ]
           ]
          },
          "colorway": [
           "#636efa",
           "#EF553B",
           "#00cc96",
           "#ab63fa",
           "#FFA15A",
           "#19d3f3",
           "#FF6692",
           "#B6E880",
           "#FF97FF",
           "#FECB52"
          ],
          "font": {
           "color": "#f2f5fa"
          },
          "geo": {
           "bgcolor": "rgb(17,17,17)",
           "lakecolor": "rgb(17,17,17)",
           "landcolor": "rgb(17,17,17)",
           "showlakes": true,
           "showland": true,
           "subunitcolor": "#506784"
          },
          "hoverlabel": {
           "align": "left"
          },
          "hovermode": "closest",
          "mapbox": {
           "style": "dark"
          },
          "paper_bgcolor": "rgb(17,17,17)",
          "plot_bgcolor": "rgb(17,17,17)",
          "polar": {
           "angularaxis": {
            "gridcolor": "#506784",
            "linecolor": "#506784",
            "ticks": ""
           },
           "bgcolor": "rgb(17,17,17)",
           "radialaxis": {
            "gridcolor": "#506784",
            "linecolor": "#506784",
            "ticks": ""
           }
          },
          "scene": {
           "xaxis": {
            "backgroundcolor": "rgb(17,17,17)",
            "gridcolor": "#506784",
            "gridwidth": 2,
            "linecolor": "#506784",
            "showbackground": true,
            "ticks": "",
            "zerolinecolor": "#C8D4E3"
           },
           "yaxis": {
            "backgroundcolor": "rgb(17,17,17)",
            "gridcolor": "#506784",
            "gridwidth": 2,
            "linecolor": "#506784",
            "showbackground": true,
            "ticks": "",
            "zerolinecolor": "#C8D4E3"
           },
           "zaxis": {
            "backgroundcolor": "rgb(17,17,17)",
            "gridcolor": "#506784",
            "gridwidth": 2,
            "linecolor": "#506784",
            "showbackground": true,
            "ticks": "",
            "zerolinecolor": "#C8D4E3"
           }
          },
          "shapedefaults": {
           "line": {
            "color": "#f2f5fa"
           }
          },
          "sliderdefaults": {
           "bgcolor": "#C8D4E3",
           "bordercolor": "rgb(17,17,17)",
           "borderwidth": 1,
           "tickwidth": 0
          },
          "ternary": {
           "aaxis": {
            "gridcolor": "#506784",
            "linecolor": "#506784",
            "ticks": ""
           },
           "baxis": {
            "gridcolor": "#506784",
            "linecolor": "#506784",
            "ticks": ""
           },
           "bgcolor": "rgb(17,17,17)",
           "caxis": {
            "gridcolor": "#506784",
            "linecolor": "#506784",
            "ticks": ""
           }
          },
          "title": {
           "x": 0.05
          },
          "updatemenudefaults": {
           "bgcolor": "#506784",
           "borderwidth": 0
          },
          "xaxis": {
           "automargin": true,
           "gridcolor": "#283442",
           "linecolor": "#506784",
           "ticks": "",
           "title": {
            "standoff": 15
           },
           "zerolinecolor": "#283442",
           "zerolinewidth": 2
          },
          "yaxis": {
           "automargin": true,
           "gridcolor": "#283442",
           "linecolor": "#506784",
           "ticks": "",
           "title": {
            "standoff": 15
           },
           "zerolinecolor": "#283442",
           "zerolinewidth": 2
          }
         }
        },
        "title": {
         "text": "<b>The Ultimate Radiohead Playlist</b><br>The Numbers-Based Least Sad Edition"
        },
        "width": 1000,
        "xaxis": {
         "anchor": "y",
         "domain": [
          0,
          1
         ],
         "title": {
          "text": "Gloom Index"
         }
        },
        "yaxis": {
         "anchor": "x",
         "domain": [
          0,
          1
         ],
         "title": {
          "text": "Track Name"
         }
        }
       }
      }
     },
     "metadata": {},
     "output_type": "display_data"
    }
   ],
   "source": [
    "#Data Prep\n",
    "df_radiohead_sad_playlist = df_radiohead.sort_values('Gloom_Index', ascending= False).head(10)\n",
    "df_radiohead_sad_playlist = df_radiohead_sad_playlist.sort_values('Gloom_Index')\n",
    "\n",
    "#Plot Least Sad Playlist\n",
    "fig = px.scatter(df_radiohead_sad_playlist, x= 'Gloom_Index', y = 'Track', color_discrete_sequence= ['yellow'],\n",
    "            labels={'Track':'Track Name', 'Gloom_Index':'Gloom Index'},\n",
    "            title= '<b>The Ultimate Radiohead Playlist</b><br>The Numbers-Based Least Sad Edition',\n",
    "            template='plotly_dark', hover_name= 'Track', width= 1000)\n",
    "\n",
    "fig.show()"
   ]
  },
  {
   "cell_type": "markdown",
   "id": "c61f5600",
   "metadata": {},
   "source": [
    "You can find this playlist on Spotify: https://open.spotify.com/playlist/0pEGqpboPL46oAD85JwuVS?si=ff5c4aacb41146b5"
   ]
  },
  {
   "cell_type": "markdown",
   "id": "731c678d",
   "metadata": {},
   "source": [
    "However, be careful. Let's just say the computer made a few interesting choices here. These tracks won't be a joyous love fest free of any challenging thoughts - it is Radiohead after all. Enjoy them anyway!"
   ]
  }
 ],
 "metadata": {
  "kernelspec": {
   "display_name": "Python 3 (ipykernel)",
   "language": "python",
   "name": "python3"
  },
  "language_info": {
   "codemirror_mode": {
    "name": "ipython",
    "version": 3
   },
   "file_extension": ".py",
   "mimetype": "text/x-python",
   "name": "python",
   "nbconvert_exporter": "python",
   "pygments_lexer": "ipython3",
   "version": "3.11.3"
  },
  "toc": {
   "base_numbering": 1,
   "nav_menu": {},
   "number_sections": true,
   "sideBar": true,
   "skip_h1_title": false,
   "title_cell": "Table of Contents",
   "title_sidebar": "Contents",
   "toc_cell": false,
   "toc_position": {},
   "toc_section_display": true,
   "toc_window_display": false
  },
  "varInspector": {
   "cols": {
    "lenName": 16,
    "lenType": 16,
    "lenVar": 40
   },
   "kernels_config": {
    "python": {
     "delete_cmd_postfix": "",
     "delete_cmd_prefix": "del ",
     "library": "var_list.py",
     "varRefreshCmd": "print(var_dic_list())"
    },
    "r": {
     "delete_cmd_postfix": ") ",
     "delete_cmd_prefix": "rm(",
     "library": "var_list.r",
     "varRefreshCmd": "cat(var_dic_list()) "
    }
   },
   "types_to_exclude": [
    "module",
    "function",
    "builtin_function_or_method",
    "instance",
    "_Feature"
   ],
   "window_display": false
  }
 },
 "nbformat": 4,
 "nbformat_minor": 5
}
