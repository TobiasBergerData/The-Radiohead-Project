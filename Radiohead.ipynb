{
 "cells": [
  {
   "cell_type": "markdown",
   "id": "ac9e5dda",
   "metadata": {},
   "source": [
    "# The Radiohead Project - What can we learn about their discography?\n",
    "\n",
    "I recently discovered this interesting data set (https://www.kaggle.com/datasets/lavagod/radiohead/versions/1?resource=download), containing all studio album songs of one of my favorite bands of all time - Radiohead.\n",
    "\n",
    "\n",
    "If you are interested in how this data was gathered, check this blog:\n",
    "https://www.thompsonanalytics.com/blog/fitter-happier/\n",
    "\n",
    "\n",
    "And now, let's have some fun with it and learn something new about this band, shall we?!"
   ]
  },
  {
   "cell_type": "markdown",
   "id": "e3f3a7be",
   "metadata": {},
   "source": [
    "# Data Preperation"
   ]
  },
  {
   "cell_type": "code",
   "execution_count": 353,
   "id": "223033ea",
   "metadata": {},
   "outputs": [
    {
     "data": {
      "text/html": [
       "        <script type=\"text/javascript\">\n",
       "        window.PlotlyConfig = {MathJaxConfig: 'local'};\n",
       "        if (window.MathJax && window.MathJax.Hub && window.MathJax.Hub.Config) {window.MathJax.Hub.Config({SVG: {font: \"STIX-Web\"}});}\n",
       "        if (typeof require !== 'undefined') {\n",
       "        require.undef(\"plotly\");\n",
       "        requirejs.config({\n",
       "            paths: {\n",
       "                'plotly': ['https://cdn.plot.ly/plotly-2.24.1.min']\n",
       "            }\n",
       "        });\n",
       "        require(['plotly'], function(Plotly) {\n",
       "            window._Plotly = Plotly;\n",
       "        });\n",
       "        }\n",
       "        </script>\n",
       "        "
      ]
     },
     "metadata": {},
     "output_type": "display_data"
    }
   ],
   "source": [
    "#Loading some libraries first\n",
    "\n",
    "# Data\n",
    "\n",
    "import numpy as np\n",
    "import pandas as pd \n",
    "\n",
    "#Plots\n",
    "\n",
    "import plotly.express as px \n",
    "import matplotlib.pyplot as plt\n",
    "\n",
    "#Embedding plots\n",
    "from plotly.offline import init_notebook_mode, iplot\n",
    "init_notebook_mode(connected=True)"
   ]
  },
  {
   "cell_type": "code",
   "execution_count": 354,
   "id": "08cbb559",
   "metadata": {},
   "outputs": [
    {
     "data": {
      "text/html": [
       "<div>\n",
       "<style scoped>\n",
       "    .dataframe tbody tr th:only-of-type {\n",
       "        vertical-align: middle;\n",
       "    }\n",
       "\n",
       "    .dataframe tbody tr th {\n",
       "        vertical-align: top;\n",
       "    }\n",
       "\n",
       "    .dataframe thead th {\n",
       "        text-align: right;\n",
       "    }\n",
       "</style>\n",
       "<table border=\"1\" class=\"dataframe\">\n",
       "  <thead>\n",
       "    <tr style=\"text-align: right;\">\n",
       "      <th></th>\n",
       "      <th>track_name</th>\n",
       "      <th>valence</th>\n",
       "      <th>duration_ms</th>\n",
       "      <th>lyrics</th>\n",
       "      <th>album_name</th>\n",
       "      <th>album_release_year</th>\n",
       "      <th>album_img</th>\n",
       "      <th>pct_sad</th>\n",
       "      <th>word_count</th>\n",
       "      <th>lyrical_density</th>\n",
       "      <th>gloom_index</th>\n",
       "      <th>amount_sad_words</th>\n",
       "    </tr>\n",
       "  </thead>\n",
       "  <tbody>\n",
       "    <tr>\n",
       "      <th>0</th>\n",
       "      <td>You</td>\n",
       "      <td>0.3050</td>\n",
       "      <td>208667</td>\n",
       "      <td>you are the sun and moon and stars are you and...</td>\n",
       "      <td>Pablo Honey</td>\n",
       "      <td>1993</td>\n",
       "      <td>https://i.scdn.co/image/e17011b2aa33289dfa6c08...</td>\n",
       "      <td>0.0000</td>\n",
       "      <td>19</td>\n",
       "      <td>0.091054</td>\n",
       "      <td>50.39</td>\n",
       "      <td>0.0</td>\n",
       "    </tr>\n",
       "    <tr>\n",
       "      <th>1</th>\n",
       "      <td>Creep</td>\n",
       "      <td>0.0960</td>\n",
       "      <td>238640</td>\n",
       "      <td>when you were here before couldn't look you in...</td>\n",
       "      <td>Pablo Honey</td>\n",
       "      <td>1993</td>\n",
       "      <td>https://i.scdn.co/image/e17011b2aa33289dfa6c08...</td>\n",
       "      <td>0.0784</td>\n",
       "      <td>51</td>\n",
       "      <td>0.213711</td>\n",
       "      <td>22.60</td>\n",
       "      <td>4.0</td>\n",
       "    </tr>\n",
       "    <tr>\n",
       "      <th>2</th>\n",
       "      <td>How Do You?</td>\n",
       "      <td>0.2640</td>\n",
       "      <td>132173</td>\n",
       "      <td>he's bitter and twisted he knows what he wants...</td>\n",
       "      <td>Pablo Honey</td>\n",
       "      <td>1993</td>\n",
       "      <td>https://i.scdn.co/image/e17011b2aa33289dfa6c08...</td>\n",
       "      <td>0.0952</td>\n",
       "      <td>21</td>\n",
       "      <td>0.158883</td>\n",
       "      <td>36.56</td>\n",
       "      <td>2.0</td>\n",
       "    </tr>\n",
       "    <tr>\n",
       "      <th>3</th>\n",
       "      <td>Stop Whispering</td>\n",
       "      <td>0.2790</td>\n",
       "      <td>325627</td>\n",
       "      <td>and the wise man said i don't want to hear you...</td>\n",
       "      <td>Pablo Honey</td>\n",
       "      <td>1993</td>\n",
       "      <td>https://i.scdn.co/image/e17011b2aa33289dfa6c08...</td>\n",
       "      <td>0.0435</td>\n",
       "      <td>46</td>\n",
       "      <td>0.141266</td>\n",
       "      <td>43.48</td>\n",
       "      <td>2.0</td>\n",
       "    </tr>\n",
       "    <tr>\n",
       "      <th>4</th>\n",
       "      <td>Thinking About You</td>\n",
       "      <td>0.4190</td>\n",
       "      <td>161533</td>\n",
       "      <td>been thinking about you your records are here ...</td>\n",
       "      <td>Pablo Honey</td>\n",
       "      <td>1993</td>\n",
       "      <td>https://i.scdn.co/image/e17011b2aa33289dfa6c08...</td>\n",
       "      <td>0.0000</td>\n",
       "      <td>39</td>\n",
       "      <td>0.241437</td>\n",
       "      <td>60.80</td>\n",
       "      <td>0.0</td>\n",
       "    </tr>\n",
       "    <tr>\n",
       "      <th>...</th>\n",
       "      <td>...</td>\n",
       "      <td>...</td>\n",
       "      <td>...</td>\n",
       "      <td>...</td>\n",
       "      <td>...</td>\n",
       "      <td>...</td>\n",
       "      <td>...</td>\n",
       "      <td>...</td>\n",
       "      <td>...</td>\n",
       "      <td>...</td>\n",
       "      <td>...</td>\n",
       "      <td>...</td>\n",
       "    </tr>\n",
       "    <tr>\n",
       "      <th>96</th>\n",
       "      <td>Identikit</td>\n",
       "      <td>0.3540</td>\n",
       "      <td>266644</td>\n",
       "      <td>repeated background hook a moon shaped pool da...</td>\n",
       "      <td>A Moon Shaped Pool</td>\n",
       "      <td>2016</td>\n",
       "      <td>https://i.scdn.co/image/0d1460c036897175f4631e...</td>\n",
       "      <td>0.1800</td>\n",
       "      <td>100</td>\n",
       "      <td>0.375032</td>\n",
       "      <td>32.25</td>\n",
       "      <td>18.0</td>\n",
       "    </tr>\n",
       "    <tr>\n",
       "      <th>97</th>\n",
       "      <td>The Numbers</td>\n",
       "      <td>0.0545</td>\n",
       "      <td>345887</td>\n",
       "      <td>it holds us like a phantom it touches like a b...</td>\n",
       "      <td>A Moon Shaped Pool</td>\n",
       "      <td>2016</td>\n",
       "      <td>https://i.scdn.co/image/0d1460c036897175f4631e...</td>\n",
       "      <td>0.0455</td>\n",
       "      <td>44</td>\n",
       "      <td>0.127209</td>\n",
       "      <td>22.82</td>\n",
       "      <td>2.0</td>\n",
       "    </tr>\n",
       "    <tr>\n",
       "      <th>98</th>\n",
       "      <td>Present Tense</td>\n",
       "      <td>0.3450</td>\n",
       "      <td>306581</td>\n",
       "      <td>this dance this dance is like a weapon is like...</td>\n",
       "      <td>A Moon Shaped Pool</td>\n",
       "      <td>2016</td>\n",
       "      <td>https://i.scdn.co/image/0d1460c036897175f4631e...</td>\n",
       "      <td>0.1795</td>\n",
       "      <td>39</td>\n",
       "      <td>0.127209</td>\n",
       "      <td>35.56</td>\n",
       "      <td>7.0</td>\n",
       "    </tr>\n",
       "    <tr>\n",
       "      <th>99</th>\n",
       "      <td>Tinker Tailor Soldier Sailor Rich Man Poor Man...</td>\n",
       "      <td>0.0517</td>\n",
       "      <td>303689</td>\n",
       "      <td>all the holes at once are coming alive set fre...</td>\n",
       "      <td>A Moon Shaped Pool</td>\n",
       "      <td>2016</td>\n",
       "      <td>https://i.scdn.co/image/0d1460c036897175f4631e...</td>\n",
       "      <td>0.1154</td>\n",
       "      <td>26</td>\n",
       "      <td>0.085614</td>\n",
       "      <td>15.80</td>\n",
       "      <td>3.0</td>\n",
       "    </tr>\n",
       "    <tr>\n",
       "      <th>100</th>\n",
       "      <td>True Love Waits</td>\n",
       "      <td>0.0378</td>\n",
       "      <td>283464</td>\n",
       "      <td>i’ll drown my beliefs to have your babies i’ll...</td>\n",
       "      <td>A Moon Shaped Pool</td>\n",
       "      <td>2016</td>\n",
       "      <td>https://i.scdn.co/image/0d1460c036897175f4631e...</td>\n",
       "      <td>0.2381</td>\n",
       "      <td>42</td>\n",
       "      <td>0.148167</td>\n",
       "      <td>1.00</td>\n",
       "      <td>10.0</td>\n",
       "    </tr>\n",
       "  </tbody>\n",
       "</table>\n",
       "<p>101 rows × 12 columns</p>\n",
       "</div>"
      ],
      "text/plain": [
       "                                            track_name  valence  duration_ms   \n",
       "0                                                  You   0.3050       208667  \\\n",
       "1                                                Creep   0.0960       238640   \n",
       "2                                          How Do You?   0.2640       132173   \n",
       "3                                      Stop Whispering   0.2790       325627   \n",
       "4                                   Thinking About You   0.4190       161533   \n",
       "..                                                 ...      ...          ...   \n",
       "96                                           Identikit   0.3540       266644   \n",
       "97                                         The Numbers   0.0545       345887   \n",
       "98                                       Present Tense   0.3450       306581   \n",
       "99   Tinker Tailor Soldier Sailor Rich Man Poor Man...   0.0517       303689   \n",
       "100                                    True Love Waits   0.0378       283464   \n",
       "\n",
       "                                                lyrics          album_name   \n",
       "0    you are the sun and moon and stars are you and...         Pablo Honey  \\\n",
       "1    when you were here before couldn't look you in...         Pablo Honey   \n",
       "2    he's bitter and twisted he knows what he wants...         Pablo Honey   \n",
       "3    and the wise man said i don't want to hear you...         Pablo Honey   \n",
       "4    been thinking about you your records are here ...         Pablo Honey   \n",
       "..                                                 ...                 ...   \n",
       "96   repeated background hook a moon shaped pool da...  A Moon Shaped Pool   \n",
       "97   it holds us like a phantom it touches like a b...  A Moon Shaped Pool   \n",
       "98   this dance this dance is like a weapon is like...  A Moon Shaped Pool   \n",
       "99   all the holes at once are coming alive set fre...  A Moon Shaped Pool   \n",
       "100  i’ll drown my beliefs to have your babies i’ll...  A Moon Shaped Pool   \n",
       "\n",
       "     album_release_year                                          album_img   \n",
       "0                  1993  https://i.scdn.co/image/e17011b2aa33289dfa6c08...  \\\n",
       "1                  1993  https://i.scdn.co/image/e17011b2aa33289dfa6c08...   \n",
       "2                  1993  https://i.scdn.co/image/e17011b2aa33289dfa6c08...   \n",
       "3                  1993  https://i.scdn.co/image/e17011b2aa33289dfa6c08...   \n",
       "4                  1993  https://i.scdn.co/image/e17011b2aa33289dfa6c08...   \n",
       "..                  ...                                                ...   \n",
       "96                 2016  https://i.scdn.co/image/0d1460c036897175f4631e...   \n",
       "97                 2016  https://i.scdn.co/image/0d1460c036897175f4631e...   \n",
       "98                 2016  https://i.scdn.co/image/0d1460c036897175f4631e...   \n",
       "99                 2016  https://i.scdn.co/image/0d1460c036897175f4631e...   \n",
       "100                2016  https://i.scdn.co/image/0d1460c036897175f4631e...   \n",
       "\n",
       "     pct_sad  word_count  lyrical_density  gloom_index  amount_sad_words  \n",
       "0     0.0000          19         0.091054        50.39               0.0  \n",
       "1     0.0784          51         0.213711        22.60               4.0  \n",
       "2     0.0952          21         0.158883        36.56               2.0  \n",
       "3     0.0435          46         0.141266        43.48               2.0  \n",
       "4     0.0000          39         0.241437        60.80               0.0  \n",
       "..       ...         ...              ...          ...               ...  \n",
       "96    0.1800         100         0.375032        32.25              18.0  \n",
       "97    0.0455          44         0.127209        22.82               2.0  \n",
       "98    0.1795          39         0.127209        35.56               7.0  \n",
       "99    0.1154          26         0.085614        15.80               3.0  \n",
       "100   0.2381          42         0.148167         1.00              10.0  \n",
       "\n",
       "[101 rows x 12 columns]"
      ]
     },
     "execution_count": 354,
     "metadata": {},
     "output_type": "execute_result"
    }
   ],
   "source": [
    "#Loading the data\n",
    "\n",
    "df_radiohead = pd.read_csv(r'C:\\Users\\tobia\\OneDrive\\Desktop\\radiohead.csv',\n",
    "                        sep=',',\n",
    "                        index_col=False,\n",
    "                        skipinitialspace=True,\n",
    "                        encoding='cp1252')\n",
    "\n",
    "df_radiohead['amount_sad_words'] = round(df_radiohead['word_count'] * df_radiohead['pct_sad'])\n",
    "df_radiohead"
   ]
  },
  {
   "cell_type": "code",
   "execution_count": 355,
   "id": "c5e6cb76",
   "metadata": {},
   "outputs": [
    {
     "name": "stdout",
     "output_type": "stream",
     "text": [
      "<class 'pandas.core.frame.DataFrame'>\n",
      "RangeIndex: 101 entries, 0 to 100\n",
      "Data columns (total 12 columns):\n",
      " #   Column              Non-Null Count  Dtype  \n",
      "---  ------              --------------  -----  \n",
      " 0   track_name          101 non-null    object \n",
      " 1   valence             101 non-null    float64\n",
      " 2   duration_ms         101 non-null    int64  \n",
      " 3   lyrics              98 non-null     object \n",
      " 4   album_name          101 non-null    object \n",
      " 5   album_release_year  101 non-null    int64  \n",
      " 6   album_img           101 non-null    object \n",
      " 7   pct_sad             101 non-null    float64\n",
      " 8   word_count          101 non-null    int64  \n",
      " 9   lyrical_density     101 non-null    float64\n",
      " 10  gloom_index         101 non-null    float64\n",
      " 11  amount_sad_words    101 non-null    float64\n",
      "dtypes: float64(5), int64(3), object(4)\n",
      "memory usage: 9.6+ KB\n"
     ]
    }
   ],
   "source": [
    "#Checking the database\n",
    "\n",
    "df_radiohead.info()"
   ]
  },
  {
   "cell_type": "markdown",
   "id": "0dd80f07",
   "metadata": {},
   "source": [
    "We see that there are 3 NaNs in the lyric column. To check the validity of this dataset, we should examine, which tracks these are:"
   ]
  },
  {
   "cell_type": "code",
   "execution_count": 356,
   "id": "10c3e11a",
   "metadata": {},
   "outputs": [
    {
     "data": {
      "text/html": [
       "<div>\n",
       "<style scoped>\n",
       "    .dataframe tbody tr th:only-of-type {\n",
       "        vertical-align: middle;\n",
       "    }\n",
       "\n",
       "    .dataframe tbody tr th {\n",
       "        vertical-align: top;\n",
       "    }\n",
       "\n",
       "    .dataframe thead th {\n",
       "        text-align: right;\n",
       "    }\n",
       "</style>\n",
       "<table border=\"1\" class=\"dataframe\">\n",
       "  <thead>\n",
       "    <tr style=\"text-align: right;\">\n",
       "      <th></th>\n",
       "      <th>track_name</th>\n",
       "      <th>valence</th>\n",
       "      <th>duration_ms</th>\n",
       "      <th>lyrics</th>\n",
       "      <th>album_name</th>\n",
       "      <th>album_release_year</th>\n",
       "      <th>album_img</th>\n",
       "      <th>pct_sad</th>\n",
       "      <th>word_count</th>\n",
       "      <th>lyrical_density</th>\n",
       "      <th>gloom_index</th>\n",
       "      <th>amount_sad_words</th>\n",
       "    </tr>\n",
       "  </thead>\n",
       "  <tbody>\n",
       "    <tr>\n",
       "      <th>40</th>\n",
       "      <td>Treefingers</td>\n",
       "      <td>0.0585</td>\n",
       "      <td>222600</td>\n",
       "      <td>NaN</td>\n",
       "      <td>Kid A</td>\n",
       "      <td>2000</td>\n",
       "      <td>https://i.scdn.co/image/0a6b1c237ab9f7d7da0a04...</td>\n",
       "      <td>0.0</td>\n",
       "      <td>0</td>\n",
       "      <td>0.0</td>\n",
       "      <td>27.87</td>\n",
       "      <td>0.0</td>\n",
       "    </tr>\n",
       "    <tr>\n",
       "      <th>46</th>\n",
       "      <td>Untitled</td>\n",
       "      <td>0.0782</td>\n",
       "      <td>52695</td>\n",
       "      <td>NaN</td>\n",
       "      <td>Kid A</td>\n",
       "      <td>2000</td>\n",
       "      <td>https://i.scdn.co/image/0a6b1c237ab9f7d7da0a04...</td>\n",
       "      <td>0.0</td>\n",
       "      <td>0</td>\n",
       "      <td>0.0</td>\n",
       "      <td>29.67</td>\n",
       "      <td>0.0</td>\n",
       "    </tr>\n",
       "    <tr>\n",
       "      <th>55</th>\n",
       "      <td>Hunting Bears</td>\n",
       "      <td>0.0779</td>\n",
       "      <td>121200</td>\n",
       "      <td>NaN</td>\n",
       "      <td>Amnesiac</td>\n",
       "      <td>2001</td>\n",
       "      <td>https://i.scdn.co/image/7d2a9481f3136f8f9dda19...</td>\n",
       "      <td>0.0</td>\n",
       "      <td>0</td>\n",
       "      <td>0.0</td>\n",
       "      <td>29.64</td>\n",
       "      <td>0.0</td>\n",
       "    </tr>\n",
       "  </tbody>\n",
       "</table>\n",
       "</div>"
      ],
      "text/plain": [
       "       track_name  valence  duration_ms lyrics album_name  album_release_year   \n",
       "40    Treefingers   0.0585       222600    NaN      Kid A                2000  \\\n",
       "46       Untitled   0.0782        52695    NaN      Kid A                2000   \n",
       "55  Hunting Bears   0.0779       121200    NaN   Amnesiac                2001   \n",
       "\n",
       "                                            album_img  pct_sad  word_count   \n",
       "40  https://i.scdn.co/image/0a6b1c237ab9f7d7da0a04...      0.0           0  \\\n",
       "46  https://i.scdn.co/image/0a6b1c237ab9f7d7da0a04...      0.0           0   \n",
       "55  https://i.scdn.co/image/7d2a9481f3136f8f9dda19...      0.0           0   \n",
       "\n",
       "    lyrical_density  gloom_index  amount_sad_words  \n",
       "40              0.0        27.87               0.0  \n",
       "46              0.0        29.67               0.0  \n",
       "55              0.0        29.64               0.0  "
      ]
     },
     "execution_count": 356,
     "metadata": {},
     "output_type": "execute_result"
    }
   ],
   "source": [
    "#Checking for NaNs\n",
    "df_radiohead.loc[df_radiohead.loc[:,'lyrics'].isna()]"
   ]
  },
  {
   "cell_type": "markdown",
   "id": "97c92edb",
   "metadata": {},
   "source": [
    "We see, that only true instrumental songs come up, which is fine. They do indeed not have any words but must be left in as part of the albums recorded. The dataset is correct. It will be interesting to see how these songs with interlude character will influence scores and stats.\n",
    "\n",
    "Nerdy side note: \n",
    "\n",
    "*Technically \"Untitled\" wasn't even its own song in the initial release of Kid A, but a hidden track that is part of Motion Picture Soundtrack. Spotify did split it up, when putting it up on the platform. However we will treat it as its own song in this analysis.*"
   ]
  },
  {
   "cell_type": "code",
   "execution_count": 357,
   "id": "fe524d63",
   "metadata": {},
   "outputs": [
    {
     "data": {
      "text/html": [
       "<div>\n",
       "<style scoped>\n",
       "    .dataframe tbody tr th:only-of-type {\n",
       "        vertical-align: middle;\n",
       "    }\n",
       "\n",
       "    .dataframe tbody tr th {\n",
       "        vertical-align: top;\n",
       "    }\n",
       "\n",
       "    .dataframe thead th {\n",
       "        text-align: right;\n",
       "    }\n",
       "</style>\n",
       "<table border=\"1\" class=\"dataframe\">\n",
       "  <thead>\n",
       "    <tr style=\"text-align: right;\">\n",
       "      <th></th>\n",
       "      <th>valence</th>\n",
       "      <th>duration_ms</th>\n",
       "      <th>album_release_year</th>\n",
       "      <th>pct_sad</th>\n",
       "      <th>word_count</th>\n",
       "      <th>lyrical_density</th>\n",
       "      <th>gloom_index</th>\n",
       "      <th>amount_sad_words</th>\n",
       "    </tr>\n",
       "  </thead>\n",
       "  <tbody>\n",
       "    <tr>\n",
       "      <th>count</th>\n",
       "      <td>101.000000</td>\n",
       "      <td>101.000000</td>\n",
       "      <td>101.000000</td>\n",
       "      <td>101.000000</td>\n",
       "      <td>101.000000</td>\n",
       "      <td>101.000000</td>\n",
       "      <td>101.000000</td>\n",
       "      <td>101.000000</td>\n",
       "    </tr>\n",
       "    <tr>\n",
       "      <th>mean</th>\n",
       "      <td>0.314836</td>\n",
       "      <td>252550.950495</td>\n",
       "      <td>2002.049505</td>\n",
       "      <td>0.065445</td>\n",
       "      <td>44.693069</td>\n",
       "      <td>0.185117</td>\n",
       "      <td>44.171782</td>\n",
       "      <td>3.178218</td>\n",
       "    </tr>\n",
       "    <tr>\n",
       "      <th>std</th>\n",
       "      <td>0.218394</td>\n",
       "      <td>60278.914774</td>\n",
       "      <td>7.058861</td>\n",
       "      <td>0.075814</td>\n",
       "      <td>24.945437</td>\n",
       "      <td>0.131948</td>\n",
       "      <td>21.518357</td>\n",
       "      <td>4.104622</td>\n",
       "    </tr>\n",
       "    <tr>\n",
       "      <th>min</th>\n",
       "      <td>0.037800</td>\n",
       "      <td>52695.000000</td>\n",
       "      <td>1993.000000</td>\n",
       "      <td>0.000000</td>\n",
       "      <td>0.000000</td>\n",
       "      <td>0.000000</td>\n",
       "      <td>1.000000</td>\n",
       "      <td>0.000000</td>\n",
       "    </tr>\n",
       "    <tr>\n",
       "      <th>25%</th>\n",
       "      <td>0.131000</td>\n",
       "      <td>217800.000000</td>\n",
       "      <td>1997.000000</td>\n",
       "      <td>0.000000</td>\n",
       "      <td>28.000000</td>\n",
       "      <td>0.115741</td>\n",
       "      <td>27.870000</td>\n",
       "      <td>0.000000</td>\n",
       "    </tr>\n",
       "    <tr>\n",
       "      <th>50%</th>\n",
       "      <td>0.272000</td>\n",
       "      <td>257480.000000</td>\n",
       "      <td>2001.000000</td>\n",
       "      <td>0.041700</td>\n",
       "      <td>42.000000</td>\n",
       "      <td>0.158883</td>\n",
       "      <td>40.710000</td>\n",
       "      <td>2.000000</td>\n",
       "    </tr>\n",
       "    <tr>\n",
       "      <th>75%</th>\n",
       "      <td>0.473000</td>\n",
       "      <td>290213.000000</td>\n",
       "      <td>2007.000000</td>\n",
       "      <td>0.096800</td>\n",
       "      <td>57.000000</td>\n",
       "      <td>0.234926</td>\n",
       "      <td>59.710000</td>\n",
       "      <td>4.000000</td>\n",
       "    </tr>\n",
       "    <tr>\n",
       "      <th>max</th>\n",
       "      <td>0.848000</td>\n",
       "      <td>387213.000000</td>\n",
       "      <td>2016.000000</td>\n",
       "      <td>0.357100</td>\n",
       "      <td>126.000000</td>\n",
       "      <td>1.031253</td>\n",
       "      <td>100.000000</td>\n",
       "      <td>20.000000</td>\n",
       "    </tr>\n",
       "  </tbody>\n",
       "</table>\n",
       "</div>"
      ],
      "text/plain": [
       "          valence    duration_ms  album_release_year     pct_sad  word_count   \n",
       "count  101.000000     101.000000          101.000000  101.000000  101.000000  \\\n",
       "mean     0.314836  252550.950495         2002.049505    0.065445   44.693069   \n",
       "std      0.218394   60278.914774            7.058861    0.075814   24.945437   \n",
       "min      0.037800   52695.000000         1993.000000    0.000000    0.000000   \n",
       "25%      0.131000  217800.000000         1997.000000    0.000000   28.000000   \n",
       "50%      0.272000  257480.000000         2001.000000    0.041700   42.000000   \n",
       "75%      0.473000  290213.000000         2007.000000    0.096800   57.000000   \n",
       "max      0.848000  387213.000000         2016.000000    0.357100  126.000000   \n",
       "\n",
       "       lyrical_density  gloom_index  amount_sad_words  \n",
       "count       101.000000   101.000000        101.000000  \n",
       "mean          0.185117    44.171782          3.178218  \n",
       "std           0.131948    21.518357          4.104622  \n",
       "min           0.000000     1.000000          0.000000  \n",
       "25%           0.115741    27.870000          0.000000  \n",
       "50%           0.158883    40.710000          2.000000  \n",
       "75%           0.234926    59.710000          4.000000  \n",
       "max           1.031253   100.000000         20.000000  "
      ]
     },
     "execution_count": 357,
     "metadata": {},
     "output_type": "execute_result"
    }
   ],
   "source": [
    "#Get an overview over the general variables and their distributions\n",
    "\n",
    "df_radiohead.describe()"
   ]
  },
  {
   "cell_type": "code",
   "execution_count": 358,
   "id": "9205425a",
   "metadata": {},
   "outputs": [],
   "source": [
    "#Converting the duration of the songs to minutes\n",
    "\n",
    "df_radiohead['duration_mins'] = df_radiohead['duration_ms'] / 60000"
   ]
  },
  {
   "cell_type": "markdown",
   "id": "92bc88d1",
   "metadata": {},
   "source": [
    "# EDA"
   ]
  },
  {
   "cell_type": "markdown",
   "id": "f26d343d",
   "metadata": {},
   "source": [
    "## Albums overview\n",
    "\n",
    "We can start with the basics. Up to this point Radiohead has released 9 studio albums. Let's check them out and see how the band has progressed over time."
   ]
  },
  {
   "cell_type": "markdown",
   "id": "616ea9ec",
   "metadata": {},
   "source": [
    "### Hard facts #1 - Number of Tracks\n",
    "\n"
   ]
  },
  {
   "cell_type": "code",
   "execution_count": 359,
   "id": "b8cf4679",
   "metadata": {},
   "outputs": [
    {
     "data": {
      "application/vnd.plotly.v1+json": {
       "config": {
        "plotlyServerURL": "https://plot.ly"
       },
       "data": [
        {
         "alignmentgroup": "True",
         "hovertemplate": "<b>%{hovertext}</b><br><br>Album Name=%{x}<br>Number of Tracks=%{y}<extra></extra>",
         "hovertext": [
          "You",
          "Creep",
          "How Do You?",
          "Stop Whispering",
          "Thinking About You",
          "Anyone Can Play Guitar",
          "Ripcord",
          "Vegetable",
          "Prove Yourself",
          "I Can't",
          "Lurgee",
          "Blow Out"
         ],
         "legendgroup": "Pablo Honey",
         "marker": {
          "color": "#636efa",
          "pattern": {
           "shape": ""
          }
         },
         "name": "Pablo Honey",
         "offsetgroup": "Pablo Honey",
         "orientation": "v",
         "showlegend": true,
         "textposition": "auto",
         "type": "bar",
         "x": [
          "Pablo Honey",
          "Pablo Honey",
          "Pablo Honey",
          "Pablo Honey",
          "Pablo Honey",
          "Pablo Honey",
          "Pablo Honey",
          "Pablo Honey",
          "Pablo Honey",
          "Pablo Honey",
          "Pablo Honey",
          "Pablo Honey"
         ],
         "xaxis": "x",
         "y": [
          1,
          1,
          1,
          1,
          1,
          1,
          1,
          1,
          1,
          1,
          1,
          1
         ],
         "yaxis": "y"
        },
        {
         "alignmentgroup": "True",
         "hovertemplate": "<b>%{hovertext}</b><br><br>Album Name=%{x}<br>Number of Tracks=%{y}<extra></extra>",
         "hovertext": [
          "Planet Telex",
          "The Bends",
          "High And Dry",
          "Fake Plastic Trees",
          "Bones",
          "(Nice Dream)",
          "Just",
          "My Iron Lung",
          "Bullet Proof ... I Wish I Was",
          "Black Star",
          "Sulk",
          "Street Spirit (Fade Out)"
         ],
         "legendgroup": "The Bends",
         "marker": {
          "color": "#EF553B",
          "pattern": {
           "shape": ""
          }
         },
         "name": "The Bends",
         "offsetgroup": "The Bends",
         "orientation": "v",
         "showlegend": true,
         "textposition": "auto",
         "type": "bar",
         "x": [
          "The Bends",
          "The Bends",
          "The Bends",
          "The Bends",
          "The Bends",
          "The Bends",
          "The Bends",
          "The Bends",
          "The Bends",
          "The Bends",
          "The Bends",
          "The Bends"
         ],
         "xaxis": "x",
         "y": [
          1,
          1,
          1,
          1,
          1,
          1,
          1,
          1,
          1,
          1,
          1,
          1
         ],
         "yaxis": "y"
        },
        {
         "alignmentgroup": "True",
         "hovertemplate": "<b>%{hovertext}</b><br><br>Album Name=%{x}<br>Number of Tracks=%{y}<extra></extra>",
         "hovertext": [
          "Airbag",
          "Paranoid Android",
          "Subterranean Homesick Alien",
          "Exit Music (For a Film)",
          "Let Down",
          "Karma Police",
          "Fitter Happier",
          "Electioneering",
          "Climbing Up the Walls",
          "No Surprises",
          "Lucky",
          "The Tourist"
         ],
         "legendgroup": "OK Computer",
         "marker": {
          "color": "#00cc96",
          "pattern": {
           "shape": ""
          }
         },
         "name": "OK Computer",
         "offsetgroup": "OK Computer",
         "orientation": "v",
         "showlegend": true,
         "textposition": "auto",
         "type": "bar",
         "x": [
          "OK Computer",
          "OK Computer",
          "OK Computer",
          "OK Computer",
          "OK Computer",
          "OK Computer",
          "OK Computer",
          "OK Computer",
          "OK Computer",
          "OK Computer",
          "OK Computer",
          "OK Computer"
         ],
         "xaxis": "x",
         "y": [
          1,
          1,
          1,
          1,
          1,
          1,
          1,
          1,
          1,
          1,
          1,
          1
         ],
         "yaxis": "y"
        },
        {
         "alignmentgroup": "True",
         "hovertemplate": "<b>%{hovertext}</b><br><br>Album Name=%{x}<br>Number of Tracks=%{y}<extra></extra>",
         "hovertext": [
          "Everything In Its Right Place",
          "Kid A",
          "The National Anthem",
          "How To Disappear Completely",
          "Treefingers",
          "Optimistic",
          "In Limbo",
          "Idioteque",
          "Morning Bell",
          "Motion Picture Soundtrack",
          "Untitled"
         ],
         "legendgroup": "Kid A",
         "marker": {
          "color": "#ab63fa",
          "pattern": {
           "shape": ""
          }
         },
         "name": "Kid A",
         "offsetgroup": "Kid A",
         "orientation": "v",
         "showlegend": true,
         "textposition": "auto",
         "type": "bar",
         "x": [
          "Kid A",
          "Kid A",
          "Kid A",
          "Kid A",
          "Kid A",
          "Kid A",
          "Kid A",
          "Kid A",
          "Kid A",
          "Kid A",
          "Kid A"
         ],
         "xaxis": "x",
         "y": [
          1,
          1,
          1,
          1,
          1,
          1,
          1,
          1,
          1,
          1,
          1
         ],
         "yaxis": "y"
        },
        {
         "alignmentgroup": "True",
         "hovertemplate": "<b>%{hovertext}</b><br><br>Album Name=%{x}<br>Number of Tracks=%{y}<extra></extra>",
         "hovertext": [
          "Packt Like Sardines In a Crushed Tin Box",
          "Pyramid Song",
          "Pulk/Pull Revolving Doors",
          "You And Whose Army?",
          "I Might Be Wrong",
          "Knives Out",
          "Morning Bell/Amnesiac",
          "Dollars & Cents",
          "Hunting Bears",
          "Like Spinning Plates",
          "Life In a Glasshouse"
         ],
         "legendgroup": "Amnesiac",
         "marker": {
          "color": "#FFA15A",
          "pattern": {
           "shape": ""
          }
         },
         "name": "Amnesiac",
         "offsetgroup": "Amnesiac",
         "orientation": "v",
         "showlegend": true,
         "textposition": "auto",
         "type": "bar",
         "x": [
          "Amnesiac",
          "Amnesiac",
          "Amnesiac",
          "Amnesiac",
          "Amnesiac",
          "Amnesiac",
          "Amnesiac",
          "Amnesiac",
          "Amnesiac",
          "Amnesiac",
          "Amnesiac"
         ],
         "xaxis": "x",
         "y": [
          1,
          1,
          1,
          1,
          1,
          1,
          1,
          1,
          1,
          1,
          1
         ],
         "yaxis": "y"
        },
        {
         "alignmentgroup": "True",
         "hovertemplate": "<b>%{hovertext}</b><br><br>Album Name=%{x}<br>Number of Tracks=%{y}<extra></extra>",
         "hovertext": [
          "2 + 2 = 5",
          "Sit Down. Stand Up",
          "Sail To The Moon",
          "Backdrifts",
          "Go To Sleep",
          "Where I End and You Begin",
          "We Suck Young Blood",
          "The Gloaming",
          "There, There",
          "I Will",
          "A Punch Up At a Wedding",
          "Myxomatosis",
          "Scatterbrain",
          "A Wolf At the Door"
         ],
         "legendgroup": "Hail To the Thief",
         "marker": {
          "color": "#19d3f3",
          "pattern": {
           "shape": ""
          }
         },
         "name": "Hail To the Thief",
         "offsetgroup": "Hail To the Thief",
         "orientation": "v",
         "showlegend": true,
         "textposition": "auto",
         "type": "bar",
         "x": [
          "Hail To the Thief",
          "Hail To the Thief",
          "Hail To the Thief",
          "Hail To the Thief",
          "Hail To the Thief",
          "Hail To the Thief",
          "Hail To the Thief",
          "Hail To the Thief",
          "Hail To the Thief",
          "Hail To the Thief",
          "Hail To the Thief",
          "Hail To the Thief",
          "Hail To the Thief",
          "Hail To the Thief"
         ],
         "xaxis": "x",
         "y": [
          1,
          1,
          1,
          1,
          1,
          1,
          1,
          1,
          1,
          1,
          1,
          1,
          1,
          1
         ],
         "yaxis": "y"
        },
        {
         "alignmentgroup": "True",
         "hovertemplate": "<b>%{hovertext}</b><br><br>Album Name=%{x}<br>Number of Tracks=%{y}<extra></extra>",
         "hovertext": [
          "15 Step",
          "Bodysnatchers",
          "Nude",
          "Weird Fishes/ Arpeggi",
          "All I Need",
          "Faust Arp",
          "Reckoner",
          "House Of Cards",
          "Jigsaw Falling Into Place",
          "Videotape"
         ],
         "legendgroup": "In Rainbows",
         "marker": {
          "color": "#FF6692",
          "pattern": {
           "shape": ""
          }
         },
         "name": "In Rainbows",
         "offsetgroup": "In Rainbows",
         "orientation": "v",
         "showlegend": true,
         "textposition": "auto",
         "type": "bar",
         "x": [
          "In Rainbows",
          "In Rainbows",
          "In Rainbows",
          "In Rainbows",
          "In Rainbows",
          "In Rainbows",
          "In Rainbows",
          "In Rainbows",
          "In Rainbows",
          "In Rainbows"
         ],
         "xaxis": "x",
         "y": [
          1,
          1,
          1,
          1,
          1,
          1,
          1,
          1,
          1,
          1
         ],
         "yaxis": "y"
        },
        {
         "alignmentgroup": "True",
         "hovertemplate": "<b>%{hovertext}</b><br><br>Album Name=%{x}<br>Number of Tracks=%{y}<extra></extra>",
         "hovertext": [
          "Bloom",
          "Morning Mr Magpie",
          "Little By Little",
          "Feral",
          "Lotus Flower",
          "Codex",
          "Give Up The Ghost",
          "Separator"
         ],
         "legendgroup": "The King Of Limbs",
         "marker": {
          "color": "#B6E880",
          "pattern": {
           "shape": ""
          }
         },
         "name": "The King Of Limbs",
         "offsetgroup": "The King Of Limbs",
         "orientation": "v",
         "showlegend": true,
         "textposition": "auto",
         "type": "bar",
         "x": [
          "The King Of Limbs",
          "The King Of Limbs",
          "The King Of Limbs",
          "The King Of Limbs",
          "The King Of Limbs",
          "The King Of Limbs",
          "The King Of Limbs",
          "The King Of Limbs"
         ],
         "xaxis": "x",
         "y": [
          1,
          1,
          1,
          1,
          1,
          1,
          1,
          1
         ],
         "yaxis": "y"
        },
        {
         "alignmentgroup": "True",
         "hovertemplate": "<b>%{hovertext}</b><br><br>Album Name=%{x}<br>Number of Tracks=%{y}<extra></extra>",
         "hovertext": [
          "Burn the Witch",
          "Daydreaming",
          "Decks Dark",
          "Desert Island Disk",
          "Ful Stop",
          "Glass Eyes",
          "Identikit",
          "The Numbers",
          "Present Tense",
          "Tinker Tailor Soldier Sailor Rich Man Poor Man Beggar Man Thief",
          "True Love Waits"
         ],
         "legendgroup": "A Moon Shaped Pool",
         "marker": {
          "color": "#FF97FF",
          "pattern": {
           "shape": ""
          }
         },
         "name": "A Moon Shaped Pool",
         "offsetgroup": "A Moon Shaped Pool",
         "orientation": "v",
         "showlegend": true,
         "textposition": "auto",
         "type": "bar",
         "x": [
          "A Moon Shaped Pool",
          "A Moon Shaped Pool",
          "A Moon Shaped Pool",
          "A Moon Shaped Pool",
          "A Moon Shaped Pool",
          "A Moon Shaped Pool",
          "A Moon Shaped Pool",
          "A Moon Shaped Pool",
          "A Moon Shaped Pool",
          "A Moon Shaped Pool",
          "A Moon Shaped Pool"
         ],
         "xaxis": "x",
         "y": [
          1,
          1,
          1,
          1,
          1,
          1,
          1,
          1,
          1,
          1,
          1
         ],
         "yaxis": "y"
        }
       ],
       "layout": {
        "annotations": [
         {
          "align": "left",
          "showarrow": false,
          "text": "Data Source: <a href=”https://www.kaggle.com/datasets/lavagod/radiohead/versions/1?resource=download”>Radiohead Data</a> <br>Viz: <a href=”https://twitter.com/_prospecttheory”>@_prospecttheory</a> <br> <br> <br> <br> <br>",
          "x": -0.07,
          "xref": "paper",
          "y": -0.7,
          "yref": "paper"
         }
        ],
        "barmode": "relative",
        "legend": {
         "title": {
          "text": "Album Name"
         },
         "tracegroupgap": 0
        },
        "template": {
         "data": {
          "bar": [
           {
            "error_x": {
             "color": "#f2f5fa"
            },
            "error_y": {
             "color": "#f2f5fa"
            },
            "marker": {
             "line": {
              "color": "rgb(17,17,17)",
              "width": 0.5
             },
             "pattern": {
              "fillmode": "overlay",
              "size": 10,
              "solidity": 0.2
             }
            },
            "type": "bar"
           }
          ],
          "barpolar": [
           {
            "marker": {
             "line": {
              "color": "rgb(17,17,17)",
              "width": 0.5
             },
             "pattern": {
              "fillmode": "overlay",
              "size": 10,
              "solidity": 0.2
             }
            },
            "type": "barpolar"
           }
          ],
          "carpet": [
           {
            "aaxis": {
             "endlinecolor": "#A2B1C6",
             "gridcolor": "#506784",
             "linecolor": "#506784",
             "minorgridcolor": "#506784",
             "startlinecolor": "#A2B1C6"
            },
            "baxis": {
             "endlinecolor": "#A2B1C6",
             "gridcolor": "#506784",
             "linecolor": "#506784",
             "minorgridcolor": "#506784",
             "startlinecolor": "#A2B1C6"
            },
            "type": "carpet"
           }
          ],
          "choropleth": [
           {
            "colorbar": {
             "outlinewidth": 0,
             "ticks": ""
            },
            "type": "choropleth"
           }
          ],
          "contour": [
           {
            "colorbar": {
             "outlinewidth": 0,
             "ticks": ""
            },
            "colorscale": [
             [
              0,
              "#0d0887"
             ],
             [
              0.1111111111111111,
              "#46039f"
             ],
             [
              0.2222222222222222,
              "#7201a8"
             ],
             [
              0.3333333333333333,
              "#9c179e"
             ],
             [
              0.4444444444444444,
              "#bd3786"
             ],
             [
              0.5555555555555556,
              "#d8576b"
             ],
             [
              0.6666666666666666,
              "#ed7953"
             ],
             [
              0.7777777777777778,
              "#fb9f3a"
             ],
             [
              0.8888888888888888,
              "#fdca26"
             ],
             [
              1,
              "#f0f921"
             ]
            ],
            "type": "contour"
           }
          ],
          "contourcarpet": [
           {
            "colorbar": {
             "outlinewidth": 0,
             "ticks": ""
            },
            "type": "contourcarpet"
           }
          ],
          "heatmap": [
           {
            "colorbar": {
             "outlinewidth": 0,
             "ticks": ""
            },
            "colorscale": [
             [
              0,
              "#0d0887"
             ],
             [
              0.1111111111111111,
              "#46039f"
             ],
             [
              0.2222222222222222,
              "#7201a8"
             ],
             [
              0.3333333333333333,
              "#9c179e"
             ],
             [
              0.4444444444444444,
              "#bd3786"
             ],
             [
              0.5555555555555556,
              "#d8576b"
             ],
             [
              0.6666666666666666,
              "#ed7953"
             ],
             [
              0.7777777777777778,
              "#fb9f3a"
             ],
             [
              0.8888888888888888,
              "#fdca26"
             ],
             [
              1,
              "#f0f921"
             ]
            ],
            "type": "heatmap"
           }
          ],
          "heatmapgl": [
           {
            "colorbar": {
             "outlinewidth": 0,
             "ticks": ""
            },
            "colorscale": [
             [
              0,
              "#0d0887"
             ],
             [
              0.1111111111111111,
              "#46039f"
             ],
             [
              0.2222222222222222,
              "#7201a8"
             ],
             [
              0.3333333333333333,
              "#9c179e"
             ],
             [
              0.4444444444444444,
              "#bd3786"
             ],
             [
              0.5555555555555556,
              "#d8576b"
             ],
             [
              0.6666666666666666,
              "#ed7953"
             ],
             [
              0.7777777777777778,
              "#fb9f3a"
             ],
             [
              0.8888888888888888,
              "#fdca26"
             ],
             [
              1,
              "#f0f921"
             ]
            ],
            "type": "heatmapgl"
           }
          ],
          "histogram": [
           {
            "marker": {
             "pattern": {
              "fillmode": "overlay",
              "size": 10,
              "solidity": 0.2
             }
            },
            "type": "histogram"
           }
          ],
          "histogram2d": [
           {
            "colorbar": {
             "outlinewidth": 0,
             "ticks": ""
            },
            "colorscale": [
             [
              0,
              "#0d0887"
             ],
             [
              0.1111111111111111,
              "#46039f"
             ],
             [
              0.2222222222222222,
              "#7201a8"
             ],
             [
              0.3333333333333333,
              "#9c179e"
             ],
             [
              0.4444444444444444,
              "#bd3786"
             ],
             [
              0.5555555555555556,
              "#d8576b"
             ],
             [
              0.6666666666666666,
              "#ed7953"
             ],
             [
              0.7777777777777778,
              "#fb9f3a"
             ],
             [
              0.8888888888888888,
              "#fdca26"
             ],
             [
              1,
              "#f0f921"
             ]
            ],
            "type": "histogram2d"
           }
          ],
          "histogram2dcontour": [
           {
            "colorbar": {
             "outlinewidth": 0,
             "ticks": ""
            },
            "colorscale": [
             [
              0,
              "#0d0887"
             ],
             [
              0.1111111111111111,
              "#46039f"
             ],
             [
              0.2222222222222222,
              "#7201a8"
             ],
             [
              0.3333333333333333,
              "#9c179e"
             ],
             [
              0.4444444444444444,
              "#bd3786"
             ],
             [
              0.5555555555555556,
              "#d8576b"
             ],
             [
              0.6666666666666666,
              "#ed7953"
             ],
             [
              0.7777777777777778,
              "#fb9f3a"
             ],
             [
              0.8888888888888888,
              "#fdca26"
             ],
             [
              1,
              "#f0f921"
             ]
            ],
            "type": "histogram2dcontour"
           }
          ],
          "mesh3d": [
           {
            "colorbar": {
             "outlinewidth": 0,
             "ticks": ""
            },
            "type": "mesh3d"
           }
          ],
          "parcoords": [
           {
            "line": {
             "colorbar": {
              "outlinewidth": 0,
              "ticks": ""
             }
            },
            "type": "parcoords"
           }
          ],
          "pie": [
           {
            "automargin": true,
            "type": "pie"
           }
          ],
          "scatter": [
           {
            "marker": {
             "line": {
              "color": "#283442"
             }
            },
            "type": "scatter"
           }
          ],
          "scatter3d": [
           {
            "line": {
             "colorbar": {
              "outlinewidth": 0,
              "ticks": ""
             }
            },
            "marker": {
             "colorbar": {
              "outlinewidth": 0,
              "ticks": ""
             }
            },
            "type": "scatter3d"
           }
          ],
          "scattercarpet": [
           {
            "marker": {
             "colorbar": {
              "outlinewidth": 0,
              "ticks": ""
             }
            },
            "type": "scattercarpet"
           }
          ],
          "scattergeo": [
           {
            "marker": {
             "colorbar": {
              "outlinewidth": 0,
              "ticks": ""
             }
            },
            "type": "scattergeo"
           }
          ],
          "scattergl": [
           {
            "marker": {
             "line": {
              "color": "#283442"
             }
            },
            "type": "scattergl"
           }
          ],
          "scattermapbox": [
           {
            "marker": {
             "colorbar": {
              "outlinewidth": 0,
              "ticks": ""
             }
            },
            "type": "scattermapbox"
           }
          ],
          "scatterpolar": [
           {
            "marker": {
             "colorbar": {
              "outlinewidth": 0,
              "ticks": ""
             }
            },
            "type": "scatterpolar"
           }
          ],
          "scatterpolargl": [
           {
            "marker": {
             "colorbar": {
              "outlinewidth": 0,
              "ticks": ""
             }
            },
            "type": "scatterpolargl"
           }
          ],
          "scatterternary": [
           {
            "marker": {
             "colorbar": {
              "outlinewidth": 0,
              "ticks": ""
             }
            },
            "type": "scatterternary"
           }
          ],
          "surface": [
           {
            "colorbar": {
             "outlinewidth": 0,
             "ticks": ""
            },
            "colorscale": [
             [
              0,
              "#0d0887"
             ],
             [
              0.1111111111111111,
              "#46039f"
             ],
             [
              0.2222222222222222,
              "#7201a8"
             ],
             [
              0.3333333333333333,
              "#9c179e"
             ],
             [
              0.4444444444444444,
              "#bd3786"
             ],
             [
              0.5555555555555556,
              "#d8576b"
             ],
             [
              0.6666666666666666,
              "#ed7953"
             ],
             [
              0.7777777777777778,
              "#fb9f3a"
             ],
             [
              0.8888888888888888,
              "#fdca26"
             ],
             [
              1,
              "#f0f921"
             ]
            ],
            "type": "surface"
           }
          ],
          "table": [
           {
            "cells": {
             "fill": {
              "color": "#506784"
             },
             "line": {
              "color": "rgb(17,17,17)"
             }
            },
            "header": {
             "fill": {
              "color": "#2a3f5f"
             },
             "line": {
              "color": "rgb(17,17,17)"
             }
            },
            "type": "table"
           }
          ]
         },
         "layout": {
          "annotationdefaults": {
           "arrowcolor": "#f2f5fa",
           "arrowhead": 0,
           "arrowwidth": 1
          },
          "autotypenumbers": "strict",
          "coloraxis": {
           "colorbar": {
            "outlinewidth": 0,
            "ticks": ""
           }
          },
          "colorscale": {
           "diverging": [
            [
             0,
             "#8e0152"
            ],
            [
             0.1,
             "#c51b7d"
            ],
            [
             0.2,
             "#de77ae"
            ],
            [
             0.3,
             "#f1b6da"
            ],
            [
             0.4,
             "#fde0ef"
            ],
            [
             0.5,
             "#f7f7f7"
            ],
            [
             0.6,
             "#e6f5d0"
            ],
            [
             0.7,
             "#b8e186"
            ],
            [
             0.8,
             "#7fbc41"
            ],
            [
             0.9,
             "#4d9221"
            ],
            [
             1,
             "#276419"
            ]
           ],
           "sequential": [
            [
             0,
             "#0d0887"
            ],
            [
             0.1111111111111111,
             "#46039f"
            ],
            [
             0.2222222222222222,
             "#7201a8"
            ],
            [
             0.3333333333333333,
             "#9c179e"
            ],
            [
             0.4444444444444444,
             "#bd3786"
            ],
            [
             0.5555555555555556,
             "#d8576b"
            ],
            [
             0.6666666666666666,
             "#ed7953"
            ],
            [
             0.7777777777777778,
             "#fb9f3a"
            ],
            [
             0.8888888888888888,
             "#fdca26"
            ],
            [
             1,
             "#f0f921"
            ]
           ],
           "sequentialminus": [
            [
             0,
             "#0d0887"
            ],
            [
             0.1111111111111111,
             "#46039f"
            ],
            [
             0.2222222222222222,
             "#7201a8"
            ],
            [
             0.3333333333333333,
             "#9c179e"
            ],
            [
             0.4444444444444444,
             "#bd3786"
            ],
            [
             0.5555555555555556,
             "#d8576b"
            ],
            [
             0.6666666666666666,
             "#ed7953"
            ],
            [
             0.7777777777777778,
             "#fb9f3a"
            ],
            [
             0.8888888888888888,
             "#fdca26"
            ],
            [
             1,
             "#f0f921"
            ]
           ]
          },
          "colorway": [
           "#636efa",
           "#EF553B",
           "#00cc96",
           "#ab63fa",
           "#FFA15A",
           "#19d3f3",
           "#FF6692",
           "#B6E880",
           "#FF97FF",
           "#FECB52"
          ],
          "font": {
           "color": "#f2f5fa"
          },
          "geo": {
           "bgcolor": "rgb(17,17,17)",
           "lakecolor": "rgb(17,17,17)",
           "landcolor": "rgb(17,17,17)",
           "showlakes": true,
           "showland": true,
           "subunitcolor": "#506784"
          },
          "hoverlabel": {
           "align": "left"
          },
          "hovermode": "closest",
          "mapbox": {
           "style": "dark"
          },
          "paper_bgcolor": "rgb(17,17,17)",
          "plot_bgcolor": "rgb(17,17,17)",
          "polar": {
           "angularaxis": {
            "gridcolor": "#506784",
            "linecolor": "#506784",
            "ticks": ""
           },
           "bgcolor": "rgb(17,17,17)",
           "radialaxis": {
            "gridcolor": "#506784",
            "linecolor": "#506784",
            "ticks": ""
           }
          },
          "scene": {
           "xaxis": {
            "backgroundcolor": "rgb(17,17,17)",
            "gridcolor": "#506784",
            "gridwidth": 2,
            "linecolor": "#506784",
            "showbackground": true,
            "ticks": "",
            "zerolinecolor": "#C8D4E3"
           },
           "yaxis": {
            "backgroundcolor": "rgb(17,17,17)",
            "gridcolor": "#506784",
            "gridwidth": 2,
            "linecolor": "#506784",
            "showbackground": true,
            "ticks": "",
            "zerolinecolor": "#C8D4E3"
           },
           "zaxis": {
            "backgroundcolor": "rgb(17,17,17)",
            "gridcolor": "#506784",
            "gridwidth": 2,
            "linecolor": "#506784",
            "showbackground": true,
            "ticks": "",
            "zerolinecolor": "#C8D4E3"
           }
          },
          "shapedefaults": {
           "line": {
            "color": "#f2f5fa"
           }
          },
          "sliderdefaults": {
           "bgcolor": "#C8D4E3",
           "bordercolor": "rgb(17,17,17)",
           "borderwidth": 1,
           "tickwidth": 0
          },
          "ternary": {
           "aaxis": {
            "gridcolor": "#506784",
            "linecolor": "#506784",
            "ticks": ""
           },
           "baxis": {
            "gridcolor": "#506784",
            "linecolor": "#506784",
            "ticks": ""
           },
           "bgcolor": "rgb(17,17,17)",
           "caxis": {
            "gridcolor": "#506784",
            "linecolor": "#506784",
            "ticks": ""
           }
          },
          "title": {
           "x": 0.05
          },
          "updatemenudefaults": {
           "bgcolor": "#506784",
           "borderwidth": 0
          },
          "xaxis": {
           "automargin": true,
           "gridcolor": "#283442",
           "linecolor": "#506784",
           "ticks": "",
           "title": {
            "standoff": 15
           },
           "zerolinecolor": "#283442",
           "zerolinewidth": 2
          },
          "yaxis": {
           "automargin": true,
           "gridcolor": "#283442",
           "linecolor": "#506784",
           "ticks": "",
           "title": {
            "standoff": 15
           },
           "zerolinecolor": "#283442",
           "zerolinewidth": 2
          }
         }
        },
        "title": {
         "text": "<b>Radiohead Albums by Number of Tracks</b> <br>It seems like albums have been getting shorter, simply going by number of songs."
        },
        "xaxis": {
         "anchor": "y",
         "categoryarray": [
          "Pablo Honey",
          "The Bends",
          "OK Computer",
          "Kid A",
          "Amnesiac",
          "Hail To the Thief",
          "In Rainbows",
          "The King Of Limbs",
          "A Moon Shaped Pool"
         ],
         "categoryorder": "array",
         "domain": [
          0,
          1
         ],
         "title": {
          "text": "Album Name"
         }
        },
        "yaxis": {
         "anchor": "x",
         "domain": [
          0,
          1
         ],
         "title": {
          "text": "Number of Tracks"
         }
        }
       }
      },
      "text/html": [
       "<div>                            <div id=\"032b1db8-f4ca-4a49-affa-959f2ae86cf7\" class=\"plotly-graph-div\" style=\"height:525px; width:100%;\"></div>            <script type=\"text/javascript\">                require([\"plotly\"], function(Plotly) {                    window.PLOTLYENV=window.PLOTLYENV || {};                                    if (document.getElementById(\"032b1db8-f4ca-4a49-affa-959f2ae86cf7\")) {                    Plotly.newPlot(                        \"032b1db8-f4ca-4a49-affa-959f2ae86cf7\",                        [{\"alignmentgroup\":\"True\",\"hovertemplate\":\"\\u003cb\\u003e%{hovertext}\\u003c\\u002fb\\u003e\\u003cbr\\u003e\\u003cbr\\u003eAlbum Name=%{x}\\u003cbr\\u003eNumber of Tracks=%{y}\\u003cextra\\u003e\\u003c\\u002fextra\\u003e\",\"hovertext\":[\"You\",\"Creep\",\"How Do You?\",\"Stop Whispering\",\"Thinking About You\",\"Anyone Can Play Guitar\",\"Ripcord\",\"Vegetable\",\"Prove Yourself\",\"I Can't\",\"Lurgee\",\"Blow Out\"],\"legendgroup\":\"Pablo Honey\",\"marker\":{\"color\":\"#636efa\",\"pattern\":{\"shape\":\"\"}},\"name\":\"Pablo Honey\",\"offsetgroup\":\"Pablo Honey\",\"orientation\":\"v\",\"showlegend\":true,\"textposition\":\"auto\",\"x\":[\"Pablo Honey\",\"Pablo Honey\",\"Pablo Honey\",\"Pablo Honey\",\"Pablo Honey\",\"Pablo Honey\",\"Pablo Honey\",\"Pablo Honey\",\"Pablo Honey\",\"Pablo Honey\",\"Pablo Honey\",\"Pablo Honey\"],\"xaxis\":\"x\",\"y\":[1,1,1,1,1,1,1,1,1,1,1,1],\"yaxis\":\"y\",\"type\":\"bar\"},{\"alignmentgroup\":\"True\",\"hovertemplate\":\"\\u003cb\\u003e%{hovertext}\\u003c\\u002fb\\u003e\\u003cbr\\u003e\\u003cbr\\u003eAlbum Name=%{x}\\u003cbr\\u003eNumber of Tracks=%{y}\\u003cextra\\u003e\\u003c\\u002fextra\\u003e\",\"hovertext\":[\"Planet Telex\",\"The Bends\",\"High And Dry\",\"Fake Plastic Trees\",\"Bones\",\"(Nice Dream)\",\"Just\",\"My Iron Lung\",\"Bullet Proof ... I Wish I Was\",\"Black Star\",\"Sulk\",\"Street Spirit (Fade Out)\"],\"legendgroup\":\"The Bends\",\"marker\":{\"color\":\"#EF553B\",\"pattern\":{\"shape\":\"\"}},\"name\":\"The Bends\",\"offsetgroup\":\"The Bends\",\"orientation\":\"v\",\"showlegend\":true,\"textposition\":\"auto\",\"x\":[\"The Bends\",\"The Bends\",\"The Bends\",\"The Bends\",\"The Bends\",\"The Bends\",\"The Bends\",\"The Bends\",\"The Bends\",\"The Bends\",\"The Bends\",\"The Bends\"],\"xaxis\":\"x\",\"y\":[1,1,1,1,1,1,1,1,1,1,1,1],\"yaxis\":\"y\",\"type\":\"bar\"},{\"alignmentgroup\":\"True\",\"hovertemplate\":\"\\u003cb\\u003e%{hovertext}\\u003c\\u002fb\\u003e\\u003cbr\\u003e\\u003cbr\\u003eAlbum Name=%{x}\\u003cbr\\u003eNumber of Tracks=%{y}\\u003cextra\\u003e\\u003c\\u002fextra\\u003e\",\"hovertext\":[\"Airbag\",\"Paranoid Android\",\"Subterranean Homesick Alien\",\"Exit Music (For a Film)\",\"Let Down\",\"Karma Police\",\"Fitter Happier\",\"Electioneering\",\"Climbing Up the Walls\",\"No Surprises\",\"Lucky\",\"The Tourist\"],\"legendgroup\":\"OK Computer\",\"marker\":{\"color\":\"#00cc96\",\"pattern\":{\"shape\":\"\"}},\"name\":\"OK Computer\",\"offsetgroup\":\"OK Computer\",\"orientation\":\"v\",\"showlegend\":true,\"textposition\":\"auto\",\"x\":[\"OK Computer\",\"OK Computer\",\"OK Computer\",\"OK Computer\",\"OK Computer\",\"OK Computer\",\"OK Computer\",\"OK Computer\",\"OK Computer\",\"OK Computer\",\"OK Computer\",\"OK Computer\"],\"xaxis\":\"x\",\"y\":[1,1,1,1,1,1,1,1,1,1,1,1],\"yaxis\":\"y\",\"type\":\"bar\"},{\"alignmentgroup\":\"True\",\"hovertemplate\":\"\\u003cb\\u003e%{hovertext}\\u003c\\u002fb\\u003e\\u003cbr\\u003e\\u003cbr\\u003eAlbum Name=%{x}\\u003cbr\\u003eNumber of Tracks=%{y}\\u003cextra\\u003e\\u003c\\u002fextra\\u003e\",\"hovertext\":[\"Everything In Its Right Place\",\"Kid A\",\"The National Anthem\",\"How To Disappear Completely\",\"Treefingers\",\"Optimistic\",\"In Limbo\",\"Idioteque\",\"Morning Bell\",\"Motion Picture Soundtrack\",\"Untitled\"],\"legendgroup\":\"Kid A\",\"marker\":{\"color\":\"#ab63fa\",\"pattern\":{\"shape\":\"\"}},\"name\":\"Kid A\",\"offsetgroup\":\"Kid A\",\"orientation\":\"v\",\"showlegend\":true,\"textposition\":\"auto\",\"x\":[\"Kid A\",\"Kid A\",\"Kid A\",\"Kid A\",\"Kid A\",\"Kid A\",\"Kid A\",\"Kid A\",\"Kid A\",\"Kid A\",\"Kid A\"],\"xaxis\":\"x\",\"y\":[1,1,1,1,1,1,1,1,1,1,1],\"yaxis\":\"y\",\"type\":\"bar\"},{\"alignmentgroup\":\"True\",\"hovertemplate\":\"\\u003cb\\u003e%{hovertext}\\u003c\\u002fb\\u003e\\u003cbr\\u003e\\u003cbr\\u003eAlbum Name=%{x}\\u003cbr\\u003eNumber of Tracks=%{y}\\u003cextra\\u003e\\u003c\\u002fextra\\u003e\",\"hovertext\":[\"Packt Like Sardines In a Crushed Tin Box\",\"Pyramid Song\",\"Pulk\\u002fPull Revolving Doors\",\"You And Whose Army?\",\"I Might Be Wrong\",\"Knives Out\",\"Morning Bell\\u002fAmnesiac\",\"Dollars & Cents\",\"Hunting Bears\",\"Like Spinning Plates\",\"Life In a Glasshouse\"],\"legendgroup\":\"Amnesiac\",\"marker\":{\"color\":\"#FFA15A\",\"pattern\":{\"shape\":\"\"}},\"name\":\"Amnesiac\",\"offsetgroup\":\"Amnesiac\",\"orientation\":\"v\",\"showlegend\":true,\"textposition\":\"auto\",\"x\":[\"Amnesiac\",\"Amnesiac\",\"Amnesiac\",\"Amnesiac\",\"Amnesiac\",\"Amnesiac\",\"Amnesiac\",\"Amnesiac\",\"Amnesiac\",\"Amnesiac\",\"Amnesiac\"],\"xaxis\":\"x\",\"y\":[1,1,1,1,1,1,1,1,1,1,1],\"yaxis\":\"y\",\"type\":\"bar\"},{\"alignmentgroup\":\"True\",\"hovertemplate\":\"\\u003cb\\u003e%{hovertext}\\u003c\\u002fb\\u003e\\u003cbr\\u003e\\u003cbr\\u003eAlbum Name=%{x}\\u003cbr\\u003eNumber of Tracks=%{y}\\u003cextra\\u003e\\u003c\\u002fextra\\u003e\",\"hovertext\":[\"2 + 2 = 5\",\"Sit Down. Stand Up\",\"Sail To The Moon\",\"Backdrifts\",\"Go To Sleep\",\"Where I End and You Begin\",\"We Suck Young Blood\",\"The Gloaming\",\"There, There\",\"I Will\",\"A Punch Up At a Wedding\",\"Myxomatosis\",\"Scatterbrain\",\"A Wolf At the Door\"],\"legendgroup\":\"Hail To the Thief\",\"marker\":{\"color\":\"#19d3f3\",\"pattern\":{\"shape\":\"\"}},\"name\":\"Hail To the Thief\",\"offsetgroup\":\"Hail To the Thief\",\"orientation\":\"v\",\"showlegend\":true,\"textposition\":\"auto\",\"x\":[\"Hail To the Thief\",\"Hail To the Thief\",\"Hail To the Thief\",\"Hail To the Thief\",\"Hail To the Thief\",\"Hail To the Thief\",\"Hail To the Thief\",\"Hail To the Thief\",\"Hail To the Thief\",\"Hail To the Thief\",\"Hail To the Thief\",\"Hail To the Thief\",\"Hail To the Thief\",\"Hail To the Thief\"],\"xaxis\":\"x\",\"y\":[1,1,1,1,1,1,1,1,1,1,1,1,1,1],\"yaxis\":\"y\",\"type\":\"bar\"},{\"alignmentgroup\":\"True\",\"hovertemplate\":\"\\u003cb\\u003e%{hovertext}\\u003c\\u002fb\\u003e\\u003cbr\\u003e\\u003cbr\\u003eAlbum Name=%{x}\\u003cbr\\u003eNumber of Tracks=%{y}\\u003cextra\\u003e\\u003c\\u002fextra\\u003e\",\"hovertext\":[\"15 Step\",\"Bodysnatchers\",\"Nude\",\"Weird Fishes\\u002f Arpeggi\",\"All I Need\",\"Faust Arp\",\"Reckoner\",\"House Of Cards\",\"Jigsaw Falling Into Place\",\"Videotape\"],\"legendgroup\":\"In Rainbows\",\"marker\":{\"color\":\"#FF6692\",\"pattern\":{\"shape\":\"\"}},\"name\":\"In Rainbows\",\"offsetgroup\":\"In Rainbows\",\"orientation\":\"v\",\"showlegend\":true,\"textposition\":\"auto\",\"x\":[\"In Rainbows\",\"In Rainbows\",\"In Rainbows\",\"In Rainbows\",\"In Rainbows\",\"In Rainbows\",\"In Rainbows\",\"In Rainbows\",\"In Rainbows\",\"In Rainbows\"],\"xaxis\":\"x\",\"y\":[1,1,1,1,1,1,1,1,1,1],\"yaxis\":\"y\",\"type\":\"bar\"},{\"alignmentgroup\":\"True\",\"hovertemplate\":\"\\u003cb\\u003e%{hovertext}\\u003c\\u002fb\\u003e\\u003cbr\\u003e\\u003cbr\\u003eAlbum Name=%{x}\\u003cbr\\u003eNumber of Tracks=%{y}\\u003cextra\\u003e\\u003c\\u002fextra\\u003e\",\"hovertext\":[\"Bloom\",\"Morning Mr Magpie\",\"Little By Little\",\"Feral\",\"Lotus Flower\",\"Codex\",\"Give Up The Ghost\",\"Separator\"],\"legendgroup\":\"The King Of Limbs\",\"marker\":{\"color\":\"#B6E880\",\"pattern\":{\"shape\":\"\"}},\"name\":\"The King Of Limbs\",\"offsetgroup\":\"The King Of Limbs\",\"orientation\":\"v\",\"showlegend\":true,\"textposition\":\"auto\",\"x\":[\"The King Of Limbs\",\"The King Of Limbs\",\"The King Of Limbs\",\"The King Of Limbs\",\"The King Of Limbs\",\"The King Of Limbs\",\"The King Of Limbs\",\"The King Of Limbs\"],\"xaxis\":\"x\",\"y\":[1,1,1,1,1,1,1,1],\"yaxis\":\"y\",\"type\":\"bar\"},{\"alignmentgroup\":\"True\",\"hovertemplate\":\"\\u003cb\\u003e%{hovertext}\\u003c\\u002fb\\u003e\\u003cbr\\u003e\\u003cbr\\u003eAlbum Name=%{x}\\u003cbr\\u003eNumber of Tracks=%{y}\\u003cextra\\u003e\\u003c\\u002fextra\\u003e\",\"hovertext\":[\"Burn the Witch\",\"Daydreaming\",\"Decks Dark\",\"Desert Island Disk\",\"Ful Stop\",\"Glass Eyes\",\"Identikit\",\"The Numbers\",\"Present Tense\",\"Tinker Tailor Soldier Sailor Rich Man Poor Man Beggar Man Thief\",\"True Love Waits\"],\"legendgroup\":\"A Moon Shaped Pool\",\"marker\":{\"color\":\"#FF97FF\",\"pattern\":{\"shape\":\"\"}},\"name\":\"A Moon Shaped Pool\",\"offsetgroup\":\"A Moon Shaped Pool\",\"orientation\":\"v\",\"showlegend\":true,\"textposition\":\"auto\",\"x\":[\"A Moon Shaped Pool\",\"A Moon Shaped Pool\",\"A Moon Shaped Pool\",\"A Moon Shaped Pool\",\"A Moon Shaped Pool\",\"A Moon Shaped Pool\",\"A Moon Shaped Pool\",\"A Moon Shaped Pool\",\"A Moon Shaped Pool\",\"A Moon Shaped Pool\",\"A Moon Shaped Pool\"],\"xaxis\":\"x\",\"y\":[1,1,1,1,1,1,1,1,1,1,1],\"yaxis\":\"y\",\"type\":\"bar\"}],                        {\"template\":{\"data\":{\"barpolar\":[{\"marker\":{\"line\":{\"color\":\"rgb(17,17,17)\",\"width\":0.5},\"pattern\":{\"fillmode\":\"overlay\",\"size\":10,\"solidity\":0.2}},\"type\":\"barpolar\"}],\"bar\":[{\"error_x\":{\"color\":\"#f2f5fa\"},\"error_y\":{\"color\":\"#f2f5fa\"},\"marker\":{\"line\":{\"color\":\"rgb(17,17,17)\",\"width\":0.5},\"pattern\":{\"fillmode\":\"overlay\",\"size\":10,\"solidity\":0.2}},\"type\":\"bar\"}],\"carpet\":[{\"aaxis\":{\"endlinecolor\":\"#A2B1C6\",\"gridcolor\":\"#506784\",\"linecolor\":\"#506784\",\"minorgridcolor\":\"#506784\",\"startlinecolor\":\"#A2B1C6\"},\"baxis\":{\"endlinecolor\":\"#A2B1C6\",\"gridcolor\":\"#506784\",\"linecolor\":\"#506784\",\"minorgridcolor\":\"#506784\",\"startlinecolor\":\"#A2B1C6\"},\"type\":\"carpet\"}],\"choropleth\":[{\"colorbar\":{\"outlinewidth\":0,\"ticks\":\"\"},\"type\":\"choropleth\"}],\"contourcarpet\":[{\"colorbar\":{\"outlinewidth\":0,\"ticks\":\"\"},\"type\":\"contourcarpet\"}],\"contour\":[{\"colorbar\":{\"outlinewidth\":0,\"ticks\":\"\"},\"colorscale\":[[0.0,\"#0d0887\"],[0.1111111111111111,\"#46039f\"],[0.2222222222222222,\"#7201a8\"],[0.3333333333333333,\"#9c179e\"],[0.4444444444444444,\"#bd3786\"],[0.5555555555555556,\"#d8576b\"],[0.6666666666666666,\"#ed7953\"],[0.7777777777777778,\"#fb9f3a\"],[0.8888888888888888,\"#fdca26\"],[1.0,\"#f0f921\"]],\"type\":\"contour\"}],\"heatmapgl\":[{\"colorbar\":{\"outlinewidth\":0,\"ticks\":\"\"},\"colorscale\":[[0.0,\"#0d0887\"],[0.1111111111111111,\"#46039f\"],[0.2222222222222222,\"#7201a8\"],[0.3333333333333333,\"#9c179e\"],[0.4444444444444444,\"#bd3786\"],[0.5555555555555556,\"#d8576b\"],[0.6666666666666666,\"#ed7953\"],[0.7777777777777778,\"#fb9f3a\"],[0.8888888888888888,\"#fdca26\"],[1.0,\"#f0f921\"]],\"type\":\"heatmapgl\"}],\"heatmap\":[{\"colorbar\":{\"outlinewidth\":0,\"ticks\":\"\"},\"colorscale\":[[0.0,\"#0d0887\"],[0.1111111111111111,\"#46039f\"],[0.2222222222222222,\"#7201a8\"],[0.3333333333333333,\"#9c179e\"],[0.4444444444444444,\"#bd3786\"],[0.5555555555555556,\"#d8576b\"],[0.6666666666666666,\"#ed7953\"],[0.7777777777777778,\"#fb9f3a\"],[0.8888888888888888,\"#fdca26\"],[1.0,\"#f0f921\"]],\"type\":\"heatmap\"}],\"histogram2dcontour\":[{\"colorbar\":{\"outlinewidth\":0,\"ticks\":\"\"},\"colorscale\":[[0.0,\"#0d0887\"],[0.1111111111111111,\"#46039f\"],[0.2222222222222222,\"#7201a8\"],[0.3333333333333333,\"#9c179e\"],[0.4444444444444444,\"#bd3786\"],[0.5555555555555556,\"#d8576b\"],[0.6666666666666666,\"#ed7953\"],[0.7777777777777778,\"#fb9f3a\"],[0.8888888888888888,\"#fdca26\"],[1.0,\"#f0f921\"]],\"type\":\"histogram2dcontour\"}],\"histogram2d\":[{\"colorbar\":{\"outlinewidth\":0,\"ticks\":\"\"},\"colorscale\":[[0.0,\"#0d0887\"],[0.1111111111111111,\"#46039f\"],[0.2222222222222222,\"#7201a8\"],[0.3333333333333333,\"#9c179e\"],[0.4444444444444444,\"#bd3786\"],[0.5555555555555556,\"#d8576b\"],[0.6666666666666666,\"#ed7953\"],[0.7777777777777778,\"#fb9f3a\"],[0.8888888888888888,\"#fdca26\"],[1.0,\"#f0f921\"]],\"type\":\"histogram2d\"}],\"histogram\":[{\"marker\":{\"pattern\":{\"fillmode\":\"overlay\",\"size\":10,\"solidity\":0.2}},\"type\":\"histogram\"}],\"mesh3d\":[{\"colorbar\":{\"outlinewidth\":0,\"ticks\":\"\"},\"type\":\"mesh3d\"}],\"parcoords\":[{\"line\":{\"colorbar\":{\"outlinewidth\":0,\"ticks\":\"\"}},\"type\":\"parcoords\"}],\"pie\":[{\"automargin\":true,\"type\":\"pie\"}],\"scatter3d\":[{\"line\":{\"colorbar\":{\"outlinewidth\":0,\"ticks\":\"\"}},\"marker\":{\"colorbar\":{\"outlinewidth\":0,\"ticks\":\"\"}},\"type\":\"scatter3d\"}],\"scattercarpet\":[{\"marker\":{\"colorbar\":{\"outlinewidth\":0,\"ticks\":\"\"}},\"type\":\"scattercarpet\"}],\"scattergeo\":[{\"marker\":{\"colorbar\":{\"outlinewidth\":0,\"ticks\":\"\"}},\"type\":\"scattergeo\"}],\"scattergl\":[{\"marker\":{\"line\":{\"color\":\"#283442\"}},\"type\":\"scattergl\"}],\"scattermapbox\":[{\"marker\":{\"colorbar\":{\"outlinewidth\":0,\"ticks\":\"\"}},\"type\":\"scattermapbox\"}],\"scatterpolargl\":[{\"marker\":{\"colorbar\":{\"outlinewidth\":0,\"ticks\":\"\"}},\"type\":\"scatterpolargl\"}],\"scatterpolar\":[{\"marker\":{\"colorbar\":{\"outlinewidth\":0,\"ticks\":\"\"}},\"type\":\"scatterpolar\"}],\"scatter\":[{\"marker\":{\"line\":{\"color\":\"#283442\"}},\"type\":\"scatter\"}],\"scatterternary\":[{\"marker\":{\"colorbar\":{\"outlinewidth\":0,\"ticks\":\"\"}},\"type\":\"scatterternary\"}],\"surface\":[{\"colorbar\":{\"outlinewidth\":0,\"ticks\":\"\"},\"colorscale\":[[0.0,\"#0d0887\"],[0.1111111111111111,\"#46039f\"],[0.2222222222222222,\"#7201a8\"],[0.3333333333333333,\"#9c179e\"],[0.4444444444444444,\"#bd3786\"],[0.5555555555555556,\"#d8576b\"],[0.6666666666666666,\"#ed7953\"],[0.7777777777777778,\"#fb9f3a\"],[0.8888888888888888,\"#fdca26\"],[1.0,\"#f0f921\"]],\"type\":\"surface\"}],\"table\":[{\"cells\":{\"fill\":{\"color\":\"#506784\"},\"line\":{\"color\":\"rgb(17,17,17)\"}},\"header\":{\"fill\":{\"color\":\"#2a3f5f\"},\"line\":{\"color\":\"rgb(17,17,17)\"}},\"type\":\"table\"}]},\"layout\":{\"annotationdefaults\":{\"arrowcolor\":\"#f2f5fa\",\"arrowhead\":0,\"arrowwidth\":1},\"autotypenumbers\":\"strict\",\"coloraxis\":{\"colorbar\":{\"outlinewidth\":0,\"ticks\":\"\"}},\"colorscale\":{\"diverging\":[[0,\"#8e0152\"],[0.1,\"#c51b7d\"],[0.2,\"#de77ae\"],[0.3,\"#f1b6da\"],[0.4,\"#fde0ef\"],[0.5,\"#f7f7f7\"],[0.6,\"#e6f5d0\"],[0.7,\"#b8e186\"],[0.8,\"#7fbc41\"],[0.9,\"#4d9221\"],[1,\"#276419\"]],\"sequential\":[[0.0,\"#0d0887\"],[0.1111111111111111,\"#46039f\"],[0.2222222222222222,\"#7201a8\"],[0.3333333333333333,\"#9c179e\"],[0.4444444444444444,\"#bd3786\"],[0.5555555555555556,\"#d8576b\"],[0.6666666666666666,\"#ed7953\"],[0.7777777777777778,\"#fb9f3a\"],[0.8888888888888888,\"#fdca26\"],[1.0,\"#f0f921\"]],\"sequentialminus\":[[0.0,\"#0d0887\"],[0.1111111111111111,\"#46039f\"],[0.2222222222222222,\"#7201a8\"],[0.3333333333333333,\"#9c179e\"],[0.4444444444444444,\"#bd3786\"],[0.5555555555555556,\"#d8576b\"],[0.6666666666666666,\"#ed7953\"],[0.7777777777777778,\"#fb9f3a\"],[0.8888888888888888,\"#fdca26\"],[1.0,\"#f0f921\"]]},\"colorway\":[\"#636efa\",\"#EF553B\",\"#00cc96\",\"#ab63fa\",\"#FFA15A\",\"#19d3f3\",\"#FF6692\",\"#B6E880\",\"#FF97FF\",\"#FECB52\"],\"font\":{\"color\":\"#f2f5fa\"},\"geo\":{\"bgcolor\":\"rgb(17,17,17)\",\"lakecolor\":\"rgb(17,17,17)\",\"landcolor\":\"rgb(17,17,17)\",\"showlakes\":true,\"showland\":true,\"subunitcolor\":\"#506784\"},\"hoverlabel\":{\"align\":\"left\"},\"hovermode\":\"closest\",\"mapbox\":{\"style\":\"dark\"},\"paper_bgcolor\":\"rgb(17,17,17)\",\"plot_bgcolor\":\"rgb(17,17,17)\",\"polar\":{\"angularaxis\":{\"gridcolor\":\"#506784\",\"linecolor\":\"#506784\",\"ticks\":\"\"},\"bgcolor\":\"rgb(17,17,17)\",\"radialaxis\":{\"gridcolor\":\"#506784\",\"linecolor\":\"#506784\",\"ticks\":\"\"}},\"scene\":{\"xaxis\":{\"backgroundcolor\":\"rgb(17,17,17)\",\"gridcolor\":\"#506784\",\"gridwidth\":2,\"linecolor\":\"#506784\",\"showbackground\":true,\"ticks\":\"\",\"zerolinecolor\":\"#C8D4E3\"},\"yaxis\":{\"backgroundcolor\":\"rgb(17,17,17)\",\"gridcolor\":\"#506784\",\"gridwidth\":2,\"linecolor\":\"#506784\",\"showbackground\":true,\"ticks\":\"\",\"zerolinecolor\":\"#C8D4E3\"},\"zaxis\":{\"backgroundcolor\":\"rgb(17,17,17)\",\"gridcolor\":\"#506784\",\"gridwidth\":2,\"linecolor\":\"#506784\",\"showbackground\":true,\"ticks\":\"\",\"zerolinecolor\":\"#C8D4E3\"}},\"shapedefaults\":{\"line\":{\"color\":\"#f2f5fa\"}},\"sliderdefaults\":{\"bgcolor\":\"#C8D4E3\",\"bordercolor\":\"rgb(17,17,17)\",\"borderwidth\":1,\"tickwidth\":0},\"ternary\":{\"aaxis\":{\"gridcolor\":\"#506784\",\"linecolor\":\"#506784\",\"ticks\":\"\"},\"baxis\":{\"gridcolor\":\"#506784\",\"linecolor\":\"#506784\",\"ticks\":\"\"},\"bgcolor\":\"rgb(17,17,17)\",\"caxis\":{\"gridcolor\":\"#506784\",\"linecolor\":\"#506784\",\"ticks\":\"\"}},\"title\":{\"x\":0.05},\"updatemenudefaults\":{\"bgcolor\":\"#506784\",\"borderwidth\":0},\"xaxis\":{\"automargin\":true,\"gridcolor\":\"#283442\",\"linecolor\":\"#506784\",\"ticks\":\"\",\"title\":{\"standoff\":15},\"zerolinecolor\":\"#283442\",\"zerolinewidth\":2},\"yaxis\":{\"automargin\":true,\"gridcolor\":\"#283442\",\"linecolor\":\"#506784\",\"ticks\":\"\",\"title\":{\"standoff\":15},\"zerolinecolor\":\"#283442\",\"zerolinewidth\":2}}},\"xaxis\":{\"anchor\":\"y\",\"domain\":[0.0,1.0],\"title\":{\"text\":\"Album Name\"},\"categoryorder\":\"array\",\"categoryarray\":[\"Pablo Honey\",\"The Bends\",\"OK Computer\",\"Kid A\",\"Amnesiac\",\"Hail To the Thief\",\"In Rainbows\",\"The King Of Limbs\",\"A Moon Shaped Pool\"]},\"yaxis\":{\"anchor\":\"x\",\"domain\":[0.0,1.0],\"title\":{\"text\":\"Number of Tracks\"}},\"legend\":{\"title\":{\"text\":\"Album Name\"},\"tracegroupgap\":0},\"title\":{\"text\":\"\\u003cb\\u003eRadiohead Albums by Number of Tracks\\u003c\\u002fb\\u003e \\u003cbr\\u003eIt seems like albums have been getting shorter, simply going by number of songs.\"},\"barmode\":\"relative\",\"annotations\":[{\"align\":\"left\",\"showarrow\":false,\"text\":\"Data Source: \\u003ca href=\\u201dhttps:\\u002f\\u002fwww.kaggle.com\\u002fdatasets\\u002flavagod\\u002fradiohead\\u002fversions\\u002f1?resource=download\\u201d\\u003eRadiohead Data\\u003c\\u002fa\\u003e \\u003cbr\\u003eViz: \\u003ca href=\\u201dhttps:\\u002f\\u002ftwitter.com\\u002f_prospecttheory\\u201d\\u003e@_prospecttheory\\u003c\\u002fa\\u003e \\u003cbr\\u003e \\u003cbr\\u003e \\u003cbr\\u003e \\u003cbr\\u003e \\u003cbr\\u003e\",\"x\":-0.07,\"xref\":\"paper\",\"y\":-0.7,\"yref\":\"paper\"}]},                        {\"responsive\": true}                    ).then(function(){\n",
       "                            \n",
       "var gd = document.getElementById('032b1db8-f4ca-4a49-affa-959f2ae86cf7');\n",
       "var x = new MutationObserver(function (mutations, observer) {{\n",
       "        var display = window.getComputedStyle(gd).display;\n",
       "        if (!display || display === 'none') {{\n",
       "            console.log([gd, 'removed!']);\n",
       "            Plotly.purge(gd);\n",
       "            observer.disconnect();\n",
       "        }}\n",
       "}});\n",
       "\n",
       "// Listen for the removal of the full notebook cells\n",
       "var notebookContainer = gd.closest('#notebook-container');\n",
       "if (notebookContainer) {{\n",
       "    x.observe(notebookContainer, {childList: true});\n",
       "}}\n",
       "\n",
       "// Listen for the clearing of the current output cell\n",
       "var outputEl = gd.closest('.output');\n",
       "if (outputEl) {{\n",
       "    x.observe(outputEl, {childList: true});\n",
       "}}\n",
       "\n",
       "                        })                };                });            </script>        </div>"
      ]
     },
     "metadata": {},
     "output_type": "display_data"
    }
   ],
   "source": [
    "#Plot Number of Tracks\n",
    "fig = px.bar(df_radiohead, x = 'album_name', color = 'album_name', hover_name= 'track_name',\n",
    "            labels={'album_name':'Album Name', 'duration_mins': 'Duration in Minutes', 'track_name':'Track Name', 'count':'Number of Tracks'},\n",
    "            title= '<b>Radiohead Albums by Number of Tracks</b> <br>It seems like albums have been getting shorter, simply going by number of songs.',\n",
    "            template='plotly_dark')\n",
    "\n",
    "#Add Signature\n",
    "fig.add_annotation(text='Data Source: <a href=”https://www.kaggle.com/datasets/lavagod/radiohead/versions/1?resource=download”>Radiohead Data</a> <br>Viz: <a href=”https://twitter.com/_prospecttheory”>@_prospecttheory</a> <br> <br> <br> <br> <br>', \n",
    "                    align='left',\n",
    "                    showarrow=False,\n",
    "                    xref='paper',\n",
    "                    yref='paper',\n",
    "                    x= -0.07,\n",
    "                    y= -0.7)\n",
    "\n",
    "fig.show()"
   ]
  },
  {
   "cell_type": "markdown",
   "id": "a08d87a4",
   "metadata": {},
   "source": [
    "While they started out with a fairly consistent output of 12 tracks per album, their work tended to feature less tracks in the later years with the exeption of 'Hail To the Thief'. "
   ]
  },
  {
   "cell_type": "markdown",
   "id": "00316f14",
   "metadata": {},
   "source": [
    "### Hard facts #2 - Duration of the Albums\n",
    "\n",
    "But did their albums really consist less music?"
   ]
  },
  {
   "cell_type": "code",
   "execution_count": 360,
   "id": "3d4f2508",
   "metadata": {},
   "outputs": [
    {
     "data": {
      "application/vnd.plotly.v1+json": {
       "config": {
        "plotlyServerURL": "https://plot.ly"
       },
       "data": [
        {
         "alignmentgroup": "True",
         "hovertemplate": "<b>%{hovertext}</b><br><br>Album Name=%{x}<br>Duration in Minutes=%{y}<extra></extra>",
         "hovertext": [
          "You",
          "Creep",
          "How Do You?",
          "Stop Whispering",
          "Thinking About You",
          "Anyone Can Play Guitar",
          "Ripcord",
          "Vegetable",
          "Prove Yourself",
          "I Can't",
          "Lurgee",
          "Blow Out"
         ],
         "legendgroup": "Pablo Honey",
         "marker": {
          "color": "#636efa",
          "pattern": {
           "shape": ""
          }
         },
         "name": "Pablo Honey",
         "offsetgroup": "Pablo Honey",
         "orientation": "v",
         "showlegend": true,
         "textposition": "auto",
         "type": "bar",
         "x": [
          "Pablo Honey",
          "Pablo Honey",
          "Pablo Honey",
          "Pablo Honey",
          "Pablo Honey",
          "Pablo Honey",
          "Pablo Honey",
          "Pablo Honey",
          "Pablo Honey",
          "Pablo Honey",
          "Pablo Honey",
          "Pablo Honey"
         ],
         "xaxis": "x",
         "y": [
          3.4777833333333334,
          3.977333333333333,
          2.2028833333333333,
          5.427116666666667,
          2.6922166666666665,
          3.63,
          3.1622166666666667,
          3.211116666666667,
          2.4228833333333335,
          4.218216666666667,
          3.1311166666666668,
          4.701116666666667
         ],
         "yaxis": "y"
        },
        {
         "alignmentgroup": "True",
         "hovertemplate": "<b>%{hovertext}</b><br><br>Album Name=%{x}<br>Duration in Minutes=%{y}<extra></extra>",
         "hovertext": [
          "Planet Telex",
          "The Bends",
          "High And Dry",
          "Fake Plastic Trees",
          "Bones",
          "(Nice Dream)",
          "Just",
          "My Iron Lung",
          "Bullet Proof ... I Wish I Was",
          "Black Star",
          "Sulk",
          "Street Spirit (Fade Out)"
         ],
         "legendgroup": "The Bends",
         "marker": {
          "color": "#EF553B",
          "pattern": {
           "shape": ""
          }
         },
         "name": "The Bends",
         "offsetgroup": "The Bends",
         "orientation": "v",
         "showlegend": true,
         "textposition": "auto",
         "type": "bar",
         "x": [
          "The Bends",
          "The Bends",
          "The Bends",
          "The Bends",
          "The Bends",
          "The Bends",
          "The Bends",
          "The Bends",
          "The Bends",
          "The Bends",
          "The Bends",
          "The Bends"
         ],
         "xaxis": "x",
         "y": [
          4.32,
          4.1033333333333335,
          4.291333333333333,
          4.845116666666667,
          3.15,
          3.8871166666666666,
          3.9133333333333336,
          4.607116666666666,
          3.4788833333333335,
          4.117333333333334,
          3.716,
          4.230883333333334
         ],
         "yaxis": "y"
        },
        {
         "alignmentgroup": "True",
         "hovertemplate": "<b>%{hovertext}</b><br><br>Album Name=%{x}<br>Duration in Minutes=%{y}<extra></extra>",
         "hovertext": [
          "Airbag",
          "Paranoid Android",
          "Subterranean Homesick Alien",
          "Exit Music (For a Film)",
          "Let Down",
          "Karma Police",
          "Fitter Happier",
          "Electioneering",
          "Climbing Up the Walls",
          "No Surprises",
          "Lucky",
          "The Tourist"
         ],
         "legendgroup": "OK Computer",
         "marker": {
          "color": "#00cc96",
          "pattern": {
           "shape": ""
          }
         },
         "name": "OK Computer",
         "offsetgroup": "OK Computer",
         "orientation": "v",
         "showlegend": true,
         "textposition": "auto",
         "type": "bar",
         "x": [
          "OK Computer",
          "OK Computer",
          "OK Computer",
          "OK Computer",
          "OK Computer",
          "OK Computer",
          "OK Computer",
          "OK Computer",
          "OK Computer",
          "OK Computer",
          "OK Computer",
          "OK Computer"
         ],
         "xaxis": "x",
         "y": [
          4.798,
          6.45355,
          4.46155,
          4.453116666666666,
          4.992666666666667,
          4.401116666666667,
          1.95555,
          3.8437833333333336,
          4.753333333333333,
          3.8186666666666667,
          4.31355,
          5.442216666666667
         ],
         "yaxis": "y"
        },
        {
         "alignmentgroup": "True",
         "hovertemplate": "<b>%{hovertext}</b><br><br>Album Name=%{x}<br>Duration in Minutes=%{y}<extra></extra>",
         "hovertext": [
          "Everything In Its Right Place",
          "Kid A",
          "The National Anthem",
          "How To Disappear Completely",
          "Treefingers",
          "Optimistic",
          "In Limbo",
          "Idioteque",
          "Morning Bell",
          "Motion Picture Soundtrack",
          "Untitled"
         ],
         "legendgroup": "Kid A",
         "marker": {
          "color": "#ab63fa",
          "pattern": {
           "shape": ""
          }
         },
         "name": "Kid A",
         "offsetgroup": "Kid A",
         "orientation": "v",
         "showlegend": true,
         "textposition": "auto",
         "type": "bar",
         "x": [
          "Kid A",
          "Kid A",
          "Kid A",
          "Kid A",
          "Kid A",
          "Kid A",
          "Kid A",
          "Kid A",
          "Kid A",
          "Kid A",
          "Kid A"
         ],
         "xaxis": "x",
         "y": [
          4.19045,
          4.741783333333333,
          5.86155,
          5.938883333333333,
          3.71,
          5.266216666666667,
          3.5166666666666666,
          5.15155,
          4.596666666666667,
          3.3413833333333334,
          0.87825
         ],
         "yaxis": "y"
        },
        {
         "alignmentgroup": "True",
         "hovertemplate": "<b>%{hovertext}</b><br><br>Album Name=%{x}<br>Duration in Minutes=%{y}<extra></extra>",
         "hovertext": [
          "Packt Like Sardines In a Crushed Tin Box",
          "Pyramid Song",
          "Pulk/Pull Revolving Doors",
          "You And Whose Army?",
          "I Might Be Wrong",
          "Knives Out",
          "Morning Bell/Amnesiac",
          "Dollars & Cents",
          "Hunting Bears",
          "Like Spinning Plates",
          "Life In a Glasshouse"
         ],
         "legendgroup": "Amnesiac",
         "marker": {
          "color": "#FFA15A",
          "pattern": {
           "shape": ""
          }
         },
         "name": "Amnesiac",
         "offsetgroup": "Amnesiac",
         "orientation": "v",
         "showlegend": true,
         "textposition": "auto",
         "type": "bar",
         "x": [
          "Amnesiac",
          "Amnesiac",
          "Amnesiac",
          "Amnesiac",
          "Amnesiac",
          "Amnesiac",
          "Amnesiac",
          "Amnesiac",
          "Amnesiac",
          "Amnesiac",
          "Amnesiac"
         ],
         "xaxis": "x",
         "y": [
          4.00555,
          4.812216666666667,
          4.1211166666666665,
          3.183333333333333,
          4.896216666666667,
          4.2477833333333335,
          3.2377833333333332,
          4.862216666666667,
          2.02,
          3.9577833333333334,
          4.61155
         ],
         "yaxis": "y"
        },
        {
         "alignmentgroup": "True",
         "hovertemplate": "<b>%{hovertext}</b><br><br>Album Name=%{x}<br>Duration in Minutes=%{y}<extra></extra>",
         "hovertext": [
          "2 + 2 = 5",
          "Sit Down. Stand Up",
          "Sail To The Moon",
          "Backdrifts",
          "Go To Sleep",
          "Where I End and You Begin",
          "We Suck Young Blood",
          "The Gloaming",
          "There, There",
          "I Will",
          "A Punch Up At a Wedding",
          "Myxomatosis",
          "Scatterbrain",
          "A Wolf At the Door"
         ],
         "legendgroup": "Hail To the Thief",
         "marker": {
          "color": "#19d3f3",
          "pattern": {
           "shape": ""
          }
         },
         "name": "Hail To the Thief",
         "offsetgroup": "Hail To the Thief",
         "orientation": "v",
         "showlegend": true,
         "textposition": "auto",
         "type": "bar",
         "x": [
          "Hail To the Thief",
          "Hail To the Thief",
          "Hail To the Thief",
          "Hail To the Thief",
          "Hail To the Thief",
          "Hail To the Thief",
          "Hail To the Thief",
          "Hail To the Thief",
          "Hail To the Thief",
          "Hail To the Thief",
          "Hail To the Thief",
          "Hail To the Thief",
          "Hail To the Thief",
          "Hail To the Thief"
         ],
         "xaxis": "x",
         "y": [
          3.3226666666666667,
          4.332883333333333,
          4.306,
          5.376666666666667,
          3.35845,
          4.488216666666666,
          4.945116666666666,
          3.5337833333333335,
          5.3933333333333335,
          1.9911166666666666,
          4.95555,
          3.87555,
          3.3617833333333333,
          3.35555
         ],
         "yaxis": "y"
        },
        {
         "alignmentgroup": "True",
         "hovertemplate": "<b>%{hovertext}</b><br><br>Album Name=%{x}<br>Duration in Minutes=%{y}<extra></extra>",
         "hovertext": [
          "15 Step",
          "Bodysnatchers",
          "Nude",
          "Weird Fishes/ Arpeggi",
          "All I Need",
          "Faust Arp",
          "Reckoner",
          "House Of Cards",
          "Jigsaw Falling Into Place",
          "Videotape"
         ],
         "legendgroup": "In Rainbows",
         "marker": {
          "color": "#FF6692",
          "pattern": {
           "shape": ""
          }
         },
         "name": "In Rainbows",
         "offsetgroup": "In Rainbows",
         "orientation": "v",
         "showlegend": true,
         "textposition": "auto",
         "type": "bar",
         "x": [
          "In Rainbows",
          "In Rainbows",
          "In Rainbows",
          "In Rainbows",
          "In Rainbows",
          "In Rainbows",
          "In Rainbows",
          "In Rainbows",
          "In Rainbows",
          "In Rainbows"
         ],
         "xaxis": "x",
         "y": [
          3.9548833333333335,
          4.038216666666667,
          4.25645,
          5.303116666666667,
          3.81245,
          2.1613333333333333,
          4.836883333333334,
          5.47155,
          4.148216666666666,
          4.660566666666667
         ],
         "yaxis": "y"
        },
        {
         "alignmentgroup": "True",
         "hovertemplate": "<b>%{hovertext}</b><br><br>Album Name=%{x}<br>Duration in Minutes=%{y}<extra></extra>",
         "hovertext": [
          "Bloom",
          "Morning Mr Magpie",
          "Little By Little",
          "Feral",
          "Lotus Flower",
          "Codex",
          "Give Up The Ghost",
          "Separator"
         ],
         "legendgroup": "The King Of Limbs",
         "marker": {
          "color": "#B6E880",
          "pattern": {
           "shape": ""
          }
         },
         "name": "The King Of Limbs",
         "offsetgroup": "The King Of Limbs",
         "orientation": "v",
         "showlegend": true,
         "textposition": "auto",
         "type": "bar",
         "x": [
          "The King Of Limbs",
          "The King Of Limbs",
          "The King Of Limbs",
          "The King Of Limbs",
          "The King Of Limbs",
          "The King Of Limbs",
          "The King Of Limbs",
          "The King Of Limbs"
         ],
         "xaxis": "x",
         "y": [
          5.22785,
          4.67865,
          4.452566666666667,
          3.2123833333333334,
          5.00365,
          4.78445,
          4.83445,
          5.3208166666666665
         ],
         "yaxis": "y"
        },
        {
         "alignmentgroup": "True",
         "hovertemplate": "<b>%{hovertext}</b><br><br>Album Name=%{x}<br>Duration in Minutes=%{y}<extra></extra>",
         "hovertext": [
          "Burn the Witch",
          "Daydreaming",
          "Decks Dark",
          "Desert Island Disk",
          "Ful Stop",
          "Glass Eyes",
          "Identikit",
          "The Numbers",
          "Present Tense",
          "Tinker Tailor Soldier Sailor Rich Man Poor Man Beggar Man Thief",
          "True Love Waits"
         ],
         "legendgroup": "A Moon Shaped Pool",
         "marker": {
          "color": "#FF97FF",
          "pattern": {
           "shape": ""
          }
         },
         "name": "A Moon Shaped Pool",
         "offsetgroup": "A Moon Shaped Pool",
         "orientation": "v",
         "showlegend": true,
         "textposition": "auto",
         "type": "bar",
         "x": [
          "A Moon Shaped Pool",
          "A Moon Shaped Pool",
          "A Moon Shaped Pool",
          "A Moon Shaped Pool",
          "A Moon Shaped Pool",
          "A Moon Shaped Pool",
          "A Moon Shaped Pool",
          "A Moon Shaped Pool",
          "A Moon Shaped Pool",
          "A Moon Shaped Pool",
          "A Moon Shaped Pool"
         ],
         "xaxis": "x",
         "y": [
          3.676816666666667,
          6.4073166666666665,
          4.683516666666667,
          3.7449666666666666,
          6.122483333333333,
          2.8822666666666668,
          4.444066666666667,
          5.764783333333333,
          5.109683333333333,
          5.061483333333333,
          4.7244
         ],
         "yaxis": "y"
        }
       ],
       "layout": {
        "annotations": [
         {
          "align": "left",
          "showarrow": false,
          "text": "Data Source: <a href=”https://www.kaggle.com/datasets/lavagod/radiohead/versions/1?resource=download”>Radiohead Data</a> <br>Viz: <a href=”https://twitter.com/_prospecttheory”>@_prospecttheory</a> <br> <br> <br> <br> <br>",
          "x": -0.07,
          "xref": "paper",
          "y": -0.7,
          "yref": "paper"
         }
        ],
        "barmode": "relative",
        "legend": {
         "title": {
          "text": "Album Name"
         },
         "tracegroupgap": 0
        },
        "template": {
         "data": {
          "bar": [
           {
            "error_x": {
             "color": "#f2f5fa"
            },
            "error_y": {
             "color": "#f2f5fa"
            },
            "marker": {
             "line": {
              "color": "rgb(17,17,17)",
              "width": 0.5
             },
             "pattern": {
              "fillmode": "overlay",
              "size": 10,
              "solidity": 0.2
             }
            },
            "type": "bar"
           }
          ],
          "barpolar": [
           {
            "marker": {
             "line": {
              "color": "rgb(17,17,17)",
              "width": 0.5
             },
             "pattern": {
              "fillmode": "overlay",
              "size": 10,
              "solidity": 0.2
             }
            },
            "type": "barpolar"
           }
          ],
          "carpet": [
           {
            "aaxis": {
             "endlinecolor": "#A2B1C6",
             "gridcolor": "#506784",
             "linecolor": "#506784",
             "minorgridcolor": "#506784",
             "startlinecolor": "#A2B1C6"
            },
            "baxis": {
             "endlinecolor": "#A2B1C6",
             "gridcolor": "#506784",
             "linecolor": "#506784",
             "minorgridcolor": "#506784",
             "startlinecolor": "#A2B1C6"
            },
            "type": "carpet"
           }
          ],
          "choropleth": [
           {
            "colorbar": {
             "outlinewidth": 0,
             "ticks": ""
            },
            "type": "choropleth"
           }
          ],
          "contour": [
           {
            "colorbar": {
             "outlinewidth": 0,
             "ticks": ""
            },
            "colorscale": [
             [
              0,
              "#0d0887"
             ],
             [
              0.1111111111111111,
              "#46039f"
             ],
             [
              0.2222222222222222,
              "#7201a8"
             ],
             [
              0.3333333333333333,
              "#9c179e"
             ],
             [
              0.4444444444444444,
              "#bd3786"
             ],
             [
              0.5555555555555556,
              "#d8576b"
             ],
             [
              0.6666666666666666,
              "#ed7953"
             ],
             [
              0.7777777777777778,
              "#fb9f3a"
             ],
             [
              0.8888888888888888,
              "#fdca26"
             ],
             [
              1,
              "#f0f921"
             ]
            ],
            "type": "contour"
           }
          ],
          "contourcarpet": [
           {
            "colorbar": {
             "outlinewidth": 0,
             "ticks": ""
            },
            "type": "contourcarpet"
           }
          ],
          "heatmap": [
           {
            "colorbar": {
             "outlinewidth": 0,
             "ticks": ""
            },
            "colorscale": [
             [
              0,
              "#0d0887"
             ],
             [
              0.1111111111111111,
              "#46039f"
             ],
             [
              0.2222222222222222,
              "#7201a8"
             ],
             [
              0.3333333333333333,
              "#9c179e"
             ],
             [
              0.4444444444444444,
              "#bd3786"
             ],
             [
              0.5555555555555556,
              "#d8576b"
             ],
             [
              0.6666666666666666,
              "#ed7953"
             ],
             [
              0.7777777777777778,
              "#fb9f3a"
             ],
             [
              0.8888888888888888,
              "#fdca26"
             ],
             [
              1,
              "#f0f921"
             ]
            ],
            "type": "heatmap"
           }
          ],
          "heatmapgl": [
           {
            "colorbar": {
             "outlinewidth": 0,
             "ticks": ""
            },
            "colorscale": [
             [
              0,
              "#0d0887"
             ],
             [
              0.1111111111111111,
              "#46039f"
             ],
             [
              0.2222222222222222,
              "#7201a8"
             ],
             [
              0.3333333333333333,
              "#9c179e"
             ],
             [
              0.4444444444444444,
              "#bd3786"
             ],
             [
              0.5555555555555556,
              "#d8576b"
             ],
             [
              0.6666666666666666,
              "#ed7953"
             ],
             [
              0.7777777777777778,
              "#fb9f3a"
             ],
             [
              0.8888888888888888,
              "#fdca26"
             ],
             [
              1,
              "#f0f921"
             ]
            ],
            "type": "heatmapgl"
           }
          ],
          "histogram": [
           {
            "marker": {
             "pattern": {
              "fillmode": "overlay",
              "size": 10,
              "solidity": 0.2
             }
            },
            "type": "histogram"
           }
          ],
          "histogram2d": [
           {
            "colorbar": {
             "outlinewidth": 0,
             "ticks": ""
            },
            "colorscale": [
             [
              0,
              "#0d0887"
             ],
             [
              0.1111111111111111,
              "#46039f"
             ],
             [
              0.2222222222222222,
              "#7201a8"
             ],
             [
              0.3333333333333333,
              "#9c179e"
             ],
             [
              0.4444444444444444,
              "#bd3786"
             ],
             [
              0.5555555555555556,
              "#d8576b"
             ],
             [
              0.6666666666666666,
              "#ed7953"
             ],
             [
              0.7777777777777778,
              "#fb9f3a"
             ],
             [
              0.8888888888888888,
              "#fdca26"
             ],
             [
              1,
              "#f0f921"
             ]
            ],
            "type": "histogram2d"
           }
          ],
          "histogram2dcontour": [
           {
            "colorbar": {
             "outlinewidth": 0,
             "ticks": ""
            },
            "colorscale": [
             [
              0,
              "#0d0887"
             ],
             [
              0.1111111111111111,
              "#46039f"
             ],
             [
              0.2222222222222222,
              "#7201a8"
             ],
             [
              0.3333333333333333,
              "#9c179e"
             ],
             [
              0.4444444444444444,
              "#bd3786"
             ],
             [
              0.5555555555555556,
              "#d8576b"
             ],
             [
              0.6666666666666666,
              "#ed7953"
             ],
             [
              0.7777777777777778,
              "#fb9f3a"
             ],
             [
              0.8888888888888888,
              "#fdca26"
             ],
             [
              1,
              "#f0f921"
             ]
            ],
            "type": "histogram2dcontour"
           }
          ],
          "mesh3d": [
           {
            "colorbar": {
             "outlinewidth": 0,
             "ticks": ""
            },
            "type": "mesh3d"
           }
          ],
          "parcoords": [
           {
            "line": {
             "colorbar": {
              "outlinewidth": 0,
              "ticks": ""
             }
            },
            "type": "parcoords"
           }
          ],
          "pie": [
           {
            "automargin": true,
            "type": "pie"
           }
          ],
          "scatter": [
           {
            "marker": {
             "line": {
              "color": "#283442"
             }
            },
            "type": "scatter"
           }
          ],
          "scatter3d": [
           {
            "line": {
             "colorbar": {
              "outlinewidth": 0,
              "ticks": ""
             }
            },
            "marker": {
             "colorbar": {
              "outlinewidth": 0,
              "ticks": ""
             }
            },
            "type": "scatter3d"
           }
          ],
          "scattercarpet": [
           {
            "marker": {
             "colorbar": {
              "outlinewidth": 0,
              "ticks": ""
             }
            },
            "type": "scattercarpet"
           }
          ],
          "scattergeo": [
           {
            "marker": {
             "colorbar": {
              "outlinewidth": 0,
              "ticks": ""
             }
            },
            "type": "scattergeo"
           }
          ],
          "scattergl": [
           {
            "marker": {
             "line": {
              "color": "#283442"
             }
            },
            "type": "scattergl"
           }
          ],
          "scattermapbox": [
           {
            "marker": {
             "colorbar": {
              "outlinewidth": 0,
              "ticks": ""
             }
            },
            "type": "scattermapbox"
           }
          ],
          "scatterpolar": [
           {
            "marker": {
             "colorbar": {
              "outlinewidth": 0,
              "ticks": ""
             }
            },
            "type": "scatterpolar"
           }
          ],
          "scatterpolargl": [
           {
            "marker": {
             "colorbar": {
              "outlinewidth": 0,
              "ticks": ""
             }
            },
            "type": "scatterpolargl"
           }
          ],
          "scatterternary": [
           {
            "marker": {
             "colorbar": {
              "outlinewidth": 0,
              "ticks": ""
             }
            },
            "type": "scatterternary"
           }
          ],
          "surface": [
           {
            "colorbar": {
             "outlinewidth": 0,
             "ticks": ""
            },
            "colorscale": [
             [
              0,
              "#0d0887"
             ],
             [
              0.1111111111111111,
              "#46039f"
             ],
             [
              0.2222222222222222,
              "#7201a8"
             ],
             [
              0.3333333333333333,
              "#9c179e"
             ],
             [
              0.4444444444444444,
              "#bd3786"
             ],
             [
              0.5555555555555556,
              "#d8576b"
             ],
             [
              0.6666666666666666,
              "#ed7953"
             ],
             [
              0.7777777777777778,
              "#fb9f3a"
             ],
             [
              0.8888888888888888,
              "#fdca26"
             ],
             [
              1,
              "#f0f921"
             ]
            ],
            "type": "surface"
           }
          ],
          "table": [
           {
            "cells": {
             "fill": {
              "color": "#506784"
             },
             "line": {
              "color": "rgb(17,17,17)"
             }
            },
            "header": {
             "fill": {
              "color": "#2a3f5f"
             },
             "line": {
              "color": "rgb(17,17,17)"
             }
            },
            "type": "table"
           }
          ]
         },
         "layout": {
          "annotationdefaults": {
           "arrowcolor": "#f2f5fa",
           "arrowhead": 0,
           "arrowwidth": 1
          },
          "autotypenumbers": "strict",
          "coloraxis": {
           "colorbar": {
            "outlinewidth": 0,
            "ticks": ""
           }
          },
          "colorscale": {
           "diverging": [
            [
             0,
             "#8e0152"
            ],
            [
             0.1,
             "#c51b7d"
            ],
            [
             0.2,
             "#de77ae"
            ],
            [
             0.3,
             "#f1b6da"
            ],
            [
             0.4,
             "#fde0ef"
            ],
            [
             0.5,
             "#f7f7f7"
            ],
            [
             0.6,
             "#e6f5d0"
            ],
            [
             0.7,
             "#b8e186"
            ],
            [
             0.8,
             "#7fbc41"
            ],
            [
             0.9,
             "#4d9221"
            ],
            [
             1,
             "#276419"
            ]
           ],
           "sequential": [
            [
             0,
             "#0d0887"
            ],
            [
             0.1111111111111111,
             "#46039f"
            ],
            [
             0.2222222222222222,
             "#7201a8"
            ],
            [
             0.3333333333333333,
             "#9c179e"
            ],
            [
             0.4444444444444444,
             "#bd3786"
            ],
            [
             0.5555555555555556,
             "#d8576b"
            ],
            [
             0.6666666666666666,
             "#ed7953"
            ],
            [
             0.7777777777777778,
             "#fb9f3a"
            ],
            [
             0.8888888888888888,
             "#fdca26"
            ],
            [
             1,
             "#f0f921"
            ]
           ],
           "sequentialminus": [
            [
             0,
             "#0d0887"
            ],
            [
             0.1111111111111111,
             "#46039f"
            ],
            [
             0.2222222222222222,
             "#7201a8"
            ],
            [
             0.3333333333333333,
             "#9c179e"
            ],
            [
             0.4444444444444444,
             "#bd3786"
            ],
            [
             0.5555555555555556,
             "#d8576b"
            ],
            [
             0.6666666666666666,
             "#ed7953"
            ],
            [
             0.7777777777777778,
             "#fb9f3a"
            ],
            [
             0.8888888888888888,
             "#fdca26"
            ],
            [
             1,
             "#f0f921"
            ]
           ]
          },
          "colorway": [
           "#636efa",
           "#EF553B",
           "#00cc96",
           "#ab63fa",
           "#FFA15A",
           "#19d3f3",
           "#FF6692",
           "#B6E880",
           "#FF97FF",
           "#FECB52"
          ],
          "font": {
           "color": "#f2f5fa"
          },
          "geo": {
           "bgcolor": "rgb(17,17,17)",
           "lakecolor": "rgb(17,17,17)",
           "landcolor": "rgb(17,17,17)",
           "showlakes": true,
           "showland": true,
           "subunitcolor": "#506784"
          },
          "hoverlabel": {
           "align": "left"
          },
          "hovermode": "closest",
          "mapbox": {
           "style": "dark"
          },
          "paper_bgcolor": "rgb(17,17,17)",
          "plot_bgcolor": "rgb(17,17,17)",
          "polar": {
           "angularaxis": {
            "gridcolor": "#506784",
            "linecolor": "#506784",
            "ticks": ""
           },
           "bgcolor": "rgb(17,17,17)",
           "radialaxis": {
            "gridcolor": "#506784",
            "linecolor": "#506784",
            "ticks": ""
           }
          },
          "scene": {
           "xaxis": {
            "backgroundcolor": "rgb(17,17,17)",
            "gridcolor": "#506784",
            "gridwidth": 2,
            "linecolor": "#506784",
            "showbackground": true,
            "ticks": "",
            "zerolinecolor": "#C8D4E3"
           },
           "yaxis": {
            "backgroundcolor": "rgb(17,17,17)",
            "gridcolor": "#506784",
            "gridwidth": 2,
            "linecolor": "#506784",
            "showbackground": true,
            "ticks": "",
            "zerolinecolor": "#C8D4E3"
           },
           "zaxis": {
            "backgroundcolor": "rgb(17,17,17)",
            "gridcolor": "#506784",
            "gridwidth": 2,
            "linecolor": "#506784",
            "showbackground": true,
            "ticks": "",
            "zerolinecolor": "#C8D4E3"
           }
          },
          "shapedefaults": {
           "line": {
            "color": "#f2f5fa"
           }
          },
          "sliderdefaults": {
           "bgcolor": "#C8D4E3",
           "bordercolor": "rgb(17,17,17)",
           "borderwidth": 1,
           "tickwidth": 0
          },
          "ternary": {
           "aaxis": {
            "gridcolor": "#506784",
            "linecolor": "#506784",
            "ticks": ""
           },
           "baxis": {
            "gridcolor": "#506784",
            "linecolor": "#506784",
            "ticks": ""
           },
           "bgcolor": "rgb(17,17,17)",
           "caxis": {
            "gridcolor": "#506784",
            "linecolor": "#506784",
            "ticks": ""
           }
          },
          "title": {
           "x": 0.05
          },
          "updatemenudefaults": {
           "bgcolor": "#506784",
           "borderwidth": 0
          },
          "xaxis": {
           "automargin": true,
           "gridcolor": "#283442",
           "linecolor": "#506784",
           "ticks": "",
           "title": {
            "standoff": 15
           },
           "zerolinecolor": "#283442",
           "zerolinewidth": 2
          },
          "yaxis": {
           "automargin": true,
           "gridcolor": "#283442",
           "linecolor": "#506784",
           "ticks": "",
           "title": {
            "standoff": 15
           },
           "zerolinecolor": "#283442",
           "zerolinewidth": 2
          }
         }
        },
        "title": {
         "text": "<b>Radiohead Albums by Duration of Tracks</b> <br>Going by actual track duration the picture looks a little different."
        },
        "xaxis": {
         "anchor": "y",
         "categoryarray": [
          "Pablo Honey",
          "The Bends",
          "OK Computer",
          "Kid A",
          "Amnesiac",
          "Hail To the Thief",
          "In Rainbows",
          "The King Of Limbs",
          "A Moon Shaped Pool"
         ],
         "categoryorder": "array",
         "domain": [
          0,
          1
         ],
         "title": {
          "text": "Album Name"
         }
        },
        "yaxis": {
         "anchor": "x",
         "domain": [
          0,
          1
         ],
         "title": {
          "text": "Duration in Minutes"
         }
        }
       }
      },
      "text/html": [
       "<div>                            <div id=\"ae4dd10d-a30c-4784-bad1-869f2f33a171\" class=\"plotly-graph-div\" style=\"height:525px; width:100%;\"></div>            <script type=\"text/javascript\">                require([\"plotly\"], function(Plotly) {                    window.PLOTLYENV=window.PLOTLYENV || {};                                    if (document.getElementById(\"ae4dd10d-a30c-4784-bad1-869f2f33a171\")) {                    Plotly.newPlot(                        \"ae4dd10d-a30c-4784-bad1-869f2f33a171\",                        [{\"alignmentgroup\":\"True\",\"hovertemplate\":\"\\u003cb\\u003e%{hovertext}\\u003c\\u002fb\\u003e\\u003cbr\\u003e\\u003cbr\\u003eAlbum Name=%{x}\\u003cbr\\u003eDuration in Minutes=%{y}\\u003cextra\\u003e\\u003c\\u002fextra\\u003e\",\"hovertext\":[\"You\",\"Creep\",\"How Do You?\",\"Stop Whispering\",\"Thinking About You\",\"Anyone Can Play Guitar\",\"Ripcord\",\"Vegetable\",\"Prove Yourself\",\"I Can't\",\"Lurgee\",\"Blow Out\"],\"legendgroup\":\"Pablo Honey\",\"marker\":{\"color\":\"#636efa\",\"pattern\":{\"shape\":\"\"}},\"name\":\"Pablo Honey\",\"offsetgroup\":\"Pablo Honey\",\"orientation\":\"v\",\"showlegend\":true,\"textposition\":\"auto\",\"x\":[\"Pablo Honey\",\"Pablo Honey\",\"Pablo Honey\",\"Pablo Honey\",\"Pablo Honey\",\"Pablo Honey\",\"Pablo Honey\",\"Pablo Honey\",\"Pablo Honey\",\"Pablo Honey\",\"Pablo Honey\",\"Pablo Honey\"],\"xaxis\":\"x\",\"y\":[3.4777833333333334,3.977333333333333,2.2028833333333333,5.427116666666667,2.6922166666666665,3.63,3.1622166666666667,3.211116666666667,2.4228833333333335,4.218216666666667,3.1311166666666668,4.701116666666667],\"yaxis\":\"y\",\"type\":\"bar\"},{\"alignmentgroup\":\"True\",\"hovertemplate\":\"\\u003cb\\u003e%{hovertext}\\u003c\\u002fb\\u003e\\u003cbr\\u003e\\u003cbr\\u003eAlbum Name=%{x}\\u003cbr\\u003eDuration in Minutes=%{y}\\u003cextra\\u003e\\u003c\\u002fextra\\u003e\",\"hovertext\":[\"Planet Telex\",\"The Bends\",\"High And Dry\",\"Fake Plastic Trees\",\"Bones\",\"(Nice Dream)\",\"Just\",\"My Iron Lung\",\"Bullet Proof ... I Wish I Was\",\"Black Star\",\"Sulk\",\"Street Spirit (Fade Out)\"],\"legendgroup\":\"The Bends\",\"marker\":{\"color\":\"#EF553B\",\"pattern\":{\"shape\":\"\"}},\"name\":\"The Bends\",\"offsetgroup\":\"The Bends\",\"orientation\":\"v\",\"showlegend\":true,\"textposition\":\"auto\",\"x\":[\"The Bends\",\"The Bends\",\"The Bends\",\"The Bends\",\"The Bends\",\"The Bends\",\"The Bends\",\"The Bends\",\"The Bends\",\"The Bends\",\"The Bends\",\"The Bends\"],\"xaxis\":\"x\",\"y\":[4.32,4.1033333333333335,4.291333333333333,4.845116666666667,3.15,3.8871166666666666,3.9133333333333336,4.607116666666666,3.4788833333333335,4.117333333333334,3.716,4.230883333333334],\"yaxis\":\"y\",\"type\":\"bar\"},{\"alignmentgroup\":\"True\",\"hovertemplate\":\"\\u003cb\\u003e%{hovertext}\\u003c\\u002fb\\u003e\\u003cbr\\u003e\\u003cbr\\u003eAlbum Name=%{x}\\u003cbr\\u003eDuration in Minutes=%{y}\\u003cextra\\u003e\\u003c\\u002fextra\\u003e\",\"hovertext\":[\"Airbag\",\"Paranoid Android\",\"Subterranean Homesick Alien\",\"Exit Music (For a Film)\",\"Let Down\",\"Karma Police\",\"Fitter Happier\",\"Electioneering\",\"Climbing Up the Walls\",\"No Surprises\",\"Lucky\",\"The Tourist\"],\"legendgroup\":\"OK Computer\",\"marker\":{\"color\":\"#00cc96\",\"pattern\":{\"shape\":\"\"}},\"name\":\"OK Computer\",\"offsetgroup\":\"OK Computer\",\"orientation\":\"v\",\"showlegend\":true,\"textposition\":\"auto\",\"x\":[\"OK Computer\",\"OK Computer\",\"OK Computer\",\"OK Computer\",\"OK Computer\",\"OK Computer\",\"OK Computer\",\"OK Computer\",\"OK Computer\",\"OK Computer\",\"OK Computer\",\"OK Computer\"],\"xaxis\":\"x\",\"y\":[4.798,6.45355,4.46155,4.453116666666666,4.992666666666667,4.401116666666667,1.95555,3.8437833333333336,4.753333333333333,3.8186666666666667,4.31355,5.442216666666667],\"yaxis\":\"y\",\"type\":\"bar\"},{\"alignmentgroup\":\"True\",\"hovertemplate\":\"\\u003cb\\u003e%{hovertext}\\u003c\\u002fb\\u003e\\u003cbr\\u003e\\u003cbr\\u003eAlbum Name=%{x}\\u003cbr\\u003eDuration in Minutes=%{y}\\u003cextra\\u003e\\u003c\\u002fextra\\u003e\",\"hovertext\":[\"Everything In Its Right Place\",\"Kid A\",\"The National Anthem\",\"How To Disappear Completely\",\"Treefingers\",\"Optimistic\",\"In Limbo\",\"Idioteque\",\"Morning Bell\",\"Motion Picture Soundtrack\",\"Untitled\"],\"legendgroup\":\"Kid A\",\"marker\":{\"color\":\"#ab63fa\",\"pattern\":{\"shape\":\"\"}},\"name\":\"Kid A\",\"offsetgroup\":\"Kid A\",\"orientation\":\"v\",\"showlegend\":true,\"textposition\":\"auto\",\"x\":[\"Kid A\",\"Kid A\",\"Kid A\",\"Kid A\",\"Kid A\",\"Kid A\",\"Kid A\",\"Kid A\",\"Kid A\",\"Kid A\",\"Kid A\"],\"xaxis\":\"x\",\"y\":[4.19045,4.741783333333333,5.86155,5.938883333333333,3.71,5.266216666666667,3.5166666666666666,5.15155,4.596666666666667,3.3413833333333334,0.87825],\"yaxis\":\"y\",\"type\":\"bar\"},{\"alignmentgroup\":\"True\",\"hovertemplate\":\"\\u003cb\\u003e%{hovertext}\\u003c\\u002fb\\u003e\\u003cbr\\u003e\\u003cbr\\u003eAlbum Name=%{x}\\u003cbr\\u003eDuration in Minutes=%{y}\\u003cextra\\u003e\\u003c\\u002fextra\\u003e\",\"hovertext\":[\"Packt Like Sardines In a Crushed Tin Box\",\"Pyramid Song\",\"Pulk\\u002fPull Revolving Doors\",\"You And Whose Army?\",\"I Might Be Wrong\",\"Knives Out\",\"Morning Bell\\u002fAmnesiac\",\"Dollars & Cents\",\"Hunting Bears\",\"Like Spinning Plates\",\"Life In a Glasshouse\"],\"legendgroup\":\"Amnesiac\",\"marker\":{\"color\":\"#FFA15A\",\"pattern\":{\"shape\":\"\"}},\"name\":\"Amnesiac\",\"offsetgroup\":\"Amnesiac\",\"orientation\":\"v\",\"showlegend\":true,\"textposition\":\"auto\",\"x\":[\"Amnesiac\",\"Amnesiac\",\"Amnesiac\",\"Amnesiac\",\"Amnesiac\",\"Amnesiac\",\"Amnesiac\",\"Amnesiac\",\"Amnesiac\",\"Amnesiac\",\"Amnesiac\"],\"xaxis\":\"x\",\"y\":[4.00555,4.812216666666667,4.1211166666666665,3.183333333333333,4.896216666666667,4.2477833333333335,3.2377833333333332,4.862216666666667,2.02,3.9577833333333334,4.61155],\"yaxis\":\"y\",\"type\":\"bar\"},{\"alignmentgroup\":\"True\",\"hovertemplate\":\"\\u003cb\\u003e%{hovertext}\\u003c\\u002fb\\u003e\\u003cbr\\u003e\\u003cbr\\u003eAlbum Name=%{x}\\u003cbr\\u003eDuration in Minutes=%{y}\\u003cextra\\u003e\\u003c\\u002fextra\\u003e\",\"hovertext\":[\"2 + 2 = 5\",\"Sit Down. Stand Up\",\"Sail To The Moon\",\"Backdrifts\",\"Go To Sleep\",\"Where I End and You Begin\",\"We Suck Young Blood\",\"The Gloaming\",\"There, There\",\"I Will\",\"A Punch Up At a Wedding\",\"Myxomatosis\",\"Scatterbrain\",\"A Wolf At the Door\"],\"legendgroup\":\"Hail To the Thief\",\"marker\":{\"color\":\"#19d3f3\",\"pattern\":{\"shape\":\"\"}},\"name\":\"Hail To the Thief\",\"offsetgroup\":\"Hail To the Thief\",\"orientation\":\"v\",\"showlegend\":true,\"textposition\":\"auto\",\"x\":[\"Hail To the Thief\",\"Hail To the Thief\",\"Hail To the Thief\",\"Hail To the Thief\",\"Hail To the Thief\",\"Hail To the Thief\",\"Hail To the Thief\",\"Hail To the Thief\",\"Hail To the Thief\",\"Hail To the Thief\",\"Hail To the Thief\",\"Hail To the Thief\",\"Hail To the Thief\",\"Hail To the Thief\"],\"xaxis\":\"x\",\"y\":[3.3226666666666667,4.332883333333333,4.306,5.376666666666667,3.35845,4.488216666666666,4.945116666666666,3.5337833333333335,5.3933333333333335,1.9911166666666666,4.95555,3.87555,3.3617833333333333,3.35555],\"yaxis\":\"y\",\"type\":\"bar\"},{\"alignmentgroup\":\"True\",\"hovertemplate\":\"\\u003cb\\u003e%{hovertext}\\u003c\\u002fb\\u003e\\u003cbr\\u003e\\u003cbr\\u003eAlbum Name=%{x}\\u003cbr\\u003eDuration in Minutes=%{y}\\u003cextra\\u003e\\u003c\\u002fextra\\u003e\",\"hovertext\":[\"15 Step\",\"Bodysnatchers\",\"Nude\",\"Weird Fishes\\u002f Arpeggi\",\"All I Need\",\"Faust Arp\",\"Reckoner\",\"House Of Cards\",\"Jigsaw Falling Into Place\",\"Videotape\"],\"legendgroup\":\"In Rainbows\",\"marker\":{\"color\":\"#FF6692\",\"pattern\":{\"shape\":\"\"}},\"name\":\"In Rainbows\",\"offsetgroup\":\"In Rainbows\",\"orientation\":\"v\",\"showlegend\":true,\"textposition\":\"auto\",\"x\":[\"In Rainbows\",\"In Rainbows\",\"In Rainbows\",\"In Rainbows\",\"In Rainbows\",\"In Rainbows\",\"In Rainbows\",\"In Rainbows\",\"In Rainbows\",\"In Rainbows\"],\"xaxis\":\"x\",\"y\":[3.9548833333333335,4.038216666666667,4.25645,5.303116666666667,3.81245,2.1613333333333333,4.836883333333334,5.47155,4.148216666666666,4.660566666666667],\"yaxis\":\"y\",\"type\":\"bar\"},{\"alignmentgroup\":\"True\",\"hovertemplate\":\"\\u003cb\\u003e%{hovertext}\\u003c\\u002fb\\u003e\\u003cbr\\u003e\\u003cbr\\u003eAlbum Name=%{x}\\u003cbr\\u003eDuration in Minutes=%{y}\\u003cextra\\u003e\\u003c\\u002fextra\\u003e\",\"hovertext\":[\"Bloom\",\"Morning Mr Magpie\",\"Little By Little\",\"Feral\",\"Lotus Flower\",\"Codex\",\"Give Up The Ghost\",\"Separator\"],\"legendgroup\":\"The King Of Limbs\",\"marker\":{\"color\":\"#B6E880\",\"pattern\":{\"shape\":\"\"}},\"name\":\"The King Of Limbs\",\"offsetgroup\":\"The King Of Limbs\",\"orientation\":\"v\",\"showlegend\":true,\"textposition\":\"auto\",\"x\":[\"The King Of Limbs\",\"The King Of Limbs\",\"The King Of Limbs\",\"The King Of Limbs\",\"The King Of Limbs\",\"The King Of Limbs\",\"The King Of Limbs\",\"The King Of Limbs\"],\"xaxis\":\"x\",\"y\":[5.22785,4.67865,4.452566666666667,3.2123833333333334,5.00365,4.78445,4.83445,5.3208166666666665],\"yaxis\":\"y\",\"type\":\"bar\"},{\"alignmentgroup\":\"True\",\"hovertemplate\":\"\\u003cb\\u003e%{hovertext}\\u003c\\u002fb\\u003e\\u003cbr\\u003e\\u003cbr\\u003eAlbum Name=%{x}\\u003cbr\\u003eDuration in Minutes=%{y}\\u003cextra\\u003e\\u003c\\u002fextra\\u003e\",\"hovertext\":[\"Burn the Witch\",\"Daydreaming\",\"Decks Dark\",\"Desert Island Disk\",\"Ful Stop\",\"Glass Eyes\",\"Identikit\",\"The Numbers\",\"Present Tense\",\"Tinker Tailor Soldier Sailor Rich Man Poor Man Beggar Man Thief\",\"True Love Waits\"],\"legendgroup\":\"A Moon Shaped Pool\",\"marker\":{\"color\":\"#FF97FF\",\"pattern\":{\"shape\":\"\"}},\"name\":\"A Moon Shaped Pool\",\"offsetgroup\":\"A Moon Shaped Pool\",\"orientation\":\"v\",\"showlegend\":true,\"textposition\":\"auto\",\"x\":[\"A Moon Shaped Pool\",\"A Moon Shaped Pool\",\"A Moon Shaped Pool\",\"A Moon Shaped Pool\",\"A Moon Shaped Pool\",\"A Moon Shaped Pool\",\"A Moon Shaped Pool\",\"A Moon Shaped Pool\",\"A Moon Shaped Pool\",\"A Moon Shaped Pool\",\"A Moon Shaped Pool\"],\"xaxis\":\"x\",\"y\":[3.676816666666667,6.4073166666666665,4.683516666666667,3.7449666666666666,6.122483333333333,2.8822666666666668,4.444066666666667,5.764783333333333,5.109683333333333,5.061483333333333,4.7244],\"yaxis\":\"y\",\"type\":\"bar\"}],                        {\"template\":{\"data\":{\"barpolar\":[{\"marker\":{\"line\":{\"color\":\"rgb(17,17,17)\",\"width\":0.5},\"pattern\":{\"fillmode\":\"overlay\",\"size\":10,\"solidity\":0.2}},\"type\":\"barpolar\"}],\"bar\":[{\"error_x\":{\"color\":\"#f2f5fa\"},\"error_y\":{\"color\":\"#f2f5fa\"},\"marker\":{\"line\":{\"color\":\"rgb(17,17,17)\",\"width\":0.5},\"pattern\":{\"fillmode\":\"overlay\",\"size\":10,\"solidity\":0.2}},\"type\":\"bar\"}],\"carpet\":[{\"aaxis\":{\"endlinecolor\":\"#A2B1C6\",\"gridcolor\":\"#506784\",\"linecolor\":\"#506784\",\"minorgridcolor\":\"#506784\",\"startlinecolor\":\"#A2B1C6\"},\"baxis\":{\"endlinecolor\":\"#A2B1C6\",\"gridcolor\":\"#506784\",\"linecolor\":\"#506784\",\"minorgridcolor\":\"#506784\",\"startlinecolor\":\"#A2B1C6\"},\"type\":\"carpet\"}],\"choropleth\":[{\"colorbar\":{\"outlinewidth\":0,\"ticks\":\"\"},\"type\":\"choropleth\"}],\"contourcarpet\":[{\"colorbar\":{\"outlinewidth\":0,\"ticks\":\"\"},\"type\":\"contourcarpet\"}],\"contour\":[{\"colorbar\":{\"outlinewidth\":0,\"ticks\":\"\"},\"colorscale\":[[0.0,\"#0d0887\"],[0.1111111111111111,\"#46039f\"],[0.2222222222222222,\"#7201a8\"],[0.3333333333333333,\"#9c179e\"],[0.4444444444444444,\"#bd3786\"],[0.5555555555555556,\"#d8576b\"],[0.6666666666666666,\"#ed7953\"],[0.7777777777777778,\"#fb9f3a\"],[0.8888888888888888,\"#fdca26\"],[1.0,\"#f0f921\"]],\"type\":\"contour\"}],\"heatmapgl\":[{\"colorbar\":{\"outlinewidth\":0,\"ticks\":\"\"},\"colorscale\":[[0.0,\"#0d0887\"],[0.1111111111111111,\"#46039f\"],[0.2222222222222222,\"#7201a8\"],[0.3333333333333333,\"#9c179e\"],[0.4444444444444444,\"#bd3786\"],[0.5555555555555556,\"#d8576b\"],[0.6666666666666666,\"#ed7953\"],[0.7777777777777778,\"#fb9f3a\"],[0.8888888888888888,\"#fdca26\"],[1.0,\"#f0f921\"]],\"type\":\"heatmapgl\"}],\"heatmap\":[{\"colorbar\":{\"outlinewidth\":0,\"ticks\":\"\"},\"colorscale\":[[0.0,\"#0d0887\"],[0.1111111111111111,\"#46039f\"],[0.2222222222222222,\"#7201a8\"],[0.3333333333333333,\"#9c179e\"],[0.4444444444444444,\"#bd3786\"],[0.5555555555555556,\"#d8576b\"],[0.6666666666666666,\"#ed7953\"],[0.7777777777777778,\"#fb9f3a\"],[0.8888888888888888,\"#fdca26\"],[1.0,\"#f0f921\"]],\"type\":\"heatmap\"}],\"histogram2dcontour\":[{\"colorbar\":{\"outlinewidth\":0,\"ticks\":\"\"},\"colorscale\":[[0.0,\"#0d0887\"],[0.1111111111111111,\"#46039f\"],[0.2222222222222222,\"#7201a8\"],[0.3333333333333333,\"#9c179e\"],[0.4444444444444444,\"#bd3786\"],[0.5555555555555556,\"#d8576b\"],[0.6666666666666666,\"#ed7953\"],[0.7777777777777778,\"#fb9f3a\"],[0.8888888888888888,\"#fdca26\"],[1.0,\"#f0f921\"]],\"type\":\"histogram2dcontour\"}],\"histogram2d\":[{\"colorbar\":{\"outlinewidth\":0,\"ticks\":\"\"},\"colorscale\":[[0.0,\"#0d0887\"],[0.1111111111111111,\"#46039f\"],[0.2222222222222222,\"#7201a8\"],[0.3333333333333333,\"#9c179e\"],[0.4444444444444444,\"#bd3786\"],[0.5555555555555556,\"#d8576b\"],[0.6666666666666666,\"#ed7953\"],[0.7777777777777778,\"#fb9f3a\"],[0.8888888888888888,\"#fdca26\"],[1.0,\"#f0f921\"]],\"type\":\"histogram2d\"}],\"histogram\":[{\"marker\":{\"pattern\":{\"fillmode\":\"overlay\",\"size\":10,\"solidity\":0.2}},\"type\":\"histogram\"}],\"mesh3d\":[{\"colorbar\":{\"outlinewidth\":0,\"ticks\":\"\"},\"type\":\"mesh3d\"}],\"parcoords\":[{\"line\":{\"colorbar\":{\"outlinewidth\":0,\"ticks\":\"\"}},\"type\":\"parcoords\"}],\"pie\":[{\"automargin\":true,\"type\":\"pie\"}],\"scatter3d\":[{\"line\":{\"colorbar\":{\"outlinewidth\":0,\"ticks\":\"\"}},\"marker\":{\"colorbar\":{\"outlinewidth\":0,\"ticks\":\"\"}},\"type\":\"scatter3d\"}],\"scattercarpet\":[{\"marker\":{\"colorbar\":{\"outlinewidth\":0,\"ticks\":\"\"}},\"type\":\"scattercarpet\"}],\"scattergeo\":[{\"marker\":{\"colorbar\":{\"outlinewidth\":0,\"ticks\":\"\"}},\"type\":\"scattergeo\"}],\"scattergl\":[{\"marker\":{\"line\":{\"color\":\"#283442\"}},\"type\":\"scattergl\"}],\"scattermapbox\":[{\"marker\":{\"colorbar\":{\"outlinewidth\":0,\"ticks\":\"\"}},\"type\":\"scattermapbox\"}],\"scatterpolargl\":[{\"marker\":{\"colorbar\":{\"outlinewidth\":0,\"ticks\":\"\"}},\"type\":\"scatterpolargl\"}],\"scatterpolar\":[{\"marker\":{\"colorbar\":{\"outlinewidth\":0,\"ticks\":\"\"}},\"type\":\"scatterpolar\"}],\"scatter\":[{\"marker\":{\"line\":{\"color\":\"#283442\"}},\"type\":\"scatter\"}],\"scatterternary\":[{\"marker\":{\"colorbar\":{\"outlinewidth\":0,\"ticks\":\"\"}},\"type\":\"scatterternary\"}],\"surface\":[{\"colorbar\":{\"outlinewidth\":0,\"ticks\":\"\"},\"colorscale\":[[0.0,\"#0d0887\"],[0.1111111111111111,\"#46039f\"],[0.2222222222222222,\"#7201a8\"],[0.3333333333333333,\"#9c179e\"],[0.4444444444444444,\"#bd3786\"],[0.5555555555555556,\"#d8576b\"],[0.6666666666666666,\"#ed7953\"],[0.7777777777777778,\"#fb9f3a\"],[0.8888888888888888,\"#fdca26\"],[1.0,\"#f0f921\"]],\"type\":\"surface\"}],\"table\":[{\"cells\":{\"fill\":{\"color\":\"#506784\"},\"line\":{\"color\":\"rgb(17,17,17)\"}},\"header\":{\"fill\":{\"color\":\"#2a3f5f\"},\"line\":{\"color\":\"rgb(17,17,17)\"}},\"type\":\"table\"}]},\"layout\":{\"annotationdefaults\":{\"arrowcolor\":\"#f2f5fa\",\"arrowhead\":0,\"arrowwidth\":1},\"autotypenumbers\":\"strict\",\"coloraxis\":{\"colorbar\":{\"outlinewidth\":0,\"ticks\":\"\"}},\"colorscale\":{\"diverging\":[[0,\"#8e0152\"],[0.1,\"#c51b7d\"],[0.2,\"#de77ae\"],[0.3,\"#f1b6da\"],[0.4,\"#fde0ef\"],[0.5,\"#f7f7f7\"],[0.6,\"#e6f5d0\"],[0.7,\"#b8e186\"],[0.8,\"#7fbc41\"],[0.9,\"#4d9221\"],[1,\"#276419\"]],\"sequential\":[[0.0,\"#0d0887\"],[0.1111111111111111,\"#46039f\"],[0.2222222222222222,\"#7201a8\"],[0.3333333333333333,\"#9c179e\"],[0.4444444444444444,\"#bd3786\"],[0.5555555555555556,\"#d8576b\"],[0.6666666666666666,\"#ed7953\"],[0.7777777777777778,\"#fb9f3a\"],[0.8888888888888888,\"#fdca26\"],[1.0,\"#f0f921\"]],\"sequentialminus\":[[0.0,\"#0d0887\"],[0.1111111111111111,\"#46039f\"],[0.2222222222222222,\"#7201a8\"],[0.3333333333333333,\"#9c179e\"],[0.4444444444444444,\"#bd3786\"],[0.5555555555555556,\"#d8576b\"],[0.6666666666666666,\"#ed7953\"],[0.7777777777777778,\"#fb9f3a\"],[0.8888888888888888,\"#fdca26\"],[1.0,\"#f0f921\"]]},\"colorway\":[\"#636efa\",\"#EF553B\",\"#00cc96\",\"#ab63fa\",\"#FFA15A\",\"#19d3f3\",\"#FF6692\",\"#B6E880\",\"#FF97FF\",\"#FECB52\"],\"font\":{\"color\":\"#f2f5fa\"},\"geo\":{\"bgcolor\":\"rgb(17,17,17)\",\"lakecolor\":\"rgb(17,17,17)\",\"landcolor\":\"rgb(17,17,17)\",\"showlakes\":true,\"showland\":true,\"subunitcolor\":\"#506784\"},\"hoverlabel\":{\"align\":\"left\"},\"hovermode\":\"closest\",\"mapbox\":{\"style\":\"dark\"},\"paper_bgcolor\":\"rgb(17,17,17)\",\"plot_bgcolor\":\"rgb(17,17,17)\",\"polar\":{\"angularaxis\":{\"gridcolor\":\"#506784\",\"linecolor\":\"#506784\",\"ticks\":\"\"},\"bgcolor\":\"rgb(17,17,17)\",\"radialaxis\":{\"gridcolor\":\"#506784\",\"linecolor\":\"#506784\",\"ticks\":\"\"}},\"scene\":{\"xaxis\":{\"backgroundcolor\":\"rgb(17,17,17)\",\"gridcolor\":\"#506784\",\"gridwidth\":2,\"linecolor\":\"#506784\",\"showbackground\":true,\"ticks\":\"\",\"zerolinecolor\":\"#C8D4E3\"},\"yaxis\":{\"backgroundcolor\":\"rgb(17,17,17)\",\"gridcolor\":\"#506784\",\"gridwidth\":2,\"linecolor\":\"#506784\",\"showbackground\":true,\"ticks\":\"\",\"zerolinecolor\":\"#C8D4E3\"},\"zaxis\":{\"backgroundcolor\":\"rgb(17,17,17)\",\"gridcolor\":\"#506784\",\"gridwidth\":2,\"linecolor\":\"#506784\",\"showbackground\":true,\"ticks\":\"\",\"zerolinecolor\":\"#C8D4E3\"}},\"shapedefaults\":{\"line\":{\"color\":\"#f2f5fa\"}},\"sliderdefaults\":{\"bgcolor\":\"#C8D4E3\",\"bordercolor\":\"rgb(17,17,17)\",\"borderwidth\":1,\"tickwidth\":0},\"ternary\":{\"aaxis\":{\"gridcolor\":\"#506784\",\"linecolor\":\"#506784\",\"ticks\":\"\"},\"baxis\":{\"gridcolor\":\"#506784\",\"linecolor\":\"#506784\",\"ticks\":\"\"},\"bgcolor\":\"rgb(17,17,17)\",\"caxis\":{\"gridcolor\":\"#506784\",\"linecolor\":\"#506784\",\"ticks\":\"\"}},\"title\":{\"x\":0.05},\"updatemenudefaults\":{\"bgcolor\":\"#506784\",\"borderwidth\":0},\"xaxis\":{\"automargin\":true,\"gridcolor\":\"#283442\",\"linecolor\":\"#506784\",\"ticks\":\"\",\"title\":{\"standoff\":15},\"zerolinecolor\":\"#283442\",\"zerolinewidth\":2},\"yaxis\":{\"automargin\":true,\"gridcolor\":\"#283442\",\"linecolor\":\"#506784\",\"ticks\":\"\",\"title\":{\"standoff\":15},\"zerolinecolor\":\"#283442\",\"zerolinewidth\":2}}},\"xaxis\":{\"anchor\":\"y\",\"domain\":[0.0,1.0],\"title\":{\"text\":\"Album Name\"},\"categoryorder\":\"array\",\"categoryarray\":[\"Pablo Honey\",\"The Bends\",\"OK Computer\",\"Kid A\",\"Amnesiac\",\"Hail To the Thief\",\"In Rainbows\",\"The King Of Limbs\",\"A Moon Shaped Pool\"]},\"yaxis\":{\"anchor\":\"x\",\"domain\":[0.0,1.0],\"title\":{\"text\":\"Duration in Minutes\"}},\"legend\":{\"title\":{\"text\":\"Album Name\"},\"tracegroupgap\":0},\"title\":{\"text\":\"\\u003cb\\u003eRadiohead Albums by Duration of Tracks\\u003c\\u002fb\\u003e \\u003cbr\\u003eGoing by actual track duration the picture looks a little different.\"},\"barmode\":\"relative\",\"annotations\":[{\"align\":\"left\",\"showarrow\":false,\"text\":\"Data Source: \\u003ca href=\\u201dhttps:\\u002f\\u002fwww.kaggle.com\\u002fdatasets\\u002flavagod\\u002fradiohead\\u002fversions\\u002f1?resource=download\\u201d\\u003eRadiohead Data\\u003c\\u002fa\\u003e \\u003cbr\\u003eViz: \\u003ca href=\\u201dhttps:\\u002f\\u002ftwitter.com\\u002f_prospecttheory\\u201d\\u003e@_prospecttheory\\u003c\\u002fa\\u003e \\u003cbr\\u003e \\u003cbr\\u003e \\u003cbr\\u003e \\u003cbr\\u003e \\u003cbr\\u003e\",\"x\":-0.07,\"xref\":\"paper\",\"y\":-0.7,\"yref\":\"paper\"}]},                        {\"responsive\": true}                    ).then(function(){\n",
       "                            \n",
       "var gd = document.getElementById('ae4dd10d-a30c-4784-bad1-869f2f33a171');\n",
       "var x = new MutationObserver(function (mutations, observer) {{\n",
       "        var display = window.getComputedStyle(gd).display;\n",
       "        if (!display || display === 'none') {{\n",
       "            console.log([gd, 'removed!']);\n",
       "            Plotly.purge(gd);\n",
       "            observer.disconnect();\n",
       "        }}\n",
       "}});\n",
       "\n",
       "// Listen for the removal of the full notebook cells\n",
       "var notebookContainer = gd.closest('#notebook-container');\n",
       "if (notebookContainer) {{\n",
       "    x.observe(notebookContainer, {childList: true});\n",
       "}}\n",
       "\n",
       "// Listen for the clearing of the current output cell\n",
       "var outputEl = gd.closest('.output');\n",
       "if (outputEl) {{\n",
       "    x.observe(outputEl, {childList: true});\n",
       "}}\n",
       "\n",
       "                        })                };                });            </script>        </div>"
      ]
     },
     "metadata": {},
     "output_type": "display_data"
    }
   ],
   "source": [
    "#Plot Duration of Albums\n",
    "fig = px.bar(df_radiohead, x = 'album_name',y= 'duration_mins', color = 'album_name', hover_name= 'track_name',\n",
    "            labels={'album_name':'Album Name', 'duration_mins': 'Duration in Minutes', 'track_name':'Track Name', 'count':'Number of Tracks'},\n",
    "            title= '<b>Radiohead Albums by Duration of Tracks</b> <br>Going by actual track duration the picture looks a little different.',\n",
    "            template='plotly_dark')\n",
    "\n",
    "#Add Signature\n",
    "fig.add_annotation(text='Data Source: <a href=”https://www.kaggle.com/datasets/lavagod/radiohead/versions/1?resource=download”>Radiohead Data</a> <br>Viz: <a href=”https://twitter.com/_prospecttheory”>@_prospecttheory</a> <br> <br> <br> <br> <br>', \n",
    "                    align='left',\n",
    "                    showarrow=False,\n",
    "                    xref='paper',\n",
    "                    yref='paper',\n",
    "                    x= -0.07,\n",
    "                    y= -0.7)\n",
    "\n",
    "fig.show()"
   ]
  },
  {
   "cell_type": "markdown",
   "id": "4abdd734",
   "metadata": {},
   "source": [
    "Bringing track duration into the mix 'Hail To the Thief' stays the longest album of them all simply due to the sheer number of tracks. But 'OK Computer' and 'A Moon Shaped Pool' are almost catching up."
   ]
  },
  {
   "cell_type": "markdown",
   "id": "276b8b0e",
   "metadata": {},
   "source": [
    "### Hard facts #3 - Temporal Profiles of the Albums\n",
    "\n",
    "Radiohead always treated their album sequencing with great care to create a holistic experiencing for the listener. Can we find some pattterns in the data to learn a little more about their preferences?\n",
    "\n"
   ]
  },
  {
   "cell_type": "code",
   "execution_count": 361,
   "id": "997890e9",
   "metadata": {},
   "outputs": [
    {
     "data": {
      "application/vnd.plotly.v1+json": {
       "config": {
        "plotlyServerURL": "https://plot.ly"
       },
       "data": [
        {
         "alignmentgroup": "True",
         "hovertemplate": "<b>%{hovertext}</b><br><br>Album Name=Pablo Honey<br>index=%{x}<br>Duration in Minutes=%{y}<extra></extra>",
         "hovertext": [
          "You",
          "Creep",
          "How Do You?",
          "Stop Whispering",
          "Thinking About You",
          "Anyone Can Play Guitar",
          "Ripcord",
          "Vegetable",
          "Prove Yourself",
          "I Can't",
          "Lurgee",
          "Blow Out"
         ],
         "legendgroup": "Pablo Honey",
         "marker": {
          "color": "#636efa",
          "pattern": {
           "shape": ""
          }
         },
         "name": "Pablo Honey",
         "offsetgroup": "Pablo Honey",
         "orientation": "v",
         "showlegend": true,
         "textposition": "auto",
         "type": "bar",
         "x": [
          0,
          1,
          2,
          3,
          4,
          5,
          6,
          7,
          8,
          9,
          10,
          11
         ],
         "xaxis": "x7",
         "y": [
          3.4777833333333334,
          3.977333333333333,
          2.2028833333333333,
          5.427116666666667,
          2.6922166666666665,
          3.63,
          3.1622166666666667,
          3.211116666666667,
          2.4228833333333335,
          4.218216666666667,
          3.1311166666666668,
          4.701116666666667
         ],
         "yaxis": "y7"
        },
        {
         "alignmentgroup": "True",
         "hovertemplate": "<b>%{hovertext}</b><br><br>Album Name=The Bends<br>index=%{x}<br>Duration in Minutes=%{y}<extra></extra>",
         "hovertext": [
          "Planet Telex",
          "The Bends",
          "High And Dry",
          "Fake Plastic Trees",
          "Bones",
          "(Nice Dream)",
          "Just",
          "My Iron Lung",
          "Bullet Proof ... I Wish I Was",
          "Black Star",
          "Sulk",
          "Street Spirit (Fade Out)"
         ],
         "legendgroup": "The Bends",
         "marker": {
          "color": "#EF553B",
          "pattern": {
           "shape": ""
          }
         },
         "name": "The Bends",
         "offsetgroup": "The Bends",
         "orientation": "v",
         "showlegend": true,
         "textposition": "auto",
         "type": "bar",
         "x": [
          12,
          13,
          14,
          15,
          16,
          17,
          18,
          19,
          20,
          21,
          22,
          23
         ],
         "xaxis": "x8",
         "y": [
          4.32,
          4.1033333333333335,
          4.291333333333333,
          4.845116666666667,
          3.15,
          3.8871166666666666,
          3.9133333333333336,
          4.607116666666666,
          3.4788833333333335,
          4.117333333333334,
          3.716,
          4.230883333333334
         ],
         "yaxis": "y8"
        },
        {
         "alignmentgroup": "True",
         "hovertemplate": "<b>%{hovertext}</b><br><br>Album Name=OK Computer<br>index=%{x}<br>Duration in Minutes=%{y}<extra></extra>",
         "hovertext": [
          "Airbag",
          "Paranoid Android",
          "Subterranean Homesick Alien",
          "Exit Music (For a Film)",
          "Let Down",
          "Karma Police",
          "Fitter Happier",
          "Electioneering",
          "Climbing Up the Walls",
          "No Surprises",
          "Lucky",
          "The Tourist"
         ],
         "legendgroup": "OK Computer",
         "marker": {
          "color": "#00cc96",
          "pattern": {
           "shape": ""
          }
         },
         "name": "OK Computer",
         "offsetgroup": "OK Computer",
         "orientation": "v",
         "showlegend": true,
         "textposition": "auto",
         "type": "bar",
         "x": [
          24,
          25,
          26,
          27,
          28,
          29,
          30,
          31,
          32,
          33,
          34,
          35
         ],
         "xaxis": "x9",
         "y": [
          4.798,
          6.45355,
          4.46155,
          4.453116666666666,
          4.992666666666667,
          4.401116666666667,
          1.95555,
          3.8437833333333336,
          4.753333333333333,
          3.8186666666666667,
          4.31355,
          5.442216666666667
         ],
         "yaxis": "y9"
        },
        {
         "alignmentgroup": "True",
         "hovertemplate": "<b>%{hovertext}</b><br><br>Album Name=Kid A<br>index=%{x}<br>Duration in Minutes=%{y}<extra></extra>",
         "hovertext": [
          "Everything In Its Right Place",
          "Kid A",
          "The National Anthem",
          "How To Disappear Completely",
          "Treefingers",
          "Optimistic",
          "In Limbo",
          "Idioteque",
          "Morning Bell",
          "Motion Picture Soundtrack",
          "Untitled"
         ],
         "legendgroup": "Kid A",
         "marker": {
          "color": "#ab63fa",
          "pattern": {
           "shape": ""
          }
         },
         "name": "Kid A",
         "offsetgroup": "Kid A",
         "orientation": "v",
         "showlegend": true,
         "textposition": "auto",
         "type": "bar",
         "x": [
          36,
          37,
          38,
          39,
          40,
          41,
          42,
          43,
          44,
          45,
          46
         ],
         "xaxis": "x4",
         "y": [
          4.19045,
          4.741783333333333,
          5.86155,
          5.938883333333333,
          3.71,
          5.266216666666667,
          3.5166666666666666,
          5.15155,
          4.596666666666667,
          3.3413833333333334,
          0.87825
         ],
         "yaxis": "y4"
        },
        {
         "alignmentgroup": "True",
         "hovertemplate": "<b>%{hovertext}</b><br><br>Album Name=Amnesiac<br>index=%{x}<br>Duration in Minutes=%{y}<extra></extra>",
         "hovertext": [
          "Packt Like Sardines In a Crushed Tin Box",
          "Pyramid Song",
          "Pulk/Pull Revolving Doors",
          "You And Whose Army?",
          "I Might Be Wrong",
          "Knives Out",
          "Morning Bell/Amnesiac",
          "Dollars & Cents",
          "Hunting Bears",
          "Like Spinning Plates",
          "Life In a Glasshouse"
         ],
         "legendgroup": "Amnesiac",
         "marker": {
          "color": "#FFA15A",
          "pattern": {
           "shape": ""
          }
         },
         "name": "Amnesiac",
         "offsetgroup": "Amnesiac",
         "orientation": "v",
         "showlegend": true,
         "textposition": "auto",
         "type": "bar",
         "x": [
          47,
          48,
          49,
          50,
          51,
          52,
          53,
          54,
          55,
          56,
          57
         ],
         "xaxis": "x5",
         "y": [
          4.00555,
          4.812216666666667,
          4.1211166666666665,
          3.183333333333333,
          4.896216666666667,
          4.2477833333333335,
          3.2377833333333332,
          4.862216666666667,
          2.02,
          3.9577833333333334,
          4.61155
         ],
         "yaxis": "y5"
        },
        {
         "alignmentgroup": "True",
         "hovertemplate": "<b>%{hovertext}</b><br><br>Album Name=Hail To the Thief<br>index=%{x}<br>Duration in Minutes=%{y}<extra></extra>",
         "hovertext": [
          "2 + 2 = 5",
          "Sit Down. Stand Up",
          "Sail To The Moon",
          "Backdrifts",
          "Go To Sleep",
          "Where I End and You Begin",
          "We Suck Young Blood",
          "The Gloaming",
          "There, There",
          "I Will",
          "A Punch Up At a Wedding",
          "Myxomatosis",
          "Scatterbrain",
          "A Wolf At the Door"
         ],
         "legendgroup": "Hail To the Thief",
         "marker": {
          "color": "#19d3f3",
          "pattern": {
           "shape": ""
          }
         },
         "name": "Hail To the Thief",
         "offsetgroup": "Hail To the Thief",
         "orientation": "v",
         "showlegend": true,
         "textposition": "auto",
         "type": "bar",
         "x": [
          58,
          59,
          60,
          61,
          62,
          63,
          64,
          65,
          66,
          67,
          68,
          69,
          70,
          71
         ],
         "xaxis": "x6",
         "y": [
          3.3226666666666667,
          4.332883333333333,
          4.306,
          5.376666666666667,
          3.35845,
          4.488216666666666,
          4.945116666666666,
          3.5337833333333335,
          5.3933333333333335,
          1.9911166666666666,
          4.95555,
          3.87555,
          3.3617833333333333,
          3.35555
         ],
         "yaxis": "y6"
        },
        {
         "alignmentgroup": "True",
         "hovertemplate": "<b>%{hovertext}</b><br><br>Album Name=In Rainbows<br>index=%{x}<br>Duration in Minutes=%{y}<extra></extra>",
         "hovertext": [
          "15 Step",
          "Bodysnatchers",
          "Nude",
          "Weird Fishes/ Arpeggi",
          "All I Need",
          "Faust Arp",
          "Reckoner",
          "House Of Cards",
          "Jigsaw Falling Into Place",
          "Videotape"
         ],
         "legendgroup": "In Rainbows",
         "marker": {
          "color": "#FF6692",
          "pattern": {
           "shape": ""
          }
         },
         "name": "In Rainbows",
         "offsetgroup": "In Rainbows",
         "orientation": "v",
         "showlegend": true,
         "textposition": "auto",
         "type": "bar",
         "x": [
          72,
          73,
          74,
          75,
          76,
          77,
          78,
          79,
          80,
          81
         ],
         "xaxis": "x",
         "y": [
          3.9548833333333335,
          4.038216666666667,
          4.25645,
          5.303116666666667,
          3.81245,
          2.1613333333333333,
          4.836883333333334,
          5.47155,
          4.148216666666666,
          4.660566666666667
         ],
         "yaxis": "y"
        },
        {
         "alignmentgroup": "True",
         "hovertemplate": "<b>%{hovertext}</b><br><br>Album Name=The King Of Limbs<br>index=%{x}<br>Duration in Minutes=%{y}<extra></extra>",
         "hovertext": [
          "Bloom",
          "Morning Mr Magpie",
          "Little By Little",
          "Feral",
          "Lotus Flower",
          "Codex",
          "Give Up The Ghost",
          "Separator"
         ],
         "legendgroup": "The King Of Limbs",
         "marker": {
          "color": "#B6E880",
          "pattern": {
           "shape": ""
          }
         },
         "name": "The King Of Limbs",
         "offsetgroup": "The King Of Limbs",
         "orientation": "v",
         "showlegend": true,
         "textposition": "auto",
         "type": "bar",
         "x": [
          82,
          83,
          84,
          85,
          86,
          87,
          88,
          89
         ],
         "xaxis": "x2",
         "y": [
          5.22785,
          4.67865,
          4.452566666666667,
          3.2123833333333334,
          5.00365,
          4.78445,
          4.83445,
          5.3208166666666665
         ],
         "yaxis": "y2"
        },
        {
         "alignmentgroup": "True",
         "hovertemplate": "<b>%{hovertext}</b><br><br>Album Name=A Moon Shaped Pool<br>index=%{x}<br>Duration in Minutes=%{y}<extra></extra>",
         "hovertext": [
          "Burn the Witch",
          "Daydreaming",
          "Decks Dark",
          "Desert Island Disk",
          "Ful Stop",
          "Glass Eyes",
          "Identikit",
          "The Numbers",
          "Present Tense",
          "Tinker Tailor Soldier Sailor Rich Man Poor Man Beggar Man Thief",
          "True Love Waits"
         ],
         "legendgroup": "A Moon Shaped Pool",
         "marker": {
          "color": "#FF97FF",
          "pattern": {
           "shape": ""
          }
         },
         "name": "A Moon Shaped Pool",
         "offsetgroup": "A Moon Shaped Pool",
         "orientation": "v",
         "showlegend": true,
         "textposition": "auto",
         "type": "bar",
         "x": [
          90,
          91,
          92,
          93,
          94,
          95,
          96,
          97,
          98,
          99,
          100
         ],
         "xaxis": "x3",
         "y": [
          3.676816666666667,
          6.4073166666666665,
          4.683516666666667,
          3.7449666666666666,
          6.122483333333333,
          2.8822666666666668,
          4.444066666666667,
          5.764783333333333,
          5.109683333333333,
          5.061483333333333,
          4.7244
         ],
         "yaxis": "y3"
        }
       ],
       "layout": {
        "annotations": [
         {
          "showarrow": false,
          "text": "Album Name=In Rainbows",
          "x": 0.15999999999999998,
          "xanchor": "center",
          "xref": "paper",
          "y": 0.2866666666666666,
          "yanchor": "bottom",
          "yref": "paper"
         },
         {
          "showarrow": false,
          "text": "Album Name=The King Of Limbs",
          "x": 0.49999999999999994,
          "xanchor": "center",
          "xref": "paper",
          "y": 0.2866666666666666,
          "yanchor": "bottom",
          "yref": "paper"
         },
         {
          "showarrow": false,
          "text": "Album Name=A Moon Shaped Pool",
          "x": 0.8399999999999999,
          "xanchor": "center",
          "xref": "paper",
          "y": 0.2866666666666666,
          "yanchor": "bottom",
          "yref": "paper"
         },
         {
          "showarrow": false,
          "text": "Album Name=Kid A",
          "x": 0.15999999999999998,
          "xanchor": "center",
          "xref": "paper",
          "y": 0.6433333333333333,
          "yanchor": "bottom",
          "yref": "paper"
         },
         {
          "showarrow": false,
          "text": "Album Name=Amnesiac",
          "x": 0.49999999999999994,
          "xanchor": "center",
          "xref": "paper",
          "y": 0.6433333333333333,
          "yanchor": "bottom",
          "yref": "paper"
         },
         {
          "showarrow": false,
          "text": "Album Name=Hail To the Thief",
          "x": 0.8399999999999999,
          "xanchor": "center",
          "xref": "paper",
          "y": 0.6433333333333333,
          "yanchor": "bottom",
          "yref": "paper"
         },
         {
          "showarrow": false,
          "text": "Album Name=Pablo Honey",
          "x": 0.15999999999999998,
          "xanchor": "center",
          "xref": "paper",
          "y": 0.9999999999999999,
          "yanchor": "bottom",
          "yref": "paper"
         },
         {
          "showarrow": false,
          "text": "Album Name=The Bends",
          "x": 0.49999999999999994,
          "xanchor": "center",
          "xref": "paper",
          "y": 0.9999999999999999,
          "yanchor": "bottom",
          "yref": "paper"
         },
         {
          "showarrow": false,
          "text": "Album Name=OK Computer",
          "x": 0.8399999999999999,
          "xanchor": "center",
          "xref": "paper",
          "y": 0.9999999999999999,
          "yanchor": "bottom",
          "yref": "paper"
         },
         {
          "align": "left",
          "showarrow": false,
          "text": "Data Source: <a href=”https://www.kaggle.com/datasets/lavagod/radiohead/versions/1?resource=download”>Radiohead Data</a> <br>Viz: <a href=”https://twitter.com/_prospecttheory”>@_prospecttheory</a> <br> <br> <br> <br> <br>",
          "x": -0.07,
          "xref": "paper",
          "y": -0.7,
          "yref": "paper"
         }
        ],
        "barmode": "relative",
        "height": 600,
        "legend": {
         "title": {
          "text": "Album Name"
         },
         "tracegroupgap": 0
        },
        "template": {
         "data": {
          "bar": [
           {
            "error_x": {
             "color": "#f2f5fa"
            },
            "error_y": {
             "color": "#f2f5fa"
            },
            "marker": {
             "line": {
              "color": "rgb(17,17,17)",
              "width": 0.5
             },
             "pattern": {
              "fillmode": "overlay",
              "size": 10,
              "solidity": 0.2
             }
            },
            "type": "bar"
           }
          ],
          "barpolar": [
           {
            "marker": {
             "line": {
              "color": "rgb(17,17,17)",
              "width": 0.5
             },
             "pattern": {
              "fillmode": "overlay",
              "size": 10,
              "solidity": 0.2
             }
            },
            "type": "barpolar"
           }
          ],
          "carpet": [
           {
            "aaxis": {
             "endlinecolor": "#A2B1C6",
             "gridcolor": "#506784",
             "linecolor": "#506784",
             "minorgridcolor": "#506784",
             "startlinecolor": "#A2B1C6"
            },
            "baxis": {
             "endlinecolor": "#A2B1C6",
             "gridcolor": "#506784",
             "linecolor": "#506784",
             "minorgridcolor": "#506784",
             "startlinecolor": "#A2B1C6"
            },
            "type": "carpet"
           }
          ],
          "choropleth": [
           {
            "colorbar": {
             "outlinewidth": 0,
             "ticks": ""
            },
            "type": "choropleth"
           }
          ],
          "contour": [
           {
            "colorbar": {
             "outlinewidth": 0,
             "ticks": ""
            },
            "colorscale": [
             [
              0,
              "#0d0887"
             ],
             [
              0.1111111111111111,
              "#46039f"
             ],
             [
              0.2222222222222222,
              "#7201a8"
             ],
             [
              0.3333333333333333,
              "#9c179e"
             ],
             [
              0.4444444444444444,
              "#bd3786"
             ],
             [
              0.5555555555555556,
              "#d8576b"
             ],
             [
              0.6666666666666666,
              "#ed7953"
             ],
             [
              0.7777777777777778,
              "#fb9f3a"
             ],
             [
              0.8888888888888888,
              "#fdca26"
             ],
             [
              1,
              "#f0f921"
             ]
            ],
            "type": "contour"
           }
          ],
          "contourcarpet": [
           {
            "colorbar": {
             "outlinewidth": 0,
             "ticks": ""
            },
            "type": "contourcarpet"
           }
          ],
          "heatmap": [
           {
            "colorbar": {
             "outlinewidth": 0,
             "ticks": ""
            },
            "colorscale": [
             [
              0,
              "#0d0887"
             ],
             [
              0.1111111111111111,
              "#46039f"
             ],
             [
              0.2222222222222222,
              "#7201a8"
             ],
             [
              0.3333333333333333,
              "#9c179e"
             ],
             [
              0.4444444444444444,
              "#bd3786"
             ],
             [
              0.5555555555555556,
              "#d8576b"
             ],
             [
              0.6666666666666666,
              "#ed7953"
             ],
             [
              0.7777777777777778,
              "#fb9f3a"
             ],
             [
              0.8888888888888888,
              "#fdca26"
             ],
             [
              1,
              "#f0f921"
             ]
            ],
            "type": "heatmap"
           }
          ],
          "heatmapgl": [
           {
            "colorbar": {
             "outlinewidth": 0,
             "ticks": ""
            },
            "colorscale": [
             [
              0,
              "#0d0887"
             ],
             [
              0.1111111111111111,
              "#46039f"
             ],
             [
              0.2222222222222222,
              "#7201a8"
             ],
             [
              0.3333333333333333,
              "#9c179e"
             ],
             [
              0.4444444444444444,
              "#bd3786"
             ],
             [
              0.5555555555555556,
              "#d8576b"
             ],
             [
              0.6666666666666666,
              "#ed7953"
             ],
             [
              0.7777777777777778,
              "#fb9f3a"
             ],
             [
              0.8888888888888888,
              "#fdca26"
             ],
             [
              1,
              "#f0f921"
             ]
            ],
            "type": "heatmapgl"
           }
          ],
          "histogram": [
           {
            "marker": {
             "pattern": {
              "fillmode": "overlay",
              "size": 10,
              "solidity": 0.2
             }
            },
            "type": "histogram"
           }
          ],
          "histogram2d": [
           {
            "colorbar": {
             "outlinewidth": 0,
             "ticks": ""
            },
            "colorscale": [
             [
              0,
              "#0d0887"
             ],
             [
              0.1111111111111111,
              "#46039f"
             ],
             [
              0.2222222222222222,
              "#7201a8"
             ],
             [
              0.3333333333333333,
              "#9c179e"
             ],
             [
              0.4444444444444444,
              "#bd3786"
             ],
             [
              0.5555555555555556,
              "#d8576b"
             ],
             [
              0.6666666666666666,
              "#ed7953"
             ],
             [
              0.7777777777777778,
              "#fb9f3a"
             ],
             [
              0.8888888888888888,
              "#fdca26"
             ],
             [
              1,
              "#f0f921"
             ]
            ],
            "type": "histogram2d"
           }
          ],
          "histogram2dcontour": [
           {
            "colorbar": {
             "outlinewidth": 0,
             "ticks": ""
            },
            "colorscale": [
             [
              0,
              "#0d0887"
             ],
             [
              0.1111111111111111,
              "#46039f"
             ],
             [
              0.2222222222222222,
              "#7201a8"
             ],
             [
              0.3333333333333333,
              "#9c179e"
             ],
             [
              0.4444444444444444,
              "#bd3786"
             ],
             [
              0.5555555555555556,
              "#d8576b"
             ],
             [
              0.6666666666666666,
              "#ed7953"
             ],
             [
              0.7777777777777778,
              "#fb9f3a"
             ],
             [
              0.8888888888888888,
              "#fdca26"
             ],
             [
              1,
              "#f0f921"
             ]
            ],
            "type": "histogram2dcontour"
           }
          ],
          "mesh3d": [
           {
            "colorbar": {
             "outlinewidth": 0,
             "ticks": ""
            },
            "type": "mesh3d"
           }
          ],
          "parcoords": [
           {
            "line": {
             "colorbar": {
              "outlinewidth": 0,
              "ticks": ""
             }
            },
            "type": "parcoords"
           }
          ],
          "pie": [
           {
            "automargin": true,
            "type": "pie"
           }
          ],
          "scatter": [
           {
            "marker": {
             "line": {
              "color": "#283442"
             }
            },
            "type": "scatter"
           }
          ],
          "scatter3d": [
           {
            "line": {
             "colorbar": {
              "outlinewidth": 0,
              "ticks": ""
             }
            },
            "marker": {
             "colorbar": {
              "outlinewidth": 0,
              "ticks": ""
             }
            },
            "type": "scatter3d"
           }
          ],
          "scattercarpet": [
           {
            "marker": {
             "colorbar": {
              "outlinewidth": 0,
              "ticks": ""
             }
            },
            "type": "scattercarpet"
           }
          ],
          "scattergeo": [
           {
            "marker": {
             "colorbar": {
              "outlinewidth": 0,
              "ticks": ""
             }
            },
            "type": "scattergeo"
           }
          ],
          "scattergl": [
           {
            "marker": {
             "line": {
              "color": "#283442"
             }
            },
            "type": "scattergl"
           }
          ],
          "scattermapbox": [
           {
            "marker": {
             "colorbar": {
              "outlinewidth": 0,
              "ticks": ""
             }
            },
            "type": "scattermapbox"
           }
          ],
          "scatterpolar": [
           {
            "marker": {
             "colorbar": {
              "outlinewidth": 0,
              "ticks": ""
             }
            },
            "type": "scatterpolar"
           }
          ],
          "scatterpolargl": [
           {
            "marker": {
             "colorbar": {
              "outlinewidth": 0,
              "ticks": ""
             }
            },
            "type": "scatterpolargl"
           }
          ],
          "scatterternary": [
           {
            "marker": {
             "colorbar": {
              "outlinewidth": 0,
              "ticks": ""
             }
            },
            "type": "scatterternary"
           }
          ],
          "surface": [
           {
            "colorbar": {
             "outlinewidth": 0,
             "ticks": ""
            },
            "colorscale": [
             [
              0,
              "#0d0887"
             ],
             [
              0.1111111111111111,
              "#46039f"
             ],
             [
              0.2222222222222222,
              "#7201a8"
             ],
             [
              0.3333333333333333,
              "#9c179e"
             ],
             [
              0.4444444444444444,
              "#bd3786"
             ],
             [
              0.5555555555555556,
              "#d8576b"
             ],
             [
              0.6666666666666666,
              "#ed7953"
             ],
             [
              0.7777777777777778,
              "#fb9f3a"
             ],
             [
              0.8888888888888888,
              "#fdca26"
             ],
             [
              1,
              "#f0f921"
             ]
            ],
            "type": "surface"
           }
          ],
          "table": [
           {
            "cells": {
             "fill": {
              "color": "#506784"
             },
             "line": {
              "color": "rgb(17,17,17)"
             }
            },
            "header": {
             "fill": {
              "color": "#2a3f5f"
             },
             "line": {
              "color": "rgb(17,17,17)"
             }
            },
            "type": "table"
           }
          ]
         },
         "layout": {
          "annotationdefaults": {
           "arrowcolor": "#f2f5fa",
           "arrowhead": 0,
           "arrowwidth": 1
          },
          "autotypenumbers": "strict",
          "coloraxis": {
           "colorbar": {
            "outlinewidth": 0,
            "ticks": ""
           }
          },
          "colorscale": {
           "diverging": [
            [
             0,
             "#8e0152"
            ],
            [
             0.1,
             "#c51b7d"
            ],
            [
             0.2,
             "#de77ae"
            ],
            [
             0.3,
             "#f1b6da"
            ],
            [
             0.4,
             "#fde0ef"
            ],
            [
             0.5,
             "#f7f7f7"
            ],
            [
             0.6,
             "#e6f5d0"
            ],
            [
             0.7,
             "#b8e186"
            ],
            [
             0.8,
             "#7fbc41"
            ],
            [
             0.9,
             "#4d9221"
            ],
            [
             1,
             "#276419"
            ]
           ],
           "sequential": [
            [
             0,
             "#0d0887"
            ],
            [
             0.1111111111111111,
             "#46039f"
            ],
            [
             0.2222222222222222,
             "#7201a8"
            ],
            [
             0.3333333333333333,
             "#9c179e"
            ],
            [
             0.4444444444444444,
             "#bd3786"
            ],
            [
             0.5555555555555556,
             "#d8576b"
            ],
            [
             0.6666666666666666,
             "#ed7953"
            ],
            [
             0.7777777777777778,
             "#fb9f3a"
            ],
            [
             0.8888888888888888,
             "#fdca26"
            ],
            [
             1,
             "#f0f921"
            ]
           ],
           "sequentialminus": [
            [
             0,
             "#0d0887"
            ],
            [
             0.1111111111111111,
             "#46039f"
            ],
            [
             0.2222222222222222,
             "#7201a8"
            ],
            [
             0.3333333333333333,
             "#9c179e"
            ],
            [
             0.4444444444444444,
             "#bd3786"
            ],
            [
             0.5555555555555556,
             "#d8576b"
            ],
            [
             0.6666666666666666,
             "#ed7953"
            ],
            [
             0.7777777777777778,
             "#fb9f3a"
            ],
            [
             0.8888888888888888,
             "#fdca26"
            ],
            [
             1,
             "#f0f921"
            ]
           ]
          },
          "colorway": [
           "#636efa",
           "#EF553B",
           "#00cc96",
           "#ab63fa",
           "#FFA15A",
           "#19d3f3",
           "#FF6692",
           "#B6E880",
           "#FF97FF",
           "#FECB52"
          ],
          "font": {
           "color": "#f2f5fa"
          },
          "geo": {
           "bgcolor": "rgb(17,17,17)",
           "lakecolor": "rgb(17,17,17)",
           "landcolor": "rgb(17,17,17)",
           "showlakes": true,
           "showland": true,
           "subunitcolor": "#506784"
          },
          "hoverlabel": {
           "align": "left"
          },
          "hovermode": "closest",
          "mapbox": {
           "style": "dark"
          },
          "paper_bgcolor": "rgb(17,17,17)",
          "plot_bgcolor": "rgb(17,17,17)",
          "polar": {
           "angularaxis": {
            "gridcolor": "#506784",
            "linecolor": "#506784",
            "ticks": ""
           },
           "bgcolor": "rgb(17,17,17)",
           "radialaxis": {
            "gridcolor": "#506784",
            "linecolor": "#506784",
            "ticks": ""
           }
          },
          "scene": {
           "xaxis": {
            "backgroundcolor": "rgb(17,17,17)",
            "gridcolor": "#506784",
            "gridwidth": 2,
            "linecolor": "#506784",
            "showbackground": true,
            "ticks": "",
            "zerolinecolor": "#C8D4E3"
           },
           "yaxis": {
            "backgroundcolor": "rgb(17,17,17)",
            "gridcolor": "#506784",
            "gridwidth": 2,
            "linecolor": "#506784",
            "showbackground": true,
            "ticks": "",
            "zerolinecolor": "#C8D4E3"
           },
           "zaxis": {
            "backgroundcolor": "rgb(17,17,17)",
            "gridcolor": "#506784",
            "gridwidth": 2,
            "linecolor": "#506784",
            "showbackground": true,
            "ticks": "",
            "zerolinecolor": "#C8D4E3"
           }
          },
          "shapedefaults": {
           "line": {
            "color": "#f2f5fa"
           }
          },
          "sliderdefaults": {
           "bgcolor": "#C8D4E3",
           "bordercolor": "rgb(17,17,17)",
           "borderwidth": 1,
           "tickwidth": 0
          },
          "ternary": {
           "aaxis": {
            "gridcolor": "#506784",
            "linecolor": "#506784",
            "ticks": ""
           },
           "baxis": {
            "gridcolor": "#506784",
            "linecolor": "#506784",
            "ticks": ""
           },
           "bgcolor": "rgb(17,17,17)",
           "caxis": {
            "gridcolor": "#506784",
            "linecolor": "#506784",
            "ticks": ""
           }
          },
          "title": {
           "x": 0.05
          },
          "updatemenudefaults": {
           "bgcolor": "#506784",
           "borderwidth": 0
          },
          "xaxis": {
           "automargin": true,
           "gridcolor": "#283442",
           "linecolor": "#506784",
           "ticks": "",
           "title": {
            "standoff": 15
           },
           "zerolinecolor": "#283442",
           "zerolinewidth": 2
          },
          "yaxis": {
           "automargin": true,
           "gridcolor": "#283442",
           "linecolor": "#506784",
           "ticks": "",
           "title": {
            "standoff": 15
           },
           "zerolinecolor": "#283442",
           "zerolinewidth": 2
          }
         }
        },
        "title": {
         "text": "<b>The Temporal Profiles of All Radiohead Albums </b> <br>How about those valleys in the profiles?"
        },
        "width": 1500,
        "xaxis": {
         "anchor": "y",
         "domain": [
          0,
          0.31999999999999995
         ],
         "title": {
          "text": "index"
         }
        },
        "xaxis2": {
         "anchor": "y2",
         "domain": [
          0.33999999999999997,
          0.6599999999999999
         ],
         "matches": "x",
         "title": {
          "text": "index"
         }
        },
        "xaxis3": {
         "anchor": "y3",
         "domain": [
          0.6799999999999999,
          0.9999999999999999
         ],
         "matches": "x",
         "title": {
          "text": "index"
         }
        },
        "xaxis4": {
         "anchor": "y4",
         "domain": [
          0,
          0.31999999999999995
         ],
         "matches": "x",
         "showticklabels": false
        },
        "xaxis5": {
         "anchor": "y5",
         "domain": [
          0.33999999999999997,
          0.6599999999999999
         ],
         "matches": "x",
         "showticklabels": false
        },
        "xaxis6": {
         "anchor": "y6",
         "domain": [
          0.6799999999999999,
          0.9999999999999999
         ],
         "matches": "x",
         "showticklabels": false
        },
        "xaxis7": {
         "anchor": "y7",
         "domain": [
          0,
          0.31999999999999995
         ],
         "matches": "x",
         "showticklabels": false
        },
        "xaxis8": {
         "anchor": "y8",
         "domain": [
          0.33999999999999997,
          0.6599999999999999
         ],
         "matches": "x",
         "showticklabels": false
        },
        "xaxis9": {
         "anchor": "y9",
         "domain": [
          0.6799999999999999,
          0.9999999999999999
         ],
         "matches": "x",
         "showticklabels": false
        },
        "yaxis": {
         "anchor": "x",
         "domain": [
          0,
          0.2866666666666666
         ],
         "title": {
          "text": "Duration in Minutes"
         }
        },
        "yaxis2": {
         "anchor": "x2",
         "domain": [
          0,
          0.2866666666666666
         ],
         "matches": "y",
         "showticklabels": false
        },
        "yaxis3": {
         "anchor": "x3",
         "domain": [
          0,
          0.2866666666666666
         ],
         "matches": "y",
         "showticklabels": false
        },
        "yaxis4": {
         "anchor": "x4",
         "domain": [
          0.35666666666666663,
          0.6433333333333333
         ],
         "matches": "y",
         "title": {
          "text": "Duration in Minutes"
         }
        },
        "yaxis5": {
         "anchor": "x5",
         "domain": [
          0.35666666666666663,
          0.6433333333333333
         ],
         "matches": "y",
         "showticklabels": false
        },
        "yaxis6": {
         "anchor": "x6",
         "domain": [
          0.35666666666666663,
          0.6433333333333333
         ],
         "matches": "y",
         "showticklabels": false
        },
        "yaxis7": {
         "anchor": "x7",
         "domain": [
          0.7133333333333333,
          0.9999999999999999
         ],
         "matches": "y",
         "title": {
          "text": "Duration in Minutes"
         }
        },
        "yaxis8": {
         "anchor": "x8",
         "domain": [
          0.7133333333333333,
          0.9999999999999999
         ],
         "matches": "y",
         "showticklabels": false
        },
        "yaxis9": {
         "anchor": "x9",
         "domain": [
          0.7133333333333333,
          0.9999999999999999
         ],
         "matches": "y",
         "showticklabels": false
        }
       }
      },
      "text/html": [
       "<div>                            <div id=\"0cc5a026-cdb0-4484-ad22-f35f46dd63e5\" class=\"plotly-graph-div\" style=\"height:600px; width:1500px;\"></div>            <script type=\"text/javascript\">                require([\"plotly\"], function(Plotly) {                    window.PLOTLYENV=window.PLOTLYENV || {};                                    if (document.getElementById(\"0cc5a026-cdb0-4484-ad22-f35f46dd63e5\")) {                    Plotly.newPlot(                        \"0cc5a026-cdb0-4484-ad22-f35f46dd63e5\",                        [{\"alignmentgroup\":\"True\",\"hovertemplate\":\"\\u003cb\\u003e%{hovertext}\\u003c\\u002fb\\u003e\\u003cbr\\u003e\\u003cbr\\u003eAlbum Name=Pablo Honey\\u003cbr\\u003eindex=%{x}\\u003cbr\\u003eDuration in Minutes=%{y}\\u003cextra\\u003e\\u003c\\u002fextra\\u003e\",\"hovertext\":[\"You\",\"Creep\",\"How Do You?\",\"Stop Whispering\",\"Thinking About You\",\"Anyone Can Play Guitar\",\"Ripcord\",\"Vegetable\",\"Prove Yourself\",\"I Can't\",\"Lurgee\",\"Blow Out\"],\"legendgroup\":\"Pablo Honey\",\"marker\":{\"color\":\"#636efa\",\"pattern\":{\"shape\":\"\"}},\"name\":\"Pablo Honey\",\"offsetgroup\":\"Pablo Honey\",\"orientation\":\"v\",\"showlegend\":true,\"textposition\":\"auto\",\"x\":[0,1,2,3,4,5,6,7,8,9,10,11],\"xaxis\":\"x7\",\"y\":[3.4777833333333334,3.977333333333333,2.2028833333333333,5.427116666666667,2.6922166666666665,3.63,3.1622166666666667,3.211116666666667,2.4228833333333335,4.218216666666667,3.1311166666666668,4.701116666666667],\"yaxis\":\"y7\",\"type\":\"bar\"},{\"alignmentgroup\":\"True\",\"hovertemplate\":\"\\u003cb\\u003e%{hovertext}\\u003c\\u002fb\\u003e\\u003cbr\\u003e\\u003cbr\\u003eAlbum Name=The Bends\\u003cbr\\u003eindex=%{x}\\u003cbr\\u003eDuration in Minutes=%{y}\\u003cextra\\u003e\\u003c\\u002fextra\\u003e\",\"hovertext\":[\"Planet Telex\",\"The Bends\",\"High And Dry\",\"Fake Plastic Trees\",\"Bones\",\"(Nice Dream)\",\"Just\",\"My Iron Lung\",\"Bullet Proof ... I Wish I Was\",\"Black Star\",\"Sulk\",\"Street Spirit (Fade Out)\"],\"legendgroup\":\"The Bends\",\"marker\":{\"color\":\"#EF553B\",\"pattern\":{\"shape\":\"\"}},\"name\":\"The Bends\",\"offsetgroup\":\"The Bends\",\"orientation\":\"v\",\"showlegend\":true,\"textposition\":\"auto\",\"x\":[12,13,14,15,16,17,18,19,20,21,22,23],\"xaxis\":\"x8\",\"y\":[4.32,4.1033333333333335,4.291333333333333,4.845116666666667,3.15,3.8871166666666666,3.9133333333333336,4.607116666666666,3.4788833333333335,4.117333333333334,3.716,4.230883333333334],\"yaxis\":\"y8\",\"type\":\"bar\"},{\"alignmentgroup\":\"True\",\"hovertemplate\":\"\\u003cb\\u003e%{hovertext}\\u003c\\u002fb\\u003e\\u003cbr\\u003e\\u003cbr\\u003eAlbum Name=OK Computer\\u003cbr\\u003eindex=%{x}\\u003cbr\\u003eDuration in Minutes=%{y}\\u003cextra\\u003e\\u003c\\u002fextra\\u003e\",\"hovertext\":[\"Airbag\",\"Paranoid Android\",\"Subterranean Homesick Alien\",\"Exit Music (For a Film)\",\"Let Down\",\"Karma Police\",\"Fitter Happier\",\"Electioneering\",\"Climbing Up the Walls\",\"No Surprises\",\"Lucky\",\"The Tourist\"],\"legendgroup\":\"OK Computer\",\"marker\":{\"color\":\"#00cc96\",\"pattern\":{\"shape\":\"\"}},\"name\":\"OK Computer\",\"offsetgroup\":\"OK Computer\",\"orientation\":\"v\",\"showlegend\":true,\"textposition\":\"auto\",\"x\":[24,25,26,27,28,29,30,31,32,33,34,35],\"xaxis\":\"x9\",\"y\":[4.798,6.45355,4.46155,4.453116666666666,4.992666666666667,4.401116666666667,1.95555,3.8437833333333336,4.753333333333333,3.8186666666666667,4.31355,5.442216666666667],\"yaxis\":\"y9\",\"type\":\"bar\"},{\"alignmentgroup\":\"True\",\"hovertemplate\":\"\\u003cb\\u003e%{hovertext}\\u003c\\u002fb\\u003e\\u003cbr\\u003e\\u003cbr\\u003eAlbum Name=Kid A\\u003cbr\\u003eindex=%{x}\\u003cbr\\u003eDuration in Minutes=%{y}\\u003cextra\\u003e\\u003c\\u002fextra\\u003e\",\"hovertext\":[\"Everything In Its Right Place\",\"Kid A\",\"The National Anthem\",\"How To Disappear Completely\",\"Treefingers\",\"Optimistic\",\"In Limbo\",\"Idioteque\",\"Morning Bell\",\"Motion Picture Soundtrack\",\"Untitled\"],\"legendgroup\":\"Kid A\",\"marker\":{\"color\":\"#ab63fa\",\"pattern\":{\"shape\":\"\"}},\"name\":\"Kid A\",\"offsetgroup\":\"Kid A\",\"orientation\":\"v\",\"showlegend\":true,\"textposition\":\"auto\",\"x\":[36,37,38,39,40,41,42,43,44,45,46],\"xaxis\":\"x4\",\"y\":[4.19045,4.741783333333333,5.86155,5.938883333333333,3.71,5.266216666666667,3.5166666666666666,5.15155,4.596666666666667,3.3413833333333334,0.87825],\"yaxis\":\"y4\",\"type\":\"bar\"},{\"alignmentgroup\":\"True\",\"hovertemplate\":\"\\u003cb\\u003e%{hovertext}\\u003c\\u002fb\\u003e\\u003cbr\\u003e\\u003cbr\\u003eAlbum Name=Amnesiac\\u003cbr\\u003eindex=%{x}\\u003cbr\\u003eDuration in Minutes=%{y}\\u003cextra\\u003e\\u003c\\u002fextra\\u003e\",\"hovertext\":[\"Packt Like Sardines In a Crushed Tin Box\",\"Pyramid Song\",\"Pulk\\u002fPull Revolving Doors\",\"You And Whose Army?\",\"I Might Be Wrong\",\"Knives Out\",\"Morning Bell\\u002fAmnesiac\",\"Dollars & Cents\",\"Hunting Bears\",\"Like Spinning Plates\",\"Life In a Glasshouse\"],\"legendgroup\":\"Amnesiac\",\"marker\":{\"color\":\"#FFA15A\",\"pattern\":{\"shape\":\"\"}},\"name\":\"Amnesiac\",\"offsetgroup\":\"Amnesiac\",\"orientation\":\"v\",\"showlegend\":true,\"textposition\":\"auto\",\"x\":[47,48,49,50,51,52,53,54,55,56,57],\"xaxis\":\"x5\",\"y\":[4.00555,4.812216666666667,4.1211166666666665,3.183333333333333,4.896216666666667,4.2477833333333335,3.2377833333333332,4.862216666666667,2.02,3.9577833333333334,4.61155],\"yaxis\":\"y5\",\"type\":\"bar\"},{\"alignmentgroup\":\"True\",\"hovertemplate\":\"\\u003cb\\u003e%{hovertext}\\u003c\\u002fb\\u003e\\u003cbr\\u003e\\u003cbr\\u003eAlbum Name=Hail To the Thief\\u003cbr\\u003eindex=%{x}\\u003cbr\\u003eDuration in Minutes=%{y}\\u003cextra\\u003e\\u003c\\u002fextra\\u003e\",\"hovertext\":[\"2 + 2 = 5\",\"Sit Down. Stand Up\",\"Sail To The Moon\",\"Backdrifts\",\"Go To Sleep\",\"Where I End and You Begin\",\"We Suck Young Blood\",\"The Gloaming\",\"There, There\",\"I Will\",\"A Punch Up At a Wedding\",\"Myxomatosis\",\"Scatterbrain\",\"A Wolf At the Door\"],\"legendgroup\":\"Hail To the Thief\",\"marker\":{\"color\":\"#19d3f3\",\"pattern\":{\"shape\":\"\"}},\"name\":\"Hail To the Thief\",\"offsetgroup\":\"Hail To the Thief\",\"orientation\":\"v\",\"showlegend\":true,\"textposition\":\"auto\",\"x\":[58,59,60,61,62,63,64,65,66,67,68,69,70,71],\"xaxis\":\"x6\",\"y\":[3.3226666666666667,4.332883333333333,4.306,5.376666666666667,3.35845,4.488216666666666,4.945116666666666,3.5337833333333335,5.3933333333333335,1.9911166666666666,4.95555,3.87555,3.3617833333333333,3.35555],\"yaxis\":\"y6\",\"type\":\"bar\"},{\"alignmentgroup\":\"True\",\"hovertemplate\":\"\\u003cb\\u003e%{hovertext}\\u003c\\u002fb\\u003e\\u003cbr\\u003e\\u003cbr\\u003eAlbum Name=In Rainbows\\u003cbr\\u003eindex=%{x}\\u003cbr\\u003eDuration in Minutes=%{y}\\u003cextra\\u003e\\u003c\\u002fextra\\u003e\",\"hovertext\":[\"15 Step\",\"Bodysnatchers\",\"Nude\",\"Weird Fishes\\u002f Arpeggi\",\"All I Need\",\"Faust Arp\",\"Reckoner\",\"House Of Cards\",\"Jigsaw Falling Into Place\",\"Videotape\"],\"legendgroup\":\"In Rainbows\",\"marker\":{\"color\":\"#FF6692\",\"pattern\":{\"shape\":\"\"}},\"name\":\"In Rainbows\",\"offsetgroup\":\"In Rainbows\",\"orientation\":\"v\",\"showlegend\":true,\"textposition\":\"auto\",\"x\":[72,73,74,75,76,77,78,79,80,81],\"xaxis\":\"x\",\"y\":[3.9548833333333335,4.038216666666667,4.25645,5.303116666666667,3.81245,2.1613333333333333,4.836883333333334,5.47155,4.148216666666666,4.660566666666667],\"yaxis\":\"y\",\"type\":\"bar\"},{\"alignmentgroup\":\"True\",\"hovertemplate\":\"\\u003cb\\u003e%{hovertext}\\u003c\\u002fb\\u003e\\u003cbr\\u003e\\u003cbr\\u003eAlbum Name=The King Of Limbs\\u003cbr\\u003eindex=%{x}\\u003cbr\\u003eDuration in Minutes=%{y}\\u003cextra\\u003e\\u003c\\u002fextra\\u003e\",\"hovertext\":[\"Bloom\",\"Morning Mr Magpie\",\"Little By Little\",\"Feral\",\"Lotus Flower\",\"Codex\",\"Give Up The Ghost\",\"Separator\"],\"legendgroup\":\"The King Of Limbs\",\"marker\":{\"color\":\"#B6E880\",\"pattern\":{\"shape\":\"\"}},\"name\":\"The King Of Limbs\",\"offsetgroup\":\"The King Of Limbs\",\"orientation\":\"v\",\"showlegend\":true,\"textposition\":\"auto\",\"x\":[82,83,84,85,86,87,88,89],\"xaxis\":\"x2\",\"y\":[5.22785,4.67865,4.452566666666667,3.2123833333333334,5.00365,4.78445,4.83445,5.3208166666666665],\"yaxis\":\"y2\",\"type\":\"bar\"},{\"alignmentgroup\":\"True\",\"hovertemplate\":\"\\u003cb\\u003e%{hovertext}\\u003c\\u002fb\\u003e\\u003cbr\\u003e\\u003cbr\\u003eAlbum Name=A Moon Shaped Pool\\u003cbr\\u003eindex=%{x}\\u003cbr\\u003eDuration in Minutes=%{y}\\u003cextra\\u003e\\u003c\\u002fextra\\u003e\",\"hovertext\":[\"Burn the Witch\",\"Daydreaming\",\"Decks Dark\",\"Desert Island Disk\",\"Ful Stop\",\"Glass Eyes\",\"Identikit\",\"The Numbers\",\"Present Tense\",\"Tinker Tailor Soldier Sailor Rich Man Poor Man Beggar Man Thief\",\"True Love Waits\"],\"legendgroup\":\"A Moon Shaped Pool\",\"marker\":{\"color\":\"#FF97FF\",\"pattern\":{\"shape\":\"\"}},\"name\":\"A Moon Shaped Pool\",\"offsetgroup\":\"A Moon Shaped Pool\",\"orientation\":\"v\",\"showlegend\":true,\"textposition\":\"auto\",\"x\":[90,91,92,93,94,95,96,97,98,99,100],\"xaxis\":\"x3\",\"y\":[3.676816666666667,6.4073166666666665,4.683516666666667,3.7449666666666666,6.122483333333333,2.8822666666666668,4.444066666666667,5.764783333333333,5.109683333333333,5.061483333333333,4.7244],\"yaxis\":\"y3\",\"type\":\"bar\"}],                        {\"template\":{\"data\":{\"barpolar\":[{\"marker\":{\"line\":{\"color\":\"rgb(17,17,17)\",\"width\":0.5},\"pattern\":{\"fillmode\":\"overlay\",\"size\":10,\"solidity\":0.2}},\"type\":\"barpolar\"}],\"bar\":[{\"error_x\":{\"color\":\"#f2f5fa\"},\"error_y\":{\"color\":\"#f2f5fa\"},\"marker\":{\"line\":{\"color\":\"rgb(17,17,17)\",\"width\":0.5},\"pattern\":{\"fillmode\":\"overlay\",\"size\":10,\"solidity\":0.2}},\"type\":\"bar\"}],\"carpet\":[{\"aaxis\":{\"endlinecolor\":\"#A2B1C6\",\"gridcolor\":\"#506784\",\"linecolor\":\"#506784\",\"minorgridcolor\":\"#506784\",\"startlinecolor\":\"#A2B1C6\"},\"baxis\":{\"endlinecolor\":\"#A2B1C6\",\"gridcolor\":\"#506784\",\"linecolor\":\"#506784\",\"minorgridcolor\":\"#506784\",\"startlinecolor\":\"#A2B1C6\"},\"type\":\"carpet\"}],\"choropleth\":[{\"colorbar\":{\"outlinewidth\":0,\"ticks\":\"\"},\"type\":\"choropleth\"}],\"contourcarpet\":[{\"colorbar\":{\"outlinewidth\":0,\"ticks\":\"\"},\"type\":\"contourcarpet\"}],\"contour\":[{\"colorbar\":{\"outlinewidth\":0,\"ticks\":\"\"},\"colorscale\":[[0.0,\"#0d0887\"],[0.1111111111111111,\"#46039f\"],[0.2222222222222222,\"#7201a8\"],[0.3333333333333333,\"#9c179e\"],[0.4444444444444444,\"#bd3786\"],[0.5555555555555556,\"#d8576b\"],[0.6666666666666666,\"#ed7953\"],[0.7777777777777778,\"#fb9f3a\"],[0.8888888888888888,\"#fdca26\"],[1.0,\"#f0f921\"]],\"type\":\"contour\"}],\"heatmapgl\":[{\"colorbar\":{\"outlinewidth\":0,\"ticks\":\"\"},\"colorscale\":[[0.0,\"#0d0887\"],[0.1111111111111111,\"#46039f\"],[0.2222222222222222,\"#7201a8\"],[0.3333333333333333,\"#9c179e\"],[0.4444444444444444,\"#bd3786\"],[0.5555555555555556,\"#d8576b\"],[0.6666666666666666,\"#ed7953\"],[0.7777777777777778,\"#fb9f3a\"],[0.8888888888888888,\"#fdca26\"],[1.0,\"#f0f921\"]],\"type\":\"heatmapgl\"}],\"heatmap\":[{\"colorbar\":{\"outlinewidth\":0,\"ticks\":\"\"},\"colorscale\":[[0.0,\"#0d0887\"],[0.1111111111111111,\"#46039f\"],[0.2222222222222222,\"#7201a8\"],[0.3333333333333333,\"#9c179e\"],[0.4444444444444444,\"#bd3786\"],[0.5555555555555556,\"#d8576b\"],[0.6666666666666666,\"#ed7953\"],[0.7777777777777778,\"#fb9f3a\"],[0.8888888888888888,\"#fdca26\"],[1.0,\"#f0f921\"]],\"type\":\"heatmap\"}],\"histogram2dcontour\":[{\"colorbar\":{\"outlinewidth\":0,\"ticks\":\"\"},\"colorscale\":[[0.0,\"#0d0887\"],[0.1111111111111111,\"#46039f\"],[0.2222222222222222,\"#7201a8\"],[0.3333333333333333,\"#9c179e\"],[0.4444444444444444,\"#bd3786\"],[0.5555555555555556,\"#d8576b\"],[0.6666666666666666,\"#ed7953\"],[0.7777777777777778,\"#fb9f3a\"],[0.8888888888888888,\"#fdca26\"],[1.0,\"#f0f921\"]],\"type\":\"histogram2dcontour\"}],\"histogram2d\":[{\"colorbar\":{\"outlinewidth\":0,\"ticks\":\"\"},\"colorscale\":[[0.0,\"#0d0887\"],[0.1111111111111111,\"#46039f\"],[0.2222222222222222,\"#7201a8\"],[0.3333333333333333,\"#9c179e\"],[0.4444444444444444,\"#bd3786\"],[0.5555555555555556,\"#d8576b\"],[0.6666666666666666,\"#ed7953\"],[0.7777777777777778,\"#fb9f3a\"],[0.8888888888888888,\"#fdca26\"],[1.0,\"#f0f921\"]],\"type\":\"histogram2d\"}],\"histogram\":[{\"marker\":{\"pattern\":{\"fillmode\":\"overlay\",\"size\":10,\"solidity\":0.2}},\"type\":\"histogram\"}],\"mesh3d\":[{\"colorbar\":{\"outlinewidth\":0,\"ticks\":\"\"},\"type\":\"mesh3d\"}],\"parcoords\":[{\"line\":{\"colorbar\":{\"outlinewidth\":0,\"ticks\":\"\"}},\"type\":\"parcoords\"}],\"pie\":[{\"automargin\":true,\"type\":\"pie\"}],\"scatter3d\":[{\"line\":{\"colorbar\":{\"outlinewidth\":0,\"ticks\":\"\"}},\"marker\":{\"colorbar\":{\"outlinewidth\":0,\"ticks\":\"\"}},\"type\":\"scatter3d\"}],\"scattercarpet\":[{\"marker\":{\"colorbar\":{\"outlinewidth\":0,\"ticks\":\"\"}},\"type\":\"scattercarpet\"}],\"scattergeo\":[{\"marker\":{\"colorbar\":{\"outlinewidth\":0,\"ticks\":\"\"}},\"type\":\"scattergeo\"}],\"scattergl\":[{\"marker\":{\"line\":{\"color\":\"#283442\"}},\"type\":\"scattergl\"}],\"scattermapbox\":[{\"marker\":{\"colorbar\":{\"outlinewidth\":0,\"ticks\":\"\"}},\"type\":\"scattermapbox\"}],\"scatterpolargl\":[{\"marker\":{\"colorbar\":{\"outlinewidth\":0,\"ticks\":\"\"}},\"type\":\"scatterpolargl\"}],\"scatterpolar\":[{\"marker\":{\"colorbar\":{\"outlinewidth\":0,\"ticks\":\"\"}},\"type\":\"scatterpolar\"}],\"scatter\":[{\"marker\":{\"line\":{\"color\":\"#283442\"}},\"type\":\"scatter\"}],\"scatterternary\":[{\"marker\":{\"colorbar\":{\"outlinewidth\":0,\"ticks\":\"\"}},\"type\":\"scatterternary\"}],\"surface\":[{\"colorbar\":{\"outlinewidth\":0,\"ticks\":\"\"},\"colorscale\":[[0.0,\"#0d0887\"],[0.1111111111111111,\"#46039f\"],[0.2222222222222222,\"#7201a8\"],[0.3333333333333333,\"#9c179e\"],[0.4444444444444444,\"#bd3786\"],[0.5555555555555556,\"#d8576b\"],[0.6666666666666666,\"#ed7953\"],[0.7777777777777778,\"#fb9f3a\"],[0.8888888888888888,\"#fdca26\"],[1.0,\"#f0f921\"]],\"type\":\"surface\"}],\"table\":[{\"cells\":{\"fill\":{\"color\":\"#506784\"},\"line\":{\"color\":\"rgb(17,17,17)\"}},\"header\":{\"fill\":{\"color\":\"#2a3f5f\"},\"line\":{\"color\":\"rgb(17,17,17)\"}},\"type\":\"table\"}]},\"layout\":{\"annotationdefaults\":{\"arrowcolor\":\"#f2f5fa\",\"arrowhead\":0,\"arrowwidth\":1},\"autotypenumbers\":\"strict\",\"coloraxis\":{\"colorbar\":{\"outlinewidth\":0,\"ticks\":\"\"}},\"colorscale\":{\"diverging\":[[0,\"#8e0152\"],[0.1,\"#c51b7d\"],[0.2,\"#de77ae\"],[0.3,\"#f1b6da\"],[0.4,\"#fde0ef\"],[0.5,\"#f7f7f7\"],[0.6,\"#e6f5d0\"],[0.7,\"#b8e186\"],[0.8,\"#7fbc41\"],[0.9,\"#4d9221\"],[1,\"#276419\"]],\"sequential\":[[0.0,\"#0d0887\"],[0.1111111111111111,\"#46039f\"],[0.2222222222222222,\"#7201a8\"],[0.3333333333333333,\"#9c179e\"],[0.4444444444444444,\"#bd3786\"],[0.5555555555555556,\"#d8576b\"],[0.6666666666666666,\"#ed7953\"],[0.7777777777777778,\"#fb9f3a\"],[0.8888888888888888,\"#fdca26\"],[1.0,\"#f0f921\"]],\"sequentialminus\":[[0.0,\"#0d0887\"],[0.1111111111111111,\"#46039f\"],[0.2222222222222222,\"#7201a8\"],[0.3333333333333333,\"#9c179e\"],[0.4444444444444444,\"#bd3786\"],[0.5555555555555556,\"#d8576b\"],[0.6666666666666666,\"#ed7953\"],[0.7777777777777778,\"#fb9f3a\"],[0.8888888888888888,\"#fdca26\"],[1.0,\"#f0f921\"]]},\"colorway\":[\"#636efa\",\"#EF553B\",\"#00cc96\",\"#ab63fa\",\"#FFA15A\",\"#19d3f3\",\"#FF6692\",\"#B6E880\",\"#FF97FF\",\"#FECB52\"],\"font\":{\"color\":\"#f2f5fa\"},\"geo\":{\"bgcolor\":\"rgb(17,17,17)\",\"lakecolor\":\"rgb(17,17,17)\",\"landcolor\":\"rgb(17,17,17)\",\"showlakes\":true,\"showland\":true,\"subunitcolor\":\"#506784\"},\"hoverlabel\":{\"align\":\"left\"},\"hovermode\":\"closest\",\"mapbox\":{\"style\":\"dark\"},\"paper_bgcolor\":\"rgb(17,17,17)\",\"plot_bgcolor\":\"rgb(17,17,17)\",\"polar\":{\"angularaxis\":{\"gridcolor\":\"#506784\",\"linecolor\":\"#506784\",\"ticks\":\"\"},\"bgcolor\":\"rgb(17,17,17)\",\"radialaxis\":{\"gridcolor\":\"#506784\",\"linecolor\":\"#506784\",\"ticks\":\"\"}},\"scene\":{\"xaxis\":{\"backgroundcolor\":\"rgb(17,17,17)\",\"gridcolor\":\"#506784\",\"gridwidth\":2,\"linecolor\":\"#506784\",\"showbackground\":true,\"ticks\":\"\",\"zerolinecolor\":\"#C8D4E3\"},\"yaxis\":{\"backgroundcolor\":\"rgb(17,17,17)\",\"gridcolor\":\"#506784\",\"gridwidth\":2,\"linecolor\":\"#506784\",\"showbackground\":true,\"ticks\":\"\",\"zerolinecolor\":\"#C8D4E3\"},\"zaxis\":{\"backgroundcolor\":\"rgb(17,17,17)\",\"gridcolor\":\"#506784\",\"gridwidth\":2,\"linecolor\":\"#506784\",\"showbackground\":true,\"ticks\":\"\",\"zerolinecolor\":\"#C8D4E3\"}},\"shapedefaults\":{\"line\":{\"color\":\"#f2f5fa\"}},\"sliderdefaults\":{\"bgcolor\":\"#C8D4E3\",\"bordercolor\":\"rgb(17,17,17)\",\"borderwidth\":1,\"tickwidth\":0},\"ternary\":{\"aaxis\":{\"gridcolor\":\"#506784\",\"linecolor\":\"#506784\",\"ticks\":\"\"},\"baxis\":{\"gridcolor\":\"#506784\",\"linecolor\":\"#506784\",\"ticks\":\"\"},\"bgcolor\":\"rgb(17,17,17)\",\"caxis\":{\"gridcolor\":\"#506784\",\"linecolor\":\"#506784\",\"ticks\":\"\"}},\"title\":{\"x\":0.05},\"updatemenudefaults\":{\"bgcolor\":\"#506784\",\"borderwidth\":0},\"xaxis\":{\"automargin\":true,\"gridcolor\":\"#283442\",\"linecolor\":\"#506784\",\"ticks\":\"\",\"title\":{\"standoff\":15},\"zerolinecolor\":\"#283442\",\"zerolinewidth\":2},\"yaxis\":{\"automargin\":true,\"gridcolor\":\"#283442\",\"linecolor\":\"#506784\",\"ticks\":\"\",\"title\":{\"standoff\":15},\"zerolinecolor\":\"#283442\",\"zerolinewidth\":2}}},\"xaxis\":{\"anchor\":\"y\",\"domain\":[0.0,0.31999999999999995],\"title\":{\"text\":\"index\"}},\"yaxis\":{\"anchor\":\"x\",\"domain\":[0.0,0.2866666666666666],\"title\":{\"text\":\"Duration in Minutes\"}},\"xaxis2\":{\"anchor\":\"y2\",\"domain\":[0.33999999999999997,0.6599999999999999],\"matches\":\"x\",\"title\":{\"text\":\"index\"}},\"yaxis2\":{\"anchor\":\"x2\",\"domain\":[0.0,0.2866666666666666],\"matches\":\"y\",\"showticklabels\":false},\"xaxis3\":{\"anchor\":\"y3\",\"domain\":[0.6799999999999999,0.9999999999999999],\"matches\":\"x\",\"title\":{\"text\":\"index\"}},\"yaxis3\":{\"anchor\":\"x3\",\"domain\":[0.0,0.2866666666666666],\"matches\":\"y\",\"showticklabels\":false},\"xaxis4\":{\"anchor\":\"y4\",\"domain\":[0.0,0.31999999999999995],\"matches\":\"x\",\"showticklabels\":false},\"yaxis4\":{\"anchor\":\"x4\",\"domain\":[0.35666666666666663,0.6433333333333333],\"matches\":\"y\",\"title\":{\"text\":\"Duration in Minutes\"}},\"xaxis5\":{\"anchor\":\"y5\",\"domain\":[0.33999999999999997,0.6599999999999999],\"matches\":\"x\",\"showticklabels\":false},\"yaxis5\":{\"anchor\":\"x5\",\"domain\":[0.35666666666666663,0.6433333333333333],\"matches\":\"y\",\"showticklabels\":false},\"xaxis6\":{\"anchor\":\"y6\",\"domain\":[0.6799999999999999,0.9999999999999999],\"matches\":\"x\",\"showticklabels\":false},\"yaxis6\":{\"anchor\":\"x6\",\"domain\":[0.35666666666666663,0.6433333333333333],\"matches\":\"y\",\"showticklabels\":false},\"xaxis7\":{\"anchor\":\"y7\",\"domain\":[0.0,0.31999999999999995],\"matches\":\"x\",\"showticklabels\":false},\"yaxis7\":{\"anchor\":\"x7\",\"domain\":[0.7133333333333333,0.9999999999999999],\"matches\":\"y\",\"title\":{\"text\":\"Duration in Minutes\"}},\"xaxis8\":{\"anchor\":\"y8\",\"domain\":[0.33999999999999997,0.6599999999999999],\"matches\":\"x\",\"showticklabels\":false},\"yaxis8\":{\"anchor\":\"x8\",\"domain\":[0.7133333333333333,0.9999999999999999],\"matches\":\"y\",\"showticklabels\":false},\"xaxis9\":{\"anchor\":\"y9\",\"domain\":[0.6799999999999999,0.9999999999999999],\"matches\":\"x\",\"showticklabels\":false},\"yaxis9\":{\"anchor\":\"x9\",\"domain\":[0.7133333333333333,0.9999999999999999],\"matches\":\"y\",\"showticklabels\":false},\"annotations\":[{\"showarrow\":false,\"text\":\"Album Name=In Rainbows\",\"x\":0.15999999999999998,\"xanchor\":\"center\",\"xref\":\"paper\",\"y\":0.2866666666666666,\"yanchor\":\"bottom\",\"yref\":\"paper\"},{\"showarrow\":false,\"text\":\"Album Name=The King Of Limbs\",\"x\":0.49999999999999994,\"xanchor\":\"center\",\"xref\":\"paper\",\"y\":0.2866666666666666,\"yanchor\":\"bottom\",\"yref\":\"paper\"},{\"showarrow\":false,\"text\":\"Album Name=A Moon Shaped Pool\",\"x\":0.8399999999999999,\"xanchor\":\"center\",\"xref\":\"paper\",\"y\":0.2866666666666666,\"yanchor\":\"bottom\",\"yref\":\"paper\"},{\"showarrow\":false,\"text\":\"Album Name=Kid A\",\"x\":0.15999999999999998,\"xanchor\":\"center\",\"xref\":\"paper\",\"y\":0.6433333333333333,\"yanchor\":\"bottom\",\"yref\":\"paper\"},{\"showarrow\":false,\"text\":\"Album Name=Amnesiac\",\"x\":0.49999999999999994,\"xanchor\":\"center\",\"xref\":\"paper\",\"y\":0.6433333333333333,\"yanchor\":\"bottom\",\"yref\":\"paper\"},{\"showarrow\":false,\"text\":\"Album Name=Hail To the Thief\",\"x\":0.8399999999999999,\"xanchor\":\"center\",\"xref\":\"paper\",\"y\":0.6433333333333333,\"yanchor\":\"bottom\",\"yref\":\"paper\"},{\"showarrow\":false,\"text\":\"Album Name=Pablo Honey\",\"x\":0.15999999999999998,\"xanchor\":\"center\",\"xref\":\"paper\",\"y\":0.9999999999999999,\"yanchor\":\"bottom\",\"yref\":\"paper\"},{\"showarrow\":false,\"text\":\"Album Name=The Bends\",\"x\":0.49999999999999994,\"xanchor\":\"center\",\"xref\":\"paper\",\"y\":0.9999999999999999,\"yanchor\":\"bottom\",\"yref\":\"paper\"},{\"showarrow\":false,\"text\":\"Album Name=OK Computer\",\"x\":0.8399999999999999,\"xanchor\":\"center\",\"xref\":\"paper\",\"y\":0.9999999999999999,\"yanchor\":\"bottom\",\"yref\":\"paper\"},{\"align\":\"left\",\"showarrow\":false,\"text\":\"Data Source: \\u003ca href=\\u201dhttps:\\u002f\\u002fwww.kaggle.com\\u002fdatasets\\u002flavagod\\u002fradiohead\\u002fversions\\u002f1?resource=download\\u201d\\u003eRadiohead Data\\u003c\\u002fa\\u003e \\u003cbr\\u003eViz: \\u003ca href=\\u201dhttps:\\u002f\\u002ftwitter.com\\u002f_prospecttheory\\u201d\\u003e@_prospecttheory\\u003c\\u002fa\\u003e \\u003cbr\\u003e \\u003cbr\\u003e \\u003cbr\\u003e \\u003cbr\\u003e \\u003cbr\\u003e\",\"x\":-0.07,\"xref\":\"paper\",\"y\":-0.7,\"yref\":\"paper\"}],\"legend\":{\"title\":{\"text\":\"Album Name\"},\"tracegroupgap\":0},\"title\":{\"text\":\"\\u003cb\\u003eThe Temporal Profiles of All Radiohead Albums \\u003c\\u002fb\\u003e \\u003cbr\\u003eHow about those valleys in the profiles?\"},\"barmode\":\"relative\",\"height\":600,\"width\":1500},                        {\"responsive\": true}                    ).then(function(){\n",
       "                            \n",
       "var gd = document.getElementById('0cc5a026-cdb0-4484-ad22-f35f46dd63e5');\n",
       "var x = new MutationObserver(function (mutations, observer) {{\n",
       "        var display = window.getComputedStyle(gd).display;\n",
       "        if (!display || display === 'none') {{\n",
       "            console.log([gd, 'removed!']);\n",
       "            Plotly.purge(gd);\n",
       "            observer.disconnect();\n",
       "        }}\n",
       "}});\n",
       "\n",
       "// Listen for the removal of the full notebook cells\n",
       "var notebookContainer = gd.closest('#notebook-container');\n",
       "if (notebookContainer) {{\n",
       "    x.observe(notebookContainer, {childList: true});\n",
       "}}\n",
       "\n",
       "// Listen for the clearing of the current output cell\n",
       "var outputEl = gd.closest('.output');\n",
       "if (outputEl) {{\n",
       "    x.observe(outputEl, {childList: true});\n",
       "}}\n",
       "\n",
       "                        })                };                });            </script>        </div>"
      ]
     },
     "metadata": {},
     "output_type": "display_data"
    }
   ],
   "source": [
    "#Plot Temporal Profiles\n",
    "fig = px.bar(df_radiohead, y= 'duration_mins', color = 'album_name', hover_name= 'track_name',\n",
    "            labels={'album_name':'Album Name', 'duration_mins': 'Duration in Minutes', 'track_name':'Track Name', 'count':'Number of Tracks'},\n",
    "            title= '<b>The Temporal Profiles of All Radiohead Albums </b> <br>How about those valleys in the profiles?',\n",
    "            template='plotly_dark', facet_col= 'album_name', facet_col_wrap=3, height=600, width=1500,)\n",
    "\n",
    "#Add Signature\n",
    "fig.add_annotation(text='Data Source: <a href=”https://www.kaggle.com/datasets/lavagod/radiohead/versions/1?resource=download”>Radiohead Data</a> <br>Viz: <a href=”https://twitter.com/_prospecttheory”>@_prospecttheory</a> <br> <br> <br> <br> <br>', \n",
    "                    align='left',\n",
    "                    showarrow=False,\n",
    "                    xref='paper',\n",
    "                    yref='paper',\n",
    "                    x= -0.07,\n",
    "                    y= -0.7)\n",
    "\n",
    "fig.show()"
   ]
  },
  {
   "cell_type": "markdown",
   "id": "94893c65",
   "metadata": {},
   "source": [
    "Looking at these profiles we can see that the band loves to put in a tempo change song more often than not. In 6 out of 9 records Radiohead inserted sub-three-minute tracks at the halfway to tho third mark to alter the mood of the musical flow. It is an interesting stylistic choice."
   ]
  },
  {
   "cell_type": "markdown",
   "id": "54c4a614",
   "metadata": {},
   "source": [
    "### Hard facts #4 - Number of words\n",
    "\n",
    "Lead songwriter Thom Yorke produces often haunting, but beautiful lyrics. By looking at the number of words in the individual tracks we can see, if the amount the band actually had to say or sing has changed at all:"
   ]
  },
  {
   "cell_type": "code",
   "execution_count": 362,
   "id": "5bdc0401",
   "metadata": {},
   "outputs": [
    {
     "data": {
      "application/vnd.plotly.v1+json": {
       "config": {
        "plotlyServerURL": "https://plot.ly"
       },
       "data": [
        {
         "alignmentgroup": "True",
         "hovertemplate": "<b>%{hovertext}</b><br><br>Album Name=%{x}<br>Number of Words=%{y}<extra></extra>",
         "hovertext": [
          "You",
          "Creep",
          "How Do You?",
          "Stop Whispering",
          "Thinking About You",
          "Anyone Can Play Guitar",
          "Ripcord",
          "Vegetable",
          "Prove Yourself",
          "I Can't",
          "Lurgee",
          "Blow Out"
         ],
         "legendgroup": "Pablo Honey",
         "marker": {
          "color": "#636efa",
          "pattern": {
           "shape": ""
          }
         },
         "name": "Pablo Honey",
         "offsetgroup": "Pablo Honey",
         "orientation": "v",
         "showlegend": true,
         "textposition": "auto",
         "type": "bar",
         "x": [
          "Pablo Honey",
          "Pablo Honey",
          "Pablo Honey",
          "Pablo Honey",
          "Pablo Honey",
          "Pablo Honey",
          "Pablo Honey",
          "Pablo Honey",
          "Pablo Honey",
          "Pablo Honey",
          "Pablo Honey",
          "Pablo Honey"
         ],
         "xaxis": "x",
         "y": [
          19,
          51,
          21,
          46,
          39,
          52,
          40,
          51,
          35,
          13,
          8,
          39
         ],
         "yaxis": "y"
        },
        {
         "alignmentgroup": "True",
         "hovertemplate": "<b>%{hovertext}</b><br><br>Album Name=%{x}<br>Number of Words=%{y}<extra></extra>",
         "hovertext": [
          "Planet Telex",
          "The Bends",
          "High And Dry",
          "Fake Plastic Trees",
          "Bones",
          "(Nice Dream)",
          "Just",
          "My Iron Lung",
          "Bullet Proof ... I Wish I Was",
          "Black Star",
          "Sulk",
          "Street Spirit (Fade Out)"
         ],
         "legendgroup": "The Bends",
         "marker": {
          "color": "#EF553B",
          "pattern": {
           "shape": ""
          }
         },
         "name": "The Bends",
         "offsetgroup": "The Bends",
         "orientation": "v",
         "showlegend": true,
         "textposition": "auto",
         "type": "bar",
         "x": [
          "The Bends",
          "The Bends",
          "The Bends",
          "The Bends",
          "The Bends",
          "The Bends",
          "The Bends",
          "The Bends",
          "The Bends",
          "The Bends",
          "The Bends",
          "The Bends"
         ],
         "xaxis": "x",
         "y": [
          30,
          79,
          56,
          50,
          37,
          53,
          34,
          78,
          30,
          60,
          47,
          43
         ],
         "yaxis": "y"
        },
        {
         "alignmentgroup": "True",
         "hovertemplate": "<b>%{hovertext}</b><br><br>Album Name=%{x}<br>Number of Words=%{y}<extra></extra>",
         "hovertext": [
          "Airbag",
          "Paranoid Android",
          "Subterranean Homesick Alien",
          "Exit Music (For a Film)",
          "Let Down",
          "Karma Police",
          "Fitter Happier",
          "Electioneering",
          "Climbing Up the Walls",
          "No Surprises",
          "Lucky",
          "The Tourist"
         ],
         "legendgroup": "OK Computer",
         "marker": {
          "color": "#00cc96",
          "pattern": {
           "shape": ""
          }
         },
         "name": "OK Computer",
         "offsetgroup": "OK Computer",
         "orientation": "v",
         "showlegend": true,
         "textposition": "auto",
         "type": "bar",
         "x": [
          "OK Computer",
          "OK Computer",
          "OK Computer",
          "OK Computer",
          "OK Computer",
          "OK Computer",
          "OK Computer",
          "OK Computer",
          "OK Computer",
          "OK Computer",
          "OK Computer",
          "OK Computer"
         ],
         "xaxis": "x",
         "y": [
          40,
          57,
          62,
          43,
          64,
          41,
          121,
          31,
          44,
          47,
          41,
          27
         ],
         "yaxis": "y"
        },
        {
         "alignmentgroup": "True",
         "hovertemplate": "<b>%{hovertext}</b><br><br>Album Name=%{x}<br>Number of Words=%{y}<extra></extra>",
         "hovertext": [
          "Everything In Its Right Place",
          "Kid A",
          "The National Anthem",
          "How To Disappear Completely",
          "Treefingers",
          "Optimistic",
          "In Limbo",
          "Idioteque",
          "Morning Bell",
          "Motion Picture Soundtrack",
          "Untitled"
         ],
         "legendgroup": "Kid A",
         "marker": {
          "color": "#ab63fa",
          "pattern": {
           "shape": ""
          }
         },
         "name": "Kid A",
         "offsetgroup": "Kid A",
         "orientation": "v",
         "showlegend": true,
         "textposition": "auto",
         "type": "bar",
         "x": [
          "Kid A",
          "Kid A",
          "Kid A",
          "Kid A",
          "Kid A",
          "Kid A",
          "Kid A",
          "Kid A",
          "Kid A",
          "Kid A",
          "Kid A"
         ],
         "xaxis": "x",
         "y": [
          27,
          31,
          8,
          18,
          0,
          38,
          61,
          83,
          63,
          24,
          0
         ],
         "yaxis": "y"
        },
        {
         "alignmentgroup": "True",
         "hovertemplate": "<b>%{hovertext}</b><br><br>Album Name=%{x}<br>Number of Words=%{y}<extra></extra>",
         "hovertext": [
          "Packt Like Sardines In a Crushed Tin Box",
          "Pyramid Song",
          "Pulk/Pull Revolving Doors",
          "You And Whose Army?",
          "I Might Be Wrong",
          "Knives Out",
          "Morning Bell/Amnesiac",
          "Dollars & Cents",
          "Hunting Bears",
          "Like Spinning Plates",
          "Life In a Glasshouse"
         ],
         "legendgroup": "Amnesiac",
         "marker": {
          "color": "#FFA15A",
          "pattern": {
           "shape": ""
          }
         },
         "name": "Amnesiac",
         "offsetgroup": "Amnesiac",
         "orientation": "v",
         "showlegend": true,
         "textposition": "auto",
         "type": "bar",
         "x": [
          "Amnesiac",
          "Amnesiac",
          "Amnesiac",
          "Amnesiac",
          "Amnesiac",
          "Amnesiac",
          "Amnesiac",
          "Amnesiac",
          "Amnesiac",
          "Amnesiac",
          "Amnesiac"
         ],
         "xaxis": "x",
         "y": [
          19,
          44,
          19,
          29,
          16,
          30,
          46,
          81,
          0,
          22,
          48
         ],
         "yaxis": "y"
        },
        {
         "alignmentgroup": "True",
         "hovertemplate": "<b>%{hovertext}</b><br><br>Album Name=%{x}<br>Number of Words=%{y}<extra></extra>",
         "hovertext": [
          "2 + 2 = 5",
          "Sit Down. Stand Up",
          "Sail To The Moon",
          "Backdrifts",
          "Go To Sleep",
          "Where I End and You Begin",
          "We Suck Young Blood",
          "The Gloaming",
          "There, There",
          "I Will",
          "A Punch Up At a Wedding",
          "Myxomatosis",
          "Scatterbrain",
          "A Wolf At the Door"
         ],
         "legendgroup": "Hail To the Thief",
         "marker": {
          "color": "#19d3f3",
          "pattern": {
           "shape": ""
          }
         },
         "name": "Hail To the Thief",
         "offsetgroup": "Hail To the Thief",
         "orientation": "v",
         "showlegend": true,
         "textposition": "auto",
         "type": "bar",
         "x": [
          "Hail To the Thief",
          "Hail To the Thief",
          "Hail To the Thief",
          "Hail To the Thief",
          "Hail To the Thief",
          "Hail To the Thief",
          "Hail To the Thief",
          "Hail To the Thief",
          "Hail To the Thief",
          "Hail To the Thief",
          "Hail To the Thief",
          "Hail To the Thief",
          "Hail To the Thief",
          "Hail To the Thief"
         ],
         "xaxis": "x",
         "y": [
          74,
          126,
          20,
          44,
          37,
          78,
          31,
          76,
          44,
          29,
          38,
          73,
          36,
          119
         ],
         "yaxis": "y"
        },
        {
         "alignmentgroup": "True",
         "hovertemplate": "<b>%{hovertext}</b><br><br>Album Name=%{x}<br>Number of Words=%{y}<extra></extra>",
         "hovertext": [
          "15 Step",
          "Bodysnatchers",
          "Nude",
          "Weird Fishes/ Arpeggi",
          "All I Need",
          "Faust Arp",
          "Reckoner",
          "House Of Cards",
          "Jigsaw Falling Into Place",
          "Videotape"
         ],
         "legendgroup": "In Rainbows",
         "marker": {
          "color": "#FF6692",
          "pattern": {
           "shape": ""
          }
         },
         "name": "In Rainbows",
         "offsetgroup": "In Rainbows",
         "orientation": "v",
         "showlegend": true,
         "textposition": "auto",
         "type": "bar",
         "x": [
          "In Rainbows",
          "In Rainbows",
          "In Rainbows",
          "In Rainbows",
          "In Rainbows",
          "In Rainbows",
          "In Rainbows",
          "In Rainbows",
          "In Rainbows",
          "In Rainbows"
         ],
         "xaxis": "x",
         "y": [
          38,
          52,
          19,
          48,
          28,
          58,
          24,
          53,
          65,
          28
         ],
         "yaxis": "y"
        },
        {
         "alignmentgroup": "True",
         "hovertemplate": "<b>%{hovertext}</b><br><br>Album Name=%{x}<br>Number of Words=%{y}<extra></extra>",
         "hovertext": [
          "Bloom",
          "Morning Mr Magpie",
          "Little By Little",
          "Feral",
          "Lotus Flower",
          "Codex",
          "Give Up The Ghost",
          "Separator"
         ],
         "legendgroup": "The King Of Limbs",
         "marker": {
          "color": "#B6E880",
          "pattern": {
           "shape": ""
          }
         },
         "name": "The King Of Limbs",
         "offsetgroup": "The King Of Limbs",
         "orientation": "v",
         "showlegend": true,
         "textposition": "auto",
         "type": "bar",
         "x": [
          "The King Of Limbs",
          "The King Of Limbs",
          "The King Of Limbs",
          "The King Of Limbs",
          "The King Of Limbs",
          "The King Of Limbs",
          "The King Of Limbs",
          "The King Of Limbs"
         ],
         "xaxis": "x",
         "y": [
          27,
          16,
          42,
          5,
          81,
          15,
          62,
          75
         ],
         "yaxis": "y"
        },
        {
         "alignmentgroup": "True",
         "hovertemplate": "<b>%{hovertext}</b><br><br>Album Name=%{x}<br>Number of Words=%{y}<extra></extra>",
         "hovertext": [
          "Burn the Witch",
          "Daydreaming",
          "Decks Dark",
          "Desert Island Disk",
          "Ful Stop",
          "Glass Eyes",
          "Identikit",
          "The Numbers",
          "Present Tense",
          "Tinker Tailor Soldier Sailor Rich Man Poor Man Beggar Man Thief",
          "True Love Waits"
         ],
         "legendgroup": "A Moon Shaped Pool",
         "marker": {
          "color": "#FF97FF",
          "pattern": {
           "shape": ""
          }
         },
         "name": "A Moon Shaped Pool",
         "offsetgroup": "A Moon Shaped Pool",
         "orientation": "v",
         "showlegend": true,
         "textposition": "auto",
         "type": "bar",
         "x": [
          "A Moon Shaped Pool",
          "A Moon Shaped Pool",
          "A Moon Shaped Pool",
          "A Moon Shaped Pool",
          "A Moon Shaped Pool",
          "A Moon Shaped Pool",
          "A Moon Shaped Pool",
          "A Moon Shaped Pool",
          "A Moon Shaped Pool",
          "A Moon Shaped Pool",
          "A Moon Shaped Pool"
         ],
         "xaxis": "x",
         "y": [
          47,
          79,
          68,
          43,
          82,
          47,
          100,
          44,
          39,
          26,
          42
         ],
         "yaxis": "y"
        }
       ],
       "layout": {
        "annotations": [
         {
          "align": "left",
          "showarrow": false,
          "text": "Data Source: <a href=”https://www.kaggle.com/datasets/lavagod/radiohead/versions/1?resource=download”>Radiohead Data</a> <br>Viz: <a href=”https://twitter.com/_prospecttheory”>@_prospecttheory</a> <br> <br> <br> <br> <br>",
          "x": -0.07,
          "xref": "paper",
          "y": -0.7,
          "yref": "paper"
         }
        ],
        "barmode": "relative",
        "legend": {
         "title": {
          "text": "Album Name"
         },
         "tracegroupgap": 0
        },
        "template": {
         "data": {
          "bar": [
           {
            "error_x": {
             "color": "#f2f5fa"
            },
            "error_y": {
             "color": "#f2f5fa"
            },
            "marker": {
             "line": {
              "color": "rgb(17,17,17)",
              "width": 0.5
             },
             "pattern": {
              "fillmode": "overlay",
              "size": 10,
              "solidity": 0.2
             }
            },
            "type": "bar"
           }
          ],
          "barpolar": [
           {
            "marker": {
             "line": {
              "color": "rgb(17,17,17)",
              "width": 0.5
             },
             "pattern": {
              "fillmode": "overlay",
              "size": 10,
              "solidity": 0.2
             }
            },
            "type": "barpolar"
           }
          ],
          "carpet": [
           {
            "aaxis": {
             "endlinecolor": "#A2B1C6",
             "gridcolor": "#506784",
             "linecolor": "#506784",
             "minorgridcolor": "#506784",
             "startlinecolor": "#A2B1C6"
            },
            "baxis": {
             "endlinecolor": "#A2B1C6",
             "gridcolor": "#506784",
             "linecolor": "#506784",
             "minorgridcolor": "#506784",
             "startlinecolor": "#A2B1C6"
            },
            "type": "carpet"
           }
          ],
          "choropleth": [
           {
            "colorbar": {
             "outlinewidth": 0,
             "ticks": ""
            },
            "type": "choropleth"
           }
          ],
          "contour": [
           {
            "colorbar": {
             "outlinewidth": 0,
             "ticks": ""
            },
            "colorscale": [
             [
              0,
              "#0d0887"
             ],
             [
              0.1111111111111111,
              "#46039f"
             ],
             [
              0.2222222222222222,
              "#7201a8"
             ],
             [
              0.3333333333333333,
              "#9c179e"
             ],
             [
              0.4444444444444444,
              "#bd3786"
             ],
             [
              0.5555555555555556,
              "#d8576b"
             ],
             [
              0.6666666666666666,
              "#ed7953"
             ],
             [
              0.7777777777777778,
              "#fb9f3a"
             ],
             [
              0.8888888888888888,
              "#fdca26"
             ],
             [
              1,
              "#f0f921"
             ]
            ],
            "type": "contour"
           }
          ],
          "contourcarpet": [
           {
            "colorbar": {
             "outlinewidth": 0,
             "ticks": ""
            },
            "type": "contourcarpet"
           }
          ],
          "heatmap": [
           {
            "colorbar": {
             "outlinewidth": 0,
             "ticks": ""
            },
            "colorscale": [
             [
              0,
              "#0d0887"
             ],
             [
              0.1111111111111111,
              "#46039f"
             ],
             [
              0.2222222222222222,
              "#7201a8"
             ],
             [
              0.3333333333333333,
              "#9c179e"
             ],
             [
              0.4444444444444444,
              "#bd3786"
             ],
             [
              0.5555555555555556,
              "#d8576b"
             ],
             [
              0.6666666666666666,
              "#ed7953"
             ],
             [
              0.7777777777777778,
              "#fb9f3a"
             ],
             [
              0.8888888888888888,
              "#fdca26"
             ],
             [
              1,
              "#f0f921"
             ]
            ],
            "type": "heatmap"
           }
          ],
          "heatmapgl": [
           {
            "colorbar": {
             "outlinewidth": 0,
             "ticks": ""
            },
            "colorscale": [
             [
              0,
              "#0d0887"
             ],
             [
              0.1111111111111111,
              "#46039f"
             ],
             [
              0.2222222222222222,
              "#7201a8"
             ],
             [
              0.3333333333333333,
              "#9c179e"
             ],
             [
              0.4444444444444444,
              "#bd3786"
             ],
             [
              0.5555555555555556,
              "#d8576b"
             ],
             [
              0.6666666666666666,
              "#ed7953"
             ],
             [
              0.7777777777777778,
              "#fb9f3a"
             ],
             [
              0.8888888888888888,
              "#fdca26"
             ],
             [
              1,
              "#f0f921"
             ]
            ],
            "type": "heatmapgl"
           }
          ],
          "histogram": [
           {
            "marker": {
             "pattern": {
              "fillmode": "overlay",
              "size": 10,
              "solidity": 0.2
             }
            },
            "type": "histogram"
           }
          ],
          "histogram2d": [
           {
            "colorbar": {
             "outlinewidth": 0,
             "ticks": ""
            },
            "colorscale": [
             [
              0,
              "#0d0887"
             ],
             [
              0.1111111111111111,
              "#46039f"
             ],
             [
              0.2222222222222222,
              "#7201a8"
             ],
             [
              0.3333333333333333,
              "#9c179e"
             ],
             [
              0.4444444444444444,
              "#bd3786"
             ],
             [
              0.5555555555555556,
              "#d8576b"
             ],
             [
              0.6666666666666666,
              "#ed7953"
             ],
             [
              0.7777777777777778,
              "#fb9f3a"
             ],
             [
              0.8888888888888888,
              "#fdca26"
             ],
             [
              1,
              "#f0f921"
             ]
            ],
            "type": "histogram2d"
           }
          ],
          "histogram2dcontour": [
           {
            "colorbar": {
             "outlinewidth": 0,
             "ticks": ""
            },
            "colorscale": [
             [
              0,
              "#0d0887"
             ],
             [
              0.1111111111111111,
              "#46039f"
             ],
             [
              0.2222222222222222,
              "#7201a8"
             ],
             [
              0.3333333333333333,
              "#9c179e"
             ],
             [
              0.4444444444444444,
              "#bd3786"
             ],
             [
              0.5555555555555556,
              "#d8576b"
             ],
             [
              0.6666666666666666,
              "#ed7953"
             ],
             [
              0.7777777777777778,
              "#fb9f3a"
             ],
             [
              0.8888888888888888,
              "#fdca26"
             ],
             [
              1,
              "#f0f921"
             ]
            ],
            "type": "histogram2dcontour"
           }
          ],
          "mesh3d": [
           {
            "colorbar": {
             "outlinewidth": 0,
             "ticks": ""
            },
            "type": "mesh3d"
           }
          ],
          "parcoords": [
           {
            "line": {
             "colorbar": {
              "outlinewidth": 0,
              "ticks": ""
             }
            },
            "type": "parcoords"
           }
          ],
          "pie": [
           {
            "automargin": true,
            "type": "pie"
           }
          ],
          "scatter": [
           {
            "marker": {
             "line": {
              "color": "#283442"
             }
            },
            "type": "scatter"
           }
          ],
          "scatter3d": [
           {
            "line": {
             "colorbar": {
              "outlinewidth": 0,
              "ticks": ""
             }
            },
            "marker": {
             "colorbar": {
              "outlinewidth": 0,
              "ticks": ""
             }
            },
            "type": "scatter3d"
           }
          ],
          "scattercarpet": [
           {
            "marker": {
             "colorbar": {
              "outlinewidth": 0,
              "ticks": ""
             }
            },
            "type": "scattercarpet"
           }
          ],
          "scattergeo": [
           {
            "marker": {
             "colorbar": {
              "outlinewidth": 0,
              "ticks": ""
             }
            },
            "type": "scattergeo"
           }
          ],
          "scattergl": [
           {
            "marker": {
             "line": {
              "color": "#283442"
             }
            },
            "type": "scattergl"
           }
          ],
          "scattermapbox": [
           {
            "marker": {
             "colorbar": {
              "outlinewidth": 0,
              "ticks": ""
             }
            },
            "type": "scattermapbox"
           }
          ],
          "scatterpolar": [
           {
            "marker": {
             "colorbar": {
              "outlinewidth": 0,
              "ticks": ""
             }
            },
            "type": "scatterpolar"
           }
          ],
          "scatterpolargl": [
           {
            "marker": {
             "colorbar": {
              "outlinewidth": 0,
              "ticks": ""
             }
            },
            "type": "scatterpolargl"
           }
          ],
          "scatterternary": [
           {
            "marker": {
             "colorbar": {
              "outlinewidth": 0,
              "ticks": ""
             }
            },
            "type": "scatterternary"
           }
          ],
          "surface": [
           {
            "colorbar": {
             "outlinewidth": 0,
             "ticks": ""
            },
            "colorscale": [
             [
              0,
              "#0d0887"
             ],
             [
              0.1111111111111111,
              "#46039f"
             ],
             [
              0.2222222222222222,
              "#7201a8"
             ],
             [
              0.3333333333333333,
              "#9c179e"
             ],
             [
              0.4444444444444444,
              "#bd3786"
             ],
             [
              0.5555555555555556,
              "#d8576b"
             ],
             [
              0.6666666666666666,
              "#ed7953"
             ],
             [
              0.7777777777777778,
              "#fb9f3a"
             ],
             [
              0.8888888888888888,
              "#fdca26"
             ],
             [
              1,
              "#f0f921"
             ]
            ],
            "type": "surface"
           }
          ],
          "table": [
           {
            "cells": {
             "fill": {
              "color": "#506784"
             },
             "line": {
              "color": "rgb(17,17,17)"
             }
            },
            "header": {
             "fill": {
              "color": "#2a3f5f"
             },
             "line": {
              "color": "rgb(17,17,17)"
             }
            },
            "type": "table"
           }
          ]
         },
         "layout": {
          "annotationdefaults": {
           "arrowcolor": "#f2f5fa",
           "arrowhead": 0,
           "arrowwidth": 1
          },
          "autotypenumbers": "strict",
          "coloraxis": {
           "colorbar": {
            "outlinewidth": 0,
            "ticks": ""
           }
          },
          "colorscale": {
           "diverging": [
            [
             0,
             "#8e0152"
            ],
            [
             0.1,
             "#c51b7d"
            ],
            [
             0.2,
             "#de77ae"
            ],
            [
             0.3,
             "#f1b6da"
            ],
            [
             0.4,
             "#fde0ef"
            ],
            [
             0.5,
             "#f7f7f7"
            ],
            [
             0.6,
             "#e6f5d0"
            ],
            [
             0.7,
             "#b8e186"
            ],
            [
             0.8,
             "#7fbc41"
            ],
            [
             0.9,
             "#4d9221"
            ],
            [
             1,
             "#276419"
            ]
           ],
           "sequential": [
            [
             0,
             "#0d0887"
            ],
            [
             0.1111111111111111,
             "#46039f"
            ],
            [
             0.2222222222222222,
             "#7201a8"
            ],
            [
             0.3333333333333333,
             "#9c179e"
            ],
            [
             0.4444444444444444,
             "#bd3786"
            ],
            [
             0.5555555555555556,
             "#d8576b"
            ],
            [
             0.6666666666666666,
             "#ed7953"
            ],
            [
             0.7777777777777778,
             "#fb9f3a"
            ],
            [
             0.8888888888888888,
             "#fdca26"
            ],
            [
             1,
             "#f0f921"
            ]
           ],
           "sequentialminus": [
            [
             0,
             "#0d0887"
            ],
            [
             0.1111111111111111,
             "#46039f"
            ],
            [
             0.2222222222222222,
             "#7201a8"
            ],
            [
             0.3333333333333333,
             "#9c179e"
            ],
            [
             0.4444444444444444,
             "#bd3786"
            ],
            [
             0.5555555555555556,
             "#d8576b"
            ],
            [
             0.6666666666666666,
             "#ed7953"
            ],
            [
             0.7777777777777778,
             "#fb9f3a"
            ],
            [
             0.8888888888888888,
             "#fdca26"
            ],
            [
             1,
             "#f0f921"
            ]
           ]
          },
          "colorway": [
           "#636efa",
           "#EF553B",
           "#00cc96",
           "#ab63fa",
           "#FFA15A",
           "#19d3f3",
           "#FF6692",
           "#B6E880",
           "#FF97FF",
           "#FECB52"
          ],
          "font": {
           "color": "#f2f5fa"
          },
          "geo": {
           "bgcolor": "rgb(17,17,17)",
           "lakecolor": "rgb(17,17,17)",
           "landcolor": "rgb(17,17,17)",
           "showlakes": true,
           "showland": true,
           "subunitcolor": "#506784"
          },
          "hoverlabel": {
           "align": "left"
          },
          "hovermode": "closest",
          "mapbox": {
           "style": "dark"
          },
          "paper_bgcolor": "rgb(17,17,17)",
          "plot_bgcolor": "rgb(17,17,17)",
          "polar": {
           "angularaxis": {
            "gridcolor": "#506784",
            "linecolor": "#506784",
            "ticks": ""
           },
           "bgcolor": "rgb(17,17,17)",
           "radialaxis": {
            "gridcolor": "#506784",
            "linecolor": "#506784",
            "ticks": ""
           }
          },
          "scene": {
           "xaxis": {
            "backgroundcolor": "rgb(17,17,17)",
            "gridcolor": "#506784",
            "gridwidth": 2,
            "linecolor": "#506784",
            "showbackground": true,
            "ticks": "",
            "zerolinecolor": "#C8D4E3"
           },
           "yaxis": {
            "backgroundcolor": "rgb(17,17,17)",
            "gridcolor": "#506784",
            "gridwidth": 2,
            "linecolor": "#506784",
            "showbackground": true,
            "ticks": "",
            "zerolinecolor": "#C8D4E3"
           },
           "zaxis": {
            "backgroundcolor": "rgb(17,17,17)",
            "gridcolor": "#506784",
            "gridwidth": 2,
            "linecolor": "#506784",
            "showbackground": true,
            "ticks": "",
            "zerolinecolor": "#C8D4E3"
           }
          },
          "shapedefaults": {
           "line": {
            "color": "#f2f5fa"
           }
          },
          "sliderdefaults": {
           "bgcolor": "#C8D4E3",
           "bordercolor": "rgb(17,17,17)",
           "borderwidth": 1,
           "tickwidth": 0
          },
          "ternary": {
           "aaxis": {
            "gridcolor": "#506784",
            "linecolor": "#506784",
            "ticks": ""
           },
           "baxis": {
            "gridcolor": "#506784",
            "linecolor": "#506784",
            "ticks": ""
           },
           "bgcolor": "rgb(17,17,17)",
           "caxis": {
            "gridcolor": "#506784",
            "linecolor": "#506784",
            "ticks": ""
           }
          },
          "title": {
           "x": 0.05
          },
          "updatemenudefaults": {
           "bgcolor": "#506784",
           "borderwidth": 0
          },
          "xaxis": {
           "automargin": true,
           "gridcolor": "#283442",
           "linecolor": "#506784",
           "ticks": "",
           "title": {
            "standoff": 15
           },
           "zerolinecolor": "#283442",
           "zerolinewidth": 2
          },
          "yaxis": {
           "automargin": true,
           "gridcolor": "#283442",
           "linecolor": "#506784",
           "ticks": "",
           "title": {
            "standoff": 15
           },
           "zerolinecolor": "#283442",
           "zerolinewidth": 2
          }
         }
        },
        "title": {
         "text": "<b>Radiohead Albums by Number of Words</b> <br>The amount of lyrics over time has been fairly inconsistent."
        },
        "xaxis": {
         "anchor": "y",
         "categoryarray": [
          "Pablo Honey",
          "The Bends",
          "OK Computer",
          "Kid A",
          "Amnesiac",
          "Hail To the Thief",
          "In Rainbows",
          "The King Of Limbs",
          "A Moon Shaped Pool"
         ],
         "categoryorder": "array",
         "domain": [
          0,
          1
         ],
         "title": {
          "text": "Album Name"
         }
        },
        "yaxis": {
         "anchor": "x",
         "domain": [
          0,
          1
         ],
         "title": {
          "text": "Number of Words"
         }
        }
       }
      },
      "text/html": [
       "<div>                            <div id=\"d3fcd8df-bd93-41ff-bd47-77d2453e495a\" class=\"plotly-graph-div\" style=\"height:525px; width:100%;\"></div>            <script type=\"text/javascript\">                require([\"plotly\"], function(Plotly) {                    window.PLOTLYENV=window.PLOTLYENV || {};                                    if (document.getElementById(\"d3fcd8df-bd93-41ff-bd47-77d2453e495a\")) {                    Plotly.newPlot(                        \"d3fcd8df-bd93-41ff-bd47-77d2453e495a\",                        [{\"alignmentgroup\":\"True\",\"hovertemplate\":\"\\u003cb\\u003e%{hovertext}\\u003c\\u002fb\\u003e\\u003cbr\\u003e\\u003cbr\\u003eAlbum Name=%{x}\\u003cbr\\u003eNumber of Words=%{y}\\u003cextra\\u003e\\u003c\\u002fextra\\u003e\",\"hovertext\":[\"You\",\"Creep\",\"How Do You?\",\"Stop Whispering\",\"Thinking About You\",\"Anyone Can Play Guitar\",\"Ripcord\",\"Vegetable\",\"Prove Yourself\",\"I Can't\",\"Lurgee\",\"Blow Out\"],\"legendgroup\":\"Pablo Honey\",\"marker\":{\"color\":\"#636efa\",\"pattern\":{\"shape\":\"\"}},\"name\":\"Pablo Honey\",\"offsetgroup\":\"Pablo Honey\",\"orientation\":\"v\",\"showlegend\":true,\"textposition\":\"auto\",\"x\":[\"Pablo Honey\",\"Pablo Honey\",\"Pablo Honey\",\"Pablo Honey\",\"Pablo Honey\",\"Pablo Honey\",\"Pablo Honey\",\"Pablo Honey\",\"Pablo Honey\",\"Pablo Honey\",\"Pablo Honey\",\"Pablo Honey\"],\"xaxis\":\"x\",\"y\":[19,51,21,46,39,52,40,51,35,13,8,39],\"yaxis\":\"y\",\"type\":\"bar\"},{\"alignmentgroup\":\"True\",\"hovertemplate\":\"\\u003cb\\u003e%{hovertext}\\u003c\\u002fb\\u003e\\u003cbr\\u003e\\u003cbr\\u003eAlbum Name=%{x}\\u003cbr\\u003eNumber of Words=%{y}\\u003cextra\\u003e\\u003c\\u002fextra\\u003e\",\"hovertext\":[\"Planet Telex\",\"The Bends\",\"High And Dry\",\"Fake Plastic Trees\",\"Bones\",\"(Nice Dream)\",\"Just\",\"My Iron Lung\",\"Bullet Proof ... I Wish I Was\",\"Black Star\",\"Sulk\",\"Street Spirit (Fade Out)\"],\"legendgroup\":\"The Bends\",\"marker\":{\"color\":\"#EF553B\",\"pattern\":{\"shape\":\"\"}},\"name\":\"The Bends\",\"offsetgroup\":\"The Bends\",\"orientation\":\"v\",\"showlegend\":true,\"textposition\":\"auto\",\"x\":[\"The Bends\",\"The Bends\",\"The Bends\",\"The Bends\",\"The Bends\",\"The Bends\",\"The Bends\",\"The Bends\",\"The Bends\",\"The Bends\",\"The Bends\",\"The Bends\"],\"xaxis\":\"x\",\"y\":[30,79,56,50,37,53,34,78,30,60,47,43],\"yaxis\":\"y\",\"type\":\"bar\"},{\"alignmentgroup\":\"True\",\"hovertemplate\":\"\\u003cb\\u003e%{hovertext}\\u003c\\u002fb\\u003e\\u003cbr\\u003e\\u003cbr\\u003eAlbum Name=%{x}\\u003cbr\\u003eNumber of Words=%{y}\\u003cextra\\u003e\\u003c\\u002fextra\\u003e\",\"hovertext\":[\"Airbag\",\"Paranoid Android\",\"Subterranean Homesick Alien\",\"Exit Music (For a Film)\",\"Let Down\",\"Karma Police\",\"Fitter Happier\",\"Electioneering\",\"Climbing Up the Walls\",\"No Surprises\",\"Lucky\",\"The Tourist\"],\"legendgroup\":\"OK Computer\",\"marker\":{\"color\":\"#00cc96\",\"pattern\":{\"shape\":\"\"}},\"name\":\"OK Computer\",\"offsetgroup\":\"OK Computer\",\"orientation\":\"v\",\"showlegend\":true,\"textposition\":\"auto\",\"x\":[\"OK Computer\",\"OK Computer\",\"OK Computer\",\"OK Computer\",\"OK Computer\",\"OK Computer\",\"OK Computer\",\"OK Computer\",\"OK Computer\",\"OK Computer\",\"OK Computer\",\"OK Computer\"],\"xaxis\":\"x\",\"y\":[40,57,62,43,64,41,121,31,44,47,41,27],\"yaxis\":\"y\",\"type\":\"bar\"},{\"alignmentgroup\":\"True\",\"hovertemplate\":\"\\u003cb\\u003e%{hovertext}\\u003c\\u002fb\\u003e\\u003cbr\\u003e\\u003cbr\\u003eAlbum Name=%{x}\\u003cbr\\u003eNumber of Words=%{y}\\u003cextra\\u003e\\u003c\\u002fextra\\u003e\",\"hovertext\":[\"Everything In Its Right Place\",\"Kid A\",\"The National Anthem\",\"How To Disappear Completely\",\"Treefingers\",\"Optimistic\",\"In Limbo\",\"Idioteque\",\"Morning Bell\",\"Motion Picture Soundtrack\",\"Untitled\"],\"legendgroup\":\"Kid A\",\"marker\":{\"color\":\"#ab63fa\",\"pattern\":{\"shape\":\"\"}},\"name\":\"Kid A\",\"offsetgroup\":\"Kid A\",\"orientation\":\"v\",\"showlegend\":true,\"textposition\":\"auto\",\"x\":[\"Kid A\",\"Kid A\",\"Kid A\",\"Kid A\",\"Kid A\",\"Kid A\",\"Kid A\",\"Kid A\",\"Kid A\",\"Kid A\",\"Kid A\"],\"xaxis\":\"x\",\"y\":[27,31,8,18,0,38,61,83,63,24,0],\"yaxis\":\"y\",\"type\":\"bar\"},{\"alignmentgroup\":\"True\",\"hovertemplate\":\"\\u003cb\\u003e%{hovertext}\\u003c\\u002fb\\u003e\\u003cbr\\u003e\\u003cbr\\u003eAlbum Name=%{x}\\u003cbr\\u003eNumber of Words=%{y}\\u003cextra\\u003e\\u003c\\u002fextra\\u003e\",\"hovertext\":[\"Packt Like Sardines In a Crushed Tin Box\",\"Pyramid Song\",\"Pulk\\u002fPull Revolving Doors\",\"You And Whose Army?\",\"I Might Be Wrong\",\"Knives Out\",\"Morning Bell\\u002fAmnesiac\",\"Dollars & Cents\",\"Hunting Bears\",\"Like Spinning Plates\",\"Life In a Glasshouse\"],\"legendgroup\":\"Amnesiac\",\"marker\":{\"color\":\"#FFA15A\",\"pattern\":{\"shape\":\"\"}},\"name\":\"Amnesiac\",\"offsetgroup\":\"Amnesiac\",\"orientation\":\"v\",\"showlegend\":true,\"textposition\":\"auto\",\"x\":[\"Amnesiac\",\"Amnesiac\",\"Amnesiac\",\"Amnesiac\",\"Amnesiac\",\"Amnesiac\",\"Amnesiac\",\"Amnesiac\",\"Amnesiac\",\"Amnesiac\",\"Amnesiac\"],\"xaxis\":\"x\",\"y\":[19,44,19,29,16,30,46,81,0,22,48],\"yaxis\":\"y\",\"type\":\"bar\"},{\"alignmentgroup\":\"True\",\"hovertemplate\":\"\\u003cb\\u003e%{hovertext}\\u003c\\u002fb\\u003e\\u003cbr\\u003e\\u003cbr\\u003eAlbum Name=%{x}\\u003cbr\\u003eNumber of Words=%{y}\\u003cextra\\u003e\\u003c\\u002fextra\\u003e\",\"hovertext\":[\"2 + 2 = 5\",\"Sit Down. Stand Up\",\"Sail To The Moon\",\"Backdrifts\",\"Go To Sleep\",\"Where I End and You Begin\",\"We Suck Young Blood\",\"The Gloaming\",\"There, There\",\"I Will\",\"A Punch Up At a Wedding\",\"Myxomatosis\",\"Scatterbrain\",\"A Wolf At the Door\"],\"legendgroup\":\"Hail To the Thief\",\"marker\":{\"color\":\"#19d3f3\",\"pattern\":{\"shape\":\"\"}},\"name\":\"Hail To the Thief\",\"offsetgroup\":\"Hail To the Thief\",\"orientation\":\"v\",\"showlegend\":true,\"textposition\":\"auto\",\"x\":[\"Hail To the Thief\",\"Hail To the Thief\",\"Hail To the Thief\",\"Hail To the Thief\",\"Hail To the Thief\",\"Hail To the Thief\",\"Hail To the Thief\",\"Hail To the Thief\",\"Hail To the Thief\",\"Hail To the Thief\",\"Hail To the Thief\",\"Hail To the Thief\",\"Hail To the Thief\",\"Hail To the Thief\"],\"xaxis\":\"x\",\"y\":[74,126,20,44,37,78,31,76,44,29,38,73,36,119],\"yaxis\":\"y\",\"type\":\"bar\"},{\"alignmentgroup\":\"True\",\"hovertemplate\":\"\\u003cb\\u003e%{hovertext}\\u003c\\u002fb\\u003e\\u003cbr\\u003e\\u003cbr\\u003eAlbum Name=%{x}\\u003cbr\\u003eNumber of Words=%{y}\\u003cextra\\u003e\\u003c\\u002fextra\\u003e\",\"hovertext\":[\"15 Step\",\"Bodysnatchers\",\"Nude\",\"Weird Fishes\\u002f Arpeggi\",\"All I Need\",\"Faust Arp\",\"Reckoner\",\"House Of Cards\",\"Jigsaw Falling Into Place\",\"Videotape\"],\"legendgroup\":\"In Rainbows\",\"marker\":{\"color\":\"#FF6692\",\"pattern\":{\"shape\":\"\"}},\"name\":\"In Rainbows\",\"offsetgroup\":\"In Rainbows\",\"orientation\":\"v\",\"showlegend\":true,\"textposition\":\"auto\",\"x\":[\"In Rainbows\",\"In Rainbows\",\"In Rainbows\",\"In Rainbows\",\"In Rainbows\",\"In Rainbows\",\"In Rainbows\",\"In Rainbows\",\"In Rainbows\",\"In Rainbows\"],\"xaxis\":\"x\",\"y\":[38,52,19,48,28,58,24,53,65,28],\"yaxis\":\"y\",\"type\":\"bar\"},{\"alignmentgroup\":\"True\",\"hovertemplate\":\"\\u003cb\\u003e%{hovertext}\\u003c\\u002fb\\u003e\\u003cbr\\u003e\\u003cbr\\u003eAlbum Name=%{x}\\u003cbr\\u003eNumber of Words=%{y}\\u003cextra\\u003e\\u003c\\u002fextra\\u003e\",\"hovertext\":[\"Bloom\",\"Morning Mr Magpie\",\"Little By Little\",\"Feral\",\"Lotus Flower\",\"Codex\",\"Give Up The Ghost\",\"Separator\"],\"legendgroup\":\"The King Of Limbs\",\"marker\":{\"color\":\"#B6E880\",\"pattern\":{\"shape\":\"\"}},\"name\":\"The King Of Limbs\",\"offsetgroup\":\"The King Of Limbs\",\"orientation\":\"v\",\"showlegend\":true,\"textposition\":\"auto\",\"x\":[\"The King Of Limbs\",\"The King Of Limbs\",\"The King Of Limbs\",\"The King Of Limbs\",\"The King Of Limbs\",\"The King Of Limbs\",\"The King Of Limbs\",\"The King Of Limbs\"],\"xaxis\":\"x\",\"y\":[27,16,42,5,81,15,62,75],\"yaxis\":\"y\",\"type\":\"bar\"},{\"alignmentgroup\":\"True\",\"hovertemplate\":\"\\u003cb\\u003e%{hovertext}\\u003c\\u002fb\\u003e\\u003cbr\\u003e\\u003cbr\\u003eAlbum Name=%{x}\\u003cbr\\u003eNumber of Words=%{y}\\u003cextra\\u003e\\u003c\\u002fextra\\u003e\",\"hovertext\":[\"Burn the Witch\",\"Daydreaming\",\"Decks Dark\",\"Desert Island Disk\",\"Ful Stop\",\"Glass Eyes\",\"Identikit\",\"The Numbers\",\"Present Tense\",\"Tinker Tailor Soldier Sailor Rich Man Poor Man Beggar Man Thief\",\"True Love Waits\"],\"legendgroup\":\"A Moon Shaped Pool\",\"marker\":{\"color\":\"#FF97FF\",\"pattern\":{\"shape\":\"\"}},\"name\":\"A Moon Shaped Pool\",\"offsetgroup\":\"A Moon Shaped Pool\",\"orientation\":\"v\",\"showlegend\":true,\"textposition\":\"auto\",\"x\":[\"A Moon Shaped Pool\",\"A Moon Shaped Pool\",\"A Moon Shaped Pool\",\"A Moon Shaped Pool\",\"A Moon Shaped Pool\",\"A Moon Shaped Pool\",\"A Moon Shaped Pool\",\"A Moon Shaped Pool\",\"A Moon Shaped Pool\",\"A Moon Shaped Pool\",\"A Moon Shaped Pool\"],\"xaxis\":\"x\",\"y\":[47,79,68,43,82,47,100,44,39,26,42],\"yaxis\":\"y\",\"type\":\"bar\"}],                        {\"template\":{\"data\":{\"barpolar\":[{\"marker\":{\"line\":{\"color\":\"rgb(17,17,17)\",\"width\":0.5},\"pattern\":{\"fillmode\":\"overlay\",\"size\":10,\"solidity\":0.2}},\"type\":\"barpolar\"}],\"bar\":[{\"error_x\":{\"color\":\"#f2f5fa\"},\"error_y\":{\"color\":\"#f2f5fa\"},\"marker\":{\"line\":{\"color\":\"rgb(17,17,17)\",\"width\":0.5},\"pattern\":{\"fillmode\":\"overlay\",\"size\":10,\"solidity\":0.2}},\"type\":\"bar\"}],\"carpet\":[{\"aaxis\":{\"endlinecolor\":\"#A2B1C6\",\"gridcolor\":\"#506784\",\"linecolor\":\"#506784\",\"minorgridcolor\":\"#506784\",\"startlinecolor\":\"#A2B1C6\"},\"baxis\":{\"endlinecolor\":\"#A2B1C6\",\"gridcolor\":\"#506784\",\"linecolor\":\"#506784\",\"minorgridcolor\":\"#506784\",\"startlinecolor\":\"#A2B1C6\"},\"type\":\"carpet\"}],\"choropleth\":[{\"colorbar\":{\"outlinewidth\":0,\"ticks\":\"\"},\"type\":\"choropleth\"}],\"contourcarpet\":[{\"colorbar\":{\"outlinewidth\":0,\"ticks\":\"\"},\"type\":\"contourcarpet\"}],\"contour\":[{\"colorbar\":{\"outlinewidth\":0,\"ticks\":\"\"},\"colorscale\":[[0.0,\"#0d0887\"],[0.1111111111111111,\"#46039f\"],[0.2222222222222222,\"#7201a8\"],[0.3333333333333333,\"#9c179e\"],[0.4444444444444444,\"#bd3786\"],[0.5555555555555556,\"#d8576b\"],[0.6666666666666666,\"#ed7953\"],[0.7777777777777778,\"#fb9f3a\"],[0.8888888888888888,\"#fdca26\"],[1.0,\"#f0f921\"]],\"type\":\"contour\"}],\"heatmapgl\":[{\"colorbar\":{\"outlinewidth\":0,\"ticks\":\"\"},\"colorscale\":[[0.0,\"#0d0887\"],[0.1111111111111111,\"#46039f\"],[0.2222222222222222,\"#7201a8\"],[0.3333333333333333,\"#9c179e\"],[0.4444444444444444,\"#bd3786\"],[0.5555555555555556,\"#d8576b\"],[0.6666666666666666,\"#ed7953\"],[0.7777777777777778,\"#fb9f3a\"],[0.8888888888888888,\"#fdca26\"],[1.0,\"#f0f921\"]],\"type\":\"heatmapgl\"}],\"heatmap\":[{\"colorbar\":{\"outlinewidth\":0,\"ticks\":\"\"},\"colorscale\":[[0.0,\"#0d0887\"],[0.1111111111111111,\"#46039f\"],[0.2222222222222222,\"#7201a8\"],[0.3333333333333333,\"#9c179e\"],[0.4444444444444444,\"#bd3786\"],[0.5555555555555556,\"#d8576b\"],[0.6666666666666666,\"#ed7953\"],[0.7777777777777778,\"#fb9f3a\"],[0.8888888888888888,\"#fdca26\"],[1.0,\"#f0f921\"]],\"type\":\"heatmap\"}],\"histogram2dcontour\":[{\"colorbar\":{\"outlinewidth\":0,\"ticks\":\"\"},\"colorscale\":[[0.0,\"#0d0887\"],[0.1111111111111111,\"#46039f\"],[0.2222222222222222,\"#7201a8\"],[0.3333333333333333,\"#9c179e\"],[0.4444444444444444,\"#bd3786\"],[0.5555555555555556,\"#d8576b\"],[0.6666666666666666,\"#ed7953\"],[0.7777777777777778,\"#fb9f3a\"],[0.8888888888888888,\"#fdca26\"],[1.0,\"#f0f921\"]],\"type\":\"histogram2dcontour\"}],\"histogram2d\":[{\"colorbar\":{\"outlinewidth\":0,\"ticks\":\"\"},\"colorscale\":[[0.0,\"#0d0887\"],[0.1111111111111111,\"#46039f\"],[0.2222222222222222,\"#7201a8\"],[0.3333333333333333,\"#9c179e\"],[0.4444444444444444,\"#bd3786\"],[0.5555555555555556,\"#d8576b\"],[0.6666666666666666,\"#ed7953\"],[0.7777777777777778,\"#fb9f3a\"],[0.8888888888888888,\"#fdca26\"],[1.0,\"#f0f921\"]],\"type\":\"histogram2d\"}],\"histogram\":[{\"marker\":{\"pattern\":{\"fillmode\":\"overlay\",\"size\":10,\"solidity\":0.2}},\"type\":\"histogram\"}],\"mesh3d\":[{\"colorbar\":{\"outlinewidth\":0,\"ticks\":\"\"},\"type\":\"mesh3d\"}],\"parcoords\":[{\"line\":{\"colorbar\":{\"outlinewidth\":0,\"ticks\":\"\"}},\"type\":\"parcoords\"}],\"pie\":[{\"automargin\":true,\"type\":\"pie\"}],\"scatter3d\":[{\"line\":{\"colorbar\":{\"outlinewidth\":0,\"ticks\":\"\"}},\"marker\":{\"colorbar\":{\"outlinewidth\":0,\"ticks\":\"\"}},\"type\":\"scatter3d\"}],\"scattercarpet\":[{\"marker\":{\"colorbar\":{\"outlinewidth\":0,\"ticks\":\"\"}},\"type\":\"scattercarpet\"}],\"scattergeo\":[{\"marker\":{\"colorbar\":{\"outlinewidth\":0,\"ticks\":\"\"}},\"type\":\"scattergeo\"}],\"scattergl\":[{\"marker\":{\"line\":{\"color\":\"#283442\"}},\"type\":\"scattergl\"}],\"scattermapbox\":[{\"marker\":{\"colorbar\":{\"outlinewidth\":0,\"ticks\":\"\"}},\"type\":\"scattermapbox\"}],\"scatterpolargl\":[{\"marker\":{\"colorbar\":{\"outlinewidth\":0,\"ticks\":\"\"}},\"type\":\"scatterpolargl\"}],\"scatterpolar\":[{\"marker\":{\"colorbar\":{\"outlinewidth\":0,\"ticks\":\"\"}},\"type\":\"scatterpolar\"}],\"scatter\":[{\"marker\":{\"line\":{\"color\":\"#283442\"}},\"type\":\"scatter\"}],\"scatterternary\":[{\"marker\":{\"colorbar\":{\"outlinewidth\":0,\"ticks\":\"\"}},\"type\":\"scatterternary\"}],\"surface\":[{\"colorbar\":{\"outlinewidth\":0,\"ticks\":\"\"},\"colorscale\":[[0.0,\"#0d0887\"],[0.1111111111111111,\"#46039f\"],[0.2222222222222222,\"#7201a8\"],[0.3333333333333333,\"#9c179e\"],[0.4444444444444444,\"#bd3786\"],[0.5555555555555556,\"#d8576b\"],[0.6666666666666666,\"#ed7953\"],[0.7777777777777778,\"#fb9f3a\"],[0.8888888888888888,\"#fdca26\"],[1.0,\"#f0f921\"]],\"type\":\"surface\"}],\"table\":[{\"cells\":{\"fill\":{\"color\":\"#506784\"},\"line\":{\"color\":\"rgb(17,17,17)\"}},\"header\":{\"fill\":{\"color\":\"#2a3f5f\"},\"line\":{\"color\":\"rgb(17,17,17)\"}},\"type\":\"table\"}]},\"layout\":{\"annotationdefaults\":{\"arrowcolor\":\"#f2f5fa\",\"arrowhead\":0,\"arrowwidth\":1},\"autotypenumbers\":\"strict\",\"coloraxis\":{\"colorbar\":{\"outlinewidth\":0,\"ticks\":\"\"}},\"colorscale\":{\"diverging\":[[0,\"#8e0152\"],[0.1,\"#c51b7d\"],[0.2,\"#de77ae\"],[0.3,\"#f1b6da\"],[0.4,\"#fde0ef\"],[0.5,\"#f7f7f7\"],[0.6,\"#e6f5d0\"],[0.7,\"#b8e186\"],[0.8,\"#7fbc41\"],[0.9,\"#4d9221\"],[1,\"#276419\"]],\"sequential\":[[0.0,\"#0d0887\"],[0.1111111111111111,\"#46039f\"],[0.2222222222222222,\"#7201a8\"],[0.3333333333333333,\"#9c179e\"],[0.4444444444444444,\"#bd3786\"],[0.5555555555555556,\"#d8576b\"],[0.6666666666666666,\"#ed7953\"],[0.7777777777777778,\"#fb9f3a\"],[0.8888888888888888,\"#fdca26\"],[1.0,\"#f0f921\"]],\"sequentialminus\":[[0.0,\"#0d0887\"],[0.1111111111111111,\"#46039f\"],[0.2222222222222222,\"#7201a8\"],[0.3333333333333333,\"#9c179e\"],[0.4444444444444444,\"#bd3786\"],[0.5555555555555556,\"#d8576b\"],[0.6666666666666666,\"#ed7953\"],[0.7777777777777778,\"#fb9f3a\"],[0.8888888888888888,\"#fdca26\"],[1.0,\"#f0f921\"]]},\"colorway\":[\"#636efa\",\"#EF553B\",\"#00cc96\",\"#ab63fa\",\"#FFA15A\",\"#19d3f3\",\"#FF6692\",\"#B6E880\",\"#FF97FF\",\"#FECB52\"],\"font\":{\"color\":\"#f2f5fa\"},\"geo\":{\"bgcolor\":\"rgb(17,17,17)\",\"lakecolor\":\"rgb(17,17,17)\",\"landcolor\":\"rgb(17,17,17)\",\"showlakes\":true,\"showland\":true,\"subunitcolor\":\"#506784\"},\"hoverlabel\":{\"align\":\"left\"},\"hovermode\":\"closest\",\"mapbox\":{\"style\":\"dark\"},\"paper_bgcolor\":\"rgb(17,17,17)\",\"plot_bgcolor\":\"rgb(17,17,17)\",\"polar\":{\"angularaxis\":{\"gridcolor\":\"#506784\",\"linecolor\":\"#506784\",\"ticks\":\"\"},\"bgcolor\":\"rgb(17,17,17)\",\"radialaxis\":{\"gridcolor\":\"#506784\",\"linecolor\":\"#506784\",\"ticks\":\"\"}},\"scene\":{\"xaxis\":{\"backgroundcolor\":\"rgb(17,17,17)\",\"gridcolor\":\"#506784\",\"gridwidth\":2,\"linecolor\":\"#506784\",\"showbackground\":true,\"ticks\":\"\",\"zerolinecolor\":\"#C8D4E3\"},\"yaxis\":{\"backgroundcolor\":\"rgb(17,17,17)\",\"gridcolor\":\"#506784\",\"gridwidth\":2,\"linecolor\":\"#506784\",\"showbackground\":true,\"ticks\":\"\",\"zerolinecolor\":\"#C8D4E3\"},\"zaxis\":{\"backgroundcolor\":\"rgb(17,17,17)\",\"gridcolor\":\"#506784\",\"gridwidth\":2,\"linecolor\":\"#506784\",\"showbackground\":true,\"ticks\":\"\",\"zerolinecolor\":\"#C8D4E3\"}},\"shapedefaults\":{\"line\":{\"color\":\"#f2f5fa\"}},\"sliderdefaults\":{\"bgcolor\":\"#C8D4E3\",\"bordercolor\":\"rgb(17,17,17)\",\"borderwidth\":1,\"tickwidth\":0},\"ternary\":{\"aaxis\":{\"gridcolor\":\"#506784\",\"linecolor\":\"#506784\",\"ticks\":\"\"},\"baxis\":{\"gridcolor\":\"#506784\",\"linecolor\":\"#506784\",\"ticks\":\"\"},\"bgcolor\":\"rgb(17,17,17)\",\"caxis\":{\"gridcolor\":\"#506784\",\"linecolor\":\"#506784\",\"ticks\":\"\"}},\"title\":{\"x\":0.05},\"updatemenudefaults\":{\"bgcolor\":\"#506784\",\"borderwidth\":0},\"xaxis\":{\"automargin\":true,\"gridcolor\":\"#283442\",\"linecolor\":\"#506784\",\"ticks\":\"\",\"title\":{\"standoff\":15},\"zerolinecolor\":\"#283442\",\"zerolinewidth\":2},\"yaxis\":{\"automargin\":true,\"gridcolor\":\"#283442\",\"linecolor\":\"#506784\",\"ticks\":\"\",\"title\":{\"standoff\":15},\"zerolinecolor\":\"#283442\",\"zerolinewidth\":2}}},\"xaxis\":{\"anchor\":\"y\",\"domain\":[0.0,1.0],\"title\":{\"text\":\"Album Name\"},\"categoryorder\":\"array\",\"categoryarray\":[\"Pablo Honey\",\"The Bends\",\"OK Computer\",\"Kid A\",\"Amnesiac\",\"Hail To the Thief\",\"In Rainbows\",\"The King Of Limbs\",\"A Moon Shaped Pool\"]},\"yaxis\":{\"anchor\":\"x\",\"domain\":[0.0,1.0],\"title\":{\"text\":\"Number of Words\"}},\"legend\":{\"title\":{\"text\":\"Album Name\"},\"tracegroupgap\":0},\"title\":{\"text\":\"\\u003cb\\u003eRadiohead Albums by Number of Words\\u003c\\u002fb\\u003e \\u003cbr\\u003eThe amount of lyrics over time has been fairly inconsistent.\"},\"barmode\":\"relative\",\"annotations\":[{\"align\":\"left\",\"showarrow\":false,\"text\":\"Data Source: \\u003ca href=\\u201dhttps:\\u002f\\u002fwww.kaggle.com\\u002fdatasets\\u002flavagod\\u002fradiohead\\u002fversions\\u002f1?resource=download\\u201d\\u003eRadiohead Data\\u003c\\u002fa\\u003e \\u003cbr\\u003eViz: \\u003ca href=\\u201dhttps:\\u002f\\u002ftwitter.com\\u002f_prospecttheory\\u201d\\u003e@_prospecttheory\\u003c\\u002fa\\u003e \\u003cbr\\u003e \\u003cbr\\u003e \\u003cbr\\u003e \\u003cbr\\u003e \\u003cbr\\u003e\",\"x\":-0.07,\"xref\":\"paper\",\"y\":-0.7,\"yref\":\"paper\"}]},                        {\"responsive\": true}                    ).then(function(){\n",
       "                            \n",
       "var gd = document.getElementById('d3fcd8df-bd93-41ff-bd47-77d2453e495a');\n",
       "var x = new MutationObserver(function (mutations, observer) {{\n",
       "        var display = window.getComputedStyle(gd).display;\n",
       "        if (!display || display === 'none') {{\n",
       "            console.log([gd, 'removed!']);\n",
       "            Plotly.purge(gd);\n",
       "            observer.disconnect();\n",
       "        }}\n",
       "}});\n",
       "\n",
       "// Listen for the removal of the full notebook cells\n",
       "var notebookContainer = gd.closest('#notebook-container');\n",
       "if (notebookContainer) {{\n",
       "    x.observe(notebookContainer, {childList: true});\n",
       "}}\n",
       "\n",
       "// Listen for the clearing of the current output cell\n",
       "var outputEl = gd.closest('.output');\n",
       "if (outputEl) {{\n",
       "    x.observe(outputEl, {childList: true});\n",
       "}}\n",
       "\n",
       "                        })                };                });            </script>        </div>"
      ]
     },
     "metadata": {},
     "output_type": "display_data"
    }
   ],
   "source": [
    "#Plot Number of Words\n",
    "fig = px.bar(df_radiohead, x = 'album_name',y= 'word_count', color = 'album_name', hover_name= 'track_name',\n",
    "            labels={'album_name':'Album Name', 'duration_mins': 'Duration in Minutes', 'track_name':'Track Name', 'count':'Number of Tracks', 'word_count':'Number of Words'},\n",
    "            title= '<b>Radiohead Albums by Number of Words</b> <br>The amount of lyrics over time has been fairly inconsistent.',\n",
    "            template='plotly_dark')\n",
    "\n",
    "#Add Signature\n",
    "fig.add_annotation(text='Data Source: <a href=”https://www.kaggle.com/datasets/lavagod/radiohead/versions/1?resource=download”>Radiohead Data</a> <br>Viz: <a href=”https://twitter.com/_prospecttheory”>@_prospecttheory</a> <br> <br> <br> <br> <br>', \n",
    "                    align='left',\n",
    "                    showarrow=False,\n",
    "                    xref='paper',\n",
    "                    yref='paper',\n",
    "                    x= -0.07,\n",
    "                    y= -0.7)\n",
    "\n",
    "fig.show()"
   ]
  },
  {
   "cell_type": "markdown",
   "id": "6d627ab8",
   "metadata": {},
   "source": [
    "It's interesting to see that their more electronic and less rock-heavy albums 'Kid A' and 'Amnesiac' offer the least amount of lyrics. Next to these,  their shortest work, in terms of track number and duration album - 'The King of Limbs' -, also offers the least amount of lyrics. 'Hail To the Thief', regarded as their most political work, seems to have the most to say. \n",
    "\n",
    "Nerdy Sidenote:\n",
    "\n",
    "*Spotting the iconic 'OK Computer' track 'Fitter Happier' (featuring a robot voice as a narrator) is rather easy looking at this plot.*"
   ]
  },
  {
   "cell_type": "markdown",
   "id": "70c1a247",
   "metadata": {},
   "source": [
    "### Soft facts #1 - Album Valence\n",
    "\n",
    "Valence is a metric Spotify has come up with. In their documentation they define this variable in the following way:\n",
    "\n",
    "*A measure from 0.0 to 1.0 describing the musical positiveness conveyed by a track. Tracks with high valence sound more positive (e.g. happy, cheerful, euphoric), while tracks with low valence sound more negative (e.g. sad, depressed, angry).*\n",
    "\n",
    "Hence, the metric scores the music itself in terms of sentiment. By determining the combined mean valence for the albums, we can compare them in musical positiveness (or rather negativeness in the case of Radiohead?)."
   ]
  },
  {
   "cell_type": "code",
   "execution_count": 363,
   "id": "891cd161",
   "metadata": {},
   "outputs": [
    {
     "data": {
      "text/html": [
       "<div>\n",
       "<style scoped>\n",
       "    .dataframe tbody tr th:only-of-type {\n",
       "        vertical-align: middle;\n",
       "    }\n",
       "\n",
       "    .dataframe tbody tr th {\n",
       "        vertical-align: top;\n",
       "    }\n",
       "\n",
       "    .dataframe thead th {\n",
       "        text-align: right;\n",
       "    }\n",
       "</style>\n",
       "<table border=\"1\" class=\"dataframe\">\n",
       "  <thead>\n",
       "    <tr style=\"text-align: right;\">\n",
       "      <th></th>\n",
       "      <th>album_name</th>\n",
       "      <th>album_release_year</th>\n",
       "      <th>mean_valence</th>\n",
       "      <th>mean_pct_sad</th>\n",
       "      <th>total_sad_words</th>\n",
       "    </tr>\n",
       "  </thead>\n",
       "  <tbody>\n",
       "    <tr>\n",
       "      <th>6</th>\n",
       "      <td>Pablo Honey</td>\n",
       "      <td>1993</td>\n",
       "      <td>0.315583</td>\n",
       "      <td>0.042858</td>\n",
       "      <td>16.0</td>\n",
       "    </tr>\n",
       "    <tr>\n",
       "      <th>7</th>\n",
       "      <td>The Bends</td>\n",
       "      <td>1995</td>\n",
       "      <td>0.334258</td>\n",
       "      <td>0.096892</td>\n",
       "      <td>56.0</td>\n",
       "    </tr>\n",
       "    <tr>\n",
       "      <th>5</th>\n",
       "      <td>OK Computer</td>\n",
       "      <td>1997</td>\n",
       "      <td>0.286167</td>\n",
       "      <td>0.083950</td>\n",
       "      <td>52.0</td>\n",
       "    </tr>\n",
       "    <tr>\n",
       "      <th>4</th>\n",
       "      <td>Kid A</td>\n",
       "      <td>2000</td>\n",
       "      <td>0.270427</td>\n",
       "      <td>0.026400</td>\n",
       "      <td>10.0</td>\n",
       "    </tr>\n",
       "    <tr>\n",
       "      <th>1</th>\n",
       "      <td>Amnesiac</td>\n",
       "      <td>2001</td>\n",
       "      <td>0.209755</td>\n",
       "      <td>0.033564</td>\n",
       "      <td>21.0</td>\n",
       "    </tr>\n",
       "    <tr>\n",
       "      <th>2</th>\n",
       "      <td>Hail To the Thief</td>\n",
       "      <td>2003</td>\n",
       "      <td>0.395971</td>\n",
       "      <td>0.071986</td>\n",
       "      <td>50.0</td>\n",
       "    </tr>\n",
       "    <tr>\n",
       "      <th>3</th>\n",
       "      <td>In Rainbows</td>\n",
       "      <td>2007</td>\n",
       "      <td>0.393090</td>\n",
       "      <td>0.058140</td>\n",
       "      <td>24.0</td>\n",
       "    </tr>\n",
       "    <tr>\n",
       "      <th>8</th>\n",
       "      <td>The King Of Limbs</td>\n",
       "      <td>2011</td>\n",
       "      <td>0.446738</td>\n",
       "      <td>0.093875</td>\n",
       "      <td>42.0</td>\n",
       "    </tr>\n",
       "    <tr>\n",
       "      <th>0</th>\n",
       "      <td>A Moon Shaped Pool</td>\n",
       "      <td>2016</td>\n",
       "      <td>0.203264</td>\n",
       "      <td>0.084155</td>\n",
       "      <td>50.0</td>\n",
       "    </tr>\n",
       "  </tbody>\n",
       "</table>\n",
       "</div>"
      ],
      "text/plain": [
       "           album_name  album_release_year  mean_valence  mean_pct_sad   \n",
       "6         Pablo Honey                1993      0.315583      0.042858  \\\n",
       "7           The Bends                1995      0.334258      0.096892   \n",
       "5         OK Computer                1997      0.286167      0.083950   \n",
       "4               Kid A                2000      0.270427      0.026400   \n",
       "1            Amnesiac                2001      0.209755      0.033564   \n",
       "2   Hail To the Thief                2003      0.395971      0.071986   \n",
       "3         In Rainbows                2007      0.393090      0.058140   \n",
       "8   The King Of Limbs                2011      0.446738      0.093875   \n",
       "0  A Moon Shaped Pool                2016      0.203264      0.084155   \n",
       "\n",
       "   total_sad_words  \n",
       "6             16.0  \n",
       "7             56.0  \n",
       "5             52.0  \n",
       "4             10.0  \n",
       "1             21.0  \n",
       "2             50.0  \n",
       "3             24.0  \n",
       "8             42.0  \n",
       "0             50.0  "
      ]
     },
     "execution_count": 363,
     "metadata": {},
     "output_type": "execute_result"
    }
   ],
   "source": [
    "#Data Prep\n",
    "df_radiohead_soft_facts = df_radiohead.groupby(['album_name', 'album_release_year'], observed= True, as_index= False).agg(mean_valence = ('valence', 'mean'), mean_pct_sad = ('pct_sad', 'mean'), total_sad_words = ('amount_sad_words', 'sum'))\n",
    "df_radiohead_soft_facts = df_radiohead_soft_facts.sort_values('album_release_year')\n",
    "df_radiohead_soft_facts\n"
   ]
  },
  {
   "cell_type": "code",
   "execution_count": 364,
   "id": "19736885",
   "metadata": {},
   "outputs": [
    {
     "data": {
      "application/vnd.plotly.v1+json": {
       "config": {
        "plotlyServerURL": "https://plot.ly"
       },
       "data": [
        {
         "alignmentgroup": "True",
         "hovertemplate": "Album Name=%{x}<br>Mean Valence=%{y}<extra></extra>",
         "legendgroup": "Pablo Honey",
         "marker": {
          "color": "#636efa",
          "pattern": {
           "shape": ""
          }
         },
         "name": "Pablo Honey",
         "offsetgroup": "Pablo Honey",
         "orientation": "v",
         "showlegend": true,
         "textposition": "auto",
         "type": "bar",
         "x": [
          "Pablo Honey"
         ],
         "xaxis": "x",
         "y": [
          0.3155833333333333
         ],
         "yaxis": "y"
        },
        {
         "alignmentgroup": "True",
         "hovertemplate": "Album Name=%{x}<br>Mean Valence=%{y}<extra></extra>",
         "legendgroup": "The Bends",
         "marker": {
          "color": "#EF553B",
          "pattern": {
           "shape": ""
          }
         },
         "name": "The Bends",
         "offsetgroup": "The Bends",
         "orientation": "v",
         "showlegend": true,
         "textposition": "auto",
         "type": "bar",
         "x": [
          "The Bends"
         ],
         "xaxis": "x",
         "y": [
          0.3342583333333333
         ],
         "yaxis": "y"
        },
        {
         "alignmentgroup": "True",
         "hovertemplate": "Album Name=%{x}<br>Mean Valence=%{y}<extra></extra>",
         "legendgroup": "OK Computer",
         "marker": {
          "color": "#00cc96",
          "pattern": {
           "shape": ""
          }
         },
         "name": "OK Computer",
         "offsetgroup": "OK Computer",
         "orientation": "v",
         "showlegend": true,
         "textposition": "auto",
         "type": "bar",
         "x": [
          "OK Computer"
         ],
         "xaxis": "x",
         "y": [
          0.2861666666666667
         ],
         "yaxis": "y"
        },
        {
         "alignmentgroup": "True",
         "hovertemplate": "Album Name=%{x}<br>Mean Valence=%{y}<extra></extra>",
         "legendgroup": "Kid A",
         "marker": {
          "color": "#ab63fa",
          "pattern": {
           "shape": ""
          }
         },
         "name": "Kid A",
         "offsetgroup": "Kid A",
         "orientation": "v",
         "showlegend": true,
         "textposition": "auto",
         "type": "bar",
         "x": [
          "Kid A"
         ],
         "xaxis": "x",
         "y": [
          0.27042727272727274
         ],
         "yaxis": "y"
        },
        {
         "alignmentgroup": "True",
         "hovertemplate": "Album Name=%{x}<br>Mean Valence=%{y}<extra></extra>",
         "legendgroup": "Amnesiac",
         "marker": {
          "color": "#FFA15A",
          "pattern": {
           "shape": ""
          }
         },
         "name": "Amnesiac",
         "offsetgroup": "Amnesiac",
         "orientation": "v",
         "showlegend": true,
         "textposition": "auto",
         "type": "bar",
         "x": [
          "Amnesiac"
         ],
         "xaxis": "x",
         "y": [
          0.20975454545454547
         ],
         "yaxis": "y"
        },
        {
         "alignmentgroup": "True",
         "hovertemplate": "Album Name=%{x}<br>Mean Valence=%{y}<extra></extra>",
         "legendgroup": "Hail To the Thief",
         "marker": {
          "color": "#19d3f3",
          "pattern": {
           "shape": ""
          }
         },
         "name": "Hail To the Thief",
         "offsetgroup": "Hail To the Thief",
         "orientation": "v",
         "showlegend": true,
         "textposition": "auto",
         "type": "bar",
         "x": [
          "Hail To the Thief"
         ],
         "xaxis": "x",
         "y": [
          0.39597142857142853
         ],
         "yaxis": "y"
        },
        {
         "alignmentgroup": "True",
         "hovertemplate": "Album Name=%{x}<br>Mean Valence=%{y}<extra></extra>",
         "legendgroup": "In Rainbows",
         "marker": {
          "color": "#FF6692",
          "pattern": {
           "shape": ""
          }
         },
         "name": "In Rainbows",
         "offsetgroup": "In Rainbows",
         "orientation": "v",
         "showlegend": true,
         "textposition": "auto",
         "type": "bar",
         "x": [
          "In Rainbows"
         ],
         "xaxis": "x",
         "y": [
          0.39309
         ],
         "yaxis": "y"
        },
        {
         "alignmentgroup": "True",
         "hovertemplate": "Album Name=%{x}<br>Mean Valence=%{y}<extra></extra>",
         "legendgroup": "The King Of Limbs",
         "marker": {
          "color": "#B6E880",
          "pattern": {
           "shape": ""
          }
         },
         "name": "The King Of Limbs",
         "offsetgroup": "The King Of Limbs",
         "orientation": "v",
         "showlegend": true,
         "textposition": "auto",
         "type": "bar",
         "x": [
          "The King Of Limbs"
         ],
         "xaxis": "x",
         "y": [
          0.4467375
         ],
         "yaxis": "y"
        },
        {
         "alignmentgroup": "True",
         "hovertemplate": "Album Name=%{x}<br>Mean Valence=%{y}<extra></extra>",
         "legendgroup": "A Moon Shaped Pool",
         "marker": {
          "color": "#FF97FF",
          "pattern": {
           "shape": ""
          }
         },
         "name": "A Moon Shaped Pool",
         "offsetgroup": "A Moon Shaped Pool",
         "orientation": "v",
         "showlegend": true,
         "textposition": "auto",
         "type": "bar",
         "x": [
          "A Moon Shaped Pool"
         ],
         "xaxis": "x",
         "y": [
          0.20326363636363637
         ],
         "yaxis": "y"
        }
       ],
       "layout": {
        "annotations": [
         {
          "align": "left",
          "showarrow": false,
          "text": "Data Source: <a href=”https://www.kaggle.com/datasets/lavagod/radiohead/versions/1?resource=download”>Radiohead Data</a> <br>Viz: <a href=”https://twitter.com/_prospecttheory”>@_prospecttheory</a> <br> <br> <br> <br> <br>",
          "x": -0.07,
          "xref": "paper",
          "y": -0.7,
          "yref": "paper"
         },
         {
          "arrowhead": 1,
          "bgcolor": "white",
          "bordercolor": "White",
          "font": {
           "color": "Black"
          },
          "showarrow": true,
          "text": "Was this their happy period?",
          "x": 6,
          "y": 0.5
         }
        ],
        "barmode": "relative",
        "legend": {
         "title": {
          "text": "Album Name"
         },
         "tracegroupgap": 0
        },
        "template": {
         "data": {
          "bar": [
           {
            "error_x": {
             "color": "#f2f5fa"
            },
            "error_y": {
             "color": "#f2f5fa"
            },
            "marker": {
             "line": {
              "color": "rgb(17,17,17)",
              "width": 0.5
             },
             "pattern": {
              "fillmode": "overlay",
              "size": 10,
              "solidity": 0.2
             }
            },
            "type": "bar"
           }
          ],
          "barpolar": [
           {
            "marker": {
             "line": {
              "color": "rgb(17,17,17)",
              "width": 0.5
             },
             "pattern": {
              "fillmode": "overlay",
              "size": 10,
              "solidity": 0.2
             }
            },
            "type": "barpolar"
           }
          ],
          "carpet": [
           {
            "aaxis": {
             "endlinecolor": "#A2B1C6",
             "gridcolor": "#506784",
             "linecolor": "#506784",
             "minorgridcolor": "#506784",
             "startlinecolor": "#A2B1C6"
            },
            "baxis": {
             "endlinecolor": "#A2B1C6",
             "gridcolor": "#506784",
             "linecolor": "#506784",
             "minorgridcolor": "#506784",
             "startlinecolor": "#A2B1C6"
            },
            "type": "carpet"
           }
          ],
          "choropleth": [
           {
            "colorbar": {
             "outlinewidth": 0,
             "ticks": ""
            },
            "type": "choropleth"
           }
          ],
          "contour": [
           {
            "colorbar": {
             "outlinewidth": 0,
             "ticks": ""
            },
            "colorscale": [
             [
              0,
              "#0d0887"
             ],
             [
              0.1111111111111111,
              "#46039f"
             ],
             [
              0.2222222222222222,
              "#7201a8"
             ],
             [
              0.3333333333333333,
              "#9c179e"
             ],
             [
              0.4444444444444444,
              "#bd3786"
             ],
             [
              0.5555555555555556,
              "#d8576b"
             ],
             [
              0.6666666666666666,
              "#ed7953"
             ],
             [
              0.7777777777777778,
              "#fb9f3a"
             ],
             [
              0.8888888888888888,
              "#fdca26"
             ],
             [
              1,
              "#f0f921"
             ]
            ],
            "type": "contour"
           }
          ],
          "contourcarpet": [
           {
            "colorbar": {
             "outlinewidth": 0,
             "ticks": ""
            },
            "type": "contourcarpet"
           }
          ],
          "heatmap": [
           {
            "colorbar": {
             "outlinewidth": 0,
             "ticks": ""
            },
            "colorscale": [
             [
              0,
              "#0d0887"
             ],
             [
              0.1111111111111111,
              "#46039f"
             ],
             [
              0.2222222222222222,
              "#7201a8"
             ],
             [
              0.3333333333333333,
              "#9c179e"
             ],
             [
              0.4444444444444444,
              "#bd3786"
             ],
             [
              0.5555555555555556,
              "#d8576b"
             ],
             [
              0.6666666666666666,
              "#ed7953"
             ],
             [
              0.7777777777777778,
              "#fb9f3a"
             ],
             [
              0.8888888888888888,
              "#fdca26"
             ],
             [
              1,
              "#f0f921"
             ]
            ],
            "type": "heatmap"
           }
          ],
          "heatmapgl": [
           {
            "colorbar": {
             "outlinewidth": 0,
             "ticks": ""
            },
            "colorscale": [
             [
              0,
              "#0d0887"
             ],
             [
              0.1111111111111111,
              "#46039f"
             ],
             [
              0.2222222222222222,
              "#7201a8"
             ],
             [
              0.3333333333333333,
              "#9c179e"
             ],
             [
              0.4444444444444444,
              "#bd3786"
             ],
             [
              0.5555555555555556,
              "#d8576b"
             ],
             [
              0.6666666666666666,
              "#ed7953"
             ],
             [
              0.7777777777777778,
              "#fb9f3a"
             ],
             [
              0.8888888888888888,
              "#fdca26"
             ],
             [
              1,
              "#f0f921"
             ]
            ],
            "type": "heatmapgl"
           }
          ],
          "histogram": [
           {
            "marker": {
             "pattern": {
              "fillmode": "overlay",
              "size": 10,
              "solidity": 0.2
             }
            },
            "type": "histogram"
           }
          ],
          "histogram2d": [
           {
            "colorbar": {
             "outlinewidth": 0,
             "ticks": ""
            },
            "colorscale": [
             [
              0,
              "#0d0887"
             ],
             [
              0.1111111111111111,
              "#46039f"
             ],
             [
              0.2222222222222222,
              "#7201a8"
             ],
             [
              0.3333333333333333,
              "#9c179e"
             ],
             [
              0.4444444444444444,
              "#bd3786"
             ],
             [
              0.5555555555555556,
              "#d8576b"
             ],
             [
              0.6666666666666666,
              "#ed7953"
             ],
             [
              0.7777777777777778,
              "#fb9f3a"
             ],
             [
              0.8888888888888888,
              "#fdca26"
             ],
             [
              1,
              "#f0f921"
             ]
            ],
            "type": "histogram2d"
           }
          ],
          "histogram2dcontour": [
           {
            "colorbar": {
             "outlinewidth": 0,
             "ticks": ""
            },
            "colorscale": [
             [
              0,
              "#0d0887"
             ],
             [
              0.1111111111111111,
              "#46039f"
             ],
             [
              0.2222222222222222,
              "#7201a8"
             ],
             [
              0.3333333333333333,
              "#9c179e"
             ],
             [
              0.4444444444444444,
              "#bd3786"
             ],
             [
              0.5555555555555556,
              "#d8576b"
             ],
             [
              0.6666666666666666,
              "#ed7953"
             ],
             [
              0.7777777777777778,
              "#fb9f3a"
             ],
             [
              0.8888888888888888,
              "#fdca26"
             ],
             [
              1,
              "#f0f921"
             ]
            ],
            "type": "histogram2dcontour"
           }
          ],
          "mesh3d": [
           {
            "colorbar": {
             "outlinewidth": 0,
             "ticks": ""
            },
            "type": "mesh3d"
           }
          ],
          "parcoords": [
           {
            "line": {
             "colorbar": {
              "outlinewidth": 0,
              "ticks": ""
             }
            },
            "type": "parcoords"
           }
          ],
          "pie": [
           {
            "automargin": true,
            "type": "pie"
           }
          ],
          "scatter": [
           {
            "marker": {
             "line": {
              "color": "#283442"
             }
            },
            "type": "scatter"
           }
          ],
          "scatter3d": [
           {
            "line": {
             "colorbar": {
              "outlinewidth": 0,
              "ticks": ""
             }
            },
            "marker": {
             "colorbar": {
              "outlinewidth": 0,
              "ticks": ""
             }
            },
            "type": "scatter3d"
           }
          ],
          "scattercarpet": [
           {
            "marker": {
             "colorbar": {
              "outlinewidth": 0,
              "ticks": ""
             }
            },
            "type": "scattercarpet"
           }
          ],
          "scattergeo": [
           {
            "marker": {
             "colorbar": {
              "outlinewidth": 0,
              "ticks": ""
             }
            },
            "type": "scattergeo"
           }
          ],
          "scattergl": [
           {
            "marker": {
             "line": {
              "color": "#283442"
             }
            },
            "type": "scattergl"
           }
          ],
          "scattermapbox": [
           {
            "marker": {
             "colorbar": {
              "outlinewidth": 0,
              "ticks": ""
             }
            },
            "type": "scattermapbox"
           }
          ],
          "scatterpolar": [
           {
            "marker": {
             "colorbar": {
              "outlinewidth": 0,
              "ticks": ""
             }
            },
            "type": "scatterpolar"
           }
          ],
          "scatterpolargl": [
           {
            "marker": {
             "colorbar": {
              "outlinewidth": 0,
              "ticks": ""
             }
            },
            "type": "scatterpolargl"
           }
          ],
          "scatterternary": [
           {
            "marker": {
             "colorbar": {
              "outlinewidth": 0,
              "ticks": ""
             }
            },
            "type": "scatterternary"
           }
          ],
          "surface": [
           {
            "colorbar": {
             "outlinewidth": 0,
             "ticks": ""
            },
            "colorscale": [
             [
              0,
              "#0d0887"
             ],
             [
              0.1111111111111111,
              "#46039f"
             ],
             [
              0.2222222222222222,
              "#7201a8"
             ],
             [
              0.3333333333333333,
              "#9c179e"
             ],
             [
              0.4444444444444444,
              "#bd3786"
             ],
             [
              0.5555555555555556,
              "#d8576b"
             ],
             [
              0.6666666666666666,
              "#ed7953"
             ],
             [
              0.7777777777777778,
              "#fb9f3a"
             ],
             [
              0.8888888888888888,
              "#fdca26"
             ],
             [
              1,
              "#f0f921"
             ]
            ],
            "type": "surface"
           }
          ],
          "table": [
           {
            "cells": {
             "fill": {
              "color": "#506784"
             },
             "line": {
              "color": "rgb(17,17,17)"
             }
            },
            "header": {
             "fill": {
              "color": "#2a3f5f"
             },
             "line": {
              "color": "rgb(17,17,17)"
             }
            },
            "type": "table"
           }
          ]
         },
         "layout": {
          "annotationdefaults": {
           "arrowcolor": "#f2f5fa",
           "arrowhead": 0,
           "arrowwidth": 1
          },
          "autotypenumbers": "strict",
          "coloraxis": {
           "colorbar": {
            "outlinewidth": 0,
            "ticks": ""
           }
          },
          "colorscale": {
           "diverging": [
            [
             0,
             "#8e0152"
            ],
            [
             0.1,
             "#c51b7d"
            ],
            [
             0.2,
             "#de77ae"
            ],
            [
             0.3,
             "#f1b6da"
            ],
            [
             0.4,
             "#fde0ef"
            ],
            [
             0.5,
             "#f7f7f7"
            ],
            [
             0.6,
             "#e6f5d0"
            ],
            [
             0.7,
             "#b8e186"
            ],
            [
             0.8,
             "#7fbc41"
            ],
            [
             0.9,
             "#4d9221"
            ],
            [
             1,
             "#276419"
            ]
           ],
           "sequential": [
            [
             0,
             "#0d0887"
            ],
            [
             0.1111111111111111,
             "#46039f"
            ],
            [
             0.2222222222222222,
             "#7201a8"
            ],
            [
             0.3333333333333333,
             "#9c179e"
            ],
            [
             0.4444444444444444,
             "#bd3786"
            ],
            [
             0.5555555555555556,
             "#d8576b"
            ],
            [
             0.6666666666666666,
             "#ed7953"
            ],
            [
             0.7777777777777778,
             "#fb9f3a"
            ],
            [
             0.8888888888888888,
             "#fdca26"
            ],
            [
             1,
             "#f0f921"
            ]
           ],
           "sequentialminus": [
            [
             0,
             "#0d0887"
            ],
            [
             0.1111111111111111,
             "#46039f"
            ],
            [
             0.2222222222222222,
             "#7201a8"
            ],
            [
             0.3333333333333333,
             "#9c179e"
            ],
            [
             0.4444444444444444,
             "#bd3786"
            ],
            [
             0.5555555555555556,
             "#d8576b"
            ],
            [
             0.6666666666666666,
             "#ed7953"
            ],
            [
             0.7777777777777778,
             "#fb9f3a"
            ],
            [
             0.8888888888888888,
             "#fdca26"
            ],
            [
             1,
             "#f0f921"
            ]
           ]
          },
          "colorway": [
           "#636efa",
           "#EF553B",
           "#00cc96",
           "#ab63fa",
           "#FFA15A",
           "#19d3f3",
           "#FF6692",
           "#B6E880",
           "#FF97FF",
           "#FECB52"
          ],
          "font": {
           "color": "#f2f5fa"
          },
          "geo": {
           "bgcolor": "rgb(17,17,17)",
           "lakecolor": "rgb(17,17,17)",
           "landcolor": "rgb(17,17,17)",
           "showlakes": true,
           "showland": true,
           "subunitcolor": "#506784"
          },
          "hoverlabel": {
           "align": "left"
          },
          "hovermode": "closest",
          "mapbox": {
           "style": "dark"
          },
          "paper_bgcolor": "rgb(17,17,17)",
          "plot_bgcolor": "rgb(17,17,17)",
          "polar": {
           "angularaxis": {
            "gridcolor": "#506784",
            "linecolor": "#506784",
            "ticks": ""
           },
           "bgcolor": "rgb(17,17,17)",
           "radialaxis": {
            "gridcolor": "#506784",
            "linecolor": "#506784",
            "ticks": ""
           }
          },
          "scene": {
           "xaxis": {
            "backgroundcolor": "rgb(17,17,17)",
            "gridcolor": "#506784",
            "gridwidth": 2,
            "linecolor": "#506784",
            "showbackground": true,
            "ticks": "",
            "zerolinecolor": "#C8D4E3"
           },
           "yaxis": {
            "backgroundcolor": "rgb(17,17,17)",
            "gridcolor": "#506784",
            "gridwidth": 2,
            "linecolor": "#506784",
            "showbackground": true,
            "ticks": "",
            "zerolinecolor": "#C8D4E3"
           },
           "zaxis": {
            "backgroundcolor": "rgb(17,17,17)",
            "gridcolor": "#506784",
            "gridwidth": 2,
            "linecolor": "#506784",
            "showbackground": true,
            "ticks": "",
            "zerolinecolor": "#C8D4E3"
           }
          },
          "shapedefaults": {
           "line": {
            "color": "#f2f5fa"
           }
          },
          "sliderdefaults": {
           "bgcolor": "#C8D4E3",
           "bordercolor": "rgb(17,17,17)",
           "borderwidth": 1,
           "tickwidth": 0
          },
          "ternary": {
           "aaxis": {
            "gridcolor": "#506784",
            "linecolor": "#506784",
            "ticks": ""
           },
           "baxis": {
            "gridcolor": "#506784",
            "linecolor": "#506784",
            "ticks": ""
           },
           "bgcolor": "rgb(17,17,17)",
           "caxis": {
            "gridcolor": "#506784",
            "linecolor": "#506784",
            "ticks": ""
           }
          },
          "title": {
           "x": 0.05
          },
          "updatemenudefaults": {
           "bgcolor": "#506784",
           "borderwidth": 0
          },
          "xaxis": {
           "automargin": true,
           "gridcolor": "#283442",
           "linecolor": "#506784",
           "ticks": "",
           "title": {
            "standoff": 15
           },
           "zerolinecolor": "#283442",
           "zerolinewidth": 2
          },
          "yaxis": {
           "automargin": true,
           "gridcolor": "#283442",
           "linecolor": "#506784",
           "ticks": "",
           "title": {
            "standoff": 15
           },
           "zerolinecolor": "#283442",
           "zerolinewidth": 2
          }
         }
        },
        "title": {
         "text": "<b>Radiohead Albums by Musical Positiveness (Valence)</b> <br>In their album run from 2003 to 2011 Radiohead put forward greater musical positiveness than usual."
        },
        "xaxis": {
         "anchor": "y",
         "categoryarray": [
          "Pablo Honey",
          "The Bends",
          "OK Computer",
          "Kid A",
          "Amnesiac",
          "Hail To the Thief",
          "In Rainbows",
          "The King Of Limbs",
          "A Moon Shaped Pool"
         ],
         "categoryorder": "array",
         "domain": [
          0,
          1
         ],
         "title": {
          "text": "Album Name"
         }
        },
        "yaxis": {
         "anchor": "x",
         "domain": [
          0,
          1
         ],
         "title": {
          "text": "Mean Valence"
         }
        }
       }
      },
      "text/html": [
       "<div>                            <div id=\"5fedc5cd-d96f-43e9-af1e-014a9cd0789f\" class=\"plotly-graph-div\" style=\"height:525px; width:100%;\"></div>            <script type=\"text/javascript\">                require([\"plotly\"], function(Plotly) {                    window.PLOTLYENV=window.PLOTLYENV || {};                                    if (document.getElementById(\"5fedc5cd-d96f-43e9-af1e-014a9cd0789f\")) {                    Plotly.newPlot(                        \"5fedc5cd-d96f-43e9-af1e-014a9cd0789f\",                        [{\"alignmentgroup\":\"True\",\"hovertemplate\":\"Album Name=%{x}\\u003cbr\\u003eMean Valence=%{y}\\u003cextra\\u003e\\u003c\\u002fextra\\u003e\",\"legendgroup\":\"Pablo Honey\",\"marker\":{\"color\":\"#636efa\",\"pattern\":{\"shape\":\"\"}},\"name\":\"Pablo Honey\",\"offsetgroup\":\"Pablo Honey\",\"orientation\":\"v\",\"showlegend\":true,\"textposition\":\"auto\",\"x\":[\"Pablo Honey\"],\"xaxis\":\"x\",\"y\":[0.3155833333333333],\"yaxis\":\"y\",\"type\":\"bar\"},{\"alignmentgroup\":\"True\",\"hovertemplate\":\"Album Name=%{x}\\u003cbr\\u003eMean Valence=%{y}\\u003cextra\\u003e\\u003c\\u002fextra\\u003e\",\"legendgroup\":\"The Bends\",\"marker\":{\"color\":\"#EF553B\",\"pattern\":{\"shape\":\"\"}},\"name\":\"The Bends\",\"offsetgroup\":\"The Bends\",\"orientation\":\"v\",\"showlegend\":true,\"textposition\":\"auto\",\"x\":[\"The Bends\"],\"xaxis\":\"x\",\"y\":[0.3342583333333333],\"yaxis\":\"y\",\"type\":\"bar\"},{\"alignmentgroup\":\"True\",\"hovertemplate\":\"Album Name=%{x}\\u003cbr\\u003eMean Valence=%{y}\\u003cextra\\u003e\\u003c\\u002fextra\\u003e\",\"legendgroup\":\"OK Computer\",\"marker\":{\"color\":\"#00cc96\",\"pattern\":{\"shape\":\"\"}},\"name\":\"OK Computer\",\"offsetgroup\":\"OK Computer\",\"orientation\":\"v\",\"showlegend\":true,\"textposition\":\"auto\",\"x\":[\"OK Computer\"],\"xaxis\":\"x\",\"y\":[0.2861666666666667],\"yaxis\":\"y\",\"type\":\"bar\"},{\"alignmentgroup\":\"True\",\"hovertemplate\":\"Album Name=%{x}\\u003cbr\\u003eMean Valence=%{y}\\u003cextra\\u003e\\u003c\\u002fextra\\u003e\",\"legendgroup\":\"Kid A\",\"marker\":{\"color\":\"#ab63fa\",\"pattern\":{\"shape\":\"\"}},\"name\":\"Kid A\",\"offsetgroup\":\"Kid A\",\"orientation\":\"v\",\"showlegend\":true,\"textposition\":\"auto\",\"x\":[\"Kid A\"],\"xaxis\":\"x\",\"y\":[0.27042727272727274],\"yaxis\":\"y\",\"type\":\"bar\"},{\"alignmentgroup\":\"True\",\"hovertemplate\":\"Album Name=%{x}\\u003cbr\\u003eMean Valence=%{y}\\u003cextra\\u003e\\u003c\\u002fextra\\u003e\",\"legendgroup\":\"Amnesiac\",\"marker\":{\"color\":\"#FFA15A\",\"pattern\":{\"shape\":\"\"}},\"name\":\"Amnesiac\",\"offsetgroup\":\"Amnesiac\",\"orientation\":\"v\",\"showlegend\":true,\"textposition\":\"auto\",\"x\":[\"Amnesiac\"],\"xaxis\":\"x\",\"y\":[0.20975454545454547],\"yaxis\":\"y\",\"type\":\"bar\"},{\"alignmentgroup\":\"True\",\"hovertemplate\":\"Album Name=%{x}\\u003cbr\\u003eMean Valence=%{y}\\u003cextra\\u003e\\u003c\\u002fextra\\u003e\",\"legendgroup\":\"Hail To the Thief\",\"marker\":{\"color\":\"#19d3f3\",\"pattern\":{\"shape\":\"\"}},\"name\":\"Hail To the Thief\",\"offsetgroup\":\"Hail To the Thief\",\"orientation\":\"v\",\"showlegend\":true,\"textposition\":\"auto\",\"x\":[\"Hail To the Thief\"],\"xaxis\":\"x\",\"y\":[0.39597142857142853],\"yaxis\":\"y\",\"type\":\"bar\"},{\"alignmentgroup\":\"True\",\"hovertemplate\":\"Album Name=%{x}\\u003cbr\\u003eMean Valence=%{y}\\u003cextra\\u003e\\u003c\\u002fextra\\u003e\",\"legendgroup\":\"In Rainbows\",\"marker\":{\"color\":\"#FF6692\",\"pattern\":{\"shape\":\"\"}},\"name\":\"In Rainbows\",\"offsetgroup\":\"In Rainbows\",\"orientation\":\"v\",\"showlegend\":true,\"textposition\":\"auto\",\"x\":[\"In Rainbows\"],\"xaxis\":\"x\",\"y\":[0.39309],\"yaxis\":\"y\",\"type\":\"bar\"},{\"alignmentgroup\":\"True\",\"hovertemplate\":\"Album Name=%{x}\\u003cbr\\u003eMean Valence=%{y}\\u003cextra\\u003e\\u003c\\u002fextra\\u003e\",\"legendgroup\":\"The King Of Limbs\",\"marker\":{\"color\":\"#B6E880\",\"pattern\":{\"shape\":\"\"}},\"name\":\"The King Of Limbs\",\"offsetgroup\":\"The King Of Limbs\",\"orientation\":\"v\",\"showlegend\":true,\"textposition\":\"auto\",\"x\":[\"The King Of Limbs\"],\"xaxis\":\"x\",\"y\":[0.4467375],\"yaxis\":\"y\",\"type\":\"bar\"},{\"alignmentgroup\":\"True\",\"hovertemplate\":\"Album Name=%{x}\\u003cbr\\u003eMean Valence=%{y}\\u003cextra\\u003e\\u003c\\u002fextra\\u003e\",\"legendgroup\":\"A Moon Shaped Pool\",\"marker\":{\"color\":\"#FF97FF\",\"pattern\":{\"shape\":\"\"}},\"name\":\"A Moon Shaped Pool\",\"offsetgroup\":\"A Moon Shaped Pool\",\"orientation\":\"v\",\"showlegend\":true,\"textposition\":\"auto\",\"x\":[\"A Moon Shaped Pool\"],\"xaxis\":\"x\",\"y\":[0.20326363636363637],\"yaxis\":\"y\",\"type\":\"bar\"}],                        {\"template\":{\"data\":{\"barpolar\":[{\"marker\":{\"line\":{\"color\":\"rgb(17,17,17)\",\"width\":0.5},\"pattern\":{\"fillmode\":\"overlay\",\"size\":10,\"solidity\":0.2}},\"type\":\"barpolar\"}],\"bar\":[{\"error_x\":{\"color\":\"#f2f5fa\"},\"error_y\":{\"color\":\"#f2f5fa\"},\"marker\":{\"line\":{\"color\":\"rgb(17,17,17)\",\"width\":0.5},\"pattern\":{\"fillmode\":\"overlay\",\"size\":10,\"solidity\":0.2}},\"type\":\"bar\"}],\"carpet\":[{\"aaxis\":{\"endlinecolor\":\"#A2B1C6\",\"gridcolor\":\"#506784\",\"linecolor\":\"#506784\",\"minorgridcolor\":\"#506784\",\"startlinecolor\":\"#A2B1C6\"},\"baxis\":{\"endlinecolor\":\"#A2B1C6\",\"gridcolor\":\"#506784\",\"linecolor\":\"#506784\",\"minorgridcolor\":\"#506784\",\"startlinecolor\":\"#A2B1C6\"},\"type\":\"carpet\"}],\"choropleth\":[{\"colorbar\":{\"outlinewidth\":0,\"ticks\":\"\"},\"type\":\"choropleth\"}],\"contourcarpet\":[{\"colorbar\":{\"outlinewidth\":0,\"ticks\":\"\"},\"type\":\"contourcarpet\"}],\"contour\":[{\"colorbar\":{\"outlinewidth\":0,\"ticks\":\"\"},\"colorscale\":[[0.0,\"#0d0887\"],[0.1111111111111111,\"#46039f\"],[0.2222222222222222,\"#7201a8\"],[0.3333333333333333,\"#9c179e\"],[0.4444444444444444,\"#bd3786\"],[0.5555555555555556,\"#d8576b\"],[0.6666666666666666,\"#ed7953\"],[0.7777777777777778,\"#fb9f3a\"],[0.8888888888888888,\"#fdca26\"],[1.0,\"#f0f921\"]],\"type\":\"contour\"}],\"heatmapgl\":[{\"colorbar\":{\"outlinewidth\":0,\"ticks\":\"\"},\"colorscale\":[[0.0,\"#0d0887\"],[0.1111111111111111,\"#46039f\"],[0.2222222222222222,\"#7201a8\"],[0.3333333333333333,\"#9c179e\"],[0.4444444444444444,\"#bd3786\"],[0.5555555555555556,\"#d8576b\"],[0.6666666666666666,\"#ed7953\"],[0.7777777777777778,\"#fb9f3a\"],[0.8888888888888888,\"#fdca26\"],[1.0,\"#f0f921\"]],\"type\":\"heatmapgl\"}],\"heatmap\":[{\"colorbar\":{\"outlinewidth\":0,\"ticks\":\"\"},\"colorscale\":[[0.0,\"#0d0887\"],[0.1111111111111111,\"#46039f\"],[0.2222222222222222,\"#7201a8\"],[0.3333333333333333,\"#9c179e\"],[0.4444444444444444,\"#bd3786\"],[0.5555555555555556,\"#d8576b\"],[0.6666666666666666,\"#ed7953\"],[0.7777777777777778,\"#fb9f3a\"],[0.8888888888888888,\"#fdca26\"],[1.0,\"#f0f921\"]],\"type\":\"heatmap\"}],\"histogram2dcontour\":[{\"colorbar\":{\"outlinewidth\":0,\"ticks\":\"\"},\"colorscale\":[[0.0,\"#0d0887\"],[0.1111111111111111,\"#46039f\"],[0.2222222222222222,\"#7201a8\"],[0.3333333333333333,\"#9c179e\"],[0.4444444444444444,\"#bd3786\"],[0.5555555555555556,\"#d8576b\"],[0.6666666666666666,\"#ed7953\"],[0.7777777777777778,\"#fb9f3a\"],[0.8888888888888888,\"#fdca26\"],[1.0,\"#f0f921\"]],\"type\":\"histogram2dcontour\"}],\"histogram2d\":[{\"colorbar\":{\"outlinewidth\":0,\"ticks\":\"\"},\"colorscale\":[[0.0,\"#0d0887\"],[0.1111111111111111,\"#46039f\"],[0.2222222222222222,\"#7201a8\"],[0.3333333333333333,\"#9c179e\"],[0.4444444444444444,\"#bd3786\"],[0.5555555555555556,\"#d8576b\"],[0.6666666666666666,\"#ed7953\"],[0.7777777777777778,\"#fb9f3a\"],[0.8888888888888888,\"#fdca26\"],[1.0,\"#f0f921\"]],\"type\":\"histogram2d\"}],\"histogram\":[{\"marker\":{\"pattern\":{\"fillmode\":\"overlay\",\"size\":10,\"solidity\":0.2}},\"type\":\"histogram\"}],\"mesh3d\":[{\"colorbar\":{\"outlinewidth\":0,\"ticks\":\"\"},\"type\":\"mesh3d\"}],\"parcoords\":[{\"line\":{\"colorbar\":{\"outlinewidth\":0,\"ticks\":\"\"}},\"type\":\"parcoords\"}],\"pie\":[{\"automargin\":true,\"type\":\"pie\"}],\"scatter3d\":[{\"line\":{\"colorbar\":{\"outlinewidth\":0,\"ticks\":\"\"}},\"marker\":{\"colorbar\":{\"outlinewidth\":0,\"ticks\":\"\"}},\"type\":\"scatter3d\"}],\"scattercarpet\":[{\"marker\":{\"colorbar\":{\"outlinewidth\":0,\"ticks\":\"\"}},\"type\":\"scattercarpet\"}],\"scattergeo\":[{\"marker\":{\"colorbar\":{\"outlinewidth\":0,\"ticks\":\"\"}},\"type\":\"scattergeo\"}],\"scattergl\":[{\"marker\":{\"line\":{\"color\":\"#283442\"}},\"type\":\"scattergl\"}],\"scattermapbox\":[{\"marker\":{\"colorbar\":{\"outlinewidth\":0,\"ticks\":\"\"}},\"type\":\"scattermapbox\"}],\"scatterpolargl\":[{\"marker\":{\"colorbar\":{\"outlinewidth\":0,\"ticks\":\"\"}},\"type\":\"scatterpolargl\"}],\"scatterpolar\":[{\"marker\":{\"colorbar\":{\"outlinewidth\":0,\"ticks\":\"\"}},\"type\":\"scatterpolar\"}],\"scatter\":[{\"marker\":{\"line\":{\"color\":\"#283442\"}},\"type\":\"scatter\"}],\"scatterternary\":[{\"marker\":{\"colorbar\":{\"outlinewidth\":0,\"ticks\":\"\"}},\"type\":\"scatterternary\"}],\"surface\":[{\"colorbar\":{\"outlinewidth\":0,\"ticks\":\"\"},\"colorscale\":[[0.0,\"#0d0887\"],[0.1111111111111111,\"#46039f\"],[0.2222222222222222,\"#7201a8\"],[0.3333333333333333,\"#9c179e\"],[0.4444444444444444,\"#bd3786\"],[0.5555555555555556,\"#d8576b\"],[0.6666666666666666,\"#ed7953\"],[0.7777777777777778,\"#fb9f3a\"],[0.8888888888888888,\"#fdca26\"],[1.0,\"#f0f921\"]],\"type\":\"surface\"}],\"table\":[{\"cells\":{\"fill\":{\"color\":\"#506784\"},\"line\":{\"color\":\"rgb(17,17,17)\"}},\"header\":{\"fill\":{\"color\":\"#2a3f5f\"},\"line\":{\"color\":\"rgb(17,17,17)\"}},\"type\":\"table\"}]},\"layout\":{\"annotationdefaults\":{\"arrowcolor\":\"#f2f5fa\",\"arrowhead\":0,\"arrowwidth\":1},\"autotypenumbers\":\"strict\",\"coloraxis\":{\"colorbar\":{\"outlinewidth\":0,\"ticks\":\"\"}},\"colorscale\":{\"diverging\":[[0,\"#8e0152\"],[0.1,\"#c51b7d\"],[0.2,\"#de77ae\"],[0.3,\"#f1b6da\"],[0.4,\"#fde0ef\"],[0.5,\"#f7f7f7\"],[0.6,\"#e6f5d0\"],[0.7,\"#b8e186\"],[0.8,\"#7fbc41\"],[0.9,\"#4d9221\"],[1,\"#276419\"]],\"sequential\":[[0.0,\"#0d0887\"],[0.1111111111111111,\"#46039f\"],[0.2222222222222222,\"#7201a8\"],[0.3333333333333333,\"#9c179e\"],[0.4444444444444444,\"#bd3786\"],[0.5555555555555556,\"#d8576b\"],[0.6666666666666666,\"#ed7953\"],[0.7777777777777778,\"#fb9f3a\"],[0.8888888888888888,\"#fdca26\"],[1.0,\"#f0f921\"]],\"sequentialminus\":[[0.0,\"#0d0887\"],[0.1111111111111111,\"#46039f\"],[0.2222222222222222,\"#7201a8\"],[0.3333333333333333,\"#9c179e\"],[0.4444444444444444,\"#bd3786\"],[0.5555555555555556,\"#d8576b\"],[0.6666666666666666,\"#ed7953\"],[0.7777777777777778,\"#fb9f3a\"],[0.8888888888888888,\"#fdca26\"],[1.0,\"#f0f921\"]]},\"colorway\":[\"#636efa\",\"#EF553B\",\"#00cc96\",\"#ab63fa\",\"#FFA15A\",\"#19d3f3\",\"#FF6692\",\"#B6E880\",\"#FF97FF\",\"#FECB52\"],\"font\":{\"color\":\"#f2f5fa\"},\"geo\":{\"bgcolor\":\"rgb(17,17,17)\",\"lakecolor\":\"rgb(17,17,17)\",\"landcolor\":\"rgb(17,17,17)\",\"showlakes\":true,\"showland\":true,\"subunitcolor\":\"#506784\"},\"hoverlabel\":{\"align\":\"left\"},\"hovermode\":\"closest\",\"mapbox\":{\"style\":\"dark\"},\"paper_bgcolor\":\"rgb(17,17,17)\",\"plot_bgcolor\":\"rgb(17,17,17)\",\"polar\":{\"angularaxis\":{\"gridcolor\":\"#506784\",\"linecolor\":\"#506784\",\"ticks\":\"\"},\"bgcolor\":\"rgb(17,17,17)\",\"radialaxis\":{\"gridcolor\":\"#506784\",\"linecolor\":\"#506784\",\"ticks\":\"\"}},\"scene\":{\"xaxis\":{\"backgroundcolor\":\"rgb(17,17,17)\",\"gridcolor\":\"#506784\",\"gridwidth\":2,\"linecolor\":\"#506784\",\"showbackground\":true,\"ticks\":\"\",\"zerolinecolor\":\"#C8D4E3\"},\"yaxis\":{\"backgroundcolor\":\"rgb(17,17,17)\",\"gridcolor\":\"#506784\",\"gridwidth\":2,\"linecolor\":\"#506784\",\"showbackground\":true,\"ticks\":\"\",\"zerolinecolor\":\"#C8D4E3\"},\"zaxis\":{\"backgroundcolor\":\"rgb(17,17,17)\",\"gridcolor\":\"#506784\",\"gridwidth\":2,\"linecolor\":\"#506784\",\"showbackground\":true,\"ticks\":\"\",\"zerolinecolor\":\"#C8D4E3\"}},\"shapedefaults\":{\"line\":{\"color\":\"#f2f5fa\"}},\"sliderdefaults\":{\"bgcolor\":\"#C8D4E3\",\"bordercolor\":\"rgb(17,17,17)\",\"borderwidth\":1,\"tickwidth\":0},\"ternary\":{\"aaxis\":{\"gridcolor\":\"#506784\",\"linecolor\":\"#506784\",\"ticks\":\"\"},\"baxis\":{\"gridcolor\":\"#506784\",\"linecolor\":\"#506784\",\"ticks\":\"\"},\"bgcolor\":\"rgb(17,17,17)\",\"caxis\":{\"gridcolor\":\"#506784\",\"linecolor\":\"#506784\",\"ticks\":\"\"}},\"title\":{\"x\":0.05},\"updatemenudefaults\":{\"bgcolor\":\"#506784\",\"borderwidth\":0},\"xaxis\":{\"automargin\":true,\"gridcolor\":\"#283442\",\"linecolor\":\"#506784\",\"ticks\":\"\",\"title\":{\"standoff\":15},\"zerolinecolor\":\"#283442\",\"zerolinewidth\":2},\"yaxis\":{\"automargin\":true,\"gridcolor\":\"#283442\",\"linecolor\":\"#506784\",\"ticks\":\"\",\"title\":{\"standoff\":15},\"zerolinecolor\":\"#283442\",\"zerolinewidth\":2}}},\"xaxis\":{\"anchor\":\"y\",\"domain\":[0.0,1.0],\"title\":{\"text\":\"Album Name\"},\"categoryorder\":\"array\",\"categoryarray\":[\"Pablo Honey\",\"The Bends\",\"OK Computer\",\"Kid A\",\"Amnesiac\",\"Hail To the Thief\",\"In Rainbows\",\"The King Of Limbs\",\"A Moon Shaped Pool\"]},\"yaxis\":{\"anchor\":\"x\",\"domain\":[0.0,1.0],\"title\":{\"text\":\"Mean Valence\"}},\"legend\":{\"title\":{\"text\":\"Album Name\"},\"tracegroupgap\":0},\"title\":{\"text\":\"\\u003cb\\u003eRadiohead Albums by Musical Positiveness (Valence)\\u003c\\u002fb\\u003e \\u003cbr\\u003eIn their album run from 2003 to 2011 Radiohead put forward greater musical positiveness than usual.\"},\"barmode\":\"relative\",\"annotations\":[{\"align\":\"left\",\"showarrow\":false,\"text\":\"Data Source: \\u003ca href=\\u201dhttps:\\u002f\\u002fwww.kaggle.com\\u002fdatasets\\u002flavagod\\u002fradiohead\\u002fversions\\u002f1?resource=download\\u201d\\u003eRadiohead Data\\u003c\\u002fa\\u003e \\u003cbr\\u003eViz: \\u003ca href=\\u201dhttps:\\u002f\\u002ftwitter.com\\u002f_prospecttheory\\u201d\\u003e@_prospecttheory\\u003c\\u002fa\\u003e \\u003cbr\\u003e \\u003cbr\\u003e \\u003cbr\\u003e \\u003cbr\\u003e \\u003cbr\\u003e\",\"x\":-0.07,\"xref\":\"paper\",\"y\":-0.7,\"yref\":\"paper\"},{\"arrowhead\":1,\"bgcolor\":\"white\",\"bordercolor\":\"White\",\"font\":{\"color\":\"Black\"},\"showarrow\":true,\"text\":\"Was this their happy period?\",\"x\":6,\"y\":0.5}]},                        {\"responsive\": true}                    ).then(function(){\n",
       "                            \n",
       "var gd = document.getElementById('5fedc5cd-d96f-43e9-af1e-014a9cd0789f');\n",
       "var x = new MutationObserver(function (mutations, observer) {{\n",
       "        var display = window.getComputedStyle(gd).display;\n",
       "        if (!display || display === 'none') {{\n",
       "            console.log([gd, 'removed!']);\n",
       "            Plotly.purge(gd);\n",
       "            observer.disconnect();\n",
       "        }}\n",
       "}});\n",
       "\n",
       "// Listen for the removal of the full notebook cells\n",
       "var notebookContainer = gd.closest('#notebook-container');\n",
       "if (notebookContainer) {{\n",
       "    x.observe(notebookContainer, {childList: true});\n",
       "}}\n",
       "\n",
       "// Listen for the clearing of the current output cell\n",
       "var outputEl = gd.closest('.output');\n",
       "if (outputEl) {{\n",
       "    x.observe(outputEl, {childList: true});\n",
       "}}\n",
       "\n",
       "                        })                };                });            </script>        </div>"
      ]
     },
     "metadata": {},
     "output_type": "display_data"
    }
   ],
   "source": [
    "#Plot Valence\n",
    "fig = px.bar(df_radiohead_soft_facts, x = 'album_name',y= 'mean_valence', color = 'album_name',\n",
    "            labels={'album_name':'Album Name', 'mean_valence':'Mean Valence'},\n",
    "            title= '<b>Radiohead Albums by Musical Positiveness (Valence)</b> <br>In their album run from 2003 to 2011 Radiohead put forward greater musical positiveness than usual.',\n",
    "            template='plotly_dark')\n",
    "\n",
    "#Add Signature\n",
    "fig.add_annotation(text='Data Source: <a href=”https://www.kaggle.com/datasets/lavagod/radiohead/versions/1?resource=download”>Radiohead Data</a> <br>Viz: <a href=”https://twitter.com/_prospecttheory”>@_prospecttheory</a> <br> <br> <br> <br> <br>', \n",
    "                    align='left',\n",
    "                    showarrow=False,\n",
    "                    xref='paper',\n",
    "                    yref='paper',\n",
    "                    x= -0.07,\n",
    "                    y= -0.7)\n",
    "\n",
    "#Add little annotation\n",
    "fig.add_annotation(x=6, y=0.5,\n",
    "            text=\"Was this their happy period?\",\n",
    "            showarrow=True,\n",
    "            arrowhead=1,\n",
    "            bordercolor='White',\n",
    "            font_color = 'Black',\n",
    "            bgcolor='white')\n",
    "\n",
    "fig.show()"
   ]
  },
  {
   "cell_type": "markdown",
   "id": "c61e4de3",
   "metadata": {},
   "source": [
    "We can see why Radiohead is not known for their particularly cheerful music. None of their albums come even close to a valence score of 0.5. Meaning that all of their albums must be categorized as rather negative in their musical sentiment. However, their album run from 'Hail To the Thief' to 'The King Of Limbs' via 'In Rainbows' sticks out. In terms of musical positiveness this could be considered as their 'cheerful period'. 'A Moon Shaped Pool' scoring the lowest here, also makes sense. The production of the record was heavily colored by the Thom Yorke's separation from his partner, Rachel Owen, of almost 25 years."
   ]
  },
  {
   "cell_type": "markdown",
   "id": "59aa917e",
   "metadata": {},
   "source": [
    "### Soft facts #2 - Album Sad Lyrics - Relative\n",
    "\n",
    "The data set also included the dimension 'pct_sad' measuring what percentage of lyrics in a particular song can be considered as sad. So after the tonal analysis of notes and arrangements of the songs, we can also check if the words that go with it mirror the sentiment of the tracks."
   ]
  },
  {
   "cell_type": "code",
   "execution_count": 365,
   "id": "4d08f24c",
   "metadata": {},
   "outputs": [
    {
     "data": {
      "application/vnd.plotly.v1+json": {
       "config": {
        "plotlyServerURL": "https://plot.ly"
       },
       "data": [
        {
         "alignmentgroup": "True",
         "hovertemplate": "Album Name=%{x}<br>Mean Percentage of Sad Lyrics=%{y}<extra></extra>",
         "legendgroup": "Pablo Honey",
         "marker": {
          "color": "#636efa",
          "pattern": {
           "shape": ""
          }
         },
         "name": "Pablo Honey",
         "offsetgroup": "Pablo Honey",
         "orientation": "v",
         "showlegend": true,
         "textposition": "auto",
         "type": "bar",
         "x": [
          "Pablo Honey"
         ],
         "xaxis": "x",
         "y": [
          0.04285833333333333
         ],
         "yaxis": "y"
        },
        {
         "alignmentgroup": "True",
         "hovertemplate": "Album Name=%{x}<br>Mean Percentage of Sad Lyrics=%{y}<extra></extra>",
         "legendgroup": "The Bends",
         "marker": {
          "color": "#EF553B",
          "pattern": {
           "shape": ""
          }
         },
         "name": "The Bends",
         "offsetgroup": "The Bends",
         "orientation": "v",
         "showlegend": true,
         "textposition": "auto",
         "type": "bar",
         "x": [
          "The Bends"
         ],
         "xaxis": "x",
         "y": [
          0.09689166666666667
         ],
         "yaxis": "y"
        },
        {
         "alignmentgroup": "True",
         "hovertemplate": "Album Name=%{x}<br>Mean Percentage of Sad Lyrics=%{y}<extra></extra>",
         "legendgroup": "OK Computer",
         "marker": {
          "color": "#00cc96",
          "pattern": {
           "shape": ""
          }
         },
         "name": "OK Computer",
         "offsetgroup": "OK Computer",
         "orientation": "v",
         "showlegend": true,
         "textposition": "auto",
         "type": "bar",
         "x": [
          "OK Computer"
         ],
         "xaxis": "x",
         "y": [
          0.08395000000000001
         ],
         "yaxis": "y"
        },
        {
         "alignmentgroup": "True",
         "hovertemplate": "Album Name=%{x}<br>Mean Percentage of Sad Lyrics=%{y}<extra></extra>",
         "legendgroup": "Kid A",
         "marker": {
          "color": "#ab63fa",
          "pattern": {
           "shape": ""
          }
         },
         "name": "Kid A",
         "offsetgroup": "Kid A",
         "orientation": "v",
         "showlegend": true,
         "textposition": "auto",
         "type": "bar",
         "x": [
          "Kid A"
         ],
         "xaxis": "x",
         "y": [
          0.0264
         ],
         "yaxis": "y"
        },
        {
         "alignmentgroup": "True",
         "hovertemplate": "Album Name=%{x}<br>Mean Percentage of Sad Lyrics=%{y}<extra></extra>",
         "legendgroup": "Amnesiac",
         "marker": {
          "color": "#FFA15A",
          "pattern": {
           "shape": ""
          }
         },
         "name": "Amnesiac",
         "offsetgroup": "Amnesiac",
         "orientation": "v",
         "showlegend": true,
         "textposition": "auto",
         "type": "bar",
         "x": [
          "Amnesiac"
         ],
         "xaxis": "x",
         "y": [
          0.03356363636363636
         ],
         "yaxis": "y"
        },
        {
         "alignmentgroup": "True",
         "hovertemplate": "Album Name=%{x}<br>Mean Percentage of Sad Lyrics=%{y}<extra></extra>",
         "legendgroup": "Hail To the Thief",
         "marker": {
          "color": "#19d3f3",
          "pattern": {
           "shape": ""
          }
         },
         "name": "Hail To the Thief",
         "offsetgroup": "Hail To the Thief",
         "orientation": "v",
         "showlegend": true,
         "textposition": "auto",
         "type": "bar",
         "x": [
          "Hail To the Thief"
         ],
         "xaxis": "x",
         "y": [
          0.07198571428571429
         ],
         "yaxis": "y"
        },
        {
         "alignmentgroup": "True",
         "hovertemplate": "Album Name=%{x}<br>Mean Percentage of Sad Lyrics=%{y}<extra></extra>",
         "legendgroup": "In Rainbows",
         "marker": {
          "color": "#FF6692",
          "pattern": {
           "shape": ""
          }
         },
         "name": "In Rainbows",
         "offsetgroup": "In Rainbows",
         "orientation": "v",
         "showlegend": true,
         "textposition": "auto",
         "type": "bar",
         "x": [
          "In Rainbows"
         ],
         "xaxis": "x",
         "y": [
          0.058140000000000004
         ],
         "yaxis": "y"
        },
        {
         "alignmentgroup": "True",
         "hovertemplate": "Album Name=%{x}<br>Mean Percentage of Sad Lyrics=%{y}<extra></extra>",
         "legendgroup": "The King Of Limbs",
         "marker": {
          "color": "#B6E880",
          "pattern": {
           "shape": ""
          }
         },
         "name": "The King Of Limbs",
         "offsetgroup": "The King Of Limbs",
         "orientation": "v",
         "showlegend": true,
         "textposition": "auto",
         "type": "bar",
         "x": [
          "The King Of Limbs"
         ],
         "xaxis": "x",
         "y": [
          0.093875
         ],
         "yaxis": "y"
        },
        {
         "alignmentgroup": "True",
         "hovertemplate": "Album Name=%{x}<br>Mean Percentage of Sad Lyrics=%{y}<extra></extra>",
         "legendgroup": "A Moon Shaped Pool",
         "marker": {
          "color": "#FF97FF",
          "pattern": {
           "shape": ""
          }
         },
         "name": "A Moon Shaped Pool",
         "offsetgroup": "A Moon Shaped Pool",
         "orientation": "v",
         "showlegend": true,
         "textposition": "auto",
         "type": "bar",
         "x": [
          "A Moon Shaped Pool"
         ],
         "xaxis": "x",
         "y": [
          0.08415454545454545
         ],
         "yaxis": "y"
        }
       ],
       "layout": {
        "annotations": [
         {
          "align": "left",
          "showarrow": false,
          "text": "Data Source: <a href=”https://www.kaggle.com/datasets/lavagod/radiohead/versions/1?resource=download”>Radiohead Data</a> <br>Viz: <a href=”https://twitter.com/_prospecttheory”>@_prospecttheory</a> <br> <br> <br> <br> <br>",
          "x": -0.07,
          "xref": "paper",
          "y": -0.7,
          "yref": "paper"
         }
        ],
        "barmode": "relative",
        "legend": {
         "title": {
          "text": "Album Name"
         },
         "tracegroupgap": 0
        },
        "template": {
         "data": {
          "bar": [
           {
            "error_x": {
             "color": "#f2f5fa"
            },
            "error_y": {
             "color": "#f2f5fa"
            },
            "marker": {
             "line": {
              "color": "rgb(17,17,17)",
              "width": 0.5
             },
             "pattern": {
              "fillmode": "overlay",
              "size": 10,
              "solidity": 0.2
             }
            },
            "type": "bar"
           }
          ],
          "barpolar": [
           {
            "marker": {
             "line": {
              "color": "rgb(17,17,17)",
              "width": 0.5
             },
             "pattern": {
              "fillmode": "overlay",
              "size": 10,
              "solidity": 0.2
             }
            },
            "type": "barpolar"
           }
          ],
          "carpet": [
           {
            "aaxis": {
             "endlinecolor": "#A2B1C6",
             "gridcolor": "#506784",
             "linecolor": "#506784",
             "minorgridcolor": "#506784",
             "startlinecolor": "#A2B1C6"
            },
            "baxis": {
             "endlinecolor": "#A2B1C6",
             "gridcolor": "#506784",
             "linecolor": "#506784",
             "minorgridcolor": "#506784",
             "startlinecolor": "#A2B1C6"
            },
            "type": "carpet"
           }
          ],
          "choropleth": [
           {
            "colorbar": {
             "outlinewidth": 0,
             "ticks": ""
            },
            "type": "choropleth"
           }
          ],
          "contour": [
           {
            "colorbar": {
             "outlinewidth": 0,
             "ticks": ""
            },
            "colorscale": [
             [
              0,
              "#0d0887"
             ],
             [
              0.1111111111111111,
              "#46039f"
             ],
             [
              0.2222222222222222,
              "#7201a8"
             ],
             [
              0.3333333333333333,
              "#9c179e"
             ],
             [
              0.4444444444444444,
              "#bd3786"
             ],
             [
              0.5555555555555556,
              "#d8576b"
             ],
             [
              0.6666666666666666,
              "#ed7953"
             ],
             [
              0.7777777777777778,
              "#fb9f3a"
             ],
             [
              0.8888888888888888,
              "#fdca26"
             ],
             [
              1,
              "#f0f921"
             ]
            ],
            "type": "contour"
           }
          ],
          "contourcarpet": [
           {
            "colorbar": {
             "outlinewidth": 0,
             "ticks": ""
            },
            "type": "contourcarpet"
           }
          ],
          "heatmap": [
           {
            "colorbar": {
             "outlinewidth": 0,
             "ticks": ""
            },
            "colorscale": [
             [
              0,
              "#0d0887"
             ],
             [
              0.1111111111111111,
              "#46039f"
             ],
             [
              0.2222222222222222,
              "#7201a8"
             ],
             [
              0.3333333333333333,
              "#9c179e"
             ],
             [
              0.4444444444444444,
              "#bd3786"
             ],
             [
              0.5555555555555556,
              "#d8576b"
             ],
             [
              0.6666666666666666,
              "#ed7953"
             ],
             [
              0.7777777777777778,
              "#fb9f3a"
             ],
             [
              0.8888888888888888,
              "#fdca26"
             ],
             [
              1,
              "#f0f921"
             ]
            ],
            "type": "heatmap"
           }
          ],
          "heatmapgl": [
           {
            "colorbar": {
             "outlinewidth": 0,
             "ticks": ""
            },
            "colorscale": [
             [
              0,
              "#0d0887"
             ],
             [
              0.1111111111111111,
              "#46039f"
             ],
             [
              0.2222222222222222,
              "#7201a8"
             ],
             [
              0.3333333333333333,
              "#9c179e"
             ],
             [
              0.4444444444444444,
              "#bd3786"
             ],
             [
              0.5555555555555556,
              "#d8576b"
             ],
             [
              0.6666666666666666,
              "#ed7953"
             ],
             [
              0.7777777777777778,
              "#fb9f3a"
             ],
             [
              0.8888888888888888,
              "#fdca26"
             ],
             [
              1,
              "#f0f921"
             ]
            ],
            "type": "heatmapgl"
           }
          ],
          "histogram": [
           {
            "marker": {
             "pattern": {
              "fillmode": "overlay",
              "size": 10,
              "solidity": 0.2
             }
            },
            "type": "histogram"
           }
          ],
          "histogram2d": [
           {
            "colorbar": {
             "outlinewidth": 0,
             "ticks": ""
            },
            "colorscale": [
             [
              0,
              "#0d0887"
             ],
             [
              0.1111111111111111,
              "#46039f"
             ],
             [
              0.2222222222222222,
              "#7201a8"
             ],
             [
              0.3333333333333333,
              "#9c179e"
             ],
             [
              0.4444444444444444,
              "#bd3786"
             ],
             [
              0.5555555555555556,
              "#d8576b"
             ],
             [
              0.6666666666666666,
              "#ed7953"
             ],
             [
              0.7777777777777778,
              "#fb9f3a"
             ],
             [
              0.8888888888888888,
              "#fdca26"
             ],
             [
              1,
              "#f0f921"
             ]
            ],
            "type": "histogram2d"
           }
          ],
          "histogram2dcontour": [
           {
            "colorbar": {
             "outlinewidth": 0,
             "ticks": ""
            },
            "colorscale": [
             [
              0,
              "#0d0887"
             ],
             [
              0.1111111111111111,
              "#46039f"
             ],
             [
              0.2222222222222222,
              "#7201a8"
             ],
             [
              0.3333333333333333,
              "#9c179e"
             ],
             [
              0.4444444444444444,
              "#bd3786"
             ],
             [
              0.5555555555555556,
              "#d8576b"
             ],
             [
              0.6666666666666666,
              "#ed7953"
             ],
             [
              0.7777777777777778,
              "#fb9f3a"
             ],
             [
              0.8888888888888888,
              "#fdca26"
             ],
             [
              1,
              "#f0f921"
             ]
            ],
            "type": "histogram2dcontour"
           }
          ],
          "mesh3d": [
           {
            "colorbar": {
             "outlinewidth": 0,
             "ticks": ""
            },
            "type": "mesh3d"
           }
          ],
          "parcoords": [
           {
            "line": {
             "colorbar": {
              "outlinewidth": 0,
              "ticks": ""
             }
            },
            "type": "parcoords"
           }
          ],
          "pie": [
           {
            "automargin": true,
            "type": "pie"
           }
          ],
          "scatter": [
           {
            "marker": {
             "line": {
              "color": "#283442"
             }
            },
            "type": "scatter"
           }
          ],
          "scatter3d": [
           {
            "line": {
             "colorbar": {
              "outlinewidth": 0,
              "ticks": ""
             }
            },
            "marker": {
             "colorbar": {
              "outlinewidth": 0,
              "ticks": ""
             }
            },
            "type": "scatter3d"
           }
          ],
          "scattercarpet": [
           {
            "marker": {
             "colorbar": {
              "outlinewidth": 0,
              "ticks": ""
             }
            },
            "type": "scattercarpet"
           }
          ],
          "scattergeo": [
           {
            "marker": {
             "colorbar": {
              "outlinewidth": 0,
              "ticks": ""
             }
            },
            "type": "scattergeo"
           }
          ],
          "scattergl": [
           {
            "marker": {
             "line": {
              "color": "#283442"
             }
            },
            "type": "scattergl"
           }
          ],
          "scattermapbox": [
           {
            "marker": {
             "colorbar": {
              "outlinewidth": 0,
              "ticks": ""
             }
            },
            "type": "scattermapbox"
           }
          ],
          "scatterpolar": [
           {
            "marker": {
             "colorbar": {
              "outlinewidth": 0,
              "ticks": ""
             }
            },
            "type": "scatterpolar"
           }
          ],
          "scatterpolargl": [
           {
            "marker": {
             "colorbar": {
              "outlinewidth": 0,
              "ticks": ""
             }
            },
            "type": "scatterpolargl"
           }
          ],
          "scatterternary": [
           {
            "marker": {
             "colorbar": {
              "outlinewidth": 0,
              "ticks": ""
             }
            },
            "type": "scatterternary"
           }
          ],
          "surface": [
           {
            "colorbar": {
             "outlinewidth": 0,
             "ticks": ""
            },
            "colorscale": [
             [
              0,
              "#0d0887"
             ],
             [
              0.1111111111111111,
              "#46039f"
             ],
             [
              0.2222222222222222,
              "#7201a8"
             ],
             [
              0.3333333333333333,
              "#9c179e"
             ],
             [
              0.4444444444444444,
              "#bd3786"
             ],
             [
              0.5555555555555556,
              "#d8576b"
             ],
             [
              0.6666666666666666,
              "#ed7953"
             ],
             [
              0.7777777777777778,
              "#fb9f3a"
             ],
             [
              0.8888888888888888,
              "#fdca26"
             ],
             [
              1,
              "#f0f921"
             ]
            ],
            "type": "surface"
           }
          ],
          "table": [
           {
            "cells": {
             "fill": {
              "color": "#506784"
             },
             "line": {
              "color": "rgb(17,17,17)"
             }
            },
            "header": {
             "fill": {
              "color": "#2a3f5f"
             },
             "line": {
              "color": "rgb(17,17,17)"
             }
            },
            "type": "table"
           }
          ]
         },
         "layout": {
          "annotationdefaults": {
           "arrowcolor": "#f2f5fa",
           "arrowhead": 0,
           "arrowwidth": 1
          },
          "autotypenumbers": "strict",
          "coloraxis": {
           "colorbar": {
            "outlinewidth": 0,
            "ticks": ""
           }
          },
          "colorscale": {
           "diverging": [
            [
             0,
             "#8e0152"
            ],
            [
             0.1,
             "#c51b7d"
            ],
            [
             0.2,
             "#de77ae"
            ],
            [
             0.3,
             "#f1b6da"
            ],
            [
             0.4,
             "#fde0ef"
            ],
            [
             0.5,
             "#f7f7f7"
            ],
            [
             0.6,
             "#e6f5d0"
            ],
            [
             0.7,
             "#b8e186"
            ],
            [
             0.8,
             "#7fbc41"
            ],
            [
             0.9,
             "#4d9221"
            ],
            [
             1,
             "#276419"
            ]
           ],
           "sequential": [
            [
             0,
             "#0d0887"
            ],
            [
             0.1111111111111111,
             "#46039f"
            ],
            [
             0.2222222222222222,
             "#7201a8"
            ],
            [
             0.3333333333333333,
             "#9c179e"
            ],
            [
             0.4444444444444444,
             "#bd3786"
            ],
            [
             0.5555555555555556,
             "#d8576b"
            ],
            [
             0.6666666666666666,
             "#ed7953"
            ],
            [
             0.7777777777777778,
             "#fb9f3a"
            ],
            [
             0.8888888888888888,
             "#fdca26"
            ],
            [
             1,
             "#f0f921"
            ]
           ],
           "sequentialminus": [
            [
             0,
             "#0d0887"
            ],
            [
             0.1111111111111111,
             "#46039f"
            ],
            [
             0.2222222222222222,
             "#7201a8"
            ],
            [
             0.3333333333333333,
             "#9c179e"
            ],
            [
             0.4444444444444444,
             "#bd3786"
            ],
            [
             0.5555555555555556,
             "#d8576b"
            ],
            [
             0.6666666666666666,
             "#ed7953"
            ],
            [
             0.7777777777777778,
             "#fb9f3a"
            ],
            [
             0.8888888888888888,
             "#fdca26"
            ],
            [
             1,
             "#f0f921"
            ]
           ]
          },
          "colorway": [
           "#636efa",
           "#EF553B",
           "#00cc96",
           "#ab63fa",
           "#FFA15A",
           "#19d3f3",
           "#FF6692",
           "#B6E880",
           "#FF97FF",
           "#FECB52"
          ],
          "font": {
           "color": "#f2f5fa"
          },
          "geo": {
           "bgcolor": "rgb(17,17,17)",
           "lakecolor": "rgb(17,17,17)",
           "landcolor": "rgb(17,17,17)",
           "showlakes": true,
           "showland": true,
           "subunitcolor": "#506784"
          },
          "hoverlabel": {
           "align": "left"
          },
          "hovermode": "closest",
          "mapbox": {
           "style": "dark"
          },
          "paper_bgcolor": "rgb(17,17,17)",
          "plot_bgcolor": "rgb(17,17,17)",
          "polar": {
           "angularaxis": {
            "gridcolor": "#506784",
            "linecolor": "#506784",
            "ticks": ""
           },
           "bgcolor": "rgb(17,17,17)",
           "radialaxis": {
            "gridcolor": "#506784",
            "linecolor": "#506784",
            "ticks": ""
           }
          },
          "scene": {
           "xaxis": {
            "backgroundcolor": "rgb(17,17,17)",
            "gridcolor": "#506784",
            "gridwidth": 2,
            "linecolor": "#506784",
            "showbackground": true,
            "ticks": "",
            "zerolinecolor": "#C8D4E3"
           },
           "yaxis": {
            "backgroundcolor": "rgb(17,17,17)",
            "gridcolor": "#506784",
            "gridwidth": 2,
            "linecolor": "#506784",
            "showbackground": true,
            "ticks": "",
            "zerolinecolor": "#C8D4E3"
           },
           "zaxis": {
            "backgroundcolor": "rgb(17,17,17)",
            "gridcolor": "#506784",
            "gridwidth": 2,
            "linecolor": "#506784",
            "showbackground": true,
            "ticks": "",
            "zerolinecolor": "#C8D4E3"
           }
          },
          "shapedefaults": {
           "line": {
            "color": "#f2f5fa"
           }
          },
          "sliderdefaults": {
           "bgcolor": "#C8D4E3",
           "bordercolor": "rgb(17,17,17)",
           "borderwidth": 1,
           "tickwidth": 0
          },
          "ternary": {
           "aaxis": {
            "gridcolor": "#506784",
            "linecolor": "#506784",
            "ticks": ""
           },
           "baxis": {
            "gridcolor": "#506784",
            "linecolor": "#506784",
            "ticks": ""
           },
           "bgcolor": "rgb(17,17,17)",
           "caxis": {
            "gridcolor": "#506784",
            "linecolor": "#506784",
            "ticks": ""
           }
          },
          "title": {
           "x": 0.05
          },
          "updatemenudefaults": {
           "bgcolor": "#506784",
           "borderwidth": 0
          },
          "xaxis": {
           "automargin": true,
           "gridcolor": "#283442",
           "linecolor": "#506784",
           "ticks": "",
           "title": {
            "standoff": 15
           },
           "zerolinecolor": "#283442",
           "zerolinewidth": 2
          },
          "yaxis": {
           "automargin": true,
           "gridcolor": "#283442",
           "linecolor": "#506784",
           "ticks": "",
           "title": {
            "standoff": 15
           },
           "zerolinecolor": "#283442",
           "zerolinewidth": 2
          }
         }
        },
        "title": {
         "text": "<b>Radiohead Albums by Mean Percentage of Sad Lyrics</b> <br> \"The Bends\" and \"The King Of Limbs\" have the most amount of sad lyrics in them."
        },
        "xaxis": {
         "anchor": "y",
         "categoryarray": [
          "Pablo Honey",
          "The Bends",
          "OK Computer",
          "Kid A",
          "Amnesiac",
          "Hail To the Thief",
          "In Rainbows",
          "The King Of Limbs",
          "A Moon Shaped Pool"
         ],
         "categoryorder": "array",
         "domain": [
          0,
          1
         ],
         "title": {
          "text": "Album Name"
         }
        },
        "yaxis": {
         "anchor": "x",
         "domain": [
          0,
          1
         ],
         "title": {
          "text": "Mean Percentage of Sad Lyrics"
         }
        }
       }
      },
      "text/html": [
       "<div>                            <div id=\"ed5ef503-0c40-47ac-a17c-4feaea812984\" class=\"plotly-graph-div\" style=\"height:525px; width:100%;\"></div>            <script type=\"text/javascript\">                require([\"plotly\"], function(Plotly) {                    window.PLOTLYENV=window.PLOTLYENV || {};                                    if (document.getElementById(\"ed5ef503-0c40-47ac-a17c-4feaea812984\")) {                    Plotly.newPlot(                        \"ed5ef503-0c40-47ac-a17c-4feaea812984\",                        [{\"alignmentgroup\":\"True\",\"hovertemplate\":\"Album Name=%{x}\\u003cbr\\u003eMean Percentage of Sad Lyrics=%{y}\\u003cextra\\u003e\\u003c\\u002fextra\\u003e\",\"legendgroup\":\"Pablo Honey\",\"marker\":{\"color\":\"#636efa\",\"pattern\":{\"shape\":\"\"}},\"name\":\"Pablo Honey\",\"offsetgroup\":\"Pablo Honey\",\"orientation\":\"v\",\"showlegend\":true,\"textposition\":\"auto\",\"x\":[\"Pablo Honey\"],\"xaxis\":\"x\",\"y\":[0.04285833333333333],\"yaxis\":\"y\",\"type\":\"bar\"},{\"alignmentgroup\":\"True\",\"hovertemplate\":\"Album Name=%{x}\\u003cbr\\u003eMean Percentage of Sad Lyrics=%{y}\\u003cextra\\u003e\\u003c\\u002fextra\\u003e\",\"legendgroup\":\"The Bends\",\"marker\":{\"color\":\"#EF553B\",\"pattern\":{\"shape\":\"\"}},\"name\":\"The Bends\",\"offsetgroup\":\"The Bends\",\"orientation\":\"v\",\"showlegend\":true,\"textposition\":\"auto\",\"x\":[\"The Bends\"],\"xaxis\":\"x\",\"y\":[0.09689166666666667],\"yaxis\":\"y\",\"type\":\"bar\"},{\"alignmentgroup\":\"True\",\"hovertemplate\":\"Album Name=%{x}\\u003cbr\\u003eMean Percentage of Sad Lyrics=%{y}\\u003cextra\\u003e\\u003c\\u002fextra\\u003e\",\"legendgroup\":\"OK Computer\",\"marker\":{\"color\":\"#00cc96\",\"pattern\":{\"shape\":\"\"}},\"name\":\"OK Computer\",\"offsetgroup\":\"OK Computer\",\"orientation\":\"v\",\"showlegend\":true,\"textposition\":\"auto\",\"x\":[\"OK Computer\"],\"xaxis\":\"x\",\"y\":[0.08395000000000001],\"yaxis\":\"y\",\"type\":\"bar\"},{\"alignmentgroup\":\"True\",\"hovertemplate\":\"Album Name=%{x}\\u003cbr\\u003eMean Percentage of Sad Lyrics=%{y}\\u003cextra\\u003e\\u003c\\u002fextra\\u003e\",\"legendgroup\":\"Kid A\",\"marker\":{\"color\":\"#ab63fa\",\"pattern\":{\"shape\":\"\"}},\"name\":\"Kid A\",\"offsetgroup\":\"Kid A\",\"orientation\":\"v\",\"showlegend\":true,\"textposition\":\"auto\",\"x\":[\"Kid A\"],\"xaxis\":\"x\",\"y\":[0.0264],\"yaxis\":\"y\",\"type\":\"bar\"},{\"alignmentgroup\":\"True\",\"hovertemplate\":\"Album Name=%{x}\\u003cbr\\u003eMean Percentage of Sad Lyrics=%{y}\\u003cextra\\u003e\\u003c\\u002fextra\\u003e\",\"legendgroup\":\"Amnesiac\",\"marker\":{\"color\":\"#FFA15A\",\"pattern\":{\"shape\":\"\"}},\"name\":\"Amnesiac\",\"offsetgroup\":\"Amnesiac\",\"orientation\":\"v\",\"showlegend\":true,\"textposition\":\"auto\",\"x\":[\"Amnesiac\"],\"xaxis\":\"x\",\"y\":[0.03356363636363636],\"yaxis\":\"y\",\"type\":\"bar\"},{\"alignmentgroup\":\"True\",\"hovertemplate\":\"Album Name=%{x}\\u003cbr\\u003eMean Percentage of Sad Lyrics=%{y}\\u003cextra\\u003e\\u003c\\u002fextra\\u003e\",\"legendgroup\":\"Hail To the Thief\",\"marker\":{\"color\":\"#19d3f3\",\"pattern\":{\"shape\":\"\"}},\"name\":\"Hail To the Thief\",\"offsetgroup\":\"Hail To the Thief\",\"orientation\":\"v\",\"showlegend\":true,\"textposition\":\"auto\",\"x\":[\"Hail To the Thief\"],\"xaxis\":\"x\",\"y\":[0.07198571428571429],\"yaxis\":\"y\",\"type\":\"bar\"},{\"alignmentgroup\":\"True\",\"hovertemplate\":\"Album Name=%{x}\\u003cbr\\u003eMean Percentage of Sad Lyrics=%{y}\\u003cextra\\u003e\\u003c\\u002fextra\\u003e\",\"legendgroup\":\"In Rainbows\",\"marker\":{\"color\":\"#FF6692\",\"pattern\":{\"shape\":\"\"}},\"name\":\"In Rainbows\",\"offsetgroup\":\"In Rainbows\",\"orientation\":\"v\",\"showlegend\":true,\"textposition\":\"auto\",\"x\":[\"In Rainbows\"],\"xaxis\":\"x\",\"y\":[0.058140000000000004],\"yaxis\":\"y\",\"type\":\"bar\"},{\"alignmentgroup\":\"True\",\"hovertemplate\":\"Album Name=%{x}\\u003cbr\\u003eMean Percentage of Sad Lyrics=%{y}\\u003cextra\\u003e\\u003c\\u002fextra\\u003e\",\"legendgroup\":\"The King Of Limbs\",\"marker\":{\"color\":\"#B6E880\",\"pattern\":{\"shape\":\"\"}},\"name\":\"The King Of Limbs\",\"offsetgroup\":\"The King Of Limbs\",\"orientation\":\"v\",\"showlegend\":true,\"textposition\":\"auto\",\"x\":[\"The King Of Limbs\"],\"xaxis\":\"x\",\"y\":[0.093875],\"yaxis\":\"y\",\"type\":\"bar\"},{\"alignmentgroup\":\"True\",\"hovertemplate\":\"Album Name=%{x}\\u003cbr\\u003eMean Percentage of Sad Lyrics=%{y}\\u003cextra\\u003e\\u003c\\u002fextra\\u003e\",\"legendgroup\":\"A Moon Shaped Pool\",\"marker\":{\"color\":\"#FF97FF\",\"pattern\":{\"shape\":\"\"}},\"name\":\"A Moon Shaped Pool\",\"offsetgroup\":\"A Moon Shaped Pool\",\"orientation\":\"v\",\"showlegend\":true,\"textposition\":\"auto\",\"x\":[\"A Moon Shaped Pool\"],\"xaxis\":\"x\",\"y\":[0.08415454545454545],\"yaxis\":\"y\",\"type\":\"bar\"}],                        {\"template\":{\"data\":{\"barpolar\":[{\"marker\":{\"line\":{\"color\":\"rgb(17,17,17)\",\"width\":0.5},\"pattern\":{\"fillmode\":\"overlay\",\"size\":10,\"solidity\":0.2}},\"type\":\"barpolar\"}],\"bar\":[{\"error_x\":{\"color\":\"#f2f5fa\"},\"error_y\":{\"color\":\"#f2f5fa\"},\"marker\":{\"line\":{\"color\":\"rgb(17,17,17)\",\"width\":0.5},\"pattern\":{\"fillmode\":\"overlay\",\"size\":10,\"solidity\":0.2}},\"type\":\"bar\"}],\"carpet\":[{\"aaxis\":{\"endlinecolor\":\"#A2B1C6\",\"gridcolor\":\"#506784\",\"linecolor\":\"#506784\",\"minorgridcolor\":\"#506784\",\"startlinecolor\":\"#A2B1C6\"},\"baxis\":{\"endlinecolor\":\"#A2B1C6\",\"gridcolor\":\"#506784\",\"linecolor\":\"#506784\",\"minorgridcolor\":\"#506784\",\"startlinecolor\":\"#A2B1C6\"},\"type\":\"carpet\"}],\"choropleth\":[{\"colorbar\":{\"outlinewidth\":0,\"ticks\":\"\"},\"type\":\"choropleth\"}],\"contourcarpet\":[{\"colorbar\":{\"outlinewidth\":0,\"ticks\":\"\"},\"type\":\"contourcarpet\"}],\"contour\":[{\"colorbar\":{\"outlinewidth\":0,\"ticks\":\"\"},\"colorscale\":[[0.0,\"#0d0887\"],[0.1111111111111111,\"#46039f\"],[0.2222222222222222,\"#7201a8\"],[0.3333333333333333,\"#9c179e\"],[0.4444444444444444,\"#bd3786\"],[0.5555555555555556,\"#d8576b\"],[0.6666666666666666,\"#ed7953\"],[0.7777777777777778,\"#fb9f3a\"],[0.8888888888888888,\"#fdca26\"],[1.0,\"#f0f921\"]],\"type\":\"contour\"}],\"heatmapgl\":[{\"colorbar\":{\"outlinewidth\":0,\"ticks\":\"\"},\"colorscale\":[[0.0,\"#0d0887\"],[0.1111111111111111,\"#46039f\"],[0.2222222222222222,\"#7201a8\"],[0.3333333333333333,\"#9c179e\"],[0.4444444444444444,\"#bd3786\"],[0.5555555555555556,\"#d8576b\"],[0.6666666666666666,\"#ed7953\"],[0.7777777777777778,\"#fb9f3a\"],[0.8888888888888888,\"#fdca26\"],[1.0,\"#f0f921\"]],\"type\":\"heatmapgl\"}],\"heatmap\":[{\"colorbar\":{\"outlinewidth\":0,\"ticks\":\"\"},\"colorscale\":[[0.0,\"#0d0887\"],[0.1111111111111111,\"#46039f\"],[0.2222222222222222,\"#7201a8\"],[0.3333333333333333,\"#9c179e\"],[0.4444444444444444,\"#bd3786\"],[0.5555555555555556,\"#d8576b\"],[0.6666666666666666,\"#ed7953\"],[0.7777777777777778,\"#fb9f3a\"],[0.8888888888888888,\"#fdca26\"],[1.0,\"#f0f921\"]],\"type\":\"heatmap\"}],\"histogram2dcontour\":[{\"colorbar\":{\"outlinewidth\":0,\"ticks\":\"\"},\"colorscale\":[[0.0,\"#0d0887\"],[0.1111111111111111,\"#46039f\"],[0.2222222222222222,\"#7201a8\"],[0.3333333333333333,\"#9c179e\"],[0.4444444444444444,\"#bd3786\"],[0.5555555555555556,\"#d8576b\"],[0.6666666666666666,\"#ed7953\"],[0.7777777777777778,\"#fb9f3a\"],[0.8888888888888888,\"#fdca26\"],[1.0,\"#f0f921\"]],\"type\":\"histogram2dcontour\"}],\"histogram2d\":[{\"colorbar\":{\"outlinewidth\":0,\"ticks\":\"\"},\"colorscale\":[[0.0,\"#0d0887\"],[0.1111111111111111,\"#46039f\"],[0.2222222222222222,\"#7201a8\"],[0.3333333333333333,\"#9c179e\"],[0.4444444444444444,\"#bd3786\"],[0.5555555555555556,\"#d8576b\"],[0.6666666666666666,\"#ed7953\"],[0.7777777777777778,\"#fb9f3a\"],[0.8888888888888888,\"#fdca26\"],[1.0,\"#f0f921\"]],\"type\":\"histogram2d\"}],\"histogram\":[{\"marker\":{\"pattern\":{\"fillmode\":\"overlay\",\"size\":10,\"solidity\":0.2}},\"type\":\"histogram\"}],\"mesh3d\":[{\"colorbar\":{\"outlinewidth\":0,\"ticks\":\"\"},\"type\":\"mesh3d\"}],\"parcoords\":[{\"line\":{\"colorbar\":{\"outlinewidth\":0,\"ticks\":\"\"}},\"type\":\"parcoords\"}],\"pie\":[{\"automargin\":true,\"type\":\"pie\"}],\"scatter3d\":[{\"line\":{\"colorbar\":{\"outlinewidth\":0,\"ticks\":\"\"}},\"marker\":{\"colorbar\":{\"outlinewidth\":0,\"ticks\":\"\"}},\"type\":\"scatter3d\"}],\"scattercarpet\":[{\"marker\":{\"colorbar\":{\"outlinewidth\":0,\"ticks\":\"\"}},\"type\":\"scattercarpet\"}],\"scattergeo\":[{\"marker\":{\"colorbar\":{\"outlinewidth\":0,\"ticks\":\"\"}},\"type\":\"scattergeo\"}],\"scattergl\":[{\"marker\":{\"line\":{\"color\":\"#283442\"}},\"type\":\"scattergl\"}],\"scattermapbox\":[{\"marker\":{\"colorbar\":{\"outlinewidth\":0,\"ticks\":\"\"}},\"type\":\"scattermapbox\"}],\"scatterpolargl\":[{\"marker\":{\"colorbar\":{\"outlinewidth\":0,\"ticks\":\"\"}},\"type\":\"scatterpolargl\"}],\"scatterpolar\":[{\"marker\":{\"colorbar\":{\"outlinewidth\":0,\"ticks\":\"\"}},\"type\":\"scatterpolar\"}],\"scatter\":[{\"marker\":{\"line\":{\"color\":\"#283442\"}},\"type\":\"scatter\"}],\"scatterternary\":[{\"marker\":{\"colorbar\":{\"outlinewidth\":0,\"ticks\":\"\"}},\"type\":\"scatterternary\"}],\"surface\":[{\"colorbar\":{\"outlinewidth\":0,\"ticks\":\"\"},\"colorscale\":[[0.0,\"#0d0887\"],[0.1111111111111111,\"#46039f\"],[0.2222222222222222,\"#7201a8\"],[0.3333333333333333,\"#9c179e\"],[0.4444444444444444,\"#bd3786\"],[0.5555555555555556,\"#d8576b\"],[0.6666666666666666,\"#ed7953\"],[0.7777777777777778,\"#fb9f3a\"],[0.8888888888888888,\"#fdca26\"],[1.0,\"#f0f921\"]],\"type\":\"surface\"}],\"table\":[{\"cells\":{\"fill\":{\"color\":\"#506784\"},\"line\":{\"color\":\"rgb(17,17,17)\"}},\"header\":{\"fill\":{\"color\":\"#2a3f5f\"},\"line\":{\"color\":\"rgb(17,17,17)\"}},\"type\":\"table\"}]},\"layout\":{\"annotationdefaults\":{\"arrowcolor\":\"#f2f5fa\",\"arrowhead\":0,\"arrowwidth\":1},\"autotypenumbers\":\"strict\",\"coloraxis\":{\"colorbar\":{\"outlinewidth\":0,\"ticks\":\"\"}},\"colorscale\":{\"diverging\":[[0,\"#8e0152\"],[0.1,\"#c51b7d\"],[0.2,\"#de77ae\"],[0.3,\"#f1b6da\"],[0.4,\"#fde0ef\"],[0.5,\"#f7f7f7\"],[0.6,\"#e6f5d0\"],[0.7,\"#b8e186\"],[0.8,\"#7fbc41\"],[0.9,\"#4d9221\"],[1,\"#276419\"]],\"sequential\":[[0.0,\"#0d0887\"],[0.1111111111111111,\"#46039f\"],[0.2222222222222222,\"#7201a8\"],[0.3333333333333333,\"#9c179e\"],[0.4444444444444444,\"#bd3786\"],[0.5555555555555556,\"#d8576b\"],[0.6666666666666666,\"#ed7953\"],[0.7777777777777778,\"#fb9f3a\"],[0.8888888888888888,\"#fdca26\"],[1.0,\"#f0f921\"]],\"sequentialminus\":[[0.0,\"#0d0887\"],[0.1111111111111111,\"#46039f\"],[0.2222222222222222,\"#7201a8\"],[0.3333333333333333,\"#9c179e\"],[0.4444444444444444,\"#bd3786\"],[0.5555555555555556,\"#d8576b\"],[0.6666666666666666,\"#ed7953\"],[0.7777777777777778,\"#fb9f3a\"],[0.8888888888888888,\"#fdca26\"],[1.0,\"#f0f921\"]]},\"colorway\":[\"#636efa\",\"#EF553B\",\"#00cc96\",\"#ab63fa\",\"#FFA15A\",\"#19d3f3\",\"#FF6692\",\"#B6E880\",\"#FF97FF\",\"#FECB52\"],\"font\":{\"color\":\"#f2f5fa\"},\"geo\":{\"bgcolor\":\"rgb(17,17,17)\",\"lakecolor\":\"rgb(17,17,17)\",\"landcolor\":\"rgb(17,17,17)\",\"showlakes\":true,\"showland\":true,\"subunitcolor\":\"#506784\"},\"hoverlabel\":{\"align\":\"left\"},\"hovermode\":\"closest\",\"mapbox\":{\"style\":\"dark\"},\"paper_bgcolor\":\"rgb(17,17,17)\",\"plot_bgcolor\":\"rgb(17,17,17)\",\"polar\":{\"angularaxis\":{\"gridcolor\":\"#506784\",\"linecolor\":\"#506784\",\"ticks\":\"\"},\"bgcolor\":\"rgb(17,17,17)\",\"radialaxis\":{\"gridcolor\":\"#506784\",\"linecolor\":\"#506784\",\"ticks\":\"\"}},\"scene\":{\"xaxis\":{\"backgroundcolor\":\"rgb(17,17,17)\",\"gridcolor\":\"#506784\",\"gridwidth\":2,\"linecolor\":\"#506784\",\"showbackground\":true,\"ticks\":\"\",\"zerolinecolor\":\"#C8D4E3\"},\"yaxis\":{\"backgroundcolor\":\"rgb(17,17,17)\",\"gridcolor\":\"#506784\",\"gridwidth\":2,\"linecolor\":\"#506784\",\"showbackground\":true,\"ticks\":\"\",\"zerolinecolor\":\"#C8D4E3\"},\"zaxis\":{\"backgroundcolor\":\"rgb(17,17,17)\",\"gridcolor\":\"#506784\",\"gridwidth\":2,\"linecolor\":\"#506784\",\"showbackground\":true,\"ticks\":\"\",\"zerolinecolor\":\"#C8D4E3\"}},\"shapedefaults\":{\"line\":{\"color\":\"#f2f5fa\"}},\"sliderdefaults\":{\"bgcolor\":\"#C8D4E3\",\"bordercolor\":\"rgb(17,17,17)\",\"borderwidth\":1,\"tickwidth\":0},\"ternary\":{\"aaxis\":{\"gridcolor\":\"#506784\",\"linecolor\":\"#506784\",\"ticks\":\"\"},\"baxis\":{\"gridcolor\":\"#506784\",\"linecolor\":\"#506784\",\"ticks\":\"\"},\"bgcolor\":\"rgb(17,17,17)\",\"caxis\":{\"gridcolor\":\"#506784\",\"linecolor\":\"#506784\",\"ticks\":\"\"}},\"title\":{\"x\":0.05},\"updatemenudefaults\":{\"bgcolor\":\"#506784\",\"borderwidth\":0},\"xaxis\":{\"automargin\":true,\"gridcolor\":\"#283442\",\"linecolor\":\"#506784\",\"ticks\":\"\",\"title\":{\"standoff\":15},\"zerolinecolor\":\"#283442\",\"zerolinewidth\":2},\"yaxis\":{\"automargin\":true,\"gridcolor\":\"#283442\",\"linecolor\":\"#506784\",\"ticks\":\"\",\"title\":{\"standoff\":15},\"zerolinecolor\":\"#283442\",\"zerolinewidth\":2}}},\"xaxis\":{\"anchor\":\"y\",\"domain\":[0.0,1.0],\"title\":{\"text\":\"Album Name\"},\"categoryorder\":\"array\",\"categoryarray\":[\"Pablo Honey\",\"The Bends\",\"OK Computer\",\"Kid A\",\"Amnesiac\",\"Hail To the Thief\",\"In Rainbows\",\"The King Of Limbs\",\"A Moon Shaped Pool\"]},\"yaxis\":{\"anchor\":\"x\",\"domain\":[0.0,1.0],\"title\":{\"text\":\"Mean Percentage of Sad Lyrics\"}},\"legend\":{\"title\":{\"text\":\"Album Name\"},\"tracegroupgap\":0},\"title\":{\"text\":\"\\u003cb\\u003eRadiohead Albums by Mean Percentage of Sad Lyrics\\u003c\\u002fb\\u003e \\u003cbr\\u003e \\\"The Bends\\\" and \\\"The King Of Limbs\\\" have the most amount of sad lyrics in them.\"},\"barmode\":\"relative\",\"annotations\":[{\"align\":\"left\",\"showarrow\":false,\"text\":\"Data Source: \\u003ca href=\\u201dhttps:\\u002f\\u002fwww.kaggle.com\\u002fdatasets\\u002flavagod\\u002fradiohead\\u002fversions\\u002f1?resource=download\\u201d\\u003eRadiohead Data\\u003c\\u002fa\\u003e \\u003cbr\\u003eViz: \\u003ca href=\\u201dhttps:\\u002f\\u002ftwitter.com\\u002f_prospecttheory\\u201d\\u003e@_prospecttheory\\u003c\\u002fa\\u003e \\u003cbr\\u003e \\u003cbr\\u003e \\u003cbr\\u003e \\u003cbr\\u003e \\u003cbr\\u003e\",\"x\":-0.07,\"xref\":\"paper\",\"y\":-0.7,\"yref\":\"paper\"}]},                        {\"responsive\": true}                    ).then(function(){\n",
       "                            \n",
       "var gd = document.getElementById('ed5ef503-0c40-47ac-a17c-4feaea812984');\n",
       "var x = new MutationObserver(function (mutations, observer) {{\n",
       "        var display = window.getComputedStyle(gd).display;\n",
       "        if (!display || display === 'none') {{\n",
       "            console.log([gd, 'removed!']);\n",
       "            Plotly.purge(gd);\n",
       "            observer.disconnect();\n",
       "        }}\n",
       "}});\n",
       "\n",
       "// Listen for the removal of the full notebook cells\n",
       "var notebookContainer = gd.closest('#notebook-container');\n",
       "if (notebookContainer) {{\n",
       "    x.observe(notebookContainer, {childList: true});\n",
       "}}\n",
       "\n",
       "// Listen for the clearing of the current output cell\n",
       "var outputEl = gd.closest('.output');\n",
       "if (outputEl) {{\n",
       "    x.observe(outputEl, {childList: true});\n",
       "}}\n",
       "\n",
       "                        })                };                });            </script>        </div>"
      ]
     },
     "metadata": {},
     "output_type": "display_data"
    }
   ],
   "source": [
    "#Plot Relative Sadness\n",
    "fig = px.bar(df_radiohead_soft_facts, x = 'album_name',y= 'mean_pct_sad', color = 'album_name',\n",
    "            labels={'album_name':'Album Name', 'mean_pct_sad':'Mean Percentage of Sad Lyrics'},\n",
    "            title= '<b>Radiohead Albums by Mean Percentage of Sad Lyrics</b> <br> \"The Bends\" and \"The King Of Limbs\" have the most amount of sad lyrics in them.',\n",
    "            template='plotly_dark')\n",
    "\n",
    "#Add Signature\n",
    "fig.add_annotation(text='Data Source: <a href=”https://www.kaggle.com/datasets/lavagod/radiohead/versions/1?resource=download”>Radiohead Data</a> <br>Viz: <a href=”https://twitter.com/_prospecttheory”>@_prospecttheory</a> <br> <br> <br> <br> <br>', \n",
    "                    align='left',\n",
    "                    showarrow=False,\n",
    "                    xref='paper',\n",
    "                    yref='paper',\n",
    "                    x= -0.07,\n",
    "                    y= -0.7)\n",
    "\n",
    "fig.show()"
   ]
  },
  {
   "cell_type": "markdown",
   "id": "5c9736d2",
   "metadata": {},
   "source": [
    "This is an interesting result. 'The King of Limbs' provides the most cheerful musical approach, but offers the most sad words in its lyrics at the same time. Kind of balancing out in terms of tonal approach. The same is true for 'The Bends' to a lesser extent. 'A Moon Shaped Pool' however seems to stay true to itself. It combines rather negative musical tone with sad lyrics."
   ]
  },
  {
   "cell_type": "markdown",
   "id": "c3570237",
   "metadata": {},
   "source": [
    "### Soft facts #3 - Album Sad Lyrics - Absolute\n",
    "\n",
    "\n",
    "And yet, we need to keep in mind here that this is only a relative approach. We can also look at this from an absolute angle and ask the question, which album posted the most total sad words in their lyrics (also taking lyrical density into account)."
   ]
  },
  {
   "cell_type": "code",
   "execution_count": 366,
   "id": "7a97cbc6",
   "metadata": {},
   "outputs": [
    {
     "data": {
      "application/vnd.plotly.v1+json": {
       "config": {
        "plotlyServerURL": "https://plot.ly"
       },
       "data": [
        {
         "alignmentgroup": "True",
         "hovertemplate": "Album Name=%{x}<br>Total Amount of Sad Words=%{y}<extra></extra>",
         "legendgroup": "Pablo Honey",
         "marker": {
          "color": "#636efa",
          "pattern": {
           "shape": ""
          }
         },
         "name": "Pablo Honey",
         "offsetgroup": "Pablo Honey",
         "orientation": "v",
         "showlegend": true,
         "textposition": "auto",
         "type": "bar",
         "x": [
          "Pablo Honey"
         ],
         "xaxis": "x",
         "y": [
          16
         ],
         "yaxis": "y"
        },
        {
         "alignmentgroup": "True",
         "hovertemplate": "Album Name=%{x}<br>Total Amount of Sad Words=%{y}<extra></extra>",
         "legendgroup": "The Bends",
         "marker": {
          "color": "#EF553B",
          "pattern": {
           "shape": ""
          }
         },
         "name": "The Bends",
         "offsetgroup": "The Bends",
         "orientation": "v",
         "showlegend": true,
         "textposition": "auto",
         "type": "bar",
         "x": [
          "The Bends"
         ],
         "xaxis": "x",
         "y": [
          56
         ],
         "yaxis": "y"
        },
        {
         "alignmentgroup": "True",
         "hovertemplate": "Album Name=%{x}<br>Total Amount of Sad Words=%{y}<extra></extra>",
         "legendgroup": "OK Computer",
         "marker": {
          "color": "#00cc96",
          "pattern": {
           "shape": ""
          }
         },
         "name": "OK Computer",
         "offsetgroup": "OK Computer",
         "orientation": "v",
         "showlegend": true,
         "textposition": "auto",
         "type": "bar",
         "x": [
          "OK Computer"
         ],
         "xaxis": "x",
         "y": [
          52
         ],
         "yaxis": "y"
        },
        {
         "alignmentgroup": "True",
         "hovertemplate": "Album Name=%{x}<br>Total Amount of Sad Words=%{y}<extra></extra>",
         "legendgroup": "Kid A",
         "marker": {
          "color": "#ab63fa",
          "pattern": {
           "shape": ""
          }
         },
         "name": "Kid A",
         "offsetgroup": "Kid A",
         "orientation": "v",
         "showlegend": true,
         "textposition": "auto",
         "type": "bar",
         "x": [
          "Kid A"
         ],
         "xaxis": "x",
         "y": [
          10
         ],
         "yaxis": "y"
        },
        {
         "alignmentgroup": "True",
         "hovertemplate": "Album Name=%{x}<br>Total Amount of Sad Words=%{y}<extra></extra>",
         "legendgroup": "Amnesiac",
         "marker": {
          "color": "#FFA15A",
          "pattern": {
           "shape": ""
          }
         },
         "name": "Amnesiac",
         "offsetgroup": "Amnesiac",
         "orientation": "v",
         "showlegend": true,
         "textposition": "auto",
         "type": "bar",
         "x": [
          "Amnesiac"
         ],
         "xaxis": "x",
         "y": [
          21
         ],
         "yaxis": "y"
        },
        {
         "alignmentgroup": "True",
         "hovertemplate": "Album Name=%{x}<br>Total Amount of Sad Words=%{y}<extra></extra>",
         "legendgroup": "Hail To the Thief",
         "marker": {
          "color": "#19d3f3",
          "pattern": {
           "shape": ""
          }
         },
         "name": "Hail To the Thief",
         "offsetgroup": "Hail To the Thief",
         "orientation": "v",
         "showlegend": true,
         "textposition": "auto",
         "type": "bar",
         "x": [
          "Hail To the Thief"
         ],
         "xaxis": "x",
         "y": [
          50
         ],
         "yaxis": "y"
        },
        {
         "alignmentgroup": "True",
         "hovertemplate": "Album Name=%{x}<br>Total Amount of Sad Words=%{y}<extra></extra>",
         "legendgroup": "In Rainbows",
         "marker": {
          "color": "#FF6692",
          "pattern": {
           "shape": ""
          }
         },
         "name": "In Rainbows",
         "offsetgroup": "In Rainbows",
         "orientation": "v",
         "showlegend": true,
         "textposition": "auto",
         "type": "bar",
         "x": [
          "In Rainbows"
         ],
         "xaxis": "x",
         "y": [
          24
         ],
         "yaxis": "y"
        },
        {
         "alignmentgroup": "True",
         "hovertemplate": "Album Name=%{x}<br>Total Amount of Sad Words=%{y}<extra></extra>",
         "legendgroup": "The King Of Limbs",
         "marker": {
          "color": "#B6E880",
          "pattern": {
           "shape": ""
          }
         },
         "name": "The King Of Limbs",
         "offsetgroup": "The King Of Limbs",
         "orientation": "v",
         "showlegend": true,
         "textposition": "auto",
         "type": "bar",
         "x": [
          "The King Of Limbs"
         ],
         "xaxis": "x",
         "y": [
          42
         ],
         "yaxis": "y"
        },
        {
         "alignmentgroup": "True",
         "hovertemplate": "Album Name=%{x}<br>Total Amount of Sad Words=%{y}<extra></extra>",
         "legendgroup": "A Moon Shaped Pool",
         "marker": {
          "color": "#FF97FF",
          "pattern": {
           "shape": ""
          }
         },
         "name": "A Moon Shaped Pool",
         "offsetgroup": "A Moon Shaped Pool",
         "orientation": "v",
         "showlegend": true,
         "textposition": "auto",
         "type": "bar",
         "x": [
          "A Moon Shaped Pool"
         ],
         "xaxis": "x",
         "y": [
          50
         ],
         "yaxis": "y"
        }
       ],
       "layout": {
        "annotations": [
         {
          "align": "left",
          "showarrow": false,
          "text": "Data Source: <a href=”https://www.kaggle.com/datasets/lavagod/radiohead/versions/1?resource=download”>Radiohead Data</a> <br>Viz: <a href=”https://twitter.com/_prospecttheory”>@_prospecttheory</a> <br> <br> <br> <br> <br>",
          "x": -0.055,
          "xref": "paper",
          "y": -0.7,
          "yref": "paper"
         }
        ],
        "barmode": "relative",
        "legend": {
         "title": {
          "text": "Album Name"
         },
         "tracegroupgap": 0
        },
        "template": {
         "data": {
          "bar": [
           {
            "error_x": {
             "color": "#f2f5fa"
            },
            "error_y": {
             "color": "#f2f5fa"
            },
            "marker": {
             "line": {
              "color": "rgb(17,17,17)",
              "width": 0.5
             },
             "pattern": {
              "fillmode": "overlay",
              "size": 10,
              "solidity": 0.2
             }
            },
            "type": "bar"
           }
          ],
          "barpolar": [
           {
            "marker": {
             "line": {
              "color": "rgb(17,17,17)",
              "width": 0.5
             },
             "pattern": {
              "fillmode": "overlay",
              "size": 10,
              "solidity": 0.2
             }
            },
            "type": "barpolar"
           }
          ],
          "carpet": [
           {
            "aaxis": {
             "endlinecolor": "#A2B1C6",
             "gridcolor": "#506784",
             "linecolor": "#506784",
             "minorgridcolor": "#506784",
             "startlinecolor": "#A2B1C6"
            },
            "baxis": {
             "endlinecolor": "#A2B1C6",
             "gridcolor": "#506784",
             "linecolor": "#506784",
             "minorgridcolor": "#506784",
             "startlinecolor": "#A2B1C6"
            },
            "type": "carpet"
           }
          ],
          "choropleth": [
           {
            "colorbar": {
             "outlinewidth": 0,
             "ticks": ""
            },
            "type": "choropleth"
           }
          ],
          "contour": [
           {
            "colorbar": {
             "outlinewidth": 0,
             "ticks": ""
            },
            "colorscale": [
             [
              0,
              "#0d0887"
             ],
             [
              0.1111111111111111,
              "#46039f"
             ],
             [
              0.2222222222222222,
              "#7201a8"
             ],
             [
              0.3333333333333333,
              "#9c179e"
             ],
             [
              0.4444444444444444,
              "#bd3786"
             ],
             [
              0.5555555555555556,
              "#d8576b"
             ],
             [
              0.6666666666666666,
              "#ed7953"
             ],
             [
              0.7777777777777778,
              "#fb9f3a"
             ],
             [
              0.8888888888888888,
              "#fdca26"
             ],
             [
              1,
              "#f0f921"
             ]
            ],
            "type": "contour"
           }
          ],
          "contourcarpet": [
           {
            "colorbar": {
             "outlinewidth": 0,
             "ticks": ""
            },
            "type": "contourcarpet"
           }
          ],
          "heatmap": [
           {
            "colorbar": {
             "outlinewidth": 0,
             "ticks": ""
            },
            "colorscale": [
             [
              0,
              "#0d0887"
             ],
             [
              0.1111111111111111,
              "#46039f"
             ],
             [
              0.2222222222222222,
              "#7201a8"
             ],
             [
              0.3333333333333333,
              "#9c179e"
             ],
             [
              0.4444444444444444,
              "#bd3786"
             ],
             [
              0.5555555555555556,
              "#d8576b"
             ],
             [
              0.6666666666666666,
              "#ed7953"
             ],
             [
              0.7777777777777778,
              "#fb9f3a"
             ],
             [
              0.8888888888888888,
              "#fdca26"
             ],
             [
              1,
              "#f0f921"
             ]
            ],
            "type": "heatmap"
           }
          ],
          "heatmapgl": [
           {
            "colorbar": {
             "outlinewidth": 0,
             "ticks": ""
            },
            "colorscale": [
             [
              0,
              "#0d0887"
             ],
             [
              0.1111111111111111,
              "#46039f"
             ],
             [
              0.2222222222222222,
              "#7201a8"
             ],
             [
              0.3333333333333333,
              "#9c179e"
             ],
             [
              0.4444444444444444,
              "#bd3786"
             ],
             [
              0.5555555555555556,
              "#d8576b"
             ],
             [
              0.6666666666666666,
              "#ed7953"
             ],
             [
              0.7777777777777778,
              "#fb9f3a"
             ],
             [
              0.8888888888888888,
              "#fdca26"
             ],
             [
              1,
              "#f0f921"
             ]
            ],
            "type": "heatmapgl"
           }
          ],
          "histogram": [
           {
            "marker": {
             "pattern": {
              "fillmode": "overlay",
              "size": 10,
              "solidity": 0.2
             }
            },
            "type": "histogram"
           }
          ],
          "histogram2d": [
           {
            "colorbar": {
             "outlinewidth": 0,
             "ticks": ""
            },
            "colorscale": [
             [
              0,
              "#0d0887"
             ],
             [
              0.1111111111111111,
              "#46039f"
             ],
             [
              0.2222222222222222,
              "#7201a8"
             ],
             [
              0.3333333333333333,
              "#9c179e"
             ],
             [
              0.4444444444444444,
              "#bd3786"
             ],
             [
              0.5555555555555556,
              "#d8576b"
             ],
             [
              0.6666666666666666,
              "#ed7953"
             ],
             [
              0.7777777777777778,
              "#fb9f3a"
             ],
             [
              0.8888888888888888,
              "#fdca26"
             ],
             [
              1,
              "#f0f921"
             ]
            ],
            "type": "histogram2d"
           }
          ],
          "histogram2dcontour": [
           {
            "colorbar": {
             "outlinewidth": 0,
             "ticks": ""
            },
            "colorscale": [
             [
              0,
              "#0d0887"
             ],
             [
              0.1111111111111111,
              "#46039f"
             ],
             [
              0.2222222222222222,
              "#7201a8"
             ],
             [
              0.3333333333333333,
              "#9c179e"
             ],
             [
              0.4444444444444444,
              "#bd3786"
             ],
             [
              0.5555555555555556,
              "#d8576b"
             ],
             [
              0.6666666666666666,
              "#ed7953"
             ],
             [
              0.7777777777777778,
              "#fb9f3a"
             ],
             [
              0.8888888888888888,
              "#fdca26"
             ],
             [
              1,
              "#f0f921"
             ]
            ],
            "type": "histogram2dcontour"
           }
          ],
          "mesh3d": [
           {
            "colorbar": {
             "outlinewidth": 0,
             "ticks": ""
            },
            "type": "mesh3d"
           }
          ],
          "parcoords": [
           {
            "line": {
             "colorbar": {
              "outlinewidth": 0,
              "ticks": ""
             }
            },
            "type": "parcoords"
           }
          ],
          "pie": [
           {
            "automargin": true,
            "type": "pie"
           }
          ],
          "scatter": [
           {
            "marker": {
             "line": {
              "color": "#283442"
             }
            },
            "type": "scatter"
           }
          ],
          "scatter3d": [
           {
            "line": {
             "colorbar": {
              "outlinewidth": 0,
              "ticks": ""
             }
            },
            "marker": {
             "colorbar": {
              "outlinewidth": 0,
              "ticks": ""
             }
            },
            "type": "scatter3d"
           }
          ],
          "scattercarpet": [
           {
            "marker": {
             "colorbar": {
              "outlinewidth": 0,
              "ticks": ""
             }
            },
            "type": "scattercarpet"
           }
          ],
          "scattergeo": [
           {
            "marker": {
             "colorbar": {
              "outlinewidth": 0,
              "ticks": ""
             }
            },
            "type": "scattergeo"
           }
          ],
          "scattergl": [
           {
            "marker": {
             "line": {
              "color": "#283442"
             }
            },
            "type": "scattergl"
           }
          ],
          "scattermapbox": [
           {
            "marker": {
             "colorbar": {
              "outlinewidth": 0,
              "ticks": ""
             }
            },
            "type": "scattermapbox"
           }
          ],
          "scatterpolar": [
           {
            "marker": {
             "colorbar": {
              "outlinewidth": 0,
              "ticks": ""
             }
            },
            "type": "scatterpolar"
           }
          ],
          "scatterpolargl": [
           {
            "marker": {
             "colorbar": {
              "outlinewidth": 0,
              "ticks": ""
             }
            },
            "type": "scatterpolargl"
           }
          ],
          "scatterternary": [
           {
            "marker": {
             "colorbar": {
              "outlinewidth": 0,
              "ticks": ""
             }
            },
            "type": "scatterternary"
           }
          ],
          "surface": [
           {
            "colorbar": {
             "outlinewidth": 0,
             "ticks": ""
            },
            "colorscale": [
             [
              0,
              "#0d0887"
             ],
             [
              0.1111111111111111,
              "#46039f"
             ],
             [
              0.2222222222222222,
              "#7201a8"
             ],
             [
              0.3333333333333333,
              "#9c179e"
             ],
             [
              0.4444444444444444,
              "#bd3786"
             ],
             [
              0.5555555555555556,
              "#d8576b"
             ],
             [
              0.6666666666666666,
              "#ed7953"
             ],
             [
              0.7777777777777778,
              "#fb9f3a"
             ],
             [
              0.8888888888888888,
              "#fdca26"
             ],
             [
              1,
              "#f0f921"
             ]
            ],
            "type": "surface"
           }
          ],
          "table": [
           {
            "cells": {
             "fill": {
              "color": "#506784"
             },
             "line": {
              "color": "rgb(17,17,17)"
             }
            },
            "header": {
             "fill": {
              "color": "#2a3f5f"
             },
             "line": {
              "color": "rgb(17,17,17)"
             }
            },
            "type": "table"
           }
          ]
         },
         "layout": {
          "annotationdefaults": {
           "arrowcolor": "#f2f5fa",
           "arrowhead": 0,
           "arrowwidth": 1
          },
          "autotypenumbers": "strict",
          "coloraxis": {
           "colorbar": {
            "outlinewidth": 0,
            "ticks": ""
           }
          },
          "colorscale": {
           "diverging": [
            [
             0,
             "#8e0152"
            ],
            [
             0.1,
             "#c51b7d"
            ],
            [
             0.2,
             "#de77ae"
            ],
            [
             0.3,
             "#f1b6da"
            ],
            [
             0.4,
             "#fde0ef"
            ],
            [
             0.5,
             "#f7f7f7"
            ],
            [
             0.6,
             "#e6f5d0"
            ],
            [
             0.7,
             "#b8e186"
            ],
            [
             0.8,
             "#7fbc41"
            ],
            [
             0.9,
             "#4d9221"
            ],
            [
             1,
             "#276419"
            ]
           ],
           "sequential": [
            [
             0,
             "#0d0887"
            ],
            [
             0.1111111111111111,
             "#46039f"
            ],
            [
             0.2222222222222222,
             "#7201a8"
            ],
            [
             0.3333333333333333,
             "#9c179e"
            ],
            [
             0.4444444444444444,
             "#bd3786"
            ],
            [
             0.5555555555555556,
             "#d8576b"
            ],
            [
             0.6666666666666666,
             "#ed7953"
            ],
            [
             0.7777777777777778,
             "#fb9f3a"
            ],
            [
             0.8888888888888888,
             "#fdca26"
            ],
            [
             1,
             "#f0f921"
            ]
           ],
           "sequentialminus": [
            [
             0,
             "#0d0887"
            ],
            [
             0.1111111111111111,
             "#46039f"
            ],
            [
             0.2222222222222222,
             "#7201a8"
            ],
            [
             0.3333333333333333,
             "#9c179e"
            ],
            [
             0.4444444444444444,
             "#bd3786"
            ],
            [
             0.5555555555555556,
             "#d8576b"
            ],
            [
             0.6666666666666666,
             "#ed7953"
            ],
            [
             0.7777777777777778,
             "#fb9f3a"
            ],
            [
             0.8888888888888888,
             "#fdca26"
            ],
            [
             1,
             "#f0f921"
            ]
           ]
          },
          "colorway": [
           "#636efa",
           "#EF553B",
           "#00cc96",
           "#ab63fa",
           "#FFA15A",
           "#19d3f3",
           "#FF6692",
           "#B6E880",
           "#FF97FF",
           "#FECB52"
          ],
          "font": {
           "color": "#f2f5fa"
          },
          "geo": {
           "bgcolor": "rgb(17,17,17)",
           "lakecolor": "rgb(17,17,17)",
           "landcolor": "rgb(17,17,17)",
           "showlakes": true,
           "showland": true,
           "subunitcolor": "#506784"
          },
          "hoverlabel": {
           "align": "left"
          },
          "hovermode": "closest",
          "mapbox": {
           "style": "dark"
          },
          "paper_bgcolor": "rgb(17,17,17)",
          "plot_bgcolor": "rgb(17,17,17)",
          "polar": {
           "angularaxis": {
            "gridcolor": "#506784",
            "linecolor": "#506784",
            "ticks": ""
           },
           "bgcolor": "rgb(17,17,17)",
           "radialaxis": {
            "gridcolor": "#506784",
            "linecolor": "#506784",
            "ticks": ""
           }
          },
          "scene": {
           "xaxis": {
            "backgroundcolor": "rgb(17,17,17)",
            "gridcolor": "#506784",
            "gridwidth": 2,
            "linecolor": "#506784",
            "showbackground": true,
            "ticks": "",
            "zerolinecolor": "#C8D4E3"
           },
           "yaxis": {
            "backgroundcolor": "rgb(17,17,17)",
            "gridcolor": "#506784",
            "gridwidth": 2,
            "linecolor": "#506784",
            "showbackground": true,
            "ticks": "",
            "zerolinecolor": "#C8D4E3"
           },
           "zaxis": {
            "backgroundcolor": "rgb(17,17,17)",
            "gridcolor": "#506784",
            "gridwidth": 2,
            "linecolor": "#506784",
            "showbackground": true,
            "ticks": "",
            "zerolinecolor": "#C8D4E3"
           }
          },
          "shapedefaults": {
           "line": {
            "color": "#f2f5fa"
           }
          },
          "sliderdefaults": {
           "bgcolor": "#C8D4E3",
           "bordercolor": "rgb(17,17,17)",
           "borderwidth": 1,
           "tickwidth": 0
          },
          "ternary": {
           "aaxis": {
            "gridcolor": "#506784",
            "linecolor": "#506784",
            "ticks": ""
           },
           "baxis": {
            "gridcolor": "#506784",
            "linecolor": "#506784",
            "ticks": ""
           },
           "bgcolor": "rgb(17,17,17)",
           "caxis": {
            "gridcolor": "#506784",
            "linecolor": "#506784",
            "ticks": ""
           }
          },
          "title": {
           "x": 0.05
          },
          "updatemenudefaults": {
           "bgcolor": "#506784",
           "borderwidth": 0
          },
          "xaxis": {
           "automargin": true,
           "gridcolor": "#283442",
           "linecolor": "#506784",
           "ticks": "",
           "title": {
            "standoff": 15
           },
           "zerolinecolor": "#283442",
           "zerolinewidth": 2
          },
          "yaxis": {
           "automargin": true,
           "gridcolor": "#283442",
           "linecolor": "#506784",
           "ticks": "",
           "title": {
            "standoff": 15
           },
           "zerolinecolor": "#283442",
           "zerolinewidth": 2
          }
         }
        },
        "title": {
         "text": "<b>Radiohead Albums by Total Amount of Sad Lyrics</b> <br> \"The Bends\" is still on top, but \"Hail To the Thief\" makes a huge jump due to its lyrical density."
        },
        "xaxis": {
         "anchor": "y",
         "categoryarray": [
          "Pablo Honey",
          "The Bends",
          "OK Computer",
          "Kid A",
          "Amnesiac",
          "Hail To the Thief",
          "In Rainbows",
          "The King Of Limbs",
          "A Moon Shaped Pool"
         ],
         "categoryorder": "array",
         "domain": [
          0,
          1
         ],
         "title": {
          "text": "Album Name"
         }
        },
        "yaxis": {
         "anchor": "x",
         "domain": [
          0,
          1
         ],
         "title": {
          "text": "Total Amount of Sad Words"
         }
        }
       }
      },
      "text/html": [
       "<div>                            <div id=\"5947c73c-ef82-4541-a352-118aca36de8e\" class=\"plotly-graph-div\" style=\"height:525px; width:100%;\"></div>            <script type=\"text/javascript\">                require([\"plotly\"], function(Plotly) {                    window.PLOTLYENV=window.PLOTLYENV || {};                                    if (document.getElementById(\"5947c73c-ef82-4541-a352-118aca36de8e\")) {                    Plotly.newPlot(                        \"5947c73c-ef82-4541-a352-118aca36de8e\",                        [{\"alignmentgroup\":\"True\",\"hovertemplate\":\"Album Name=%{x}\\u003cbr\\u003eTotal Amount of Sad Words=%{y}\\u003cextra\\u003e\\u003c\\u002fextra\\u003e\",\"legendgroup\":\"Pablo Honey\",\"marker\":{\"color\":\"#636efa\",\"pattern\":{\"shape\":\"\"}},\"name\":\"Pablo Honey\",\"offsetgroup\":\"Pablo Honey\",\"orientation\":\"v\",\"showlegend\":true,\"textposition\":\"auto\",\"x\":[\"Pablo Honey\"],\"xaxis\":\"x\",\"y\":[16.0],\"yaxis\":\"y\",\"type\":\"bar\"},{\"alignmentgroup\":\"True\",\"hovertemplate\":\"Album Name=%{x}\\u003cbr\\u003eTotal Amount of Sad Words=%{y}\\u003cextra\\u003e\\u003c\\u002fextra\\u003e\",\"legendgroup\":\"The Bends\",\"marker\":{\"color\":\"#EF553B\",\"pattern\":{\"shape\":\"\"}},\"name\":\"The Bends\",\"offsetgroup\":\"The Bends\",\"orientation\":\"v\",\"showlegend\":true,\"textposition\":\"auto\",\"x\":[\"The Bends\"],\"xaxis\":\"x\",\"y\":[56.0],\"yaxis\":\"y\",\"type\":\"bar\"},{\"alignmentgroup\":\"True\",\"hovertemplate\":\"Album Name=%{x}\\u003cbr\\u003eTotal Amount of Sad Words=%{y}\\u003cextra\\u003e\\u003c\\u002fextra\\u003e\",\"legendgroup\":\"OK Computer\",\"marker\":{\"color\":\"#00cc96\",\"pattern\":{\"shape\":\"\"}},\"name\":\"OK Computer\",\"offsetgroup\":\"OK Computer\",\"orientation\":\"v\",\"showlegend\":true,\"textposition\":\"auto\",\"x\":[\"OK Computer\"],\"xaxis\":\"x\",\"y\":[52.0],\"yaxis\":\"y\",\"type\":\"bar\"},{\"alignmentgroup\":\"True\",\"hovertemplate\":\"Album Name=%{x}\\u003cbr\\u003eTotal Amount of Sad Words=%{y}\\u003cextra\\u003e\\u003c\\u002fextra\\u003e\",\"legendgroup\":\"Kid A\",\"marker\":{\"color\":\"#ab63fa\",\"pattern\":{\"shape\":\"\"}},\"name\":\"Kid A\",\"offsetgroup\":\"Kid A\",\"orientation\":\"v\",\"showlegend\":true,\"textposition\":\"auto\",\"x\":[\"Kid A\"],\"xaxis\":\"x\",\"y\":[10.0],\"yaxis\":\"y\",\"type\":\"bar\"},{\"alignmentgroup\":\"True\",\"hovertemplate\":\"Album Name=%{x}\\u003cbr\\u003eTotal Amount of Sad Words=%{y}\\u003cextra\\u003e\\u003c\\u002fextra\\u003e\",\"legendgroup\":\"Amnesiac\",\"marker\":{\"color\":\"#FFA15A\",\"pattern\":{\"shape\":\"\"}},\"name\":\"Amnesiac\",\"offsetgroup\":\"Amnesiac\",\"orientation\":\"v\",\"showlegend\":true,\"textposition\":\"auto\",\"x\":[\"Amnesiac\"],\"xaxis\":\"x\",\"y\":[21.0],\"yaxis\":\"y\",\"type\":\"bar\"},{\"alignmentgroup\":\"True\",\"hovertemplate\":\"Album Name=%{x}\\u003cbr\\u003eTotal Amount of Sad Words=%{y}\\u003cextra\\u003e\\u003c\\u002fextra\\u003e\",\"legendgroup\":\"Hail To the Thief\",\"marker\":{\"color\":\"#19d3f3\",\"pattern\":{\"shape\":\"\"}},\"name\":\"Hail To the Thief\",\"offsetgroup\":\"Hail To the Thief\",\"orientation\":\"v\",\"showlegend\":true,\"textposition\":\"auto\",\"x\":[\"Hail To the Thief\"],\"xaxis\":\"x\",\"y\":[50.0],\"yaxis\":\"y\",\"type\":\"bar\"},{\"alignmentgroup\":\"True\",\"hovertemplate\":\"Album Name=%{x}\\u003cbr\\u003eTotal Amount of Sad Words=%{y}\\u003cextra\\u003e\\u003c\\u002fextra\\u003e\",\"legendgroup\":\"In Rainbows\",\"marker\":{\"color\":\"#FF6692\",\"pattern\":{\"shape\":\"\"}},\"name\":\"In Rainbows\",\"offsetgroup\":\"In Rainbows\",\"orientation\":\"v\",\"showlegend\":true,\"textposition\":\"auto\",\"x\":[\"In Rainbows\"],\"xaxis\":\"x\",\"y\":[24.0],\"yaxis\":\"y\",\"type\":\"bar\"},{\"alignmentgroup\":\"True\",\"hovertemplate\":\"Album Name=%{x}\\u003cbr\\u003eTotal Amount of Sad Words=%{y}\\u003cextra\\u003e\\u003c\\u002fextra\\u003e\",\"legendgroup\":\"The King Of Limbs\",\"marker\":{\"color\":\"#B6E880\",\"pattern\":{\"shape\":\"\"}},\"name\":\"The King Of Limbs\",\"offsetgroup\":\"The King Of Limbs\",\"orientation\":\"v\",\"showlegend\":true,\"textposition\":\"auto\",\"x\":[\"The King Of Limbs\"],\"xaxis\":\"x\",\"y\":[42.0],\"yaxis\":\"y\",\"type\":\"bar\"},{\"alignmentgroup\":\"True\",\"hovertemplate\":\"Album Name=%{x}\\u003cbr\\u003eTotal Amount of Sad Words=%{y}\\u003cextra\\u003e\\u003c\\u002fextra\\u003e\",\"legendgroup\":\"A Moon Shaped Pool\",\"marker\":{\"color\":\"#FF97FF\",\"pattern\":{\"shape\":\"\"}},\"name\":\"A Moon Shaped Pool\",\"offsetgroup\":\"A Moon Shaped Pool\",\"orientation\":\"v\",\"showlegend\":true,\"textposition\":\"auto\",\"x\":[\"A Moon Shaped Pool\"],\"xaxis\":\"x\",\"y\":[50.0],\"yaxis\":\"y\",\"type\":\"bar\"}],                        {\"template\":{\"data\":{\"barpolar\":[{\"marker\":{\"line\":{\"color\":\"rgb(17,17,17)\",\"width\":0.5},\"pattern\":{\"fillmode\":\"overlay\",\"size\":10,\"solidity\":0.2}},\"type\":\"barpolar\"}],\"bar\":[{\"error_x\":{\"color\":\"#f2f5fa\"},\"error_y\":{\"color\":\"#f2f5fa\"},\"marker\":{\"line\":{\"color\":\"rgb(17,17,17)\",\"width\":0.5},\"pattern\":{\"fillmode\":\"overlay\",\"size\":10,\"solidity\":0.2}},\"type\":\"bar\"}],\"carpet\":[{\"aaxis\":{\"endlinecolor\":\"#A2B1C6\",\"gridcolor\":\"#506784\",\"linecolor\":\"#506784\",\"minorgridcolor\":\"#506784\",\"startlinecolor\":\"#A2B1C6\"},\"baxis\":{\"endlinecolor\":\"#A2B1C6\",\"gridcolor\":\"#506784\",\"linecolor\":\"#506784\",\"minorgridcolor\":\"#506784\",\"startlinecolor\":\"#A2B1C6\"},\"type\":\"carpet\"}],\"choropleth\":[{\"colorbar\":{\"outlinewidth\":0,\"ticks\":\"\"},\"type\":\"choropleth\"}],\"contourcarpet\":[{\"colorbar\":{\"outlinewidth\":0,\"ticks\":\"\"},\"type\":\"contourcarpet\"}],\"contour\":[{\"colorbar\":{\"outlinewidth\":0,\"ticks\":\"\"},\"colorscale\":[[0.0,\"#0d0887\"],[0.1111111111111111,\"#46039f\"],[0.2222222222222222,\"#7201a8\"],[0.3333333333333333,\"#9c179e\"],[0.4444444444444444,\"#bd3786\"],[0.5555555555555556,\"#d8576b\"],[0.6666666666666666,\"#ed7953\"],[0.7777777777777778,\"#fb9f3a\"],[0.8888888888888888,\"#fdca26\"],[1.0,\"#f0f921\"]],\"type\":\"contour\"}],\"heatmapgl\":[{\"colorbar\":{\"outlinewidth\":0,\"ticks\":\"\"},\"colorscale\":[[0.0,\"#0d0887\"],[0.1111111111111111,\"#46039f\"],[0.2222222222222222,\"#7201a8\"],[0.3333333333333333,\"#9c179e\"],[0.4444444444444444,\"#bd3786\"],[0.5555555555555556,\"#d8576b\"],[0.6666666666666666,\"#ed7953\"],[0.7777777777777778,\"#fb9f3a\"],[0.8888888888888888,\"#fdca26\"],[1.0,\"#f0f921\"]],\"type\":\"heatmapgl\"}],\"heatmap\":[{\"colorbar\":{\"outlinewidth\":0,\"ticks\":\"\"},\"colorscale\":[[0.0,\"#0d0887\"],[0.1111111111111111,\"#46039f\"],[0.2222222222222222,\"#7201a8\"],[0.3333333333333333,\"#9c179e\"],[0.4444444444444444,\"#bd3786\"],[0.5555555555555556,\"#d8576b\"],[0.6666666666666666,\"#ed7953\"],[0.7777777777777778,\"#fb9f3a\"],[0.8888888888888888,\"#fdca26\"],[1.0,\"#f0f921\"]],\"type\":\"heatmap\"}],\"histogram2dcontour\":[{\"colorbar\":{\"outlinewidth\":0,\"ticks\":\"\"},\"colorscale\":[[0.0,\"#0d0887\"],[0.1111111111111111,\"#46039f\"],[0.2222222222222222,\"#7201a8\"],[0.3333333333333333,\"#9c179e\"],[0.4444444444444444,\"#bd3786\"],[0.5555555555555556,\"#d8576b\"],[0.6666666666666666,\"#ed7953\"],[0.7777777777777778,\"#fb9f3a\"],[0.8888888888888888,\"#fdca26\"],[1.0,\"#f0f921\"]],\"type\":\"histogram2dcontour\"}],\"histogram2d\":[{\"colorbar\":{\"outlinewidth\":0,\"ticks\":\"\"},\"colorscale\":[[0.0,\"#0d0887\"],[0.1111111111111111,\"#46039f\"],[0.2222222222222222,\"#7201a8\"],[0.3333333333333333,\"#9c179e\"],[0.4444444444444444,\"#bd3786\"],[0.5555555555555556,\"#d8576b\"],[0.6666666666666666,\"#ed7953\"],[0.7777777777777778,\"#fb9f3a\"],[0.8888888888888888,\"#fdca26\"],[1.0,\"#f0f921\"]],\"type\":\"histogram2d\"}],\"histogram\":[{\"marker\":{\"pattern\":{\"fillmode\":\"overlay\",\"size\":10,\"solidity\":0.2}},\"type\":\"histogram\"}],\"mesh3d\":[{\"colorbar\":{\"outlinewidth\":0,\"ticks\":\"\"},\"type\":\"mesh3d\"}],\"parcoords\":[{\"line\":{\"colorbar\":{\"outlinewidth\":0,\"ticks\":\"\"}},\"type\":\"parcoords\"}],\"pie\":[{\"automargin\":true,\"type\":\"pie\"}],\"scatter3d\":[{\"line\":{\"colorbar\":{\"outlinewidth\":0,\"ticks\":\"\"}},\"marker\":{\"colorbar\":{\"outlinewidth\":0,\"ticks\":\"\"}},\"type\":\"scatter3d\"}],\"scattercarpet\":[{\"marker\":{\"colorbar\":{\"outlinewidth\":0,\"ticks\":\"\"}},\"type\":\"scattercarpet\"}],\"scattergeo\":[{\"marker\":{\"colorbar\":{\"outlinewidth\":0,\"ticks\":\"\"}},\"type\":\"scattergeo\"}],\"scattergl\":[{\"marker\":{\"line\":{\"color\":\"#283442\"}},\"type\":\"scattergl\"}],\"scattermapbox\":[{\"marker\":{\"colorbar\":{\"outlinewidth\":0,\"ticks\":\"\"}},\"type\":\"scattermapbox\"}],\"scatterpolargl\":[{\"marker\":{\"colorbar\":{\"outlinewidth\":0,\"ticks\":\"\"}},\"type\":\"scatterpolargl\"}],\"scatterpolar\":[{\"marker\":{\"colorbar\":{\"outlinewidth\":0,\"ticks\":\"\"}},\"type\":\"scatterpolar\"}],\"scatter\":[{\"marker\":{\"line\":{\"color\":\"#283442\"}},\"type\":\"scatter\"}],\"scatterternary\":[{\"marker\":{\"colorbar\":{\"outlinewidth\":0,\"ticks\":\"\"}},\"type\":\"scatterternary\"}],\"surface\":[{\"colorbar\":{\"outlinewidth\":0,\"ticks\":\"\"},\"colorscale\":[[0.0,\"#0d0887\"],[0.1111111111111111,\"#46039f\"],[0.2222222222222222,\"#7201a8\"],[0.3333333333333333,\"#9c179e\"],[0.4444444444444444,\"#bd3786\"],[0.5555555555555556,\"#d8576b\"],[0.6666666666666666,\"#ed7953\"],[0.7777777777777778,\"#fb9f3a\"],[0.8888888888888888,\"#fdca26\"],[1.0,\"#f0f921\"]],\"type\":\"surface\"}],\"table\":[{\"cells\":{\"fill\":{\"color\":\"#506784\"},\"line\":{\"color\":\"rgb(17,17,17)\"}},\"header\":{\"fill\":{\"color\":\"#2a3f5f\"},\"line\":{\"color\":\"rgb(17,17,17)\"}},\"type\":\"table\"}]},\"layout\":{\"annotationdefaults\":{\"arrowcolor\":\"#f2f5fa\",\"arrowhead\":0,\"arrowwidth\":1},\"autotypenumbers\":\"strict\",\"coloraxis\":{\"colorbar\":{\"outlinewidth\":0,\"ticks\":\"\"}},\"colorscale\":{\"diverging\":[[0,\"#8e0152\"],[0.1,\"#c51b7d\"],[0.2,\"#de77ae\"],[0.3,\"#f1b6da\"],[0.4,\"#fde0ef\"],[0.5,\"#f7f7f7\"],[0.6,\"#e6f5d0\"],[0.7,\"#b8e186\"],[0.8,\"#7fbc41\"],[0.9,\"#4d9221\"],[1,\"#276419\"]],\"sequential\":[[0.0,\"#0d0887\"],[0.1111111111111111,\"#46039f\"],[0.2222222222222222,\"#7201a8\"],[0.3333333333333333,\"#9c179e\"],[0.4444444444444444,\"#bd3786\"],[0.5555555555555556,\"#d8576b\"],[0.6666666666666666,\"#ed7953\"],[0.7777777777777778,\"#fb9f3a\"],[0.8888888888888888,\"#fdca26\"],[1.0,\"#f0f921\"]],\"sequentialminus\":[[0.0,\"#0d0887\"],[0.1111111111111111,\"#46039f\"],[0.2222222222222222,\"#7201a8\"],[0.3333333333333333,\"#9c179e\"],[0.4444444444444444,\"#bd3786\"],[0.5555555555555556,\"#d8576b\"],[0.6666666666666666,\"#ed7953\"],[0.7777777777777778,\"#fb9f3a\"],[0.8888888888888888,\"#fdca26\"],[1.0,\"#f0f921\"]]},\"colorway\":[\"#636efa\",\"#EF553B\",\"#00cc96\",\"#ab63fa\",\"#FFA15A\",\"#19d3f3\",\"#FF6692\",\"#B6E880\",\"#FF97FF\",\"#FECB52\"],\"font\":{\"color\":\"#f2f5fa\"},\"geo\":{\"bgcolor\":\"rgb(17,17,17)\",\"lakecolor\":\"rgb(17,17,17)\",\"landcolor\":\"rgb(17,17,17)\",\"showlakes\":true,\"showland\":true,\"subunitcolor\":\"#506784\"},\"hoverlabel\":{\"align\":\"left\"},\"hovermode\":\"closest\",\"mapbox\":{\"style\":\"dark\"},\"paper_bgcolor\":\"rgb(17,17,17)\",\"plot_bgcolor\":\"rgb(17,17,17)\",\"polar\":{\"angularaxis\":{\"gridcolor\":\"#506784\",\"linecolor\":\"#506784\",\"ticks\":\"\"},\"bgcolor\":\"rgb(17,17,17)\",\"radialaxis\":{\"gridcolor\":\"#506784\",\"linecolor\":\"#506784\",\"ticks\":\"\"}},\"scene\":{\"xaxis\":{\"backgroundcolor\":\"rgb(17,17,17)\",\"gridcolor\":\"#506784\",\"gridwidth\":2,\"linecolor\":\"#506784\",\"showbackground\":true,\"ticks\":\"\",\"zerolinecolor\":\"#C8D4E3\"},\"yaxis\":{\"backgroundcolor\":\"rgb(17,17,17)\",\"gridcolor\":\"#506784\",\"gridwidth\":2,\"linecolor\":\"#506784\",\"showbackground\":true,\"ticks\":\"\",\"zerolinecolor\":\"#C8D4E3\"},\"zaxis\":{\"backgroundcolor\":\"rgb(17,17,17)\",\"gridcolor\":\"#506784\",\"gridwidth\":2,\"linecolor\":\"#506784\",\"showbackground\":true,\"ticks\":\"\",\"zerolinecolor\":\"#C8D4E3\"}},\"shapedefaults\":{\"line\":{\"color\":\"#f2f5fa\"}},\"sliderdefaults\":{\"bgcolor\":\"#C8D4E3\",\"bordercolor\":\"rgb(17,17,17)\",\"borderwidth\":1,\"tickwidth\":0},\"ternary\":{\"aaxis\":{\"gridcolor\":\"#506784\",\"linecolor\":\"#506784\",\"ticks\":\"\"},\"baxis\":{\"gridcolor\":\"#506784\",\"linecolor\":\"#506784\",\"ticks\":\"\"},\"bgcolor\":\"rgb(17,17,17)\",\"caxis\":{\"gridcolor\":\"#506784\",\"linecolor\":\"#506784\",\"ticks\":\"\"}},\"title\":{\"x\":0.05},\"updatemenudefaults\":{\"bgcolor\":\"#506784\",\"borderwidth\":0},\"xaxis\":{\"automargin\":true,\"gridcolor\":\"#283442\",\"linecolor\":\"#506784\",\"ticks\":\"\",\"title\":{\"standoff\":15},\"zerolinecolor\":\"#283442\",\"zerolinewidth\":2},\"yaxis\":{\"automargin\":true,\"gridcolor\":\"#283442\",\"linecolor\":\"#506784\",\"ticks\":\"\",\"title\":{\"standoff\":15},\"zerolinecolor\":\"#283442\",\"zerolinewidth\":2}}},\"xaxis\":{\"anchor\":\"y\",\"domain\":[0.0,1.0],\"title\":{\"text\":\"Album Name\"},\"categoryorder\":\"array\",\"categoryarray\":[\"Pablo Honey\",\"The Bends\",\"OK Computer\",\"Kid A\",\"Amnesiac\",\"Hail To the Thief\",\"In Rainbows\",\"The King Of Limbs\",\"A Moon Shaped Pool\"]},\"yaxis\":{\"anchor\":\"x\",\"domain\":[0.0,1.0],\"title\":{\"text\":\"Total Amount of Sad Words\"}},\"legend\":{\"title\":{\"text\":\"Album Name\"},\"tracegroupgap\":0},\"title\":{\"text\":\"\\u003cb\\u003eRadiohead Albums by Total Amount of Sad Lyrics\\u003c\\u002fb\\u003e \\u003cbr\\u003e \\\"The Bends\\\" is still on top, but \\\"Hail To the Thief\\\" makes a huge jump due to its lyrical density.\"},\"barmode\":\"relative\",\"annotations\":[{\"align\":\"left\",\"showarrow\":false,\"text\":\"Data Source: \\u003ca href=\\u201dhttps:\\u002f\\u002fwww.kaggle.com\\u002fdatasets\\u002flavagod\\u002fradiohead\\u002fversions\\u002f1?resource=download\\u201d\\u003eRadiohead Data\\u003c\\u002fa\\u003e \\u003cbr\\u003eViz: \\u003ca href=\\u201dhttps:\\u002f\\u002ftwitter.com\\u002f_prospecttheory\\u201d\\u003e@_prospecttheory\\u003c\\u002fa\\u003e \\u003cbr\\u003e \\u003cbr\\u003e \\u003cbr\\u003e \\u003cbr\\u003e \\u003cbr\\u003e\",\"x\":-0.055,\"xref\":\"paper\",\"y\":-0.7,\"yref\":\"paper\"}]},                        {\"responsive\": true}                    ).then(function(){\n",
       "                            \n",
       "var gd = document.getElementById('5947c73c-ef82-4541-a352-118aca36de8e');\n",
       "var x = new MutationObserver(function (mutations, observer) {{\n",
       "        var display = window.getComputedStyle(gd).display;\n",
       "        if (!display || display === 'none') {{\n",
       "            console.log([gd, 'removed!']);\n",
       "            Plotly.purge(gd);\n",
       "            observer.disconnect();\n",
       "        }}\n",
       "}});\n",
       "\n",
       "// Listen for the removal of the full notebook cells\n",
       "var notebookContainer = gd.closest('#notebook-container');\n",
       "if (notebookContainer) {{\n",
       "    x.observe(notebookContainer, {childList: true});\n",
       "}}\n",
       "\n",
       "// Listen for the clearing of the current output cell\n",
       "var outputEl = gd.closest('.output');\n",
       "if (outputEl) {{\n",
       "    x.observe(outputEl, {childList: true});\n",
       "}}\n",
       "\n",
       "                        })                };                });            </script>        </div>"
      ]
     },
     "metadata": {},
     "output_type": "display_data"
    }
   ],
   "source": [
    "#Plot Absolute Sadness\n",
    "fig = px.bar(df_radiohead_soft_facts, x = 'album_name',y= 'total_sad_words', color = 'album_name',\n",
    "            labels={'album_name':'Album Name', 'total_sad_words':'Total Amount of Sad Words'},\n",
    "            title= '<b>Radiohead Albums by Total Amount of Sad Lyrics</b> <br> \"The Bends\" is still on top, but \"Hail To the Thief\" makes a huge jump due to its lyrical density.',\n",
    "            template='plotly_dark')\n",
    "\n",
    "#Add Signature\n",
    "fig.add_annotation(text='Data Source: <a href=”https://www.kaggle.com/datasets/lavagod/radiohead/versions/1?resource=download”>Radiohead Data</a> <br>Viz: <a href=”https://twitter.com/_prospecttheory”>@_prospecttheory</a> <br> <br> <br> <br> <br>', \n",
    "                    align='left',\n",
    "                    showarrow=False,\n",
    "                    xref='paper',\n",
    "                    yref='paper',\n",
    "                    x= -0.055,\n",
    "                    y= -0.7)\n",
    "\n",
    "fig.show()"
   ]
  },
  {
   "cell_type": "markdown",
   "id": "5dee1942",
   "metadata": {},
   "source": [
    "'The Bends' and 'OK Computer' both stay on top of the list here. 'A Moon Shaped Pool' also holds its own. However, 'The King Of Limbs' slides a bit, since it is Radiohead's shortest album with the least amount of words sung. 14 track 'monster release' 'Hail To the Thief' takes a huge leap in the other direction for the same reason, looking at the albums from an absolute perspective. A larger amount of songs and lyrics simply offers more opportunities to use sad words."
   ]
  },
  {
   "cell_type": "markdown",
   "id": "599f1907",
   "metadata": {},
   "source": [
    "## Can we possibly combine these soft approaches to quantify the most melancholy record?\n",
    "\n",
    "### The Triangulation of Sadness\n",
    "\n",
    "As we have seen, to determine the sadness or negativeness of a track we can look at it from a musical and lyrical perspective. And there it makes sense to differentiate between relative and absolute apporaches. But what if we want to combine the three concepts of valence, percentage of sad words and lyrical density?\n",
    "\n",
    "We can try to do this graphically and put all songs in a ternary plot:\n"
   ]
  },
  {
   "cell_type": "code",
   "execution_count": 367,
   "id": "56d5e9ec",
   "metadata": {},
   "outputs": [
    {
     "data": {
      "application/vnd.plotly.v1+json": {
       "config": {
        "plotlyServerURL": "https://plot.ly"
       },
       "data": [
        {
         "a": [
          0,
          0.0784,
          0.0952,
          0.0435,
          0,
          0,
          0.05,
          0.0392,
          0.0286,
          0.1538,
          0,
          0.0256
         ],
         "b": [
          0.0910541676450996,
          0.21371102916527,
          0.158882676492173,
          0.141265926965516,
          0.241436734289588,
          0.238751147842057,
          0.21082257698977,
          0.264705424385079,
          0.24075997606158,
          0.0513645181810639,
          0.0425833169210133,
          0.13826502214013
         ],
         "c": [
          0.305,
          0.096,
          0.264,
          0.279,
          0.419,
          0.544,
          0.258,
          0.399,
          0.278,
          0.269,
          0.389,
          0.287
         ],
         "hovertemplate": "<b>%{hovertext}</b><br><br>Album Name=Pablo Honey<br>Percentage of Sad Words=%{a}<br>Lyrical Density=%{b}<br>Valence=%{c}<extra></extra>",
         "hovertext": [
          "You",
          "Creep",
          "How Do You?",
          "Stop Whispering",
          "Thinking About You",
          "Anyone Can Play Guitar",
          "Ripcord",
          "Vegetable",
          "Prove Yourself",
          "I Can't",
          "Lurgee",
          "Blow Out"
         ],
         "legendgroup": "Pablo Honey",
         "marker": {
          "color": "#636efa",
          "symbol": "circle"
         },
         "mode": "markers",
         "name": "Pablo Honey",
         "showlegend": true,
         "subplot": "ternary",
         "type": "scatterternary"
        },
        {
         "a": [
          0.2,
          0.0253,
          0.3571,
          0.06,
          0.0541,
          0,
          0.1176,
          0.0641,
          0.0667,
          0.15,
          0.0213,
          0.0465
         ],
         "b": [
          0.115740740740741,
          0.320877335499594,
          0.21749262078608,
          0.171994482417004,
          0.195767195767196,
          0.227246416581271,
          0.144804088586031,
          0.282172146715046,
          0.143724279342509,
          0.242875647668394,
          0.210800143523502,
          0.169389371013933
         ],
         "c": [
          0.272,
          0.315,
          0.36,
          0.127,
          0.431,
          0.382,
          0.372,
          0.643,
          0.0781,
          0.28,
          0.618,
          0.133
         ],
         "hovertemplate": "<b>%{hovertext}</b><br><br>Album Name=The Bends<br>Percentage of Sad Words=%{a}<br>Lyrical Density=%{b}<br>Valence=%{c}<extra></extra>",
         "hovertext": [
          "Planet Telex",
          "The Bends",
          "High And Dry",
          "Fake Plastic Trees",
          "Bones",
          "(Nice Dream)",
          "Just",
          "My Iron Lung",
          "Bullet Proof ... I Wish I Was",
          "Black Star",
          "Sulk",
          "Street Spirit (Fade Out)"
         ],
         "legendgroup": "The Bends",
         "marker": {
          "color": "#EF553B",
          "symbol": "circle"
         },
         "mode": "markers",
         "name": "The Bends",
         "showlegend": true,
         "subplot": "ternary",
         "type": "scatterternary"
        },
        {
         "a": [
          0,
          0,
          0.0323,
          0.2326,
          0.1875,
          0.2195,
          0.0744,
          0.0645,
          0.0682,
          0.0426,
          0.0488,
          0.037
         ],
         "b": [
          0.138946783381965,
          0.147205801458112,
          0.23160859641455,
          0.160935973681354,
          0.213646681799973,
          0.155263626276665,
          1.03125292969582,
          0.134416178504685,
          0.154277699859748,
          0.205132681564246,
          0.158415535541105,
          0.0826868953520777
         ],
         "c": [
          0.642,
          0.202,
          0.337,
          0.183,
          0.131,
          0.311,
          0.728,
          0.328,
          0.211,
          0.126,
          0.195,
          0.04
         ],
         "hovertemplate": "<b>%{hovertext}</b><br><br>Album Name=OK Computer<br>Percentage of Sad Words=%{a}<br>Lyrical Density=%{b}<br>Valence=%{c}<extra></extra>",
         "hovertext": [
          "Airbag",
          "Paranoid Android",
          "Subterranean Homesick Alien",
          "Exit Music (For a Film)",
          "Let Down",
          "Karma Police",
          "Fitter Happier",
          "Electioneering",
          "Climbing Up the Walls",
          "No Surprises",
          "Lucky",
          "The Tourist"
         ],
         "legendgroup": "OK Computer",
         "marker": {
          "color": "#00cc96",
          "symbol": "circle"
         },
         "mode": "markers",
         "name": "OK Computer",
         "showlegend": true,
         "subplot": "ternary",
         "type": "scatterternary"
        },
        {
         "a": [
          0,
          0.0323,
          0,
          0,
          0,
          0.0263,
          0.0492,
          0,
          0.0159,
          0.1667,
          0
         ],
         "b": [
          0.107387034805331,
          0.108960412221843,
          0.0227471118276451,
          0.0505145467862926,
          0,
          0.120263440230653,
          0.289099526066351,
          0.268527595254503,
          0.228426395939086,
          0.119710898180893,
          0
         ],
         "c": [
          0.0585,
          0.159,
          0.385,
          0.202,
          0.0585,
          0.572,
          0.49,
          0.539,
          0.39,
          0.0425,
          0.0782
         ],
         "hovertemplate": "<b>%{hovertext}</b><br><br>Album Name=Kid A<br>Percentage of Sad Words=%{a}<br>Lyrical Density=%{b}<br>Valence=%{c}<extra></extra>",
         "hovertext": [
          "Everything In Its Right Place",
          "Kid A",
          "The National Anthem",
          "How To Disappear Completely",
          "Treefingers",
          "Optimistic",
          "In Limbo",
          "Idioteque",
          "Morning Bell",
          "Motion Picture Soundtrack",
          "Untitled"
         ],
         "legendgroup": "Kid A",
         "marker": {
          "color": "#ab63fa",
          "symbol": "circle"
         },
         "mode": "markers",
         "name": "Kid A",
         "showlegend": true,
         "subplot": "ternary",
         "type": "scatterternary"
        },
        {
         "a": [
          0,
          0.1364,
          0,
          0.0345,
          0,
          0,
          0,
          0.1358,
          0,
          0,
          0.0625
         ],
         "b": [
          0.0790569751136964,
          0.152389924255281,
          0.0768400150444661,
          0.151832460732984,
          0.0544638207051022,
          0.117708451859205,
          0.236787514091431,
          0.27765113991218,
          0,
          0.092644451650124,
          0.173477464193167
         ],
         "c": [
          0.636,
          0.0655,
          0.135,
          0.131,
          0.507,
          0.181,
          0.218,
          0.0943,
          0.0779,
          0.21,
          0.0516
         ],
         "hovertemplate": "<b>%{hovertext}</b><br><br>Album Name=Amnesiac<br>Percentage of Sad Words=%{a}<br>Lyrical Density=%{b}<br>Valence=%{c}<extra></extra>",
         "hovertext": [
          "Packt Like Sardines In a Crushed Tin Box",
          "Pyramid Song",
          "Pulk/Pull Revolving Doors",
          "You And Whose Army?",
          "I Might Be Wrong",
          "Knives Out",
          "Morning Bell/Amnesiac",
          "Dollars & Cents",
          "Hunting Bears",
          "Like Spinning Plates",
          "Life In a Glasshouse"
         ],
         "legendgroup": "Amnesiac",
         "marker": {
          "color": "#FFA15A",
          "symbol": "circle"
         },
         "mode": "markers",
         "name": "Amnesiac",
         "showlegend": true,
         "subplot": "ternary",
         "type": "scatterternary"
        },
        {
         "a": [
          0.0676,
          0.0159,
          0,
          0.2955,
          0,
          0.0128,
          0.0968,
          0.0526,
          0.1591,
          0.0345,
          0.1842,
          0.0274,
          0.0278,
          0.0336
         ],
         "b": [
          0.371187800963082,
          0.484665715285818,
          0.0774113639882335,
          0.136391816491011,
          0.183616450048882,
          0.289647335801525,
          0.104480177414082,
          0.358444915034406,
          0.135970333745365,
          0.242744858412783,
          0.127802833859679,
          0.31393393625851,
          0.178476701353944,
          0.591060581226128
         ],
         "c": [
          0.365,
          0.528,
          0.0458,
          0.724,
          0.654,
          0.473,
          0.0378,
          0.115,
          0.726,
          0.17,
          0.551,
          0.56,
          0.231,
          0.363
         ],
         "hovertemplate": "<b>%{hovertext}</b><br><br>Album Name=Hail To the Thief<br>Percentage of Sad Words=%{a}<br>Lyrical Density=%{b}<br>Valence=%{c}<extra></extra>",
         "hovertext": [
          "2 + 2 = 5",
          "Sit Down. Stand Up",
          "Sail To The Moon",
          "Backdrifts",
          "Go To Sleep",
          "Where I End and You Begin",
          "We Suck Young Blood",
          "The Gloaming",
          "There, There",
          "I Will",
          "A Punch Up At a Wedding",
          "Myxomatosis",
          "Scatterbrain",
          "A Wolf At the Door"
         ],
         "legendgroup": "Hail To the Thief",
         "marker": {
          "color": "#19d3f3",
          "symbol": "circle"
         },
         "mode": "markers",
         "name": "Hail To the Thief",
         "showlegend": true,
         "subplot": "ternary",
         "type": "scatterternary"
        },
        {
         "a": [
          0,
          0,
          0.1053,
          0.1458,
          0,
          0.0172,
          0.0417,
          0.0566,
          0.1077,
          0.1071
         ],
         "b": [
          0.160139574281584,
          0.214616187838691,
          0.0743968956916366,
          0.150854686080827,
          0.122405976908987,
          0.447254780999383,
          0.0826978805222371,
          0.161441151654163,
          0.261156400541598,
          0.100130885371593
         ],
         "c": [
          0.848,
          0.721,
          0.158,
          0.196,
          0.0931,
          0.224,
          0.214,
          0.612,
          0.818,
          0.0468
         ],
         "hovertemplate": "<b>%{hovertext}</b><br><br>Album Name=In Rainbows<br>Percentage of Sad Words=%{a}<br>Lyrical Density=%{b}<br>Valence=%{c}<extra></extra>",
         "hovertext": [
          "15 Step",
          "Bodysnatchers",
          "Nude",
          "Weird Fishes/ Arpeggi",
          "All I Need",
          "Faust Arp",
          "Reckoner",
          "House Of Cards",
          "Jigsaw Falling Into Place",
          "Videotape"
         ],
         "legendgroup": "In Rainbows",
         "marker": {
          "color": "#FF6692",
          "symbol": "circle"
         },
         "mode": "markers",
         "name": "In Rainbows",
         "showlegend": true,
         "subplot": "ternary",
         "type": "scatterternary"
        },
        {
         "a": [
          0.037,
          0,
          0.1667,
          0,
          0.0864,
          0.0667,
          0.2742,
          0.12
         ],
         "b": [
          0.0860774505771971,
          0.0569964982776371,
          0.157212693802077,
          0.025941279320131,
          0.269803043778042,
          0.0522526100178704,
          0.213743721278187,
          0.234926342760666
         ],
         "c": [
          0.325,
          0.407,
          0.602,
          0.751,
          0.603,
          0.0629,
          0.157,
          0.666
         ],
         "hovertemplate": "<b>%{hovertext}</b><br><br>Album Name=The King Of Limbs<br>Percentage of Sad Words=%{a}<br>Lyrical Density=%{b}<br>Valence=%{c}<extra></extra>",
         "hovertext": [
          "Bloom",
          "Morning Mr Magpie",
          "Little By Little",
          "Feral",
          "Lotus Flower",
          "Codex",
          "Give Up The Ghost",
          "Separator"
         ],
         "legendgroup": "The King Of Limbs",
         "marker": {
          "color": "#B6E880",
          "symbol": "circle"
         },
         "mode": "markers",
         "name": "The King Of Limbs",
         "showlegend": true,
         "subplot": "ternary",
         "type": "scatterternary"
        },
        {
         "a": [
          0.0851,
          0.038,
          0.0441,
          0,
          0,
          0,
          0.18,
          0.0455,
          0.1795,
          0.1154,
          0.2381
         ],
         "b": [
          0.213046611878935,
          0.205494239658307,
          0.241983409902103,
          0.191367969452332,
          0.223220969704559,
          0.271776842300042,
          0.375031877709605,
          0.127209175250877,
          0.127209448726438,
          0.0856139010632588,
          0.148166963000593
         ],
         "c": [
          0.625,
          0.115,
          0.258,
          0.153,
          0.179,
          0.0629,
          0.354,
          0.0545,
          0.345,
          0.0517,
          0.0378
         ],
         "hovertemplate": "<b>%{hovertext}</b><br><br>Album Name=A Moon Shaped Pool<br>Percentage of Sad Words=%{a}<br>Lyrical Density=%{b}<br>Valence=%{c}<extra></extra>",
         "hovertext": [
          "Burn the Witch",
          "Daydreaming",
          "Decks Dark",
          "Desert Island Disk",
          "Ful Stop",
          "Glass Eyes",
          "Identikit",
          "The Numbers",
          "Present Tense",
          "Tinker Tailor Soldier Sailor Rich Man Poor Man Beggar Man Thief",
          "True Love Waits"
         ],
         "legendgroup": "A Moon Shaped Pool",
         "marker": {
          "color": "#FF97FF",
          "symbol": "circle"
         },
         "mode": "markers",
         "name": "A Moon Shaped Pool",
         "showlegend": true,
         "subplot": "ternary",
         "type": "scatterternary"
        }
       ],
       "layout": {
        "annotations": [
         {
          "align": "left",
          "showarrow": false,
          "text": "Data Source: <a href=”https://www.kaggle.com/datasets/lavagod/radiohead/versions/1?resource=download”>Radiohead Data</a> <br>Viz: <a href=”https://twitter.com/_prospecttheory”>@_prospecttheory</a> <br> <br> <br> <br> <br>",
          "x": -0.025,
          "xref": "paper",
          "y": -0.5,
          "yref": "paper"
         },
         {
          "arrowhead": 1,
          "bgcolor": "white",
          "bordercolor": "White",
          "font": {
           "color": "Black"
          },
          "showarrow": true,
          "text": "'True Love Waits' - their saddest song?",
          "x": 0.425,
          "y": 0.6
         }
        ],
        "legend": {
         "title": {
          "text": "Album Name"
         },
         "tracegroupgap": 0
        },
        "template": {
         "data": {
          "bar": [
           {
            "error_x": {
             "color": "#f2f5fa"
            },
            "error_y": {
             "color": "#f2f5fa"
            },
            "marker": {
             "line": {
              "color": "rgb(17,17,17)",
              "width": 0.5
             },
             "pattern": {
              "fillmode": "overlay",
              "size": 10,
              "solidity": 0.2
             }
            },
            "type": "bar"
           }
          ],
          "barpolar": [
           {
            "marker": {
             "line": {
              "color": "rgb(17,17,17)",
              "width": 0.5
             },
             "pattern": {
              "fillmode": "overlay",
              "size": 10,
              "solidity": 0.2
             }
            },
            "type": "barpolar"
           }
          ],
          "carpet": [
           {
            "aaxis": {
             "endlinecolor": "#A2B1C6",
             "gridcolor": "#506784",
             "linecolor": "#506784",
             "minorgridcolor": "#506784",
             "startlinecolor": "#A2B1C6"
            },
            "baxis": {
             "endlinecolor": "#A2B1C6",
             "gridcolor": "#506784",
             "linecolor": "#506784",
             "minorgridcolor": "#506784",
             "startlinecolor": "#A2B1C6"
            },
            "type": "carpet"
           }
          ],
          "choropleth": [
           {
            "colorbar": {
             "outlinewidth": 0,
             "ticks": ""
            },
            "type": "choropleth"
           }
          ],
          "contour": [
           {
            "colorbar": {
             "outlinewidth": 0,
             "ticks": ""
            },
            "colorscale": [
             [
              0,
              "#0d0887"
             ],
             [
              0.1111111111111111,
              "#46039f"
             ],
             [
              0.2222222222222222,
              "#7201a8"
             ],
             [
              0.3333333333333333,
              "#9c179e"
             ],
             [
              0.4444444444444444,
              "#bd3786"
             ],
             [
              0.5555555555555556,
              "#d8576b"
             ],
             [
              0.6666666666666666,
              "#ed7953"
             ],
             [
              0.7777777777777778,
              "#fb9f3a"
             ],
             [
              0.8888888888888888,
              "#fdca26"
             ],
             [
              1,
              "#f0f921"
             ]
            ],
            "type": "contour"
           }
          ],
          "contourcarpet": [
           {
            "colorbar": {
             "outlinewidth": 0,
             "ticks": ""
            },
            "type": "contourcarpet"
           }
          ],
          "heatmap": [
           {
            "colorbar": {
             "outlinewidth": 0,
             "ticks": ""
            },
            "colorscale": [
             [
              0,
              "#0d0887"
             ],
             [
              0.1111111111111111,
              "#46039f"
             ],
             [
              0.2222222222222222,
              "#7201a8"
             ],
             [
              0.3333333333333333,
              "#9c179e"
             ],
             [
              0.4444444444444444,
              "#bd3786"
             ],
             [
              0.5555555555555556,
              "#d8576b"
             ],
             [
              0.6666666666666666,
              "#ed7953"
             ],
             [
              0.7777777777777778,
              "#fb9f3a"
             ],
             [
              0.8888888888888888,
              "#fdca26"
             ],
             [
              1,
              "#f0f921"
             ]
            ],
            "type": "heatmap"
           }
          ],
          "heatmapgl": [
           {
            "colorbar": {
             "outlinewidth": 0,
             "ticks": ""
            },
            "colorscale": [
             [
              0,
              "#0d0887"
             ],
             [
              0.1111111111111111,
              "#46039f"
             ],
             [
              0.2222222222222222,
              "#7201a8"
             ],
             [
              0.3333333333333333,
              "#9c179e"
             ],
             [
              0.4444444444444444,
              "#bd3786"
             ],
             [
              0.5555555555555556,
              "#d8576b"
             ],
             [
              0.6666666666666666,
              "#ed7953"
             ],
             [
              0.7777777777777778,
              "#fb9f3a"
             ],
             [
              0.8888888888888888,
              "#fdca26"
             ],
             [
              1,
              "#f0f921"
             ]
            ],
            "type": "heatmapgl"
           }
          ],
          "histogram": [
           {
            "marker": {
             "pattern": {
              "fillmode": "overlay",
              "size": 10,
              "solidity": 0.2
             }
            },
            "type": "histogram"
           }
          ],
          "histogram2d": [
           {
            "colorbar": {
             "outlinewidth": 0,
             "ticks": ""
            },
            "colorscale": [
             [
              0,
              "#0d0887"
             ],
             [
              0.1111111111111111,
              "#46039f"
             ],
             [
              0.2222222222222222,
              "#7201a8"
             ],
             [
              0.3333333333333333,
              "#9c179e"
             ],
             [
              0.4444444444444444,
              "#bd3786"
             ],
             [
              0.5555555555555556,
              "#d8576b"
             ],
             [
              0.6666666666666666,
              "#ed7953"
             ],
             [
              0.7777777777777778,
              "#fb9f3a"
             ],
             [
              0.8888888888888888,
              "#fdca26"
             ],
             [
              1,
              "#f0f921"
             ]
            ],
            "type": "histogram2d"
           }
          ],
          "histogram2dcontour": [
           {
            "colorbar": {
             "outlinewidth": 0,
             "ticks": ""
            },
            "colorscale": [
             [
              0,
              "#0d0887"
             ],
             [
              0.1111111111111111,
              "#46039f"
             ],
             [
              0.2222222222222222,
              "#7201a8"
             ],
             [
              0.3333333333333333,
              "#9c179e"
             ],
             [
              0.4444444444444444,
              "#bd3786"
             ],
             [
              0.5555555555555556,
              "#d8576b"
             ],
             [
              0.6666666666666666,
              "#ed7953"
             ],
             [
              0.7777777777777778,
              "#fb9f3a"
             ],
             [
              0.8888888888888888,
              "#fdca26"
             ],
             [
              1,
              "#f0f921"
             ]
            ],
            "type": "histogram2dcontour"
           }
          ],
          "mesh3d": [
           {
            "colorbar": {
             "outlinewidth": 0,
             "ticks": ""
            },
            "type": "mesh3d"
           }
          ],
          "parcoords": [
           {
            "line": {
             "colorbar": {
              "outlinewidth": 0,
              "ticks": ""
             }
            },
            "type": "parcoords"
           }
          ],
          "pie": [
           {
            "automargin": true,
            "type": "pie"
           }
          ],
          "scatter": [
           {
            "marker": {
             "line": {
              "color": "#283442"
             }
            },
            "type": "scatter"
           }
          ],
          "scatter3d": [
           {
            "line": {
             "colorbar": {
              "outlinewidth": 0,
              "ticks": ""
             }
            },
            "marker": {
             "colorbar": {
              "outlinewidth": 0,
              "ticks": ""
             }
            },
            "type": "scatter3d"
           }
          ],
          "scattercarpet": [
           {
            "marker": {
             "colorbar": {
              "outlinewidth": 0,
              "ticks": ""
             }
            },
            "type": "scattercarpet"
           }
          ],
          "scattergeo": [
           {
            "marker": {
             "colorbar": {
              "outlinewidth": 0,
              "ticks": ""
             }
            },
            "type": "scattergeo"
           }
          ],
          "scattergl": [
           {
            "marker": {
             "line": {
              "color": "#283442"
             }
            },
            "type": "scattergl"
           }
          ],
          "scattermapbox": [
           {
            "marker": {
             "colorbar": {
              "outlinewidth": 0,
              "ticks": ""
             }
            },
            "type": "scattermapbox"
           }
          ],
          "scatterpolar": [
           {
            "marker": {
             "colorbar": {
              "outlinewidth": 0,
              "ticks": ""
             }
            },
            "type": "scatterpolar"
           }
          ],
          "scatterpolargl": [
           {
            "marker": {
             "colorbar": {
              "outlinewidth": 0,
              "ticks": ""
             }
            },
            "type": "scatterpolargl"
           }
          ],
          "scatterternary": [
           {
            "marker": {
             "colorbar": {
              "outlinewidth": 0,
              "ticks": ""
             }
            },
            "type": "scatterternary"
           }
          ],
          "surface": [
           {
            "colorbar": {
             "outlinewidth": 0,
             "ticks": ""
            },
            "colorscale": [
             [
              0,
              "#0d0887"
             ],
             [
              0.1111111111111111,
              "#46039f"
             ],
             [
              0.2222222222222222,
              "#7201a8"
             ],
             [
              0.3333333333333333,
              "#9c179e"
             ],
             [
              0.4444444444444444,
              "#bd3786"
             ],
             [
              0.5555555555555556,
              "#d8576b"
             ],
             [
              0.6666666666666666,
              "#ed7953"
             ],
             [
              0.7777777777777778,
              "#fb9f3a"
             ],
             [
              0.8888888888888888,
              "#fdca26"
             ],
             [
              1,
              "#f0f921"
             ]
            ],
            "type": "surface"
           }
          ],
          "table": [
           {
            "cells": {
             "fill": {
              "color": "#506784"
             },
             "line": {
              "color": "rgb(17,17,17)"
             }
            },
            "header": {
             "fill": {
              "color": "#2a3f5f"
             },
             "line": {
              "color": "rgb(17,17,17)"
             }
            },
            "type": "table"
           }
          ]
         },
         "layout": {
          "annotationdefaults": {
           "arrowcolor": "#f2f5fa",
           "arrowhead": 0,
           "arrowwidth": 1
          },
          "autotypenumbers": "strict",
          "coloraxis": {
           "colorbar": {
            "outlinewidth": 0,
            "ticks": ""
           }
          },
          "colorscale": {
           "diverging": [
            [
             0,
             "#8e0152"
            ],
            [
             0.1,
             "#c51b7d"
            ],
            [
             0.2,
             "#de77ae"
            ],
            [
             0.3,
             "#f1b6da"
            ],
            [
             0.4,
             "#fde0ef"
            ],
            [
             0.5,
             "#f7f7f7"
            ],
            [
             0.6,
             "#e6f5d0"
            ],
            [
             0.7,
             "#b8e186"
            ],
            [
             0.8,
             "#7fbc41"
            ],
            [
             0.9,
             "#4d9221"
            ],
            [
             1,
             "#276419"
            ]
           ],
           "sequential": [
            [
             0,
             "#0d0887"
            ],
            [
             0.1111111111111111,
             "#46039f"
            ],
            [
             0.2222222222222222,
             "#7201a8"
            ],
            [
             0.3333333333333333,
             "#9c179e"
            ],
            [
             0.4444444444444444,
             "#bd3786"
            ],
            [
             0.5555555555555556,
             "#d8576b"
            ],
            [
             0.6666666666666666,
             "#ed7953"
            ],
            [
             0.7777777777777778,
             "#fb9f3a"
            ],
            [
             0.8888888888888888,
             "#fdca26"
            ],
            [
             1,
             "#f0f921"
            ]
           ],
           "sequentialminus": [
            [
             0,
             "#0d0887"
            ],
            [
             0.1111111111111111,
             "#46039f"
            ],
            [
             0.2222222222222222,
             "#7201a8"
            ],
            [
             0.3333333333333333,
             "#9c179e"
            ],
            [
             0.4444444444444444,
             "#bd3786"
            ],
            [
             0.5555555555555556,
             "#d8576b"
            ],
            [
             0.6666666666666666,
             "#ed7953"
            ],
            [
             0.7777777777777778,
             "#fb9f3a"
            ],
            [
             0.8888888888888888,
             "#fdca26"
            ],
            [
             1,
             "#f0f921"
            ]
           ]
          },
          "colorway": [
           "#636efa",
           "#EF553B",
           "#00cc96",
           "#ab63fa",
           "#FFA15A",
           "#19d3f3",
           "#FF6692",
           "#B6E880",
           "#FF97FF",
           "#FECB52"
          ],
          "font": {
           "color": "#f2f5fa"
          },
          "geo": {
           "bgcolor": "rgb(17,17,17)",
           "lakecolor": "rgb(17,17,17)",
           "landcolor": "rgb(17,17,17)",
           "showlakes": true,
           "showland": true,
           "subunitcolor": "#506784"
          },
          "hoverlabel": {
           "align": "left"
          },
          "hovermode": "closest",
          "mapbox": {
           "style": "dark"
          },
          "paper_bgcolor": "rgb(17,17,17)",
          "plot_bgcolor": "rgb(17,17,17)",
          "polar": {
           "angularaxis": {
            "gridcolor": "#506784",
            "linecolor": "#506784",
            "ticks": ""
           },
           "bgcolor": "rgb(17,17,17)",
           "radialaxis": {
            "gridcolor": "#506784",
            "linecolor": "#506784",
            "ticks": ""
           }
          },
          "scene": {
           "xaxis": {
            "backgroundcolor": "rgb(17,17,17)",
            "gridcolor": "#506784",
            "gridwidth": 2,
            "linecolor": "#506784",
            "showbackground": true,
            "ticks": "",
            "zerolinecolor": "#C8D4E3"
           },
           "yaxis": {
            "backgroundcolor": "rgb(17,17,17)",
            "gridcolor": "#506784",
            "gridwidth": 2,
            "linecolor": "#506784",
            "showbackground": true,
            "ticks": "",
            "zerolinecolor": "#C8D4E3"
           },
           "zaxis": {
            "backgroundcolor": "rgb(17,17,17)",
            "gridcolor": "#506784",
            "gridwidth": 2,
            "linecolor": "#506784",
            "showbackground": true,
            "ticks": "",
            "zerolinecolor": "#C8D4E3"
           }
          },
          "shapedefaults": {
           "line": {
            "color": "#f2f5fa"
           }
          },
          "sliderdefaults": {
           "bgcolor": "#C8D4E3",
           "bordercolor": "rgb(17,17,17)",
           "borderwidth": 1,
           "tickwidth": 0
          },
          "ternary": {
           "aaxis": {
            "gridcolor": "#506784",
            "linecolor": "#506784",
            "ticks": ""
           },
           "baxis": {
            "gridcolor": "#506784",
            "linecolor": "#506784",
            "ticks": ""
           },
           "bgcolor": "rgb(17,17,17)",
           "caxis": {
            "gridcolor": "#506784",
            "linecolor": "#506784",
            "ticks": ""
           }
          },
          "title": {
           "x": 0.05
          },
          "updatemenudefaults": {
           "bgcolor": "#506784",
           "borderwidth": 0
          },
          "xaxis": {
           "automargin": true,
           "gridcolor": "#283442",
           "linecolor": "#506784",
           "ticks": "",
           "title": {
            "standoff": 15
           },
           "zerolinecolor": "#283442",
           "zerolinewidth": 2
          },
          "yaxis": {
           "automargin": true,
           "gridcolor": "#283442",
           "linecolor": "#506784",
           "ticks": "",
           "title": {
            "standoff": 15
           },
           "zerolinecolor": "#283442",
           "zerolinewidth": 2
          }
         }
        },
        "ternary": {
         "aaxis": {
          "title": {
           "text": "Percentage of Sad Words"
          }
         },
         "baxis": {
          "title": {
           "text": "Lyrical Density"
          }
         },
         "caxis": {
          "title": {
           "text": "Valence"
          }
         },
         "domain": {
          "x": [
           0,
           1
          ],
          "y": [
           0,
           1
          ]
         }
        },
        "title": {
         "text": "<b>Radiohead Songs - A Triangulation of Sadness</b>"
        }
       }
      },
      "text/html": [
       "<div>                            <div id=\"d8a6b6d0-a3a5-4a7e-adf1-980def7df1a2\" class=\"plotly-graph-div\" style=\"height:525px; width:100%;\"></div>            <script type=\"text/javascript\">                require([\"plotly\"], function(Plotly) {                    window.PLOTLYENV=window.PLOTLYENV || {};                                    if (document.getElementById(\"d8a6b6d0-a3a5-4a7e-adf1-980def7df1a2\")) {                    Plotly.newPlot(                        \"d8a6b6d0-a3a5-4a7e-adf1-980def7df1a2\",                        [{\"a\":[0.0,0.0784,0.0952,0.0435,0.0,0.0,0.05,0.0392,0.0286,0.1538,0.0,0.0256],\"b\":[0.0910541676450996,0.21371102916527,0.158882676492173,0.141265926965516,0.241436734289588,0.238751147842057,0.21082257698977,0.264705424385079,0.24075997606158,0.0513645181810639,0.0425833169210133,0.13826502214013],\"c\":[0.305,0.096,0.264,0.279,0.419,0.544,0.258,0.399,0.278,0.269,0.389,0.287],\"hovertemplate\":\"\\u003cb\\u003e%{hovertext}\\u003c\\u002fb\\u003e\\u003cbr\\u003e\\u003cbr\\u003eAlbum Name=Pablo Honey\\u003cbr\\u003ePercentage of Sad Words=%{a}\\u003cbr\\u003eLyrical Density=%{b}\\u003cbr\\u003eValence=%{c}\\u003cextra\\u003e\\u003c\\u002fextra\\u003e\",\"hovertext\":[\"You\",\"Creep\",\"How Do You?\",\"Stop Whispering\",\"Thinking About You\",\"Anyone Can Play Guitar\",\"Ripcord\",\"Vegetable\",\"Prove Yourself\",\"I Can't\",\"Lurgee\",\"Blow Out\"],\"legendgroup\":\"Pablo Honey\",\"marker\":{\"color\":\"#636efa\",\"symbol\":\"circle\"},\"mode\":\"markers\",\"name\":\"Pablo Honey\",\"showlegend\":true,\"subplot\":\"ternary\",\"type\":\"scatterternary\"},{\"a\":[0.2,0.0253,0.3571,0.06,0.0541,0.0,0.1176,0.0641,0.0667,0.15,0.0213,0.0465],\"b\":[0.115740740740741,0.320877335499594,0.21749262078608,0.171994482417004,0.195767195767196,0.227246416581271,0.144804088586031,0.282172146715046,0.143724279342509,0.242875647668394,0.210800143523502,0.169389371013933],\"c\":[0.272,0.315,0.36,0.127,0.431,0.382,0.372,0.643,0.0781,0.28,0.618,0.133],\"hovertemplate\":\"\\u003cb\\u003e%{hovertext}\\u003c\\u002fb\\u003e\\u003cbr\\u003e\\u003cbr\\u003eAlbum Name=The Bends\\u003cbr\\u003ePercentage of Sad Words=%{a}\\u003cbr\\u003eLyrical Density=%{b}\\u003cbr\\u003eValence=%{c}\\u003cextra\\u003e\\u003c\\u002fextra\\u003e\",\"hovertext\":[\"Planet Telex\",\"The Bends\",\"High And Dry\",\"Fake Plastic Trees\",\"Bones\",\"(Nice Dream)\",\"Just\",\"My Iron Lung\",\"Bullet Proof ... I Wish I Was\",\"Black Star\",\"Sulk\",\"Street Spirit (Fade Out)\"],\"legendgroup\":\"The Bends\",\"marker\":{\"color\":\"#EF553B\",\"symbol\":\"circle\"},\"mode\":\"markers\",\"name\":\"The Bends\",\"showlegend\":true,\"subplot\":\"ternary\",\"type\":\"scatterternary\"},{\"a\":[0.0,0.0,0.0323,0.2326,0.1875,0.2195,0.0744,0.0645,0.0682,0.0426,0.0488,0.037],\"b\":[0.138946783381965,0.147205801458112,0.23160859641455,0.160935973681354,0.213646681799973,0.155263626276665,1.03125292969582,0.134416178504685,0.154277699859748,0.205132681564246,0.158415535541105,0.0826868953520777],\"c\":[0.642,0.202,0.337,0.183,0.131,0.311,0.728,0.328,0.211,0.126,0.195,0.04],\"hovertemplate\":\"\\u003cb\\u003e%{hovertext}\\u003c\\u002fb\\u003e\\u003cbr\\u003e\\u003cbr\\u003eAlbum Name=OK Computer\\u003cbr\\u003ePercentage of Sad Words=%{a}\\u003cbr\\u003eLyrical Density=%{b}\\u003cbr\\u003eValence=%{c}\\u003cextra\\u003e\\u003c\\u002fextra\\u003e\",\"hovertext\":[\"Airbag\",\"Paranoid Android\",\"Subterranean Homesick Alien\",\"Exit Music (For a Film)\",\"Let Down\",\"Karma Police\",\"Fitter Happier\",\"Electioneering\",\"Climbing Up the Walls\",\"No Surprises\",\"Lucky\",\"The Tourist\"],\"legendgroup\":\"OK Computer\",\"marker\":{\"color\":\"#00cc96\",\"symbol\":\"circle\"},\"mode\":\"markers\",\"name\":\"OK Computer\",\"showlegend\":true,\"subplot\":\"ternary\",\"type\":\"scatterternary\"},{\"a\":[0.0,0.0323,0.0,0.0,0.0,0.0263,0.0492,0.0,0.0159,0.1667,0.0],\"b\":[0.107387034805331,0.108960412221843,0.0227471118276451,0.0505145467862926,0.0,0.120263440230653,0.289099526066351,0.268527595254503,0.228426395939086,0.119710898180893,0.0],\"c\":[0.0585,0.159,0.385,0.202,0.0585,0.572,0.49,0.539,0.39,0.0425,0.0782],\"hovertemplate\":\"\\u003cb\\u003e%{hovertext}\\u003c\\u002fb\\u003e\\u003cbr\\u003e\\u003cbr\\u003eAlbum Name=Kid A\\u003cbr\\u003ePercentage of Sad Words=%{a}\\u003cbr\\u003eLyrical Density=%{b}\\u003cbr\\u003eValence=%{c}\\u003cextra\\u003e\\u003c\\u002fextra\\u003e\",\"hovertext\":[\"Everything In Its Right Place\",\"Kid A\",\"The National Anthem\",\"How To Disappear Completely\",\"Treefingers\",\"Optimistic\",\"In Limbo\",\"Idioteque\",\"Morning Bell\",\"Motion Picture Soundtrack\",\"Untitled\"],\"legendgroup\":\"Kid A\",\"marker\":{\"color\":\"#ab63fa\",\"symbol\":\"circle\"},\"mode\":\"markers\",\"name\":\"Kid A\",\"showlegend\":true,\"subplot\":\"ternary\",\"type\":\"scatterternary\"},{\"a\":[0.0,0.1364,0.0,0.0345,0.0,0.0,0.0,0.1358,0.0,0.0,0.0625],\"b\":[0.0790569751136964,0.152389924255281,0.0768400150444661,0.151832460732984,0.0544638207051022,0.117708451859205,0.236787514091431,0.27765113991218,0.0,0.092644451650124,0.173477464193167],\"c\":[0.636,0.0655,0.135,0.131,0.507,0.181,0.218,0.0943,0.0779,0.21,0.0516],\"hovertemplate\":\"\\u003cb\\u003e%{hovertext}\\u003c\\u002fb\\u003e\\u003cbr\\u003e\\u003cbr\\u003eAlbum Name=Amnesiac\\u003cbr\\u003ePercentage of Sad Words=%{a}\\u003cbr\\u003eLyrical Density=%{b}\\u003cbr\\u003eValence=%{c}\\u003cextra\\u003e\\u003c\\u002fextra\\u003e\",\"hovertext\":[\"Packt Like Sardines In a Crushed Tin Box\",\"Pyramid Song\",\"Pulk\\u002fPull Revolving Doors\",\"You And Whose Army?\",\"I Might Be Wrong\",\"Knives Out\",\"Morning Bell\\u002fAmnesiac\",\"Dollars & Cents\",\"Hunting Bears\",\"Like Spinning Plates\",\"Life In a Glasshouse\"],\"legendgroup\":\"Amnesiac\",\"marker\":{\"color\":\"#FFA15A\",\"symbol\":\"circle\"},\"mode\":\"markers\",\"name\":\"Amnesiac\",\"showlegend\":true,\"subplot\":\"ternary\",\"type\":\"scatterternary\"},{\"a\":[0.0676,0.0159,0.0,0.2955,0.0,0.0128,0.0968,0.0526,0.1591,0.0345,0.1842,0.0274,0.0278,0.0336],\"b\":[0.371187800963082,0.484665715285818,0.0774113639882335,0.136391816491011,0.183616450048882,0.289647335801525,0.104480177414082,0.358444915034406,0.135970333745365,0.242744858412783,0.127802833859679,0.31393393625851,0.178476701353944,0.591060581226128],\"c\":[0.365,0.528,0.0458,0.724,0.654,0.473,0.0378,0.115,0.726,0.17,0.551,0.56,0.231,0.363],\"hovertemplate\":\"\\u003cb\\u003e%{hovertext}\\u003c\\u002fb\\u003e\\u003cbr\\u003e\\u003cbr\\u003eAlbum Name=Hail To the Thief\\u003cbr\\u003ePercentage of Sad Words=%{a}\\u003cbr\\u003eLyrical Density=%{b}\\u003cbr\\u003eValence=%{c}\\u003cextra\\u003e\\u003c\\u002fextra\\u003e\",\"hovertext\":[\"2 + 2 = 5\",\"Sit Down. Stand Up\",\"Sail To The Moon\",\"Backdrifts\",\"Go To Sleep\",\"Where I End and You Begin\",\"We Suck Young Blood\",\"The Gloaming\",\"There, There\",\"I Will\",\"A Punch Up At a Wedding\",\"Myxomatosis\",\"Scatterbrain\",\"A Wolf At the Door\"],\"legendgroup\":\"Hail To the Thief\",\"marker\":{\"color\":\"#19d3f3\",\"symbol\":\"circle\"},\"mode\":\"markers\",\"name\":\"Hail To the Thief\",\"showlegend\":true,\"subplot\":\"ternary\",\"type\":\"scatterternary\"},{\"a\":[0.0,0.0,0.1053,0.1458,0.0,0.0172,0.0417,0.0566,0.1077,0.1071],\"b\":[0.160139574281584,0.214616187838691,0.0743968956916366,0.150854686080827,0.122405976908987,0.447254780999383,0.0826978805222371,0.161441151654163,0.261156400541598,0.100130885371593],\"c\":[0.848,0.721,0.158,0.196,0.0931,0.224,0.214,0.612,0.818,0.0468],\"hovertemplate\":\"\\u003cb\\u003e%{hovertext}\\u003c\\u002fb\\u003e\\u003cbr\\u003e\\u003cbr\\u003eAlbum Name=In Rainbows\\u003cbr\\u003ePercentage of Sad Words=%{a}\\u003cbr\\u003eLyrical Density=%{b}\\u003cbr\\u003eValence=%{c}\\u003cextra\\u003e\\u003c\\u002fextra\\u003e\",\"hovertext\":[\"15 Step\",\"Bodysnatchers\",\"Nude\",\"Weird Fishes\\u002f Arpeggi\",\"All I Need\",\"Faust Arp\",\"Reckoner\",\"House Of Cards\",\"Jigsaw Falling Into Place\",\"Videotape\"],\"legendgroup\":\"In Rainbows\",\"marker\":{\"color\":\"#FF6692\",\"symbol\":\"circle\"},\"mode\":\"markers\",\"name\":\"In Rainbows\",\"showlegend\":true,\"subplot\":\"ternary\",\"type\":\"scatterternary\"},{\"a\":[0.037,0.0,0.1667,0.0,0.0864,0.0667,0.2742,0.12],\"b\":[0.0860774505771971,0.0569964982776371,0.157212693802077,0.025941279320131,0.269803043778042,0.0522526100178704,0.213743721278187,0.234926342760666],\"c\":[0.325,0.407,0.602,0.751,0.603,0.0629,0.157,0.666],\"hovertemplate\":\"\\u003cb\\u003e%{hovertext}\\u003c\\u002fb\\u003e\\u003cbr\\u003e\\u003cbr\\u003eAlbum Name=The King Of Limbs\\u003cbr\\u003ePercentage of Sad Words=%{a}\\u003cbr\\u003eLyrical Density=%{b}\\u003cbr\\u003eValence=%{c}\\u003cextra\\u003e\\u003c\\u002fextra\\u003e\",\"hovertext\":[\"Bloom\",\"Morning Mr Magpie\",\"Little By Little\",\"Feral\",\"Lotus Flower\",\"Codex\",\"Give Up The Ghost\",\"Separator\"],\"legendgroup\":\"The King Of Limbs\",\"marker\":{\"color\":\"#B6E880\",\"symbol\":\"circle\"},\"mode\":\"markers\",\"name\":\"The King Of Limbs\",\"showlegend\":true,\"subplot\":\"ternary\",\"type\":\"scatterternary\"},{\"a\":[0.0851,0.038,0.0441,0.0,0.0,0.0,0.18,0.0455,0.1795,0.1154,0.2381],\"b\":[0.213046611878935,0.205494239658307,0.241983409902103,0.191367969452332,0.223220969704559,0.271776842300042,0.375031877709605,0.127209175250877,0.127209448726438,0.0856139010632588,0.148166963000593],\"c\":[0.625,0.115,0.258,0.153,0.179,0.0629,0.354,0.0545,0.345,0.0517,0.0378],\"hovertemplate\":\"\\u003cb\\u003e%{hovertext}\\u003c\\u002fb\\u003e\\u003cbr\\u003e\\u003cbr\\u003eAlbum Name=A Moon Shaped Pool\\u003cbr\\u003ePercentage of Sad Words=%{a}\\u003cbr\\u003eLyrical Density=%{b}\\u003cbr\\u003eValence=%{c}\\u003cextra\\u003e\\u003c\\u002fextra\\u003e\",\"hovertext\":[\"Burn the Witch\",\"Daydreaming\",\"Decks Dark\",\"Desert Island Disk\",\"Ful Stop\",\"Glass Eyes\",\"Identikit\",\"The Numbers\",\"Present Tense\",\"Tinker Tailor Soldier Sailor Rich Man Poor Man Beggar Man Thief\",\"True Love Waits\"],\"legendgroup\":\"A Moon Shaped Pool\",\"marker\":{\"color\":\"#FF97FF\",\"symbol\":\"circle\"},\"mode\":\"markers\",\"name\":\"A Moon Shaped Pool\",\"showlegend\":true,\"subplot\":\"ternary\",\"type\":\"scatterternary\"}],                        {\"template\":{\"data\":{\"barpolar\":[{\"marker\":{\"line\":{\"color\":\"rgb(17,17,17)\",\"width\":0.5},\"pattern\":{\"fillmode\":\"overlay\",\"size\":10,\"solidity\":0.2}},\"type\":\"barpolar\"}],\"bar\":[{\"error_x\":{\"color\":\"#f2f5fa\"},\"error_y\":{\"color\":\"#f2f5fa\"},\"marker\":{\"line\":{\"color\":\"rgb(17,17,17)\",\"width\":0.5},\"pattern\":{\"fillmode\":\"overlay\",\"size\":10,\"solidity\":0.2}},\"type\":\"bar\"}],\"carpet\":[{\"aaxis\":{\"endlinecolor\":\"#A2B1C6\",\"gridcolor\":\"#506784\",\"linecolor\":\"#506784\",\"minorgridcolor\":\"#506784\",\"startlinecolor\":\"#A2B1C6\"},\"baxis\":{\"endlinecolor\":\"#A2B1C6\",\"gridcolor\":\"#506784\",\"linecolor\":\"#506784\",\"minorgridcolor\":\"#506784\",\"startlinecolor\":\"#A2B1C6\"},\"type\":\"carpet\"}],\"choropleth\":[{\"colorbar\":{\"outlinewidth\":0,\"ticks\":\"\"},\"type\":\"choropleth\"}],\"contourcarpet\":[{\"colorbar\":{\"outlinewidth\":0,\"ticks\":\"\"},\"type\":\"contourcarpet\"}],\"contour\":[{\"colorbar\":{\"outlinewidth\":0,\"ticks\":\"\"},\"colorscale\":[[0.0,\"#0d0887\"],[0.1111111111111111,\"#46039f\"],[0.2222222222222222,\"#7201a8\"],[0.3333333333333333,\"#9c179e\"],[0.4444444444444444,\"#bd3786\"],[0.5555555555555556,\"#d8576b\"],[0.6666666666666666,\"#ed7953\"],[0.7777777777777778,\"#fb9f3a\"],[0.8888888888888888,\"#fdca26\"],[1.0,\"#f0f921\"]],\"type\":\"contour\"}],\"heatmapgl\":[{\"colorbar\":{\"outlinewidth\":0,\"ticks\":\"\"},\"colorscale\":[[0.0,\"#0d0887\"],[0.1111111111111111,\"#46039f\"],[0.2222222222222222,\"#7201a8\"],[0.3333333333333333,\"#9c179e\"],[0.4444444444444444,\"#bd3786\"],[0.5555555555555556,\"#d8576b\"],[0.6666666666666666,\"#ed7953\"],[0.7777777777777778,\"#fb9f3a\"],[0.8888888888888888,\"#fdca26\"],[1.0,\"#f0f921\"]],\"type\":\"heatmapgl\"}],\"heatmap\":[{\"colorbar\":{\"outlinewidth\":0,\"ticks\":\"\"},\"colorscale\":[[0.0,\"#0d0887\"],[0.1111111111111111,\"#46039f\"],[0.2222222222222222,\"#7201a8\"],[0.3333333333333333,\"#9c179e\"],[0.4444444444444444,\"#bd3786\"],[0.5555555555555556,\"#d8576b\"],[0.6666666666666666,\"#ed7953\"],[0.7777777777777778,\"#fb9f3a\"],[0.8888888888888888,\"#fdca26\"],[1.0,\"#f0f921\"]],\"type\":\"heatmap\"}],\"histogram2dcontour\":[{\"colorbar\":{\"outlinewidth\":0,\"ticks\":\"\"},\"colorscale\":[[0.0,\"#0d0887\"],[0.1111111111111111,\"#46039f\"],[0.2222222222222222,\"#7201a8\"],[0.3333333333333333,\"#9c179e\"],[0.4444444444444444,\"#bd3786\"],[0.5555555555555556,\"#d8576b\"],[0.6666666666666666,\"#ed7953\"],[0.7777777777777778,\"#fb9f3a\"],[0.8888888888888888,\"#fdca26\"],[1.0,\"#f0f921\"]],\"type\":\"histogram2dcontour\"}],\"histogram2d\":[{\"colorbar\":{\"outlinewidth\":0,\"ticks\":\"\"},\"colorscale\":[[0.0,\"#0d0887\"],[0.1111111111111111,\"#46039f\"],[0.2222222222222222,\"#7201a8\"],[0.3333333333333333,\"#9c179e\"],[0.4444444444444444,\"#bd3786\"],[0.5555555555555556,\"#d8576b\"],[0.6666666666666666,\"#ed7953\"],[0.7777777777777778,\"#fb9f3a\"],[0.8888888888888888,\"#fdca26\"],[1.0,\"#f0f921\"]],\"type\":\"histogram2d\"}],\"histogram\":[{\"marker\":{\"pattern\":{\"fillmode\":\"overlay\",\"size\":10,\"solidity\":0.2}},\"type\":\"histogram\"}],\"mesh3d\":[{\"colorbar\":{\"outlinewidth\":0,\"ticks\":\"\"},\"type\":\"mesh3d\"}],\"parcoords\":[{\"line\":{\"colorbar\":{\"outlinewidth\":0,\"ticks\":\"\"}},\"type\":\"parcoords\"}],\"pie\":[{\"automargin\":true,\"type\":\"pie\"}],\"scatter3d\":[{\"line\":{\"colorbar\":{\"outlinewidth\":0,\"ticks\":\"\"}},\"marker\":{\"colorbar\":{\"outlinewidth\":0,\"ticks\":\"\"}},\"type\":\"scatter3d\"}],\"scattercarpet\":[{\"marker\":{\"colorbar\":{\"outlinewidth\":0,\"ticks\":\"\"}},\"type\":\"scattercarpet\"}],\"scattergeo\":[{\"marker\":{\"colorbar\":{\"outlinewidth\":0,\"ticks\":\"\"}},\"type\":\"scattergeo\"}],\"scattergl\":[{\"marker\":{\"line\":{\"color\":\"#283442\"}},\"type\":\"scattergl\"}],\"scattermapbox\":[{\"marker\":{\"colorbar\":{\"outlinewidth\":0,\"ticks\":\"\"}},\"type\":\"scattermapbox\"}],\"scatterpolargl\":[{\"marker\":{\"colorbar\":{\"outlinewidth\":0,\"ticks\":\"\"}},\"type\":\"scatterpolargl\"}],\"scatterpolar\":[{\"marker\":{\"colorbar\":{\"outlinewidth\":0,\"ticks\":\"\"}},\"type\":\"scatterpolar\"}],\"scatter\":[{\"marker\":{\"line\":{\"color\":\"#283442\"}},\"type\":\"scatter\"}],\"scatterternary\":[{\"marker\":{\"colorbar\":{\"outlinewidth\":0,\"ticks\":\"\"}},\"type\":\"scatterternary\"}],\"surface\":[{\"colorbar\":{\"outlinewidth\":0,\"ticks\":\"\"},\"colorscale\":[[0.0,\"#0d0887\"],[0.1111111111111111,\"#46039f\"],[0.2222222222222222,\"#7201a8\"],[0.3333333333333333,\"#9c179e\"],[0.4444444444444444,\"#bd3786\"],[0.5555555555555556,\"#d8576b\"],[0.6666666666666666,\"#ed7953\"],[0.7777777777777778,\"#fb9f3a\"],[0.8888888888888888,\"#fdca26\"],[1.0,\"#f0f921\"]],\"type\":\"surface\"}],\"table\":[{\"cells\":{\"fill\":{\"color\":\"#506784\"},\"line\":{\"color\":\"rgb(17,17,17)\"}},\"header\":{\"fill\":{\"color\":\"#2a3f5f\"},\"line\":{\"color\":\"rgb(17,17,17)\"}},\"type\":\"table\"}]},\"layout\":{\"annotationdefaults\":{\"arrowcolor\":\"#f2f5fa\",\"arrowhead\":0,\"arrowwidth\":1},\"autotypenumbers\":\"strict\",\"coloraxis\":{\"colorbar\":{\"outlinewidth\":0,\"ticks\":\"\"}},\"colorscale\":{\"diverging\":[[0,\"#8e0152\"],[0.1,\"#c51b7d\"],[0.2,\"#de77ae\"],[0.3,\"#f1b6da\"],[0.4,\"#fde0ef\"],[0.5,\"#f7f7f7\"],[0.6,\"#e6f5d0\"],[0.7,\"#b8e186\"],[0.8,\"#7fbc41\"],[0.9,\"#4d9221\"],[1,\"#276419\"]],\"sequential\":[[0.0,\"#0d0887\"],[0.1111111111111111,\"#46039f\"],[0.2222222222222222,\"#7201a8\"],[0.3333333333333333,\"#9c179e\"],[0.4444444444444444,\"#bd3786\"],[0.5555555555555556,\"#d8576b\"],[0.6666666666666666,\"#ed7953\"],[0.7777777777777778,\"#fb9f3a\"],[0.8888888888888888,\"#fdca26\"],[1.0,\"#f0f921\"]],\"sequentialminus\":[[0.0,\"#0d0887\"],[0.1111111111111111,\"#46039f\"],[0.2222222222222222,\"#7201a8\"],[0.3333333333333333,\"#9c179e\"],[0.4444444444444444,\"#bd3786\"],[0.5555555555555556,\"#d8576b\"],[0.6666666666666666,\"#ed7953\"],[0.7777777777777778,\"#fb9f3a\"],[0.8888888888888888,\"#fdca26\"],[1.0,\"#f0f921\"]]},\"colorway\":[\"#636efa\",\"#EF553B\",\"#00cc96\",\"#ab63fa\",\"#FFA15A\",\"#19d3f3\",\"#FF6692\",\"#B6E880\",\"#FF97FF\",\"#FECB52\"],\"font\":{\"color\":\"#f2f5fa\"},\"geo\":{\"bgcolor\":\"rgb(17,17,17)\",\"lakecolor\":\"rgb(17,17,17)\",\"landcolor\":\"rgb(17,17,17)\",\"showlakes\":true,\"showland\":true,\"subunitcolor\":\"#506784\"},\"hoverlabel\":{\"align\":\"left\"},\"hovermode\":\"closest\",\"mapbox\":{\"style\":\"dark\"},\"paper_bgcolor\":\"rgb(17,17,17)\",\"plot_bgcolor\":\"rgb(17,17,17)\",\"polar\":{\"angularaxis\":{\"gridcolor\":\"#506784\",\"linecolor\":\"#506784\",\"ticks\":\"\"},\"bgcolor\":\"rgb(17,17,17)\",\"radialaxis\":{\"gridcolor\":\"#506784\",\"linecolor\":\"#506784\",\"ticks\":\"\"}},\"scene\":{\"xaxis\":{\"backgroundcolor\":\"rgb(17,17,17)\",\"gridcolor\":\"#506784\",\"gridwidth\":2,\"linecolor\":\"#506784\",\"showbackground\":true,\"ticks\":\"\",\"zerolinecolor\":\"#C8D4E3\"},\"yaxis\":{\"backgroundcolor\":\"rgb(17,17,17)\",\"gridcolor\":\"#506784\",\"gridwidth\":2,\"linecolor\":\"#506784\",\"showbackground\":true,\"ticks\":\"\",\"zerolinecolor\":\"#C8D4E3\"},\"zaxis\":{\"backgroundcolor\":\"rgb(17,17,17)\",\"gridcolor\":\"#506784\",\"gridwidth\":2,\"linecolor\":\"#506784\",\"showbackground\":true,\"ticks\":\"\",\"zerolinecolor\":\"#C8D4E3\"}},\"shapedefaults\":{\"line\":{\"color\":\"#f2f5fa\"}},\"sliderdefaults\":{\"bgcolor\":\"#C8D4E3\",\"bordercolor\":\"rgb(17,17,17)\",\"borderwidth\":1,\"tickwidth\":0},\"ternary\":{\"aaxis\":{\"gridcolor\":\"#506784\",\"linecolor\":\"#506784\",\"ticks\":\"\"},\"baxis\":{\"gridcolor\":\"#506784\",\"linecolor\":\"#506784\",\"ticks\":\"\"},\"bgcolor\":\"rgb(17,17,17)\",\"caxis\":{\"gridcolor\":\"#506784\",\"linecolor\":\"#506784\",\"ticks\":\"\"}},\"title\":{\"x\":0.05},\"updatemenudefaults\":{\"bgcolor\":\"#506784\",\"borderwidth\":0},\"xaxis\":{\"automargin\":true,\"gridcolor\":\"#283442\",\"linecolor\":\"#506784\",\"ticks\":\"\",\"title\":{\"standoff\":15},\"zerolinecolor\":\"#283442\",\"zerolinewidth\":2},\"yaxis\":{\"automargin\":true,\"gridcolor\":\"#283442\",\"linecolor\":\"#506784\",\"ticks\":\"\",\"title\":{\"standoff\":15},\"zerolinecolor\":\"#283442\",\"zerolinewidth\":2}}},\"ternary\":{\"domain\":{\"x\":[0.0,1.0],\"y\":[0.0,1.0]},\"aaxis\":{\"title\":{\"text\":\"Percentage of Sad Words\"}},\"baxis\":{\"title\":{\"text\":\"Lyrical Density\"}},\"caxis\":{\"title\":{\"text\":\"Valence\"}}},\"legend\":{\"title\":{\"text\":\"Album Name\"},\"tracegroupgap\":0},\"title\":{\"text\":\"\\u003cb\\u003eRadiohead Songs - A Triangulation of Sadness\\u003c\\u002fb\\u003e\"},\"annotations\":[{\"align\":\"left\",\"showarrow\":false,\"text\":\"Data Source: \\u003ca href=\\u201dhttps:\\u002f\\u002fwww.kaggle.com\\u002fdatasets\\u002flavagod\\u002fradiohead\\u002fversions\\u002f1?resource=download\\u201d\\u003eRadiohead Data\\u003c\\u002fa\\u003e \\u003cbr\\u003eViz: \\u003ca href=\\u201dhttps:\\u002f\\u002ftwitter.com\\u002f_prospecttheory\\u201d\\u003e@_prospecttheory\\u003c\\u002fa\\u003e \\u003cbr\\u003e \\u003cbr\\u003e \\u003cbr\\u003e \\u003cbr\\u003e \\u003cbr\\u003e\",\"x\":-0.025,\"xref\":\"paper\",\"y\":-0.5,\"yref\":\"paper\"},{\"arrowhead\":1,\"bgcolor\":\"white\",\"bordercolor\":\"White\",\"font\":{\"color\":\"Black\"},\"showarrow\":true,\"text\":\"'True Love Waits' - their saddest song?\",\"x\":0.425,\"y\":0.6}]},                        {\"responsive\": true}                    ).then(function(){\n",
       "                            \n",
       "var gd = document.getElementById('d8a6b6d0-a3a5-4a7e-adf1-980def7df1a2');\n",
       "var x = new MutationObserver(function (mutations, observer) {{\n",
       "        var display = window.getComputedStyle(gd).display;\n",
       "        if (!display || display === 'none') {{\n",
       "            console.log([gd, 'removed!']);\n",
       "            Plotly.purge(gd);\n",
       "            observer.disconnect();\n",
       "        }}\n",
       "}});\n",
       "\n",
       "// Listen for the removal of the full notebook cells\n",
       "var notebookContainer = gd.closest('#notebook-container');\n",
       "if (notebookContainer) {{\n",
       "    x.observe(notebookContainer, {childList: true});\n",
       "}}\n",
       "\n",
       "// Listen for the clearing of the current output cell\n",
       "var outputEl = gd.closest('.output');\n",
       "if (outputEl) {{\n",
       "    x.observe(outputEl, {childList: true});\n",
       "}}\n",
       "\n",
       "                        })                };                });            </script>        </div>"
      ]
     },
     "metadata": {},
     "output_type": "display_data"
    }
   ],
   "source": [
    "#Plot Ternary Plot\n",
    "fig = px.scatter_ternary(df_radiohead, a = 'pct_sad', b = 'lyrical_density', c = 'valence', color = 'album_name', \n",
    "            labels={'album_name':'Album Name', 'pct_sad':'Percentage of Sad Words', 'valence':'Valence', 'lyrical_density':'Lyrical Density'},\n",
    "            title= '<b>Radiohead Songs - A Triangulation of Sadness</b>',\n",
    "            template='plotly_dark', hover_name= 'track_name')\n",
    "\n",
    "#Add Signature\n",
    "fig.add_annotation(text='Data Source: <a href=”https://www.kaggle.com/datasets/lavagod/radiohead/versions/1?resource=download”>Radiohead Data</a> <br>Viz: <a href=”https://twitter.com/_prospecttheory”>@_prospecttheory</a> <br> <br> <br> <br> <br>', \n",
    "                    align='left',\n",
    "                    showarrow=False,\n",
    "                    xref='paper',\n",
    "                    yref='paper',\n",
    "                    x= -0.025,\n",
    "                    y= -0.5)\n",
    "\n",
    "#Add Little Annotation\n",
    "fig.add_annotation(x=0.425, y=0.6,\n",
    "            text=\"'True Love Waits' - their saddest song?\",\n",
    "            showarrow=True,\n",
    "            arrowhead=1,\n",
    "            bordercolor='White',\n",
    "            font_color = 'Black',\n",
    "            bgcolor='white')\n",
    "\n",
    "\n",
    "fig.show()"
   ]
  },
  {
   "cell_type": "markdown",
   "id": "e5e47e53",
   "metadata": {},
   "source": [
    "Looking at this plot we can see:\n",
    "\n",
    "* There are quite a few happy songs in the lower right corner. They have high musical postivity and contain little to no sad words.\n",
    "\n",
    "* The bulk of Radiohead's songs can be found in a zone, where less than 20% of the lyrics are sad, with varying degrees of general lyrical density and musical valence. Their carried sadness can depend on the eye of the beholder. \n",
    "\n",
    "* (Remember: *Taking this 20% threshold here, is kind of special. We are basically saying here, that a song is not sad if less than every fifth word sung has a negative sentiment. For more upbeat artists this infliction point might be much lower, triggering the sad label much earlier.*)\n",
    "\n",
    "* All songs floating towards the upper left can be considered Radiohead's sad tracks. Their musical tone is rather depressing or angry. Same goes for the lyrics that contain more and more bitter, melancholy or sorrowful bits. \n",
    "\n",
    "* Checking this graph we have clear contenders for happiest ('Hunting Bears', 'Feral') and saddest songs ('True Love Waits', 'Motion Picture Soundtrack').\n"
   ]
  },
  {
   "cell_type": "markdown",
   "id": "4743e84d",
   "metadata": {},
   "source": [
    "### The Gloom Index\n",
    "\n",
    "Data scientist Charlie Thompson came up with an interesting way to translate this graphical apporach into a number. He came up with the gloom index incorporating musical and lyrical tone while also taking lyrical density into account.\n",
    "\n",
    "As a formula he used this:\n",
    "\n",
    "Gloom Index = (1 - ((1 - Valence) + (Percentage of sad words * (1 + Lyrical Density))))/2\n",
    "\n",
    "He later then rescaled the metric to fit within 1 and 100. This spin makes comparing the entire Radiohead catalogue even easier. The saddest song has a score of 1 and the least sad track a rating of 100. Every other song places itself in between these two extremes.\n",
    "\n",
    "A quick look at the general distribution of the entirety of tracks helps us to see, if this metric does a good job in evaluating our sample:"
   ]
  },
  {
   "cell_type": "code",
   "execution_count": 368,
   "id": "36a273d6",
   "metadata": {},
   "outputs": [
    {
     "data": {
      "text/html": [
       "<div>\n",
       "<style scoped>\n",
       "    .dataframe tbody tr th:only-of-type {\n",
       "        vertical-align: middle;\n",
       "    }\n",
       "\n",
       "    .dataframe tbody tr th {\n",
       "        vertical-align: top;\n",
       "    }\n",
       "\n",
       "    .dataframe thead th {\n",
       "        text-align: right;\n",
       "    }\n",
       "</style>\n",
       "<table border=\"1\" class=\"dataframe\">\n",
       "  <thead>\n",
       "    <tr style=\"text-align: right;\">\n",
       "      <th></th>\n",
       "      <th>track_name</th>\n",
       "      <th>valence</th>\n",
       "      <th>duration_ms</th>\n",
       "      <th>lyrics</th>\n",
       "      <th>album_name</th>\n",
       "      <th>album_release_year</th>\n",
       "      <th>album_img</th>\n",
       "      <th>pct_sad</th>\n",
       "      <th>word_count</th>\n",
       "      <th>lyrical_density</th>\n",
       "      <th>gloom_index</th>\n",
       "      <th>amount_sad_words</th>\n",
       "      <th>duration_mins</th>\n",
       "    </tr>\n",
       "  </thead>\n",
       "  <tbody>\n",
       "    <tr>\n",
       "      <th>100</th>\n",
       "      <td>True Love Waits</td>\n",
       "      <td>0.0378</td>\n",
       "      <td>283464</td>\n",
       "      <td>i’ll drown my beliefs to have your babies i’ll...</td>\n",
       "      <td>A Moon Shaped Pool</td>\n",
       "      <td>2016</td>\n",
       "      <td>https://i.scdn.co/image/0d1460c036897175f4631e...</td>\n",
       "      <td>0.2381</td>\n",
       "      <td>42</td>\n",
       "      <td>0.148167</td>\n",
       "      <td>1.00</td>\n",
       "      <td>10.0</td>\n",
       "      <td>4.724400</td>\n",
       "    </tr>\n",
       "    <tr>\n",
       "      <th>88</th>\n",
       "      <td>Give Up The Ghost</td>\n",
       "      <td>0.1570</td>\n",
       "      <td>290067</td>\n",
       "      <td>don't haunt me don't hurt me don't haunt me ga...</td>\n",
       "      <td>The King Of Limbs</td>\n",
       "      <td>2011</td>\n",
       "      <td>https://i.scdn.co/image/4a93b23fa39b39a4050a95...</td>\n",
       "      <td>0.2742</td>\n",
       "      <td>62</td>\n",
       "      <td>0.213744</td>\n",
       "      <td>6.46</td>\n",
       "      <td>17.0</td>\n",
       "      <td>4.834450</td>\n",
       "    </tr>\n",
       "    <tr>\n",
       "      <th>45</th>\n",
       "      <td>Motion Picture Soundtrack</td>\n",
       "      <td>0.0425</td>\n",
       "      <td>200483</td>\n",
       "      <td>red wine and sleeping pills help me get back t...</td>\n",
       "      <td>Kid A</td>\n",
       "      <td>2000</td>\n",
       "      <td>https://i.scdn.co/image/0a6b1c237ab9f7d7da0a04...</td>\n",
       "      <td>0.1667</td>\n",
       "      <td>24</td>\n",
       "      <td>0.119711</td>\n",
       "      <td>9.35</td>\n",
       "      <td>4.0</td>\n",
       "      <td>3.341383</td>\n",
       "    </tr>\n",
       "    <tr>\n",
       "      <th>28</th>\n",
       "      <td>Let Down</td>\n",
       "      <td>0.1310</td>\n",
       "      <td>299560</td>\n",
       "      <td>transport motorways and tramlines starting and...</td>\n",
       "      <td>OK Computer</td>\n",
       "      <td>1997</td>\n",
       "      <td>https://i.scdn.co/image/f89c1ecdd0cc5a23d5ad73...</td>\n",
       "      <td>0.1875</td>\n",
       "      <td>64</td>\n",
       "      <td>0.213647</td>\n",
       "      <td>13.70</td>\n",
       "      <td>12.0</td>\n",
       "      <td>4.992667</td>\n",
       "    </tr>\n",
       "    <tr>\n",
       "      <th>48</th>\n",
       "      <td>Pyramid Song</td>\n",
       "      <td>0.0655</td>\n",
       "      <td>288733</td>\n",
       "      <td>i jumped in the river and what did i see black...</td>\n",
       "      <td>Amnesiac</td>\n",
       "      <td>2001</td>\n",
       "      <td>https://i.scdn.co/image/7d2a9481f3136f8f9dda19...</td>\n",
       "      <td>0.1364</td>\n",
       "      <td>44</td>\n",
       "      <td>0.152390</td>\n",
       "      <td>14.15</td>\n",
       "      <td>6.0</td>\n",
       "      <td>4.812217</td>\n",
       "    </tr>\n",
       "    <tr>\n",
       "      <th>...</th>\n",
       "      <td>...</td>\n",
       "      <td>...</td>\n",
       "      <td>...</td>\n",
       "      <td>...</td>\n",
       "      <td>...</td>\n",
       "      <td>...</td>\n",
       "      <td>...</td>\n",
       "      <td>...</td>\n",
       "      <td>...</td>\n",
       "      <td>...</td>\n",
       "      <td>...</td>\n",
       "      <td>...</td>\n",
       "      <td>...</td>\n",
       "    </tr>\n",
       "    <tr>\n",
       "      <th>62</th>\n",
       "      <td>Go To Sleep</td>\n",
       "      <td>0.6540</td>\n",
       "      <td>201507</td>\n",
       "      <td>something for the rag and bone man over my dea...</td>\n",
       "      <td>Hail To the Thief</td>\n",
       "      <td>2003</td>\n",
       "      <td>https://i.scdn.co/image/5ded47fd3d05325dd0faaf...</td>\n",
       "      <td>0.0000</td>\n",
       "      <td>37</td>\n",
       "      <td>0.183616</td>\n",
       "      <td>82.28</td>\n",
       "      <td>0.0</td>\n",
       "      <td>3.358450</td>\n",
       "    </tr>\n",
       "    <tr>\n",
       "      <th>80</th>\n",
       "      <td>Jigsaw Falling Into Place</td>\n",
       "      <td>0.8180</td>\n",
       "      <td>248893</td>\n",
       "      <td>just as you take my hand just as you write my ...</td>\n",
       "      <td>In Rainbows</td>\n",
       "      <td>2007</td>\n",
       "      <td>https://i.scdn.co/image/00d97c99f9fb5872e9a44f...</td>\n",
       "      <td>0.1077</td>\n",
       "      <td>65</td>\n",
       "      <td>0.261156</td>\n",
       "      <td>84.85</td>\n",
       "      <td>7.0</td>\n",
       "      <td>4.148217</td>\n",
       "    </tr>\n",
       "    <tr>\n",
       "      <th>73</th>\n",
       "      <td>Bodysnatchers</td>\n",
       "      <td>0.7210</td>\n",
       "      <td>242293</td>\n",
       "      <td>i do not understand what it is i've done wrong...</td>\n",
       "      <td>In Rainbows</td>\n",
       "      <td>2007</td>\n",
       "      <td>https://i.scdn.co/image/00d97c99f9fb5872e9a44f...</td>\n",
       "      <td>0.0000</td>\n",
       "      <td>52</td>\n",
       "      <td>0.214616</td>\n",
       "      <td>88.40</td>\n",
       "      <td>0.0</td>\n",
       "      <td>4.038217</td>\n",
       "    </tr>\n",
       "    <tr>\n",
       "      <th>85</th>\n",
       "      <td>Feral</td>\n",
       "      <td>0.7510</td>\n",
       "      <td>192743</td>\n",
       "      <td>you are not mine and i am not yours and that's...</td>\n",
       "      <td>The King Of Limbs</td>\n",
       "      <td>2011</td>\n",
       "      <td>https://i.scdn.co/image/4a93b23fa39b39a4050a95...</td>\n",
       "      <td>0.0000</td>\n",
       "      <td>5</td>\n",
       "      <td>0.025941</td>\n",
       "      <td>91.14</td>\n",
       "      <td>0.0</td>\n",
       "      <td>3.212383</td>\n",
       "    </tr>\n",
       "    <tr>\n",
       "      <th>72</th>\n",
       "      <td>15 Step</td>\n",
       "      <td>0.8480</td>\n",
       "      <td>237293</td>\n",
       "      <td>how come i end up where i started how come i e...</td>\n",
       "      <td>In Rainbows</td>\n",
       "      <td>2007</td>\n",
       "      <td>https://i.scdn.co/image/00d97c99f9fb5872e9a44f...</td>\n",
       "      <td>0.0000</td>\n",
       "      <td>38</td>\n",
       "      <td>0.160140</td>\n",
       "      <td>100.00</td>\n",
       "      <td>0.0</td>\n",
       "      <td>3.954883</td>\n",
       "    </tr>\n",
       "  </tbody>\n",
       "</table>\n",
       "<p>101 rows × 13 columns</p>\n",
       "</div>"
      ],
      "text/plain": [
       "                    track_name  valence  duration_ms   \n",
       "100            True Love Waits   0.0378       283464  \\\n",
       "88           Give Up The Ghost   0.1570       290067   \n",
       "45   Motion Picture Soundtrack   0.0425       200483   \n",
       "28                    Let Down   0.1310       299560   \n",
       "48                Pyramid Song   0.0655       288733   \n",
       "..                         ...      ...          ...   \n",
       "62                 Go To Sleep   0.6540       201507   \n",
       "80   Jigsaw Falling Into Place   0.8180       248893   \n",
       "73               Bodysnatchers   0.7210       242293   \n",
       "85                       Feral   0.7510       192743   \n",
       "72                     15 Step   0.8480       237293   \n",
       "\n",
       "                                                lyrics          album_name   \n",
       "100  i’ll drown my beliefs to have your babies i’ll...  A Moon Shaped Pool  \\\n",
       "88   don't haunt me don't hurt me don't haunt me ga...   The King Of Limbs   \n",
       "45   red wine and sleeping pills help me get back t...               Kid A   \n",
       "28   transport motorways and tramlines starting and...         OK Computer   \n",
       "48   i jumped in the river and what did i see black...            Amnesiac   \n",
       "..                                                 ...                 ...   \n",
       "62   something for the rag and bone man over my dea...   Hail To the Thief   \n",
       "80   just as you take my hand just as you write my ...         In Rainbows   \n",
       "73   i do not understand what it is i've done wrong...         In Rainbows   \n",
       "85   you are not mine and i am not yours and that's...   The King Of Limbs   \n",
       "72   how come i end up where i started how come i e...         In Rainbows   \n",
       "\n",
       "     album_release_year                                          album_img   \n",
       "100                2016  https://i.scdn.co/image/0d1460c036897175f4631e...  \\\n",
       "88                 2011  https://i.scdn.co/image/4a93b23fa39b39a4050a95...   \n",
       "45                 2000  https://i.scdn.co/image/0a6b1c237ab9f7d7da0a04...   \n",
       "28                 1997  https://i.scdn.co/image/f89c1ecdd0cc5a23d5ad73...   \n",
       "48                 2001  https://i.scdn.co/image/7d2a9481f3136f8f9dda19...   \n",
       "..                  ...                                                ...   \n",
       "62                 2003  https://i.scdn.co/image/5ded47fd3d05325dd0faaf...   \n",
       "80                 2007  https://i.scdn.co/image/00d97c99f9fb5872e9a44f...   \n",
       "73                 2007  https://i.scdn.co/image/00d97c99f9fb5872e9a44f...   \n",
       "85                 2011  https://i.scdn.co/image/4a93b23fa39b39a4050a95...   \n",
       "72                 2007  https://i.scdn.co/image/00d97c99f9fb5872e9a44f...   \n",
       "\n",
       "     pct_sad  word_count  lyrical_density  gloom_index  amount_sad_words   \n",
       "100   0.2381          42         0.148167         1.00              10.0  \\\n",
       "88    0.2742          62         0.213744         6.46              17.0   \n",
       "45    0.1667          24         0.119711         9.35               4.0   \n",
       "28    0.1875          64         0.213647        13.70              12.0   \n",
       "48    0.1364          44         0.152390        14.15               6.0   \n",
       "..       ...         ...              ...          ...               ...   \n",
       "62    0.0000          37         0.183616        82.28               0.0   \n",
       "80    0.1077          65         0.261156        84.85               7.0   \n",
       "73    0.0000          52         0.214616        88.40               0.0   \n",
       "85    0.0000           5         0.025941        91.14               0.0   \n",
       "72    0.0000          38         0.160140       100.00               0.0   \n",
       "\n",
       "     duration_mins  \n",
       "100       4.724400  \n",
       "88        4.834450  \n",
       "45        3.341383  \n",
       "28        4.992667  \n",
       "48        4.812217  \n",
       "..             ...  \n",
       "62        3.358450  \n",
       "80        4.148217  \n",
       "73        4.038217  \n",
       "85        3.212383  \n",
       "72        3.954883  \n",
       "\n",
       "[101 rows x 13 columns]"
      ]
     },
     "execution_count": 368,
     "metadata": {},
     "output_type": "execute_result"
    }
   ],
   "source": [
    "#Data Prep\n",
    "df_radiohead_gloom_index = df_radiohead.sort_values('gloom_index')\n",
    "df_radiohead_gloom_index"
   ]
  },
  {
   "cell_type": "code",
   "execution_count": 369,
   "id": "9ad08915",
   "metadata": {},
   "outputs": [
    {
     "data": {
      "application/vnd.plotly.v1+json": {
       "config": {
        "plotlyServerURL": "https://plot.ly"
       },
       "data": [
        {
         "alignmentgroup": "True",
         "box": {
          "visible": true
         },
         "hovertemplate": "<b>%{hovertext}</b><br><br>Gloom Index=%{y}<extra></extra>",
         "hovertext": [
          "True Love Waits",
          "Give Up The Ghost",
          "Motion Picture Soundtrack",
          "Let Down",
          "Pyramid Song",
          "Exit Music (For a Film)",
          "Dollars & Cents",
          "High And Dry",
          "Tinker Tailor Soldier Sailor Rich Man Poor Man Beggar Man Thief",
          "Videotape",
          "We Suck Young Blood",
          "Life In a Glasshouse",
          "Codex",
          "The Tourist",
          "Creep",
          "Bullet Proof ... I Wish I Was",
          "The Numbers",
          "Weird Fishes/ Arpeggi",
          "The Gloaming",
          "Nude",
          "Sail To The Moon",
          "Planet Telex",
          "Fake Plastic Trees",
          "Karma Police",
          "Treefingers",
          "Everything In Its Right Place",
          "Glass Eyes",
          "Daydreaming",
          "No Surprises",
          "Hunting Bears",
          "Untitled",
          "Street Spirit (Fade Out)",
          "You And Whose Army?",
          "All I Need",
          "Black Star",
          "Identikit",
          "I Can't",
          "Kid A",
          "I Will",
          "Climbing Up the Walls",
          "Pulk/Pull Revolving Doors",
          "Lucky",
          "Present Tense",
          "Desert Island Disk",
          "How Do You?",
          "Reckoner",
          "Ful Stop",
          "Knives Out",
          "Ripcord",
          "Scatterbrain",
          "Faust Arp",
          "Paranoid Android",
          "How To Disappear Completely",
          "Decks Dark",
          "Like Spinning Plates",
          "Morning Bell/Amnesiac",
          "Stop Whispering",
          "Just",
          "Prove Yourself",
          "Electioneering",
          "Blow Out",
          "2 + 2 = 5",
          "The Bends",
          "Bloom",
          "Subterranean Homesick Alien",
          "You",
          "A Wolf At the Door",
          "A Punch Up At a Wedding",
          "Vegetable",
          "Bones",
          "Morning Bell",
          "(Nice Dream)",
          "The National Anthem",
          "Backdrifts",
          "Lurgee",
          "Morning Mr Magpie",
          "Little By Little",
          "Thinking About You",
          "In Limbo",
          "Where I End and You Begin",
          "Lotus Flower",
          "Sit Down. Stand Up",
          "I Might Be Wrong",
          "Separator",
          "Burn the Witch",
          "Myxomatosis",
          "Idioteque",
          "Optimistic",
          "Anyone Can Play Guitar",
          "There, There",
          "House Of Cards",
          "My Iron Lung",
          "Fitter Happier",
          "Sulk",
          "Packt Like Sardines In a Crushed Tin Box",
          "Airbag",
          "Go To Sleep",
          "Jigsaw Falling Into Place",
          "Bodysnatchers",
          "Feral",
          "15 Step"
         ],
         "legendgroup": "",
         "marker": {
          "color": "#636efa"
         },
         "name": "",
         "offsetgroup": "",
         "orientation": "v",
         "points": "all",
         "scalegroup": "True",
         "showlegend": false,
         "type": "violin",
         "x0": " ",
         "xaxis": "x",
         "y": [
          1,
          6.46,
          9.35,
          13.7,
          14.15,
          14.57,
          15.29,
          15.69,
          15.8,
          16.03,
          16.21,
          20.54,
          21.86,
          22.52,
          22.6,
          22.69,
          22.82,
          25.1,
          26.5,
          26.62,
          26.71,
          26.99,
          27.7,
          27.77,
          27.87,
          27.87,
          28.27,
          28.84,
          29.34,
          29.64,
          29.67,
          29.71,
          30.86,
          31.03,
          31.07,
          32.25,
          32.33,
          33.78,
          34.14,
          34.61,
          34.86,
          35.17,
          35.56,
          36.5,
          36.56,
          37.95,
          38.88,
          39.06,
          40.56,
          40.64,
          40.71,
          40.98,
          40.98,
          41.09,
          41.71,
          42.44,
          43.48,
          44.21,
          44.68,
          45.81,
          46.08,
          47.4,
          48.25,
          48.55,
          49.68,
          50.39,
          50.8,
          53.88,
          54.45,
          55.99,
          56.37,
          57.42,
          57.7,
          57.99,
          58.06,
          59.71,
          59.9,
          60.8,
          61.5,
          64.23,
          67.59,
          68.61,
          68.84,
          69.83,
          70.19,
          70.4,
          71.77,
          72.09,
          72.23,
          72.34,
          72.43,
          73.76,
          75.23,
          76.63,
          80.63,
          81.18,
          82.28,
          84.85,
          88.4,
          91.14,
          100
         ],
         "y0": " ",
         "yaxis": "y"
        }
       ],
       "layout": {
        "annotations": [
         {
          "align": "left",
          "showarrow": false,
          "text": "Data Source: <a href=”https://www.kaggle.com/datasets/lavagod/radiohead/versions/1?resource=download”>Radiohead Data</a> <br>Viz: <a href=”https://twitter.com/_prospecttheory”>@_prospecttheory</a> <br> <br> <br> <br> <br>",
          "x": -0.05,
          "xref": "paper",
          "y": -0.5,
          "yref": "paper"
         }
        ],
        "legend": {
         "tracegroupgap": 0
        },
        "template": {
         "data": {
          "bar": [
           {
            "error_x": {
             "color": "#f2f5fa"
            },
            "error_y": {
             "color": "#f2f5fa"
            },
            "marker": {
             "line": {
              "color": "rgb(17,17,17)",
              "width": 0.5
             },
             "pattern": {
              "fillmode": "overlay",
              "size": 10,
              "solidity": 0.2
             }
            },
            "type": "bar"
           }
          ],
          "barpolar": [
           {
            "marker": {
             "line": {
              "color": "rgb(17,17,17)",
              "width": 0.5
             },
             "pattern": {
              "fillmode": "overlay",
              "size": 10,
              "solidity": 0.2
             }
            },
            "type": "barpolar"
           }
          ],
          "carpet": [
           {
            "aaxis": {
             "endlinecolor": "#A2B1C6",
             "gridcolor": "#506784",
             "linecolor": "#506784",
             "minorgridcolor": "#506784",
             "startlinecolor": "#A2B1C6"
            },
            "baxis": {
             "endlinecolor": "#A2B1C6",
             "gridcolor": "#506784",
             "linecolor": "#506784",
             "minorgridcolor": "#506784",
             "startlinecolor": "#A2B1C6"
            },
            "type": "carpet"
           }
          ],
          "choropleth": [
           {
            "colorbar": {
             "outlinewidth": 0,
             "ticks": ""
            },
            "type": "choropleth"
           }
          ],
          "contour": [
           {
            "colorbar": {
             "outlinewidth": 0,
             "ticks": ""
            },
            "colorscale": [
             [
              0,
              "#0d0887"
             ],
             [
              0.1111111111111111,
              "#46039f"
             ],
             [
              0.2222222222222222,
              "#7201a8"
             ],
             [
              0.3333333333333333,
              "#9c179e"
             ],
             [
              0.4444444444444444,
              "#bd3786"
             ],
             [
              0.5555555555555556,
              "#d8576b"
             ],
             [
              0.6666666666666666,
              "#ed7953"
             ],
             [
              0.7777777777777778,
              "#fb9f3a"
             ],
             [
              0.8888888888888888,
              "#fdca26"
             ],
             [
              1,
              "#f0f921"
             ]
            ],
            "type": "contour"
           }
          ],
          "contourcarpet": [
           {
            "colorbar": {
             "outlinewidth": 0,
             "ticks": ""
            },
            "type": "contourcarpet"
           }
          ],
          "heatmap": [
           {
            "colorbar": {
             "outlinewidth": 0,
             "ticks": ""
            },
            "colorscale": [
             [
              0,
              "#0d0887"
             ],
             [
              0.1111111111111111,
              "#46039f"
             ],
             [
              0.2222222222222222,
              "#7201a8"
             ],
             [
              0.3333333333333333,
              "#9c179e"
             ],
             [
              0.4444444444444444,
              "#bd3786"
             ],
             [
              0.5555555555555556,
              "#d8576b"
             ],
             [
              0.6666666666666666,
              "#ed7953"
             ],
             [
              0.7777777777777778,
              "#fb9f3a"
             ],
             [
              0.8888888888888888,
              "#fdca26"
             ],
             [
              1,
              "#f0f921"
             ]
            ],
            "type": "heatmap"
           }
          ],
          "heatmapgl": [
           {
            "colorbar": {
             "outlinewidth": 0,
             "ticks": ""
            },
            "colorscale": [
             [
              0,
              "#0d0887"
             ],
             [
              0.1111111111111111,
              "#46039f"
             ],
             [
              0.2222222222222222,
              "#7201a8"
             ],
             [
              0.3333333333333333,
              "#9c179e"
             ],
             [
              0.4444444444444444,
              "#bd3786"
             ],
             [
              0.5555555555555556,
              "#d8576b"
             ],
             [
              0.6666666666666666,
              "#ed7953"
             ],
             [
              0.7777777777777778,
              "#fb9f3a"
             ],
             [
              0.8888888888888888,
              "#fdca26"
             ],
             [
              1,
              "#f0f921"
             ]
            ],
            "type": "heatmapgl"
           }
          ],
          "histogram": [
           {
            "marker": {
             "pattern": {
              "fillmode": "overlay",
              "size": 10,
              "solidity": 0.2
             }
            },
            "type": "histogram"
           }
          ],
          "histogram2d": [
           {
            "colorbar": {
             "outlinewidth": 0,
             "ticks": ""
            },
            "colorscale": [
             [
              0,
              "#0d0887"
             ],
             [
              0.1111111111111111,
              "#46039f"
             ],
             [
              0.2222222222222222,
              "#7201a8"
             ],
             [
              0.3333333333333333,
              "#9c179e"
             ],
             [
              0.4444444444444444,
              "#bd3786"
             ],
             [
              0.5555555555555556,
              "#d8576b"
             ],
             [
              0.6666666666666666,
              "#ed7953"
             ],
             [
              0.7777777777777778,
              "#fb9f3a"
             ],
             [
              0.8888888888888888,
              "#fdca26"
             ],
             [
              1,
              "#f0f921"
             ]
            ],
            "type": "histogram2d"
           }
          ],
          "histogram2dcontour": [
           {
            "colorbar": {
             "outlinewidth": 0,
             "ticks": ""
            },
            "colorscale": [
             [
              0,
              "#0d0887"
             ],
             [
              0.1111111111111111,
              "#46039f"
             ],
             [
              0.2222222222222222,
              "#7201a8"
             ],
             [
              0.3333333333333333,
              "#9c179e"
             ],
             [
              0.4444444444444444,
              "#bd3786"
             ],
             [
              0.5555555555555556,
              "#d8576b"
             ],
             [
              0.6666666666666666,
              "#ed7953"
             ],
             [
              0.7777777777777778,
              "#fb9f3a"
             ],
             [
              0.8888888888888888,
              "#fdca26"
             ],
             [
              1,
              "#f0f921"
             ]
            ],
            "type": "histogram2dcontour"
           }
          ],
          "mesh3d": [
           {
            "colorbar": {
             "outlinewidth": 0,
             "ticks": ""
            },
            "type": "mesh3d"
           }
          ],
          "parcoords": [
           {
            "line": {
             "colorbar": {
              "outlinewidth": 0,
              "ticks": ""
             }
            },
            "type": "parcoords"
           }
          ],
          "pie": [
           {
            "automargin": true,
            "type": "pie"
           }
          ],
          "scatter": [
           {
            "marker": {
             "line": {
              "color": "#283442"
             }
            },
            "type": "scatter"
           }
          ],
          "scatter3d": [
           {
            "line": {
             "colorbar": {
              "outlinewidth": 0,
              "ticks": ""
             }
            },
            "marker": {
             "colorbar": {
              "outlinewidth": 0,
              "ticks": ""
             }
            },
            "type": "scatter3d"
           }
          ],
          "scattercarpet": [
           {
            "marker": {
             "colorbar": {
              "outlinewidth": 0,
              "ticks": ""
             }
            },
            "type": "scattercarpet"
           }
          ],
          "scattergeo": [
           {
            "marker": {
             "colorbar": {
              "outlinewidth": 0,
              "ticks": ""
             }
            },
            "type": "scattergeo"
           }
          ],
          "scattergl": [
           {
            "marker": {
             "line": {
              "color": "#283442"
             }
            },
            "type": "scattergl"
           }
          ],
          "scattermapbox": [
           {
            "marker": {
             "colorbar": {
              "outlinewidth": 0,
              "ticks": ""
             }
            },
            "type": "scattermapbox"
           }
          ],
          "scatterpolar": [
           {
            "marker": {
             "colorbar": {
              "outlinewidth": 0,
              "ticks": ""
             }
            },
            "type": "scatterpolar"
           }
          ],
          "scatterpolargl": [
           {
            "marker": {
             "colorbar": {
              "outlinewidth": 0,
              "ticks": ""
             }
            },
            "type": "scatterpolargl"
           }
          ],
          "scatterternary": [
           {
            "marker": {
             "colorbar": {
              "outlinewidth": 0,
              "ticks": ""
             }
            },
            "type": "scatterternary"
           }
          ],
          "surface": [
           {
            "colorbar": {
             "outlinewidth": 0,
             "ticks": ""
            },
            "colorscale": [
             [
              0,
              "#0d0887"
             ],
             [
              0.1111111111111111,
              "#46039f"
             ],
             [
              0.2222222222222222,
              "#7201a8"
             ],
             [
              0.3333333333333333,
              "#9c179e"
             ],
             [
              0.4444444444444444,
              "#bd3786"
             ],
             [
              0.5555555555555556,
              "#d8576b"
             ],
             [
              0.6666666666666666,
              "#ed7953"
             ],
             [
              0.7777777777777778,
              "#fb9f3a"
             ],
             [
              0.8888888888888888,
              "#fdca26"
             ],
             [
              1,
              "#f0f921"
             ]
            ],
            "type": "surface"
           }
          ],
          "table": [
           {
            "cells": {
             "fill": {
              "color": "#506784"
             },
             "line": {
              "color": "rgb(17,17,17)"
             }
            },
            "header": {
             "fill": {
              "color": "#2a3f5f"
             },
             "line": {
              "color": "rgb(17,17,17)"
             }
            },
            "type": "table"
           }
          ]
         },
         "layout": {
          "annotationdefaults": {
           "arrowcolor": "#f2f5fa",
           "arrowhead": 0,
           "arrowwidth": 1
          },
          "autotypenumbers": "strict",
          "coloraxis": {
           "colorbar": {
            "outlinewidth": 0,
            "ticks": ""
           }
          },
          "colorscale": {
           "diverging": [
            [
             0,
             "#8e0152"
            ],
            [
             0.1,
             "#c51b7d"
            ],
            [
             0.2,
             "#de77ae"
            ],
            [
             0.3,
             "#f1b6da"
            ],
            [
             0.4,
             "#fde0ef"
            ],
            [
             0.5,
             "#f7f7f7"
            ],
            [
             0.6,
             "#e6f5d0"
            ],
            [
             0.7,
             "#b8e186"
            ],
            [
             0.8,
             "#7fbc41"
            ],
            [
             0.9,
             "#4d9221"
            ],
            [
             1,
             "#276419"
            ]
           ],
           "sequential": [
            [
             0,
             "#0d0887"
            ],
            [
             0.1111111111111111,
             "#46039f"
            ],
            [
             0.2222222222222222,
             "#7201a8"
            ],
            [
             0.3333333333333333,
             "#9c179e"
            ],
            [
             0.4444444444444444,
             "#bd3786"
            ],
            [
             0.5555555555555556,
             "#d8576b"
            ],
            [
             0.6666666666666666,
             "#ed7953"
            ],
            [
             0.7777777777777778,
             "#fb9f3a"
            ],
            [
             0.8888888888888888,
             "#fdca26"
            ],
            [
             1,
             "#f0f921"
            ]
           ],
           "sequentialminus": [
            [
             0,
             "#0d0887"
            ],
            [
             0.1111111111111111,
             "#46039f"
            ],
            [
             0.2222222222222222,
             "#7201a8"
            ],
            [
             0.3333333333333333,
             "#9c179e"
            ],
            [
             0.4444444444444444,
             "#bd3786"
            ],
            [
             0.5555555555555556,
             "#d8576b"
            ],
            [
             0.6666666666666666,
             "#ed7953"
            ],
            [
             0.7777777777777778,
             "#fb9f3a"
            ],
            [
             0.8888888888888888,
             "#fdca26"
            ],
            [
             1,
             "#f0f921"
            ]
           ]
          },
          "colorway": [
           "#636efa",
           "#EF553B",
           "#00cc96",
           "#ab63fa",
           "#FFA15A",
           "#19d3f3",
           "#FF6692",
           "#B6E880",
           "#FF97FF",
           "#FECB52"
          ],
          "font": {
           "color": "#f2f5fa"
          },
          "geo": {
           "bgcolor": "rgb(17,17,17)",
           "lakecolor": "rgb(17,17,17)",
           "landcolor": "rgb(17,17,17)",
           "showlakes": true,
           "showland": true,
           "subunitcolor": "#506784"
          },
          "hoverlabel": {
           "align": "left"
          },
          "hovermode": "closest",
          "mapbox": {
           "style": "dark"
          },
          "paper_bgcolor": "rgb(17,17,17)",
          "plot_bgcolor": "rgb(17,17,17)",
          "polar": {
           "angularaxis": {
            "gridcolor": "#506784",
            "linecolor": "#506784",
            "ticks": ""
           },
           "bgcolor": "rgb(17,17,17)",
           "radialaxis": {
            "gridcolor": "#506784",
            "linecolor": "#506784",
            "ticks": ""
           }
          },
          "scene": {
           "xaxis": {
            "backgroundcolor": "rgb(17,17,17)",
            "gridcolor": "#506784",
            "gridwidth": 2,
            "linecolor": "#506784",
            "showbackground": true,
            "ticks": "",
            "zerolinecolor": "#C8D4E3"
           },
           "yaxis": {
            "backgroundcolor": "rgb(17,17,17)",
            "gridcolor": "#506784",
            "gridwidth": 2,
            "linecolor": "#506784",
            "showbackground": true,
            "ticks": "",
            "zerolinecolor": "#C8D4E3"
           },
           "zaxis": {
            "backgroundcolor": "rgb(17,17,17)",
            "gridcolor": "#506784",
            "gridwidth": 2,
            "linecolor": "#506784",
            "showbackground": true,
            "ticks": "",
            "zerolinecolor": "#C8D4E3"
           }
          },
          "shapedefaults": {
           "line": {
            "color": "#f2f5fa"
           }
          },
          "sliderdefaults": {
           "bgcolor": "#C8D4E3",
           "bordercolor": "rgb(17,17,17)",
           "borderwidth": 1,
           "tickwidth": 0
          },
          "ternary": {
           "aaxis": {
            "gridcolor": "#506784",
            "linecolor": "#506784",
            "ticks": ""
           },
           "baxis": {
            "gridcolor": "#506784",
            "linecolor": "#506784",
            "ticks": ""
           },
           "bgcolor": "rgb(17,17,17)",
           "caxis": {
            "gridcolor": "#506784",
            "linecolor": "#506784",
            "ticks": ""
           }
          },
          "title": {
           "x": 0.05
          },
          "updatemenudefaults": {
           "bgcolor": "#506784",
           "borderwidth": 0
          },
          "xaxis": {
           "automargin": true,
           "gridcolor": "#283442",
           "linecolor": "#506784",
           "ticks": "",
           "title": {
            "standoff": 15
           },
           "zerolinecolor": "#283442",
           "zerolinewidth": 2
          },
          "yaxis": {
           "automargin": true,
           "gridcolor": "#283442",
           "linecolor": "#506784",
           "ticks": "",
           "title": {
            "standoff": 15
           },
           "zerolinecolor": "#283442",
           "zerolinewidth": 2
          }
         }
        },
        "title": {
         "text": "Distribution of the Gloom Index"
        },
        "violinmode": "group",
        "xaxis": {
         "anchor": "y",
         "domain": [
          0,
          1
         ]
        },
        "yaxis": {
         "anchor": "x",
         "domain": [
          0,
          1
         ],
         "title": {
          "text": "Gloom Index"
         }
        }
       }
      },
      "text/html": [
       "<div>                            <div id=\"d448e0ec-3ac0-4c3c-af8d-3c97745d66cc\" class=\"plotly-graph-div\" style=\"height:525px; width:100%;\"></div>            <script type=\"text/javascript\">                require([\"plotly\"], function(Plotly) {                    window.PLOTLYENV=window.PLOTLYENV || {};                                    if (document.getElementById(\"d448e0ec-3ac0-4c3c-af8d-3c97745d66cc\")) {                    Plotly.newPlot(                        \"d448e0ec-3ac0-4c3c-af8d-3c97745d66cc\",                        [{\"alignmentgroup\":\"True\",\"box\":{\"visible\":true},\"hovertemplate\":\"\\u003cb\\u003e%{hovertext}\\u003c\\u002fb\\u003e\\u003cbr\\u003e\\u003cbr\\u003eGloom Index=%{y}\\u003cextra\\u003e\\u003c\\u002fextra\\u003e\",\"hovertext\":[\"True Love Waits\",\"Give Up The Ghost\",\"Motion Picture Soundtrack\",\"Let Down\",\"Pyramid Song\",\"Exit Music (For a Film)\",\"Dollars & Cents\",\"High And Dry\",\"Tinker Tailor Soldier Sailor Rich Man Poor Man Beggar Man Thief\",\"Videotape\",\"We Suck Young Blood\",\"Life In a Glasshouse\",\"Codex\",\"The Tourist\",\"Creep\",\"Bullet Proof ... I Wish I Was\",\"The Numbers\",\"Weird Fishes\\u002f Arpeggi\",\"The Gloaming\",\"Nude\",\"Sail To The Moon\",\"Planet Telex\",\"Fake Plastic Trees\",\"Karma Police\",\"Treefingers\",\"Everything In Its Right Place\",\"Glass Eyes\",\"Daydreaming\",\"No Surprises\",\"Hunting Bears\",\"Untitled\",\"Street Spirit (Fade Out)\",\"You And Whose Army?\",\"All I Need\",\"Black Star\",\"Identikit\",\"I Can't\",\"Kid A\",\"I Will\",\"Climbing Up the Walls\",\"Pulk\\u002fPull Revolving Doors\",\"Lucky\",\"Present Tense\",\"Desert Island Disk\",\"How Do You?\",\"Reckoner\",\"Ful Stop\",\"Knives Out\",\"Ripcord\",\"Scatterbrain\",\"Faust Arp\",\"Paranoid Android\",\"How To Disappear Completely\",\"Decks Dark\",\"Like Spinning Plates\",\"Morning Bell\\u002fAmnesiac\",\"Stop Whispering\",\"Just\",\"Prove Yourself\",\"Electioneering\",\"Blow Out\",\"2 + 2 = 5\",\"The Bends\",\"Bloom\",\"Subterranean Homesick Alien\",\"You\",\"A Wolf At the Door\",\"A Punch Up At a Wedding\",\"Vegetable\",\"Bones\",\"Morning Bell\",\"(Nice Dream)\",\"The National Anthem\",\"Backdrifts\",\"Lurgee\",\"Morning Mr Magpie\",\"Little By Little\",\"Thinking About You\",\"In Limbo\",\"Where I End and You Begin\",\"Lotus Flower\",\"Sit Down. Stand Up\",\"I Might Be Wrong\",\"Separator\",\"Burn the Witch\",\"Myxomatosis\",\"Idioteque\",\"Optimistic\",\"Anyone Can Play Guitar\",\"There, There\",\"House Of Cards\",\"My Iron Lung\",\"Fitter Happier\",\"Sulk\",\"Packt Like Sardines In a Crushed Tin Box\",\"Airbag\",\"Go To Sleep\",\"Jigsaw Falling Into Place\",\"Bodysnatchers\",\"Feral\",\"15 Step\"],\"legendgroup\":\"\",\"marker\":{\"color\":\"#636efa\"},\"name\":\"\",\"offsetgroup\":\"\",\"orientation\":\"v\",\"points\":\"all\",\"scalegroup\":\"True\",\"showlegend\":false,\"x0\":\" \",\"xaxis\":\"x\",\"y\":[1.0,6.46,9.35,13.7,14.15,14.57,15.29,15.69,15.8,16.03,16.21,20.54,21.86,22.52,22.6,22.69,22.82,25.1,26.5,26.62,26.71,26.99,27.7,27.77,27.87,27.87,28.27,28.84,29.34,29.64,29.67,29.71,30.86,31.03,31.07,32.25,32.33,33.78,34.14,34.61,34.86,35.17,35.56,36.5,36.56,37.95,38.88,39.06,40.56,40.64,40.71,40.98,40.98,41.09,41.71,42.44,43.48,44.21,44.68,45.81,46.08,47.4,48.25,48.55,49.68,50.39,50.8,53.88,54.45,55.99,56.37,57.42,57.7,57.99,58.06,59.71,59.9,60.8,61.5,64.23,67.59,68.61,68.84,69.83,70.19,70.4,71.77,72.09,72.23,72.34,72.43,73.76,75.23,76.63,80.63,81.18,82.28,84.85,88.4,91.14,100.0],\"y0\":\" \",\"yaxis\":\"y\",\"type\":\"violin\"}],                        {\"template\":{\"data\":{\"barpolar\":[{\"marker\":{\"line\":{\"color\":\"rgb(17,17,17)\",\"width\":0.5},\"pattern\":{\"fillmode\":\"overlay\",\"size\":10,\"solidity\":0.2}},\"type\":\"barpolar\"}],\"bar\":[{\"error_x\":{\"color\":\"#f2f5fa\"},\"error_y\":{\"color\":\"#f2f5fa\"},\"marker\":{\"line\":{\"color\":\"rgb(17,17,17)\",\"width\":0.5},\"pattern\":{\"fillmode\":\"overlay\",\"size\":10,\"solidity\":0.2}},\"type\":\"bar\"}],\"carpet\":[{\"aaxis\":{\"endlinecolor\":\"#A2B1C6\",\"gridcolor\":\"#506784\",\"linecolor\":\"#506784\",\"minorgridcolor\":\"#506784\",\"startlinecolor\":\"#A2B1C6\"},\"baxis\":{\"endlinecolor\":\"#A2B1C6\",\"gridcolor\":\"#506784\",\"linecolor\":\"#506784\",\"minorgridcolor\":\"#506784\",\"startlinecolor\":\"#A2B1C6\"},\"type\":\"carpet\"}],\"choropleth\":[{\"colorbar\":{\"outlinewidth\":0,\"ticks\":\"\"},\"type\":\"choropleth\"}],\"contourcarpet\":[{\"colorbar\":{\"outlinewidth\":0,\"ticks\":\"\"},\"type\":\"contourcarpet\"}],\"contour\":[{\"colorbar\":{\"outlinewidth\":0,\"ticks\":\"\"},\"colorscale\":[[0.0,\"#0d0887\"],[0.1111111111111111,\"#46039f\"],[0.2222222222222222,\"#7201a8\"],[0.3333333333333333,\"#9c179e\"],[0.4444444444444444,\"#bd3786\"],[0.5555555555555556,\"#d8576b\"],[0.6666666666666666,\"#ed7953\"],[0.7777777777777778,\"#fb9f3a\"],[0.8888888888888888,\"#fdca26\"],[1.0,\"#f0f921\"]],\"type\":\"contour\"}],\"heatmapgl\":[{\"colorbar\":{\"outlinewidth\":0,\"ticks\":\"\"},\"colorscale\":[[0.0,\"#0d0887\"],[0.1111111111111111,\"#46039f\"],[0.2222222222222222,\"#7201a8\"],[0.3333333333333333,\"#9c179e\"],[0.4444444444444444,\"#bd3786\"],[0.5555555555555556,\"#d8576b\"],[0.6666666666666666,\"#ed7953\"],[0.7777777777777778,\"#fb9f3a\"],[0.8888888888888888,\"#fdca26\"],[1.0,\"#f0f921\"]],\"type\":\"heatmapgl\"}],\"heatmap\":[{\"colorbar\":{\"outlinewidth\":0,\"ticks\":\"\"},\"colorscale\":[[0.0,\"#0d0887\"],[0.1111111111111111,\"#46039f\"],[0.2222222222222222,\"#7201a8\"],[0.3333333333333333,\"#9c179e\"],[0.4444444444444444,\"#bd3786\"],[0.5555555555555556,\"#d8576b\"],[0.6666666666666666,\"#ed7953\"],[0.7777777777777778,\"#fb9f3a\"],[0.8888888888888888,\"#fdca26\"],[1.0,\"#f0f921\"]],\"type\":\"heatmap\"}],\"histogram2dcontour\":[{\"colorbar\":{\"outlinewidth\":0,\"ticks\":\"\"},\"colorscale\":[[0.0,\"#0d0887\"],[0.1111111111111111,\"#46039f\"],[0.2222222222222222,\"#7201a8\"],[0.3333333333333333,\"#9c179e\"],[0.4444444444444444,\"#bd3786\"],[0.5555555555555556,\"#d8576b\"],[0.6666666666666666,\"#ed7953\"],[0.7777777777777778,\"#fb9f3a\"],[0.8888888888888888,\"#fdca26\"],[1.0,\"#f0f921\"]],\"type\":\"histogram2dcontour\"}],\"histogram2d\":[{\"colorbar\":{\"outlinewidth\":0,\"ticks\":\"\"},\"colorscale\":[[0.0,\"#0d0887\"],[0.1111111111111111,\"#46039f\"],[0.2222222222222222,\"#7201a8\"],[0.3333333333333333,\"#9c179e\"],[0.4444444444444444,\"#bd3786\"],[0.5555555555555556,\"#d8576b\"],[0.6666666666666666,\"#ed7953\"],[0.7777777777777778,\"#fb9f3a\"],[0.8888888888888888,\"#fdca26\"],[1.0,\"#f0f921\"]],\"type\":\"histogram2d\"}],\"histogram\":[{\"marker\":{\"pattern\":{\"fillmode\":\"overlay\",\"size\":10,\"solidity\":0.2}},\"type\":\"histogram\"}],\"mesh3d\":[{\"colorbar\":{\"outlinewidth\":0,\"ticks\":\"\"},\"type\":\"mesh3d\"}],\"parcoords\":[{\"line\":{\"colorbar\":{\"outlinewidth\":0,\"ticks\":\"\"}},\"type\":\"parcoords\"}],\"pie\":[{\"automargin\":true,\"type\":\"pie\"}],\"scatter3d\":[{\"line\":{\"colorbar\":{\"outlinewidth\":0,\"ticks\":\"\"}},\"marker\":{\"colorbar\":{\"outlinewidth\":0,\"ticks\":\"\"}},\"type\":\"scatter3d\"}],\"scattercarpet\":[{\"marker\":{\"colorbar\":{\"outlinewidth\":0,\"ticks\":\"\"}},\"type\":\"scattercarpet\"}],\"scattergeo\":[{\"marker\":{\"colorbar\":{\"outlinewidth\":0,\"ticks\":\"\"}},\"type\":\"scattergeo\"}],\"scattergl\":[{\"marker\":{\"line\":{\"color\":\"#283442\"}},\"type\":\"scattergl\"}],\"scattermapbox\":[{\"marker\":{\"colorbar\":{\"outlinewidth\":0,\"ticks\":\"\"}},\"type\":\"scattermapbox\"}],\"scatterpolargl\":[{\"marker\":{\"colorbar\":{\"outlinewidth\":0,\"ticks\":\"\"}},\"type\":\"scatterpolargl\"}],\"scatterpolar\":[{\"marker\":{\"colorbar\":{\"outlinewidth\":0,\"ticks\":\"\"}},\"type\":\"scatterpolar\"}],\"scatter\":[{\"marker\":{\"line\":{\"color\":\"#283442\"}},\"type\":\"scatter\"}],\"scatterternary\":[{\"marker\":{\"colorbar\":{\"outlinewidth\":0,\"ticks\":\"\"}},\"type\":\"scatterternary\"}],\"surface\":[{\"colorbar\":{\"outlinewidth\":0,\"ticks\":\"\"},\"colorscale\":[[0.0,\"#0d0887\"],[0.1111111111111111,\"#46039f\"],[0.2222222222222222,\"#7201a8\"],[0.3333333333333333,\"#9c179e\"],[0.4444444444444444,\"#bd3786\"],[0.5555555555555556,\"#d8576b\"],[0.6666666666666666,\"#ed7953\"],[0.7777777777777778,\"#fb9f3a\"],[0.8888888888888888,\"#fdca26\"],[1.0,\"#f0f921\"]],\"type\":\"surface\"}],\"table\":[{\"cells\":{\"fill\":{\"color\":\"#506784\"},\"line\":{\"color\":\"rgb(17,17,17)\"}},\"header\":{\"fill\":{\"color\":\"#2a3f5f\"},\"line\":{\"color\":\"rgb(17,17,17)\"}},\"type\":\"table\"}]},\"layout\":{\"annotationdefaults\":{\"arrowcolor\":\"#f2f5fa\",\"arrowhead\":0,\"arrowwidth\":1},\"autotypenumbers\":\"strict\",\"coloraxis\":{\"colorbar\":{\"outlinewidth\":0,\"ticks\":\"\"}},\"colorscale\":{\"diverging\":[[0,\"#8e0152\"],[0.1,\"#c51b7d\"],[0.2,\"#de77ae\"],[0.3,\"#f1b6da\"],[0.4,\"#fde0ef\"],[0.5,\"#f7f7f7\"],[0.6,\"#e6f5d0\"],[0.7,\"#b8e186\"],[0.8,\"#7fbc41\"],[0.9,\"#4d9221\"],[1,\"#276419\"]],\"sequential\":[[0.0,\"#0d0887\"],[0.1111111111111111,\"#46039f\"],[0.2222222222222222,\"#7201a8\"],[0.3333333333333333,\"#9c179e\"],[0.4444444444444444,\"#bd3786\"],[0.5555555555555556,\"#d8576b\"],[0.6666666666666666,\"#ed7953\"],[0.7777777777777778,\"#fb9f3a\"],[0.8888888888888888,\"#fdca26\"],[1.0,\"#f0f921\"]],\"sequentialminus\":[[0.0,\"#0d0887\"],[0.1111111111111111,\"#46039f\"],[0.2222222222222222,\"#7201a8\"],[0.3333333333333333,\"#9c179e\"],[0.4444444444444444,\"#bd3786\"],[0.5555555555555556,\"#d8576b\"],[0.6666666666666666,\"#ed7953\"],[0.7777777777777778,\"#fb9f3a\"],[0.8888888888888888,\"#fdca26\"],[1.0,\"#f0f921\"]]},\"colorway\":[\"#636efa\",\"#EF553B\",\"#00cc96\",\"#ab63fa\",\"#FFA15A\",\"#19d3f3\",\"#FF6692\",\"#B6E880\",\"#FF97FF\",\"#FECB52\"],\"font\":{\"color\":\"#f2f5fa\"},\"geo\":{\"bgcolor\":\"rgb(17,17,17)\",\"lakecolor\":\"rgb(17,17,17)\",\"landcolor\":\"rgb(17,17,17)\",\"showlakes\":true,\"showland\":true,\"subunitcolor\":\"#506784\"},\"hoverlabel\":{\"align\":\"left\"},\"hovermode\":\"closest\",\"mapbox\":{\"style\":\"dark\"},\"paper_bgcolor\":\"rgb(17,17,17)\",\"plot_bgcolor\":\"rgb(17,17,17)\",\"polar\":{\"angularaxis\":{\"gridcolor\":\"#506784\",\"linecolor\":\"#506784\",\"ticks\":\"\"},\"bgcolor\":\"rgb(17,17,17)\",\"radialaxis\":{\"gridcolor\":\"#506784\",\"linecolor\":\"#506784\",\"ticks\":\"\"}},\"scene\":{\"xaxis\":{\"backgroundcolor\":\"rgb(17,17,17)\",\"gridcolor\":\"#506784\",\"gridwidth\":2,\"linecolor\":\"#506784\",\"showbackground\":true,\"ticks\":\"\",\"zerolinecolor\":\"#C8D4E3\"},\"yaxis\":{\"backgroundcolor\":\"rgb(17,17,17)\",\"gridcolor\":\"#506784\",\"gridwidth\":2,\"linecolor\":\"#506784\",\"showbackground\":true,\"ticks\":\"\",\"zerolinecolor\":\"#C8D4E3\"},\"zaxis\":{\"backgroundcolor\":\"rgb(17,17,17)\",\"gridcolor\":\"#506784\",\"gridwidth\":2,\"linecolor\":\"#506784\",\"showbackground\":true,\"ticks\":\"\",\"zerolinecolor\":\"#C8D4E3\"}},\"shapedefaults\":{\"line\":{\"color\":\"#f2f5fa\"}},\"sliderdefaults\":{\"bgcolor\":\"#C8D4E3\",\"bordercolor\":\"rgb(17,17,17)\",\"borderwidth\":1,\"tickwidth\":0},\"ternary\":{\"aaxis\":{\"gridcolor\":\"#506784\",\"linecolor\":\"#506784\",\"ticks\":\"\"},\"baxis\":{\"gridcolor\":\"#506784\",\"linecolor\":\"#506784\",\"ticks\":\"\"},\"bgcolor\":\"rgb(17,17,17)\",\"caxis\":{\"gridcolor\":\"#506784\",\"linecolor\":\"#506784\",\"ticks\":\"\"}},\"title\":{\"x\":0.05},\"updatemenudefaults\":{\"bgcolor\":\"#506784\",\"borderwidth\":0},\"xaxis\":{\"automargin\":true,\"gridcolor\":\"#283442\",\"linecolor\":\"#506784\",\"ticks\":\"\",\"title\":{\"standoff\":15},\"zerolinecolor\":\"#283442\",\"zerolinewidth\":2},\"yaxis\":{\"automargin\":true,\"gridcolor\":\"#283442\",\"linecolor\":\"#506784\",\"ticks\":\"\",\"title\":{\"standoff\":15},\"zerolinecolor\":\"#283442\",\"zerolinewidth\":2}}},\"xaxis\":{\"anchor\":\"y\",\"domain\":[0.0,1.0]},\"yaxis\":{\"anchor\":\"x\",\"domain\":[0.0,1.0],\"title\":{\"text\":\"Gloom Index\"}},\"legend\":{\"tracegroupgap\":0},\"title\":{\"text\":\"Distribution of the Gloom Index\"},\"violinmode\":\"group\",\"annotations\":[{\"align\":\"left\",\"showarrow\":false,\"text\":\"Data Source: \\u003ca href=\\u201dhttps:\\u002f\\u002fwww.kaggle.com\\u002fdatasets\\u002flavagod\\u002fradiohead\\u002fversions\\u002f1?resource=download\\u201d\\u003eRadiohead Data\\u003c\\u002fa\\u003e \\u003cbr\\u003eViz: \\u003ca href=\\u201dhttps:\\u002f\\u002ftwitter.com\\u002f_prospecttheory\\u201d\\u003e@_prospecttheory\\u003c\\u002fa\\u003e \\u003cbr\\u003e \\u003cbr\\u003e \\u003cbr\\u003e \\u003cbr\\u003e \\u003cbr\\u003e\",\"x\":-0.05,\"xref\":\"paper\",\"y\":-0.5,\"yref\":\"paper\"}]},                        {\"responsive\": true}                    ).then(function(){\n",
       "                            \n",
       "var gd = document.getElementById('d448e0ec-3ac0-4c3c-af8d-3c97745d66cc');\n",
       "var x = new MutationObserver(function (mutations, observer) {{\n",
       "        var display = window.getComputedStyle(gd).display;\n",
       "        if (!display || display === 'none') {{\n",
       "            console.log([gd, 'removed!']);\n",
       "            Plotly.purge(gd);\n",
       "            observer.disconnect();\n",
       "        }}\n",
       "}});\n",
       "\n",
       "// Listen for the removal of the full notebook cells\n",
       "var notebookContainer = gd.closest('#notebook-container');\n",
       "if (notebookContainer) {{\n",
       "    x.observe(notebookContainer, {childList: true});\n",
       "}}\n",
       "\n",
       "// Listen for the clearing of the current output cell\n",
       "var outputEl = gd.closest('.output');\n",
       "if (outputEl) {{\n",
       "    x.observe(outputEl, {childList: true});\n",
       "}}\n",
       "\n",
       "                        })                };                });            </script>        </div>"
      ]
     },
     "metadata": {},
     "output_type": "display_data"
    }
   ],
   "source": [
    "#Plot Gloom Index\n",
    "fig = px.violin(df_radiohead_gloom_index, y = 'gloom_index', hover_name= 'track_name',\n",
    "            labels={'gloom_index': 'Gloom Index'}, box = True, points= 'all', title = 'Distribution of the Gloom Index', template='plotly_dark')\n",
    "\n",
    "#Add Signature\n",
    "fig.add_annotation(text='Data Source: <a href=”https://www.kaggle.com/datasets/lavagod/radiohead/versions/1?resource=download”>Radiohead Data</a> <br>Viz: <a href=”https://twitter.com/_prospecttheory”>@_prospecttheory</a> <br> <br> <br> <br> <br>', \n",
    "                    align='left',\n",
    "                    showarrow=False,\n",
    "                    xref='paper',\n",
    "                    yref='paper',\n",
    "                    x= -0.05,\n",
    "                    y= -0.5)\n",
    "\n",
    "\n",
    "fig.show()"
   ]
  },
  {
   "cell_type": "markdown",
   "id": "68530d3a",
   "metadata": {},
   "source": [
    "We can see that even only compared among each other the distribution of the band's songs is not even. The majority of their repertoire is on the less cheerful side. Which checks out with the general feel of their music. For further reference it is important to remember that their median song scores a 40.7."
   ]
  },
  {
   "cell_type": "markdown",
   "id": "931b39cd",
   "metadata": {},
   "source": [
    "## So, what album is the gloomiest?"
   ]
  },
  {
   "cell_type": "markdown",
   "id": "85b26bb1",
   "metadata": {},
   "source": [
    "By averaging out the gloom scores by LP we can find the saddest album of the band:"
   ]
  },
  {
   "cell_type": "code",
   "execution_count": 370,
   "id": "4b00bd10",
   "metadata": {},
   "outputs": [
    {
     "data": {
      "text/html": [
       "<div>\n",
       "<style scoped>\n",
       "    .dataframe tbody tr th:only-of-type {\n",
       "        vertical-align: middle;\n",
       "    }\n",
       "\n",
       "    .dataframe tbody tr th {\n",
       "        vertical-align: top;\n",
       "    }\n",
       "\n",
       "    .dataframe thead th {\n",
       "        text-align: right;\n",
       "    }\n",
       "</style>\n",
       "<table border=\"1\" class=\"dataframe\">\n",
       "  <thead>\n",
       "    <tr style=\"text-align: right;\">\n",
       "      <th></th>\n",
       "      <th>track_name</th>\n",
       "      <th>valence</th>\n",
       "      <th>duration_ms</th>\n",
       "      <th>lyrics</th>\n",
       "      <th>album_name</th>\n",
       "      <th>album_release_year</th>\n",
       "      <th>album_img</th>\n",
       "      <th>pct_sad</th>\n",
       "      <th>word_count</th>\n",
       "      <th>lyrical_density</th>\n",
       "      <th>gloom_index</th>\n",
       "      <th>amount_sad_words</th>\n",
       "      <th>duration_mins</th>\n",
       "      <th>gloom_mean</th>\n",
       "    </tr>\n",
       "  </thead>\n",
       "  <tbody>\n",
       "    <tr>\n",
       "      <th>0</th>\n",
       "      <td>You</td>\n",
       "      <td>0.3050</td>\n",
       "      <td>208667</td>\n",
       "      <td>you are the sun and moon and stars are you and...</td>\n",
       "      <td>Pablo Honey</td>\n",
       "      <td>1993</td>\n",
       "      <td>https://i.scdn.co/image/e17011b2aa33289dfa6c08...</td>\n",
       "      <td>0.0000</td>\n",
       "      <td>19</td>\n",
       "      <td>0.091054</td>\n",
       "      <td>50.39</td>\n",
       "      <td>0.0</td>\n",
       "      <td>3.477783</td>\n",
       "      <td>46.851667</td>\n",
       "    </tr>\n",
       "    <tr>\n",
       "      <th>1</th>\n",
       "      <td>Creep</td>\n",
       "      <td>0.0960</td>\n",
       "      <td>238640</td>\n",
       "      <td>when you were here before couldn't look you in...</td>\n",
       "      <td>Pablo Honey</td>\n",
       "      <td>1993</td>\n",
       "      <td>https://i.scdn.co/image/e17011b2aa33289dfa6c08...</td>\n",
       "      <td>0.0784</td>\n",
       "      <td>51</td>\n",
       "      <td>0.213711</td>\n",
       "      <td>22.60</td>\n",
       "      <td>4.0</td>\n",
       "      <td>3.977333</td>\n",
       "      <td>46.851667</td>\n",
       "    </tr>\n",
       "    <tr>\n",
       "      <th>2</th>\n",
       "      <td>How Do You?</td>\n",
       "      <td>0.2640</td>\n",
       "      <td>132173</td>\n",
       "      <td>he's bitter and twisted he knows what he wants...</td>\n",
       "      <td>Pablo Honey</td>\n",
       "      <td>1993</td>\n",
       "      <td>https://i.scdn.co/image/e17011b2aa33289dfa6c08...</td>\n",
       "      <td>0.0952</td>\n",
       "      <td>21</td>\n",
       "      <td>0.158883</td>\n",
       "      <td>36.56</td>\n",
       "      <td>2.0</td>\n",
       "      <td>2.202883</td>\n",
       "      <td>46.851667</td>\n",
       "    </tr>\n",
       "    <tr>\n",
       "      <th>3</th>\n",
       "      <td>Stop Whispering</td>\n",
       "      <td>0.2790</td>\n",
       "      <td>325627</td>\n",
       "      <td>and the wise man said i don't want to hear you...</td>\n",
       "      <td>Pablo Honey</td>\n",
       "      <td>1993</td>\n",
       "      <td>https://i.scdn.co/image/e17011b2aa33289dfa6c08...</td>\n",
       "      <td>0.0435</td>\n",
       "      <td>46</td>\n",
       "      <td>0.141266</td>\n",
       "      <td>43.48</td>\n",
       "      <td>2.0</td>\n",
       "      <td>5.427117</td>\n",
       "      <td>46.851667</td>\n",
       "    </tr>\n",
       "    <tr>\n",
       "      <th>4</th>\n",
       "      <td>Thinking About You</td>\n",
       "      <td>0.4190</td>\n",
       "      <td>161533</td>\n",
       "      <td>been thinking about you your records are here ...</td>\n",
       "      <td>Pablo Honey</td>\n",
       "      <td>1993</td>\n",
       "      <td>https://i.scdn.co/image/e17011b2aa33289dfa6c08...</td>\n",
       "      <td>0.0000</td>\n",
       "      <td>39</td>\n",
       "      <td>0.241437</td>\n",
       "      <td>60.80</td>\n",
       "      <td>0.0</td>\n",
       "      <td>2.692217</td>\n",
       "      <td>46.851667</td>\n",
       "    </tr>\n",
       "    <tr>\n",
       "      <th>...</th>\n",
       "      <td>...</td>\n",
       "      <td>...</td>\n",
       "      <td>...</td>\n",
       "      <td>...</td>\n",
       "      <td>...</td>\n",
       "      <td>...</td>\n",
       "      <td>...</td>\n",
       "      <td>...</td>\n",
       "      <td>...</td>\n",
       "      <td>...</td>\n",
       "      <td>...</td>\n",
       "      <td>...</td>\n",
       "      <td>...</td>\n",
       "      <td>...</td>\n",
       "    </tr>\n",
       "    <tr>\n",
       "      <th>96</th>\n",
       "      <td>Identikit</td>\n",
       "      <td>0.3540</td>\n",
       "      <td>266644</td>\n",
       "      <td>repeated background hook a moon shaped pool da...</td>\n",
       "      <td>A Moon Shaped Pool</td>\n",
       "      <td>2016</td>\n",
       "      <td>https://i.scdn.co/image/0d1460c036897175f4631e...</td>\n",
       "      <td>0.1800</td>\n",
       "      <td>100</td>\n",
       "      <td>0.375032</td>\n",
       "      <td>32.25</td>\n",
       "      <td>18.0</td>\n",
       "      <td>4.444067</td>\n",
       "      <td>31.927273</td>\n",
       "    </tr>\n",
       "    <tr>\n",
       "      <th>97</th>\n",
       "      <td>The Numbers</td>\n",
       "      <td>0.0545</td>\n",
       "      <td>345887</td>\n",
       "      <td>it holds us like a phantom it touches like a b...</td>\n",
       "      <td>A Moon Shaped Pool</td>\n",
       "      <td>2016</td>\n",
       "      <td>https://i.scdn.co/image/0d1460c036897175f4631e...</td>\n",
       "      <td>0.0455</td>\n",
       "      <td>44</td>\n",
       "      <td>0.127209</td>\n",
       "      <td>22.82</td>\n",
       "      <td>2.0</td>\n",
       "      <td>5.764783</td>\n",
       "      <td>31.927273</td>\n",
       "    </tr>\n",
       "    <tr>\n",
       "      <th>98</th>\n",
       "      <td>Present Tense</td>\n",
       "      <td>0.3450</td>\n",
       "      <td>306581</td>\n",
       "      <td>this dance this dance is like a weapon is like...</td>\n",
       "      <td>A Moon Shaped Pool</td>\n",
       "      <td>2016</td>\n",
       "      <td>https://i.scdn.co/image/0d1460c036897175f4631e...</td>\n",
       "      <td>0.1795</td>\n",
       "      <td>39</td>\n",
       "      <td>0.127209</td>\n",
       "      <td>35.56</td>\n",
       "      <td>7.0</td>\n",
       "      <td>5.109683</td>\n",
       "      <td>31.927273</td>\n",
       "    </tr>\n",
       "    <tr>\n",
       "      <th>99</th>\n",
       "      <td>Tinker Tailor Soldier Sailor Rich Man Poor Man...</td>\n",
       "      <td>0.0517</td>\n",
       "      <td>303689</td>\n",
       "      <td>all the holes at once are coming alive set fre...</td>\n",
       "      <td>A Moon Shaped Pool</td>\n",
       "      <td>2016</td>\n",
       "      <td>https://i.scdn.co/image/0d1460c036897175f4631e...</td>\n",
       "      <td>0.1154</td>\n",
       "      <td>26</td>\n",
       "      <td>0.085614</td>\n",
       "      <td>15.80</td>\n",
       "      <td>3.0</td>\n",
       "      <td>5.061483</td>\n",
       "      <td>31.927273</td>\n",
       "    </tr>\n",
       "    <tr>\n",
       "      <th>100</th>\n",
       "      <td>True Love Waits</td>\n",
       "      <td>0.0378</td>\n",
       "      <td>283464</td>\n",
       "      <td>i’ll drown my beliefs to have your babies i’ll...</td>\n",
       "      <td>A Moon Shaped Pool</td>\n",
       "      <td>2016</td>\n",
       "      <td>https://i.scdn.co/image/0d1460c036897175f4631e...</td>\n",
       "      <td>0.2381</td>\n",
       "      <td>42</td>\n",
       "      <td>0.148167</td>\n",
       "      <td>1.00</td>\n",
       "      <td>10.0</td>\n",
       "      <td>4.724400</td>\n",
       "      <td>31.927273</td>\n",
       "    </tr>\n",
       "  </tbody>\n",
       "</table>\n",
       "<p>101 rows × 14 columns</p>\n",
       "</div>"
      ],
      "text/plain": [
       "                                            track_name  valence  duration_ms   \n",
       "0                                                  You   0.3050       208667  \\\n",
       "1                                                Creep   0.0960       238640   \n",
       "2                                          How Do You?   0.2640       132173   \n",
       "3                                      Stop Whispering   0.2790       325627   \n",
       "4                                   Thinking About You   0.4190       161533   \n",
       "..                                                 ...      ...          ...   \n",
       "96                                           Identikit   0.3540       266644   \n",
       "97                                         The Numbers   0.0545       345887   \n",
       "98                                       Present Tense   0.3450       306581   \n",
       "99   Tinker Tailor Soldier Sailor Rich Man Poor Man...   0.0517       303689   \n",
       "100                                    True Love Waits   0.0378       283464   \n",
       "\n",
       "                                                lyrics          album_name   \n",
       "0    you are the sun and moon and stars are you and...         Pablo Honey  \\\n",
       "1    when you were here before couldn't look you in...         Pablo Honey   \n",
       "2    he's bitter and twisted he knows what he wants...         Pablo Honey   \n",
       "3    and the wise man said i don't want to hear you...         Pablo Honey   \n",
       "4    been thinking about you your records are here ...         Pablo Honey   \n",
       "..                                                 ...                 ...   \n",
       "96   repeated background hook a moon shaped pool da...  A Moon Shaped Pool   \n",
       "97   it holds us like a phantom it touches like a b...  A Moon Shaped Pool   \n",
       "98   this dance this dance is like a weapon is like...  A Moon Shaped Pool   \n",
       "99   all the holes at once are coming alive set fre...  A Moon Shaped Pool   \n",
       "100  i’ll drown my beliefs to have your babies i’ll...  A Moon Shaped Pool   \n",
       "\n",
       "     album_release_year                                          album_img   \n",
       "0                  1993  https://i.scdn.co/image/e17011b2aa33289dfa6c08...  \\\n",
       "1                  1993  https://i.scdn.co/image/e17011b2aa33289dfa6c08...   \n",
       "2                  1993  https://i.scdn.co/image/e17011b2aa33289dfa6c08...   \n",
       "3                  1993  https://i.scdn.co/image/e17011b2aa33289dfa6c08...   \n",
       "4                  1993  https://i.scdn.co/image/e17011b2aa33289dfa6c08...   \n",
       "..                  ...                                                ...   \n",
       "96                 2016  https://i.scdn.co/image/0d1460c036897175f4631e...   \n",
       "97                 2016  https://i.scdn.co/image/0d1460c036897175f4631e...   \n",
       "98                 2016  https://i.scdn.co/image/0d1460c036897175f4631e...   \n",
       "99                 2016  https://i.scdn.co/image/0d1460c036897175f4631e...   \n",
       "100                2016  https://i.scdn.co/image/0d1460c036897175f4631e...   \n",
       "\n",
       "     pct_sad  word_count  lyrical_density  gloom_index  amount_sad_words   \n",
       "0     0.0000          19         0.091054        50.39               0.0  \\\n",
       "1     0.0784          51         0.213711        22.60               4.0   \n",
       "2     0.0952          21         0.158883        36.56               2.0   \n",
       "3     0.0435          46         0.141266        43.48               2.0   \n",
       "4     0.0000          39         0.241437        60.80               0.0   \n",
       "..       ...         ...              ...          ...               ...   \n",
       "96    0.1800         100         0.375032        32.25              18.0   \n",
       "97    0.0455          44         0.127209        22.82               2.0   \n",
       "98    0.1795          39         0.127209        35.56               7.0   \n",
       "99    0.1154          26         0.085614        15.80               3.0   \n",
       "100   0.2381          42         0.148167         1.00              10.0   \n",
       "\n",
       "     duration_mins  gloom_mean  \n",
       "0         3.477783   46.851667  \n",
       "1         3.977333   46.851667  \n",
       "2         2.202883   46.851667  \n",
       "3         5.427117   46.851667  \n",
       "4         2.692217   46.851667  \n",
       "..             ...         ...  \n",
       "96        4.444067   31.927273  \n",
       "97        5.764783   31.927273  \n",
       "98        5.109683   31.927273  \n",
       "99        5.061483   31.927273  \n",
       "100       4.724400   31.927273  \n",
       "\n",
       "[101 rows x 14 columns]"
      ]
     },
     "execution_count": 370,
     "metadata": {},
     "output_type": "execute_result"
    }
   ],
   "source": [
    "#Data Prep\n",
    "df_radiohead_gloom_index = df_radiohead.groupby(['album_name']).agg(gloom_mean = ('gloom_index', 'mean'))\n",
    "df_radiohead_combined =  pd.merge(df_radiohead, df_radiohead_gloom_index, on='album_name')\n",
    "df_radiohead_combined"
   ]
  },
  {
   "cell_type": "code",
   "execution_count": 371,
   "id": "aafbf5d4",
   "metadata": {},
   "outputs": [
    {
     "data": {
      "application/vnd.plotly.v1+json": {
       "config": {
        "plotlyServerURL": "https://plot.ly"
       },
       "data": [
        {
         "hovertemplate": "<b>%{hovertext}</b><br><br>Album Name=%{x}<br>Gloom Index=%{y}<extra></extra>",
         "hovertext": [
          "You",
          "Creep",
          "How Do You?",
          "Stop Whispering",
          "Thinking About You",
          "Anyone Can Play Guitar",
          "Ripcord",
          "Vegetable",
          "Prove Yourself",
          "I Can't",
          "Lurgee",
          "Blow Out"
         ],
         "legendgroup": "Pablo Honey",
         "marker": {
          "color": "#636efa",
          "symbol": "circle"
         },
         "mode": "markers",
         "name": "Pablo Honey",
         "orientation": "v",
         "showlegend": true,
         "textposition": "bottom right",
         "type": "scatter",
         "x": [
          "Pablo Honey",
          "Pablo Honey",
          "Pablo Honey",
          "Pablo Honey",
          "Pablo Honey",
          "Pablo Honey",
          "Pablo Honey",
          "Pablo Honey",
          "Pablo Honey",
          "Pablo Honey",
          "Pablo Honey",
          "Pablo Honey"
         ],
         "xaxis": "x",
         "y": [
          50.39,
          22.6,
          36.56,
          43.48,
          60.8,
          72.23,
          40.56,
          54.45,
          44.68,
          32.33,
          58.06,
          46.08
         ],
         "yaxis": "y"
        },
        {
         "hovertemplate": "<b>%{hovertext}</b><br><br>Album Name=%{x}<br>Gloom Index=%{y}<extra></extra>",
         "hovertext": [
          "Planet Telex",
          "The Bends",
          "High And Dry",
          "Fake Plastic Trees",
          "Bones",
          "(Nice Dream)",
          "Just",
          "My Iron Lung",
          "Bullet Proof ... I Wish I Was",
          "Black Star",
          "Sulk",
          "Street Spirit (Fade Out)"
         ],
         "legendgroup": "The Bends",
         "marker": {
          "color": "#EF553B",
          "symbol": "circle"
         },
         "mode": "markers",
         "name": "The Bends",
         "orientation": "v",
         "showlegend": true,
         "textposition": "bottom right",
         "type": "scatter",
         "x": [
          "The Bends",
          "The Bends",
          "The Bends",
          "The Bends",
          "The Bends",
          "The Bends",
          "The Bends",
          "The Bends",
          "The Bends",
          "The Bends",
          "The Bends",
          "The Bends"
         ],
         "xaxis": "x",
         "y": [
          26.99,
          48.25,
          15.69,
          27.7,
          55.99,
          57.42,
          44.21,
          73.76,
          22.69,
          31.07,
          76.63,
          29.71
         ],
         "yaxis": "y"
        },
        {
         "hovertemplate": "<b>%{hovertext}</b><br><br>Album Name=%{x}<br>Gloom Index=%{y}<extra></extra>",
         "hovertext": [
          "Airbag",
          "Paranoid Android",
          "Subterranean Homesick Alien",
          "Exit Music (For a Film)",
          "Let Down",
          "Karma Police",
          "Fitter Happier",
          "Electioneering",
          "Climbing Up the Walls",
          "No Surprises",
          "Lucky",
          "The Tourist"
         ],
         "legendgroup": "OK Computer",
         "marker": {
          "color": "#00cc96",
          "symbol": "circle"
         },
         "mode": "markers",
         "name": "OK Computer",
         "orientation": "v",
         "showlegend": true,
         "textposition": "bottom right",
         "type": "scatter",
         "x": [
          "OK Computer",
          "OK Computer",
          "OK Computer",
          "OK Computer",
          "OK Computer",
          "OK Computer",
          "OK Computer",
          "OK Computer",
          "OK Computer",
          "OK Computer",
          "OK Computer",
          "OK Computer"
         ],
         "xaxis": "x",
         "y": [
          81.18,
          40.98,
          49.68,
          14.57,
          13.7,
          27.77,
          75.23,
          45.81,
          34.61,
          29.34,
          35.17,
          22.52
         ],
         "yaxis": "y"
        },
        {
         "hovertemplate": "<b>%{hovertext}</b><br><br>Album Name=%{x}<br>Gloom Index=%{y}<extra></extra>",
         "hovertext": [
          "Everything In Its Right Place",
          "Kid A",
          "The National Anthem",
          "How To Disappear Completely",
          "Treefingers",
          "Optimistic",
          "In Limbo",
          "Idioteque",
          "Morning Bell",
          "Motion Picture Soundtrack",
          "Untitled"
         ],
         "legendgroup": "Kid A",
         "marker": {
          "color": "#ab63fa",
          "symbol": "circle"
         },
         "mode": "markers",
         "name": "Kid A",
         "orientation": "v",
         "showlegend": true,
         "textposition": "bottom right",
         "type": "scatter",
         "x": [
          "Kid A",
          "Kid A",
          "Kid A",
          "Kid A",
          "Kid A",
          "Kid A",
          "Kid A",
          "Kid A",
          "Kid A",
          "Kid A",
          "Kid A"
         ],
         "xaxis": "x",
         "y": [
          27.87,
          33.78,
          57.7,
          40.98,
          27.87,
          72.09,
          61.5,
          71.77,
          56.37,
          9.35,
          29.67
         ],
         "yaxis": "y"
        },
        {
         "hovertemplate": "<b>%{hovertext}</b><br><br>Album Name=%{x}<br>Gloom Index=%{y}<extra></extra>",
         "hovertext": [
          "Packt Like Sardines In a Crushed Tin Box",
          "Pyramid Song",
          "Pulk/Pull Revolving Doors",
          "You And Whose Army?",
          "I Might Be Wrong",
          "Knives Out",
          "Morning Bell/Amnesiac",
          "Dollars & Cents",
          "Hunting Bears",
          "Like Spinning Plates",
          "Life In a Glasshouse"
         ],
         "legendgroup": "Amnesiac",
         "marker": {
          "color": "#FFA15A",
          "symbol": "circle"
         },
         "mode": "markers",
         "name": "Amnesiac",
         "orientation": "v",
         "showlegend": true,
         "textposition": "bottom right",
         "type": "scatter",
         "x": [
          "Amnesiac",
          "Amnesiac",
          "Amnesiac",
          "Amnesiac",
          "Amnesiac",
          "Amnesiac",
          "Amnesiac",
          "Amnesiac",
          "Amnesiac",
          "Amnesiac",
          "Amnesiac"
         ],
         "xaxis": "x",
         "y": [
          80.63,
          14.15,
          34.86,
          30.86,
          68.84,
          39.06,
          42.44,
          15.29,
          29.64,
          41.71,
          20.54
         ],
         "yaxis": "y"
        },
        {
         "hovertemplate": "<b>%{hovertext}</b><br><br>Album Name=%{x}<br>Gloom Index=%{y}<extra></extra>",
         "hovertext": [
          "2 + 2 = 5",
          "Sit Down. Stand Up",
          "Sail To The Moon",
          "Backdrifts",
          "Go To Sleep",
          "Where I End and You Begin",
          "We Suck Young Blood",
          "The Gloaming",
          "There, There",
          "I Will",
          "A Punch Up At a Wedding",
          "Myxomatosis",
          "Scatterbrain",
          "A Wolf At the Door"
         ],
         "legendgroup": "Hail To the Thief",
         "marker": {
          "color": "#19d3f3",
          "symbol": "circle"
         },
         "mode": "markers",
         "name": "Hail To the Thief",
         "orientation": "v",
         "showlegend": true,
         "textposition": "bottom right",
         "type": "scatter",
         "x": [
          "Hail To the Thief",
          "Hail To the Thief",
          "Hail To the Thief",
          "Hail To the Thief",
          "Hail To the Thief",
          "Hail To the Thief",
          "Hail To the Thief",
          "Hail To the Thief",
          "Hail To the Thief",
          "Hail To the Thief",
          "Hail To the Thief",
          "Hail To the Thief",
          "Hail To the Thief",
          "Hail To the Thief"
         ],
         "xaxis": "x",
         "y": [
          47.4,
          68.61,
          26.71,
          57.99,
          82.28,
          64.23,
          16.21,
          26.5,
          72.34,
          34.14,
          53.88,
          70.4,
          40.64,
          50.8
         ],
         "yaxis": "y"
        },
        {
         "hovertemplate": "<b>%{hovertext}</b><br><br>Album Name=%{x}<br>Gloom Index=%{y}<extra></extra>",
         "hovertext": [
          "15 Step",
          "Bodysnatchers",
          "Nude",
          "Weird Fishes/ Arpeggi",
          "All I Need",
          "Faust Arp",
          "Reckoner",
          "House Of Cards",
          "Jigsaw Falling Into Place",
          "Videotape"
         ],
         "legendgroup": "In Rainbows",
         "marker": {
          "color": "#FF6692",
          "symbol": "circle"
         },
         "mode": "markers",
         "name": "In Rainbows",
         "orientation": "v",
         "showlegend": true,
         "textposition": "bottom right",
         "type": "scatter",
         "x": [
          "In Rainbows",
          "In Rainbows",
          "In Rainbows",
          "In Rainbows",
          "In Rainbows",
          "In Rainbows",
          "In Rainbows",
          "In Rainbows",
          "In Rainbows",
          "In Rainbows"
         ],
         "xaxis": "x",
         "y": [
          100,
          88.4,
          26.62,
          25.1,
          31.03,
          40.71,
          37.95,
          72.43,
          84.85,
          16.03
         ],
         "yaxis": "y"
        },
        {
         "hovertemplate": "<b>%{hovertext}</b><br><br>Album Name=%{x}<br>Gloom Index=%{y}<extra></extra>",
         "hovertext": [
          "Bloom",
          "Morning Mr Magpie",
          "Little By Little",
          "Feral",
          "Lotus Flower",
          "Codex",
          "Give Up The Ghost",
          "Separator"
         ],
         "legendgroup": "The King Of Limbs",
         "marker": {
          "color": "#B6E880",
          "symbol": "circle"
         },
         "mode": "markers",
         "name": "The King Of Limbs",
         "orientation": "v",
         "showlegend": true,
         "textposition": "bottom right",
         "type": "scatter",
         "x": [
          "The King Of Limbs",
          "The King Of Limbs",
          "The King Of Limbs",
          "The King Of Limbs",
          "The King Of Limbs",
          "The King Of Limbs",
          "The King Of Limbs",
          "The King Of Limbs"
         ],
         "xaxis": "x",
         "y": [
          48.55,
          59.71,
          59.9,
          91.14,
          67.59,
          21.86,
          6.46,
          69.83
         ],
         "yaxis": "y"
        },
        {
         "hovertemplate": "<b>%{hovertext}</b><br><br>Album Name=%{x}<br>Gloom Index=%{y}<extra></extra>",
         "hovertext": [
          "Burn the Witch",
          "Daydreaming",
          "Decks Dark",
          "Desert Island Disk",
          "Ful Stop",
          "Glass Eyes",
          "Identikit",
          "The Numbers",
          "Present Tense",
          "Tinker Tailor Soldier Sailor Rich Man Poor Man Beggar Man Thief",
          "True Love Waits"
         ],
         "legendgroup": "A Moon Shaped Pool",
         "marker": {
          "color": "#FF97FF",
          "symbol": "circle"
         },
         "mode": "markers",
         "name": "A Moon Shaped Pool",
         "orientation": "v",
         "showlegend": true,
         "textposition": "bottom right",
         "type": "scatter",
         "x": [
          "A Moon Shaped Pool",
          "A Moon Shaped Pool",
          "A Moon Shaped Pool",
          "A Moon Shaped Pool",
          "A Moon Shaped Pool",
          "A Moon Shaped Pool",
          "A Moon Shaped Pool",
          "A Moon Shaped Pool",
          "A Moon Shaped Pool",
          "A Moon Shaped Pool",
          "A Moon Shaped Pool"
         ],
         "xaxis": "x",
         "y": [
          70.19,
          28.84,
          41.09,
          36.5,
          38.88,
          28.27,
          32.25,
          22.82,
          35.56,
          15.8,
          1
         ],
         "yaxis": "y"
        },
        {
         "mode": "markers+lines",
         "showlegend": false,
         "text": "gloom_mean",
         "textposition": "bottom right",
         "type": "scatter",
         "x": [
          "Pablo Honey",
          "Pablo Honey",
          "Pablo Honey",
          "Pablo Honey",
          "Pablo Honey",
          "Pablo Honey",
          "Pablo Honey",
          "Pablo Honey",
          "Pablo Honey",
          "Pablo Honey",
          "Pablo Honey",
          "Pablo Honey",
          "The Bends",
          "The Bends",
          "The Bends",
          "The Bends",
          "The Bends",
          "The Bends",
          "The Bends",
          "The Bends",
          "The Bends",
          "The Bends",
          "The Bends",
          "The Bends",
          "OK Computer",
          "OK Computer",
          "OK Computer",
          "OK Computer",
          "OK Computer",
          "OK Computer",
          "OK Computer",
          "OK Computer",
          "OK Computer",
          "OK Computer",
          "OK Computer",
          "OK Computer",
          "Kid A",
          "Kid A",
          "Kid A",
          "Kid A",
          "Kid A",
          "Kid A",
          "Kid A",
          "Kid A",
          "Kid A",
          "Kid A",
          "Kid A",
          "Amnesiac",
          "Amnesiac",
          "Amnesiac",
          "Amnesiac",
          "Amnesiac",
          "Amnesiac",
          "Amnesiac",
          "Amnesiac",
          "Amnesiac",
          "Amnesiac",
          "Amnesiac",
          "Hail To the Thief",
          "Hail To the Thief",
          "Hail To the Thief",
          "Hail To the Thief",
          "Hail To the Thief",
          "Hail To the Thief",
          "Hail To the Thief",
          "Hail To the Thief",
          "Hail To the Thief",
          "Hail To the Thief",
          "Hail To the Thief",
          "Hail To the Thief",
          "Hail To the Thief",
          "Hail To the Thief",
          "In Rainbows",
          "In Rainbows",
          "In Rainbows",
          "In Rainbows",
          "In Rainbows",
          "In Rainbows",
          "In Rainbows",
          "In Rainbows",
          "In Rainbows",
          "In Rainbows",
          "The King Of Limbs",
          "The King Of Limbs",
          "The King Of Limbs",
          "The King Of Limbs",
          "The King Of Limbs",
          "The King Of Limbs",
          "The King Of Limbs",
          "The King Of Limbs",
          "A Moon Shaped Pool",
          "A Moon Shaped Pool",
          "A Moon Shaped Pool",
          "A Moon Shaped Pool",
          "A Moon Shaped Pool",
          "A Moon Shaped Pool",
          "A Moon Shaped Pool",
          "A Moon Shaped Pool",
          "A Moon Shaped Pool",
          "A Moon Shaped Pool",
          "A Moon Shaped Pool"
         ],
         "y": [
          46.85166666666667,
          46.85166666666667,
          46.85166666666667,
          46.85166666666667,
          46.85166666666667,
          46.85166666666667,
          46.85166666666667,
          46.85166666666667,
          46.85166666666667,
          46.85166666666667,
          46.85166666666667,
          46.85166666666667,
          42.509166666666665,
          42.509166666666665,
          42.509166666666665,
          42.509166666666665,
          42.509166666666665,
          42.509166666666665,
          42.509166666666665,
          42.509166666666665,
          42.509166666666665,
          42.509166666666665,
          42.509166666666665,
          42.509166666666665,
          39.21333333333333,
          39.21333333333333,
          39.21333333333333,
          39.21333333333333,
          39.21333333333333,
          39.21333333333333,
          39.21333333333333,
          39.21333333333333,
          39.21333333333333,
          39.21333333333333,
          39.21333333333333,
          39.21333333333333,
          44.449999999999996,
          44.449999999999996,
          44.449999999999996,
          44.449999999999996,
          44.449999999999996,
          44.449999999999996,
          44.449999999999996,
          44.449999999999996,
          44.449999999999996,
          44.449999999999996,
          44.449999999999996,
          38.00181818181818,
          38.00181818181818,
          38.00181818181818,
          38.00181818181818,
          38.00181818181818,
          38.00181818181818,
          38.00181818181818,
          38.00181818181818,
          38.00181818181818,
          38.00181818181818,
          38.00181818181818,
          50.86642857142857,
          50.86642857142857,
          50.86642857142857,
          50.86642857142857,
          50.86642857142857,
          50.86642857142857,
          50.86642857142857,
          50.86642857142857,
          50.86642857142857,
          50.86642857142857,
          50.86642857142857,
          50.86642857142857,
          50.86642857142857,
          50.86642857142857,
          52.312,
          52.312,
          52.312,
          52.312,
          52.312,
          52.312,
          52.312,
          52.312,
          52.312,
          52.312,
          53.129999999999995,
          53.129999999999995,
          53.129999999999995,
          53.129999999999995,
          53.129999999999995,
          53.129999999999995,
          53.129999999999995,
          53.129999999999995,
          31.927272727272726,
          31.927272727272726,
          31.927272727272726,
          31.927272727272726,
          31.927272727272726,
          31.927272727272726,
          31.927272727272726,
          31.927272727272726,
          31.927272727272726,
          31.927272727272726,
          31.927272727272726
         ]
        }
       ],
       "layout": {
        "annotations": [
         {
          "align": "left",
          "showarrow": false,
          "text": "Data Source: <a href=”https://www.kaggle.com/datasets/lavagod/radiohead/versions/1?resource=download”>Radiohead Data</a> <br>Viz: <a href=”https://twitter.com/_prospecttheory”>@_prospecttheory</a> <br> <br> <br> <br> <br>",
          "x": -0.025,
          "xref": "paper",
          "y": -0.7,
          "yref": "paper"
         }
        ],
        "legend": {
         "title": {
          "text": "Album Name"
         },
         "tracegroupgap": 0
        },
        "template": {
         "data": {
          "bar": [
           {
            "error_x": {
             "color": "#f2f5fa"
            },
            "error_y": {
             "color": "#f2f5fa"
            },
            "marker": {
             "line": {
              "color": "rgb(17,17,17)",
              "width": 0.5
             },
             "pattern": {
              "fillmode": "overlay",
              "size": 10,
              "solidity": 0.2
             }
            },
            "type": "bar"
           }
          ],
          "barpolar": [
           {
            "marker": {
             "line": {
              "color": "rgb(17,17,17)",
              "width": 0.5
             },
             "pattern": {
              "fillmode": "overlay",
              "size": 10,
              "solidity": 0.2
             }
            },
            "type": "barpolar"
           }
          ],
          "carpet": [
           {
            "aaxis": {
             "endlinecolor": "#A2B1C6",
             "gridcolor": "#506784",
             "linecolor": "#506784",
             "minorgridcolor": "#506784",
             "startlinecolor": "#A2B1C6"
            },
            "baxis": {
             "endlinecolor": "#A2B1C6",
             "gridcolor": "#506784",
             "linecolor": "#506784",
             "minorgridcolor": "#506784",
             "startlinecolor": "#A2B1C6"
            },
            "type": "carpet"
           }
          ],
          "choropleth": [
           {
            "colorbar": {
             "outlinewidth": 0,
             "ticks": ""
            },
            "type": "choropleth"
           }
          ],
          "contour": [
           {
            "colorbar": {
             "outlinewidth": 0,
             "ticks": ""
            },
            "colorscale": [
             [
              0,
              "#0d0887"
             ],
             [
              0.1111111111111111,
              "#46039f"
             ],
             [
              0.2222222222222222,
              "#7201a8"
             ],
             [
              0.3333333333333333,
              "#9c179e"
             ],
             [
              0.4444444444444444,
              "#bd3786"
             ],
             [
              0.5555555555555556,
              "#d8576b"
             ],
             [
              0.6666666666666666,
              "#ed7953"
             ],
             [
              0.7777777777777778,
              "#fb9f3a"
             ],
             [
              0.8888888888888888,
              "#fdca26"
             ],
             [
              1,
              "#f0f921"
             ]
            ],
            "type": "contour"
           }
          ],
          "contourcarpet": [
           {
            "colorbar": {
             "outlinewidth": 0,
             "ticks": ""
            },
            "type": "contourcarpet"
           }
          ],
          "heatmap": [
           {
            "colorbar": {
             "outlinewidth": 0,
             "ticks": ""
            },
            "colorscale": [
             [
              0,
              "#0d0887"
             ],
             [
              0.1111111111111111,
              "#46039f"
             ],
             [
              0.2222222222222222,
              "#7201a8"
             ],
             [
              0.3333333333333333,
              "#9c179e"
             ],
             [
              0.4444444444444444,
              "#bd3786"
             ],
             [
              0.5555555555555556,
              "#d8576b"
             ],
             [
              0.6666666666666666,
              "#ed7953"
             ],
             [
              0.7777777777777778,
              "#fb9f3a"
             ],
             [
              0.8888888888888888,
              "#fdca26"
             ],
             [
              1,
              "#f0f921"
             ]
            ],
            "type": "heatmap"
           }
          ],
          "heatmapgl": [
           {
            "colorbar": {
             "outlinewidth": 0,
             "ticks": ""
            },
            "colorscale": [
             [
              0,
              "#0d0887"
             ],
             [
              0.1111111111111111,
              "#46039f"
             ],
             [
              0.2222222222222222,
              "#7201a8"
             ],
             [
              0.3333333333333333,
              "#9c179e"
             ],
             [
              0.4444444444444444,
              "#bd3786"
             ],
             [
              0.5555555555555556,
              "#d8576b"
             ],
             [
              0.6666666666666666,
              "#ed7953"
             ],
             [
              0.7777777777777778,
              "#fb9f3a"
             ],
             [
              0.8888888888888888,
              "#fdca26"
             ],
             [
              1,
              "#f0f921"
             ]
            ],
            "type": "heatmapgl"
           }
          ],
          "histogram": [
           {
            "marker": {
             "pattern": {
              "fillmode": "overlay",
              "size": 10,
              "solidity": 0.2
             }
            },
            "type": "histogram"
           }
          ],
          "histogram2d": [
           {
            "colorbar": {
             "outlinewidth": 0,
             "ticks": ""
            },
            "colorscale": [
             [
              0,
              "#0d0887"
             ],
             [
              0.1111111111111111,
              "#46039f"
             ],
             [
              0.2222222222222222,
              "#7201a8"
             ],
             [
              0.3333333333333333,
              "#9c179e"
             ],
             [
              0.4444444444444444,
              "#bd3786"
             ],
             [
              0.5555555555555556,
              "#d8576b"
             ],
             [
              0.6666666666666666,
              "#ed7953"
             ],
             [
              0.7777777777777778,
              "#fb9f3a"
             ],
             [
              0.8888888888888888,
              "#fdca26"
             ],
             [
              1,
              "#f0f921"
             ]
            ],
            "type": "histogram2d"
           }
          ],
          "histogram2dcontour": [
           {
            "colorbar": {
             "outlinewidth": 0,
             "ticks": ""
            },
            "colorscale": [
             [
              0,
              "#0d0887"
             ],
             [
              0.1111111111111111,
              "#46039f"
             ],
             [
              0.2222222222222222,
              "#7201a8"
             ],
             [
              0.3333333333333333,
              "#9c179e"
             ],
             [
              0.4444444444444444,
              "#bd3786"
             ],
             [
              0.5555555555555556,
              "#d8576b"
             ],
             [
              0.6666666666666666,
              "#ed7953"
             ],
             [
              0.7777777777777778,
              "#fb9f3a"
             ],
             [
              0.8888888888888888,
              "#fdca26"
             ],
             [
              1,
              "#f0f921"
             ]
            ],
            "type": "histogram2dcontour"
           }
          ],
          "mesh3d": [
           {
            "colorbar": {
             "outlinewidth": 0,
             "ticks": ""
            },
            "type": "mesh3d"
           }
          ],
          "parcoords": [
           {
            "line": {
             "colorbar": {
              "outlinewidth": 0,
              "ticks": ""
             }
            },
            "type": "parcoords"
           }
          ],
          "pie": [
           {
            "automargin": true,
            "type": "pie"
           }
          ],
          "scatter": [
           {
            "marker": {
             "line": {
              "color": "#283442"
             }
            },
            "type": "scatter"
           }
          ],
          "scatter3d": [
           {
            "line": {
             "colorbar": {
              "outlinewidth": 0,
              "ticks": ""
             }
            },
            "marker": {
             "colorbar": {
              "outlinewidth": 0,
              "ticks": ""
             }
            },
            "type": "scatter3d"
           }
          ],
          "scattercarpet": [
           {
            "marker": {
             "colorbar": {
              "outlinewidth": 0,
              "ticks": ""
             }
            },
            "type": "scattercarpet"
           }
          ],
          "scattergeo": [
           {
            "marker": {
             "colorbar": {
              "outlinewidth": 0,
              "ticks": ""
             }
            },
            "type": "scattergeo"
           }
          ],
          "scattergl": [
           {
            "marker": {
             "line": {
              "color": "#283442"
             }
            },
            "type": "scattergl"
           }
          ],
          "scattermapbox": [
           {
            "marker": {
             "colorbar": {
              "outlinewidth": 0,
              "ticks": ""
             }
            },
            "type": "scattermapbox"
           }
          ],
          "scatterpolar": [
           {
            "marker": {
             "colorbar": {
              "outlinewidth": 0,
              "ticks": ""
             }
            },
            "type": "scatterpolar"
           }
          ],
          "scatterpolargl": [
           {
            "marker": {
             "colorbar": {
              "outlinewidth": 0,
              "ticks": ""
             }
            },
            "type": "scatterpolargl"
           }
          ],
          "scatterternary": [
           {
            "marker": {
             "colorbar": {
              "outlinewidth": 0,
              "ticks": ""
             }
            },
            "type": "scatterternary"
           }
          ],
          "surface": [
           {
            "colorbar": {
             "outlinewidth": 0,
             "ticks": ""
            },
            "colorscale": [
             [
              0,
              "#0d0887"
             ],
             [
              0.1111111111111111,
              "#46039f"
             ],
             [
              0.2222222222222222,
              "#7201a8"
             ],
             [
              0.3333333333333333,
              "#9c179e"
             ],
             [
              0.4444444444444444,
              "#bd3786"
             ],
             [
              0.5555555555555556,
              "#d8576b"
             ],
             [
              0.6666666666666666,
              "#ed7953"
             ],
             [
              0.7777777777777778,
              "#fb9f3a"
             ],
             [
              0.8888888888888888,
              "#fdca26"
             ],
             [
              1,
              "#f0f921"
             ]
            ],
            "type": "surface"
           }
          ],
          "table": [
           {
            "cells": {
             "fill": {
              "color": "#506784"
             },
             "line": {
              "color": "rgb(17,17,17)"
             }
            },
            "header": {
             "fill": {
              "color": "#2a3f5f"
             },
             "line": {
              "color": "rgb(17,17,17)"
             }
            },
            "type": "table"
           }
          ]
         },
         "layout": {
          "annotationdefaults": {
           "arrowcolor": "#f2f5fa",
           "arrowhead": 0,
           "arrowwidth": 1
          },
          "autotypenumbers": "strict",
          "coloraxis": {
           "colorbar": {
            "outlinewidth": 0,
            "ticks": ""
           }
          },
          "colorscale": {
           "diverging": [
            [
             0,
             "#8e0152"
            ],
            [
             0.1,
             "#c51b7d"
            ],
            [
             0.2,
             "#de77ae"
            ],
            [
             0.3,
             "#f1b6da"
            ],
            [
             0.4,
             "#fde0ef"
            ],
            [
             0.5,
             "#f7f7f7"
            ],
            [
             0.6,
             "#e6f5d0"
            ],
            [
             0.7,
             "#b8e186"
            ],
            [
             0.8,
             "#7fbc41"
            ],
            [
             0.9,
             "#4d9221"
            ],
            [
             1,
             "#276419"
            ]
           ],
           "sequential": [
            [
             0,
             "#0d0887"
            ],
            [
             0.1111111111111111,
             "#46039f"
            ],
            [
             0.2222222222222222,
             "#7201a8"
            ],
            [
             0.3333333333333333,
             "#9c179e"
            ],
            [
             0.4444444444444444,
             "#bd3786"
            ],
            [
             0.5555555555555556,
             "#d8576b"
            ],
            [
             0.6666666666666666,
             "#ed7953"
            ],
            [
             0.7777777777777778,
             "#fb9f3a"
            ],
            [
             0.8888888888888888,
             "#fdca26"
            ],
            [
             1,
             "#f0f921"
            ]
           ],
           "sequentialminus": [
            [
             0,
             "#0d0887"
            ],
            [
             0.1111111111111111,
             "#46039f"
            ],
            [
             0.2222222222222222,
             "#7201a8"
            ],
            [
             0.3333333333333333,
             "#9c179e"
            ],
            [
             0.4444444444444444,
             "#bd3786"
            ],
            [
             0.5555555555555556,
             "#d8576b"
            ],
            [
             0.6666666666666666,
             "#ed7953"
            ],
            [
             0.7777777777777778,
             "#fb9f3a"
            ],
            [
             0.8888888888888888,
             "#fdca26"
            ],
            [
             1,
             "#f0f921"
            ]
           ]
          },
          "colorway": [
           "#636efa",
           "#EF553B",
           "#00cc96",
           "#ab63fa",
           "#FFA15A",
           "#19d3f3",
           "#FF6692",
           "#B6E880",
           "#FF97FF",
           "#FECB52"
          ],
          "font": {
           "color": "#f2f5fa"
          },
          "geo": {
           "bgcolor": "rgb(17,17,17)",
           "lakecolor": "rgb(17,17,17)",
           "landcolor": "rgb(17,17,17)",
           "showlakes": true,
           "showland": true,
           "subunitcolor": "#506784"
          },
          "hoverlabel": {
           "align": "left"
          },
          "hovermode": "closest",
          "mapbox": {
           "style": "dark"
          },
          "paper_bgcolor": "rgb(17,17,17)",
          "plot_bgcolor": "rgb(17,17,17)",
          "polar": {
           "angularaxis": {
            "gridcolor": "#506784",
            "linecolor": "#506784",
            "ticks": ""
           },
           "bgcolor": "rgb(17,17,17)",
           "radialaxis": {
            "gridcolor": "#506784",
            "linecolor": "#506784",
            "ticks": ""
           }
          },
          "scene": {
           "xaxis": {
            "backgroundcolor": "rgb(17,17,17)",
            "gridcolor": "#506784",
            "gridwidth": 2,
            "linecolor": "#506784",
            "showbackground": true,
            "ticks": "",
            "zerolinecolor": "#C8D4E3"
           },
           "yaxis": {
            "backgroundcolor": "rgb(17,17,17)",
            "gridcolor": "#506784",
            "gridwidth": 2,
            "linecolor": "#506784",
            "showbackground": true,
            "ticks": "",
            "zerolinecolor": "#C8D4E3"
           },
           "zaxis": {
            "backgroundcolor": "rgb(17,17,17)",
            "gridcolor": "#506784",
            "gridwidth": 2,
            "linecolor": "#506784",
            "showbackground": true,
            "ticks": "",
            "zerolinecolor": "#C8D4E3"
           }
          },
          "shapedefaults": {
           "line": {
            "color": "#f2f5fa"
           }
          },
          "sliderdefaults": {
           "bgcolor": "#C8D4E3",
           "bordercolor": "rgb(17,17,17)",
           "borderwidth": 1,
           "tickwidth": 0
          },
          "ternary": {
           "aaxis": {
            "gridcolor": "#506784",
            "linecolor": "#506784",
            "ticks": ""
           },
           "baxis": {
            "gridcolor": "#506784",
            "linecolor": "#506784",
            "ticks": ""
           },
           "bgcolor": "rgb(17,17,17)",
           "caxis": {
            "gridcolor": "#506784",
            "linecolor": "#506784",
            "ticks": ""
           }
          },
          "title": {
           "x": 0.05
          },
          "updatemenudefaults": {
           "bgcolor": "#506784",
           "borderwidth": 0
          },
          "xaxis": {
           "automargin": true,
           "gridcolor": "#283442",
           "linecolor": "#506784",
           "ticks": "",
           "title": {
            "standoff": 15
           },
           "zerolinecolor": "#283442",
           "zerolinewidth": 2
          },
          "yaxis": {
           "automargin": true,
           "gridcolor": "#283442",
           "linecolor": "#506784",
           "ticks": "",
           "title": {
            "standoff": 15
           },
           "zerolinecolor": "#283442",
           "zerolinewidth": 2
          }
         }
        },
        "title": {
         "text": "<b>Radiohead Albums by Gloom Index</b> <br>And we have a winner: \"A Moon Shaped Pool\" is the saddest album."
        },
        "xaxis": {
         "anchor": "y",
         "categoryarray": [
          "Pablo Honey",
          "The Bends",
          "OK Computer",
          "Kid A",
          "Amnesiac",
          "Hail To the Thief",
          "In Rainbows",
          "The King Of Limbs",
          "A Moon Shaped Pool"
         ],
         "categoryorder": "array",
         "domain": [
          0,
          1
         ],
         "title": {
          "text": "Album Name"
         }
        },
        "yaxis": {
         "anchor": "x",
         "domain": [
          0,
          1
         ],
         "title": {
          "text": "Gloom Index"
         }
        }
       }
      },
      "text/html": [
       "<div>                            <div id=\"f04db482-8d6f-4115-8586-91705ff0d5f0\" class=\"plotly-graph-div\" style=\"height:525px; width:100%;\"></div>            <script type=\"text/javascript\">                require([\"plotly\"], function(Plotly) {                    window.PLOTLYENV=window.PLOTLYENV || {};                                    if (document.getElementById(\"f04db482-8d6f-4115-8586-91705ff0d5f0\")) {                    Plotly.newPlot(                        \"f04db482-8d6f-4115-8586-91705ff0d5f0\",                        [{\"hovertemplate\":\"\\u003cb\\u003e%{hovertext}\\u003c\\u002fb\\u003e\\u003cbr\\u003e\\u003cbr\\u003eAlbum Name=%{x}\\u003cbr\\u003eGloom Index=%{y}\\u003cextra\\u003e\\u003c\\u002fextra\\u003e\",\"hovertext\":[\"You\",\"Creep\",\"How Do You?\",\"Stop Whispering\",\"Thinking About You\",\"Anyone Can Play Guitar\",\"Ripcord\",\"Vegetable\",\"Prove Yourself\",\"I Can't\",\"Lurgee\",\"Blow Out\"],\"legendgroup\":\"Pablo Honey\",\"marker\":{\"color\":\"#636efa\",\"symbol\":\"circle\"},\"mode\":\"markers\",\"name\":\"Pablo Honey\",\"orientation\":\"v\",\"showlegend\":true,\"x\":[\"Pablo Honey\",\"Pablo Honey\",\"Pablo Honey\",\"Pablo Honey\",\"Pablo Honey\",\"Pablo Honey\",\"Pablo Honey\",\"Pablo Honey\",\"Pablo Honey\",\"Pablo Honey\",\"Pablo Honey\",\"Pablo Honey\"],\"xaxis\":\"x\",\"y\":[50.39,22.6,36.56,43.48,60.8,72.23,40.56,54.45,44.68,32.33,58.06,46.08],\"yaxis\":\"y\",\"type\":\"scatter\",\"textposition\":\"bottom right\"},{\"hovertemplate\":\"\\u003cb\\u003e%{hovertext}\\u003c\\u002fb\\u003e\\u003cbr\\u003e\\u003cbr\\u003eAlbum Name=%{x}\\u003cbr\\u003eGloom Index=%{y}\\u003cextra\\u003e\\u003c\\u002fextra\\u003e\",\"hovertext\":[\"Planet Telex\",\"The Bends\",\"High And Dry\",\"Fake Plastic Trees\",\"Bones\",\"(Nice Dream)\",\"Just\",\"My Iron Lung\",\"Bullet Proof ... I Wish I Was\",\"Black Star\",\"Sulk\",\"Street Spirit (Fade Out)\"],\"legendgroup\":\"The Bends\",\"marker\":{\"color\":\"#EF553B\",\"symbol\":\"circle\"},\"mode\":\"markers\",\"name\":\"The Bends\",\"orientation\":\"v\",\"showlegend\":true,\"x\":[\"The Bends\",\"The Bends\",\"The Bends\",\"The Bends\",\"The Bends\",\"The Bends\",\"The Bends\",\"The Bends\",\"The Bends\",\"The Bends\",\"The Bends\",\"The Bends\"],\"xaxis\":\"x\",\"y\":[26.99,48.25,15.69,27.7,55.99,57.42,44.21,73.76,22.69,31.07,76.63,29.71],\"yaxis\":\"y\",\"type\":\"scatter\",\"textposition\":\"bottom right\"},{\"hovertemplate\":\"\\u003cb\\u003e%{hovertext}\\u003c\\u002fb\\u003e\\u003cbr\\u003e\\u003cbr\\u003eAlbum Name=%{x}\\u003cbr\\u003eGloom Index=%{y}\\u003cextra\\u003e\\u003c\\u002fextra\\u003e\",\"hovertext\":[\"Airbag\",\"Paranoid Android\",\"Subterranean Homesick Alien\",\"Exit Music (For a Film)\",\"Let Down\",\"Karma Police\",\"Fitter Happier\",\"Electioneering\",\"Climbing Up the Walls\",\"No Surprises\",\"Lucky\",\"The Tourist\"],\"legendgroup\":\"OK Computer\",\"marker\":{\"color\":\"#00cc96\",\"symbol\":\"circle\"},\"mode\":\"markers\",\"name\":\"OK Computer\",\"orientation\":\"v\",\"showlegend\":true,\"x\":[\"OK Computer\",\"OK Computer\",\"OK Computer\",\"OK Computer\",\"OK Computer\",\"OK Computer\",\"OK Computer\",\"OK Computer\",\"OK Computer\",\"OK Computer\",\"OK Computer\",\"OK Computer\"],\"xaxis\":\"x\",\"y\":[81.18,40.98,49.68,14.57,13.7,27.77,75.23,45.81,34.61,29.34,35.17,22.52],\"yaxis\":\"y\",\"type\":\"scatter\",\"textposition\":\"bottom right\"},{\"hovertemplate\":\"\\u003cb\\u003e%{hovertext}\\u003c\\u002fb\\u003e\\u003cbr\\u003e\\u003cbr\\u003eAlbum Name=%{x}\\u003cbr\\u003eGloom Index=%{y}\\u003cextra\\u003e\\u003c\\u002fextra\\u003e\",\"hovertext\":[\"Everything In Its Right Place\",\"Kid A\",\"The National Anthem\",\"How To Disappear Completely\",\"Treefingers\",\"Optimistic\",\"In Limbo\",\"Idioteque\",\"Morning Bell\",\"Motion Picture Soundtrack\",\"Untitled\"],\"legendgroup\":\"Kid A\",\"marker\":{\"color\":\"#ab63fa\",\"symbol\":\"circle\"},\"mode\":\"markers\",\"name\":\"Kid A\",\"orientation\":\"v\",\"showlegend\":true,\"x\":[\"Kid A\",\"Kid A\",\"Kid A\",\"Kid A\",\"Kid A\",\"Kid A\",\"Kid A\",\"Kid A\",\"Kid A\",\"Kid A\",\"Kid A\"],\"xaxis\":\"x\",\"y\":[27.87,33.78,57.7,40.98,27.87,72.09,61.5,71.77,56.37,9.35,29.67],\"yaxis\":\"y\",\"type\":\"scatter\",\"textposition\":\"bottom right\"},{\"hovertemplate\":\"\\u003cb\\u003e%{hovertext}\\u003c\\u002fb\\u003e\\u003cbr\\u003e\\u003cbr\\u003eAlbum Name=%{x}\\u003cbr\\u003eGloom Index=%{y}\\u003cextra\\u003e\\u003c\\u002fextra\\u003e\",\"hovertext\":[\"Packt Like Sardines In a Crushed Tin Box\",\"Pyramid Song\",\"Pulk\\u002fPull Revolving Doors\",\"You And Whose Army?\",\"I Might Be Wrong\",\"Knives Out\",\"Morning Bell\\u002fAmnesiac\",\"Dollars & Cents\",\"Hunting Bears\",\"Like Spinning Plates\",\"Life In a Glasshouse\"],\"legendgroup\":\"Amnesiac\",\"marker\":{\"color\":\"#FFA15A\",\"symbol\":\"circle\"},\"mode\":\"markers\",\"name\":\"Amnesiac\",\"orientation\":\"v\",\"showlegend\":true,\"x\":[\"Amnesiac\",\"Amnesiac\",\"Amnesiac\",\"Amnesiac\",\"Amnesiac\",\"Amnesiac\",\"Amnesiac\",\"Amnesiac\",\"Amnesiac\",\"Amnesiac\",\"Amnesiac\"],\"xaxis\":\"x\",\"y\":[80.63,14.15,34.86,30.86,68.84,39.06,42.44,15.29,29.64,41.71,20.54],\"yaxis\":\"y\",\"type\":\"scatter\",\"textposition\":\"bottom right\"},{\"hovertemplate\":\"\\u003cb\\u003e%{hovertext}\\u003c\\u002fb\\u003e\\u003cbr\\u003e\\u003cbr\\u003eAlbum Name=%{x}\\u003cbr\\u003eGloom Index=%{y}\\u003cextra\\u003e\\u003c\\u002fextra\\u003e\",\"hovertext\":[\"2 + 2 = 5\",\"Sit Down. Stand Up\",\"Sail To The Moon\",\"Backdrifts\",\"Go To Sleep\",\"Where I End and You Begin\",\"We Suck Young Blood\",\"The Gloaming\",\"There, There\",\"I Will\",\"A Punch Up At a Wedding\",\"Myxomatosis\",\"Scatterbrain\",\"A Wolf At the Door\"],\"legendgroup\":\"Hail To the Thief\",\"marker\":{\"color\":\"#19d3f3\",\"symbol\":\"circle\"},\"mode\":\"markers\",\"name\":\"Hail To the Thief\",\"orientation\":\"v\",\"showlegend\":true,\"x\":[\"Hail To the Thief\",\"Hail To the Thief\",\"Hail To the Thief\",\"Hail To the Thief\",\"Hail To the Thief\",\"Hail To the Thief\",\"Hail To the Thief\",\"Hail To the Thief\",\"Hail To the Thief\",\"Hail To the Thief\",\"Hail To the Thief\",\"Hail To the Thief\",\"Hail To the Thief\",\"Hail To the Thief\"],\"xaxis\":\"x\",\"y\":[47.4,68.61,26.71,57.99,82.28,64.23,16.21,26.5,72.34,34.14,53.88,70.4,40.64,50.8],\"yaxis\":\"y\",\"type\":\"scatter\",\"textposition\":\"bottom right\"},{\"hovertemplate\":\"\\u003cb\\u003e%{hovertext}\\u003c\\u002fb\\u003e\\u003cbr\\u003e\\u003cbr\\u003eAlbum Name=%{x}\\u003cbr\\u003eGloom Index=%{y}\\u003cextra\\u003e\\u003c\\u002fextra\\u003e\",\"hovertext\":[\"15 Step\",\"Bodysnatchers\",\"Nude\",\"Weird Fishes\\u002f Arpeggi\",\"All I Need\",\"Faust Arp\",\"Reckoner\",\"House Of Cards\",\"Jigsaw Falling Into Place\",\"Videotape\"],\"legendgroup\":\"In Rainbows\",\"marker\":{\"color\":\"#FF6692\",\"symbol\":\"circle\"},\"mode\":\"markers\",\"name\":\"In Rainbows\",\"orientation\":\"v\",\"showlegend\":true,\"x\":[\"In Rainbows\",\"In Rainbows\",\"In Rainbows\",\"In Rainbows\",\"In Rainbows\",\"In Rainbows\",\"In Rainbows\",\"In Rainbows\",\"In Rainbows\",\"In Rainbows\"],\"xaxis\":\"x\",\"y\":[100.0,88.4,26.62,25.1,31.03,40.71,37.95,72.43,84.85,16.03],\"yaxis\":\"y\",\"type\":\"scatter\",\"textposition\":\"bottom right\"},{\"hovertemplate\":\"\\u003cb\\u003e%{hovertext}\\u003c\\u002fb\\u003e\\u003cbr\\u003e\\u003cbr\\u003eAlbum Name=%{x}\\u003cbr\\u003eGloom Index=%{y}\\u003cextra\\u003e\\u003c\\u002fextra\\u003e\",\"hovertext\":[\"Bloom\",\"Morning Mr Magpie\",\"Little By Little\",\"Feral\",\"Lotus Flower\",\"Codex\",\"Give Up The Ghost\",\"Separator\"],\"legendgroup\":\"The King Of Limbs\",\"marker\":{\"color\":\"#B6E880\",\"symbol\":\"circle\"},\"mode\":\"markers\",\"name\":\"The King Of Limbs\",\"orientation\":\"v\",\"showlegend\":true,\"x\":[\"The King Of Limbs\",\"The King Of Limbs\",\"The King Of Limbs\",\"The King Of Limbs\",\"The King Of Limbs\",\"The King Of Limbs\",\"The King Of Limbs\",\"The King Of Limbs\"],\"xaxis\":\"x\",\"y\":[48.55,59.71,59.9,91.14,67.59,21.86,6.46,69.83],\"yaxis\":\"y\",\"type\":\"scatter\",\"textposition\":\"bottom right\"},{\"hovertemplate\":\"\\u003cb\\u003e%{hovertext}\\u003c\\u002fb\\u003e\\u003cbr\\u003e\\u003cbr\\u003eAlbum Name=%{x}\\u003cbr\\u003eGloom Index=%{y}\\u003cextra\\u003e\\u003c\\u002fextra\\u003e\",\"hovertext\":[\"Burn the Witch\",\"Daydreaming\",\"Decks Dark\",\"Desert Island Disk\",\"Ful Stop\",\"Glass Eyes\",\"Identikit\",\"The Numbers\",\"Present Tense\",\"Tinker Tailor Soldier Sailor Rich Man Poor Man Beggar Man Thief\",\"True Love Waits\"],\"legendgroup\":\"A Moon Shaped Pool\",\"marker\":{\"color\":\"#FF97FF\",\"symbol\":\"circle\"},\"mode\":\"markers\",\"name\":\"A Moon Shaped Pool\",\"orientation\":\"v\",\"showlegend\":true,\"x\":[\"A Moon Shaped Pool\",\"A Moon Shaped Pool\",\"A Moon Shaped Pool\",\"A Moon Shaped Pool\",\"A Moon Shaped Pool\",\"A Moon Shaped Pool\",\"A Moon Shaped Pool\",\"A Moon Shaped Pool\",\"A Moon Shaped Pool\",\"A Moon Shaped Pool\",\"A Moon Shaped Pool\"],\"xaxis\":\"x\",\"y\":[70.19,28.84,41.09,36.5,38.88,28.27,32.25,22.82,35.56,15.8,1.0],\"yaxis\":\"y\",\"type\":\"scatter\",\"textposition\":\"bottom right\"},{\"mode\":\"markers+lines\",\"showlegend\":false,\"text\":\"gloom_mean\",\"x\":[\"Pablo Honey\",\"Pablo Honey\",\"Pablo Honey\",\"Pablo Honey\",\"Pablo Honey\",\"Pablo Honey\",\"Pablo Honey\",\"Pablo Honey\",\"Pablo Honey\",\"Pablo Honey\",\"Pablo Honey\",\"Pablo Honey\",\"The Bends\",\"The Bends\",\"The Bends\",\"The Bends\",\"The Bends\",\"The Bends\",\"The Bends\",\"The Bends\",\"The Bends\",\"The Bends\",\"The Bends\",\"The Bends\",\"OK Computer\",\"OK Computer\",\"OK Computer\",\"OK Computer\",\"OK Computer\",\"OK Computer\",\"OK Computer\",\"OK Computer\",\"OK Computer\",\"OK Computer\",\"OK Computer\",\"OK Computer\",\"Kid A\",\"Kid A\",\"Kid A\",\"Kid A\",\"Kid A\",\"Kid A\",\"Kid A\",\"Kid A\",\"Kid A\",\"Kid A\",\"Kid A\",\"Amnesiac\",\"Amnesiac\",\"Amnesiac\",\"Amnesiac\",\"Amnesiac\",\"Amnesiac\",\"Amnesiac\",\"Amnesiac\",\"Amnesiac\",\"Amnesiac\",\"Amnesiac\",\"Hail To the Thief\",\"Hail To the Thief\",\"Hail To the Thief\",\"Hail To the Thief\",\"Hail To the Thief\",\"Hail To the Thief\",\"Hail To the Thief\",\"Hail To the Thief\",\"Hail To the Thief\",\"Hail To the Thief\",\"Hail To the Thief\",\"Hail To the Thief\",\"Hail To the Thief\",\"Hail To the Thief\",\"In Rainbows\",\"In Rainbows\",\"In Rainbows\",\"In Rainbows\",\"In Rainbows\",\"In Rainbows\",\"In Rainbows\",\"In Rainbows\",\"In Rainbows\",\"In Rainbows\",\"The King Of Limbs\",\"The King Of Limbs\",\"The King Of Limbs\",\"The King Of Limbs\",\"The King Of Limbs\",\"The King Of Limbs\",\"The King Of Limbs\",\"The King Of Limbs\",\"A Moon Shaped Pool\",\"A Moon Shaped Pool\",\"A Moon Shaped Pool\",\"A Moon Shaped Pool\",\"A Moon Shaped Pool\",\"A Moon Shaped Pool\",\"A Moon Shaped Pool\",\"A Moon Shaped Pool\",\"A Moon Shaped Pool\",\"A Moon Shaped Pool\",\"A Moon Shaped Pool\"],\"y\":[46.85166666666667,46.85166666666667,46.85166666666667,46.85166666666667,46.85166666666667,46.85166666666667,46.85166666666667,46.85166666666667,46.85166666666667,46.85166666666667,46.85166666666667,46.85166666666667,42.509166666666665,42.509166666666665,42.509166666666665,42.509166666666665,42.509166666666665,42.509166666666665,42.509166666666665,42.509166666666665,42.509166666666665,42.509166666666665,42.509166666666665,42.509166666666665,39.21333333333333,39.21333333333333,39.21333333333333,39.21333333333333,39.21333333333333,39.21333333333333,39.21333333333333,39.21333333333333,39.21333333333333,39.21333333333333,39.21333333333333,39.21333333333333,44.449999999999996,44.449999999999996,44.449999999999996,44.449999999999996,44.449999999999996,44.449999999999996,44.449999999999996,44.449999999999996,44.449999999999996,44.449999999999996,44.449999999999996,38.00181818181818,38.00181818181818,38.00181818181818,38.00181818181818,38.00181818181818,38.00181818181818,38.00181818181818,38.00181818181818,38.00181818181818,38.00181818181818,38.00181818181818,50.86642857142857,50.86642857142857,50.86642857142857,50.86642857142857,50.86642857142857,50.86642857142857,50.86642857142857,50.86642857142857,50.86642857142857,50.86642857142857,50.86642857142857,50.86642857142857,50.86642857142857,50.86642857142857,52.312,52.312,52.312,52.312,52.312,52.312,52.312,52.312,52.312,52.312,53.129999999999995,53.129999999999995,53.129999999999995,53.129999999999995,53.129999999999995,53.129999999999995,53.129999999999995,53.129999999999995,31.927272727272726,31.927272727272726,31.927272727272726,31.927272727272726,31.927272727272726,31.927272727272726,31.927272727272726,31.927272727272726,31.927272727272726,31.927272727272726,31.927272727272726],\"type\":\"scatter\",\"textposition\":\"bottom right\"}],                        {\"template\":{\"data\":{\"barpolar\":[{\"marker\":{\"line\":{\"color\":\"rgb(17,17,17)\",\"width\":0.5},\"pattern\":{\"fillmode\":\"overlay\",\"size\":10,\"solidity\":0.2}},\"type\":\"barpolar\"}],\"bar\":[{\"error_x\":{\"color\":\"#f2f5fa\"},\"error_y\":{\"color\":\"#f2f5fa\"},\"marker\":{\"line\":{\"color\":\"rgb(17,17,17)\",\"width\":0.5},\"pattern\":{\"fillmode\":\"overlay\",\"size\":10,\"solidity\":0.2}},\"type\":\"bar\"}],\"carpet\":[{\"aaxis\":{\"endlinecolor\":\"#A2B1C6\",\"gridcolor\":\"#506784\",\"linecolor\":\"#506784\",\"minorgridcolor\":\"#506784\",\"startlinecolor\":\"#A2B1C6\"},\"baxis\":{\"endlinecolor\":\"#A2B1C6\",\"gridcolor\":\"#506784\",\"linecolor\":\"#506784\",\"minorgridcolor\":\"#506784\",\"startlinecolor\":\"#A2B1C6\"},\"type\":\"carpet\"}],\"choropleth\":[{\"colorbar\":{\"outlinewidth\":0,\"ticks\":\"\"},\"type\":\"choropleth\"}],\"contourcarpet\":[{\"colorbar\":{\"outlinewidth\":0,\"ticks\":\"\"},\"type\":\"contourcarpet\"}],\"contour\":[{\"colorbar\":{\"outlinewidth\":0,\"ticks\":\"\"},\"colorscale\":[[0.0,\"#0d0887\"],[0.1111111111111111,\"#46039f\"],[0.2222222222222222,\"#7201a8\"],[0.3333333333333333,\"#9c179e\"],[0.4444444444444444,\"#bd3786\"],[0.5555555555555556,\"#d8576b\"],[0.6666666666666666,\"#ed7953\"],[0.7777777777777778,\"#fb9f3a\"],[0.8888888888888888,\"#fdca26\"],[1.0,\"#f0f921\"]],\"type\":\"contour\"}],\"heatmapgl\":[{\"colorbar\":{\"outlinewidth\":0,\"ticks\":\"\"},\"colorscale\":[[0.0,\"#0d0887\"],[0.1111111111111111,\"#46039f\"],[0.2222222222222222,\"#7201a8\"],[0.3333333333333333,\"#9c179e\"],[0.4444444444444444,\"#bd3786\"],[0.5555555555555556,\"#d8576b\"],[0.6666666666666666,\"#ed7953\"],[0.7777777777777778,\"#fb9f3a\"],[0.8888888888888888,\"#fdca26\"],[1.0,\"#f0f921\"]],\"type\":\"heatmapgl\"}],\"heatmap\":[{\"colorbar\":{\"outlinewidth\":0,\"ticks\":\"\"},\"colorscale\":[[0.0,\"#0d0887\"],[0.1111111111111111,\"#46039f\"],[0.2222222222222222,\"#7201a8\"],[0.3333333333333333,\"#9c179e\"],[0.4444444444444444,\"#bd3786\"],[0.5555555555555556,\"#d8576b\"],[0.6666666666666666,\"#ed7953\"],[0.7777777777777778,\"#fb9f3a\"],[0.8888888888888888,\"#fdca26\"],[1.0,\"#f0f921\"]],\"type\":\"heatmap\"}],\"histogram2dcontour\":[{\"colorbar\":{\"outlinewidth\":0,\"ticks\":\"\"},\"colorscale\":[[0.0,\"#0d0887\"],[0.1111111111111111,\"#46039f\"],[0.2222222222222222,\"#7201a8\"],[0.3333333333333333,\"#9c179e\"],[0.4444444444444444,\"#bd3786\"],[0.5555555555555556,\"#d8576b\"],[0.6666666666666666,\"#ed7953\"],[0.7777777777777778,\"#fb9f3a\"],[0.8888888888888888,\"#fdca26\"],[1.0,\"#f0f921\"]],\"type\":\"histogram2dcontour\"}],\"histogram2d\":[{\"colorbar\":{\"outlinewidth\":0,\"ticks\":\"\"},\"colorscale\":[[0.0,\"#0d0887\"],[0.1111111111111111,\"#46039f\"],[0.2222222222222222,\"#7201a8\"],[0.3333333333333333,\"#9c179e\"],[0.4444444444444444,\"#bd3786\"],[0.5555555555555556,\"#d8576b\"],[0.6666666666666666,\"#ed7953\"],[0.7777777777777778,\"#fb9f3a\"],[0.8888888888888888,\"#fdca26\"],[1.0,\"#f0f921\"]],\"type\":\"histogram2d\"}],\"histogram\":[{\"marker\":{\"pattern\":{\"fillmode\":\"overlay\",\"size\":10,\"solidity\":0.2}},\"type\":\"histogram\"}],\"mesh3d\":[{\"colorbar\":{\"outlinewidth\":0,\"ticks\":\"\"},\"type\":\"mesh3d\"}],\"parcoords\":[{\"line\":{\"colorbar\":{\"outlinewidth\":0,\"ticks\":\"\"}},\"type\":\"parcoords\"}],\"pie\":[{\"automargin\":true,\"type\":\"pie\"}],\"scatter3d\":[{\"line\":{\"colorbar\":{\"outlinewidth\":0,\"ticks\":\"\"}},\"marker\":{\"colorbar\":{\"outlinewidth\":0,\"ticks\":\"\"}},\"type\":\"scatter3d\"}],\"scattercarpet\":[{\"marker\":{\"colorbar\":{\"outlinewidth\":0,\"ticks\":\"\"}},\"type\":\"scattercarpet\"}],\"scattergeo\":[{\"marker\":{\"colorbar\":{\"outlinewidth\":0,\"ticks\":\"\"}},\"type\":\"scattergeo\"}],\"scattergl\":[{\"marker\":{\"line\":{\"color\":\"#283442\"}},\"type\":\"scattergl\"}],\"scattermapbox\":[{\"marker\":{\"colorbar\":{\"outlinewidth\":0,\"ticks\":\"\"}},\"type\":\"scattermapbox\"}],\"scatterpolargl\":[{\"marker\":{\"colorbar\":{\"outlinewidth\":0,\"ticks\":\"\"}},\"type\":\"scatterpolargl\"}],\"scatterpolar\":[{\"marker\":{\"colorbar\":{\"outlinewidth\":0,\"ticks\":\"\"}},\"type\":\"scatterpolar\"}],\"scatter\":[{\"marker\":{\"line\":{\"color\":\"#283442\"}},\"type\":\"scatter\"}],\"scatterternary\":[{\"marker\":{\"colorbar\":{\"outlinewidth\":0,\"ticks\":\"\"}},\"type\":\"scatterternary\"}],\"surface\":[{\"colorbar\":{\"outlinewidth\":0,\"ticks\":\"\"},\"colorscale\":[[0.0,\"#0d0887\"],[0.1111111111111111,\"#46039f\"],[0.2222222222222222,\"#7201a8\"],[0.3333333333333333,\"#9c179e\"],[0.4444444444444444,\"#bd3786\"],[0.5555555555555556,\"#d8576b\"],[0.6666666666666666,\"#ed7953\"],[0.7777777777777778,\"#fb9f3a\"],[0.8888888888888888,\"#fdca26\"],[1.0,\"#f0f921\"]],\"type\":\"surface\"}],\"table\":[{\"cells\":{\"fill\":{\"color\":\"#506784\"},\"line\":{\"color\":\"rgb(17,17,17)\"}},\"header\":{\"fill\":{\"color\":\"#2a3f5f\"},\"line\":{\"color\":\"rgb(17,17,17)\"}},\"type\":\"table\"}]},\"layout\":{\"annotationdefaults\":{\"arrowcolor\":\"#f2f5fa\",\"arrowhead\":0,\"arrowwidth\":1},\"autotypenumbers\":\"strict\",\"coloraxis\":{\"colorbar\":{\"outlinewidth\":0,\"ticks\":\"\"}},\"colorscale\":{\"diverging\":[[0,\"#8e0152\"],[0.1,\"#c51b7d\"],[0.2,\"#de77ae\"],[0.3,\"#f1b6da\"],[0.4,\"#fde0ef\"],[0.5,\"#f7f7f7\"],[0.6,\"#e6f5d0\"],[0.7,\"#b8e186\"],[0.8,\"#7fbc41\"],[0.9,\"#4d9221\"],[1,\"#276419\"]],\"sequential\":[[0.0,\"#0d0887\"],[0.1111111111111111,\"#46039f\"],[0.2222222222222222,\"#7201a8\"],[0.3333333333333333,\"#9c179e\"],[0.4444444444444444,\"#bd3786\"],[0.5555555555555556,\"#d8576b\"],[0.6666666666666666,\"#ed7953\"],[0.7777777777777778,\"#fb9f3a\"],[0.8888888888888888,\"#fdca26\"],[1.0,\"#f0f921\"]],\"sequentialminus\":[[0.0,\"#0d0887\"],[0.1111111111111111,\"#46039f\"],[0.2222222222222222,\"#7201a8\"],[0.3333333333333333,\"#9c179e\"],[0.4444444444444444,\"#bd3786\"],[0.5555555555555556,\"#d8576b\"],[0.6666666666666666,\"#ed7953\"],[0.7777777777777778,\"#fb9f3a\"],[0.8888888888888888,\"#fdca26\"],[1.0,\"#f0f921\"]]},\"colorway\":[\"#636efa\",\"#EF553B\",\"#00cc96\",\"#ab63fa\",\"#FFA15A\",\"#19d3f3\",\"#FF6692\",\"#B6E880\",\"#FF97FF\",\"#FECB52\"],\"font\":{\"color\":\"#f2f5fa\"},\"geo\":{\"bgcolor\":\"rgb(17,17,17)\",\"lakecolor\":\"rgb(17,17,17)\",\"landcolor\":\"rgb(17,17,17)\",\"showlakes\":true,\"showland\":true,\"subunitcolor\":\"#506784\"},\"hoverlabel\":{\"align\":\"left\"},\"hovermode\":\"closest\",\"mapbox\":{\"style\":\"dark\"},\"paper_bgcolor\":\"rgb(17,17,17)\",\"plot_bgcolor\":\"rgb(17,17,17)\",\"polar\":{\"angularaxis\":{\"gridcolor\":\"#506784\",\"linecolor\":\"#506784\",\"ticks\":\"\"},\"bgcolor\":\"rgb(17,17,17)\",\"radialaxis\":{\"gridcolor\":\"#506784\",\"linecolor\":\"#506784\",\"ticks\":\"\"}},\"scene\":{\"xaxis\":{\"backgroundcolor\":\"rgb(17,17,17)\",\"gridcolor\":\"#506784\",\"gridwidth\":2,\"linecolor\":\"#506784\",\"showbackground\":true,\"ticks\":\"\",\"zerolinecolor\":\"#C8D4E3\"},\"yaxis\":{\"backgroundcolor\":\"rgb(17,17,17)\",\"gridcolor\":\"#506784\",\"gridwidth\":2,\"linecolor\":\"#506784\",\"showbackground\":true,\"ticks\":\"\",\"zerolinecolor\":\"#C8D4E3\"},\"zaxis\":{\"backgroundcolor\":\"rgb(17,17,17)\",\"gridcolor\":\"#506784\",\"gridwidth\":2,\"linecolor\":\"#506784\",\"showbackground\":true,\"ticks\":\"\",\"zerolinecolor\":\"#C8D4E3\"}},\"shapedefaults\":{\"line\":{\"color\":\"#f2f5fa\"}},\"sliderdefaults\":{\"bgcolor\":\"#C8D4E3\",\"bordercolor\":\"rgb(17,17,17)\",\"borderwidth\":1,\"tickwidth\":0},\"ternary\":{\"aaxis\":{\"gridcolor\":\"#506784\",\"linecolor\":\"#506784\",\"ticks\":\"\"},\"baxis\":{\"gridcolor\":\"#506784\",\"linecolor\":\"#506784\",\"ticks\":\"\"},\"bgcolor\":\"rgb(17,17,17)\",\"caxis\":{\"gridcolor\":\"#506784\",\"linecolor\":\"#506784\",\"ticks\":\"\"}},\"title\":{\"x\":0.05},\"updatemenudefaults\":{\"bgcolor\":\"#506784\",\"borderwidth\":0},\"xaxis\":{\"automargin\":true,\"gridcolor\":\"#283442\",\"linecolor\":\"#506784\",\"ticks\":\"\",\"title\":{\"standoff\":15},\"zerolinecolor\":\"#283442\",\"zerolinewidth\":2},\"yaxis\":{\"automargin\":true,\"gridcolor\":\"#283442\",\"linecolor\":\"#506784\",\"ticks\":\"\",\"title\":{\"standoff\":15},\"zerolinecolor\":\"#283442\",\"zerolinewidth\":2}}},\"xaxis\":{\"anchor\":\"y\",\"domain\":[0.0,1.0],\"title\":{\"text\":\"Album Name\"},\"categoryorder\":\"array\",\"categoryarray\":[\"Pablo Honey\",\"The Bends\",\"OK Computer\",\"Kid A\",\"Amnesiac\",\"Hail To the Thief\",\"In Rainbows\",\"The King Of Limbs\",\"A Moon Shaped Pool\"]},\"yaxis\":{\"anchor\":\"x\",\"domain\":[0.0,1.0],\"title\":{\"text\":\"Gloom Index\"}},\"legend\":{\"title\":{\"text\":\"Album Name\"},\"tracegroupgap\":0},\"title\":{\"text\":\"\\u003cb\\u003eRadiohead Albums by Gloom Index\\u003c\\u002fb\\u003e \\u003cbr\\u003eAnd we have a winner: \\\"A Moon Shaped Pool\\\" is the saddest album.\"},\"annotations\":[{\"align\":\"left\",\"showarrow\":false,\"text\":\"Data Source: \\u003ca href=\\u201dhttps:\\u002f\\u002fwww.kaggle.com\\u002fdatasets\\u002flavagod\\u002fradiohead\\u002fversions\\u002f1?resource=download\\u201d\\u003eRadiohead Data\\u003c\\u002fa\\u003e \\u003cbr\\u003eViz: \\u003ca href=\\u201dhttps:\\u002f\\u002ftwitter.com\\u002f_prospecttheory\\u201d\\u003e@_prospecttheory\\u003c\\u002fa\\u003e \\u003cbr\\u003e \\u003cbr\\u003e \\u003cbr\\u003e \\u003cbr\\u003e \\u003cbr\\u003e\",\"x\":-0.025,\"xref\":\"paper\",\"y\":-0.7,\"yref\":\"paper\"}]},                        {\"responsive\": true}                    ).then(function(){\n",
       "                            \n",
       "var gd = document.getElementById('f04db482-8d6f-4115-8586-91705ff0d5f0');\n",
       "var x = new MutationObserver(function (mutations, observer) {{\n",
       "        var display = window.getComputedStyle(gd).display;\n",
       "        if (!display || display === 'none') {{\n",
       "            console.log([gd, 'removed!']);\n",
       "            Plotly.purge(gd);\n",
       "            observer.disconnect();\n",
       "        }}\n",
       "}});\n",
       "\n",
       "// Listen for the removal of the full notebook cells\n",
       "var notebookContainer = gd.closest('#notebook-container');\n",
       "if (notebookContainer) {{\n",
       "    x.observe(notebookContainer, {childList: true});\n",
       "}}\n",
       "\n",
       "// Listen for the clearing of the current output cell\n",
       "var outputEl = gd.closest('.output');\n",
       "if (outputEl) {{\n",
       "    x.observe(outputEl, {childList: true});\n",
       "}}\n",
       "\n",
       "                        })                };                });            </script>        </div>"
      ]
     },
     "metadata": {},
     "output_type": "display_data"
    }
   ],
   "source": [
    "#Plot Saddest Album\n",
    "fig = px.scatter(df_radiohead_combined, x = 'album_name',y= 'gloom_index', color = 'album_name',\n",
    "            labels={'album_name':'Album Name', 'gloom_index':'Gloom Index'},\n",
    "            title= '<b>Radiohead Albums by Gloom Index</b> <br>And we have a winner: \"A Moon Shaped Pool\" is the saddest album.',\n",
    "            template='plotly_dark', hover_name= 'track_name')\n",
    "\n",
    "#Add Signature\n",
    "fig.add_annotation(text='Data Source: <a href=”https://www.kaggle.com/datasets/lavagod/radiohead/versions/1?resource=download”>Radiohead Data</a> <br>Viz: <a href=”https://twitter.com/_prospecttheory”>@_prospecttheory</a> <br> <br> <br> <br> <br>', \n",
    "                    align='left',\n",
    "                    showarrow=False,\n",
    "                    xref='paper',\n",
    "                    yref='paper',\n",
    "                    x= -0.025,\n",
    "                    y= -0.7)\n",
    "\n",
    "#Add Line For Means\n",
    "fig.add_scatter(x= df_radiohead_combined['album_name'], y= df_radiohead_combined['gloom_mean'], mode='markers, lines', showlegend= False, text='gloom_mean')\n",
    "fig.update_traces(textposition=\"bottom right\")\n",
    "\n",
    "fig.show()"
   ]
  },
  {
   "cell_type": "markdown",
   "id": "3b6cb28b",
   "metadata": {},
   "source": [
    "'A Moon Shaped Pool' (31.9) has by far the lowest mean gloom value, meaning it is comes in as the saddest Radiohead album. It is a close call for rank #2, but 'Amnesiac' (38.0) edges out 'OK Computer' (39.2) by a hair. Interestingly the run 'Hail To the Thief', 'In Rainbows' and 'The King Of Limbs' again comes up as possibly the band's happy period, posting the highest mean gloom values, translating into the happiest works of the band to date. The five most positive songs of Radiohead can be found on these three records."
   ]
  },
  {
   "cell_type": "markdown",
   "id": "7921587a",
   "metadata": {},
   "source": [
    "## Let's translate this work into playlists\n",
    "\n",
    "With this lengthy look at the band's discography, we can try to translate our findings into playlists that could offer you numbers-based song suggestions depending on your mood.\n",
    "\n",
    "If you are looking for gut-wrenching time full of heartache, sorrow and despair the data would suggest these ten songs:\n",
    "\n",
    "\n"
   ]
  },
  {
   "cell_type": "code",
   "execution_count": 372,
   "id": "ab3bbfc9",
   "metadata": {},
   "outputs": [
    {
     "data": {
      "application/vnd.plotly.v1+json": {
       "config": {
        "plotlyServerURL": "https://plot.ly"
       },
       "data": [
        {
         "hovertemplate": "<b>%{hovertext}</b><br><br>Gloom Index=%{x}<br>Track Name=%{y}<extra></extra>",
         "hovertext": [
          "Videotape",
          "Tinker Tailor Soldier Sailor Rich Man Poor Man Beggar Man Thief",
          "High And Dry",
          "Dollars & Cents",
          "Exit Music (For a Film)",
          "Pyramid Song",
          "Let Down",
          "Motion Picture Soundtrack",
          "Give Up The Ghost",
          "True Love Waits"
         ],
         "legendgroup": "",
         "marker": {
          "color": "#636efa",
          "symbol": "circle"
         },
         "mode": "markers",
         "name": "",
         "orientation": "h",
         "showlegend": false,
         "type": "scatter",
         "x": [
          16.03,
          15.8,
          15.69,
          15.29,
          14.57,
          14.15,
          13.7,
          9.35,
          6.46,
          1
         ],
         "xaxis": "x",
         "y": [
          "Videotape",
          "Tinker Tailor Soldier Sailor Rich Man Poor Man Beggar Man Thief",
          "High And Dry",
          "Dollars & Cents",
          "Exit Music (For a Film)",
          "Pyramid Song",
          "Let Down",
          "Motion Picture Soundtrack",
          "Give Up The Ghost",
          "True Love Waits"
         ],
         "yaxis": "y"
        }
       ],
       "layout": {
        "annotations": [
         {
          "align": "left",
          "showarrow": false,
          "text": "Data Source: <a href=”https://www.kaggle.com/datasets/lavagod/radiohead/versions/1?resource=download”>Radiohead Data</a> <br>Viz: <a href=”https://twitter.com/_prospecttheory”>@_prospecttheory</a> <br> <br> <br> <br> <br>",
          "x": -1.03,
          "xref": "paper",
          "y": -0.5,
          "yref": "paper"
         }
        ],
        "legend": {
         "tracegroupgap": 0
        },
        "template": {
         "data": {
          "bar": [
           {
            "error_x": {
             "color": "#f2f5fa"
            },
            "error_y": {
             "color": "#f2f5fa"
            },
            "marker": {
             "line": {
              "color": "rgb(17,17,17)",
              "width": 0.5
             },
             "pattern": {
              "fillmode": "overlay",
              "size": 10,
              "solidity": 0.2
             }
            },
            "type": "bar"
           }
          ],
          "barpolar": [
           {
            "marker": {
             "line": {
              "color": "rgb(17,17,17)",
              "width": 0.5
             },
             "pattern": {
              "fillmode": "overlay",
              "size": 10,
              "solidity": 0.2
             }
            },
            "type": "barpolar"
           }
          ],
          "carpet": [
           {
            "aaxis": {
             "endlinecolor": "#A2B1C6",
             "gridcolor": "#506784",
             "linecolor": "#506784",
             "minorgridcolor": "#506784",
             "startlinecolor": "#A2B1C6"
            },
            "baxis": {
             "endlinecolor": "#A2B1C6",
             "gridcolor": "#506784",
             "linecolor": "#506784",
             "minorgridcolor": "#506784",
             "startlinecolor": "#A2B1C6"
            },
            "type": "carpet"
           }
          ],
          "choropleth": [
           {
            "colorbar": {
             "outlinewidth": 0,
             "ticks": ""
            },
            "type": "choropleth"
           }
          ],
          "contour": [
           {
            "colorbar": {
             "outlinewidth": 0,
             "ticks": ""
            },
            "colorscale": [
             [
              0,
              "#0d0887"
             ],
             [
              0.1111111111111111,
              "#46039f"
             ],
             [
              0.2222222222222222,
              "#7201a8"
             ],
             [
              0.3333333333333333,
              "#9c179e"
             ],
             [
              0.4444444444444444,
              "#bd3786"
             ],
             [
              0.5555555555555556,
              "#d8576b"
             ],
             [
              0.6666666666666666,
              "#ed7953"
             ],
             [
              0.7777777777777778,
              "#fb9f3a"
             ],
             [
              0.8888888888888888,
              "#fdca26"
             ],
             [
              1,
              "#f0f921"
             ]
            ],
            "type": "contour"
           }
          ],
          "contourcarpet": [
           {
            "colorbar": {
             "outlinewidth": 0,
             "ticks": ""
            },
            "type": "contourcarpet"
           }
          ],
          "heatmap": [
           {
            "colorbar": {
             "outlinewidth": 0,
             "ticks": ""
            },
            "colorscale": [
             [
              0,
              "#0d0887"
             ],
             [
              0.1111111111111111,
              "#46039f"
             ],
             [
              0.2222222222222222,
              "#7201a8"
             ],
             [
              0.3333333333333333,
              "#9c179e"
             ],
             [
              0.4444444444444444,
              "#bd3786"
             ],
             [
              0.5555555555555556,
              "#d8576b"
             ],
             [
              0.6666666666666666,
              "#ed7953"
             ],
             [
              0.7777777777777778,
              "#fb9f3a"
             ],
             [
              0.8888888888888888,
              "#fdca26"
             ],
             [
              1,
              "#f0f921"
             ]
            ],
            "type": "heatmap"
           }
          ],
          "heatmapgl": [
           {
            "colorbar": {
             "outlinewidth": 0,
             "ticks": ""
            },
            "colorscale": [
             [
              0,
              "#0d0887"
             ],
             [
              0.1111111111111111,
              "#46039f"
             ],
             [
              0.2222222222222222,
              "#7201a8"
             ],
             [
              0.3333333333333333,
              "#9c179e"
             ],
             [
              0.4444444444444444,
              "#bd3786"
             ],
             [
              0.5555555555555556,
              "#d8576b"
             ],
             [
              0.6666666666666666,
              "#ed7953"
             ],
             [
              0.7777777777777778,
              "#fb9f3a"
             ],
             [
              0.8888888888888888,
              "#fdca26"
             ],
             [
              1,
              "#f0f921"
             ]
            ],
            "type": "heatmapgl"
           }
          ],
          "histogram": [
           {
            "marker": {
             "pattern": {
              "fillmode": "overlay",
              "size": 10,
              "solidity": 0.2
             }
            },
            "type": "histogram"
           }
          ],
          "histogram2d": [
           {
            "colorbar": {
             "outlinewidth": 0,
             "ticks": ""
            },
            "colorscale": [
             [
              0,
              "#0d0887"
             ],
             [
              0.1111111111111111,
              "#46039f"
             ],
             [
              0.2222222222222222,
              "#7201a8"
             ],
             [
              0.3333333333333333,
              "#9c179e"
             ],
             [
              0.4444444444444444,
              "#bd3786"
             ],
             [
              0.5555555555555556,
              "#d8576b"
             ],
             [
              0.6666666666666666,
              "#ed7953"
             ],
             [
              0.7777777777777778,
              "#fb9f3a"
             ],
             [
              0.8888888888888888,
              "#fdca26"
             ],
             [
              1,
              "#f0f921"
             ]
            ],
            "type": "histogram2d"
           }
          ],
          "histogram2dcontour": [
           {
            "colorbar": {
             "outlinewidth": 0,
             "ticks": ""
            },
            "colorscale": [
             [
              0,
              "#0d0887"
             ],
             [
              0.1111111111111111,
              "#46039f"
             ],
             [
              0.2222222222222222,
              "#7201a8"
             ],
             [
              0.3333333333333333,
              "#9c179e"
             ],
             [
              0.4444444444444444,
              "#bd3786"
             ],
             [
              0.5555555555555556,
              "#d8576b"
             ],
             [
              0.6666666666666666,
              "#ed7953"
             ],
             [
              0.7777777777777778,
              "#fb9f3a"
             ],
             [
              0.8888888888888888,
              "#fdca26"
             ],
             [
              1,
              "#f0f921"
             ]
            ],
            "type": "histogram2dcontour"
           }
          ],
          "mesh3d": [
           {
            "colorbar": {
             "outlinewidth": 0,
             "ticks": ""
            },
            "type": "mesh3d"
           }
          ],
          "parcoords": [
           {
            "line": {
             "colorbar": {
              "outlinewidth": 0,
              "ticks": ""
             }
            },
            "type": "parcoords"
           }
          ],
          "pie": [
           {
            "automargin": true,
            "type": "pie"
           }
          ],
          "scatter": [
           {
            "marker": {
             "line": {
              "color": "#283442"
             }
            },
            "type": "scatter"
           }
          ],
          "scatter3d": [
           {
            "line": {
             "colorbar": {
              "outlinewidth": 0,
              "ticks": ""
             }
            },
            "marker": {
             "colorbar": {
              "outlinewidth": 0,
              "ticks": ""
             }
            },
            "type": "scatter3d"
           }
          ],
          "scattercarpet": [
           {
            "marker": {
             "colorbar": {
              "outlinewidth": 0,
              "ticks": ""
             }
            },
            "type": "scattercarpet"
           }
          ],
          "scattergeo": [
           {
            "marker": {
             "colorbar": {
              "outlinewidth": 0,
              "ticks": ""
             }
            },
            "type": "scattergeo"
           }
          ],
          "scattergl": [
           {
            "marker": {
             "line": {
              "color": "#283442"
             }
            },
            "type": "scattergl"
           }
          ],
          "scattermapbox": [
           {
            "marker": {
             "colorbar": {
              "outlinewidth": 0,
              "ticks": ""
             }
            },
            "type": "scattermapbox"
           }
          ],
          "scatterpolar": [
           {
            "marker": {
             "colorbar": {
              "outlinewidth": 0,
              "ticks": ""
             }
            },
            "type": "scatterpolar"
           }
          ],
          "scatterpolargl": [
           {
            "marker": {
             "colorbar": {
              "outlinewidth": 0,
              "ticks": ""
             }
            },
            "type": "scatterpolargl"
           }
          ],
          "scatterternary": [
           {
            "marker": {
             "colorbar": {
              "outlinewidth": 0,
              "ticks": ""
             }
            },
            "type": "scatterternary"
           }
          ],
          "surface": [
           {
            "colorbar": {
             "outlinewidth": 0,
             "ticks": ""
            },
            "colorscale": [
             [
              0,
              "#0d0887"
             ],
             [
              0.1111111111111111,
              "#46039f"
             ],
             [
              0.2222222222222222,
              "#7201a8"
             ],
             [
              0.3333333333333333,
              "#9c179e"
             ],
             [
              0.4444444444444444,
              "#bd3786"
             ],
             [
              0.5555555555555556,
              "#d8576b"
             ],
             [
              0.6666666666666666,
              "#ed7953"
             ],
             [
              0.7777777777777778,
              "#fb9f3a"
             ],
             [
              0.8888888888888888,
              "#fdca26"
             ],
             [
              1,
              "#f0f921"
             ]
            ],
            "type": "surface"
           }
          ],
          "table": [
           {
            "cells": {
             "fill": {
              "color": "#506784"
             },
             "line": {
              "color": "rgb(17,17,17)"
             }
            },
            "header": {
             "fill": {
              "color": "#2a3f5f"
             },
             "line": {
              "color": "rgb(17,17,17)"
             }
            },
            "type": "table"
           }
          ]
         },
         "layout": {
          "annotationdefaults": {
           "arrowcolor": "#f2f5fa",
           "arrowhead": 0,
           "arrowwidth": 1
          },
          "autotypenumbers": "strict",
          "coloraxis": {
           "colorbar": {
            "outlinewidth": 0,
            "ticks": ""
           }
          },
          "colorscale": {
           "diverging": [
            [
             0,
             "#8e0152"
            ],
            [
             0.1,
             "#c51b7d"
            ],
            [
             0.2,
             "#de77ae"
            ],
            [
             0.3,
             "#f1b6da"
            ],
            [
             0.4,
             "#fde0ef"
            ],
            [
             0.5,
             "#f7f7f7"
            ],
            [
             0.6,
             "#e6f5d0"
            ],
            [
             0.7,
             "#b8e186"
            ],
            [
             0.8,
             "#7fbc41"
            ],
            [
             0.9,
             "#4d9221"
            ],
            [
             1,
             "#276419"
            ]
           ],
           "sequential": [
            [
             0,
             "#0d0887"
            ],
            [
             0.1111111111111111,
             "#46039f"
            ],
            [
             0.2222222222222222,
             "#7201a8"
            ],
            [
             0.3333333333333333,
             "#9c179e"
            ],
            [
             0.4444444444444444,
             "#bd3786"
            ],
            [
             0.5555555555555556,
             "#d8576b"
            ],
            [
             0.6666666666666666,
             "#ed7953"
            ],
            [
             0.7777777777777778,
             "#fb9f3a"
            ],
            [
             0.8888888888888888,
             "#fdca26"
            ],
            [
             1,
             "#f0f921"
            ]
           ],
           "sequentialminus": [
            [
             0,
             "#0d0887"
            ],
            [
             0.1111111111111111,
             "#46039f"
            ],
            [
             0.2222222222222222,
             "#7201a8"
            ],
            [
             0.3333333333333333,
             "#9c179e"
            ],
            [
             0.4444444444444444,
             "#bd3786"
            ],
            [
             0.5555555555555556,
             "#d8576b"
            ],
            [
             0.6666666666666666,
             "#ed7953"
            ],
            [
             0.7777777777777778,
             "#fb9f3a"
            ],
            [
             0.8888888888888888,
             "#fdca26"
            ],
            [
             1,
             "#f0f921"
            ]
           ]
          },
          "colorway": [
           "#636efa",
           "#EF553B",
           "#00cc96",
           "#ab63fa",
           "#FFA15A",
           "#19d3f3",
           "#FF6692",
           "#B6E880",
           "#FF97FF",
           "#FECB52"
          ],
          "font": {
           "color": "#f2f5fa"
          },
          "geo": {
           "bgcolor": "rgb(17,17,17)",
           "lakecolor": "rgb(17,17,17)",
           "landcolor": "rgb(17,17,17)",
           "showlakes": true,
           "showland": true,
           "subunitcolor": "#506784"
          },
          "hoverlabel": {
           "align": "left"
          },
          "hovermode": "closest",
          "mapbox": {
           "style": "dark"
          },
          "paper_bgcolor": "rgb(17,17,17)",
          "plot_bgcolor": "rgb(17,17,17)",
          "polar": {
           "angularaxis": {
            "gridcolor": "#506784",
            "linecolor": "#506784",
            "ticks": ""
           },
           "bgcolor": "rgb(17,17,17)",
           "radialaxis": {
            "gridcolor": "#506784",
            "linecolor": "#506784",
            "ticks": ""
           }
          },
          "scene": {
           "xaxis": {
            "backgroundcolor": "rgb(17,17,17)",
            "gridcolor": "#506784",
            "gridwidth": 2,
            "linecolor": "#506784",
            "showbackground": true,
            "ticks": "",
            "zerolinecolor": "#C8D4E3"
           },
           "yaxis": {
            "backgroundcolor": "rgb(17,17,17)",
            "gridcolor": "#506784",
            "gridwidth": 2,
            "linecolor": "#506784",
            "showbackground": true,
            "ticks": "",
            "zerolinecolor": "#C8D4E3"
           },
           "zaxis": {
            "backgroundcolor": "rgb(17,17,17)",
            "gridcolor": "#506784",
            "gridwidth": 2,
            "linecolor": "#506784",
            "showbackground": true,
            "ticks": "",
            "zerolinecolor": "#C8D4E3"
           }
          },
          "shapedefaults": {
           "line": {
            "color": "#f2f5fa"
           }
          },
          "sliderdefaults": {
           "bgcolor": "#C8D4E3",
           "bordercolor": "rgb(17,17,17)",
           "borderwidth": 1,
           "tickwidth": 0
          },
          "ternary": {
           "aaxis": {
            "gridcolor": "#506784",
            "linecolor": "#506784",
            "ticks": ""
           },
           "baxis": {
            "gridcolor": "#506784",
            "linecolor": "#506784",
            "ticks": ""
           },
           "bgcolor": "rgb(17,17,17)",
           "caxis": {
            "gridcolor": "#506784",
            "linecolor": "#506784",
            "ticks": ""
           }
          },
          "title": {
           "x": 0.05
          },
          "updatemenudefaults": {
           "bgcolor": "#506784",
           "borderwidth": 0
          },
          "xaxis": {
           "automargin": true,
           "gridcolor": "#283442",
           "linecolor": "#506784",
           "ticks": "",
           "title": {
            "standoff": 15
           },
           "zerolinecolor": "#283442",
           "zerolinewidth": 2
          },
          "yaxis": {
           "automargin": true,
           "gridcolor": "#283442",
           "linecolor": "#506784",
           "ticks": "",
           "title": {
            "standoff": 15
           },
           "zerolinecolor": "#283442",
           "zerolinewidth": 2
          }
         }
        },
        "title": {
         "text": "<b>The Ultimate Radiohead Playlist</b><br>The Numbers-Based Sadness Edition"
        },
        "xaxis": {
         "anchor": "y",
         "domain": [
          0,
          1
         ],
         "title": {
          "text": "Gloom Index"
         }
        },
        "yaxis": {
         "anchor": "x",
         "domain": [
          0,
          1
         ],
         "title": {
          "text": "Track Name"
         }
        }
       }
      },
      "text/html": [
       "<div>                            <div id=\"4df4d7ee-fa98-4e0c-8677-ba7179de2fa9\" class=\"plotly-graph-div\" style=\"height:525px; width:100%;\"></div>            <script type=\"text/javascript\">                require([\"plotly\"], function(Plotly) {                    window.PLOTLYENV=window.PLOTLYENV || {};                                    if (document.getElementById(\"4df4d7ee-fa98-4e0c-8677-ba7179de2fa9\")) {                    Plotly.newPlot(                        \"4df4d7ee-fa98-4e0c-8677-ba7179de2fa9\",                        [{\"hovertemplate\":\"\\u003cb\\u003e%{hovertext}\\u003c\\u002fb\\u003e\\u003cbr\\u003e\\u003cbr\\u003eGloom Index=%{x}\\u003cbr\\u003eTrack Name=%{y}\\u003cextra\\u003e\\u003c\\u002fextra\\u003e\",\"hovertext\":[\"Videotape\",\"Tinker Tailor Soldier Sailor Rich Man Poor Man Beggar Man Thief\",\"High And Dry\",\"Dollars & Cents\",\"Exit Music (For a Film)\",\"Pyramid Song\",\"Let Down\",\"Motion Picture Soundtrack\",\"Give Up The Ghost\",\"True Love Waits\"],\"legendgroup\":\"\",\"marker\":{\"color\":\"#636efa\",\"symbol\":\"circle\"},\"mode\":\"markers\",\"name\":\"\",\"orientation\":\"h\",\"showlegend\":false,\"x\":[16.03,15.8,15.69,15.29,14.57,14.15,13.7,9.35,6.46,1.0],\"xaxis\":\"x\",\"y\":[\"Videotape\",\"Tinker Tailor Soldier Sailor Rich Man Poor Man Beggar Man Thief\",\"High And Dry\",\"Dollars & Cents\",\"Exit Music (For a Film)\",\"Pyramid Song\",\"Let Down\",\"Motion Picture Soundtrack\",\"Give Up The Ghost\",\"True Love Waits\"],\"yaxis\":\"y\",\"type\":\"scatter\"}],                        {\"template\":{\"data\":{\"barpolar\":[{\"marker\":{\"line\":{\"color\":\"rgb(17,17,17)\",\"width\":0.5},\"pattern\":{\"fillmode\":\"overlay\",\"size\":10,\"solidity\":0.2}},\"type\":\"barpolar\"}],\"bar\":[{\"error_x\":{\"color\":\"#f2f5fa\"},\"error_y\":{\"color\":\"#f2f5fa\"},\"marker\":{\"line\":{\"color\":\"rgb(17,17,17)\",\"width\":0.5},\"pattern\":{\"fillmode\":\"overlay\",\"size\":10,\"solidity\":0.2}},\"type\":\"bar\"}],\"carpet\":[{\"aaxis\":{\"endlinecolor\":\"#A2B1C6\",\"gridcolor\":\"#506784\",\"linecolor\":\"#506784\",\"minorgridcolor\":\"#506784\",\"startlinecolor\":\"#A2B1C6\"},\"baxis\":{\"endlinecolor\":\"#A2B1C6\",\"gridcolor\":\"#506784\",\"linecolor\":\"#506784\",\"minorgridcolor\":\"#506784\",\"startlinecolor\":\"#A2B1C6\"},\"type\":\"carpet\"}],\"choropleth\":[{\"colorbar\":{\"outlinewidth\":0,\"ticks\":\"\"},\"type\":\"choropleth\"}],\"contourcarpet\":[{\"colorbar\":{\"outlinewidth\":0,\"ticks\":\"\"},\"type\":\"contourcarpet\"}],\"contour\":[{\"colorbar\":{\"outlinewidth\":0,\"ticks\":\"\"},\"colorscale\":[[0.0,\"#0d0887\"],[0.1111111111111111,\"#46039f\"],[0.2222222222222222,\"#7201a8\"],[0.3333333333333333,\"#9c179e\"],[0.4444444444444444,\"#bd3786\"],[0.5555555555555556,\"#d8576b\"],[0.6666666666666666,\"#ed7953\"],[0.7777777777777778,\"#fb9f3a\"],[0.8888888888888888,\"#fdca26\"],[1.0,\"#f0f921\"]],\"type\":\"contour\"}],\"heatmapgl\":[{\"colorbar\":{\"outlinewidth\":0,\"ticks\":\"\"},\"colorscale\":[[0.0,\"#0d0887\"],[0.1111111111111111,\"#46039f\"],[0.2222222222222222,\"#7201a8\"],[0.3333333333333333,\"#9c179e\"],[0.4444444444444444,\"#bd3786\"],[0.5555555555555556,\"#d8576b\"],[0.6666666666666666,\"#ed7953\"],[0.7777777777777778,\"#fb9f3a\"],[0.8888888888888888,\"#fdca26\"],[1.0,\"#f0f921\"]],\"type\":\"heatmapgl\"}],\"heatmap\":[{\"colorbar\":{\"outlinewidth\":0,\"ticks\":\"\"},\"colorscale\":[[0.0,\"#0d0887\"],[0.1111111111111111,\"#46039f\"],[0.2222222222222222,\"#7201a8\"],[0.3333333333333333,\"#9c179e\"],[0.4444444444444444,\"#bd3786\"],[0.5555555555555556,\"#d8576b\"],[0.6666666666666666,\"#ed7953\"],[0.7777777777777778,\"#fb9f3a\"],[0.8888888888888888,\"#fdca26\"],[1.0,\"#f0f921\"]],\"type\":\"heatmap\"}],\"histogram2dcontour\":[{\"colorbar\":{\"outlinewidth\":0,\"ticks\":\"\"},\"colorscale\":[[0.0,\"#0d0887\"],[0.1111111111111111,\"#46039f\"],[0.2222222222222222,\"#7201a8\"],[0.3333333333333333,\"#9c179e\"],[0.4444444444444444,\"#bd3786\"],[0.5555555555555556,\"#d8576b\"],[0.6666666666666666,\"#ed7953\"],[0.7777777777777778,\"#fb9f3a\"],[0.8888888888888888,\"#fdca26\"],[1.0,\"#f0f921\"]],\"type\":\"histogram2dcontour\"}],\"histogram2d\":[{\"colorbar\":{\"outlinewidth\":0,\"ticks\":\"\"},\"colorscale\":[[0.0,\"#0d0887\"],[0.1111111111111111,\"#46039f\"],[0.2222222222222222,\"#7201a8\"],[0.3333333333333333,\"#9c179e\"],[0.4444444444444444,\"#bd3786\"],[0.5555555555555556,\"#d8576b\"],[0.6666666666666666,\"#ed7953\"],[0.7777777777777778,\"#fb9f3a\"],[0.8888888888888888,\"#fdca26\"],[1.0,\"#f0f921\"]],\"type\":\"histogram2d\"}],\"histogram\":[{\"marker\":{\"pattern\":{\"fillmode\":\"overlay\",\"size\":10,\"solidity\":0.2}},\"type\":\"histogram\"}],\"mesh3d\":[{\"colorbar\":{\"outlinewidth\":0,\"ticks\":\"\"},\"type\":\"mesh3d\"}],\"parcoords\":[{\"line\":{\"colorbar\":{\"outlinewidth\":0,\"ticks\":\"\"}},\"type\":\"parcoords\"}],\"pie\":[{\"automargin\":true,\"type\":\"pie\"}],\"scatter3d\":[{\"line\":{\"colorbar\":{\"outlinewidth\":0,\"ticks\":\"\"}},\"marker\":{\"colorbar\":{\"outlinewidth\":0,\"ticks\":\"\"}},\"type\":\"scatter3d\"}],\"scattercarpet\":[{\"marker\":{\"colorbar\":{\"outlinewidth\":0,\"ticks\":\"\"}},\"type\":\"scattercarpet\"}],\"scattergeo\":[{\"marker\":{\"colorbar\":{\"outlinewidth\":0,\"ticks\":\"\"}},\"type\":\"scattergeo\"}],\"scattergl\":[{\"marker\":{\"line\":{\"color\":\"#283442\"}},\"type\":\"scattergl\"}],\"scattermapbox\":[{\"marker\":{\"colorbar\":{\"outlinewidth\":0,\"ticks\":\"\"}},\"type\":\"scattermapbox\"}],\"scatterpolargl\":[{\"marker\":{\"colorbar\":{\"outlinewidth\":0,\"ticks\":\"\"}},\"type\":\"scatterpolargl\"}],\"scatterpolar\":[{\"marker\":{\"colorbar\":{\"outlinewidth\":0,\"ticks\":\"\"}},\"type\":\"scatterpolar\"}],\"scatter\":[{\"marker\":{\"line\":{\"color\":\"#283442\"}},\"type\":\"scatter\"}],\"scatterternary\":[{\"marker\":{\"colorbar\":{\"outlinewidth\":0,\"ticks\":\"\"}},\"type\":\"scatterternary\"}],\"surface\":[{\"colorbar\":{\"outlinewidth\":0,\"ticks\":\"\"},\"colorscale\":[[0.0,\"#0d0887\"],[0.1111111111111111,\"#46039f\"],[0.2222222222222222,\"#7201a8\"],[0.3333333333333333,\"#9c179e\"],[0.4444444444444444,\"#bd3786\"],[0.5555555555555556,\"#d8576b\"],[0.6666666666666666,\"#ed7953\"],[0.7777777777777778,\"#fb9f3a\"],[0.8888888888888888,\"#fdca26\"],[1.0,\"#f0f921\"]],\"type\":\"surface\"}],\"table\":[{\"cells\":{\"fill\":{\"color\":\"#506784\"},\"line\":{\"color\":\"rgb(17,17,17)\"}},\"header\":{\"fill\":{\"color\":\"#2a3f5f\"},\"line\":{\"color\":\"rgb(17,17,17)\"}},\"type\":\"table\"}]},\"layout\":{\"annotationdefaults\":{\"arrowcolor\":\"#f2f5fa\",\"arrowhead\":0,\"arrowwidth\":1},\"autotypenumbers\":\"strict\",\"coloraxis\":{\"colorbar\":{\"outlinewidth\":0,\"ticks\":\"\"}},\"colorscale\":{\"diverging\":[[0,\"#8e0152\"],[0.1,\"#c51b7d\"],[0.2,\"#de77ae\"],[0.3,\"#f1b6da\"],[0.4,\"#fde0ef\"],[0.5,\"#f7f7f7\"],[0.6,\"#e6f5d0\"],[0.7,\"#b8e186\"],[0.8,\"#7fbc41\"],[0.9,\"#4d9221\"],[1,\"#276419\"]],\"sequential\":[[0.0,\"#0d0887\"],[0.1111111111111111,\"#46039f\"],[0.2222222222222222,\"#7201a8\"],[0.3333333333333333,\"#9c179e\"],[0.4444444444444444,\"#bd3786\"],[0.5555555555555556,\"#d8576b\"],[0.6666666666666666,\"#ed7953\"],[0.7777777777777778,\"#fb9f3a\"],[0.8888888888888888,\"#fdca26\"],[1.0,\"#f0f921\"]],\"sequentialminus\":[[0.0,\"#0d0887\"],[0.1111111111111111,\"#46039f\"],[0.2222222222222222,\"#7201a8\"],[0.3333333333333333,\"#9c179e\"],[0.4444444444444444,\"#bd3786\"],[0.5555555555555556,\"#d8576b\"],[0.6666666666666666,\"#ed7953\"],[0.7777777777777778,\"#fb9f3a\"],[0.8888888888888888,\"#fdca26\"],[1.0,\"#f0f921\"]]},\"colorway\":[\"#636efa\",\"#EF553B\",\"#00cc96\",\"#ab63fa\",\"#FFA15A\",\"#19d3f3\",\"#FF6692\",\"#B6E880\",\"#FF97FF\",\"#FECB52\"],\"font\":{\"color\":\"#f2f5fa\"},\"geo\":{\"bgcolor\":\"rgb(17,17,17)\",\"lakecolor\":\"rgb(17,17,17)\",\"landcolor\":\"rgb(17,17,17)\",\"showlakes\":true,\"showland\":true,\"subunitcolor\":\"#506784\"},\"hoverlabel\":{\"align\":\"left\"},\"hovermode\":\"closest\",\"mapbox\":{\"style\":\"dark\"},\"paper_bgcolor\":\"rgb(17,17,17)\",\"plot_bgcolor\":\"rgb(17,17,17)\",\"polar\":{\"angularaxis\":{\"gridcolor\":\"#506784\",\"linecolor\":\"#506784\",\"ticks\":\"\"},\"bgcolor\":\"rgb(17,17,17)\",\"radialaxis\":{\"gridcolor\":\"#506784\",\"linecolor\":\"#506784\",\"ticks\":\"\"}},\"scene\":{\"xaxis\":{\"backgroundcolor\":\"rgb(17,17,17)\",\"gridcolor\":\"#506784\",\"gridwidth\":2,\"linecolor\":\"#506784\",\"showbackground\":true,\"ticks\":\"\",\"zerolinecolor\":\"#C8D4E3\"},\"yaxis\":{\"backgroundcolor\":\"rgb(17,17,17)\",\"gridcolor\":\"#506784\",\"gridwidth\":2,\"linecolor\":\"#506784\",\"showbackground\":true,\"ticks\":\"\",\"zerolinecolor\":\"#C8D4E3\"},\"zaxis\":{\"backgroundcolor\":\"rgb(17,17,17)\",\"gridcolor\":\"#506784\",\"gridwidth\":2,\"linecolor\":\"#506784\",\"showbackground\":true,\"ticks\":\"\",\"zerolinecolor\":\"#C8D4E3\"}},\"shapedefaults\":{\"line\":{\"color\":\"#f2f5fa\"}},\"sliderdefaults\":{\"bgcolor\":\"#C8D4E3\",\"bordercolor\":\"rgb(17,17,17)\",\"borderwidth\":1,\"tickwidth\":0},\"ternary\":{\"aaxis\":{\"gridcolor\":\"#506784\",\"linecolor\":\"#506784\",\"ticks\":\"\"},\"baxis\":{\"gridcolor\":\"#506784\",\"linecolor\":\"#506784\",\"ticks\":\"\"},\"bgcolor\":\"rgb(17,17,17)\",\"caxis\":{\"gridcolor\":\"#506784\",\"linecolor\":\"#506784\",\"ticks\":\"\"}},\"title\":{\"x\":0.05},\"updatemenudefaults\":{\"bgcolor\":\"#506784\",\"borderwidth\":0},\"xaxis\":{\"automargin\":true,\"gridcolor\":\"#283442\",\"linecolor\":\"#506784\",\"ticks\":\"\",\"title\":{\"standoff\":15},\"zerolinecolor\":\"#283442\",\"zerolinewidth\":2},\"yaxis\":{\"automargin\":true,\"gridcolor\":\"#283442\",\"linecolor\":\"#506784\",\"ticks\":\"\",\"title\":{\"standoff\":15},\"zerolinecolor\":\"#283442\",\"zerolinewidth\":2}}},\"xaxis\":{\"anchor\":\"y\",\"domain\":[0.0,1.0],\"title\":{\"text\":\"Gloom Index\"}},\"yaxis\":{\"anchor\":\"x\",\"domain\":[0.0,1.0],\"title\":{\"text\":\"Track Name\"}},\"legend\":{\"tracegroupgap\":0},\"title\":{\"text\":\"\\u003cb\\u003eThe Ultimate Radiohead Playlist\\u003c\\u002fb\\u003e\\u003cbr\\u003eThe Numbers-Based Sadness Edition\"},\"annotations\":[{\"align\":\"left\",\"showarrow\":false,\"text\":\"Data Source: \\u003ca href=\\u201dhttps:\\u002f\\u002fwww.kaggle.com\\u002fdatasets\\u002flavagod\\u002fradiohead\\u002fversions\\u002f1?resource=download\\u201d\\u003eRadiohead Data\\u003c\\u002fa\\u003e \\u003cbr\\u003eViz: \\u003ca href=\\u201dhttps:\\u002f\\u002ftwitter.com\\u002f_prospecttheory\\u201d\\u003e@_prospecttheory\\u003c\\u002fa\\u003e \\u003cbr\\u003e \\u003cbr\\u003e \\u003cbr\\u003e \\u003cbr\\u003e \\u003cbr\\u003e\",\"x\":-1.03,\"xref\":\"paper\",\"y\":-0.5,\"yref\":\"paper\"}]},                        {\"responsive\": true}                    ).then(function(){\n",
       "                            \n",
       "var gd = document.getElementById('4df4d7ee-fa98-4e0c-8677-ba7179de2fa9');\n",
       "var x = new MutationObserver(function (mutations, observer) {{\n",
       "        var display = window.getComputedStyle(gd).display;\n",
       "        if (!display || display === 'none') {{\n",
       "            console.log([gd, 'removed!']);\n",
       "            Plotly.purge(gd);\n",
       "            observer.disconnect();\n",
       "        }}\n",
       "}});\n",
       "\n",
       "// Listen for the removal of the full notebook cells\n",
       "var notebookContainer = gd.closest('#notebook-container');\n",
       "if (notebookContainer) {{\n",
       "    x.observe(notebookContainer, {childList: true});\n",
       "}}\n",
       "\n",
       "// Listen for the clearing of the current output cell\n",
       "var outputEl = gd.closest('.output');\n",
       "if (outputEl) {{\n",
       "    x.observe(outputEl, {childList: true});\n",
       "}}\n",
       "\n",
       "                        })                };                });            </script>        </div>"
      ]
     },
     "metadata": {},
     "output_type": "display_data"
    }
   ],
   "source": [
    "#Data Prep\n",
    "df_radiohead_sad_playlist = df_radiohead.sort_values('gloom_index').head(10)\n",
    "df_radiohead_sad_playlist = df_radiohead_sad_playlist.sort_values('gloom_index', ascending=False)\n",
    "\n",
    "#Plot Sad Plalist\n",
    "fig = px.scatter(df_radiohead_sad_playlist, x= 'gloom_index', y = 'track_name',\n",
    "            labels={'track_name':'Track Name', 'gloom_index':'Gloom Index'},\n",
    "            title= '<b>The Ultimate Radiohead Playlist</b><br>The Numbers-Based Sadness Edition',\n",
    "            template='plotly_dark', hover_name= 'track_name')\n",
    "\n",
    "#Add Signature\n",
    "fig.add_annotation(text='Data Source: <a href=”https://www.kaggle.com/datasets/lavagod/radiohead/versions/1?resource=download”>Radiohead Data</a> <br>Viz: <a href=”https://twitter.com/_prospecttheory”>@_prospecttheory</a> <br> <br> <br> <br> <br>', \n",
    "                    align='left',\n",
    "                    showarrow=False,\n",
    "                    xref='paper',\n",
    "                    yref='paper',\n",
    "                    x= -1.03,\n",
    "                    y= -0.5)\n",
    "fig.show()"
   ]
  },
  {
   "cell_type": "markdown",
   "id": "627b1481",
   "metadata": {},
   "source": [
    "If you are looking for more positivity and also danceability, then the data points you this way. According to the numbers, these are the least sad songs of the band:\n",
    "\n"
   ]
  },
  {
   "cell_type": "code",
   "execution_count": 373,
   "id": "390c5461",
   "metadata": {},
   "outputs": [
    {
     "data": {
      "application/vnd.plotly.v1+json": {
       "config": {
        "plotlyServerURL": "https://plot.ly"
       },
       "data": [
        {
         "hovertemplate": "<b>%{hovertext}</b><br><br>Gloom Index=%{x}<br>Track Name=%{y}<extra></extra>",
         "hovertext": [
          "My Iron Lung",
          "Fitter Happier",
          "Sulk",
          "Packt Like Sardines In a Crushed Tin Box",
          "Airbag",
          "Go To Sleep",
          "Jigsaw Falling Into Place",
          "Bodysnatchers",
          "Feral",
          "15 Step"
         ],
         "legendgroup": "",
         "marker": {
          "color": "yellow",
          "symbol": "circle"
         },
         "mode": "markers",
         "name": "",
         "orientation": "h",
         "showlegend": false,
         "type": "scatter",
         "x": [
          73.76,
          75.23,
          76.63,
          80.63,
          81.18,
          82.28,
          84.85,
          88.4,
          91.14,
          100
         ],
         "xaxis": "x",
         "y": [
          "My Iron Lung",
          "Fitter Happier",
          "Sulk",
          "Packt Like Sardines In a Crushed Tin Box",
          "Airbag",
          "Go To Sleep",
          "Jigsaw Falling Into Place",
          "Bodysnatchers",
          "Feral",
          "15 Step"
         ],
         "yaxis": "y"
        }
       ],
       "layout": {
        "annotations": [
         {
          "align": "left",
          "showarrow": false,
          "text": "Data Source: <a href=”https://www.kaggle.com/datasets/lavagod/radiohead/versions/1?resource=download”>Radiohead Data</a> <br>Viz: <a href=”https://twitter.com/_prospecttheory”>@_prospecttheory</a> <br> <br> <br> <br> <br>",
          "x": -1.03,
          "xref": "paper",
          "y": -0.5,
          "yref": "paper"
         }
        ],
        "legend": {
         "tracegroupgap": 0
        },
        "template": {
         "data": {
          "bar": [
           {
            "error_x": {
             "color": "#f2f5fa"
            },
            "error_y": {
             "color": "#f2f5fa"
            },
            "marker": {
             "line": {
              "color": "rgb(17,17,17)",
              "width": 0.5
             },
             "pattern": {
              "fillmode": "overlay",
              "size": 10,
              "solidity": 0.2
             }
            },
            "type": "bar"
           }
          ],
          "barpolar": [
           {
            "marker": {
             "line": {
              "color": "rgb(17,17,17)",
              "width": 0.5
             },
             "pattern": {
              "fillmode": "overlay",
              "size": 10,
              "solidity": 0.2
             }
            },
            "type": "barpolar"
           }
          ],
          "carpet": [
           {
            "aaxis": {
             "endlinecolor": "#A2B1C6",
             "gridcolor": "#506784",
             "linecolor": "#506784",
             "minorgridcolor": "#506784",
             "startlinecolor": "#A2B1C6"
            },
            "baxis": {
             "endlinecolor": "#A2B1C6",
             "gridcolor": "#506784",
             "linecolor": "#506784",
             "minorgridcolor": "#506784",
             "startlinecolor": "#A2B1C6"
            },
            "type": "carpet"
           }
          ],
          "choropleth": [
           {
            "colorbar": {
             "outlinewidth": 0,
             "ticks": ""
            },
            "type": "choropleth"
           }
          ],
          "contour": [
           {
            "colorbar": {
             "outlinewidth": 0,
             "ticks": ""
            },
            "colorscale": [
             [
              0,
              "#0d0887"
             ],
             [
              0.1111111111111111,
              "#46039f"
             ],
             [
              0.2222222222222222,
              "#7201a8"
             ],
             [
              0.3333333333333333,
              "#9c179e"
             ],
             [
              0.4444444444444444,
              "#bd3786"
             ],
             [
              0.5555555555555556,
              "#d8576b"
             ],
             [
              0.6666666666666666,
              "#ed7953"
             ],
             [
              0.7777777777777778,
              "#fb9f3a"
             ],
             [
              0.8888888888888888,
              "#fdca26"
             ],
             [
              1,
              "#f0f921"
             ]
            ],
            "type": "contour"
           }
          ],
          "contourcarpet": [
           {
            "colorbar": {
             "outlinewidth": 0,
             "ticks": ""
            },
            "type": "contourcarpet"
           }
          ],
          "heatmap": [
           {
            "colorbar": {
             "outlinewidth": 0,
             "ticks": ""
            },
            "colorscale": [
             [
              0,
              "#0d0887"
             ],
             [
              0.1111111111111111,
              "#46039f"
             ],
             [
              0.2222222222222222,
              "#7201a8"
             ],
             [
              0.3333333333333333,
              "#9c179e"
             ],
             [
              0.4444444444444444,
              "#bd3786"
             ],
             [
              0.5555555555555556,
              "#d8576b"
             ],
             [
              0.6666666666666666,
              "#ed7953"
             ],
             [
              0.7777777777777778,
              "#fb9f3a"
             ],
             [
              0.8888888888888888,
              "#fdca26"
             ],
             [
              1,
              "#f0f921"
             ]
            ],
            "type": "heatmap"
           }
          ],
          "heatmapgl": [
           {
            "colorbar": {
             "outlinewidth": 0,
             "ticks": ""
            },
            "colorscale": [
             [
              0,
              "#0d0887"
             ],
             [
              0.1111111111111111,
              "#46039f"
             ],
             [
              0.2222222222222222,
              "#7201a8"
             ],
             [
              0.3333333333333333,
              "#9c179e"
             ],
             [
              0.4444444444444444,
              "#bd3786"
             ],
             [
              0.5555555555555556,
              "#d8576b"
             ],
             [
              0.6666666666666666,
              "#ed7953"
             ],
             [
              0.7777777777777778,
              "#fb9f3a"
             ],
             [
              0.8888888888888888,
              "#fdca26"
             ],
             [
              1,
              "#f0f921"
             ]
            ],
            "type": "heatmapgl"
           }
          ],
          "histogram": [
           {
            "marker": {
             "pattern": {
              "fillmode": "overlay",
              "size": 10,
              "solidity": 0.2
             }
            },
            "type": "histogram"
           }
          ],
          "histogram2d": [
           {
            "colorbar": {
             "outlinewidth": 0,
             "ticks": ""
            },
            "colorscale": [
             [
              0,
              "#0d0887"
             ],
             [
              0.1111111111111111,
              "#46039f"
             ],
             [
              0.2222222222222222,
              "#7201a8"
             ],
             [
              0.3333333333333333,
              "#9c179e"
             ],
             [
              0.4444444444444444,
              "#bd3786"
             ],
             [
              0.5555555555555556,
              "#d8576b"
             ],
             [
              0.6666666666666666,
              "#ed7953"
             ],
             [
              0.7777777777777778,
              "#fb9f3a"
             ],
             [
              0.8888888888888888,
              "#fdca26"
             ],
             [
              1,
              "#f0f921"
             ]
            ],
            "type": "histogram2d"
           }
          ],
          "histogram2dcontour": [
           {
            "colorbar": {
             "outlinewidth": 0,
             "ticks": ""
            },
            "colorscale": [
             [
              0,
              "#0d0887"
             ],
             [
              0.1111111111111111,
              "#46039f"
             ],
             [
              0.2222222222222222,
              "#7201a8"
             ],
             [
              0.3333333333333333,
              "#9c179e"
             ],
             [
              0.4444444444444444,
              "#bd3786"
             ],
             [
              0.5555555555555556,
              "#d8576b"
             ],
             [
              0.6666666666666666,
              "#ed7953"
             ],
             [
              0.7777777777777778,
              "#fb9f3a"
             ],
             [
              0.8888888888888888,
              "#fdca26"
             ],
             [
              1,
              "#f0f921"
             ]
            ],
            "type": "histogram2dcontour"
           }
          ],
          "mesh3d": [
           {
            "colorbar": {
             "outlinewidth": 0,
             "ticks": ""
            },
            "type": "mesh3d"
           }
          ],
          "parcoords": [
           {
            "line": {
             "colorbar": {
              "outlinewidth": 0,
              "ticks": ""
             }
            },
            "type": "parcoords"
           }
          ],
          "pie": [
           {
            "automargin": true,
            "type": "pie"
           }
          ],
          "scatter": [
           {
            "marker": {
             "line": {
              "color": "#283442"
             }
            },
            "type": "scatter"
           }
          ],
          "scatter3d": [
           {
            "line": {
             "colorbar": {
              "outlinewidth": 0,
              "ticks": ""
             }
            },
            "marker": {
             "colorbar": {
              "outlinewidth": 0,
              "ticks": ""
             }
            },
            "type": "scatter3d"
           }
          ],
          "scattercarpet": [
           {
            "marker": {
             "colorbar": {
              "outlinewidth": 0,
              "ticks": ""
             }
            },
            "type": "scattercarpet"
           }
          ],
          "scattergeo": [
           {
            "marker": {
             "colorbar": {
              "outlinewidth": 0,
              "ticks": ""
             }
            },
            "type": "scattergeo"
           }
          ],
          "scattergl": [
           {
            "marker": {
             "line": {
              "color": "#283442"
             }
            },
            "type": "scattergl"
           }
          ],
          "scattermapbox": [
           {
            "marker": {
             "colorbar": {
              "outlinewidth": 0,
              "ticks": ""
             }
            },
            "type": "scattermapbox"
           }
          ],
          "scatterpolar": [
           {
            "marker": {
             "colorbar": {
              "outlinewidth": 0,
              "ticks": ""
             }
            },
            "type": "scatterpolar"
           }
          ],
          "scatterpolargl": [
           {
            "marker": {
             "colorbar": {
              "outlinewidth": 0,
              "ticks": ""
             }
            },
            "type": "scatterpolargl"
           }
          ],
          "scatterternary": [
           {
            "marker": {
             "colorbar": {
              "outlinewidth": 0,
              "ticks": ""
             }
            },
            "type": "scatterternary"
           }
          ],
          "surface": [
           {
            "colorbar": {
             "outlinewidth": 0,
             "ticks": ""
            },
            "colorscale": [
             [
              0,
              "#0d0887"
             ],
             [
              0.1111111111111111,
              "#46039f"
             ],
             [
              0.2222222222222222,
              "#7201a8"
             ],
             [
              0.3333333333333333,
              "#9c179e"
             ],
             [
              0.4444444444444444,
              "#bd3786"
             ],
             [
              0.5555555555555556,
              "#d8576b"
             ],
             [
              0.6666666666666666,
              "#ed7953"
             ],
             [
              0.7777777777777778,
              "#fb9f3a"
             ],
             [
              0.8888888888888888,
              "#fdca26"
             ],
             [
              1,
              "#f0f921"
             ]
            ],
            "type": "surface"
           }
          ],
          "table": [
           {
            "cells": {
             "fill": {
              "color": "#506784"
             },
             "line": {
              "color": "rgb(17,17,17)"
             }
            },
            "header": {
             "fill": {
              "color": "#2a3f5f"
             },
             "line": {
              "color": "rgb(17,17,17)"
             }
            },
            "type": "table"
           }
          ]
         },
         "layout": {
          "annotationdefaults": {
           "arrowcolor": "#f2f5fa",
           "arrowhead": 0,
           "arrowwidth": 1
          },
          "autotypenumbers": "strict",
          "coloraxis": {
           "colorbar": {
            "outlinewidth": 0,
            "ticks": ""
           }
          },
          "colorscale": {
           "diverging": [
            [
             0,
             "#8e0152"
            ],
            [
             0.1,
             "#c51b7d"
            ],
            [
             0.2,
             "#de77ae"
            ],
            [
             0.3,
             "#f1b6da"
            ],
            [
             0.4,
             "#fde0ef"
            ],
            [
             0.5,
             "#f7f7f7"
            ],
            [
             0.6,
             "#e6f5d0"
            ],
            [
             0.7,
             "#b8e186"
            ],
            [
             0.8,
             "#7fbc41"
            ],
            [
             0.9,
             "#4d9221"
            ],
            [
             1,
             "#276419"
            ]
           ],
           "sequential": [
            [
             0,
             "#0d0887"
            ],
            [
             0.1111111111111111,
             "#46039f"
            ],
            [
             0.2222222222222222,
             "#7201a8"
            ],
            [
             0.3333333333333333,
             "#9c179e"
            ],
            [
             0.4444444444444444,
             "#bd3786"
            ],
            [
             0.5555555555555556,
             "#d8576b"
            ],
            [
             0.6666666666666666,
             "#ed7953"
            ],
            [
             0.7777777777777778,
             "#fb9f3a"
            ],
            [
             0.8888888888888888,
             "#fdca26"
            ],
            [
             1,
             "#f0f921"
            ]
           ],
           "sequentialminus": [
            [
             0,
             "#0d0887"
            ],
            [
             0.1111111111111111,
             "#46039f"
            ],
            [
             0.2222222222222222,
             "#7201a8"
            ],
            [
             0.3333333333333333,
             "#9c179e"
            ],
            [
             0.4444444444444444,
             "#bd3786"
            ],
            [
             0.5555555555555556,
             "#d8576b"
            ],
            [
             0.6666666666666666,
             "#ed7953"
            ],
            [
             0.7777777777777778,
             "#fb9f3a"
            ],
            [
             0.8888888888888888,
             "#fdca26"
            ],
            [
             1,
             "#f0f921"
            ]
           ]
          },
          "colorway": [
           "#636efa",
           "#EF553B",
           "#00cc96",
           "#ab63fa",
           "#FFA15A",
           "#19d3f3",
           "#FF6692",
           "#B6E880",
           "#FF97FF",
           "#FECB52"
          ],
          "font": {
           "color": "#f2f5fa"
          },
          "geo": {
           "bgcolor": "rgb(17,17,17)",
           "lakecolor": "rgb(17,17,17)",
           "landcolor": "rgb(17,17,17)",
           "showlakes": true,
           "showland": true,
           "subunitcolor": "#506784"
          },
          "hoverlabel": {
           "align": "left"
          },
          "hovermode": "closest",
          "mapbox": {
           "style": "dark"
          },
          "paper_bgcolor": "rgb(17,17,17)",
          "plot_bgcolor": "rgb(17,17,17)",
          "polar": {
           "angularaxis": {
            "gridcolor": "#506784",
            "linecolor": "#506784",
            "ticks": ""
           },
           "bgcolor": "rgb(17,17,17)",
           "radialaxis": {
            "gridcolor": "#506784",
            "linecolor": "#506784",
            "ticks": ""
           }
          },
          "scene": {
           "xaxis": {
            "backgroundcolor": "rgb(17,17,17)",
            "gridcolor": "#506784",
            "gridwidth": 2,
            "linecolor": "#506784",
            "showbackground": true,
            "ticks": "",
            "zerolinecolor": "#C8D4E3"
           },
           "yaxis": {
            "backgroundcolor": "rgb(17,17,17)",
            "gridcolor": "#506784",
            "gridwidth": 2,
            "linecolor": "#506784",
            "showbackground": true,
            "ticks": "",
            "zerolinecolor": "#C8D4E3"
           },
           "zaxis": {
            "backgroundcolor": "rgb(17,17,17)",
            "gridcolor": "#506784",
            "gridwidth": 2,
            "linecolor": "#506784",
            "showbackground": true,
            "ticks": "",
            "zerolinecolor": "#C8D4E3"
           }
          },
          "shapedefaults": {
           "line": {
            "color": "#f2f5fa"
           }
          },
          "sliderdefaults": {
           "bgcolor": "#C8D4E3",
           "bordercolor": "rgb(17,17,17)",
           "borderwidth": 1,
           "tickwidth": 0
          },
          "ternary": {
           "aaxis": {
            "gridcolor": "#506784",
            "linecolor": "#506784",
            "ticks": ""
           },
           "baxis": {
            "gridcolor": "#506784",
            "linecolor": "#506784",
            "ticks": ""
           },
           "bgcolor": "rgb(17,17,17)",
           "caxis": {
            "gridcolor": "#506784",
            "linecolor": "#506784",
            "ticks": ""
           }
          },
          "title": {
           "x": 0.05
          },
          "updatemenudefaults": {
           "bgcolor": "#506784",
           "borderwidth": 0
          },
          "xaxis": {
           "automargin": true,
           "gridcolor": "#283442",
           "linecolor": "#506784",
           "ticks": "",
           "title": {
            "standoff": 15
           },
           "zerolinecolor": "#283442",
           "zerolinewidth": 2
          },
          "yaxis": {
           "automargin": true,
           "gridcolor": "#283442",
           "linecolor": "#506784",
           "ticks": "",
           "title": {
            "standoff": 15
           },
           "zerolinecolor": "#283442",
           "zerolinewidth": 2
          }
         }
        },
        "title": {
         "text": "<b>The Ultimate Radiohead Playlist</b><br>The Numbers-Based Least Sad Edition"
        },
        "xaxis": {
         "anchor": "y",
         "domain": [
          0,
          1
         ],
         "title": {
          "text": "Gloom Index"
         }
        },
        "yaxis": {
         "anchor": "x",
         "domain": [
          0,
          1
         ],
         "title": {
          "text": "Track Name"
         }
        }
       }
      },
      "text/html": [
       "<div>                            <div id=\"b4968743-c411-49aa-bf53-946f1102c32a\" class=\"plotly-graph-div\" style=\"height:525px; width:100%;\"></div>            <script type=\"text/javascript\">                require([\"plotly\"], function(Plotly) {                    window.PLOTLYENV=window.PLOTLYENV || {};                                    if (document.getElementById(\"b4968743-c411-49aa-bf53-946f1102c32a\")) {                    Plotly.newPlot(                        \"b4968743-c411-49aa-bf53-946f1102c32a\",                        [{\"hovertemplate\":\"\\u003cb\\u003e%{hovertext}\\u003c\\u002fb\\u003e\\u003cbr\\u003e\\u003cbr\\u003eGloom Index=%{x}\\u003cbr\\u003eTrack Name=%{y}\\u003cextra\\u003e\\u003c\\u002fextra\\u003e\",\"hovertext\":[\"My Iron Lung\",\"Fitter Happier\",\"Sulk\",\"Packt Like Sardines In a Crushed Tin Box\",\"Airbag\",\"Go To Sleep\",\"Jigsaw Falling Into Place\",\"Bodysnatchers\",\"Feral\",\"15 Step\"],\"legendgroup\":\"\",\"marker\":{\"color\":\"yellow\",\"symbol\":\"circle\"},\"mode\":\"markers\",\"name\":\"\",\"orientation\":\"h\",\"showlegend\":false,\"x\":[73.76,75.23,76.63,80.63,81.18,82.28,84.85,88.4,91.14,100.0],\"xaxis\":\"x\",\"y\":[\"My Iron Lung\",\"Fitter Happier\",\"Sulk\",\"Packt Like Sardines In a Crushed Tin Box\",\"Airbag\",\"Go To Sleep\",\"Jigsaw Falling Into Place\",\"Bodysnatchers\",\"Feral\",\"15 Step\"],\"yaxis\":\"y\",\"type\":\"scatter\"}],                        {\"template\":{\"data\":{\"barpolar\":[{\"marker\":{\"line\":{\"color\":\"rgb(17,17,17)\",\"width\":0.5},\"pattern\":{\"fillmode\":\"overlay\",\"size\":10,\"solidity\":0.2}},\"type\":\"barpolar\"}],\"bar\":[{\"error_x\":{\"color\":\"#f2f5fa\"},\"error_y\":{\"color\":\"#f2f5fa\"},\"marker\":{\"line\":{\"color\":\"rgb(17,17,17)\",\"width\":0.5},\"pattern\":{\"fillmode\":\"overlay\",\"size\":10,\"solidity\":0.2}},\"type\":\"bar\"}],\"carpet\":[{\"aaxis\":{\"endlinecolor\":\"#A2B1C6\",\"gridcolor\":\"#506784\",\"linecolor\":\"#506784\",\"minorgridcolor\":\"#506784\",\"startlinecolor\":\"#A2B1C6\"},\"baxis\":{\"endlinecolor\":\"#A2B1C6\",\"gridcolor\":\"#506784\",\"linecolor\":\"#506784\",\"minorgridcolor\":\"#506784\",\"startlinecolor\":\"#A2B1C6\"},\"type\":\"carpet\"}],\"choropleth\":[{\"colorbar\":{\"outlinewidth\":0,\"ticks\":\"\"},\"type\":\"choropleth\"}],\"contourcarpet\":[{\"colorbar\":{\"outlinewidth\":0,\"ticks\":\"\"},\"type\":\"contourcarpet\"}],\"contour\":[{\"colorbar\":{\"outlinewidth\":0,\"ticks\":\"\"},\"colorscale\":[[0.0,\"#0d0887\"],[0.1111111111111111,\"#46039f\"],[0.2222222222222222,\"#7201a8\"],[0.3333333333333333,\"#9c179e\"],[0.4444444444444444,\"#bd3786\"],[0.5555555555555556,\"#d8576b\"],[0.6666666666666666,\"#ed7953\"],[0.7777777777777778,\"#fb9f3a\"],[0.8888888888888888,\"#fdca26\"],[1.0,\"#f0f921\"]],\"type\":\"contour\"}],\"heatmapgl\":[{\"colorbar\":{\"outlinewidth\":0,\"ticks\":\"\"},\"colorscale\":[[0.0,\"#0d0887\"],[0.1111111111111111,\"#46039f\"],[0.2222222222222222,\"#7201a8\"],[0.3333333333333333,\"#9c179e\"],[0.4444444444444444,\"#bd3786\"],[0.5555555555555556,\"#d8576b\"],[0.6666666666666666,\"#ed7953\"],[0.7777777777777778,\"#fb9f3a\"],[0.8888888888888888,\"#fdca26\"],[1.0,\"#f0f921\"]],\"type\":\"heatmapgl\"}],\"heatmap\":[{\"colorbar\":{\"outlinewidth\":0,\"ticks\":\"\"},\"colorscale\":[[0.0,\"#0d0887\"],[0.1111111111111111,\"#46039f\"],[0.2222222222222222,\"#7201a8\"],[0.3333333333333333,\"#9c179e\"],[0.4444444444444444,\"#bd3786\"],[0.5555555555555556,\"#d8576b\"],[0.6666666666666666,\"#ed7953\"],[0.7777777777777778,\"#fb9f3a\"],[0.8888888888888888,\"#fdca26\"],[1.0,\"#f0f921\"]],\"type\":\"heatmap\"}],\"histogram2dcontour\":[{\"colorbar\":{\"outlinewidth\":0,\"ticks\":\"\"},\"colorscale\":[[0.0,\"#0d0887\"],[0.1111111111111111,\"#46039f\"],[0.2222222222222222,\"#7201a8\"],[0.3333333333333333,\"#9c179e\"],[0.4444444444444444,\"#bd3786\"],[0.5555555555555556,\"#d8576b\"],[0.6666666666666666,\"#ed7953\"],[0.7777777777777778,\"#fb9f3a\"],[0.8888888888888888,\"#fdca26\"],[1.0,\"#f0f921\"]],\"type\":\"histogram2dcontour\"}],\"histogram2d\":[{\"colorbar\":{\"outlinewidth\":0,\"ticks\":\"\"},\"colorscale\":[[0.0,\"#0d0887\"],[0.1111111111111111,\"#46039f\"],[0.2222222222222222,\"#7201a8\"],[0.3333333333333333,\"#9c179e\"],[0.4444444444444444,\"#bd3786\"],[0.5555555555555556,\"#d8576b\"],[0.6666666666666666,\"#ed7953\"],[0.7777777777777778,\"#fb9f3a\"],[0.8888888888888888,\"#fdca26\"],[1.0,\"#f0f921\"]],\"type\":\"histogram2d\"}],\"histogram\":[{\"marker\":{\"pattern\":{\"fillmode\":\"overlay\",\"size\":10,\"solidity\":0.2}},\"type\":\"histogram\"}],\"mesh3d\":[{\"colorbar\":{\"outlinewidth\":0,\"ticks\":\"\"},\"type\":\"mesh3d\"}],\"parcoords\":[{\"line\":{\"colorbar\":{\"outlinewidth\":0,\"ticks\":\"\"}},\"type\":\"parcoords\"}],\"pie\":[{\"automargin\":true,\"type\":\"pie\"}],\"scatter3d\":[{\"line\":{\"colorbar\":{\"outlinewidth\":0,\"ticks\":\"\"}},\"marker\":{\"colorbar\":{\"outlinewidth\":0,\"ticks\":\"\"}},\"type\":\"scatter3d\"}],\"scattercarpet\":[{\"marker\":{\"colorbar\":{\"outlinewidth\":0,\"ticks\":\"\"}},\"type\":\"scattercarpet\"}],\"scattergeo\":[{\"marker\":{\"colorbar\":{\"outlinewidth\":0,\"ticks\":\"\"}},\"type\":\"scattergeo\"}],\"scattergl\":[{\"marker\":{\"line\":{\"color\":\"#283442\"}},\"type\":\"scattergl\"}],\"scattermapbox\":[{\"marker\":{\"colorbar\":{\"outlinewidth\":0,\"ticks\":\"\"}},\"type\":\"scattermapbox\"}],\"scatterpolargl\":[{\"marker\":{\"colorbar\":{\"outlinewidth\":0,\"ticks\":\"\"}},\"type\":\"scatterpolargl\"}],\"scatterpolar\":[{\"marker\":{\"colorbar\":{\"outlinewidth\":0,\"ticks\":\"\"}},\"type\":\"scatterpolar\"}],\"scatter\":[{\"marker\":{\"line\":{\"color\":\"#283442\"}},\"type\":\"scatter\"}],\"scatterternary\":[{\"marker\":{\"colorbar\":{\"outlinewidth\":0,\"ticks\":\"\"}},\"type\":\"scatterternary\"}],\"surface\":[{\"colorbar\":{\"outlinewidth\":0,\"ticks\":\"\"},\"colorscale\":[[0.0,\"#0d0887\"],[0.1111111111111111,\"#46039f\"],[0.2222222222222222,\"#7201a8\"],[0.3333333333333333,\"#9c179e\"],[0.4444444444444444,\"#bd3786\"],[0.5555555555555556,\"#d8576b\"],[0.6666666666666666,\"#ed7953\"],[0.7777777777777778,\"#fb9f3a\"],[0.8888888888888888,\"#fdca26\"],[1.0,\"#f0f921\"]],\"type\":\"surface\"}],\"table\":[{\"cells\":{\"fill\":{\"color\":\"#506784\"},\"line\":{\"color\":\"rgb(17,17,17)\"}},\"header\":{\"fill\":{\"color\":\"#2a3f5f\"},\"line\":{\"color\":\"rgb(17,17,17)\"}},\"type\":\"table\"}]},\"layout\":{\"annotationdefaults\":{\"arrowcolor\":\"#f2f5fa\",\"arrowhead\":0,\"arrowwidth\":1},\"autotypenumbers\":\"strict\",\"coloraxis\":{\"colorbar\":{\"outlinewidth\":0,\"ticks\":\"\"}},\"colorscale\":{\"diverging\":[[0,\"#8e0152\"],[0.1,\"#c51b7d\"],[0.2,\"#de77ae\"],[0.3,\"#f1b6da\"],[0.4,\"#fde0ef\"],[0.5,\"#f7f7f7\"],[0.6,\"#e6f5d0\"],[0.7,\"#b8e186\"],[0.8,\"#7fbc41\"],[0.9,\"#4d9221\"],[1,\"#276419\"]],\"sequential\":[[0.0,\"#0d0887\"],[0.1111111111111111,\"#46039f\"],[0.2222222222222222,\"#7201a8\"],[0.3333333333333333,\"#9c179e\"],[0.4444444444444444,\"#bd3786\"],[0.5555555555555556,\"#d8576b\"],[0.6666666666666666,\"#ed7953\"],[0.7777777777777778,\"#fb9f3a\"],[0.8888888888888888,\"#fdca26\"],[1.0,\"#f0f921\"]],\"sequentialminus\":[[0.0,\"#0d0887\"],[0.1111111111111111,\"#46039f\"],[0.2222222222222222,\"#7201a8\"],[0.3333333333333333,\"#9c179e\"],[0.4444444444444444,\"#bd3786\"],[0.5555555555555556,\"#d8576b\"],[0.6666666666666666,\"#ed7953\"],[0.7777777777777778,\"#fb9f3a\"],[0.8888888888888888,\"#fdca26\"],[1.0,\"#f0f921\"]]},\"colorway\":[\"#636efa\",\"#EF553B\",\"#00cc96\",\"#ab63fa\",\"#FFA15A\",\"#19d3f3\",\"#FF6692\",\"#B6E880\",\"#FF97FF\",\"#FECB52\"],\"font\":{\"color\":\"#f2f5fa\"},\"geo\":{\"bgcolor\":\"rgb(17,17,17)\",\"lakecolor\":\"rgb(17,17,17)\",\"landcolor\":\"rgb(17,17,17)\",\"showlakes\":true,\"showland\":true,\"subunitcolor\":\"#506784\"},\"hoverlabel\":{\"align\":\"left\"},\"hovermode\":\"closest\",\"mapbox\":{\"style\":\"dark\"},\"paper_bgcolor\":\"rgb(17,17,17)\",\"plot_bgcolor\":\"rgb(17,17,17)\",\"polar\":{\"angularaxis\":{\"gridcolor\":\"#506784\",\"linecolor\":\"#506784\",\"ticks\":\"\"},\"bgcolor\":\"rgb(17,17,17)\",\"radialaxis\":{\"gridcolor\":\"#506784\",\"linecolor\":\"#506784\",\"ticks\":\"\"}},\"scene\":{\"xaxis\":{\"backgroundcolor\":\"rgb(17,17,17)\",\"gridcolor\":\"#506784\",\"gridwidth\":2,\"linecolor\":\"#506784\",\"showbackground\":true,\"ticks\":\"\",\"zerolinecolor\":\"#C8D4E3\"},\"yaxis\":{\"backgroundcolor\":\"rgb(17,17,17)\",\"gridcolor\":\"#506784\",\"gridwidth\":2,\"linecolor\":\"#506784\",\"showbackground\":true,\"ticks\":\"\",\"zerolinecolor\":\"#C8D4E3\"},\"zaxis\":{\"backgroundcolor\":\"rgb(17,17,17)\",\"gridcolor\":\"#506784\",\"gridwidth\":2,\"linecolor\":\"#506784\",\"showbackground\":true,\"ticks\":\"\",\"zerolinecolor\":\"#C8D4E3\"}},\"shapedefaults\":{\"line\":{\"color\":\"#f2f5fa\"}},\"sliderdefaults\":{\"bgcolor\":\"#C8D4E3\",\"bordercolor\":\"rgb(17,17,17)\",\"borderwidth\":1,\"tickwidth\":0},\"ternary\":{\"aaxis\":{\"gridcolor\":\"#506784\",\"linecolor\":\"#506784\",\"ticks\":\"\"},\"baxis\":{\"gridcolor\":\"#506784\",\"linecolor\":\"#506784\",\"ticks\":\"\"},\"bgcolor\":\"rgb(17,17,17)\",\"caxis\":{\"gridcolor\":\"#506784\",\"linecolor\":\"#506784\",\"ticks\":\"\"}},\"title\":{\"x\":0.05},\"updatemenudefaults\":{\"bgcolor\":\"#506784\",\"borderwidth\":0},\"xaxis\":{\"automargin\":true,\"gridcolor\":\"#283442\",\"linecolor\":\"#506784\",\"ticks\":\"\",\"title\":{\"standoff\":15},\"zerolinecolor\":\"#283442\",\"zerolinewidth\":2},\"yaxis\":{\"automargin\":true,\"gridcolor\":\"#283442\",\"linecolor\":\"#506784\",\"ticks\":\"\",\"title\":{\"standoff\":15},\"zerolinecolor\":\"#283442\",\"zerolinewidth\":2}}},\"xaxis\":{\"anchor\":\"y\",\"domain\":[0.0,1.0],\"title\":{\"text\":\"Gloom Index\"}},\"yaxis\":{\"anchor\":\"x\",\"domain\":[0.0,1.0],\"title\":{\"text\":\"Track Name\"}},\"legend\":{\"tracegroupgap\":0},\"title\":{\"text\":\"\\u003cb\\u003eThe Ultimate Radiohead Playlist\\u003c\\u002fb\\u003e\\u003cbr\\u003eThe Numbers-Based Least Sad Edition\"},\"annotations\":[{\"align\":\"left\",\"showarrow\":false,\"text\":\"Data Source: \\u003ca href=\\u201dhttps:\\u002f\\u002fwww.kaggle.com\\u002fdatasets\\u002flavagod\\u002fradiohead\\u002fversions\\u002f1?resource=download\\u201d\\u003eRadiohead Data\\u003c\\u002fa\\u003e \\u003cbr\\u003eViz: \\u003ca href=\\u201dhttps:\\u002f\\u002ftwitter.com\\u002f_prospecttheory\\u201d\\u003e@_prospecttheory\\u003c\\u002fa\\u003e \\u003cbr\\u003e \\u003cbr\\u003e \\u003cbr\\u003e \\u003cbr\\u003e \\u003cbr\\u003e\",\"x\":-1.03,\"xref\":\"paper\",\"y\":-0.5,\"yref\":\"paper\"}]},                        {\"responsive\": true}                    ).then(function(){\n",
       "                            \n",
       "var gd = document.getElementById('b4968743-c411-49aa-bf53-946f1102c32a');\n",
       "var x = new MutationObserver(function (mutations, observer) {{\n",
       "        var display = window.getComputedStyle(gd).display;\n",
       "        if (!display || display === 'none') {{\n",
       "            console.log([gd, 'removed!']);\n",
       "            Plotly.purge(gd);\n",
       "            observer.disconnect();\n",
       "        }}\n",
       "}});\n",
       "\n",
       "// Listen for the removal of the full notebook cells\n",
       "var notebookContainer = gd.closest('#notebook-container');\n",
       "if (notebookContainer) {{\n",
       "    x.observe(notebookContainer, {childList: true});\n",
       "}}\n",
       "\n",
       "// Listen for the clearing of the current output cell\n",
       "var outputEl = gd.closest('.output');\n",
       "if (outputEl) {{\n",
       "    x.observe(outputEl, {childList: true});\n",
       "}}\n",
       "\n",
       "                        })                };                });            </script>        </div>"
      ]
     },
     "metadata": {},
     "output_type": "display_data"
    }
   ],
   "source": [
    "#Data Prep\n",
    "df_radiohead_sad_playlist = df_radiohead.sort_values('gloom_index', ascending= False).head(10)\n",
    "df_radiohead_sad_playlist = df_radiohead_sad_playlist.sort_values('gloom_index')\n",
    "\n",
    "#Plot Least Sad Playlist\n",
    "fig = px.scatter(df_radiohead_sad_playlist, x= 'gloom_index', y = 'track_name', color_discrete_sequence= ['yellow'],\n",
    "            labels={'track_name':'Track Name', 'gloom_index':'Gloom Index'},\n",
    "            title= '<b>The Ultimate Radiohead Playlist</b><br>The Numbers-Based Least Sad Edition',\n",
    "            template='plotly_dark', hover_name= 'track_name')\n",
    "\n",
    "#Add Signature\n",
    "fig.add_annotation(text='Data Source: <a href=”https://www.kaggle.com/datasets/lavagod/radiohead/versions/1?resource=download”>Radiohead Data</a> <br>Viz: <a href=”https://twitter.com/_prospecttheory”>@_prospecttheory</a> <br> <br> <br> <br> <br>', \n",
    "                    align='left',\n",
    "                    showarrow=False,\n",
    "                    xref='paper',\n",
    "                    yref='paper',\n",
    "                    x= -1.03,\n",
    "                    y= -0.5)\n",
    "fig.show()"
   ]
  },
  {
   "cell_type": "markdown",
   "id": "731c678d",
   "metadata": {},
   "source": [
    "However, be careful. Let's just say the computer made a few interesting choices here. These tracks won't be a joyous love fest free of any challenging thoughts - it is Radiohead after all. Enjoy them anyway!"
   ]
  }
 ],
 "metadata": {
  "kernelspec": {
   "display_name": "Python 3 (ipykernel)",
   "language": "python",
   "name": "python3"
  },
  "language_info": {
   "codemirror_mode": {
    "name": "ipython",
    "version": 3
   },
   "file_extension": ".py",
   "mimetype": "text/x-python",
   "name": "python",
   "nbconvert_exporter": "python",
   "pygments_lexer": "ipython3",
   "version": "3.11.3"
  },
  "toc": {
   "base_numbering": 1,
   "nav_menu": {},
   "number_sections": true,
   "sideBar": true,
   "skip_h1_title": false,
   "title_cell": "Table of Contents",
   "title_sidebar": "Contents",
   "toc_cell": false,
   "toc_position": {},
   "toc_section_display": true,
   "toc_window_display": false
  },
  "varInspector": {
   "cols": {
    "lenName": 16,
    "lenType": 16,
    "lenVar": 40
   },
   "kernels_config": {
    "python": {
     "delete_cmd_postfix": "",
     "delete_cmd_prefix": "del ",
     "library": "var_list.py",
     "varRefreshCmd": "print(var_dic_list())"
    },
    "r": {
     "delete_cmd_postfix": ") ",
     "delete_cmd_prefix": "rm(",
     "library": "var_list.r",
     "varRefreshCmd": "cat(var_dic_list()) "
    }
   },
   "types_to_exclude": [
    "module",
    "function",
    "builtin_function_or_method",
    "instance",
    "_Feature"
   ],
   "window_display": false
  }
 },
 "nbformat": 4,
 "nbformat_minor": 5
}
